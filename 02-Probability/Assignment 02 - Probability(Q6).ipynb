{
 "cells": [
  {
   "cell_type": "markdown",
   "id": "8f6768db",
   "metadata": {},
   "source": [
    "### Q6 :\n",
    "Q6: A machine produces items of which 1% at random are defective. How many items can be\n",
    "packed in a box while keeping the chance of one or more defectives in the box to be no more\n",
    "than 0.5? What are the expected value and standard deviation of the number of defectives in a\n",
    "box of that size?"
   ]
  },
  {
   "cell_type": "code",
   "execution_count": 1,
   "id": "0f6bc4ac",
   "metadata": {},
   "outputs": [],
   "source": [
    "import numpy as np\n",
    "import matplotlib.pyplot as plt"
   ]
  },
  {
   "cell_type": "code",
   "execution_count": 2,
   "id": "a5a27ea2",
   "metadata": {},
   "outputs": [],
   "source": [
    "# Assuming it to be a bernoulli process. Either an item is defective or not defective \n",
    "\n",
    "p = .01\n",
    "\n",
    "# Assuming that we conduct this for 1000 items, we will get a certain number of items that are defective.\n",
    "# We repeat the same experiment a 1000 times, and populate an array and check the distribution\n",
    "\n",
    "n_defects = np.random.binomial(n=1000, p = .01, size = 1000)\n",
    "\n",
    "\n"
   ]
  },
  {
   "cell_type": "code",
   "execution_count": 17,
   "id": "3c422e35",
   "metadata": {},
   "outputs": [],
   "source": [
    "#Creating an ecdf function\n",
    "def ecdf(data):\n",
    "    \"\"\"Compute ECDF for a one-dimensional array of measurements.\"\"\"\n",
    "    # Number of data points: n\n",
    "    n = len(data)\n",
    "    \n",
    "    # x-data for the ECDF: x\n",
    "    x = np.sort(data)\n",
    "\n",
    "    # y-data for the ECDF: y\n",
    "    y = np.arange(1, n+1) / n\n",
    "        \n",
    "    return x, y\n"
   ]
  },
  {
   "cell_type": "code",
   "execution_count": 18,
   "id": "7b00ec0b",
   "metadata": {
    "scrolled": true
   },
   "outputs": [],
   "source": [
    "x,y = ecdf(n_defects)"
   ]
  },
  {
   "cell_type": "code",
   "execution_count": 21,
   "id": "5c589c81",
   "metadata": {
    "scrolled": true
   },
   "outputs": [
    {
     "data": {
      "image/png": "[encoded data removed]",
      "text/plain": [
       "<Figure size 432x288 with 1 Axes>"
      ]
     },
     "metadata": {
      "needs_background": "light"
     },
     "output_type": "display_data"
    }
   ],
   "source": [
    "n_defects = n_defects\n",
    "count, bins_count = np.histogram(n_defects, bins=5)\n",
    "pdf = count / sum(count)\n",
    "cdf = np.cumsum(pdf)\n",
    "plt.plot(bins_count[1:], cdf, label=\"CDF\")\n",
    "plt.legend()\n",
    "plt.show()"
   ]
  },
  {
   "cell_type": "code",
   "execution_count": 25,
   "id": "e44f58e1",
   "metadata": {},
   "outputs": [
    {
     "name": "stdout",
     "output_type": "stream",
     "text": [
      "[0.062 0.443 0.862 0.99  1.   ]\n",
      "[ 2.   5.8  9.6 13.4 17.2 21. ]\n"
     ]
    }
   ],
   "source": [
    "print(cdf)\n",
    "print(bins_count)"
   ]
  },
  {
   "cell_type": "code",
   "execution_count": 6,
   "id": "ec8216fc",
   "metadata": {},
   "outputs": [
    {
     "name": "stdout",
     "output_type": "stream",
     "text": [
      "[0.001, 0.003, 0.006, 0.01]\n"
     ]
    }
   ],
   "source": [
    "#Calculating cumulative probabilty\n",
    "#If we calculate the total number of items corresponding to the cumulative probability less than 0.5, we will be able to \n",
    "# figure out the answer\n",
    "\n",
    "cumsum = 0 #Placeholder for cumululative probability \n",
    "cumsum_list = []\n",
    "for i in range (0,len(y)):\n",
    "    cumsum += y[i]\n",
    "    cumsum_list.append(cumsum)\n",
    "\n",
    "print(cumsum_list[:4])\n",
    "\n",
    "tuple_list = list(zip(cumsum_list,x))\n"
   ]
  },
  {
   "cell_type": "code",
   "execution_count": 7,
   "id": "52c1a29e",
   "metadata": {},
   "outputs": [
    {
     "name": "stdout",
     "output_type": "stream",
     "text": [
      "[(0.001, 2), (0.003, 2), (0.006, 3), (0.01, 3)]\n"
     ]
    }
   ],
   "source": [
    "print(tuple_list[:4])"
   ]
  },
  {
   "cell_type": "code",
   "execution_count": 8,
   "id": "0ce7bb46",
   "metadata": {},
   "outputs": [
    {
     "name": "stdout",
     "output_type": "stream",
     "text": [
      "The max number of boxes that can be fit are 5\n"
     ]
    }
   ],
   "source": [
    "for i in tuple_list:\n",
    "    if i[0] >= 0.5:\n",
    "        a = i[1]\n",
    "        #print(i[1])\n",
    "        break\n",
    "print('The max number of boxes that can be fit are {a}'.format(a = a))"
   ]
  },
  {
   "cell_type": "markdown",
   "id": "aa920336",
   "metadata": {},
   "source": [
    "### However the cdf plot suggests otherwise, would request feedback"
   ]
  },
  {
   "cell_type": "code",
   "execution_count": null,
   "id": "957db013",
   "metadata": {},
   "outputs": [],
   "source": []
  }
 ],
 "metadata": {
  "hide_input": false,
  "kernelspec": {
   "display_name": "Python 3",
   "language": "python",
   "name": "python3"
  },
  "language_info": {
   "codemirror_mode": {
    "name": "ipython",
    "version": 3
   },
   "file_extension": ".py",
   "mimetype": "text/x-python",
   "name": "python",
   "nbconvert_exporter": "python",
   "pygments_lexer": "ipython3",
   "version": "3.8.8"
  }
 },
 "nbformat": 4,
 "nbformat_minor": 5
}
