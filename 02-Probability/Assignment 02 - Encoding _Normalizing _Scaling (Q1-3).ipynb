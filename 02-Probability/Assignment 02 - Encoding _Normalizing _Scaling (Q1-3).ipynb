{
 "cells": [
  {
   "cell_type": "markdown",
   "id": "d4454bab",
   "metadata": {},
   "source": [
    "### Q1-3 :\n",
    "Encoding/Normalization/Scaling\n",
    "\n",
    "Q1: Refer to the dataset in GitHub: \n",
    "https://github.com/Accelerate-AI/Data-Science-Global-Bootcamp/blob/main/01%20Python/gapminder.csv\n",
    "\n",
    "The “Gapminder” dataset contains the health, life expectancy and GDP information for\n",
    "multiple countries categorized by “Region”. Use encoding techniques (One hot encoding and\n",
    "Label encoding) for the category column “Region” and provide your solution in the form of\n",
    "Jupyter notebook file. Explain which encoding technique should you use and why?\n",
    "\n",
    "For Q2 and Q3, please follow below description: Let's refer free “Wine” Dataset that is\n",
    "deposited on the UCI machine learning repository. You can refer to GitHub for this -\n",
    "\n",
    "https://github.com/Accelerate-AI/Data-Science-Global-Bootcamp/blob/main/01%20Python/wine_data_UCI.csv\n",
    "\n",
    "The Wine dataset consists of 3 different classes/qualities where each row corresponds to a\n",
    "particular wine sample. The \"quality\" features indicate the class/quality of wine and it is\n",
    "represented as (1, 2, 3) and rest of the columns correspond to 13 different attributes\n",
    "(features).\n",
    "Consider the features - the wine quality i.e. \"quality\", \"Alcohol\" (percent/volume) and\n",
    "\"Malicacid\" (g/l).\n",
    "Q2: Do you think feature scaling is required? If yes - Why, If no - why?\n",
    "Q3: If you feel feature scaling is required, then perform Standardization and Normalization and\n",
    "provide your result. What is the difference you observe between these two methods?\n",
    "\n",
    "Provide your solution in the form of Jupyter notebook file wherever applicable."
   ]
  },
  {
   "cell_type": "markdown",
   "id": "60c8a1e2",
   "metadata": {},
   "source": [
    "\n",
    "### Q1 - Dataset - Gapminder data; Task - Encoding the Region column"
   ]
  },
  {
   "cell_type": "code",
   "execution_count": 3,
   "id": "7f680a42",
   "metadata": {},
   "outputs": [],
   "source": [
    "import pandas as pd\n",
    "import numpy as np\n",
    "import matplotlib.pyplot as plt"
   ]
  },
  {
   "cell_type": "code",
   "execution_count": 12,
   "id": "74e3c894",
   "metadata": {
    "scrolled": true
   },
   "outputs": [],
   "source": [
    "df_gapminder = pd.read_csv('gapminder.csv')"
   ]
  },
  {
   "cell_type": "code",
   "execution_count": 13,
   "id": "fe6ef96c",
   "metadata": {},
   "outputs": [
    {
     "data": {
      "text/html": [
       "<div>\n",
       "<style scoped>\n",
       "    .dataframe tbody tr th:only-of-type {\n",
       "        vertical-align: middle;\n",
       "    }\n",
       "\n",
       "    .dataframe tbody tr th {\n",
       "        vertical-align: top;\n",
       "    }\n",
       "\n",
       "    .dataframe thead th {\n",
       "        text-align: right;\n",
       "    }\n",
       "</style>\n",
       "<table border=\"1\" class=\"dataframe\">\n",
       "  <thead>\n",
       "    <tr style=\"text-align: right;\">\n",
       "      <th></th>\n",
       "      <th>population</th>\n",
       "      <th>fertility</th>\n",
       "      <th>HIV</th>\n",
       "      <th>CO2</th>\n",
       "      <th>BMI_male</th>\n",
       "      <th>GDP</th>\n",
       "      <th>BMI_female</th>\n",
       "      <th>life</th>\n",
       "      <th>child_mortality</th>\n",
       "      <th>Region</th>\n",
       "    </tr>\n",
       "  </thead>\n",
       "  <tbody>\n",
       "    <tr>\n",
       "      <th>0</th>\n",
       "      <td>34811059.0</td>\n",
       "      <td>2.73</td>\n",
       "      <td>0.1</td>\n",
       "      <td>3.328945</td>\n",
       "      <td>24.59620</td>\n",
       "      <td>12314.0</td>\n",
       "      <td>129.9049</td>\n",
       "      <td>75.3</td>\n",
       "      <td>29.5</td>\n",
       "      <td>Middle East &amp; North Africa</td>\n",
       "    </tr>\n",
       "    <tr>\n",
       "      <th>1</th>\n",
       "      <td>19842251.0</td>\n",
       "      <td>6.43</td>\n",
       "      <td>2.0</td>\n",
       "      <td>1.474353</td>\n",
       "      <td>22.25083</td>\n",
       "      <td>7103.0</td>\n",
       "      <td>130.1247</td>\n",
       "      <td>58.3</td>\n",
       "      <td>192.0</td>\n",
       "      <td>Sub-Saharan Africa</td>\n",
       "    </tr>\n",
       "    <tr>\n",
       "      <th>2</th>\n",
       "      <td>40381860.0</td>\n",
       "      <td>2.24</td>\n",
       "      <td>0.5</td>\n",
       "      <td>4.785170</td>\n",
       "      <td>27.50170</td>\n",
       "      <td>14646.0</td>\n",
       "      <td>118.8915</td>\n",
       "      <td>75.5</td>\n",
       "      <td>15.4</td>\n",
       "      <td>America</td>\n",
       "    </tr>\n",
       "    <tr>\n",
       "      <th>3</th>\n",
       "      <td>2975029.0</td>\n",
       "      <td>1.40</td>\n",
       "      <td>0.1</td>\n",
       "      <td>1.804106</td>\n",
       "      <td>25.35542</td>\n",
       "      <td>7383.0</td>\n",
       "      <td>132.8108</td>\n",
       "      <td>72.5</td>\n",
       "      <td>20.0</td>\n",
       "      <td>Europe &amp; Central Asia</td>\n",
       "    </tr>\n",
       "    <tr>\n",
       "      <th>4</th>\n",
       "      <td>21370348.0</td>\n",
       "      <td>1.96</td>\n",
       "      <td>0.1</td>\n",
       "      <td>18.016313</td>\n",
       "      <td>27.56373</td>\n",
       "      <td>41312.0</td>\n",
       "      <td>117.3755</td>\n",
       "      <td>81.5</td>\n",
       "      <td>5.2</td>\n",
       "      <td>East Asia &amp; Pacific</td>\n",
       "    </tr>\n",
       "  </tbody>\n",
       "</table>\n",
       "</div>"
      ],
      "text/plain": [
       "   population  fertility  HIV        CO2  BMI_male      GDP  BMI_female  life  \\\n",
       "0  34811059.0       2.73  0.1   3.328945  24.59620  12314.0    129.9049  75.3   \n",
       "1  19842251.0       6.43  2.0   1.474353  22.25083   7103.0    130.1247  58.3   \n",
       "2  40381860.0       2.24  0.5   4.785170  27.50170  14646.0    118.8915  75.5   \n",
       "3   2975029.0       1.40  0.1   1.804106  25.35542   7383.0    132.8108  72.5   \n",
       "4  21370348.0       1.96  0.1  18.016313  27.56373  41312.0    117.3755  81.5   \n",
       "\n",
       "   child_mortality                      Region  \n",
       "0             29.5  Middle East & North Africa  \n",
       "1            192.0          Sub-Saharan Africa  \n",
       "2             15.4                     America  \n",
       "3             20.0       Europe & Central Asia  \n",
       "4              5.2         East Asia & Pacific  "
      ]
     },
     "execution_count": 13,
     "metadata": {},
     "output_type": "execute_result"
    }
   ],
   "source": [
    "df_gapminder.head()"
   ]
  },
  {
   "cell_type": "code",
   "execution_count": 14,
   "id": "f233d5a3",
   "metadata": {},
   "outputs": [
    {
     "data": {
      "text/plain": [
       "Europe & Central Asia         41\n",
       "Sub-Saharan Africa            40\n",
       "America                       27\n",
       "East Asia & Pacific           14\n",
       "Middle East & North Africa    10\n",
       "South Asia                     7\n",
       "Name: Region, dtype: int64"
      ]
     },
     "execution_count": 14,
     "metadata": {},
     "output_type": "execute_result"
    }
   ],
   "source": [
    "df_gapminder['Region'].value_counts()"
   ]
  },
  {
   "cell_type": "code",
   "execution_count": 17,
   "id": "30cfcdd4",
   "metadata": {},
   "outputs": [
    {
     "data": {
      "text/html": [
       "<div>\n",
       "<style scoped>\n",
       "    .dataframe tbody tr th:only-of-type {\n",
       "        vertical-align: middle;\n",
       "    }\n",
       "\n",
       "    .dataframe tbody tr th {\n",
       "        vertical-align: top;\n",
       "    }\n",
       "\n",
       "    .dataframe thead th {\n",
       "        text-align: right;\n",
       "    }\n",
       "</style>\n",
       "<table border=\"1\" class=\"dataframe\">\n",
       "  <thead>\n",
       "    <tr style=\"text-align: right;\">\n",
       "      <th></th>\n",
       "      <th>population</th>\n",
       "      <th>fertility</th>\n",
       "      <th>HIV</th>\n",
       "      <th>CO2</th>\n",
       "      <th>BMI_male</th>\n",
       "      <th>GDP</th>\n",
       "      <th>BMI_female</th>\n",
       "      <th>life</th>\n",
       "      <th>child_mortality</th>\n",
       "      <th>Reg_America</th>\n",
       "      <th>Reg_East Asia &amp; Pacific</th>\n",
       "      <th>Reg_Europe &amp; Central Asia</th>\n",
       "      <th>Reg_Middle East &amp; North Africa</th>\n",
       "      <th>Reg_South Asia</th>\n",
       "      <th>Reg_Sub-Saharan Africa</th>\n",
       "    </tr>\n",
       "  </thead>\n",
       "  <tbody>\n",
       "    <tr>\n",
       "      <th>0</th>\n",
       "      <td>34811059.0</td>\n",
       "      <td>2.73</td>\n",
       "      <td>0.1</td>\n",
       "      <td>3.328945</td>\n",
       "      <td>24.59620</td>\n",
       "      <td>12314.0</td>\n",
       "      <td>129.9049</td>\n",
       "      <td>75.3</td>\n",
       "      <td>29.5</td>\n",
       "      <td>0</td>\n",
       "      <td>0</td>\n",
       "      <td>0</td>\n",
       "      <td>1</td>\n",
       "      <td>0</td>\n",
       "      <td>0</td>\n",
       "    </tr>\n",
       "    <tr>\n",
       "      <th>1</th>\n",
       "      <td>19842251.0</td>\n",
       "      <td>6.43</td>\n",
       "      <td>2.0</td>\n",
       "      <td>1.474353</td>\n",
       "      <td>22.25083</td>\n",
       "      <td>7103.0</td>\n",
       "      <td>130.1247</td>\n",
       "      <td>58.3</td>\n",
       "      <td>192.0</td>\n",
       "      <td>0</td>\n",
       "      <td>0</td>\n",
       "      <td>0</td>\n",
       "      <td>0</td>\n",
       "      <td>0</td>\n",
       "      <td>1</td>\n",
       "    </tr>\n",
       "    <tr>\n",
       "      <th>2</th>\n",
       "      <td>40381860.0</td>\n",
       "      <td>2.24</td>\n",
       "      <td>0.5</td>\n",
       "      <td>4.785170</td>\n",
       "      <td>27.50170</td>\n",
       "      <td>14646.0</td>\n",
       "      <td>118.8915</td>\n",
       "      <td>75.5</td>\n",
       "      <td>15.4</td>\n",
       "      <td>1</td>\n",
       "      <td>0</td>\n",
       "      <td>0</td>\n",
       "      <td>0</td>\n",
       "      <td>0</td>\n",
       "      <td>0</td>\n",
       "    </tr>\n",
       "    <tr>\n",
       "      <th>3</th>\n",
       "      <td>2975029.0</td>\n",
       "      <td>1.40</td>\n",
       "      <td>0.1</td>\n",
       "      <td>1.804106</td>\n",
       "      <td>25.35542</td>\n",
       "      <td>7383.0</td>\n",
       "      <td>132.8108</td>\n",
       "      <td>72.5</td>\n",
       "      <td>20.0</td>\n",
       "      <td>0</td>\n",
       "      <td>0</td>\n",
       "      <td>1</td>\n",
       "      <td>0</td>\n",
       "      <td>0</td>\n",
       "      <td>0</td>\n",
       "    </tr>\n",
       "    <tr>\n",
       "      <th>4</th>\n",
       "      <td>21370348.0</td>\n",
       "      <td>1.96</td>\n",
       "      <td>0.1</td>\n",
       "      <td>18.016313</td>\n",
       "      <td>27.56373</td>\n",
       "      <td>41312.0</td>\n",
       "      <td>117.3755</td>\n",
       "      <td>81.5</td>\n",
       "      <td>5.2</td>\n",
       "      <td>0</td>\n",
       "      <td>1</td>\n",
       "      <td>0</td>\n",
       "      <td>0</td>\n",
       "      <td>0</td>\n",
       "      <td>0</td>\n",
       "    </tr>\n",
       "  </tbody>\n",
       "</table>\n",
       "</div>"
      ],
      "text/plain": [
       "   population  fertility  HIV        CO2  BMI_male      GDP  BMI_female  life  \\\n",
       "0  34811059.0       2.73  0.1   3.328945  24.59620  12314.0    129.9049  75.3   \n",
       "1  19842251.0       6.43  2.0   1.474353  22.25083   7103.0    130.1247  58.3   \n",
       "2  40381860.0       2.24  0.5   4.785170  27.50170  14646.0    118.8915  75.5   \n",
       "3   2975029.0       1.40  0.1   1.804106  25.35542   7383.0    132.8108  72.5   \n",
       "4  21370348.0       1.96  0.1  18.016313  27.56373  41312.0    117.3755  81.5   \n",
       "\n",
       "   child_mortality  Reg_America  Reg_East Asia & Pacific  \\\n",
       "0             29.5            0                        0   \n",
       "1            192.0            0                        0   \n",
       "2             15.4            1                        0   \n",
       "3             20.0            0                        0   \n",
       "4              5.2            0                        1   \n",
       "\n",
       "   Reg_Europe & Central Asia  Reg_Middle East & North Africa  Reg_South Asia  \\\n",
       "0                          0                               1               0   \n",
       "1                          0                               0               0   \n",
       "2                          0                               0               0   \n",
       "3                          1                               0               0   \n",
       "4                          0                               0               0   \n",
       "\n",
       "   Reg_Sub-Saharan Africa  \n",
       "0                       0  \n",
       "1                       1  \n",
       "2                       0  \n",
       "3                       0  \n",
       "4                       0  "
      ]
     },
     "execution_count": 17,
     "metadata": {},
     "output_type": "execute_result"
    }
   ],
   "source": [
    "#We should use One-Hot Encoding as the features are non-hierarchical (Label encoding is preferred when the features are ordinal)\n",
    "\n",
    "one_hot_encoded_df_gapminder = pd.get_dummies(df_gapminder, columns = ['Region'], prefix = 'Reg')\n",
    "one_hot_encoded_df_gapminder.head()\n"
   ]
  },
  {
   "cell_type": "code",
   "execution_count": 18,
   "id": "5215b05c",
   "metadata": {},
   "outputs": [
    {
     "data": {
      "text/plain": [
       "0    112\n",
       "1     27\n",
       "Name: Reg_America, dtype: int64"
      ]
     },
     "execution_count": 18,
     "metadata": {},
     "output_type": "execute_result"
    }
   ],
   "source": [
    "#Checking the value counts for America region to match with original\n",
    "one_hot_encoded_df_gapminder['Reg_America'].value_counts()\n",
    "\n",
    "#Thus we can see that the count of 27 matches with the original dataframe"
   ]
  },
  {
   "cell_type": "code",
   "execution_count": 20,
   "id": "b70c4e5e",
   "metadata": {},
   "outputs": [
    {
     "data": {
      "text/html": [
       "<div>\n",
       "<style scoped>\n",
       "    .dataframe tbody tr th:only-of-type {\n",
       "        vertical-align: middle;\n",
       "    }\n",
       "\n",
       "    .dataframe tbody tr th {\n",
       "        vertical-align: top;\n",
       "    }\n",
       "\n",
       "    .dataframe thead th {\n",
       "        text-align: right;\n",
       "    }\n",
       "</style>\n",
       "<table border=\"1\" class=\"dataframe\">\n",
       "  <thead>\n",
       "    <tr style=\"text-align: right;\">\n",
       "      <th></th>\n",
       "      <th>Region</th>\n",
       "      <th>Region_Codes</th>\n",
       "    </tr>\n",
       "  </thead>\n",
       "  <tbody>\n",
       "    <tr>\n",
       "      <th>0</th>\n",
       "      <td>Middle East &amp; North Africa</td>\n",
       "      <td>3</td>\n",
       "    </tr>\n",
       "    <tr>\n",
       "      <th>1</th>\n",
       "      <td>Sub-Saharan Africa</td>\n",
       "      <td>5</td>\n",
       "    </tr>\n",
       "    <tr>\n",
       "      <th>2</th>\n",
       "      <td>America</td>\n",
       "      <td>0</td>\n",
       "    </tr>\n",
       "    <tr>\n",
       "      <th>3</th>\n",
       "      <td>Europe &amp; Central Asia</td>\n",
       "      <td>2</td>\n",
       "    </tr>\n",
       "    <tr>\n",
       "      <th>4</th>\n",
       "      <td>East Asia &amp; Pacific</td>\n",
       "      <td>1</td>\n",
       "    </tr>\n",
       "    <tr>\n",
       "      <th>...</th>\n",
       "      <td>...</td>\n",
       "      <td>...</td>\n",
       "    </tr>\n",
       "    <tr>\n",
       "      <th>134</th>\n",
       "      <td>America</td>\n",
       "      <td>0</td>\n",
       "    </tr>\n",
       "    <tr>\n",
       "      <th>135</th>\n",
       "      <td>Europe &amp; Central Asia</td>\n",
       "      <td>2</td>\n",
       "    </tr>\n",
       "    <tr>\n",
       "      <th>136</th>\n",
       "      <td>East Asia &amp; Pacific</td>\n",
       "      <td>1</td>\n",
       "    </tr>\n",
       "    <tr>\n",
       "      <th>137</th>\n",
       "      <td>Sub-Saharan Africa</td>\n",
       "      <td>5</td>\n",
       "    </tr>\n",
       "    <tr>\n",
       "      <th>138</th>\n",
       "      <td>Sub-Saharan Africa</td>\n",
       "      <td>5</td>\n",
       "    </tr>\n",
       "  </tbody>\n",
       "</table>\n",
       "<p>139 rows × 2 columns</p>\n",
       "</div>"
      ],
      "text/plain": [
       "                         Region  Region_Codes\n",
       "0    Middle East & North Africa             3\n",
       "1            Sub-Saharan Africa             5\n",
       "2                       America             0\n",
       "3         Europe & Central Asia             2\n",
       "4           East Asia & Pacific             1\n",
       "..                          ...           ...\n",
       "134                     America             0\n",
       "135       Europe & Central Asia             2\n",
       "136         East Asia & Pacific             1\n",
       "137          Sub-Saharan Africa             5\n",
       "138          Sub-Saharan Africa             5\n",
       "\n",
       "[139 rows x 2 columns]"
      ]
     },
     "execution_count": 20,
     "metadata": {},
     "output_type": "execute_result"
    }
   ],
   "source": [
    "#Also carrying out Label Encoding for practice, but recommended one hot encoding only\n",
    "\n",
    "#Step 1 - Copying the existing dataframe into a new one\n",
    "\n",
    "label_encoded_df_gapminder = df_gapminder\n",
    "\n",
    "#Step 2 - Converting the 'Region' column's datatype to 'category'\n",
    "\n",
    "label_encoded_df_gapminder['Region'] = label_encoded_df_gapminder['Region'].astype('category')\n",
    "\n",
    "#Step 3 - Applying the Label Encoding method and creating a new column for the codes\n",
    "\n",
    "label_encoded_df_gapminder['Region_Codes'] = label_encoded_df_gapminder['Region'].cat.codes\n",
    "\n",
    "#Step 4 - Checking how the codes are being displayed\n",
    "label_encoded_df_gapminder[['Region','Region_Codes']]\n"
   ]
  },
  {
   "cell_type": "code",
   "execution_count": 25,
   "id": "4477b25b",
   "metadata": {},
   "outputs": [
    {
     "name": "stdout",
     "output_type": "stream",
     "text": [
      "2    41\n",
      "5    40\n",
      "0    27\n",
      "1    14\n",
      "3    10\n",
      "4     7\n",
      "Name: Region_Codes, dtype: int64\n",
      "\n",
      "\n",
      "Europe & Central Asia         41\n",
      "Sub-Saharan Africa            40\n",
      "America                       27\n",
      "East Asia & Pacific           14\n",
      "Middle East & North Africa    10\n",
      "South Asia                     7\n",
      "Name: Region, dtype: int64\n"
     ]
    }
   ],
   "source": [
    "#Checking the value counts for Region_codes\n",
    "\n",
    "print(label_encoded_df_gapminder['Region_Codes'].value_counts())\n",
    "\n",
    "print('\\n')\n",
    "\n",
    "print(df_gapminder['Region'].value_counts())"
   ]
  },
  {
   "cell_type": "markdown",
   "id": "ad586629",
   "metadata": {},
   "source": [
    "### Q2/3 - Dataset - Wine; Task - Standardization / Normalization"
   ]
  },
  {
   "cell_type": "markdown",
   "id": "22387687",
   "metadata": {},
   "source": [
    "For Q2 and Q3, please follow below description: Let's refer free “Wine” Dataset that is\n",
    "deposited on the UCI machine learning repository. You can refer to GitHub for this -\n",
    "\n",
    "https://github.com/Accelerate-AI/Data-Science-Global-Bootcamp/blob/main/01%20Python/wine_data_UCI.csv\n",
    "\n",
    "The Wine dataset consists of 3 different classes/qualities where each row corresponds to a\n",
    "particular wine sample. The \"quality\" features indicate the class/quality of wine and it is\n",
    "represented as (1, 2, 3) and rest of the columns correspond to 13 different attributes\n",
    "(features).\n",
    "Consider the features - the wine quality i.e. \"quality\", \"Alcohol\" (percent/volume) and\n",
    "\"Malicacid\" (g/l).\n",
    "Q2: Do you think feature scaling is required? If yes - Why, If no - why?\n",
    "Q3: If you feel feature scaling is required, then perform Standardization and Normalization and\n",
    "provide your result. What is the difference you observe between these two methods?\n",
    "\n",
    "Provide your solution in the form of Jupyter notebook file wherever applicable."
   ]
  },
  {
   "cell_type": "code",
   "execution_count": 26,
   "id": "7d9925a6",
   "metadata": {},
   "outputs": [],
   "source": [
    "df_wine = pd.read_csv('wine_data_UCI.csv')"
   ]
  },
  {
   "cell_type": "code",
   "execution_count": 74,
   "id": "1f81bec7",
   "metadata": {},
   "outputs": [],
   "source": [
    "import seaborn as sns"
   ]
  },
  {
   "cell_type": "code",
   "execution_count": 27,
   "id": "efff3715",
   "metadata": {},
   "outputs": [
    {
     "data": {
      "text/html": [
       "<div>\n",
       "<style scoped>\n",
       "    .dataframe tbody tr th:only-of-type {\n",
       "        vertical-align: middle;\n",
       "    }\n",
       "\n",
       "    .dataframe tbody tr th {\n",
       "        vertical-align: top;\n",
       "    }\n",
       "\n",
       "    .dataframe thead th {\n",
       "        text-align: right;\n",
       "    }\n",
       "</style>\n",
       "<table border=\"1\" class=\"dataframe\">\n",
       "  <thead>\n",
       "    <tr style=\"text-align: right;\">\n",
       "      <th></th>\n",
       "      <th>quality</th>\n",
       "      <th>Alcohol</th>\n",
       "      <th>Malicacid</th>\n",
       "      <th>Ash</th>\n",
       "      <th>Alcalinity_of_ash</th>\n",
       "      <th>Magnesium</th>\n",
       "      <th>Total_phenols</th>\n",
       "      <th>Flavanoids</th>\n",
       "      <th>Nonflavanoid_phenols</th>\n",
       "      <th>Proanthocyanins</th>\n",
       "      <th>Color_intensity</th>\n",
       "      <th>Hue</th>\n",
       "      <th>0D280_0D315_of_diluted_wines</th>\n",
       "      <th>Proline</th>\n",
       "    </tr>\n",
       "  </thead>\n",
       "  <tbody>\n",
       "    <tr>\n",
       "      <th>0</th>\n",
       "      <td>1</td>\n",
       "      <td>14.23</td>\n",
       "      <td>1.71</td>\n",
       "      <td>2.43</td>\n",
       "      <td>15.6</td>\n",
       "      <td>127</td>\n",
       "      <td>2.80</td>\n",
       "      <td>3.06</td>\n",
       "      <td>0.28</td>\n",
       "      <td>2.29</td>\n",
       "      <td>5.64</td>\n",
       "      <td>1.04</td>\n",
       "      <td>3.92</td>\n",
       "      <td>1065</td>\n",
       "    </tr>\n",
       "    <tr>\n",
       "      <th>1</th>\n",
       "      <td>1</td>\n",
       "      <td>13.20</td>\n",
       "      <td>1.78</td>\n",
       "      <td>2.14</td>\n",
       "      <td>11.2</td>\n",
       "      <td>100</td>\n",
       "      <td>2.65</td>\n",
       "      <td>2.76</td>\n",
       "      <td>0.26</td>\n",
       "      <td>1.28</td>\n",
       "      <td>4.38</td>\n",
       "      <td>1.05</td>\n",
       "      <td>3.40</td>\n",
       "      <td>1050</td>\n",
       "    </tr>\n",
       "    <tr>\n",
       "      <th>2</th>\n",
       "      <td>1</td>\n",
       "      <td>13.16</td>\n",
       "      <td>2.36</td>\n",
       "      <td>2.67</td>\n",
       "      <td>18.6</td>\n",
       "      <td>101</td>\n",
       "      <td>2.80</td>\n",
       "      <td>3.24</td>\n",
       "      <td>0.30</td>\n",
       "      <td>2.81</td>\n",
       "      <td>5.68</td>\n",
       "      <td>1.03</td>\n",
       "      <td>3.17</td>\n",
       "      <td>1185</td>\n",
       "    </tr>\n",
       "    <tr>\n",
       "      <th>3</th>\n",
       "      <td>1</td>\n",
       "      <td>14.37</td>\n",
       "      <td>1.95</td>\n",
       "      <td>2.50</td>\n",
       "      <td>16.8</td>\n",
       "      <td>113</td>\n",
       "      <td>3.85</td>\n",
       "      <td>3.49</td>\n",
       "      <td>0.24</td>\n",
       "      <td>2.18</td>\n",
       "      <td>7.80</td>\n",
       "      <td>0.86</td>\n",
       "      <td>3.45</td>\n",
       "      <td>1480</td>\n",
       "    </tr>\n",
       "    <tr>\n",
       "      <th>4</th>\n",
       "      <td>1</td>\n",
       "      <td>13.24</td>\n",
       "      <td>2.59</td>\n",
       "      <td>2.87</td>\n",
       "      <td>21.0</td>\n",
       "      <td>118</td>\n",
       "      <td>2.80</td>\n",
       "      <td>2.69</td>\n",
       "      <td>0.39</td>\n",
       "      <td>1.82</td>\n",
       "      <td>4.32</td>\n",
       "      <td>1.04</td>\n",
       "      <td>2.93</td>\n",
       "      <td>735</td>\n",
       "    </tr>\n",
       "  </tbody>\n",
       "</table>\n",
       "</div>"
      ],
      "text/plain": [
       "   quality  Alcohol  Malicacid   Ash  Alcalinity_of_ash  Magnesium  \\\n",
       "0        1    14.23       1.71  2.43               15.6        127   \n",
       "1        1    13.20       1.78  2.14               11.2        100   \n",
       "2        1    13.16       2.36  2.67               18.6        101   \n",
       "3        1    14.37       1.95  2.50               16.8        113   \n",
       "4        1    13.24       2.59  2.87               21.0        118   \n",
       "\n",
       "   Total_phenols  Flavanoids  Nonflavanoid_phenols  Proanthocyanins  \\\n",
       "0           2.80        3.06                  0.28             2.29   \n",
       "1           2.65        2.76                  0.26             1.28   \n",
       "2           2.80        3.24                  0.30             2.81   \n",
       "3           3.85        3.49                  0.24             2.18   \n",
       "4           2.80        2.69                  0.39             1.82   \n",
       "\n",
       "   Color_intensity   Hue  0D280_0D315_of_diluted_wines  Proline  \n",
       "0             5.64  1.04                          3.92     1065  \n",
       "1             4.38  1.05                          3.40     1050  \n",
       "2             5.68  1.03                          3.17     1185  \n",
       "3             7.80  0.86                          3.45     1480  \n",
       "4             4.32  1.04                          2.93      735  "
      ]
     },
     "execution_count": 27,
     "metadata": {},
     "output_type": "execute_result"
    }
   ],
   "source": [
    "df_wine.head()"
   ]
  },
  {
   "cell_type": "code",
   "execution_count": 28,
   "id": "c064bf56",
   "metadata": {},
   "outputs": [
    {
     "data": {
      "text/html": [
       "<div>\n",
       "<style scoped>\n",
       "    .dataframe tbody tr th:only-of-type {\n",
       "        vertical-align: middle;\n",
       "    }\n",
       "\n",
       "    .dataframe tbody tr th {\n",
       "        vertical-align: top;\n",
       "    }\n",
       "\n",
       "    .dataframe thead th {\n",
       "        text-align: right;\n",
       "    }\n",
       "</style>\n",
       "<table border=\"1\" class=\"dataframe\">\n",
       "  <thead>\n",
       "    <tr style=\"text-align: right;\">\n",
       "      <th></th>\n",
       "      <th>quality</th>\n",
       "      <th>Alcohol</th>\n",
       "      <th>Malicacid</th>\n",
       "    </tr>\n",
       "  </thead>\n",
       "  <tbody>\n",
       "    <tr>\n",
       "      <th>0</th>\n",
       "      <td>1</td>\n",
       "      <td>14.23</td>\n",
       "      <td>1.71</td>\n",
       "    </tr>\n",
       "    <tr>\n",
       "      <th>1</th>\n",
       "      <td>1</td>\n",
       "      <td>13.20</td>\n",
       "      <td>1.78</td>\n",
       "    </tr>\n",
       "    <tr>\n",
       "      <th>2</th>\n",
       "      <td>1</td>\n",
       "      <td>13.16</td>\n",
       "      <td>2.36</td>\n",
       "    </tr>\n",
       "    <tr>\n",
       "      <th>3</th>\n",
       "      <td>1</td>\n",
       "      <td>14.37</td>\n",
       "      <td>1.95</td>\n",
       "    </tr>\n",
       "    <tr>\n",
       "      <th>4</th>\n",
       "      <td>1</td>\n",
       "      <td>13.24</td>\n",
       "      <td>2.59</td>\n",
       "    </tr>\n",
       "  </tbody>\n",
       "</table>\n",
       "</div>"
      ],
      "text/plain": [
       "   quality  Alcohol  Malicacid\n",
       "0        1    14.23       1.71\n",
       "1        1    13.20       1.78\n",
       "2        1    13.16       2.36\n",
       "3        1    14.37       1.95\n",
       "4        1    13.24       2.59"
      ]
     },
     "execution_count": 28,
     "metadata": {},
     "output_type": "execute_result"
    }
   ],
   "source": [
    "#Since only three features are under consideration, we copy them to a different data frame\n",
    "\n",
    "feature_list = ['quality','Alcohol','Malicacid']\n",
    "df2_wine = df_wine[feature_list]\n",
    "\n",
    "df2_wine.head()"
   ]
  },
  {
   "cell_type": "code",
   "execution_count": 29,
   "id": "5b2fb908",
   "metadata": {
    "scrolled": true
   },
   "outputs": [
    {
     "data": {
      "text/plain": [
       "[<matplotlib.lines.Line2D at 0x221112dcc10>]"
      ]
     },
     "execution_count": 29,
     "metadata": {},
     "output_type": "execute_result"
    },
    {
     "data": {
      "image/png": "[encoded data removed]",
      "text/plain": [
       "<Figure size 432x288 with 1 Axes>"
      ]
     },
     "metadata": {
      "needs_background": "light"
     },
     "output_type": "display_data"
    }
   ],
   "source": [
    "#To answer the question, we also explore via plots\n",
    "plt.plot(df2_wine['Alcohol'])"
   ]
  },
  {
   "cell_type": "code",
   "execution_count": 75,
   "id": "42ae2b96",
   "metadata": {},
   "outputs": [
    {
     "name": "stderr",
     "output_type": "stream",
     "text": [
      "C:\\Users\\NageshN\\anaconda3\\lib\\site-packages\\seaborn\\_decorators.py:36: FutureWarning: Pass the following variable as a keyword arg: x. From version 0.12, the only valid positional argument will be `data`, and passing other arguments without an explicit keyword will result in an error or misinterpretation.\n",
      "  warnings.warn(\n"
     ]
    },
    {
     "data": {
      "text/plain": [
       "<AxesSubplot:xlabel='Alcohol'>"
      ]
     },
     "execution_count": 75,
     "metadata": {},
     "output_type": "execute_result"
    },
    {
     "data": {
      "image/png": "[encoded data removed]",
      "text/plain": [
       "<Figure size 432x288 with 1 Axes>"
      ]
     },
     "metadata": {
      "needs_background": "light"
     },
     "output_type": "display_data"
    }
   ],
   "source": [
    "sns.boxplot(df2_wine['Alcohol'])"
   ]
  },
  {
   "cell_type": "code",
   "execution_count": 30,
   "id": "d434570e",
   "metadata": {
    "scrolled": true
   },
   "outputs": [
    {
     "data": {
      "text/plain": [
       "[<matplotlib.lines.Line2D at 0x22111a1b8b0>]"
      ]
     },
     "execution_count": 30,
     "metadata": {},
     "output_type": "execute_result"
    },
    {
     "data": {
      "image/png": "[encoded data removed]",
      "text/plain": [
       "<Figure size 432x288 with 1 Axes>"
      ]
     },
     "metadata": {
      "needs_background": "light"
     },
     "output_type": "display_data"
    }
   ],
   "source": [
    "plt.plot(df2_wine['Malicacid'])"
   ]
  },
  {
   "cell_type": "code",
   "execution_count": 76,
   "id": "307bcdc7",
   "metadata": {},
   "outputs": [
    {
     "name": "stderr",
     "output_type": "stream",
     "text": [
      "C:\\Users\\NageshN\\anaconda3\\lib\\site-packages\\seaborn\\_decorators.py:36: FutureWarning: Pass the following variable as a keyword arg: x. From version 0.12, the only valid positional argument will be `data`, and passing other arguments without an explicit keyword will result in an error or misinterpretation.\n",
      "  warnings.warn(\n"
     ]
    },
    {
     "data": {
      "text/plain": [
       "<AxesSubplot:xlabel='Malicacid'>"
      ]
     },
     "execution_count": 76,
     "metadata": {},
     "output_type": "execute_result"
    },
    {
     "data": {
      "image/png": "[encoded data removed]",
      "text/plain": [
       "<Figure size 432x288 with 1 Axes>"
      ]
     },
     "metadata": {
      "needs_background": "light"
     },
     "output_type": "display_data"
    }
   ],
   "source": [
    "sns.boxplot(df2_wine['Malicacid'])"
   ]
  },
  {
   "cell_type": "code",
   "execution_count": 31,
   "id": "b3e3cb43",
   "metadata": {
    "scrolled": true
   },
   "outputs": [
    {
     "data": {
      "text/plain": [
       "[<matplotlib.lines.Line2D at 0x22111a5edf0>]"
      ]
     },
     "execution_count": 31,
     "metadata": {},
     "output_type": "execute_result"
    },
    {
     "data": {
      "image/png": "[encoded data removed]",
      "text/plain": [
       "<Figure size 432x288 with 1 Axes>"
      ]
     },
     "metadata": {
      "needs_background": "light"
     },
     "output_type": "display_data"
    }
   ],
   "source": [
    "plt.plot(df2_wine['quality'])"
   ]
  },
  {
   "cell_type": "code",
   "execution_count": 77,
   "id": "08d15467",
   "metadata": {},
   "outputs": [
    {
     "name": "stderr",
     "output_type": "stream",
     "text": [
      "C:\\Users\\NageshN\\anaconda3\\lib\\site-packages\\seaborn\\_decorators.py:36: FutureWarning: Pass the following variable as a keyword arg: x. From version 0.12, the only valid positional argument will be `data`, and passing other arguments without an explicit keyword will result in an error or misinterpretation.\n",
      "  warnings.warn(\n"
     ]
    },
    {
     "data": {
      "text/plain": [
       "<AxesSubplot:xlabel='quality'>"
      ]
     },
     "execution_count": 77,
     "metadata": {},
     "output_type": "execute_result"
    },
    {
     "data": {
      "image/png": "[encoded data removed]",
      "text/plain": [
       "<Figure size 432x288 with 1 Axes>"
      ]
     },
     "metadata": {
      "needs_background": "light"
     },
     "output_type": "display_data"
    }
   ],
   "source": [
    "sns.boxplot(df2_wine['quality'])"
   ]
  },
  {
   "cell_type": "markdown",
   "id": "5520f7d7",
   "metadata": {},
   "source": [
    "### Ans 2 - Scaling is required. The reason is that when we calculate how two features are correlated, we may get get very high values. Say a unit movement in Malicacid levels could give a two-unit movement in Alcohol levels, but if they are scaled, the proportional movements would be more accurate and representative. Would recommend Normalization (Min Max) scaling"
   ]
  },
  {
   "cell_type": "code",
   "execution_count": 64,
   "id": "4d40aadb",
   "metadata": {},
   "outputs": [
    {
     "name": "stderr",
     "output_type": "stream",
     "text": [
      "<ipython-input-64-9a643ad0bfd9>:24: SettingWithCopyWarning: \n",
      "A value is trying to be set on a copy of a slice from a DataFrame.\n",
      "Try using .loc[row_indexer,col_indexer] = value instead\n",
      "\n",
      "See the caveats in the documentation: https://pandas.pydata.org/pandas-docs/stable/user_guide/indexing.html#returning-a-view-versus-a-copy\n",
      "  df2_wine['SS_Alcohol'] = ss_object.fit_transform(df2_wine[['Alcohol']])\n",
      "<ipython-input-64-9a643ad0bfd9>:25: SettingWithCopyWarning: \n",
      "A value is trying to be set on a copy of a slice from a DataFrame.\n",
      "Try using .loc[row_indexer,col_indexer] = value instead\n",
      "\n",
      "See the caveats in the documentation: https://pandas.pydata.org/pandas-docs/stable/user_guide/indexing.html#returning-a-view-versus-a-copy\n",
      "  df2_wine['SS_Malicacid'] = ss_object.fit_transform(df2_wine[['Malicacid']])\n",
      "<ipython-input-64-9a643ad0bfd9>:26: SettingWithCopyWarning: \n",
      "A value is trying to be set on a copy of a slice from a DataFrame.\n",
      "Try using .loc[row_indexer,col_indexer] = value instead\n",
      "\n",
      "See the caveats in the documentation: https://pandas.pydata.org/pandas-docs/stable/user_guide/indexing.html#returning-a-view-versus-a-copy\n",
      "  df2_wine['SS_quality'] = ss_object.fit_transform(df2_wine[['quality']])\n",
      "<ipython-input-64-9a643ad0bfd9>:30: SettingWithCopyWarning: \n",
      "A value is trying to be set on a copy of a slice from a DataFrame.\n",
      "Try using .loc[row_indexer,col_indexer] = value instead\n",
      "\n",
      "See the caveats in the documentation: https://pandas.pydata.org/pandas-docs/stable/user_guide/indexing.html#returning-a-view-versus-a-copy\n",
      "  df2_wine['MM_Alcohol'] = mm_object.fit_transform(df2_wine[['Alcohol']])\n",
      "<ipython-input-64-9a643ad0bfd9>:31: SettingWithCopyWarning: \n",
      "A value is trying to be set on a copy of a slice from a DataFrame.\n",
      "Try using .loc[row_indexer,col_indexer] = value instead\n",
      "\n",
      "See the caveats in the documentation: https://pandas.pydata.org/pandas-docs/stable/user_guide/indexing.html#returning-a-view-versus-a-copy\n",
      "  df2_wine['MM_Malicacid'] = mm_object.fit_transform(df2_wine[['Malicacid']])\n",
      "<ipython-input-64-9a643ad0bfd9>:32: SettingWithCopyWarning: \n",
      "A value is trying to be set on a copy of a slice from a DataFrame.\n",
      "Try using .loc[row_indexer,col_indexer] = value instead\n",
      "\n",
      "See the caveats in the documentation: https://pandas.pydata.org/pandas-docs/stable/user_guide/indexing.html#returning-a-view-versus-a-copy\n",
      "  df2_wine['MM_quality'] = mm_object.fit_transform(df2_wine[['quality']])\n"
     ]
    }
   ],
   "source": [
    "#Attempting both scaling methods\n",
    "\n",
    "from sklearn.preprocessing import StandardScaler\n",
    "from sklearn.preprocessing import MinMaxScaler\n",
    "\n",
    "#Creating a scaling object\n",
    "ss_object = StandardScaler()\n",
    "mm_object = MinMaxScaler()\n",
    "\n",
    "#Fitting the data for Standard Scaling\n",
    "ss_object.fit(df2_wine[['Alcohol']])\n",
    "ss_object.fit(df2_wine[['Malicacid']])\n",
    "ss_object.fit(df2_wine[['quality']])\n",
    "\n",
    "\n",
    "#Fitting the data for MinMax Scaling / Normalization\n",
    "\n",
    "mm_object.fit(df2_wine[['Alcohol']])\n",
    "mm_object.fit(df2_wine[['Malicacid']])\n",
    "mm_object.fit(df2_wine[['quality']])\n",
    "\n",
    "\n",
    "#Transforming the data for Standard Scaling\n",
    "df2_wine['SS_Alcohol'] = ss_object.fit_transform(df2_wine[['Alcohol']])\n",
    "df2_wine['SS_Malicacid'] = ss_object.fit_transform(df2_wine[['Malicacid']])\n",
    "df2_wine['SS_quality'] = ss_object.fit_transform(df2_wine[['quality']])\n",
    "\n",
    "\n",
    "#Transforming the data for MinMax Scaling / Normalization\n",
    "df2_wine['MM_Alcohol'] = mm_object.fit_transform(df2_wine[['Alcohol']])\n",
    "df2_wine['MM_Malicacid'] = mm_object.fit_transform(df2_wine[['Malicacid']])\n",
    "df2_wine['MM_quality'] = mm_object.fit_transform(df2_wine[['quality']])\n",
    "\n"
   ]
  },
  {
   "cell_type": "code",
   "execution_count": 65,
   "id": "8f020d52",
   "metadata": {
    "scrolled": true
   },
   "outputs": [
    {
     "data": {
      "text/html": [
       "<div>\n",
       "<style scoped>\n",
       "    .dataframe tbody tr th:only-of-type {\n",
       "        vertical-align: middle;\n",
       "    }\n",
       "\n",
       "    .dataframe tbody tr th {\n",
       "        vertical-align: top;\n",
       "    }\n",
       "\n",
       "    .dataframe thead th {\n",
       "        text-align: right;\n",
       "    }\n",
       "</style>\n",
       "<table border=\"1\" class=\"dataframe\">\n",
       "  <thead>\n",
       "    <tr style=\"text-align: right;\">\n",
       "      <th></th>\n",
       "      <th>quality</th>\n",
       "      <th>Alcohol</th>\n",
       "      <th>Malicacid</th>\n",
       "      <th>SS_Alcohol</th>\n",
       "      <th>SS_Malicacid</th>\n",
       "      <th>SS_quality</th>\n",
       "      <th>MM_Alcohol</th>\n",
       "      <th>MM_Malicacid</th>\n",
       "      <th>MM_quality</th>\n",
       "    </tr>\n",
       "  </thead>\n",
       "  <tbody>\n",
       "    <tr>\n",
       "      <th>0</th>\n",
       "      <td>1</td>\n",
       "      <td>14.23</td>\n",
       "      <td>1.71</td>\n",
       "      <td>1.518613</td>\n",
       "      <td>-0.562250</td>\n",
       "      <td>-1.213944</td>\n",
       "      <td>0.842105</td>\n",
       "      <td>0.191700</td>\n",
       "      <td>0.0</td>\n",
       "    </tr>\n",
       "    <tr>\n",
       "      <th>1</th>\n",
       "      <td>1</td>\n",
       "      <td>13.20</td>\n",
       "      <td>1.78</td>\n",
       "      <td>0.246290</td>\n",
       "      <td>-0.499413</td>\n",
       "      <td>-1.213944</td>\n",
       "      <td>0.571053</td>\n",
       "      <td>0.205534</td>\n",
       "      <td>0.0</td>\n",
       "    </tr>\n",
       "    <tr>\n",
       "      <th>2</th>\n",
       "      <td>1</td>\n",
       "      <td>13.16</td>\n",
       "      <td>2.36</td>\n",
       "      <td>0.196879</td>\n",
       "      <td>0.021231</td>\n",
       "      <td>-1.213944</td>\n",
       "      <td>0.560526</td>\n",
       "      <td>0.320158</td>\n",
       "      <td>0.0</td>\n",
       "    </tr>\n",
       "    <tr>\n",
       "      <th>3</th>\n",
       "      <td>1</td>\n",
       "      <td>14.37</td>\n",
       "      <td>1.95</td>\n",
       "      <td>1.691550</td>\n",
       "      <td>-0.346811</td>\n",
       "      <td>-1.213944</td>\n",
       "      <td>0.878947</td>\n",
       "      <td>0.239130</td>\n",
       "      <td>0.0</td>\n",
       "    </tr>\n",
       "    <tr>\n",
       "      <th>4</th>\n",
       "      <td>1</td>\n",
       "      <td>13.24</td>\n",
       "      <td>2.59</td>\n",
       "      <td>0.295700</td>\n",
       "      <td>0.227694</td>\n",
       "      <td>-1.213944</td>\n",
       "      <td>0.581579</td>\n",
       "      <td>0.365613</td>\n",
       "      <td>0.0</td>\n",
       "    </tr>\n",
       "  </tbody>\n",
       "</table>\n",
       "</div>"
      ],
      "text/plain": [
       "   quality  Alcohol  Malicacid  SS_Alcohol  SS_Malicacid  SS_quality  \\\n",
       "0        1    14.23       1.71    1.518613     -0.562250   -1.213944   \n",
       "1        1    13.20       1.78    0.246290     -0.499413   -1.213944   \n",
       "2        1    13.16       2.36    0.196879      0.021231   -1.213944   \n",
       "3        1    14.37       1.95    1.691550     -0.346811   -1.213944   \n",
       "4        1    13.24       2.59    0.295700      0.227694   -1.213944   \n",
       "\n",
       "   MM_Alcohol  MM_Malicacid  MM_quality  \n",
       "0    0.842105      0.191700         0.0  \n",
       "1    0.571053      0.205534         0.0  \n",
       "2    0.560526      0.320158         0.0  \n",
       "3    0.878947      0.239130         0.0  \n",
       "4    0.581579      0.365613         0.0  "
      ]
     },
     "execution_count": 65,
     "metadata": {},
     "output_type": "execute_result"
    }
   ],
   "source": [
    "df2_wine.head()"
   ]
  },
  {
   "cell_type": "code",
   "execution_count": 66,
   "id": "7e60773a",
   "metadata": {},
   "outputs": [
    {
     "data": {
      "text/html": [
       "<div>\n",
       "<style scoped>\n",
       "    .dataframe tbody tr th:only-of-type {\n",
       "        vertical-align: middle;\n",
       "    }\n",
       "\n",
       "    .dataframe tbody tr th {\n",
       "        vertical-align: top;\n",
       "    }\n",
       "\n",
       "    .dataframe thead th {\n",
       "        text-align: right;\n",
       "    }\n",
       "</style>\n",
       "<table border=\"1\" class=\"dataframe\">\n",
       "  <thead>\n",
       "    <tr style=\"text-align: right;\">\n",
       "      <th></th>\n",
       "      <th>quality</th>\n",
       "      <th>Alcohol</th>\n",
       "      <th>Malicacid</th>\n",
       "      <th>SS_Alcohol</th>\n",
       "      <th>SS_Malicacid</th>\n",
       "      <th>SS_quality</th>\n",
       "      <th>MM_Alcohol</th>\n",
       "      <th>MM_Malicacid</th>\n",
       "      <th>MM_quality</th>\n",
       "    </tr>\n",
       "  </thead>\n",
       "  <tbody>\n",
       "    <tr>\n",
       "      <th>count</th>\n",
       "      <td>178.000000</td>\n",
       "      <td>178.000000</td>\n",
       "      <td>178.000000</td>\n",
       "      <td>1.780000e+02</td>\n",
       "      <td>1.780000e+02</td>\n",
       "      <td>1.780000e+02</td>\n",
       "      <td>178.000000</td>\n",
       "      <td>178.000000</td>\n",
       "      <td>178.000000</td>\n",
       "    </tr>\n",
       "    <tr>\n",
       "      <th>mean</th>\n",
       "      <td>1.938202</td>\n",
       "      <td>13.000618</td>\n",
       "      <td>2.336348</td>\n",
       "      <td>-8.619821e-16</td>\n",
       "      <td>-8.357859e-17</td>\n",
       "      <td>-9.056426e-16</td>\n",
       "      <td>0.518584</td>\n",
       "      <td>0.315484</td>\n",
       "      <td>0.469101</td>\n",
       "    </tr>\n",
       "    <tr>\n",
       "      <th>std</th>\n",
       "      <td>0.775035</td>\n",
       "      <td>0.811827</td>\n",
       "      <td>1.117146</td>\n",
       "      <td>1.002821e+00</td>\n",
       "      <td>1.002821e+00</td>\n",
       "      <td>1.002821e+00</td>\n",
       "      <td>0.213639</td>\n",
       "      <td>0.220780</td>\n",
       "      <td>0.387517</td>\n",
       "    </tr>\n",
       "    <tr>\n",
       "      <th>min</th>\n",
       "      <td>1.000000</td>\n",
       "      <td>11.030000</td>\n",
       "      <td>0.740000</td>\n",
       "      <td>-2.434235e+00</td>\n",
       "      <td>-1.432983e+00</td>\n",
       "      <td>-1.213944e+00</td>\n",
       "      <td>0.000000</td>\n",
       "      <td>0.000000</td>\n",
       "      <td>0.000000</td>\n",
       "    </tr>\n",
       "    <tr>\n",
       "      <th>25%</th>\n",
       "      <td>1.000000</td>\n",
       "      <td>12.362500</td>\n",
       "      <td>1.602500</td>\n",
       "      <td>-7.882448e-01</td>\n",
       "      <td>-6.587486e-01</td>\n",
       "      <td>-1.213944e+00</td>\n",
       "      <td>0.350658</td>\n",
       "      <td>0.170455</td>\n",
       "      <td>0.000000</td>\n",
       "    </tr>\n",
       "    <tr>\n",
       "      <th>50%</th>\n",
       "      <td>2.000000</td>\n",
       "      <td>13.050000</td>\n",
       "      <td>1.865000</td>\n",
       "      <td>6.099988e-02</td>\n",
       "      <td>-4.231120e-01</td>\n",
       "      <td>7.996036e-02</td>\n",
       "      <td>0.531579</td>\n",
       "      <td>0.222332</td>\n",
       "      <td>0.500000</td>\n",
       "    </tr>\n",
       "    <tr>\n",
       "      <th>75%</th>\n",
       "      <td>3.000000</td>\n",
       "      <td>13.677500</td>\n",
       "      <td>3.082500</td>\n",
       "      <td>8.361286e-01</td>\n",
       "      <td>6.697929e-01</td>\n",
       "      <td>1.373864e+00</td>\n",
       "      <td>0.696711</td>\n",
       "      <td>0.462945</td>\n",
       "      <td>1.000000</td>\n",
       "    </tr>\n",
       "    <tr>\n",
       "      <th>max</th>\n",
       "      <td>3.000000</td>\n",
       "      <td>14.830000</td>\n",
       "      <td>5.800000</td>\n",
       "      <td>2.259772e+00</td>\n",
       "      <td>3.109192e+00</td>\n",
       "      <td>1.373864e+00</td>\n",
       "      <td>1.000000</td>\n",
       "      <td>1.000000</td>\n",
       "      <td>1.000000</td>\n",
       "    </tr>\n",
       "  </tbody>\n",
       "</table>\n",
       "</div>"
      ],
      "text/plain": [
       "          quality     Alcohol   Malicacid    SS_Alcohol  SS_Malicacid  \\\n",
       "count  178.000000  178.000000  178.000000  1.780000e+02  1.780000e+02   \n",
       "mean     1.938202   13.000618    2.336348 -8.619821e-16 -8.357859e-17   \n",
       "std      0.775035    0.811827    1.117146  1.002821e+00  1.002821e+00   \n",
       "min      1.000000   11.030000    0.740000 -2.434235e+00 -1.432983e+00   \n",
       "25%      1.000000   12.362500    1.602500 -7.882448e-01 -6.587486e-01   \n",
       "50%      2.000000   13.050000    1.865000  6.099988e-02 -4.231120e-01   \n",
       "75%      3.000000   13.677500    3.082500  8.361286e-01  6.697929e-01   \n",
       "max      3.000000   14.830000    5.800000  2.259772e+00  3.109192e+00   \n",
       "\n",
       "         SS_quality  MM_Alcohol  MM_Malicacid  MM_quality  \n",
       "count  1.780000e+02  178.000000    178.000000  178.000000  \n",
       "mean  -9.056426e-16    0.518584      0.315484    0.469101  \n",
       "std    1.002821e+00    0.213639      0.220780    0.387517  \n",
       "min   -1.213944e+00    0.000000      0.000000    0.000000  \n",
       "25%   -1.213944e+00    0.350658      0.170455    0.000000  \n",
       "50%    7.996036e-02    0.531579      0.222332    0.500000  \n",
       "75%    1.373864e+00    0.696711      0.462945    1.000000  \n",
       "max    1.373864e+00    1.000000      1.000000    1.000000  "
      ]
     },
     "execution_count": 66,
     "metadata": {},
     "output_type": "execute_result"
    }
   ],
   "source": [
    "df2_wine.describe()"
   ]
  },
  {
   "cell_type": "code",
   "execution_count": 67,
   "id": "17fc2685",
   "metadata": {
    "scrolled": true
   },
   "outputs": [
    {
     "data": {
      "image/png": "[encoded data removed]",
      "text/plain": [
       "<Figure size 432x288 with 2 Axes>"
      ]
     },
     "metadata": {
      "needs_background": "light"
     },
     "output_type": "display_data"
    }
   ],
   "source": [
    "fig, axs = plt.subplots(2)\n",
    "#fig.suptitle('Comparision of Alcohol and Scaled Alcohol data')\n",
    "axs[0].set_title('Feature distribution post Std Scaling - Alcohol')\n",
    "axs[0].plot(df2_wine['SS_Alcohol'])\n",
    "axs[1].plot(df2_wine['Alcohol'])\n",
    "\n",
    "\n",
    "plt.show()"
   ]
  },
  {
   "cell_type": "code",
   "execution_count": 68,
   "id": "f37443ba",
   "metadata": {
    "scrolled": true
   },
   "outputs": [
    {
     "data": {
      "image/png": "[encoded data removed]",
      "text/plain": [
       "<Figure size 432x288 with 2 Axes>"
      ]
     },
     "metadata": {
      "needs_background": "light"
     },
     "output_type": "display_data"
    }
   ],
   "source": [
    "fig, axs = plt.subplots(2)\n",
    "#fig.suptitle('Comparision of Alcohol and Scaled Alcohol data')\n",
    "axs[0].set_title('Feature distribution post Normalization - Alcohol')\n",
    "axs[0].plot(df2_wine['MM_Alcohol'])\n",
    "axs[1].plot(df2_wine['Alcohol'])\n",
    "\n",
    "\n",
    "plt.show()"
   ]
  },
  {
   "cell_type": "code",
   "execution_count": 69,
   "id": "b34d1a45",
   "metadata": {},
   "outputs": [
    {
     "data": {
      "image/png": "[encoded data removed]",
      "text/plain": [
       "<Figure size 432x288 with 2 Axes>"
      ]
     },
     "metadata": {
      "needs_background": "light"
     },
     "output_type": "display_data"
    }
   ],
   "source": [
    "fig, axs = plt.subplots(2)\n",
    "\n",
    "axs[0].set_title('Feature distribution post Std Scaling - Malic Acid')\n",
    "axs[0].plot(df2_wine['SS_Malicacid'])\n",
    "axs[1].plot(df2_wine['Malicacid'])\n",
    "\n",
    "plt.show()"
   ]
  },
  {
   "cell_type": "code",
   "execution_count": 70,
   "id": "ce54a6fc",
   "metadata": {
    "scrolled": true
   },
   "outputs": [
    {
     "data": {
      "image/png": "[encoded data removed]",
      "text/plain": [
       "<Figure size 432x288 with 2 Axes>"
      ]
     },
     "metadata": {
      "needs_background": "light"
     },
     "output_type": "display_data"
    }
   ],
   "source": [
    "fig, axs = plt.subplots(2)\n",
    "\n",
    "axs[0].set_title('Feature distribution post Normalization - Malic Acid')\n",
    "axs[0].plot(df2_wine['MM_Malicacid'])\n",
    "axs[1].plot(df2_wine['Malicacid'])\n",
    "\n",
    "plt.show()"
   ]
  },
  {
   "cell_type": "code",
   "execution_count": 71,
   "id": "5b60ce2b",
   "metadata": {
    "scrolled": true
   },
   "outputs": [
    {
     "data": {
      "image/png": "[encoded data removed]",
      "text/plain": [
       "<Figure size 432x288 with 2 Axes>"
      ]
     },
     "metadata": {
      "needs_background": "light"
     },
     "output_type": "display_data"
    }
   ],
   "source": [
    "fig, axs = plt.subplots(2)\n",
    "\n",
    "axs[0].set_title('Feature distribution post Std Scaling - Quality Level')\n",
    "axs[0].plot(df2_wine['SS_quality'])\n",
    "axs[1].plot(df2_wine['quality'])\n",
    "\n",
    "plt.show()"
   ]
  },
  {
   "cell_type": "code",
   "execution_count": 72,
   "id": "53f0586f",
   "metadata": {
    "scrolled": true
   },
   "outputs": [
    {
     "data": {
      "image/png": "[encoded data removed]",
      "text/plain": [
       "<Figure size 432x288 with 2 Axes>"
      ]
     },
     "metadata": {
      "needs_background": "light"
     },
     "output_type": "display_data"
    }
   ],
   "source": [
    "fig, axs = plt.subplots(2)\n",
    "\n",
    "axs[0].set_title('Feature distribution post Normalization - Quality Level')\n",
    "axs[0].plot(df2_wine['MM_quality'])\n",
    "axs[1].plot(df2_wine['quality'])\n",
    "\n",
    "plt.show()"
   ]
  },
  {
   "cell_type": "code",
   "execution_count": 73,
   "id": "5da6c2a0",
   "metadata": {},
   "outputs": [
    {
     "data": {
      "text/html": [
       "<div>\n",
       "<style scoped>\n",
       "    .dataframe tbody tr th:only-of-type {\n",
       "        vertical-align: middle;\n",
       "    }\n",
       "\n",
       "    .dataframe tbody tr th {\n",
       "        vertical-align: top;\n",
       "    }\n",
       "\n",
       "    .dataframe thead th {\n",
       "        text-align: right;\n",
       "    }\n",
       "</style>\n",
       "<table border=\"1\" class=\"dataframe\">\n",
       "  <thead>\n",
       "    <tr style=\"text-align: right;\">\n",
       "      <th></th>\n",
       "      <th>quality</th>\n",
       "      <th>Alcohol</th>\n",
       "      <th>Malicacid</th>\n",
       "      <th>SS_Alcohol</th>\n",
       "      <th>SS_Malicacid</th>\n",
       "      <th>SS_quality</th>\n",
       "      <th>MM_Alcohol</th>\n",
       "      <th>MM_Malicacid</th>\n",
       "      <th>MM_quality</th>\n",
       "    </tr>\n",
       "  </thead>\n",
       "  <tbody>\n",
       "    <tr>\n",
       "      <th>count</th>\n",
       "      <td>178.000000</td>\n",
       "      <td>178.000000</td>\n",
       "      <td>178.000000</td>\n",
       "      <td>1.780000e+02</td>\n",
       "      <td>1.780000e+02</td>\n",
       "      <td>1.780000e+02</td>\n",
       "      <td>178.000000</td>\n",
       "      <td>178.000000</td>\n",
       "      <td>178.000000</td>\n",
       "    </tr>\n",
       "    <tr>\n",
       "      <th>mean</th>\n",
       "      <td>1.938202</td>\n",
       "      <td>13.000618</td>\n",
       "      <td>2.336348</td>\n",
       "      <td>-8.619821e-16</td>\n",
       "      <td>-8.357859e-17</td>\n",
       "      <td>-9.056426e-16</td>\n",
       "      <td>0.518584</td>\n",
       "      <td>0.315484</td>\n",
       "      <td>0.469101</td>\n",
       "    </tr>\n",
       "    <tr>\n",
       "      <th>std</th>\n",
       "      <td>0.775035</td>\n",
       "      <td>0.811827</td>\n",
       "      <td>1.117146</td>\n",
       "      <td>1.002821e+00</td>\n",
       "      <td>1.002821e+00</td>\n",
       "      <td>1.002821e+00</td>\n",
       "      <td>0.213639</td>\n",
       "      <td>0.220780</td>\n",
       "      <td>0.387517</td>\n",
       "    </tr>\n",
       "    <tr>\n",
       "      <th>min</th>\n",
       "      <td>1.000000</td>\n",
       "      <td>11.030000</td>\n",
       "      <td>0.740000</td>\n",
       "      <td>-2.434235e+00</td>\n",
       "      <td>-1.432983e+00</td>\n",
       "      <td>-1.213944e+00</td>\n",
       "      <td>0.000000</td>\n",
       "      <td>0.000000</td>\n",
       "      <td>0.000000</td>\n",
       "    </tr>\n",
       "    <tr>\n",
       "      <th>25%</th>\n",
       "      <td>1.000000</td>\n",
       "      <td>12.362500</td>\n",
       "      <td>1.602500</td>\n",
       "      <td>-7.882448e-01</td>\n",
       "      <td>-6.587486e-01</td>\n",
       "      <td>-1.213944e+00</td>\n",
       "      <td>0.350658</td>\n",
       "      <td>0.170455</td>\n",
       "      <td>0.000000</td>\n",
       "    </tr>\n",
       "    <tr>\n",
       "      <th>50%</th>\n",
       "      <td>2.000000</td>\n",
       "      <td>13.050000</td>\n",
       "      <td>1.865000</td>\n",
       "      <td>6.099988e-02</td>\n",
       "      <td>-4.231120e-01</td>\n",
       "      <td>7.996036e-02</td>\n",
       "      <td>0.531579</td>\n",
       "      <td>0.222332</td>\n",
       "      <td>0.500000</td>\n",
       "    </tr>\n",
       "    <tr>\n",
       "      <th>75%</th>\n",
       "      <td>3.000000</td>\n",
       "      <td>13.677500</td>\n",
       "      <td>3.082500</td>\n",
       "      <td>8.361286e-01</td>\n",
       "      <td>6.697929e-01</td>\n",
       "      <td>1.373864e+00</td>\n",
       "      <td>0.696711</td>\n",
       "      <td>0.462945</td>\n",
       "      <td>1.000000</td>\n",
       "    </tr>\n",
       "    <tr>\n",
       "      <th>max</th>\n",
       "      <td>3.000000</td>\n",
       "      <td>14.830000</td>\n",
       "      <td>5.800000</td>\n",
       "      <td>2.259772e+00</td>\n",
       "      <td>3.109192e+00</td>\n",
       "      <td>1.373864e+00</td>\n",
       "      <td>1.000000</td>\n",
       "      <td>1.000000</td>\n",
       "      <td>1.000000</td>\n",
       "    </tr>\n",
       "  </tbody>\n",
       "</table>\n",
       "</div>"
      ],
      "text/plain": [
       "          quality     Alcohol   Malicacid    SS_Alcohol  SS_Malicacid  \\\n",
       "count  178.000000  178.000000  178.000000  1.780000e+02  1.780000e+02   \n",
       "mean     1.938202   13.000618    2.336348 -8.619821e-16 -8.357859e-17   \n",
       "std      0.775035    0.811827    1.117146  1.002821e+00  1.002821e+00   \n",
       "min      1.000000   11.030000    0.740000 -2.434235e+00 -1.432983e+00   \n",
       "25%      1.000000   12.362500    1.602500 -7.882448e-01 -6.587486e-01   \n",
       "50%      2.000000   13.050000    1.865000  6.099988e-02 -4.231120e-01   \n",
       "75%      3.000000   13.677500    3.082500  8.361286e-01  6.697929e-01   \n",
       "max      3.000000   14.830000    5.800000  2.259772e+00  3.109192e+00   \n",
       "\n",
       "         SS_quality  MM_Alcohol  MM_Malicacid  MM_quality  \n",
       "count  1.780000e+02  178.000000    178.000000  178.000000  \n",
       "mean  -9.056426e-16    0.518584      0.315484    0.469101  \n",
       "std    1.002821e+00    0.213639      0.220780    0.387517  \n",
       "min   -1.213944e+00    0.000000      0.000000    0.000000  \n",
       "25%   -1.213944e+00    0.350658      0.170455    0.000000  \n",
       "50%    7.996036e-02    0.531579      0.222332    0.500000  \n",
       "75%    1.373864e+00    0.696711      0.462945    1.000000  \n",
       "max    1.373864e+00    1.000000      1.000000    1.000000  "
      ]
     },
     "execution_count": 73,
     "metadata": {},
     "output_type": "execute_result"
    }
   ],
   "source": [
    "df2_wine.describe()"
   ]
  },
  {
   "cell_type": "markdown",
   "id": "23603394",
   "metadata": {},
   "source": [
    "### Ans - There can be two key criteria of choosing the right approach. Standard deviation and Outliers. \n",
    "In case of 'Alchohol' the boxplot reveals no outliers, but in case of 'Malic Acid', there are a few outliers. \n",
    "For Malic acid we can use Standardization and in case of 'Alcohol' we can use Normalization. \n",
    "\n",
    "But it would be better to use same scaling technique for both if we want to do a correlation analysis. Hence Normalization is a better approach. It also has a lower standard deviation in comparision to the Standardized features' data sets. "
   ]
  },
  {
   "cell_type": "code",
   "execution_count": null,
   "id": "1bad8240",
   "metadata": {},
   "outputs": [],
   "source": []
  }
 ],
 "metadata": {
  "hide_input": false,
  "kernelspec": {
   "display_name": "Python 3",
   "language": "python",
   "name": "python3"
  },
  "language_info": {
   "codemirror_mode": {
    "name": "ipython",
    "version": 3
   },
   "file_extension": ".py",
   "mimetype": "text/x-python",
   "name": "python",
   "nbconvert_exporter": "python",
   "pygments_lexer": "ipython3",
   "version": "3.8.8"
  }
 },
 "nbformat": 4,
 "nbformat_minor": 5
}
