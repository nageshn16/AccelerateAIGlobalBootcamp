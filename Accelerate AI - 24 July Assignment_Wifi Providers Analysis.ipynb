{
 "cells": [
  {
   "cell_type": "markdown",
   "id": "cfb71e7c",
   "metadata": {},
   "source": [
    "#### \n",
    "\n",
    "Q2: The demand and usage of the internet is growing across the globe and public wifi is\n",
    "becoming a new normal as we move forward. Wifi providers want to optimize the cost while\n",
    "providing the free and paid wifi. The use case here refers to public WiFi hotspots in New York\n",
    "City. Please refer to the dataset – Wifi Data.xlsx\n",
    "● The information comprises of records for every public WiFi hotspot (ones provided by or\n",
    "in partnership with the city) in New York City.\n",
    "Using Python’s Pandas and Seaborn library to answer following business questions.\n",
    "- 1) Get the data provided, check frequency distribution of the features, drop irrelevant and\n",
    "redundant features if any and state your inferences?\n"
   ]
  },
  {
   "cell_type": "markdown",
   "id": "aae93828",
   "metadata": {},
   "source": [
    "2) Using appropriate data visualization answer the following:\n",
    "- a. Plot the providers vs number of all wi-fi hotspots they have in operation? Who has\n",
    "the highest installations?\n",
    "- b. Plot providers vs number of free wifi hotspots.\n",
    "- c. Are there any provider(s) who do not provide free wifi?\n",
    "- d. Which Location type (Location_T) are most common and least common?\n",
    "- e. How many free “indoor” and “outdoor” hotspots are there? Which companies have\n",
    "the highest number of Outdoor Free installations. "
   ]
  },
  {
   "cell_type": "code",
   "execution_count": 22,
   "id": "445b0828",
   "metadata": {},
   "outputs": [],
   "source": [
    "# import pandas lib as pd\n",
    "import pandas as pd\n",
    "import numpy as np\n",
    "import seaborn as sns\n",
    "import matplotlib.pyplot as plt\n",
    "\n",
    "pd.set_option(\"display.precision\", 3)\n",
    "pd.set_option('display.min_rows', 8)\n",
    "pd.set_option('display.width', 2000)\n",
    " "
   ]
  },
  {
   "cell_type": "code",
   "execution_count": 2,
   "id": "49cb9e2f",
   "metadata": {},
   "outputs": [],
   "source": [
    "df_wifi = pd.read_excel('Wifi Data.xlsx')"
   ]
  },
  {
   "cell_type": "code",
   "execution_count": 3,
   "id": "101a8388",
   "metadata": {},
   "outputs": [
    {
     "data": {
      "text/html": [
       "<div>\n",
       "<style scoped>\n",
       "    .dataframe tbody tr th:only-of-type {\n",
       "        vertical-align: middle;\n",
       "    }\n",
       "\n",
       "    .dataframe tbody tr th {\n",
       "        vertical-align: top;\n",
       "    }\n",
       "\n",
       "    .dataframe thead th {\n",
       "        text-align: right;\n",
       "    }\n",
       "</style>\n",
       "<table border=\"1\" class=\"dataframe\">\n",
       "  <thead>\n",
       "    <tr style=\"text-align: right;\">\n",
       "      <th></th>\n",
       "      <th>OBJECTID</th>\n",
       "      <th>Borough</th>\n",
       "      <th>Type</th>\n",
       "      <th>Provider</th>\n",
       "      <th>Latitude</th>\n",
       "      <th>Longitude</th>\n",
       "      <th>Location_T</th>\n",
       "      <th>City</th>\n",
       "      <th>BoroCode</th>\n",
       "      <th>NTACode</th>\n",
       "    </tr>\n",
       "  </thead>\n",
       "  <tbody>\n",
       "    <tr>\n",
       "      <th>0</th>\n",
       "      <td>1</td>\n",
       "      <td>BK</td>\n",
       "      <td>Limited Free</td>\n",
       "      <td>ALTICEUSA</td>\n",
       "      <td>40.658</td>\n",
       "      <td>-73.944</td>\n",
       "      <td>Outdoor</td>\n",
       "      <td>Brooklyn</td>\n",
       "      <td>3</td>\n",
       "      <td>BK60</td>\n",
       "    </tr>\n",
       "    <tr>\n",
       "      <th>1</th>\n",
       "      <td>2</td>\n",
       "      <td>BK</td>\n",
       "      <td>Limited Free</td>\n",
       "      <td>ALTICEUSA</td>\n",
       "      <td>40.658</td>\n",
       "      <td>-73.947</td>\n",
       "      <td>Outdoor</td>\n",
       "      <td>Brooklyn</td>\n",
       "      <td>3</td>\n",
       "      <td>BK60</td>\n",
       "    </tr>\n",
       "    <tr>\n",
       "      <th>2</th>\n",
       "      <td>3</td>\n",
       "      <td>BK</td>\n",
       "      <td>Limited Free</td>\n",
       "      <td>ALTICEUSA</td>\n",
       "      <td>40.658</td>\n",
       "      <td>-73.947</td>\n",
       "      <td>Outdoor</td>\n",
       "      <td>Brooklyn</td>\n",
       "      <td>3</td>\n",
       "      <td>BK60</td>\n",
       "    </tr>\n",
       "    <tr>\n",
       "      <th>3</th>\n",
       "      <td>4</td>\n",
       "      <td>BK</td>\n",
       "      <td>Limited Free</td>\n",
       "      <td>ALTICEUSA</td>\n",
       "      <td>40.657</td>\n",
       "      <td>-73.947</td>\n",
       "      <td>Outdoor</td>\n",
       "      <td>Brooklyn</td>\n",
       "      <td>3</td>\n",
       "      <td>BK60</td>\n",
       "    </tr>\n",
       "    <tr>\n",
       "      <th>...</th>\n",
       "      <td>...</td>\n",
       "      <td>...</td>\n",
       "      <td>...</td>\n",
       "      <td>...</td>\n",
       "      <td>...</td>\n",
       "      <td>...</td>\n",
       "      <td>...</td>\n",
       "      <td>...</td>\n",
       "      <td>...</td>\n",
       "      <td>...</td>\n",
       "    </tr>\n",
       "    <tr>\n",
       "      <th>2562</th>\n",
       "      <td>2563</td>\n",
       "      <td>MN</td>\n",
       "      <td>Free</td>\n",
       "      <td>LinkNYC - Citybridge</td>\n",
       "      <td>40.750</td>\n",
       "      <td>-73.988</td>\n",
       "      <td>Outdoor Kiosk</td>\n",
       "      <td>New York</td>\n",
       "      <td>1</td>\n",
       "      <td>MN17</td>\n",
       "    </tr>\n",
       "    <tr>\n",
       "      <th>2563</th>\n",
       "      <td>2564</td>\n",
       "      <td>MN</td>\n",
       "      <td>Free</td>\n",
       "      <td>LinkNYC - Citybridge</td>\n",
       "      <td>40.755</td>\n",
       "      <td>-73.984</td>\n",
       "      <td>Outdoor Kiosk</td>\n",
       "      <td>New York</td>\n",
       "      <td>1</td>\n",
       "      <td>MN17</td>\n",
       "    </tr>\n",
       "    <tr>\n",
       "      <th>2564</th>\n",
       "      <td>2565</td>\n",
       "      <td>MN</td>\n",
       "      <td>Free</td>\n",
       "      <td>LinkNYC - Citybridge</td>\n",
       "      <td>40.762</td>\n",
       "      <td>-73.975</td>\n",
       "      <td>Outdoor Kiosk</td>\n",
       "      <td>New York</td>\n",
       "      <td>1</td>\n",
       "      <td>MN17</td>\n",
       "    </tr>\n",
       "    <tr>\n",
       "      <th>2565</th>\n",
       "      <td>2566</td>\n",
       "      <td>MN</td>\n",
       "      <td>Free</td>\n",
       "      <td>LinkNYC - Citybridge</td>\n",
       "      <td>40.775</td>\n",
       "      <td>-73.982</td>\n",
       "      <td>Outdoor Kiosk</td>\n",
       "      <td>New York</td>\n",
       "      <td>1</td>\n",
       "      <td>MN14</td>\n",
       "    </tr>\n",
       "  </tbody>\n",
       "</table>\n",
       "<p>2566 rows × 10 columns</p>\n",
       "</div>"
      ],
      "text/plain": [
       "      OBJECTID Borough          Type              Provider  Latitude  Longitude     Location_T      City  BoroCode NTACode\n",
       "0            1      BK  Limited Free             ALTICEUSA    40.658    -73.944        Outdoor  Brooklyn         3    BK60\n",
       "1            2      BK  Limited Free             ALTICEUSA    40.658    -73.947        Outdoor  Brooklyn         3    BK60\n",
       "2            3      BK  Limited Free             ALTICEUSA    40.658    -73.947        Outdoor  Brooklyn         3    BK60\n",
       "3            4      BK  Limited Free             ALTICEUSA    40.657    -73.947        Outdoor  Brooklyn         3    BK60\n",
       "...        ...     ...           ...                   ...       ...        ...            ...       ...       ...     ...\n",
       "2562      2563      MN          Free  LinkNYC - Citybridge    40.750    -73.988  Outdoor Kiosk  New York         1    MN17\n",
       "2563      2564      MN          Free  LinkNYC - Citybridge    40.755    -73.984  Outdoor Kiosk  New York         1    MN17\n",
       "2564      2565      MN          Free  LinkNYC - Citybridge    40.762    -73.975  Outdoor Kiosk  New York         1    MN17\n",
       "2565      2566      MN          Free  LinkNYC - Citybridge    40.775    -73.982  Outdoor Kiosk  New York         1    MN14\n",
       "\n",
       "[2566 rows x 10 columns]"
      ]
     },
     "execution_count": 3,
     "metadata": {},
     "output_type": "execute_result"
    }
   ],
   "source": [
    "df_wifi"
   ]
  },
  {
   "cell_type": "markdown",
   "id": "f79abc83",
   "metadata": {},
   "source": [
    "#### Task 1 - Exploring the features and dropping irrelevant ones if any"
   ]
  },
  {
   "cell_type": "code",
   "execution_count": 4,
   "id": "23101f39",
   "metadata": {},
   "outputs": [
    {
     "name": "stdout",
     "output_type": "stream",
     "text": [
      "<class 'pandas.core.frame.DataFrame'>\n",
      "RangeIndex: 2566 entries, 0 to 2565\n",
      "Data columns (total 10 columns):\n",
      " #   Column      Non-Null Count  Dtype  \n",
      "---  ------      --------------  -----  \n",
      " 0   OBJECTID    2566 non-null   int64  \n",
      " 1   Borough     2566 non-null   object \n",
      " 2   Type        2566 non-null   object \n",
      " 3   Provider    2566 non-null   object \n",
      " 4   Latitude    2566 non-null   float64\n",
      " 5   Longitude   2566 non-null   float64\n",
      " 6   Location_T  2566 non-null   object \n",
      " 7   City        2566 non-null   object \n",
      " 8   BoroCode    2566 non-null   int64  \n",
      " 9   NTACode     2566 non-null   object \n",
      "dtypes: float64(2), int64(2), object(6)\n",
      "memory usage: 200.6+ KB\n"
     ]
    }
   ],
   "source": [
    "#The info command suggests that there are no null values and the data types are as per the nature of the data\n",
    "df_wifi.info()\n"
   ]
  },
  {
   "cell_type": "code",
   "execution_count": 6,
   "id": "cb46e932",
   "metadata": {},
   "outputs": [
    {
     "data": {
      "text/plain": [
       "MN    1204\n",
       "BK     595\n",
       "QU     415\n",
       "BX     257\n",
       "SI      95\n",
       "Name: Borough, dtype: int64"
      ]
     },
     "execution_count": 6,
     "metadata": {},
     "output_type": "execute_result"
    }
   ],
   "source": [
    "#Exploring individual features\n",
    "\n",
    "df_wifi['Borough'].value_counts()\n"
   ]
  },
  {
   "cell_type": "code",
   "execution_count": 7,
   "id": "35e40d25",
   "metadata": {},
   "outputs": [
    {
     "data": {
      "text/plain": [
       "Free            1983\n",
       "Limited Free     581\n",
       "Partner Site       2\n",
       "Name: Type, dtype: int64"
      ]
     },
     "execution_count": 7,
     "metadata": {},
     "output_type": "execute_result"
    }
   ],
   "source": [
    "df_wifi['Type'].value_counts()"
   ]
  },
  {
   "cell_type": "code",
   "execution_count": 8,
   "id": "7b395870",
   "metadata": {},
   "outputs": [
    {
     "data": {
      "text/plain": [
       "LinkNYC - Citybridge       1134\n",
       "SPECTRUM                    343\n",
       "Transit Wireless            276\n",
       "ALTICEUSA                   237\n",
       "Harlem                      128\n",
       "Downtown Brooklyn           100\n",
       "NYPL                         90\n",
       "QPL                          65\n",
       "BPL                          59\n",
       "Manhattan Down Alliance      36\n",
       "Chelsea                      30\n",
       "NYCHA                        28\n",
       "AT&T                         27\n",
       "City Tech                    11\n",
       "Partner                       2\n",
       "Name: Provider, dtype: int64"
      ]
     },
     "execution_count": 8,
     "metadata": {},
     "output_type": "execute_result"
    }
   ],
   "source": [
    "df_wifi['Provider'].value_counts()"
   ]
  },
  {
   "cell_type": "code",
   "execution_count": 10,
   "id": "c56ac190",
   "metadata": {},
   "outputs": [
    {
     "data": {
      "text/plain": [
       "Outdoor Kiosk         1134\n",
       "Outdoor                696\n",
       "Subway Station         276\n",
       "Library                214\n",
       "Indoor                 125\n",
       "Outdoor TWC Aerial     121\n",
       "Name: Location_T, dtype: int64"
      ]
     },
     "execution_count": 10,
     "metadata": {},
     "output_type": "execute_result"
    }
   ],
   "source": [
    "df_wifi['Location_T'].value_counts()"
   ]
  },
  {
   "cell_type": "code",
   "execution_count": 11,
   "id": "a4e84be4",
   "metadata": {},
   "outputs": [
    {
     "data": {
      "text/plain": [
       "New York            1204\n",
       "Brooklyn             595\n",
       "Queens               350\n",
       "Bronx                257\n",
       "Staten Island         95\n",
       "Flushing               9\n",
       "Long Island City       8\n",
       "Jamaica                5\n",
       "Corona                 3\n",
       "Bayside                3\n",
       "Little Neck            2\n",
       "Richmond Hill          2\n",
       "Forest Hills           2\n",
       "South Hollis           1\n",
       "Rockaway Beach         1\n",
       "Jackson Heights        1\n",
       "Whitestone             1\n",
       "College Point          1\n",
       "Middle Village         1\n",
       "Arverne                1\n",
       "East Elmhurst          1\n",
       "Ridgewood              1\n",
       "South Ozone Park       1\n",
       "Woodside               1\n",
       "Cambria Heights        1\n",
       "Briarwood              1\n",
       "Rosedale               1\n",
       "Howard Beach           1\n",
       "Elmhurst               1\n",
       "Laurelton              1\n",
       "Ozone Park             1\n",
       "Maspeth                1\n",
       "Far Rockaway           1\n",
       "Hollis                 1\n",
       "Bellerose              1\n",
       "Saint Albans           1\n",
       "Glendale               1\n",
       "Rockaway Park          1\n",
       "Rego Park              1\n",
       "Glen Oaks              1\n",
       "Woodhaven              1\n",
       "Fresh Meadows          1\n",
       "Queens Village         1\n",
       "Broad Channel          1\n",
       "Name: City, dtype: int64"
      ]
     },
     "execution_count": 11,
     "metadata": {},
     "output_type": "execute_result"
    }
   ],
   "source": [
    "df_wifi['City'].value_counts()"
   ]
  },
  {
   "cell_type": "code",
   "execution_count": 13,
   "id": "ae271b7d",
   "metadata": {},
   "outputs": [
    {
     "data": {
      "text/plain": [
       "MN17    138\n",
       "BK38    119\n",
       "MN13    104\n",
       "MN03     99\n",
       "       ... \n",
       "QN38      1\n",
       "BK43      1\n",
       "QN37      1\n",
       "BK44      1\n",
       "Name: NTACode, Length: 178, dtype: int64"
      ]
     },
     "execution_count": 13,
     "metadata": {},
     "output_type": "execute_result"
    }
   ],
   "source": [
    "df_wifi['NTACode'].value_counts()"
   ]
  },
  {
   "cell_type": "code",
   "execution_count": 15,
   "id": "9b1b81c8",
   "metadata": {},
   "outputs": [
    {
     "data": {
      "text/plain": [
       "1    1205\n",
       "3     593\n",
       "4     416\n",
       "2     257\n",
       "5      95\n",
       "Name: BoroCode, dtype: int64"
      ]
     },
     "execution_count": 15,
     "metadata": {},
     "output_type": "execute_result"
    }
   ],
   "source": [
    "df_wifi['BoroCode'].value_counts()"
   ]
  },
  {
   "cell_type": "markdown",
   "id": "38f7c642",
   "metadata": {},
   "source": [
    "#### Dropping the feature 'Borocode' as it does not add value. The Features 'NTACode' and 'Borough' can also give similar information, in fact more detailed."
   ]
  },
  {
   "cell_type": "code",
   "execution_count": 19,
   "id": "4c4eff1a",
   "metadata": {},
   "outputs": [
    {
     "data": {
      "text/html": [
       "<div>\n",
       "<style scoped>\n",
       "    .dataframe tbody tr th:only-of-type {\n",
       "        vertical-align: middle;\n",
       "    }\n",
       "\n",
       "    .dataframe tbody tr th {\n",
       "        vertical-align: top;\n",
       "    }\n",
       "\n",
       "    .dataframe thead th {\n",
       "        text-align: right;\n",
       "    }\n",
       "</style>\n",
       "<table border=\"1\" class=\"dataframe\">\n",
       "  <thead>\n",
       "    <tr style=\"text-align: right;\">\n",
       "      <th></th>\n",
       "      <th>OBJECTID</th>\n",
       "      <th>Borough</th>\n",
       "      <th>Type</th>\n",
       "      <th>Provider</th>\n",
       "      <th>Latitude</th>\n",
       "      <th>Longitude</th>\n",
       "      <th>Location_T</th>\n",
       "      <th>City</th>\n",
       "      <th>BoroCode</th>\n",
       "      <th>NTACode</th>\n",
       "    </tr>\n",
       "  </thead>\n",
       "  <tbody>\n",
       "    <tr>\n",
       "      <th>0</th>\n",
       "      <td>1</td>\n",
       "      <td>BK</td>\n",
       "      <td>Limited Free</td>\n",
       "      <td>ALTICEUSA</td>\n",
       "      <td>40.658</td>\n",
       "      <td>-73.944</td>\n",
       "      <td>Outdoor</td>\n",
       "      <td>Brooklyn</td>\n",
       "      <td>3</td>\n",
       "      <td>BK60</td>\n",
       "    </tr>\n",
       "    <tr>\n",
       "      <th>1</th>\n",
       "      <td>2</td>\n",
       "      <td>BK</td>\n",
       "      <td>Limited Free</td>\n",
       "      <td>ALTICEUSA</td>\n",
       "      <td>40.658</td>\n",
       "      <td>-73.947</td>\n",
       "      <td>Outdoor</td>\n",
       "      <td>Brooklyn</td>\n",
       "      <td>3</td>\n",
       "      <td>BK60</td>\n",
       "    </tr>\n",
       "    <tr>\n",
       "      <th>2</th>\n",
       "      <td>3</td>\n",
       "      <td>BK</td>\n",
       "      <td>Limited Free</td>\n",
       "      <td>ALTICEUSA</td>\n",
       "      <td>40.658</td>\n",
       "      <td>-73.947</td>\n",
       "      <td>Outdoor</td>\n",
       "      <td>Brooklyn</td>\n",
       "      <td>3</td>\n",
       "      <td>BK60</td>\n",
       "    </tr>\n",
       "    <tr>\n",
       "      <th>3</th>\n",
       "      <td>4</td>\n",
       "      <td>BK</td>\n",
       "      <td>Limited Free</td>\n",
       "      <td>ALTICEUSA</td>\n",
       "      <td>40.657</td>\n",
       "      <td>-73.947</td>\n",
       "      <td>Outdoor</td>\n",
       "      <td>Brooklyn</td>\n",
       "      <td>3</td>\n",
       "      <td>BK60</td>\n",
       "    </tr>\n",
       "    <tr>\n",
       "      <th>...</th>\n",
       "      <td>...</td>\n",
       "      <td>...</td>\n",
       "      <td>...</td>\n",
       "      <td>...</td>\n",
       "      <td>...</td>\n",
       "      <td>...</td>\n",
       "      <td>...</td>\n",
       "      <td>...</td>\n",
       "      <td>...</td>\n",
       "      <td>...</td>\n",
       "    </tr>\n",
       "    <tr>\n",
       "      <th>2562</th>\n",
       "      <td>2563</td>\n",
       "      <td>MN</td>\n",
       "      <td>Free</td>\n",
       "      <td>LinkNYC - Citybridge</td>\n",
       "      <td>40.750</td>\n",
       "      <td>-73.988</td>\n",
       "      <td>Outdoor Kiosk</td>\n",
       "      <td>New York</td>\n",
       "      <td>1</td>\n",
       "      <td>MN17</td>\n",
       "    </tr>\n",
       "    <tr>\n",
       "      <th>2563</th>\n",
       "      <td>2564</td>\n",
       "      <td>MN</td>\n",
       "      <td>Free</td>\n",
       "      <td>LinkNYC - Citybridge</td>\n",
       "      <td>40.755</td>\n",
       "      <td>-73.984</td>\n",
       "      <td>Outdoor Kiosk</td>\n",
       "      <td>New York</td>\n",
       "      <td>1</td>\n",
       "      <td>MN17</td>\n",
       "    </tr>\n",
       "    <tr>\n",
       "      <th>2564</th>\n",
       "      <td>2565</td>\n",
       "      <td>MN</td>\n",
       "      <td>Free</td>\n",
       "      <td>LinkNYC - Citybridge</td>\n",
       "      <td>40.762</td>\n",
       "      <td>-73.975</td>\n",
       "      <td>Outdoor Kiosk</td>\n",
       "      <td>New York</td>\n",
       "      <td>1</td>\n",
       "      <td>MN17</td>\n",
       "    </tr>\n",
       "    <tr>\n",
       "      <th>2565</th>\n",
       "      <td>2566</td>\n",
       "      <td>MN</td>\n",
       "      <td>Free</td>\n",
       "      <td>LinkNYC - Citybridge</td>\n",
       "      <td>40.775</td>\n",
       "      <td>-73.982</td>\n",
       "      <td>Outdoor Kiosk</td>\n",
       "      <td>New York</td>\n",
       "      <td>1</td>\n",
       "      <td>MN14</td>\n",
       "    </tr>\n",
       "  </tbody>\n",
       "</table>\n",
       "<p>2566 rows × 10 columns</p>\n",
       "</div>"
      ],
      "text/plain": [
       "      OBJECTID Borough          Type              Provider  Latitude  Longitude     Location_T      City  BoroCode NTACode\n",
       "0            1      BK  Limited Free             ALTICEUSA    40.658    -73.944        Outdoor  Brooklyn         3    BK60\n",
       "1            2      BK  Limited Free             ALTICEUSA    40.658    -73.947        Outdoor  Brooklyn         3    BK60\n",
       "2            3      BK  Limited Free             ALTICEUSA    40.658    -73.947        Outdoor  Brooklyn         3    BK60\n",
       "3            4      BK  Limited Free             ALTICEUSA    40.657    -73.947        Outdoor  Brooklyn         3    BK60\n",
       "...        ...     ...           ...                   ...       ...        ...            ...       ...       ...     ...\n",
       "2562      2563      MN          Free  LinkNYC - Citybridge    40.750    -73.988  Outdoor Kiosk  New York         1    MN17\n",
       "2563      2564      MN          Free  LinkNYC - Citybridge    40.755    -73.984  Outdoor Kiosk  New York         1    MN17\n",
       "2564      2565      MN          Free  LinkNYC - Citybridge    40.762    -73.975  Outdoor Kiosk  New York         1    MN17\n",
       "2565      2566      MN          Free  LinkNYC - Citybridge    40.775    -73.982  Outdoor Kiosk  New York         1    MN14\n",
       "\n",
       "[2566 rows x 10 columns]"
      ]
     },
     "execution_count": 19,
     "metadata": {},
     "output_type": "execute_result"
    }
   ],
   "source": [
    "df_wifi"
   ]
  },
  {
   "cell_type": "code",
   "execution_count": 20,
   "id": "53ddc7fd",
   "metadata": {},
   "outputs": [],
   "source": [
    "df_wifi2 = df_wifi.drop('BoroCode', axis = 1)"
   ]
  },
  {
   "cell_type": "code",
   "execution_count": 21,
   "id": "b0341308",
   "metadata": {},
   "outputs": [
    {
     "data": {
      "text/html": [
       "<div>\n",
       "<style scoped>\n",
       "    .dataframe tbody tr th:only-of-type {\n",
       "        vertical-align: middle;\n",
       "    }\n",
       "\n",
       "    .dataframe tbody tr th {\n",
       "        vertical-align: top;\n",
       "    }\n",
       "\n",
       "    .dataframe thead th {\n",
       "        text-align: right;\n",
       "    }\n",
       "</style>\n",
       "<table border=\"1\" class=\"dataframe\">\n",
       "  <thead>\n",
       "    <tr style=\"text-align: right;\">\n",
       "      <th></th>\n",
       "      <th>OBJECTID</th>\n",
       "      <th>Borough</th>\n",
       "      <th>Type</th>\n",
       "      <th>Provider</th>\n",
       "      <th>Latitude</th>\n",
       "      <th>Longitude</th>\n",
       "      <th>Location_T</th>\n",
       "      <th>City</th>\n",
       "      <th>NTACode</th>\n",
       "    </tr>\n",
       "  </thead>\n",
       "  <tbody>\n",
       "    <tr>\n",
       "      <th>0</th>\n",
       "      <td>1</td>\n",
       "      <td>BK</td>\n",
       "      <td>Limited Free</td>\n",
       "      <td>ALTICEUSA</td>\n",
       "      <td>40.658</td>\n",
       "      <td>-73.944</td>\n",
       "      <td>Outdoor</td>\n",
       "      <td>Brooklyn</td>\n",
       "      <td>BK60</td>\n",
       "    </tr>\n",
       "    <tr>\n",
       "      <th>1</th>\n",
       "      <td>2</td>\n",
       "      <td>BK</td>\n",
       "      <td>Limited Free</td>\n",
       "      <td>ALTICEUSA</td>\n",
       "      <td>40.658</td>\n",
       "      <td>-73.947</td>\n",
       "      <td>Outdoor</td>\n",
       "      <td>Brooklyn</td>\n",
       "      <td>BK60</td>\n",
       "    </tr>\n",
       "    <tr>\n",
       "      <th>2</th>\n",
       "      <td>3</td>\n",
       "      <td>BK</td>\n",
       "      <td>Limited Free</td>\n",
       "      <td>ALTICEUSA</td>\n",
       "      <td>40.658</td>\n",
       "      <td>-73.947</td>\n",
       "      <td>Outdoor</td>\n",
       "      <td>Brooklyn</td>\n",
       "      <td>BK60</td>\n",
       "    </tr>\n",
       "    <tr>\n",
       "      <th>3</th>\n",
       "      <td>4</td>\n",
       "      <td>BK</td>\n",
       "      <td>Limited Free</td>\n",
       "      <td>ALTICEUSA</td>\n",
       "      <td>40.657</td>\n",
       "      <td>-73.947</td>\n",
       "      <td>Outdoor</td>\n",
       "      <td>Brooklyn</td>\n",
       "      <td>BK60</td>\n",
       "    </tr>\n",
       "    <tr>\n",
       "      <th>...</th>\n",
       "      <td>...</td>\n",
       "      <td>...</td>\n",
       "      <td>...</td>\n",
       "      <td>...</td>\n",
       "      <td>...</td>\n",
       "      <td>...</td>\n",
       "      <td>...</td>\n",
       "      <td>...</td>\n",
       "      <td>...</td>\n",
       "    </tr>\n",
       "    <tr>\n",
       "      <th>2562</th>\n",
       "      <td>2563</td>\n",
       "      <td>MN</td>\n",
       "      <td>Free</td>\n",
       "      <td>LinkNYC - Citybridge</td>\n",
       "      <td>40.750</td>\n",
       "      <td>-73.988</td>\n",
       "      <td>Outdoor Kiosk</td>\n",
       "      <td>New York</td>\n",
       "      <td>MN17</td>\n",
       "    </tr>\n",
       "    <tr>\n",
       "      <th>2563</th>\n",
       "      <td>2564</td>\n",
       "      <td>MN</td>\n",
       "      <td>Free</td>\n",
       "      <td>LinkNYC - Citybridge</td>\n",
       "      <td>40.755</td>\n",
       "      <td>-73.984</td>\n",
       "      <td>Outdoor Kiosk</td>\n",
       "      <td>New York</td>\n",
       "      <td>MN17</td>\n",
       "    </tr>\n",
       "    <tr>\n",
       "      <th>2564</th>\n",
       "      <td>2565</td>\n",
       "      <td>MN</td>\n",
       "      <td>Free</td>\n",
       "      <td>LinkNYC - Citybridge</td>\n",
       "      <td>40.762</td>\n",
       "      <td>-73.975</td>\n",
       "      <td>Outdoor Kiosk</td>\n",
       "      <td>New York</td>\n",
       "      <td>MN17</td>\n",
       "    </tr>\n",
       "    <tr>\n",
       "      <th>2565</th>\n",
       "      <td>2566</td>\n",
       "      <td>MN</td>\n",
       "      <td>Free</td>\n",
       "      <td>LinkNYC - Citybridge</td>\n",
       "      <td>40.775</td>\n",
       "      <td>-73.982</td>\n",
       "      <td>Outdoor Kiosk</td>\n",
       "      <td>New York</td>\n",
       "      <td>MN14</td>\n",
       "    </tr>\n",
       "  </tbody>\n",
       "</table>\n",
       "<p>2566 rows × 9 columns</p>\n",
       "</div>"
      ],
      "text/plain": [
       "      OBJECTID Borough          Type              Provider  Latitude  Longitude     Location_T      City NTACode\n",
       "0            1      BK  Limited Free             ALTICEUSA    40.658    -73.944        Outdoor  Brooklyn    BK60\n",
       "1            2      BK  Limited Free             ALTICEUSA    40.658    -73.947        Outdoor  Brooklyn    BK60\n",
       "2            3      BK  Limited Free             ALTICEUSA    40.658    -73.947        Outdoor  Brooklyn    BK60\n",
       "3            4      BK  Limited Free             ALTICEUSA    40.657    -73.947        Outdoor  Brooklyn    BK60\n",
       "...        ...     ...           ...                   ...       ...        ...            ...       ...     ...\n",
       "2562      2563      MN          Free  LinkNYC - Citybridge    40.750    -73.988  Outdoor Kiosk  New York    MN17\n",
       "2563      2564      MN          Free  LinkNYC - Citybridge    40.755    -73.984  Outdoor Kiosk  New York    MN17\n",
       "2564      2565      MN          Free  LinkNYC - Citybridge    40.762    -73.975  Outdoor Kiosk  New York    MN17\n",
       "2565      2566      MN          Free  LinkNYC - Citybridge    40.775    -73.982  Outdoor Kiosk  New York    MN14\n",
       "\n",
       "[2566 rows x 9 columns]"
      ]
     },
     "execution_count": 21,
     "metadata": {},
     "output_type": "execute_result"
    }
   ],
   "source": [
    "df_wifi2"
   ]
  },
  {
   "cell_type": "markdown",
   "id": "d5b2de27",
   "metadata": {},
   "source": [
    "#### 2) Using appropriate data visualization answer the following:\n",
    "- a. Plot the providers vs number of all wi-fi hotspots they have in operation? Who has\n",
    "the highest installations?"
   ]
  },
  {
   "cell_type": "code",
   "execution_count": 43,
   "id": "b02deb6e",
   "metadata": {},
   "outputs": [
    {
     "data": {
      "text/plain": [
       "LinkNYC - Citybridge       1134\n",
       "SPECTRUM                    343\n",
       "Transit Wireless            276\n",
       "ALTICEUSA                   237\n",
       "Harlem                      128\n",
       "Downtown Brooklyn           100\n",
       "NYPL                         90\n",
       "QPL                          65\n",
       "BPL                          59\n",
       "Manhattan Down Alliance      36\n",
       "Chelsea                      30\n",
       "NYCHA                        28\n",
       "AT&T                         27\n",
       "City Tech                    11\n",
       "Partner                       2\n",
       "Name: Provider, dtype: int64"
      ]
     },
     "execution_count": 43,
     "metadata": {},
     "output_type": "execute_result"
    }
   ],
   "source": [
    "df_wifi2['Provider'].value_counts()"
   ]
  },
  {
   "cell_type": "code",
   "execution_count": 32,
   "id": "ea52ddc0",
   "metadata": {},
   "outputs": [
    {
     "data": {
      "text/plain": [
       "<AxesSubplot:>"
      ]
     },
     "execution_count": 32,
     "metadata": {},
     "output_type": "execute_result"
    },
    {
     "data": {
      "image/png": "[encoded data removed]",
      "text/plain": [
       "<Figure size 432x288 with 1 Axes>"
      ]
     },
     "metadata": {
      "needs_background": "light"
     },
     "output_type": "display_data"
    }
   ],
   "source": [
    "df_wifi2['Provider'].value_counts().plot(kind = 'bar')\n",
    "#LinkNYC - Citybridge has the maximum number of installations (more than 1000)"
   ]
  },
  {
   "cell_type": "markdown",
   "id": "3c3e9d51",
   "metadata": {},
   "source": [
    "#### LinkNYC - Citybridge has the maximum number of installations (more than 1000)"
   ]
  },
  {
   "cell_type": "markdown",
   "id": "a8812500",
   "metadata": {},
   "source": [
    "#### 2b Plot providers vs number of free wifi hotspots."
   ]
  },
  {
   "cell_type": "code",
   "execution_count": 33,
   "id": "55723a57",
   "metadata": {
    "scrolled": true
   },
   "outputs": [
    {
     "data": {
      "text/html": [
       "<div>\n",
       "<style scoped>\n",
       "    .dataframe tbody tr th:only-of-type {\n",
       "        vertical-align: middle;\n",
       "    }\n",
       "\n",
       "    .dataframe tbody tr th {\n",
       "        vertical-align: top;\n",
       "    }\n",
       "\n",
       "    .dataframe thead th {\n",
       "        text-align: right;\n",
       "    }\n",
       "</style>\n",
       "<table border=\"1\" class=\"dataframe\">\n",
       "  <thead>\n",
       "    <tr style=\"text-align: right;\">\n",
       "      <th></th>\n",
       "      <th>OBJECTID</th>\n",
       "      <th>Borough</th>\n",
       "      <th>Type</th>\n",
       "      <th>Provider</th>\n",
       "      <th>Latitude</th>\n",
       "      <th>Longitude</th>\n",
       "      <th>Location_T</th>\n",
       "      <th>City</th>\n",
       "      <th>NTACode</th>\n",
       "    </tr>\n",
       "  </thead>\n",
       "  <tbody>\n",
       "    <tr>\n",
       "      <th>0</th>\n",
       "      <td>1</td>\n",
       "      <td>BK</td>\n",
       "      <td>Limited Free</td>\n",
       "      <td>ALTICEUSA</td>\n",
       "      <td>40.658</td>\n",
       "      <td>-73.944</td>\n",
       "      <td>Outdoor</td>\n",
       "      <td>Brooklyn</td>\n",
       "      <td>BK60</td>\n",
       "    </tr>\n",
       "    <tr>\n",
       "      <th>1</th>\n",
       "      <td>2</td>\n",
       "      <td>BK</td>\n",
       "      <td>Limited Free</td>\n",
       "      <td>ALTICEUSA</td>\n",
       "      <td>40.658</td>\n",
       "      <td>-73.947</td>\n",
       "      <td>Outdoor</td>\n",
       "      <td>Brooklyn</td>\n",
       "      <td>BK60</td>\n",
       "    </tr>\n",
       "    <tr>\n",
       "      <th>2</th>\n",
       "      <td>3</td>\n",
       "      <td>BK</td>\n",
       "      <td>Limited Free</td>\n",
       "      <td>ALTICEUSA</td>\n",
       "      <td>40.658</td>\n",
       "      <td>-73.947</td>\n",
       "      <td>Outdoor</td>\n",
       "      <td>Brooklyn</td>\n",
       "      <td>BK60</td>\n",
       "    </tr>\n",
       "    <tr>\n",
       "      <th>3</th>\n",
       "      <td>4</td>\n",
       "      <td>BK</td>\n",
       "      <td>Limited Free</td>\n",
       "      <td>ALTICEUSA</td>\n",
       "      <td>40.657</td>\n",
       "      <td>-73.947</td>\n",
       "      <td>Outdoor</td>\n",
       "      <td>Brooklyn</td>\n",
       "      <td>BK60</td>\n",
       "    </tr>\n",
       "    <tr>\n",
       "      <th>4</th>\n",
       "      <td>5</td>\n",
       "      <td>BK</td>\n",
       "      <td>Limited Free</td>\n",
       "      <td>ALTICEUSA</td>\n",
       "      <td>40.657</td>\n",
       "      <td>-73.947</td>\n",
       "      <td>Outdoor</td>\n",
       "      <td>Brooklyn</td>\n",
       "      <td>BK60</td>\n",
       "    </tr>\n",
       "  </tbody>\n",
       "</table>\n",
       "</div>"
      ],
      "text/plain": [
       "   OBJECTID Borough          Type   Provider  Latitude  Longitude Location_T      City NTACode\n",
       "0         1      BK  Limited Free  ALTICEUSA    40.658    -73.944    Outdoor  Brooklyn    BK60\n",
       "1         2      BK  Limited Free  ALTICEUSA    40.658    -73.947    Outdoor  Brooklyn    BK60\n",
       "2         3      BK  Limited Free  ALTICEUSA    40.658    -73.947    Outdoor  Brooklyn    BK60\n",
       "3         4      BK  Limited Free  ALTICEUSA    40.657    -73.947    Outdoor  Brooklyn    BK60\n",
       "4         5      BK  Limited Free  ALTICEUSA    40.657    -73.947    Outdoor  Brooklyn    BK60"
      ]
     },
     "execution_count": 33,
     "metadata": {},
     "output_type": "execute_result"
    }
   ],
   "source": [
    "df_wifi2.head()"
   ]
  },
  {
   "cell_type": "code",
   "execution_count": 34,
   "id": "97a260cc",
   "metadata": {},
   "outputs": [
    {
     "data": {
      "text/plain": [
       "Free            1983\n",
       "Limited Free     581\n",
       "Partner Site       2\n",
       "Name: Type, dtype: int64"
      ]
     },
     "execution_count": 34,
     "metadata": {},
     "output_type": "execute_result"
    }
   ],
   "source": [
    "df_wifi2['Type'].value_counts()"
   ]
  },
  {
   "cell_type": "code",
   "execution_count": 63,
   "id": "84a2b628",
   "metadata": {},
   "outputs": [],
   "source": [
    "#Creating and updating a free flag colum\n",
    "df_wifi2['free_flag'] = np.where(df_wifi2['Type']== 'Free', 1 , 0)\n"
   ]
  },
  {
   "cell_type": "code",
   "execution_count": 65,
   "id": "7d5b7ae2",
   "metadata": {
    "scrolled": true
   },
   "outputs": [
    {
     "data": {
      "text/plain": [
       "1    1983\n",
       "0     583\n",
       "Name: free_flag, dtype: int64"
      ]
     },
     "execution_count": 65,
     "metadata": {},
     "output_type": "execute_result"
    }
   ],
   "source": [
    "df_wifi2['free_flag'].value_counts()"
   ]
  },
  {
   "cell_type": "code",
   "execution_count": 66,
   "id": "90bfe4f3",
   "metadata": {},
   "outputs": [
    {
     "data": {
      "text/plain": [
       "1    1983\n",
       "0     583\n",
       "Name: free_flag, dtype: int64"
      ]
     },
     "execution_count": 66,
     "metadata": {},
     "output_type": "execute_result"
    }
   ],
   "source": [
    "df_wifi2['free_flag'].value_counts()"
   ]
  },
  {
   "cell_type": "code",
   "execution_count": 69,
   "id": "e4032da1",
   "metadata": {},
   "outputs": [
    {
     "data": {
      "text/plain": [
       "<AxesSubplot:xlabel='Provider'>"
      ]
     },
     "execution_count": 69,
     "metadata": {},
     "output_type": "execute_result"
    },
    {
     "data": {
      "image/png": "[encoded data removed]",
      "text/plain": [
       "<Figure size 432x288 with 1 Axes>"
      ]
     },
     "metadata": {
      "needs_background": "light"
     },
     "output_type": "display_data"
    }
   ],
   "source": [
    "df_wifi2.groupby('Provider')['free_flag'].sum().plot(kind = 'bar')\n"
   ]
  },
  {
   "cell_type": "markdown",
   "id": "1f854080",
   "metadata": {},
   "source": [
    "#### 2b. Plot shared above.Thus for Free wifi spots also, 'LinkNYC - Citybridge remains the top provider"
   ]
  },
  {
   "cell_type": "code",
   "execution_count": null,
   "id": "e42b8ec0",
   "metadata": {},
   "outputs": [],
   "source": []
  },
  {
   "cell_type": "markdown",
   "id": "edf25ae8",
   "metadata": {},
   "source": [
    "#### 2c. Are there any provider(s) who do not provide free wifi?"
   ]
  },
  {
   "cell_type": "code",
   "execution_count": 82,
   "id": "e68c430f",
   "metadata": {},
   "outputs": [
    {
     "name": "stdout",
     "output_type": "stream",
     "text": [
      "The providers with no free wifi are ['ALTICEUSA', 'Partner', 'SPECTRUM']\n"
     ]
    }
   ],
   "source": [
    "#We can shortlist those providers using either the free_flag column or the type column\n",
    "\n",
    "series_free_sum = df_wifi2.groupby('Provider')['free_flag'].sum()\n",
    "\n",
    "list1 = list(series_free_sum[series_free_sum == 0].index)\n",
    "\n",
    "print('The providers with no free wifi are {a}'.format (a = list1))"
   ]
  },
  {
   "cell_type": "markdown",
   "id": "846df0f5",
   "metadata": {},
   "source": [
    "#### 2c. Are there any provider(s) who do not provide free wifi?  \n",
    "ALTICEUSA, Partner and SPECTRUM  do not provide free wifi"
   ]
  },
  {
   "cell_type": "markdown",
   "id": "101954a6",
   "metadata": {},
   "source": [
    "#### 2d. Which Location type (Location_T) are most common and least common?"
   ]
  },
  {
   "cell_type": "code",
   "execution_count": 90,
   "id": "4e401023",
   "metadata": {},
   "outputs": [
    {
     "name": "stdout",
     "output_type": "stream",
     "text": [
      "The most common location type is 'Outdoor Kiosk'\n"
     ]
    }
   ],
   "source": [
    "#Using idxmax method, we can retrieve the most common location type\n",
    "most_common = df_wifi2['Location_T'].value_counts().idxmax()\n",
    "\n",
    "print('The most common location type is \\'{a}\\''.format(a = most_common))"
   ]
  },
  {
   "cell_type": "code",
   "execution_count": 91,
   "id": "9211bca6",
   "metadata": {},
   "outputs": [
    {
     "name": "stdout",
     "output_type": "stream",
     "text": [
      "The least common location type is 'Outdoor TWC Aerial'\n"
     ]
    }
   ],
   "source": [
    "#Using idxmin method, we can retrieve the least common location type\n",
    "least_common = df_wifi2['Location_T'].value_counts().idxmin()\n",
    "print('The least common location type is \\'{a}\\''.format(a = least_common))"
   ]
  },
  {
   "cell_type": "markdown",
   "id": "8bae24ab",
   "metadata": {},
   "source": [
    "#### 2 e. How many free “indoor” and “outdoor” hotspots are there? Which companies have the highest number of Outdoor Free installations. "
   ]
  },
  {
   "cell_type": "code",
   "execution_count": 92,
   "id": "507fe3b9",
   "metadata": {},
   "outputs": [
    {
     "data": {
      "text/plain": [
       "Outdoor Kiosk         1134\n",
       "Outdoor                696\n",
       "Subway Station         276\n",
       "Library                214\n",
       "Indoor                 125\n",
       "Outdoor TWC Aerial     121\n",
       "Name: Location_T, dtype: int64"
      ]
     },
     "execution_count": 92,
     "metadata": {},
     "output_type": "execute_result"
    }
   ],
   "source": [
    "df_wifi2['Location_T'].value_counts()"
   ]
  },
  {
   "cell_type": "code",
   "execution_count": 98,
   "id": "90891ced",
   "metadata": {},
   "outputs": [],
   "source": [
    "#Assuming 'Subway Station' and 'Libary' also to be of indoor type\n",
    "#Applying a substring check method and updating the outdoor_flag column\n",
    "\n",
    "df_wifi2['outdoor_flag'] = np.where(df_wifi2['Location_T'].str.find('Outdoor') != -1, 1 , 0)"
   ]
  },
  {
   "cell_type": "code",
   "execution_count": 99,
   "id": "61897b41",
   "metadata": {},
   "outputs": [
    {
     "data": {
      "text/plain": [
       "1    1951\n",
       "0     615\n",
       "Name: outdoor_flag, dtype: int64"
      ]
     },
     "execution_count": 99,
     "metadata": {},
     "output_type": "execute_result"
    }
   ],
   "source": [
    "df_wifi2['outdoor_flag'].value_counts()"
   ]
  },
  {
   "cell_type": "code",
   "execution_count": 103,
   "id": "047773e8",
   "metadata": {},
   "outputs": [
    {
     "data": {
      "text/plain": [
       "1    1951\n",
       "Name: outdoor_flag, dtype: int64"
      ]
     },
     "execution_count": 103,
     "metadata": {},
     "output_type": "execute_result"
    }
   ],
   "source": [
    "#Checking if the outdoor flag has been assigned correctly or not\n",
    "\n",
    "df_wifi2[df_wifi2['Location_T'].str.find('Outdoor') != -1 ]['outdoor_flag'].value_counts()"
   ]
  },
  {
   "cell_type": "code",
   "execution_count": 104,
   "id": "02c0ed14",
   "metadata": {},
   "outputs": [
    {
     "data": {
      "text/html": [
       "<div>\n",
       "<style scoped>\n",
       "    .dataframe tbody tr th:only-of-type {\n",
       "        vertical-align: middle;\n",
       "    }\n",
       "\n",
       "    .dataframe tbody tr th {\n",
       "        vertical-align: top;\n",
       "    }\n",
       "\n",
       "    .dataframe thead th {\n",
       "        text-align: right;\n",
       "    }\n",
       "</style>\n",
       "<table border=\"1\" class=\"dataframe\">\n",
       "  <thead>\n",
       "    <tr style=\"text-align: right;\">\n",
       "      <th></th>\n",
       "      <th>OBJECTID</th>\n",
       "      <th>Borough</th>\n",
       "      <th>Type</th>\n",
       "      <th>Provider</th>\n",
       "      <th>Latitude</th>\n",
       "      <th>Longitude</th>\n",
       "      <th>Location_T</th>\n",
       "      <th>City</th>\n",
       "      <th>NTACode</th>\n",
       "      <th>free_flag</th>\n",
       "      <th>outdoor_flag</th>\n",
       "    </tr>\n",
       "  </thead>\n",
       "  <tbody>\n",
       "    <tr>\n",
       "      <th>0</th>\n",
       "      <td>1</td>\n",
       "      <td>BK</td>\n",
       "      <td>Limited Free</td>\n",
       "      <td>ALTICEUSA</td>\n",
       "      <td>40.658</td>\n",
       "      <td>-73.944</td>\n",
       "      <td>Outdoor</td>\n",
       "      <td>Brooklyn</td>\n",
       "      <td>BK60</td>\n",
       "      <td>0</td>\n",
       "      <td>1</td>\n",
       "    </tr>\n",
       "    <tr>\n",
       "      <th>1</th>\n",
       "      <td>2</td>\n",
       "      <td>BK</td>\n",
       "      <td>Limited Free</td>\n",
       "      <td>ALTICEUSA</td>\n",
       "      <td>40.658</td>\n",
       "      <td>-73.947</td>\n",
       "      <td>Outdoor</td>\n",
       "      <td>Brooklyn</td>\n",
       "      <td>BK60</td>\n",
       "      <td>0</td>\n",
       "      <td>1</td>\n",
       "    </tr>\n",
       "    <tr>\n",
       "      <th>2</th>\n",
       "      <td>3</td>\n",
       "      <td>BK</td>\n",
       "      <td>Limited Free</td>\n",
       "      <td>ALTICEUSA</td>\n",
       "      <td>40.658</td>\n",
       "      <td>-73.947</td>\n",
       "      <td>Outdoor</td>\n",
       "      <td>Brooklyn</td>\n",
       "      <td>BK60</td>\n",
       "      <td>0</td>\n",
       "      <td>1</td>\n",
       "    </tr>\n",
       "    <tr>\n",
       "      <th>3</th>\n",
       "      <td>4</td>\n",
       "      <td>BK</td>\n",
       "      <td>Limited Free</td>\n",
       "      <td>ALTICEUSA</td>\n",
       "      <td>40.657</td>\n",
       "      <td>-73.947</td>\n",
       "      <td>Outdoor</td>\n",
       "      <td>Brooklyn</td>\n",
       "      <td>BK60</td>\n",
       "      <td>0</td>\n",
       "      <td>1</td>\n",
       "    </tr>\n",
       "    <tr>\n",
       "      <th>4</th>\n",
       "      <td>5</td>\n",
       "      <td>BK</td>\n",
       "      <td>Limited Free</td>\n",
       "      <td>ALTICEUSA</td>\n",
       "      <td>40.657</td>\n",
       "      <td>-73.947</td>\n",
       "      <td>Outdoor</td>\n",
       "      <td>Brooklyn</td>\n",
       "      <td>BK60</td>\n",
       "      <td>0</td>\n",
       "      <td>1</td>\n",
       "    </tr>\n",
       "  </tbody>\n",
       "</table>\n",
       "</div>"
      ],
      "text/plain": [
       "   OBJECTID Borough          Type   Provider  Latitude  Longitude Location_T      City NTACode  free_flag  outdoor_flag\n",
       "0         1      BK  Limited Free  ALTICEUSA    40.658    -73.944    Outdoor  Brooklyn    BK60          0             1\n",
       "1         2      BK  Limited Free  ALTICEUSA    40.658    -73.947    Outdoor  Brooklyn    BK60          0             1\n",
       "2         3      BK  Limited Free  ALTICEUSA    40.658    -73.947    Outdoor  Brooklyn    BK60          0             1\n",
       "3         4      BK  Limited Free  ALTICEUSA    40.657    -73.947    Outdoor  Brooklyn    BK60          0             1\n",
       "4         5      BK  Limited Free  ALTICEUSA    40.657    -73.947    Outdoor  Brooklyn    BK60          0             1"
      ]
     },
     "execution_count": 104,
     "metadata": {},
     "output_type": "execute_result"
    }
   ],
   "source": [
    "df_wifi2.head()"
   ]
  },
  {
   "cell_type": "code",
   "execution_count": 114,
   "id": "9221482d",
   "metadata": {},
   "outputs": [
    {
     "name": "stdout",
     "output_type": "stream",
     "text": [
      "The count of free indoor hotspots is 490\n"
     ]
    }
   ],
   "source": [
    "#Checking free indoor\n",
    "\n",
    "bool_free_indoor = (df_wifi2['free_flag'] == 1) & (df_wifi2['outdoor_flag'] ==0)\n",
    "\n",
    "\n",
    "free_indoor_count = df_wifi2.loc[bool_free_indoor,'OBJECTID'].count()\n",
    "\n",
    "print('The count of free indoor hotspots is ' + str(free_indoor_count))\n"
   ]
  },
  {
   "cell_type": "code",
   "execution_count": 115,
   "id": "49ccb150",
   "metadata": {},
   "outputs": [
    {
     "name": "stdout",
     "output_type": "stream",
     "text": [
      "The count of free outdoor hotspots is 1493\n"
     ]
    }
   ],
   "source": [
    "#Checking free outdoor\n",
    "\n",
    "bool_free_outdoor = (df_wifi2['free_flag'] == 1) & (df_wifi2['outdoor_flag'] ==1)\n",
    "\n",
    "free_outdoor_count = df_wifi2.loc[bool_free_outdoor,'OBJECTID'].count()\n",
    "\n",
    "print('The count of free outdoor hotspots is ' + str(free_outdoor_count))"
   ]
  },
  {
   "cell_type": "code",
   "execution_count": 119,
   "id": "5d1bd408",
   "metadata": {},
   "outputs": [
    {
     "data": {
      "text/plain": [
       "<AxesSubplot:>"
      ]
     },
     "execution_count": 119,
     "metadata": {},
     "output_type": "execute_result"
    },
    {
     "data": {
      "image/png": "[encoded data removed]",
      "text/plain": [
       "<Figure size 432x288 with 1 Axes>"
      ]
     },
     "metadata": {
      "needs_background": "light"
     },
     "output_type": "display_data"
    }
   ],
   "source": [
    "#Checking which companies have the highest number of Outdoor Free installations. \n",
    "\n",
    "df_free_outdoor = df_wifi2[bool_free_outdoor]\n",
    "df_free_outdoor['Provider'].value_counts().plot(kind = 'bar')"
   ]
  },
  {
   "cell_type": "code",
   "execution_count": 124,
   "id": "d88f5b7b",
   "metadata": {},
   "outputs": [
    {
     "data": {
      "text/plain": [
       "LinkNYC - Citybridge       1134\n",
       "Harlem                      128\n",
       "Downtown Brooklyn           100\n",
       "Manhattan Down Alliance      36\n",
       "Chelsea                      30\n",
       "NYCHA                        28\n",
       "AT&T                         26\n",
       "City Tech                    11\n",
       "Name: Provider, dtype: int64"
      ]
     },
     "execution_count": 124,
     "metadata": {},
     "output_type": "execute_result"
    }
   ],
   "source": [
    "df_free_outdoor['Provider'].value_counts()"
   ]
  },
  {
   "cell_type": "code",
   "execution_count": 125,
   "id": "09ab6fce",
   "metadata": {},
   "outputs": [
    {
     "name": "stdout",
     "output_type": "stream",
     "text": [
      "Thus the top 3 free outdoor providers are LinkNYC - Citybridge, Harlem and Downtown Brooklyn  \n"
     ]
    }
   ],
   "source": [
    "print('Thus the top 3 free outdoor providers are LinkNYC - Citybridge, Harlem and Downtown Brooklyn  ')"
   ]
  },
  {
   "cell_type": "code",
   "execution_count": null,
   "id": "f9036155",
   "metadata": {},
   "outputs": [],
   "source": []
  },
  {
   "cell_type": "code",
   "execution_count": null,
   "id": "637b69b9",
   "metadata": {},
   "outputs": [],
   "source": []
  },
  {
   "cell_type": "code",
   "execution_count": null,
   "id": "52483dba",
   "metadata": {},
   "outputs": [],
   "source": []
  },
  {
   "cell_type": "code",
   "execution_count": null,
   "id": "06a2da4a",
   "metadata": {},
   "outputs": [],
   "source": []
  }
 ],
 "metadata": {
  "hide_input": false,
  "kernelspec": {
   "display_name": "Python 3",
   "language": "python",
   "name": "python3"
  },
  "language_info": {
   "codemirror_mode": {
    "name": "ipython",
    "version": 3
   },
   "file_extension": ".py",
   "mimetype": "text/x-python",
   "name": "python",
   "nbconvert_exporter": "python",
   "pygments_lexer": "ipython3",
   "version": "3.8.8"
  }
 },
 "nbformat": 4,
 "nbformat_minor": 5
}
