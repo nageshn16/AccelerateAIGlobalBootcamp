{
 "cells": [
  {
   "cell_type": "markdown",
   "id": "26e6d158",
   "metadata": {},
   "source": [
    "## Q1. Beer grouping use case"
   ]
  },
  {
   "cell_type": "markdown",
   "id": "28164b73",
   "metadata": {},
   "source": [
    "Company X would like to enter the market with a new beer brand. Before it decides the kind of beer it will launch, it must understand what kinds of products already exist in the market and what kinds of segments the products address. To understand the segments, the company collects specifications of few samples of beer brands (as given in the Beer Dataset). \n",
    "\n",
    "Please refer to Beer Grouping dataset on GitHub - \n",
    "https://github.com/Accelerate-AI/Data-Science-Global-Bootcamp/blob/main/ClassAssignment/Assignment10/Beer_Grouping.xlsx \n",
    "\n",
    "Assuming there are 3 segments, use K-Means Algorithm to create three clusters using the Beer Dataset. Once the clusters are finalized, interpret the clusters."
   ]
  },
  {
   "cell_type": "code",
   "execution_count": 81,
   "id": "8677dd78",
   "metadata": {},
   "outputs": [],
   "source": [
    "import numpy as np\n",
    "import pandas as pd\n",
    "from scipy import stats\n",
    "import matplotlib.pyplot as plt\n",
    "import matplotlib.cm as cm\n",
    "\n",
    "import seaborn as sns\n",
    "\n",
    "from sklearn.cluster import AgglomerativeClustering\n",
    "from sklearn.preprocessing import StandardScaler\n",
    "\n",
    "from sklearn.cluster import KMeans\n",
    "from sklearn.metrics import davies_bouldin_score, silhouette_score, silhouette_samples\n",
    "import scipy.cluster.hierarchy as sch"
   ]
  },
  {
   "cell_type": "code",
   "execution_count": 6,
   "id": "efd86756",
   "metadata": {},
   "outputs": [],
   "source": [
    "df_beer = pd.read_excel('Beer_Grouping.xlsx')"
   ]
  },
  {
   "cell_type": "code",
   "execution_count": 7,
   "id": "587f4d36",
   "metadata": {},
   "outputs": [
    {
     "name": "stdout",
     "output_type": "stream",
     "text": [
      "<class 'pandas.core.frame.DataFrame'>\n",
      "RangeIndex: 20 entries, 0 to 19\n",
      "Data columns (total 5 columns):\n",
      " #   Column    Non-Null Count  Dtype  \n",
      "---  ------    --------------  -----  \n",
      " 0   Name      20 non-null     object \n",
      " 1   Calories  20 non-null     int64  \n",
      " 2   Sodium    20 non-null     int64  \n",
      " 3   Alcohol   20 non-null     float64\n",
      " 4   Cost      20 non-null     float64\n",
      "dtypes: float64(2), int64(2), object(1)\n",
      "memory usage: 928.0+ bytes\n"
     ]
    }
   ],
   "source": [
    "df_beer.info()"
   ]
  },
  {
   "cell_type": "code",
   "execution_count": 8,
   "id": "1bcb0302",
   "metadata": {},
   "outputs": [
    {
     "data": {
      "text/html": [
       "<div>\n",
       "<style scoped>\n",
       "    .dataframe tbody tr th:only-of-type {\n",
       "        vertical-align: middle;\n",
       "    }\n",
       "\n",
       "    .dataframe tbody tr th {\n",
       "        vertical-align: top;\n",
       "    }\n",
       "\n",
       "    .dataframe thead th {\n",
       "        text-align: right;\n",
       "    }\n",
       "</style>\n",
       "<table border=\"1\" class=\"dataframe\">\n",
       "  <thead>\n",
       "    <tr style=\"text-align: right;\">\n",
       "      <th></th>\n",
       "      <th>Name</th>\n",
       "      <th>Calories</th>\n",
       "      <th>Sodium</th>\n",
       "      <th>Alcohol</th>\n",
       "      <th>Cost</th>\n",
       "    </tr>\n",
       "  </thead>\n",
       "  <tbody>\n",
       "    <tr>\n",
       "      <th>0</th>\n",
       "      <td>Budweiser</td>\n",
       "      <td>144</td>\n",
       "      <td>15</td>\n",
       "      <td>4.7</td>\n",
       "      <td>0.43</td>\n",
       "    </tr>\n",
       "    <tr>\n",
       "      <th>1</th>\n",
       "      <td>Schlitz</td>\n",
       "      <td>151</td>\n",
       "      <td>19</td>\n",
       "      <td>4.9</td>\n",
       "      <td>0.43</td>\n",
       "    </tr>\n",
       "    <tr>\n",
       "      <th>2</th>\n",
       "      <td>Lowenbrau</td>\n",
       "      <td>157</td>\n",
       "      <td>15</td>\n",
       "      <td>0.9</td>\n",
       "      <td>0.48</td>\n",
       "    </tr>\n",
       "    <tr>\n",
       "      <th>3</th>\n",
       "      <td>Kronenbourg</td>\n",
       "      <td>170</td>\n",
       "      <td>7</td>\n",
       "      <td>5.2</td>\n",
       "      <td>0.73</td>\n",
       "    </tr>\n",
       "    <tr>\n",
       "      <th>4</th>\n",
       "      <td>Heineken</td>\n",
       "      <td>152</td>\n",
       "      <td>11</td>\n",
       "      <td>5.0</td>\n",
       "      <td>0.77</td>\n",
       "    </tr>\n",
       "  </tbody>\n",
       "</table>\n",
       "</div>"
      ],
      "text/plain": [
       "          Name  Calories  Sodium  Alcohol  Cost\n",
       "0    Budweiser       144      15      4.7  0.43\n",
       "1      Schlitz       151      19      4.9  0.43\n",
       "2    Lowenbrau       157      15      0.9  0.48\n",
       "3  Kronenbourg       170       7      5.2  0.73\n",
       "4     Heineken       152      11      5.0  0.77"
      ]
     },
     "execution_count": 8,
     "metadata": {},
     "output_type": "execute_result"
    }
   ],
   "source": [
    "df_beer.head()"
   ]
  },
  {
   "cell_type": "code",
   "execution_count": 20,
   "id": "a848009e",
   "metadata": {},
   "outputs": [],
   "source": [
    "col_num_beer = ['Calories', 'Sodium', 'Alcohol', 'Cost']\n",
    "\n",
    "array_beer_std = StandardScaler().fit_transform(df_beer[col_num_beer])\n",
    "\n",
    "df_beer_std = pd.DataFrame(array_beer_std, columns = col_num_beer)"
   ]
  },
  {
   "cell_type": "code",
   "execution_count": 21,
   "id": "d80ba16e",
   "metadata": {},
   "outputs": [
    {
     "data": {
      "text/html": [
       "<div>\n",
       "<style scoped>\n",
       "    .dataframe tbody tr th:only-of-type {\n",
       "        vertical-align: middle;\n",
       "    }\n",
       "\n",
       "    .dataframe tbody tr th {\n",
       "        vertical-align: top;\n",
       "    }\n",
       "\n",
       "    .dataframe thead th {\n",
       "        text-align: right;\n",
       "    }\n",
       "</style>\n",
       "<table border=\"1\" class=\"dataframe\">\n",
       "  <thead>\n",
       "    <tr style=\"text-align: right;\">\n",
       "      <th></th>\n",
       "      <th>Name</th>\n",
       "      <th>Calories</th>\n",
       "      <th>Sodium</th>\n",
       "      <th>Alcohol</th>\n",
       "      <th>Cost</th>\n",
       "    </tr>\n",
       "  </thead>\n",
       "  <tbody>\n",
       "    <tr>\n",
       "      <th>0</th>\n",
       "      <td>Budweiser</td>\n",
       "      <td>0.387913</td>\n",
       "      <td>0.007795</td>\n",
       "      <td>0.433808</td>\n",
       "      <td>-0.456830</td>\n",
       "    </tr>\n",
       "    <tr>\n",
       "      <th>1</th>\n",
       "      <td>Schlitz</td>\n",
       "      <td>0.625066</td>\n",
       "      <td>0.631369</td>\n",
       "      <td>0.622420</td>\n",
       "      <td>-0.456830</td>\n",
       "    </tr>\n",
       "    <tr>\n",
       "      <th>2</th>\n",
       "      <td>Lowenbrau</td>\n",
       "      <td>0.828339</td>\n",
       "      <td>0.007795</td>\n",
       "      <td>-3.149822</td>\n",
       "      <td>-0.102698</td>\n",
       "    </tr>\n",
       "    <tr>\n",
       "      <th>3</th>\n",
       "      <td>Kronenbourg</td>\n",
       "      <td>1.268765</td>\n",
       "      <td>-1.239354</td>\n",
       "      <td>0.905338</td>\n",
       "      <td>1.667960</td>\n",
       "    </tr>\n",
       "    <tr>\n",
       "      <th>4</th>\n",
       "      <td>Heineken</td>\n",
       "      <td>0.658944</td>\n",
       "      <td>-0.615780</td>\n",
       "      <td>0.716726</td>\n",
       "      <td>1.951265</td>\n",
       "    </tr>\n",
       "  </tbody>\n",
       "</table>\n",
       "</div>"
      ],
      "text/plain": [
       "          Name  Calories    Sodium   Alcohol      Cost\n",
       "0    Budweiser  0.387913  0.007795  0.433808 -0.456830\n",
       "1      Schlitz  0.625066  0.631369  0.622420 -0.456830\n",
       "2    Lowenbrau  0.828339  0.007795 -3.149822 -0.102698\n",
       "3  Kronenbourg  1.268765 -1.239354  0.905338  1.667960\n",
       "4     Heineken  0.658944 -0.615780  0.716726  1.951265"
      ]
     },
     "execution_count": 21,
     "metadata": {},
     "output_type": "execute_result"
    }
   ],
   "source": [
    "df_beer_std.insert(0, 'Name', df_beer['Name'])\n",
    "\n",
    "\n",
    "df_beer_std.head()"
   ]
  },
  {
   "cell_type": "code",
   "execution_count": 40,
   "id": "e766da01",
   "metadata": {
    "scrolled": true
   },
   "outputs": [],
   "source": [
    "import warnings\n",
    "warnings.filterwarnings('ignore')\n",
    "\n",
    "x = df_beer_std[col_num_beer]\n",
    "\n",
    "sse, db, slc = {}, {}, {}\n",
    "for k in range(2, 20):\n",
    "    kmeans = KMeans(n_clusters = k, max_iter = 1000, n_init = 10, random_state=123).fit(x)\n",
    "    clusters = kmeans.labels_\n",
    "    sse[k] = round(kmeans.inertia_,3)\n",
    "    db[k] = round(davies_bouldin_score(x, clusters),3)\n",
    "    slc[k] = round(silhouette_score(x, clusters),3)   \n",
    "\n"
   ]
  },
  {
   "cell_type": "code",
   "execution_count": 41,
   "id": "a1c70b62",
   "metadata": {},
   "outputs": [
    {
     "name": "stdout",
     "output_type": "stream",
     "text": [
      "The average silhouette score for n_clusters =  2 is 0.331\n",
      "The average silhouette score for n_clusters =  3 is 0.458\n",
      "The average silhouette score for n_clusters =  4 is 0.475\n",
      "The average silhouette score for n_clusters =  5 is 0.444\n",
      "The average silhouette score for n_clusters =  6 is 0.365\n",
      "The average silhouette score for n_clusters =  7 is 0.339\n",
      "The average silhouette score for n_clusters =  8 is 0.298\n",
      "The average silhouette score for n_clusters =  9 is 0.294\n",
      "The average silhouette score for n_clusters =  10 is 0.267\n",
      "The average silhouette score for n_clusters =  11 is 0.255\n",
      "The average silhouette score for n_clusters =  12 is 0.268\n",
      "The average silhouette score for n_clusters =  13 is 0.258\n",
      "The average silhouette score for n_clusters =  14 is 0.195\n",
      "The average silhouette score for n_clusters =  15 is 0.184\n",
      "The average silhouette score for n_clusters =  16 is 0.123\n",
      "The average silhouette score for n_clusters =  17 is 0.133\n",
      "The average silhouette score for n_clusters =  18 is 0.098\n",
      "The average silhouette score for n_clusters =  19 is 0.054\n"
     ]
    }
   ],
   "source": [
    "for k in slc:\n",
    "    print('The average silhouette score for n_clusters = ', k, 'is', slc[k])\n",
    "\n"
   ]
  },
  {
   "cell_type": "code",
   "execution_count": 43,
   "id": "15f66944",
   "metadata": {},
   "outputs": [
    {
     "name": "stdout",
     "output_type": "stream",
     "text": [
      "The n_clusters with the max average silhouette score is 4\n"
     ]
    }
   ],
   "source": [
    "max_value = max(slc, key=slc.get)\n",
    "print('The n_clusters with the max average silhouette score is',max_value)"
   ]
  },
  {
   "cell_type": "code",
   "execution_count": 90,
   "id": "6d0967a0",
   "metadata": {},
   "outputs": [
    {
     "data": {
      "image/png": "[encoded data removed]",
      "text/plain": [
       "<Figure size 576x432 with 1 Axes>"
      ]
     },
     "metadata": {
      "needs_background": "light"
     },
     "output_type": "display_data"
    }
   ],
   "source": [
    "plt.figure(figsize=(8, 6))\n",
    "plt.plot(list(sse.keys()), list(sse.values()), marker='o')\n",
    "plt.xlabel('Number of Clusters', fontsize=24)\n",
    "plt.ylabel('SSE', fontsize=24)\n",
    "plt.show()"
   ]
  },
  {
   "cell_type": "code",
   "execution_count": null,
   "id": "497a2228",
   "metadata": {},
   "outputs": [],
   "source": []
  },
  {
   "cell_type": "code",
   "execution_count": null,
   "id": "8d72373e",
   "metadata": {},
   "outputs": [],
   "source": []
  },
  {
   "cell_type": "code",
   "execution_count": null,
   "id": "217f2557",
   "metadata": {},
   "outputs": [],
   "source": []
  },
  {
   "cell_type": "markdown",
   "id": "c3f4819f",
   "metadata": {},
   "source": [
    "#### Though the optimal number of clusters is 4, we will go ahead with k = 3 as it has been instructed in the question"
   ]
  },
  {
   "cell_type": "code",
   "execution_count": 44,
   "id": "96395eb1",
   "metadata": {},
   "outputs": [],
   "source": [
    "k_means_ans = KMeans(n_clusters = 3, max_iter = 1000, n_init = 10, random_state=123).fit(x)\n",
    "\n"
   ]
  },
  {
   "cell_type": "code",
   "execution_count": 45,
   "id": "8e9b97e8",
   "metadata": {},
   "outputs": [
    {
     "name": "stdout",
     "output_type": "stream",
     "text": [
      "[2 2 1 0 0 2 2 2 1 1 2 1 1 0 0 1 2 2 1 1]\n"
     ]
    }
   ],
   "source": [
    "print(k_means_ans.labels_)"
   ]
  },
  {
   "cell_type": "code",
   "execution_count": 52,
   "id": "6e4bb585",
   "metadata": {},
   "outputs": [
    {
     "data": {
      "text/html": [
       "<div>\n",
       "<style scoped>\n",
       "    .dataframe tbody tr th:only-of-type {\n",
       "        vertical-align: middle;\n",
       "    }\n",
       "\n",
       "    .dataframe tbody tr th {\n",
       "        vertical-align: top;\n",
       "    }\n",
       "\n",
       "    .dataframe thead th {\n",
       "        text-align: right;\n",
       "    }\n",
       "</style>\n",
       "<table border=\"1\" class=\"dataframe\">\n",
       "  <thead>\n",
       "    <tr style=\"text-align: right;\">\n",
       "      <th></th>\n",
       "      <th>Name</th>\n",
       "      <th>Calories</th>\n",
       "      <th>Sodium</th>\n",
       "      <th>Alcohol</th>\n",
       "      <th>Cost</th>\n",
       "      <th>Cluster</th>\n",
       "    </tr>\n",
       "  </thead>\n",
       "  <tbody>\n",
       "    <tr>\n",
       "      <th>3</th>\n",
       "      <td>Kronenbourg</td>\n",
       "      <td>170</td>\n",
       "      <td>7</td>\n",
       "      <td>5.2</td>\n",
       "      <td>0.73</td>\n",
       "      <td>0</td>\n",
       "    </tr>\n",
       "    <tr>\n",
       "      <th>4</th>\n",
       "      <td>Heineken</td>\n",
       "      <td>152</td>\n",
       "      <td>11</td>\n",
       "      <td>5.0</td>\n",
       "      <td>0.77</td>\n",
       "      <td>0</td>\n",
       "    </tr>\n",
       "    <tr>\n",
       "      <th>13</th>\n",
       "      <td>Becks</td>\n",
       "      <td>150</td>\n",
       "      <td>19</td>\n",
       "      <td>4.7</td>\n",
       "      <td>0.76</td>\n",
       "      <td>0</td>\n",
       "    </tr>\n",
       "    <tr>\n",
       "      <th>14</th>\n",
       "      <td>Kirin</td>\n",
       "      <td>149</td>\n",
       "      <td>6</td>\n",
       "      <td>5.0</td>\n",
       "      <td>0.79</td>\n",
       "      <td>0</td>\n",
       "    </tr>\n",
       "  </tbody>\n",
       "</table>\n",
       "</div>"
      ],
      "text/plain": [
       "           Name  Calories  Sodium  Alcohol  Cost  Cluster\n",
       "3   Kronenbourg       170       7      5.2  0.73        0\n",
       "4      Heineken       152      11      5.0  0.77        0\n",
       "13        Becks       150      19      4.7  0.76        0\n",
       "14        Kirin       149       6      5.0  0.79        0"
      ]
     },
     "execution_count": 52,
     "metadata": {},
     "output_type": "execute_result"
    }
   ],
   "source": [
    "df_beer['Cluster'] = k_means_ans.labels_\n",
    "\n",
    "df_beer.loc[df_beer['Cluster'] == 0]"
   ]
  },
  {
   "cell_type": "code",
   "execution_count": 53,
   "id": "d9756d7b",
   "metadata": {},
   "outputs": [
    {
     "data": {
      "text/html": [
       "<div>\n",
       "<style scoped>\n",
       "    .dataframe tbody tr th:only-of-type {\n",
       "        vertical-align: middle;\n",
       "    }\n",
       "\n",
       "    .dataframe tbody tr th {\n",
       "        vertical-align: top;\n",
       "    }\n",
       "\n",
       "    .dataframe thead th {\n",
       "        text-align: right;\n",
       "    }\n",
       "</style>\n",
       "<table border=\"1\" class=\"dataframe\">\n",
       "  <thead>\n",
       "    <tr style=\"text-align: right;\">\n",
       "      <th></th>\n",
       "      <th>Name</th>\n",
       "      <th>Calories</th>\n",
       "      <th>Sodium</th>\n",
       "      <th>Alcohol</th>\n",
       "      <th>Cost</th>\n",
       "      <th>Cluster</th>\n",
       "    </tr>\n",
       "  </thead>\n",
       "  <tbody>\n",
       "    <tr>\n",
       "      <th>2</th>\n",
       "      <td>Lowenbrau</td>\n",
       "      <td>157</td>\n",
       "      <td>15</td>\n",
       "      <td>0.9</td>\n",
       "      <td>0.48</td>\n",
       "      <td>1</td>\n",
       "    </tr>\n",
       "    <tr>\n",
       "      <th>8</th>\n",
       "      <td>Miller_Lite</td>\n",
       "      <td>99</td>\n",
       "      <td>10</td>\n",
       "      <td>4.3</td>\n",
       "      <td>0.43</td>\n",
       "      <td>1</td>\n",
       "    </tr>\n",
       "    <tr>\n",
       "      <th>9</th>\n",
       "      <td>Budweiser_Light</td>\n",
       "      <td>113</td>\n",
       "      <td>8</td>\n",
       "      <td>3.7</td>\n",
       "      <td>0.40</td>\n",
       "      <td>1</td>\n",
       "    </tr>\n",
       "    <tr>\n",
       "      <th>11</th>\n",
       "      <td>Coors_Light</td>\n",
       "      <td>102</td>\n",
       "      <td>15</td>\n",
       "      <td>4.1</td>\n",
       "      <td>0.46</td>\n",
       "      <td>1</td>\n",
       "    </tr>\n",
       "    <tr>\n",
       "      <th>12</th>\n",
       "      <td>Michelob_Light</td>\n",
       "      <td>135</td>\n",
       "      <td>11</td>\n",
       "      <td>4.2</td>\n",
       "      <td>0.50</td>\n",
       "      <td>1</td>\n",
       "    </tr>\n",
       "    <tr>\n",
       "      <th>15</th>\n",
       "      <td>Pabst_Extra_Light</td>\n",
       "      <td>68</td>\n",
       "      <td>15</td>\n",
       "      <td>2.3</td>\n",
       "      <td>0.38</td>\n",
       "      <td>1</td>\n",
       "    </tr>\n",
       "    <tr>\n",
       "      <th>18</th>\n",
       "      <td>Olympia_Goled_Light</td>\n",
       "      <td>72</td>\n",
       "      <td>6</td>\n",
       "      <td>2.9</td>\n",
       "      <td>0.46</td>\n",
       "      <td>1</td>\n",
       "    </tr>\n",
       "    <tr>\n",
       "      <th>19</th>\n",
       "      <td>Schlitz_Light</td>\n",
       "      <td>97</td>\n",
       "      <td>7</td>\n",
       "      <td>4.2</td>\n",
       "      <td>0.47</td>\n",
       "      <td>1</td>\n",
       "    </tr>\n",
       "  </tbody>\n",
       "</table>\n",
       "</div>"
      ],
      "text/plain": [
       "                   Name  Calories  Sodium  Alcohol  Cost  Cluster\n",
       "2             Lowenbrau       157      15      0.9  0.48        1\n",
       "8           Miller_Lite        99      10      4.3  0.43        1\n",
       "9       Budweiser_Light       113       8      3.7  0.40        1\n",
       "11          Coors_Light       102      15      4.1  0.46        1\n",
       "12       Michelob_Light       135      11      4.2  0.50        1\n",
       "15    Pabst_Extra_Light        68      15      2.3  0.38        1\n",
       "18  Olympia_Goled_Light        72       6      2.9  0.46        1\n",
       "19        Schlitz_Light        97       7      4.2  0.47        1"
      ]
     },
     "execution_count": 53,
     "metadata": {},
     "output_type": "execute_result"
    }
   ],
   "source": [
    "df_beer.loc[df_beer['Cluster'] == 1]"
   ]
  },
  {
   "cell_type": "code",
   "execution_count": 54,
   "id": "deb10af8",
   "metadata": {},
   "outputs": [
    {
     "data": {
      "text/html": [
       "<div>\n",
       "<style scoped>\n",
       "    .dataframe tbody tr th:only-of-type {\n",
       "        vertical-align: middle;\n",
       "    }\n",
       "\n",
       "    .dataframe tbody tr th {\n",
       "        vertical-align: top;\n",
       "    }\n",
       "\n",
       "    .dataframe thead th {\n",
       "        text-align: right;\n",
       "    }\n",
       "</style>\n",
       "<table border=\"1\" class=\"dataframe\">\n",
       "  <thead>\n",
       "    <tr style=\"text-align: right;\">\n",
       "      <th></th>\n",
       "      <th>Name</th>\n",
       "      <th>Calories</th>\n",
       "      <th>Sodium</th>\n",
       "      <th>Alcohol</th>\n",
       "      <th>Cost</th>\n",
       "      <th>Cluster</th>\n",
       "    </tr>\n",
       "  </thead>\n",
       "  <tbody>\n",
       "    <tr>\n",
       "      <th>0</th>\n",
       "      <td>Budweiser</td>\n",
       "      <td>144</td>\n",
       "      <td>15</td>\n",
       "      <td>4.7</td>\n",
       "      <td>0.43</td>\n",
       "      <td>2</td>\n",
       "    </tr>\n",
       "    <tr>\n",
       "      <th>1</th>\n",
       "      <td>Schlitz</td>\n",
       "      <td>151</td>\n",
       "      <td>19</td>\n",
       "      <td>4.9</td>\n",
       "      <td>0.43</td>\n",
       "      <td>2</td>\n",
       "    </tr>\n",
       "    <tr>\n",
       "      <th>5</th>\n",
       "      <td>Old_Milwaukee</td>\n",
       "      <td>145</td>\n",
       "      <td>23</td>\n",
       "      <td>4.6</td>\n",
       "      <td>0.28</td>\n",
       "      <td>2</td>\n",
       "    </tr>\n",
       "    <tr>\n",
       "      <th>6</th>\n",
       "      <td>Augsberger</td>\n",
       "      <td>175</td>\n",
       "      <td>24</td>\n",
       "      <td>5.5</td>\n",
       "      <td>0.40</td>\n",
       "      <td>2</td>\n",
       "    </tr>\n",
       "    <tr>\n",
       "      <th>7</th>\n",
       "      <td>Srohs_Bohemian_Style</td>\n",
       "      <td>149</td>\n",
       "      <td>27</td>\n",
       "      <td>4.7</td>\n",
       "      <td>0.42</td>\n",
       "      <td>2</td>\n",
       "    </tr>\n",
       "    <tr>\n",
       "      <th>10</th>\n",
       "      <td>Coors</td>\n",
       "      <td>140</td>\n",
       "      <td>18</td>\n",
       "      <td>4.6</td>\n",
       "      <td>0.44</td>\n",
       "      <td>2</td>\n",
       "    </tr>\n",
       "    <tr>\n",
       "      <th>16</th>\n",
       "      <td>Hamms</td>\n",
       "      <td>139</td>\n",
       "      <td>19</td>\n",
       "      <td>4.4</td>\n",
       "      <td>0.43</td>\n",
       "      <td>2</td>\n",
       "    </tr>\n",
       "    <tr>\n",
       "      <th>17</th>\n",
       "      <td>Heilemans_Old_Style</td>\n",
       "      <td>144</td>\n",
       "      <td>24</td>\n",
       "      <td>4.9</td>\n",
       "      <td>0.43</td>\n",
       "      <td>2</td>\n",
       "    </tr>\n",
       "  </tbody>\n",
       "</table>\n",
       "</div>"
      ],
      "text/plain": [
       "                    Name  Calories  Sodium  Alcohol  Cost  Cluster\n",
       "0              Budweiser       144      15      4.7  0.43        2\n",
       "1                Schlitz       151      19      4.9  0.43        2\n",
       "5          Old_Milwaukee       145      23      4.6  0.28        2\n",
       "6             Augsberger       175      24      5.5  0.40        2\n",
       "7   Srohs_Bohemian_Style       149      27      4.7  0.42        2\n",
       "10                 Coors       140      18      4.6  0.44        2\n",
       "16                 Hamms       139      19      4.4  0.43        2\n",
       "17   Heilemans_Old_Style       144      24      4.9  0.43        2"
      ]
     },
     "execution_count": 54,
     "metadata": {},
     "output_type": "execute_result"
    }
   ],
   "source": [
    "df_beer.loc[df_beer['Cluster'] == 2]"
   ]
  },
  {
   "cell_type": "markdown",
   "id": "a619004b",
   "metadata": {},
   "source": [
    "#### The interpretation is that, the Cluster 0 contains brands with high alchohol content (close to 5%). The Clusters 1 & 2 contain low alcohol but the sodium level is higher for Cluster 2 in comparision to Cluster 1"
   ]
  },
  {
   "cell_type": "markdown",
   "id": "eb31c69b",
   "metadata": {},
   "source": [
    "## Q2. Distance measures on universities dataset"
   ]
  },
  {
   "cell_type": "markdown",
   "id": "fec96334",
   "metadata": {},
   "source": [
    "Please refer to the Universities.xlsx on GitHub: (https://github.com/Accelerate-AI/Data-Science-Global-Bootcamp/blob/main/ClassAssignment/Assignment10/Universities.xlsx ). \n",
    "\n",
    "- a) Find out the Euclidean distance between Stanford and MIT. \n",
    "- b) Find out the Manhattan distance between Stanford and MIT. \n",
    "- c) What difference you can convey for Manhattan distance w.r.t. Euclidean distance measure?"
   ]
  },
  {
   "cell_type": "code",
   "execution_count": 55,
   "id": "d9448dcc",
   "metadata": {},
   "outputs": [
    {
     "data": {
      "text/html": [
       "<div>\n",
       "<style scoped>\n",
       "    .dataframe tbody tr th:only-of-type {\n",
       "        vertical-align: middle;\n",
       "    }\n",
       "\n",
       "    .dataframe tbody tr th {\n",
       "        vertical-align: top;\n",
       "    }\n",
       "\n",
       "    .dataframe thead th {\n",
       "        text-align: right;\n",
       "    }\n",
       "</style>\n",
       "<table border=\"1\" class=\"dataframe\">\n",
       "  <thead>\n",
       "    <tr style=\"text-align: right;\">\n",
       "      <th></th>\n",
       "      <th>Univ</th>\n",
       "      <th>SAT</th>\n",
       "      <th>Top10</th>\n",
       "      <th>Accept</th>\n",
       "      <th>SFRatio</th>\n",
       "      <th>Expenses</th>\n",
       "      <th>GradRate</th>\n",
       "      <th>Unnamed: 7</th>\n",
       "      <th>Unnamed: 8</th>\n",
       "      <th>Unnamed: 9</th>\n",
       "      <th>Unnamed: 10</th>\n",
       "    </tr>\n",
       "  </thead>\n",
       "  <tbody>\n",
       "    <tr>\n",
       "      <th>0</th>\n",
       "      <td>Brown</td>\n",
       "      <td>1310</td>\n",
       "      <td>89</td>\n",
       "      <td>22</td>\n",
       "      <td>13</td>\n",
       "      <td>22704</td>\n",
       "      <td>94</td>\n",
       "      <td>NaN</td>\n",
       "      <td>NaN</td>\n",
       "      <td>NaN</td>\n",
       "      <td>NaN</td>\n",
       "    </tr>\n",
       "    <tr>\n",
       "      <th>1</th>\n",
       "      <td>CalTech</td>\n",
       "      <td>1415</td>\n",
       "      <td>100</td>\n",
       "      <td>25</td>\n",
       "      <td>6</td>\n",
       "      <td>63575</td>\n",
       "      <td>81</td>\n",
       "      <td>NaN</td>\n",
       "      <td>NaN</td>\n",
       "      <td>Features:</td>\n",
       "      <td>NaN</td>\n",
       "    </tr>\n",
       "    <tr>\n",
       "      <th>2</th>\n",
       "      <td>CMU</td>\n",
       "      <td>1260</td>\n",
       "      <td>62</td>\n",
       "      <td>59</td>\n",
       "      <td>9</td>\n",
       "      <td>25026</td>\n",
       "      <td>72</td>\n",
       "      <td>NaN</td>\n",
       "      <td>NaN</td>\n",
       "      <td>Univ</td>\n",
       "      <td>University</td>\n",
       "    </tr>\n",
       "    <tr>\n",
       "      <th>3</th>\n",
       "      <td>Columbia</td>\n",
       "      <td>1310</td>\n",
       "      <td>76</td>\n",
       "      <td>24</td>\n",
       "      <td>12</td>\n",
       "      <td>31510</td>\n",
       "      <td>88</td>\n",
       "      <td>NaN</td>\n",
       "      <td>NaN</td>\n",
       "      <td>SAT</td>\n",
       "      <td>Average SAT scores of new freshmen</td>\n",
       "    </tr>\n",
       "    <tr>\n",
       "      <th>4</th>\n",
       "      <td>Cornell</td>\n",
       "      <td>1280</td>\n",
       "      <td>83</td>\n",
       "      <td>33</td>\n",
       "      <td>13</td>\n",
       "      <td>21864</td>\n",
       "      <td>90</td>\n",
       "      <td>NaN</td>\n",
       "      <td>NaN</td>\n",
       "      <td>Top10</td>\n",
       "      <td>Percentage of new freshmen in the Top 10% of c...</td>\n",
       "    </tr>\n",
       "  </tbody>\n",
       "</table>\n",
       "</div>"
      ],
      "text/plain": [
       "       Univ   SAT  Top10  Accept  SFRatio  Expenses  GradRate  Unnamed: 7  \\\n",
       "0     Brown  1310     89      22       13     22704        94         NaN   \n",
       "1   CalTech  1415    100      25        6     63575        81         NaN   \n",
       "2       CMU  1260     62      59        9     25026        72         NaN   \n",
       "3  Columbia  1310     76      24       12     31510        88         NaN   \n",
       "4   Cornell  1280     83      33       13     21864        90         NaN   \n",
       "\n",
       "   Unnamed: 8 Unnamed: 9                                        Unnamed: 10  \n",
       "0         NaN        NaN                                                NaN  \n",
       "1         NaN  Features:                                                NaN  \n",
       "2         NaN       Univ                                         University  \n",
       "3         NaN        SAT                 Average SAT scores of new freshmen  \n",
       "4         NaN      Top10  Percentage of new freshmen in the Top 10% of c...  "
      ]
     },
     "execution_count": 55,
     "metadata": {},
     "output_type": "execute_result"
    }
   ],
   "source": [
    "df_uni = pd.read_excel('Universities.xlsx')\n",
    "df_uni.head()"
   ]
  },
  {
   "cell_type": "code",
   "execution_count": 60,
   "id": "82c84e8a",
   "metadata": {},
   "outputs": [
    {
     "data": {
      "text/html": [
       "<div>\n",
       "<style scoped>\n",
       "    .dataframe tbody tr th:only-of-type {\n",
       "        vertical-align: middle;\n",
       "    }\n",
       "\n",
       "    .dataframe tbody tr th {\n",
       "        vertical-align: top;\n",
       "    }\n",
       "\n",
       "    .dataframe thead th {\n",
       "        text-align: right;\n",
       "    }\n",
       "</style>\n",
       "<table border=\"1\" class=\"dataframe\">\n",
       "  <thead>\n",
       "    <tr style=\"text-align: right;\">\n",
       "      <th></th>\n",
       "      <th>Unnamed: 9</th>\n",
       "      <th>Unnamed: 10</th>\n",
       "    </tr>\n",
       "  </thead>\n",
       "  <tbody>\n",
       "    <tr>\n",
       "      <th>0</th>\n",
       "      <td>NaN</td>\n",
       "      <td>NaN</td>\n",
       "    </tr>\n",
       "    <tr>\n",
       "      <th>1</th>\n",
       "      <td>Features:</td>\n",
       "      <td>NaN</td>\n",
       "    </tr>\n",
       "    <tr>\n",
       "      <th>2</th>\n",
       "      <td>Univ</td>\n",
       "      <td>University</td>\n",
       "    </tr>\n",
       "    <tr>\n",
       "      <th>3</th>\n",
       "      <td>SAT</td>\n",
       "      <td>Average SAT scores of new freshmen</td>\n",
       "    </tr>\n",
       "    <tr>\n",
       "      <th>4</th>\n",
       "      <td>Top10</td>\n",
       "      <td>Percentage of new freshmen in the Top 10% of c...</td>\n",
       "    </tr>\n",
       "    <tr>\n",
       "      <th>5</th>\n",
       "      <td>Accept</td>\n",
       "      <td>Percentage of applicants accepted</td>\n",
       "    </tr>\n",
       "    <tr>\n",
       "      <th>6</th>\n",
       "      <td>SFRatio</td>\n",
       "      <td>Student to Faculty Ratio</td>\n",
       "    </tr>\n",
       "    <tr>\n",
       "      <th>7</th>\n",
       "      <td>Expenses</td>\n",
       "      <td>Estimated Annual Expenses</td>\n",
       "    </tr>\n",
       "    <tr>\n",
       "      <th>8</th>\n",
       "      <td>GradRate</td>\n",
       "      <td>Graduation Rate Percent</td>\n",
       "    </tr>\n",
       "    <tr>\n",
       "      <th>9</th>\n",
       "      <td>NaN</td>\n",
       "      <td>NaN</td>\n",
       "    </tr>\n",
       "    <tr>\n",
       "      <th>10</th>\n",
       "      <td>NaN</td>\n",
       "      <td>NaN</td>\n",
       "    </tr>\n",
       "    <tr>\n",
       "      <th>11</th>\n",
       "      <td>NaN</td>\n",
       "      <td>NaN</td>\n",
       "    </tr>\n",
       "    <tr>\n",
       "      <th>12</th>\n",
       "      <td>NaN</td>\n",
       "      <td>NaN</td>\n",
       "    </tr>\n",
       "    <tr>\n",
       "      <th>13</th>\n",
       "      <td>NaN</td>\n",
       "      <td>NaN</td>\n",
       "    </tr>\n",
       "    <tr>\n",
       "      <th>14</th>\n",
       "      <td>NaN</td>\n",
       "      <td>NaN</td>\n",
       "    </tr>\n",
       "    <tr>\n",
       "      <th>15</th>\n",
       "      <td>NaN</td>\n",
       "      <td>NaN</td>\n",
       "    </tr>\n",
       "    <tr>\n",
       "      <th>16</th>\n",
       "      <td>NaN</td>\n",
       "      <td>NaN</td>\n",
       "    </tr>\n",
       "    <tr>\n",
       "      <th>17</th>\n",
       "      <td>NaN</td>\n",
       "      <td>NaN</td>\n",
       "    </tr>\n",
       "    <tr>\n",
       "      <th>18</th>\n",
       "      <td>NaN</td>\n",
       "      <td>NaN</td>\n",
       "    </tr>\n",
       "    <tr>\n",
       "      <th>19</th>\n",
       "      <td>NaN</td>\n",
       "      <td>NaN</td>\n",
       "    </tr>\n",
       "    <tr>\n",
       "      <th>20</th>\n",
       "      <td>NaN</td>\n",
       "      <td>NaN</td>\n",
       "    </tr>\n",
       "    <tr>\n",
       "      <th>21</th>\n",
       "      <td>NaN</td>\n",
       "      <td>NaN</td>\n",
       "    </tr>\n",
       "    <tr>\n",
       "      <th>22</th>\n",
       "      <td>NaN</td>\n",
       "      <td>NaN</td>\n",
       "    </tr>\n",
       "    <tr>\n",
       "      <th>23</th>\n",
       "      <td>NaN</td>\n",
       "      <td>NaN</td>\n",
       "    </tr>\n",
       "    <tr>\n",
       "      <th>24</th>\n",
       "      <td>NaN</td>\n",
       "      <td>NaN</td>\n",
       "    </tr>\n",
       "  </tbody>\n",
       "</table>\n",
       "</div>"
      ],
      "text/plain": [
       "   Unnamed: 9                                        Unnamed: 10\n",
       "0         NaN                                                NaN\n",
       "1   Features:                                                NaN\n",
       "2        Univ                                         University\n",
       "3         SAT                 Average SAT scores of new freshmen\n",
       "4       Top10  Percentage of new freshmen in the Top 10% of c...\n",
       "5      Accept                  Percentage of applicants accepted\n",
       "6     SFRatio                           Student to Faculty Ratio\n",
       "7    Expenses                          Estimated Annual Expenses\n",
       "8    GradRate                            Graduation Rate Percent\n",
       "9         NaN                                                NaN\n",
       "10        NaN                                                NaN\n",
       "11        NaN                                                NaN\n",
       "12        NaN                                                NaN\n",
       "13        NaN                                                NaN\n",
       "14        NaN                                                NaN\n",
       "15        NaN                                                NaN\n",
       "16        NaN                                                NaN\n",
       "17        NaN                                                NaN\n",
       "18        NaN                                                NaN\n",
       "19        NaN                                                NaN\n",
       "20        NaN                                                NaN\n",
       "21        NaN                                                NaN\n",
       "22        NaN                                                NaN\n",
       "23        NaN                                                NaN\n",
       "24        NaN                                                NaN"
      ]
     },
     "execution_count": 60,
     "metadata": {},
     "output_type": "execute_result"
    }
   ],
   "source": [
    "nan_check_cols = ['Unnamed: 9', 'Unnamed: 10']\n",
    "\n",
    "df_uni[nan_check_cols]"
   ]
  },
  {
   "cell_type": "code",
   "execution_count": 61,
   "id": "3da55c71",
   "metadata": {},
   "outputs": [
    {
     "data": {
      "text/html": [
       "<div>\n",
       "<style scoped>\n",
       "    .dataframe tbody tr th:only-of-type {\n",
       "        vertical-align: middle;\n",
       "    }\n",
       "\n",
       "    .dataframe tbody tr th {\n",
       "        vertical-align: top;\n",
       "    }\n",
       "\n",
       "    .dataframe thead th {\n",
       "        text-align: right;\n",
       "    }\n",
       "</style>\n",
       "<table border=\"1\" class=\"dataframe\">\n",
       "  <thead>\n",
       "    <tr style=\"text-align: right;\">\n",
       "      <th></th>\n",
       "      <th>Univ</th>\n",
       "      <th>SAT</th>\n",
       "      <th>Top10</th>\n",
       "      <th>Accept</th>\n",
       "      <th>SFRatio</th>\n",
       "      <th>Expenses</th>\n",
       "      <th>GradRate</th>\n",
       "    </tr>\n",
       "  </thead>\n",
       "  <tbody>\n",
       "    <tr>\n",
       "      <th>0</th>\n",
       "      <td>Brown</td>\n",
       "      <td>1310</td>\n",
       "      <td>89</td>\n",
       "      <td>22</td>\n",
       "      <td>13</td>\n",
       "      <td>22704</td>\n",
       "      <td>94</td>\n",
       "    </tr>\n",
       "    <tr>\n",
       "      <th>1</th>\n",
       "      <td>CalTech</td>\n",
       "      <td>1415</td>\n",
       "      <td>100</td>\n",
       "      <td>25</td>\n",
       "      <td>6</td>\n",
       "      <td>63575</td>\n",
       "      <td>81</td>\n",
       "    </tr>\n",
       "    <tr>\n",
       "      <th>2</th>\n",
       "      <td>CMU</td>\n",
       "      <td>1260</td>\n",
       "      <td>62</td>\n",
       "      <td>59</td>\n",
       "      <td>9</td>\n",
       "      <td>25026</td>\n",
       "      <td>72</td>\n",
       "    </tr>\n",
       "    <tr>\n",
       "      <th>3</th>\n",
       "      <td>Columbia</td>\n",
       "      <td>1310</td>\n",
       "      <td>76</td>\n",
       "      <td>24</td>\n",
       "      <td>12</td>\n",
       "      <td>31510</td>\n",
       "      <td>88</td>\n",
       "    </tr>\n",
       "    <tr>\n",
       "      <th>4</th>\n",
       "      <td>Cornell</td>\n",
       "      <td>1280</td>\n",
       "      <td>83</td>\n",
       "      <td>33</td>\n",
       "      <td>13</td>\n",
       "      <td>21864</td>\n",
       "      <td>90</td>\n",
       "    </tr>\n",
       "  </tbody>\n",
       "</table>\n",
       "</div>"
      ],
      "text/plain": [
       "       Univ   SAT  Top10  Accept  SFRatio  Expenses  GradRate\n",
       "0     Brown  1310     89      22       13     22704        94\n",
       "1   CalTech  1415    100      25        6     63575        81\n",
       "2       CMU  1260     62      59        9     25026        72\n",
       "3  Columbia  1310     76      24       12     31510        88\n",
       "4   Cornell  1280     83      33       13     21864        90"
      ]
     },
     "execution_count": 61,
     "metadata": {},
     "output_type": "execute_result"
    }
   ],
   "source": [
    "## We can drop the columns with mostly NaN or irrelevant data\n",
    "\n",
    "drop_cols = ['Unnamed: 7','Unnamed: 8','Unnamed: 9', 'Unnamed: 10']\n",
    "\n",
    "\n",
    "df_uni = df_uni.drop(columns = drop_cols)\n",
    "\n",
    "df_uni.head()"
   ]
  },
  {
   "cell_type": "code",
   "execution_count": 63,
   "id": "351086cc",
   "metadata": {},
   "outputs": [
    {
     "data": {
      "text/html": [
       "<div>\n",
       "<style scoped>\n",
       "    .dataframe tbody tr th:only-of-type {\n",
       "        vertical-align: middle;\n",
       "    }\n",
       "\n",
       "    .dataframe tbody tr th {\n",
       "        vertical-align: top;\n",
       "    }\n",
       "\n",
       "    .dataframe thead th {\n",
       "        text-align: right;\n",
       "    }\n",
       "</style>\n",
       "<table border=\"1\" class=\"dataframe\">\n",
       "  <thead>\n",
       "    <tr style=\"text-align: right;\">\n",
       "      <th></th>\n",
       "      <th>Univ</th>\n",
       "      <th>SAT</th>\n",
       "      <th>Top10</th>\n",
       "      <th>Accept</th>\n",
       "      <th>SFRatio</th>\n",
       "      <th>Expenses</th>\n",
       "      <th>GradRate</th>\n",
       "    </tr>\n",
       "  </thead>\n",
       "  <tbody>\n",
       "    <tr>\n",
       "      <th>10</th>\n",
       "      <td>MIT</td>\n",
       "      <td>1380</td>\n",
       "      <td>94</td>\n",
       "      <td>30</td>\n",
       "      <td>10</td>\n",
       "      <td>34870</td>\n",
       "      <td>91</td>\n",
       "    </tr>\n",
       "    <tr>\n",
       "      <th>16</th>\n",
       "      <td>Stanford</td>\n",
       "      <td>1360</td>\n",
       "      <td>90</td>\n",
       "      <td>20</td>\n",
       "      <td>12</td>\n",
       "      <td>36450</td>\n",
       "      <td>93</td>\n",
       "    </tr>\n",
       "  </tbody>\n",
       "</table>\n",
       "</div>"
      ],
      "text/plain": [
       "        Univ   SAT  Top10  Accept  SFRatio  Expenses  GradRate\n",
       "10       MIT  1380     94      30       10     34870        91\n",
       "16  Stanford  1360     90      20       12     36450        93"
      ]
     },
     "execution_count": 63,
     "metadata": {},
     "output_type": "execute_result"
    }
   ],
   "source": [
    "options = ['Stanford', 'MIT']\n",
    "df_uni_q = df_uni[ df_uni['Univ'].isin(options)]\n",
    "\n",
    "df_uni_q"
   ]
  },
  {
   "cell_type": "code",
   "execution_count": 66,
   "id": "9d6583db",
   "metadata": {},
   "outputs": [
    {
     "data": {
      "text/plain": [
       "22.891046284519195"
      ]
     },
     "execution_count": 66,
     "metadata": {},
     "output_type": "execute_result"
    }
   ],
   "source": [
    "#Calculating the Euclidean distance\n",
    "\n",
    "from scipy.spatial import distance\n",
    "calculation_cols = ['SAT','Top10','Accept','SFRatio','GradRate']\n",
    "stanford = df_uni_q[df_uni_q['Univ'] == 'Stanford'][calculation_cols]\n",
    "mit = df_uni_q[df_uni_q['Univ'] == 'MIT'][calculation_cols]\n",
    "\n",
    "distance.euclidean(stanford, mit)"
   ]
  },
  {
   "cell_type": "code",
   "execution_count": 68,
   "id": "3b530af5",
   "metadata": {},
   "outputs": [
    {
     "data": {
      "text/plain": [
       "38"
      ]
     },
     "execution_count": 68,
     "metadata": {},
     "output_type": "execute_result"
    }
   ],
   "source": [
    "distance.cityblock(stanford, mit)"
   ]
  },
  {
   "cell_type": "markdown",
   "id": "59bbd7ce",
   "metadata": {},
   "source": [
    "#### Ans - The Euclidean distance is 22.89 and the Manhattan distance is 38.  Given the low dimensionality of the data and also domain knowledge not suggesting manhattan distance, we should prefer the Euclidean distance. Reference article below:\n",
    "\n",
    "https://medium.com/@kunal_gohrani/different-types-of-distance-metrics-used-in-machine-learning-e9928c5e26c7"
   ]
  },
  {
   "cell_type": "code",
   "execution_count": null,
   "id": "66d727e6",
   "metadata": {},
   "outputs": [],
   "source": []
  },
  {
   "cell_type": "markdown",
   "id": "718ac9c1",
   "metadata": {},
   "source": [
    "## Q3. Distance measures comparison"
   ]
  },
  {
   "cell_type": "markdown",
   "id": "647219e3",
   "metadata": {},
   "source": [
    "What is the Euclidean distance between two points (2,4,6) and (3,8)? What is the Manhattan distance in the above case?"
   ]
  },
  {
   "cell_type": "code",
   "execution_count": 70,
   "id": "eaa48024",
   "metadata": {},
   "outputs": [
    {
     "data": {
      "text/plain": [
       "7.280109889280518"
      ]
     },
     "execution_count": 70,
     "metadata": {},
     "output_type": "execute_result"
    }
   ],
   "source": [
    "arr1 = [2,4,6]\n",
    "arr2 = [3,8,0] # Assuming the third point to be zero\n",
    "\n",
    "distance.euclidean(arr1,arr2)"
   ]
  },
  {
   "cell_type": "code",
   "execution_count": 71,
   "id": "3cf46f9b",
   "metadata": {},
   "outputs": [
    {
     "data": {
      "text/plain": [
       "11"
      ]
     },
     "execution_count": 71,
     "metadata": {},
     "output_type": "execute_result"
    }
   ],
   "source": [
    "distance.cityblock(arr1,arr2)"
   ]
  },
  {
   "cell_type": "markdown",
   "id": "70f50b59",
   "metadata": {},
   "source": [
    "#### The Euclidean distance is 7.28 and the Manhattan Distance is 11"
   ]
  },
  {
   "cell_type": "code",
   "execution_count": null,
   "id": "0825e27e",
   "metadata": {},
   "outputs": [],
   "source": []
  },
  {
   "cell_type": "markdown",
   "id": "b2723ea9",
   "metadata": {},
   "source": [
    "## Q4. Customer Segmentation use case"
   ]
  },
  {
   "cell_type": "markdown",
   "id": "b611cc40",
   "metadata": {},
   "source": [
    "One of the large smart phone manufacturing giants is analyzing it's customer satisfaction and loyalty data. Here is a sample they have captured from a geography for certain period for analysis purposes. As a Data Scientist, you are tasked to analyze the segmentation pattern and recommend your inferences.\n",
    "\n",
    "\n",
    "The dataset is here on GitHub - https://github.com/Accelerate-AI/Data-Science-Global-Bootcamp/blob/main/ClassAssignment/Assignment10/Satisfaction_Loyalty.csv\n",
    "\n",
    "\n",
    "Dataset has two features captured here for analysis consideration - Satisfactory index and Loyalty index of customers. Use clustering methods and provide your inference."
   ]
  },
  {
   "cell_type": "code",
   "execution_count": 74,
   "id": "9afa40c9",
   "metadata": {},
   "outputs": [
    {
     "data": {
      "text/html": [
       "<div>\n",
       "<style scoped>\n",
       "    .dataframe tbody tr th:only-of-type {\n",
       "        vertical-align: middle;\n",
       "    }\n",
       "\n",
       "    .dataframe tbody tr th {\n",
       "        vertical-align: top;\n",
       "    }\n",
       "\n",
       "    .dataframe thead th {\n",
       "        text-align: right;\n",
       "    }\n",
       "</style>\n",
       "<table border=\"1\" class=\"dataframe\">\n",
       "  <thead>\n",
       "    <tr style=\"text-align: right;\">\n",
       "      <th></th>\n",
       "      <th>Satisfaction</th>\n",
       "      <th>Loyalty</th>\n",
       "    </tr>\n",
       "  </thead>\n",
       "  <tbody>\n",
       "    <tr>\n",
       "      <th>0</th>\n",
       "      <td>4</td>\n",
       "      <td>-1.33</td>\n",
       "    </tr>\n",
       "    <tr>\n",
       "      <th>1</th>\n",
       "      <td>6</td>\n",
       "      <td>-0.28</td>\n",
       "    </tr>\n",
       "    <tr>\n",
       "      <th>2</th>\n",
       "      <td>5</td>\n",
       "      <td>-0.99</td>\n",
       "    </tr>\n",
       "    <tr>\n",
       "      <th>3</th>\n",
       "      <td>7</td>\n",
       "      <td>-0.29</td>\n",
       "    </tr>\n",
       "    <tr>\n",
       "      <th>4</th>\n",
       "      <td>4</td>\n",
       "      <td>1.06</td>\n",
       "    </tr>\n",
       "  </tbody>\n",
       "</table>\n",
       "</div>"
      ],
      "text/plain": [
       "   Satisfaction  Loyalty\n",
       "0             4    -1.33\n",
       "1             6    -0.28\n",
       "2             5    -0.99\n",
       "3             7    -0.29\n",
       "4             4     1.06"
      ]
     },
     "execution_count": 74,
     "metadata": {},
     "output_type": "execute_result"
    }
   ],
   "source": [
    "df_csat = pd.read_csv('Satisfaction_Loyalty.csv')\n",
    "\n",
    "df_csat.head()"
   ]
  },
  {
   "cell_type": "code",
   "execution_count": 75,
   "id": "3ca9c3b4",
   "metadata": {},
   "outputs": [
    {
     "name": "stdout",
     "output_type": "stream",
     "text": [
      "<class 'pandas.core.frame.DataFrame'>\n",
      "RangeIndex: 30 entries, 0 to 29\n",
      "Data columns (total 2 columns):\n",
      " #   Column        Non-Null Count  Dtype  \n",
      "---  ------        --------------  -----  \n",
      " 0   Satisfaction  30 non-null     int64  \n",
      " 1   Loyalty       30 non-null     float64\n",
      "dtypes: float64(1), int64(1)\n",
      "memory usage: 608.0 bytes\n"
     ]
    }
   ],
   "source": [
    "df_csat.info()"
   ]
  },
  {
   "cell_type": "code",
   "execution_count": 79,
   "id": "5e6926f6",
   "metadata": {},
   "outputs": [
    {
     "data": {
      "image/png": "[encoded data removed]",
      "text/plain": [
       "<Figure size 432x288 with 1 Axes>"
      ]
     },
     "metadata": {
      "needs_background": "light"
     },
     "output_type": "display_data"
    }
   ],
   "source": [
    "x_axis =  df_csat['Loyalty']\n",
    "y_axis = df_csat['Satisfaction']\n",
    "\n",
    "plt.plot()\n",
    "plt.xlim([0,31])\n",
    "plt.ylim([0,31])\n",
    "plt.title('Dataset')\n",
    "plt.scatter(x_axis,y_axis)\n",
    "plt.show()"
   ]
  },
  {
   "cell_type": "code",
   "execution_count": 80,
   "id": "f220c80e",
   "metadata": {},
   "outputs": [
    {
     "data": {
      "text/plain": [
       "<seaborn.axisgrid.PairGrid at 0x1e2e61a3580>"
      ]
     },
     "execution_count": 80,
     "metadata": {},
     "output_type": "execute_result"
    },
    {
     "data": {
      "image/png": "[encoded data removed]",
      "text/plain": [
       "<Figure size 360x360 with 6 Axes>"
      ]
     },
     "metadata": {
      "needs_background": "light"
     },
     "output_type": "display_data"
    }
   ],
   "source": [
    "sns.pairplot(df_csat, diag_kind= 'kde')\n"
   ]
  },
  {
   "cell_type": "code",
   "execution_count": 89,
   "id": "8756c66c",
   "metadata": {},
   "outputs": [
    {
     "data": {
      "image/png": "[encoded data removed]",
      "text/plain": [
       "<Figure size 432x288 with 1 Axes>"
      ]
     },
     "metadata": {
      "needs_background": "light"
     },
     "output_type": "display_data"
    },
    {
     "data": {
      "text/plain": [
       "<Figure size 5760x5760 with 0 Axes>"
      ]
     },
     "metadata": {},
     "output_type": "display_data"
    }
   ],
   "source": [
    "Z = sch.linkage(df_csat, method = 'single')\n",
    "\n",
    "den = sch.dendrogram(Z)\n",
    "plt.xlabel('Data Points')\n",
    "plt.ylabel('Distance')\n",
    "plt.title('Agglomorative Clustering with Single Linkage')\n",
    "\n",
    "plt.figure(figsize=(80, 80))\n",
    "\n",
    "plt.show()"
   ]
  },
  {
   "cell_type": "code",
   "execution_count": 93,
   "id": "2cf39cf8",
   "metadata": {},
   "outputs": [
    {
     "name": "stdout",
     "output_type": "stream",
     "text": [
      "{2: 0.534, 3: 0.423, 4: 0.378, 5: 0.265, 6: 0.357, 7: 0.333, 8: 0.357, 9: 0.364, 10: 0.385, 11: 0.36, 12: 0.368, 13: 0.393, 14: 0.389, 15: 0.379, 16: 0.389, 17: 0.364, 18: 0.358, 19: 0.334, 20: 0.311, 21: 0.296, 22: 0.28, 23: 0.28, 24: 0.251, 25: 0.216, 26: 0.197, 27: 0.15, 28: 0.126, 29: 0.065}\n"
     ]
    }
   ],
   "source": [
    "sse_csat,slc_csat = {},{}\n",
    "\n",
    "for k in range(2,30):\n",
    "    h_cluster_model = AgglomerativeClustering(n_clusters = k, linkage = 'average').fit(df_csat)\n",
    "    cluster_labels = h_cluster_model.labels_\n",
    "    slc_csat[k] = round(silhouette_score(df_csat,cluster_labels, metric = 'euclidean'),3)\n",
    "\n",
    "print(slc_csat)\n",
    "    "
   ]
  },
  {
   "cell_type": "code",
   "execution_count": 99,
   "id": "24984c50",
   "metadata": {},
   "outputs": [
    {
     "data": {
      "image/png": "[encoded data removed]",
      "text/plain": [
       "<Figure size 576x432 with 1 Axes>"
      ]
     },
     "metadata": {
      "needs_background": "light"
     },
     "output_type": "display_data"
    }
   ],
   "source": [
    "plt.figure(figsize=(8, 6))\n",
    "plt.xlabel('Number of Clusters', fontsize=10)\n",
    "plt.ylabel('Silhouette Score', fontsize=10)\n",
    "\n",
    "\n",
    "plt.plot(slc_csat.keys(), slc_csat.values(), marker = 'o' )\n",
    "\n",
    "plt.show()"
   ]
  },
  {
   "cell_type": "markdown",
   "id": "efbcd2ca",
   "metadata": {},
   "source": [
    "#### Thus we can observe that the max value of the average silhouette score is close 0.53 but since that would give us a total of only 2 clusters, we would go ahead with k = 3. It gives an average silhouette score of 0.423 which is the second highest. "
   ]
  },
  {
   "cell_type": "code",
   "execution_count": 100,
   "id": "8c0a46ed",
   "metadata": {},
   "outputs": [
    {
     "data": {
      "text/html": [
       "<div>\n",
       "<style scoped>\n",
       "    .dataframe tbody tr th:only-of-type {\n",
       "        vertical-align: middle;\n",
       "    }\n",
       "\n",
       "    .dataframe tbody tr th {\n",
       "        vertical-align: top;\n",
       "    }\n",
       "\n",
       "    .dataframe thead th {\n",
       "        text-align: right;\n",
       "    }\n",
       "</style>\n",
       "<table border=\"1\" class=\"dataframe\">\n",
       "  <thead>\n",
       "    <tr style=\"text-align: right;\">\n",
       "      <th></th>\n",
       "      <th>Satisfaction</th>\n",
       "      <th>Loyalty</th>\n",
       "      <th>cluster</th>\n",
       "    </tr>\n",
       "  </thead>\n",
       "  <tbody>\n",
       "    <tr>\n",
       "      <th>0</th>\n",
       "      <td>4</td>\n",
       "      <td>-1.33</td>\n",
       "      <td>2</td>\n",
       "    </tr>\n",
       "    <tr>\n",
       "      <th>1</th>\n",
       "      <td>6</td>\n",
       "      <td>-0.28</td>\n",
       "      <td>1</td>\n",
       "    </tr>\n",
       "    <tr>\n",
       "      <th>2</th>\n",
       "      <td>5</td>\n",
       "      <td>-0.99</td>\n",
       "      <td>2</td>\n",
       "    </tr>\n",
       "    <tr>\n",
       "      <th>3</th>\n",
       "      <td>7</td>\n",
       "      <td>-0.29</td>\n",
       "      <td>1</td>\n",
       "    </tr>\n",
       "    <tr>\n",
       "      <th>4</th>\n",
       "      <td>4</td>\n",
       "      <td>1.06</td>\n",
       "      <td>2</td>\n",
       "    </tr>\n",
       "  </tbody>\n",
       "</table>\n",
       "</div>"
      ],
      "text/plain": [
       "   Satisfaction  Loyalty  cluster\n",
       "0             4    -1.33        2\n",
       "1             6    -0.28        1\n",
       "2             5    -0.99        2\n",
       "3             7    -0.29        1\n",
       "4             4     1.06        2"
      ]
     },
     "execution_count": 100,
     "metadata": {},
     "output_type": "execute_result"
    }
   ],
   "source": [
    "h_cluster_model_final = AgglomerativeClustering(n_clusters = 3, linkage = 'average').fit(df_csat)\n",
    "cluster_labels_final = h_cluster_model_final.labels_\n",
    "\n",
    "df_csat['cluster'] = cluster_labels_final\n",
    "\n",
    "df_csat.head()"
   ]
  },
  {
   "cell_type": "code",
   "execution_count": 101,
   "id": "f3a8849e",
   "metadata": {},
   "outputs": [
    {
     "data": {
      "text/html": [
       "<div>\n",
       "<style scoped>\n",
       "    .dataframe tbody tr th:only-of-type {\n",
       "        vertical-align: middle;\n",
       "    }\n",
       "\n",
       "    .dataframe tbody tr th {\n",
       "        vertical-align: top;\n",
       "    }\n",
       "\n",
       "    .dataframe thead th {\n",
       "        text-align: right;\n",
       "    }\n",
       "</style>\n",
       "<table border=\"1\" class=\"dataframe\">\n",
       "  <thead>\n",
       "    <tr style=\"text-align: right;\">\n",
       "      <th></th>\n",
       "      <th>Satisfaction</th>\n",
       "      <th>Loyalty</th>\n",
       "      <th>cluster</th>\n",
       "    </tr>\n",
       "  </thead>\n",
       "  <tbody>\n",
       "    <tr>\n",
       "      <th>5</th>\n",
       "      <td>1</td>\n",
       "      <td>-1.66</td>\n",
       "      <td>0</td>\n",
       "    </tr>\n",
       "    <tr>\n",
       "      <th>13</th>\n",
       "      <td>2</td>\n",
       "      <td>0.67</td>\n",
       "      <td>0</td>\n",
       "    </tr>\n",
       "  </tbody>\n",
       "</table>\n",
       "</div>"
      ],
      "text/plain": [
       "    Satisfaction  Loyalty  cluster\n",
       "5              1    -1.66        0\n",
       "13             2     0.67        0"
      ]
     },
     "execution_count": 101,
     "metadata": {},
     "output_type": "execute_result"
    }
   ],
   "source": [
    "df_csat[df_csat.cluster == 0]"
   ]
  },
  {
   "cell_type": "code",
   "execution_count": 104,
   "id": "c1bd0ad6",
   "metadata": {},
   "outputs": [
    {
     "data": {
      "text/plain": [
       "7     4\n",
       "8     4\n",
       "9     4\n",
       "10    4\n",
       "6     2\n",
       "Name: Satisfaction, dtype: int64"
      ]
     },
     "execution_count": 104,
     "metadata": {},
     "output_type": "execute_result"
    }
   ],
   "source": [
    "df_csat_cluster_1 = df_csat[df_csat.cluster == 1]\n",
    "df_csat_cluster_1['Satisfaction'].value_counts() "
   ]
  },
  {
   "cell_type": "code",
   "execution_count": 105,
   "id": "cfdd9a97",
   "metadata": {},
   "outputs": [
    {
     "data": {
      "text/plain": [
       "5    4\n",
       "3    3\n",
       "4    3\n",
       "Name: Satisfaction, dtype: int64"
      ]
     },
     "execution_count": 105,
     "metadata": {},
     "output_type": "execute_result"
    }
   ],
   "source": [
    "df_csat_cluster_2 = df_csat[df_csat.cluster == 2]\n",
    "df_csat_cluster_2['Satisfaction'].value_counts() "
   ]
  },
  {
   "cell_type": "markdown",
   "id": "853557e0",
   "metadata": {},
   "source": [
    "#### The interpretation is that, Cluster 0 includes customers with very low satisfaction scores, Cluster 1 has customers with csat scores in the range of 3-5, and Cluster 2 has customers with csat scores in the range of 6-10. Given the nature of the data, we can try with 4 clusters to get a better idea of the highly satisfied customers. "
   ]
  },
  {
   "cell_type": "code",
   "execution_count": 108,
   "id": "d46e5af6",
   "metadata": {},
   "outputs": [
    {
     "data": {
      "text/html": [
       "<div>\n",
       "<style scoped>\n",
       "    .dataframe tbody tr th:only-of-type {\n",
       "        vertical-align: middle;\n",
       "    }\n",
       "\n",
       "    .dataframe tbody tr th {\n",
       "        vertical-align: top;\n",
       "    }\n",
       "\n",
       "    .dataframe thead th {\n",
       "        text-align: right;\n",
       "    }\n",
       "</style>\n",
       "<table border=\"1\" class=\"dataframe\">\n",
       "  <thead>\n",
       "    <tr style=\"text-align: right;\">\n",
       "      <th></th>\n",
       "      <th>Satisfaction</th>\n",
       "      <th>Loyalty</th>\n",
       "      <th>cluster</th>\n",
       "      <th>cluster_k4</th>\n",
       "    </tr>\n",
       "  </thead>\n",
       "  <tbody>\n",
       "    <tr>\n",
       "      <th>0</th>\n",
       "      <td>4</td>\n",
       "      <td>-1.33</td>\n",
       "      <td>2</td>\n",
       "      <td>2</td>\n",
       "    </tr>\n",
       "    <tr>\n",
       "      <th>1</th>\n",
       "      <td>6</td>\n",
       "      <td>-0.28</td>\n",
       "      <td>1</td>\n",
       "      <td>0</td>\n",
       "    </tr>\n",
       "    <tr>\n",
       "      <th>2</th>\n",
       "      <td>5</td>\n",
       "      <td>-0.99</td>\n",
       "      <td>2</td>\n",
       "      <td>2</td>\n",
       "    </tr>\n",
       "    <tr>\n",
       "      <th>3</th>\n",
       "      <td>7</td>\n",
       "      <td>-0.29</td>\n",
       "      <td>1</td>\n",
       "      <td>0</td>\n",
       "    </tr>\n",
       "    <tr>\n",
       "      <th>4</th>\n",
       "      <td>4</td>\n",
       "      <td>1.06</td>\n",
       "      <td>2</td>\n",
       "      <td>2</td>\n",
       "    </tr>\n",
       "  </tbody>\n",
       "</table>\n",
       "</div>"
      ],
      "text/plain": [
       "   Satisfaction  Loyalty  cluster  cluster_k4\n",
       "0             4    -1.33        2           2\n",
       "1             6    -0.28        1           0\n",
       "2             5    -0.99        2           2\n",
       "3             7    -0.29        1           0\n",
       "4             4     1.06        2           2"
      ]
     },
     "execution_count": 108,
     "metadata": {},
     "output_type": "execute_result"
    }
   ],
   "source": [
    "h_cluster_model_final_k4 = AgglomerativeClustering(n_clusters = 4, linkage = 'average').fit(df_csat)\n",
    "cluster_labels_final_k4 = h_cluster_model_final_k4.labels_\n",
    "\n",
    "df_csat['cluster_k4'] = cluster_labels_final_k4\n",
    "\n",
    "df_csat.head()"
   ]
  },
  {
   "cell_type": "code",
   "execution_count": 109,
   "id": "3f05bb69",
   "metadata": {},
   "outputs": [
    {
     "data": {
      "text/plain": [
       "0    18\n",
       "2    10\n",
       "1     1\n",
       "3     1\n",
       "Name: cluster_k4, dtype: int64"
      ]
     },
     "execution_count": 109,
     "metadata": {},
     "output_type": "execute_result"
    }
   ],
   "source": [
    "df_csat['cluster_k4'].value_counts()"
   ]
  },
  {
   "cell_type": "code",
   "execution_count": 110,
   "id": "14e1aeff",
   "metadata": {},
   "outputs": [
    {
     "data": {
      "text/plain": [
       "7     4\n",
       "8     4\n",
       "9     4\n",
       "10    4\n",
       "6     2\n",
       "Name: Satisfaction, dtype: int64"
      ]
     },
     "execution_count": 110,
     "metadata": {},
     "output_type": "execute_result"
    }
   ],
   "source": [
    "df_csat_k4_cluster_0 = df_csat[df_csat.cluster_k4 == 0]\n",
    "df_csat_k4_cluster_0['Satisfaction'].value_counts() "
   ]
  },
  {
   "cell_type": "code",
   "execution_count": 111,
   "id": "e7fc8092",
   "metadata": {},
   "outputs": [
    {
     "data": {
      "text/plain": [
       "2    1\n",
       "Name: Satisfaction, dtype: int64"
      ]
     },
     "execution_count": 111,
     "metadata": {},
     "output_type": "execute_result"
    }
   ],
   "source": [
    "df_csat_k4_cluster_1 = df_csat[df_csat.cluster_k4 == 1]\n",
    "df_csat_k4_cluster_1['Satisfaction'].value_counts() "
   ]
  },
  {
   "cell_type": "code",
   "execution_count": 112,
   "id": "2569f201",
   "metadata": {},
   "outputs": [
    {
     "data": {
      "text/plain": [
       "5    4\n",
       "3    3\n",
       "4    3\n",
       "Name: Satisfaction, dtype: int64"
      ]
     },
     "execution_count": 112,
     "metadata": {},
     "output_type": "execute_result"
    }
   ],
   "source": [
    "df_csat_k4_cluster_2 = df_csat[df_csat.cluster_k4 == 2]\n",
    "df_csat_k4_cluster_2['Satisfaction'].value_counts() "
   ]
  },
  {
   "cell_type": "code",
   "execution_count": 113,
   "id": "1a1f78d5",
   "metadata": {},
   "outputs": [
    {
     "data": {
      "text/plain": [
       "1    1\n",
       "Name: Satisfaction, dtype: int64"
      ]
     },
     "execution_count": 113,
     "metadata": {},
     "output_type": "execute_result"
    }
   ],
   "source": [
    "df_csat_k4_cluster_3 = df_csat[df_csat.cluster_k4 == 3]\n",
    "df_csat_k4_cluster_3['Satisfaction'].value_counts() "
   ]
  },
  {
   "cell_type": "markdown",
   "id": "0a4aa0f4",
   "metadata": {},
   "source": [
    "#### Since the customers in the range of 6-10 remain in a single cluster, even after taking 4 clusters, we can prefer the earlier model with 3 clusters. The interpreation remains the same. Cluster 0 includes customers with very low satisfaction scores, Cluster 1 has customers with csat scores in the range of 3-5, and Cluster 2 has customers with csat scores in the range of 6-10."
   ]
  },
  {
   "cell_type": "code",
   "execution_count": null,
   "id": "836f5f09",
   "metadata": {},
   "outputs": [],
   "source": []
  }
 ],
 "metadata": {
  "hide_input": false,
  "kernelspec": {
   "display_name": "Python 3",
   "language": "python",
   "name": "python3"
  },
  "language_info": {
   "codemirror_mode": {
    "name": "ipython",
    "version": 3
   },
   "file_extension": ".py",
   "mimetype": "text/x-python",
   "name": "python",
   "nbconvert_exporter": "python",
   "pygments_lexer": "ipython3",
   "version": "3.8.8"
  }
 },
 "nbformat": 4,
 "nbformat_minor": 5
}
