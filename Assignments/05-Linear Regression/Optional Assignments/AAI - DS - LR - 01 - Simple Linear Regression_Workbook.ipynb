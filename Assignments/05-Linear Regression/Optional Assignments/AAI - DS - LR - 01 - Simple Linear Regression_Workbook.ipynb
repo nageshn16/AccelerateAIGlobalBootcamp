{
 "cells": [
  {
   "cell_type": "markdown",
   "id": "693abc86",
   "metadata": {},
   "source": [
    "### Solving Linear Regression Problems through Python"
   ]
  },
  {
   "cell_type": "code",
   "execution_count": 1,
   "id": "d9ca67d4",
   "metadata": {},
   "outputs": [],
   "source": [
    "import numpy as np\n",
    "from scipy.stats import pearsonr, linregress\n",
    "import matplotlib.pyplot as plt "
   ]
  },
  {
   "cell_type": "markdown",
   "id": "56e0e8ba",
   "metadata": {},
   "source": [
    "#### Linear Regression \n",
    "\n",
    "For the equation y = b_0 + b_1*x, we know that:<br>\n",
    " - b_1 = cov(x,y)/var(x) = corr(x,y)* std(y)/std(x)\n",
    " - b_0 = mean(y) - b_1*mean(x) "
   ]
  },
  {
   "cell_type": "markdown",
   "id": "ece55af4",
   "metadata": {},
   "source": [
    "#### Creating a function to generate B0 and B1 given a sample of X and Y"
   ]
  },
  {
   "cell_type": "code",
   "execution_count": 3,
   "id": "668efdac",
   "metadata": {},
   "outputs": [],
   "source": [
    "def least_squares_fit(X, Y): #where X and Y are array like data sets\n",
    "    corr, _ = pearsonr(X, Y)\n",
    "    b_1 = corr*(np.std(Y))/np.std(X)\n",
    "    b_0 = np.mean(Y) - np.mean(X)*b_1\n",
    "    \n",
    "    return (b_0, b_1)"
   ]
  },
  {
   "cell_type": "markdown",
   "id": "25ef3b86",
   "metadata": {},
   "source": [
    "#### Creating functions to generate predicted values of y and the error term"
   ]
  },
  {
   "cell_type": "code",
   "execution_count": 23,
   "id": "7c308d43",
   "metadata": {},
   "outputs": [],
   "source": [
    "#y prediction function takes xi, b_0 and b_1 as inputs\n",
    "def predict(xi, b_0, b_1):\n",
    "    y_hat = b_0 + b_1*xi\n",
    "    return y_hat\n",
    "\n",
    "#Error function takes yi, xi, b_0 and b_1 as inputs\n",
    "\n",
    "def residual(yi, xi, b_0, b_1):\n",
    "    error = yi - predict(xi, b_0, b_1)\n",
    "    return error\n"
   ]
  },
  {
   "cell_type": "markdown",
   "id": "04c25788",
   "metadata": {},
   "source": [
    "#### Creating a function to find sum of squared errors"
   ]
  },
  {
   "cell_type": "code",
   "execution_count": 6,
   "id": "fa46a576",
   "metadata": {},
   "outputs": [],
   "source": [
    "def sum_of_sq_errors(b_0, b_1, X, Y):\n",
    "    x_mean = np.mean(X)\n",
    "    y_mean = np.mean(Y)\n",
    "    SSE = 0 # Initializing to a zero value\n",
    "    for xi,yi in zip(X, Y): #Assuming the length of both X and Y are the same, zipping them. \n",
    "        error = residual(yi, xi, b_0, b_1)\n",
    "        SSE+= error*error\n",
    "    return SSE\n"
   ]
  },
  {
   "cell_type": "code",
   "execution_count": 7,
   "id": "b924b16c",
   "metadata": {},
   "outputs": [],
   "source": [
    "#Shorter method via zipping X & Y\n",
    "\n",
    "#A for loop can be run across a list of tuples. \n",
    "\n",
    "def sum_of_sq_errors_tuple(b_0, b_1, X, Y) -> float:\n",
    "    sse  = sum(residual(b_0, b_1, x_i, y_i)**2 for x_i, y_i in zip(X, Y)) # Zipping creates a list of tuples, each tuple representing an X,Y Pair\n",
    "    return sse"
   ]
  },
  {
   "cell_type": "code",
   "execution_count": 8,
   "id": "10090ab6",
   "metadata": {},
   "outputs": [
    {
     "data": {
      "text/plain": [
       "array([ 0,  1,  2,  3,  4,  5,  6,  7,  8,  9, 10, 11, 12, 13, 14, 15, 16,\n",
       "       17, 18, 19])"
      ]
     },
     "execution_count": 8,
     "metadata": {},
     "output_type": "execute_result"
    }
   ],
   "source": [
    "X = np.array(range(20))\n",
    "X"
   ]
  },
  {
   "cell_type": "code",
   "execution_count": 15,
   "id": "aa29df0e",
   "metadata": {},
   "outputs": [
    {
     "data": {
      "text/plain": [
       "array([  4.29443326,  -1.39566788,  38.00240439,  21.57359812,\n",
       "        15.53448684,  23.7314723 ,  26.68642267,  34.07192329,\n",
       "        36.1822708 ,  48.38335623,  47.42789628,  49.69390312,\n",
       "        58.08528165,  65.12458044,  72.99225442,  76.52623913,\n",
       "        75.06041313,  90.25153451, 105.2374488 ,  92.59500716])"
      ]
     },
     "execution_count": 15,
     "metadata": {},
     "output_type": "execute_result"
    }
   ],
   "source": [
    "error = np.random.normal(loc= 0, scale = 10, size = 20) #Using normally distributed error terms\n",
    "Y = 5*X + error\n",
    "Y"
   ]
  },
  {
   "cell_type": "code",
   "execution_count": 16,
   "id": "9bf2aea3",
   "metadata": {},
   "outputs": [
    {
     "data": {
      "image/png": "[encoded data removed]",
      "text/plain": [
       "<Figure size 432x288 with 1 Axes>"
      ]
     },
     "metadata": {
      "needs_background": "light"
     },
     "output_type": "display_data"
    }
   ],
   "source": [
    "plot = plt.scatter(X,Y)"
   ]
  },
  {
   "cell_type": "code",
   "execution_count": 19,
   "id": "252f9386",
   "metadata": {},
   "outputs": [
    {
     "name": "stdout",
     "output_type": "stream",
     "text": [
      "The coefficient b0 is  2.485\n",
      "The coefficient b1 is  4.897\n"
     ]
    }
   ],
   "source": [
    "#Estimating the coefficients\n",
    "\n",
    "b0,b1 = least_squares_fit(X,Y)\n",
    "\n",
    "b0 = round(b0,3)\n",
    "b1 = round(b1,3)\n",
    "\n",
    "print('The coefficient b0 is ', b0)\n",
    "print('The coefficient b1 is ', b1)\n"
   ]
  },
  {
   "cell_type": "code",
   "execution_count": 25,
   "id": "76f0fc0c",
   "metadata": {},
   "outputs": [
    {
     "data": {
      "text/plain": [
       "[2.485,\n",
       " 7.382,\n",
       " 12.279,\n",
       " 17.176000000000002,\n",
       " 22.073,\n",
       " 26.97,\n",
       " 31.867,\n",
       " 36.764,\n",
       " 41.661,\n",
       " 46.558,\n",
       " 51.455,\n",
       " 56.352000000000004,\n",
       " 61.249,\n",
       " 66.146,\n",
       " 71.043,\n",
       " 75.94,\n",
       " 80.837,\n",
       " 85.73400000000001,\n",
       " 90.631,\n",
       " 95.528]"
      ]
     },
     "execution_count": 25,
     "metadata": {},
     "output_type": "execute_result"
    }
   ],
   "source": [
    "#Plotting the prediction line:\n",
    "\n",
    "def predict(xi, b_0, b_1):\n",
    "    y_hat = b_0 + b_1*xi\n",
    "    return y_hat\n",
    "\n",
    "y_hat_array = []\n",
    "\n",
    "for xi in X:\n",
    "    y_hat = predict(xi, b0, b1)\n",
    "    y_hat_array.append(y_hat)\n",
    "\n",
    "y_hat_array\n"
   ]
  },
  {
   "cell_type": "code",
   "execution_count": 27,
   "id": "f9c556b4",
   "metadata": {},
   "outputs": [
    {
     "data": {
      "text/plain": [
       "[<matplotlib.lines.Line2D at 0x144ef6840d0>]"
      ]
     },
     "execution_count": 27,
     "metadata": {},
     "output_type": "execute_result"
    },
    {
     "data": {
      "image/png": "[encoded data removed]",
      "text/plain": [
       "<Figure size 432x288 with 1 Axes>"
      ]
     },
     "metadata": {
      "needs_background": "light"
     },
     "output_type": "display_data"
    }
   ],
   "source": [
    "#Checking the overlap through visualization\n",
    "\n",
    "plt.scatter(X,Y)\n",
    "plt.plot(X, y_hat_array)"
   ]
  },
  {
   "cell_type": "code",
   "execution_count": 28,
   "id": "dda64f50",
   "metadata": {},
   "outputs": [
    {
     "name": "stdout",
     "output_type": "stream",
     "text": [
      "SSE: 1233.499544834086\n"
     ]
    }
   ],
   "source": [
    "SSE = sum_of_sq_errors(b0 , b1,X,Y)\n",
    "print(\"SSE:\",SSE)"
   ]
  },
  {
   "cell_type": "code",
   "execution_count": 39,
   "id": "6054c513",
   "metadata": {},
   "outputs": [
    {
     "name": "stdout",
     "output_type": "stream",
     "text": [
      "b_0_via_lib: 2.485  b_1_via_lib: 4.897\n",
      "\n",
      "\n",
      "b_0_via_solve: 2.485  b_1_via_solve: 4.897\n"
     ]
    }
   ],
   "source": [
    "# Check with a standard library\n",
    "regr_results = linregress(X, Y)\n",
    "print(\"b_0_via_lib:\", round(regr_results.intercept,3), \" b_1_via_lib:\", round(regr_results.slope,3))\n",
    "print('\\n')\n",
    "print(\"b_0_via_solve:\", b0, \" b_1_via_solve:\", b1)"
   ]
  },
  {
   "cell_type": "markdown",
   "id": "d5746de1",
   "metadata": {},
   "source": [
    "#### Thus we can see that the results for the co-efficients match."
   ]
  },
  {
   "cell_type": "code",
   "execution_count": null,
   "id": "080f6f15",
   "metadata": {},
   "outputs": [],
   "source": []
  }
 ],
 "metadata": {
  "hide_input": false,
  "kernelspec": {
   "display_name": "Python 3",
   "language": "python",
   "name": "python3"
  },
  "language_info": {
   "codemirror_mode": {
    "name": "ipython",
    "version": 3
   },
   "file_extension": ".py",
   "mimetype": "text/x-python",
   "name": "python",
   "nbconvert_exporter": "python",
   "pygments_lexer": "ipython3",
   "version": "3.8.8"
  }
 },
 "nbformat": 4,
 "nbformat_minor": 5
}
