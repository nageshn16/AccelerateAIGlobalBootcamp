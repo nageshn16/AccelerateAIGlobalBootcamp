{
 "cells": [
  {
   "cell_type": "markdown",
   "id": "91c0caf8",
   "metadata": {},
   "source": [
    "Q1: Consider the Credit card dataset provided. The file Credit Card Data.xlsx has 3 tabs with\n",
    "the following data:\n",
    "- Credit Card customer master data\n",
    "- Spend (Transaction) data\n",
    "- Card repayment information"
   ]
  },
  {
   "cell_type": "markdown",
   "id": "5fa551da",
   "metadata": {},
   "source": [
    "Task 1) Check the data for any corrupt data, missing values, incorrect data types etc."
   ]
  },
  {
   "cell_type": "markdown",
   "id": "9bc3c98b",
   "metadata": {},
   "source": [
    "### Approach to task 1"
   ]
  },
  {
   "cell_type": "markdown",
   "id": "f3b89f65",
   "metadata": {},
   "source": [
    "To import the data to three different data frames"
   ]
  },
  {
   "cell_type": "code",
   "execution_count": 1,
   "id": "ad98ee2a",
   "metadata": {},
   "outputs": [],
   "source": [
    "# import pandas lib as pd\n",
    "import pandas as pd\n",
    "\n",
    "pd.set_option(\"display.precision\", 3)\n",
    "pd.set_option('display.min_rows', 8)\n",
    "pd.set_option('display.width', 2000)\n",
    " \n",
    "#Creating three different data frames\n",
    "cc_cust_data = pd.read_excel('Credit Card Data.xlsx', sheet_name = 'Customer Details')\n",
    "cc_spend_data = pd.read_excel('Credit Card Data.xlsx', sheet_name = 'Spend')\n",
    "cc_repayment_data = pd.read_excel('Credit Card Data.xlsx', sheet_name = 'Repayment')\n",
    "\n",
    "\n",
    "\n",
    "#print(cc_cust_data.head(2)) \n"
   ]
  },
  {
   "cell_type": "code",
   "execution_count": 3,
   "id": "05f4c2ad",
   "metadata": {},
   "outputs": [
    {
     "name": "stdout",
     "output_type": "stream",
     "text": [
      "   No Customer  Age       City Product    Limit Company        Segment\n",
      "0   1       A1   47  BANGALORE    Gold  1500000      C1  Self Employed\n",
      "1   2       A2   56   CALCUTTA  Silver   300000      C2   Salaried_MNC\n"
     ]
    }
   ],
   "source": [
    "#Checking the Customer Master data frame\n",
    "\n",
    "print(cc_cust_data.head(2)) "
   ]
  },
  {
   "cell_type": "code",
   "execution_count": 4,
   "id": "be875e5d",
   "metadata": {},
   "outputs": [
    {
     "name": "stdout",
     "output_type": "stream",
     "text": [
      "   Sl No: Customer      Month       Type         Amount  Unnamed: 5\n",
      "0       1       A1 2004-01-12  JEWELLERY  344054.980813         NaN\n",
      "1       2       A1 2004-01-03      PETRO     935.495203         NaN\n"
     ]
    }
   ],
   "source": [
    "#Checking the Spend data frame\n",
    "\n",
    "print(cc_spend_data.head(2)) "
   ]
  },
  {
   "cell_type": "code",
   "execution_count": 5,
   "id": "0aea6d4d",
   "metadata": {},
   "outputs": [
    {
     "name": "stdout",
     "output_type": "stream",
     "text": [
      "   SL No: Customer      Month         Amount\n",
      "0       1       A1 2006-05-15  230847.254053\n",
      "1       2       A1 2005-08-27    1835.123777\n"
     ]
    }
   ],
   "source": [
    "#Checking the repayment data frame\n",
    "\n",
    "print(cc_repayment_data.head(2))"
   ]
  },
  {
   "cell_type": "markdown",
   "id": "1b9d4cae",
   "metadata": {},
   "source": [
    "#### Task 1.1 - Cleaning of the Customer Master Data"
   ]
  },
  {
   "cell_type": "code",
   "execution_count": 6,
   "id": "c17c2769",
   "metadata": {
    "scrolled": false
   },
   "outputs": [
    {
     "data": {
      "text/plain": [
       "No           int64\n",
       "Customer    object\n",
       "Age          int64\n",
       "City        object\n",
       "Product     object\n",
       "Limit        int64\n",
       "Company     object\n",
       "Segment     object\n",
       "dtype: object"
      ]
     },
     "execution_count": 6,
     "metadata": {},
     "output_type": "execute_result"
    }
   ],
   "source": [
    "#checking the Data types of all columns\n",
    "cc_cust_data.dtypes"
   ]
  },
  {
   "cell_type": "code",
   "execution_count": 7,
   "id": "780135b8",
   "metadata": {
    "scrolled": false
   },
   "outputs": [
    {
     "name": "stdout",
     "output_type": "stream",
     "text": [
      "   No Customer  Age       City   Product    Limit Company        Segment\n",
      "0   1       A1   47  BANGALORE      Gold  1500000      C1  Self Employed\n",
      "1   2       A2   56   CALCUTTA    Silver   300000      C2   Salaried_MNC\n",
      "2   3       A3   30     COCHIN  Platimum   540000      C3   Salaried_Pvt\n",
      "3   4       A4   22     BOMBAY  Platimum   840084      C4           Govt\n"
     ]
    }
   ],
   "source": [
    "print(cc_cust_data.head(4)) "
   ]
  },
  {
   "cell_type": "code",
   "execution_count": 9,
   "id": "ebaadb61",
   "metadata": {},
   "outputs": [
    {
     "name": "stdout",
     "output_type": "stream",
     "text": [
      "<class 'pandas.core.frame.DataFrame'>\n",
      "RangeIndex: 100 entries, 0 to 99\n",
      "Data columns (total 8 columns):\n",
      " #   Column    Non-Null Count  Dtype \n",
      "---  ------    --------------  ----- \n",
      " 0   No        100 non-null    int64 \n",
      " 1   Customer  100 non-null    object\n",
      " 2   Age       100 non-null    int64 \n",
      " 3   City      100 non-null    object\n",
      " 4   Product   100 non-null    object\n",
      " 5   Limit     100 non-null    int64 \n",
      " 6   Company   100 non-null    object\n",
      " 7   Segment   100 non-null    object\n",
      "dtypes: int64(3), object(5)\n",
      "memory usage: 6.4+ KB\n"
     ]
    }
   ],
   "source": [
    "cc_cust_data.info()\n",
    "\n",
    "#The below table shows that there are no null values, and the data types are also as per the feature information"
   ]
  },
  {
   "cell_type": "code",
   "execution_count": 2,
   "id": "33576c1d",
   "metadata": {},
   "outputs": [
    {
     "data": {
      "text/html": [
       "<div>\n",
       "<style scoped>\n",
       "    .dataframe tbody tr th:only-of-type {\n",
       "        vertical-align: middle;\n",
       "    }\n",
       "\n",
       "    .dataframe tbody tr th {\n",
       "        vertical-align: top;\n",
       "    }\n",
       "\n",
       "    .dataframe thead th {\n",
       "        text-align: right;\n",
       "    }\n",
       "</style>\n",
       "<table border=\"1\" class=\"dataframe\">\n",
       "  <thead>\n",
       "    <tr style=\"text-align: right;\">\n",
       "      <th></th>\n",
       "      <th>No</th>\n",
       "      <th>Age</th>\n",
       "      <th>Limit</th>\n",
       "    </tr>\n",
       "  </thead>\n",
       "  <tbody>\n",
       "    <tr>\n",
       "      <th>count</th>\n",
       "      <td>100.000</td>\n",
       "      <td>100.000</td>\n",
       "      <td>1.000e+02</td>\n",
       "    </tr>\n",
       "    <tr>\n",
       "      <th>mean</th>\n",
       "      <td>50.500</td>\n",
       "      <td>46.460</td>\n",
       "      <td>7.104e+05</td>\n",
       "    </tr>\n",
       "    <tr>\n",
       "      <th>std</th>\n",
       "      <td>29.011</td>\n",
       "      <td>17.817</td>\n",
       "      <td>5.298e+05</td>\n",
       "    </tr>\n",
       "    <tr>\n",
       "      <th>min</th>\n",
       "      <td>1.000</td>\n",
       "      <td>14.000</td>\n",
       "      <td>1.000e+04</td>\n",
       "    </tr>\n",
       "    <tr>\n",
       "      <th>25%</th>\n",
       "      <td>25.750</td>\n",
       "      <td>30.000</td>\n",
       "      <td>4.425e+05</td>\n",
       "    </tr>\n",
       "    <tr>\n",
       "      <th>50%</th>\n",
       "      <td>50.500</td>\n",
       "      <td>47.500</td>\n",
       "      <td>5.000e+05</td>\n",
       "    </tr>\n",
       "    <tr>\n",
       "      <th>75%</th>\n",
       "      <td>75.250</td>\n",
       "      <td>62.250</td>\n",
       "      <td>1.200e+06</td>\n",
       "    </tr>\n",
       "    <tr>\n",
       "      <th>max</th>\n",
       "      <td>100.000</td>\n",
       "      <td>75.000</td>\n",
       "      <td>3.000e+06</td>\n",
       "    </tr>\n",
       "  </tbody>\n",
       "</table>\n",
       "</div>"
      ],
      "text/plain": [
       "            No      Age      Limit\n",
       "count  100.000  100.000  1.000e+02\n",
       "mean    50.500   46.460  7.104e+05\n",
       "std     29.011   17.817  5.298e+05\n",
       "min      1.000   14.000  1.000e+04\n",
       "25%     25.750   30.000  4.425e+05\n",
       "50%     50.500   47.500  5.000e+05\n",
       "75%     75.250   62.250  1.200e+06\n",
       "max    100.000   75.000  3.000e+06"
      ]
     },
     "execution_count": 2,
     "metadata": {},
     "output_type": "execute_result"
    }
   ],
   "source": [
    "cc_cust_data.describe()\n",
    "#The output of describe shows that for numerical columns, there are no outlier values. "
   ]
  },
  {
   "cell_type": "code",
   "execution_count": 4,
   "id": "0080e500",
   "metadata": {},
   "outputs": [
    {
     "data": {
      "text/plain": [
       "No          0\n",
       "Customer    0\n",
       "Age         0\n",
       "City        0\n",
       "Product     0\n",
       "Limit       0\n",
       "Company     0\n",
       "Segment     0\n",
       "dtype: int64"
      ]
     },
     "execution_count": 4,
     "metadata": {},
     "output_type": "execute_result"
    }
   ],
   "source": [
    "cc_cust_data.isnull().sum()\n",
    "#Thus there are no null values"
   ]
  },
  {
   "cell_type": "markdown",
   "id": "9869849b",
   "metadata": {},
   "source": [
    "#### Task 1.2 - Cleaning of the Spends Data"
   ]
  },
  {
   "cell_type": "code",
   "execution_count": 5,
   "id": "cb220306",
   "metadata": {
    "scrolled": false
   },
   "outputs": [
    {
     "data": {
      "text/plain": [
       "Sl No:                 int64\n",
       "Customer              object\n",
       "Month         datetime64[ns]\n",
       "Type                  object\n",
       "Amount               float64\n",
       "Unnamed: 5           float64\n",
       "dtype: object"
      ]
     },
     "execution_count": 5,
     "metadata": {},
     "output_type": "execute_result"
    }
   ],
   "source": [
    "#checking the Data types of all columns\n",
    "cc_spend_data.dtypes"
   ]
  },
  {
   "cell_type": "code",
   "execution_count": 6,
   "id": "3cb9f2ad",
   "metadata": {
    "scrolled": false
   },
   "outputs": [
    {
     "name": "stdout",
     "output_type": "stream",
     "text": [
      "   Sl No: Customer      Month       Type      Amount  Unnamed: 5\n",
      "0       1       A1 2004-01-12  JEWELLERY  344054.981         NaN\n",
      "1       2       A1 2004-01-03      PETRO     935.495         NaN\n",
      "2       3       A1 2004-01-15    CLOTHES    8687.895         NaN\n",
      "3       4       A1 2004-01-25       FOOD     341.160         NaN\n"
     ]
    }
   ],
   "source": [
    "print(cc_spend_data.head(4)) "
   ]
  },
  {
   "cell_type": "code",
   "execution_count": 7,
   "id": "137bd47b",
   "metadata": {},
   "outputs": [
    {
     "name": "stdout",
     "output_type": "stream",
     "text": [
      "<class 'pandas.core.frame.DataFrame'>\n",
      "RangeIndex: 1500 entries, 0 to 1499\n",
      "Data columns (total 6 columns):\n",
      " #   Column      Non-Null Count  Dtype         \n",
      "---  ------      --------------  -----         \n",
      " 0   Sl No:      1500 non-null   int64         \n",
      " 1   Customer    1500 non-null   object        \n",
      " 2   Month       1500 non-null   datetime64[ns]\n",
      " 3   Type        1500 non-null   object        \n",
      " 4   Amount      1500 non-null   float64       \n",
      " 5   Unnamed: 5  0 non-null      float64       \n",
      "dtypes: datetime64[ns](1), float64(2), int64(1), object(2)\n",
      "memory usage: 70.4+ KB\n"
     ]
    }
   ],
   "source": [
    "cc_spend_data.info()\n",
    "\n",
    "#The below table shows that there are null values in only one column 'Unnamed - 5', \n",
    "# and the data types are also as per the feature information"
   ]
  },
  {
   "cell_type": "code",
   "execution_count": 8,
   "id": "b630e0ab",
   "metadata": {},
   "outputs": [
    {
     "data": {
      "text/html": [
       "<div>\n",
       "<style scoped>\n",
       "    .dataframe tbody tr th:only-of-type {\n",
       "        vertical-align: middle;\n",
       "    }\n",
       "\n",
       "    .dataframe tbody tr th {\n",
       "        vertical-align: top;\n",
       "    }\n",
       "\n",
       "    .dataframe thead th {\n",
       "        text-align: right;\n",
       "    }\n",
       "</style>\n",
       "<table border=\"1\" class=\"dataframe\">\n",
       "  <thead>\n",
       "    <tr style=\"text-align: right;\">\n",
       "      <th></th>\n",
       "      <th>Sl No:</th>\n",
       "      <th>Amount</th>\n",
       "      <th>Unnamed: 5</th>\n",
       "    </tr>\n",
       "  </thead>\n",
       "  <tbody>\n",
       "    <tr>\n",
       "      <th>count</th>\n",
       "      <td>1500.000</td>\n",
       "      <td>1.500e+03</td>\n",
       "      <td>0.0</td>\n",
       "    </tr>\n",
       "    <tr>\n",
       "      <th>mean</th>\n",
       "      <td>750.500</td>\n",
       "      <td>6.224e+04</td>\n",
       "      <td>NaN</td>\n",
       "    </tr>\n",
       "    <tr>\n",
       "      <th>std</th>\n",
       "      <td>433.157</td>\n",
       "      <td>1.270e+05</td>\n",
       "      <td>NaN</td>\n",
       "    </tr>\n",
       "    <tr>\n",
       "      <th>min</th>\n",
       "      <td>1.000</td>\n",
       "      <td>3.403e+00</td>\n",
       "      <td>NaN</td>\n",
       "    </tr>\n",
       "    <tr>\n",
       "      <th>25%</th>\n",
       "      <td>375.750</td>\n",
       "      <td>7.715e+02</td>\n",
       "      <td>NaN</td>\n",
       "    </tr>\n",
       "    <tr>\n",
       "      <th>50%</th>\n",
       "      <td>750.500</td>\n",
       "      <td>6.397e+03</td>\n",
       "      <td>NaN</td>\n",
       "    </tr>\n",
       "    <tr>\n",
       "      <th>75%</th>\n",
       "      <td>1125.250</td>\n",
       "      <td>3.563e+04</td>\n",
       "      <td>NaN</td>\n",
       "    </tr>\n",
       "    <tr>\n",
       "      <th>max</th>\n",
       "      <td>1500.000</td>\n",
       "      <td>1.308e+06</td>\n",
       "      <td>NaN</td>\n",
       "    </tr>\n",
       "  </tbody>\n",
       "</table>\n",
       "</div>"
      ],
      "text/plain": [
       "         Sl No:     Amount  Unnamed: 5\n",
       "count  1500.000  1.500e+03         0.0\n",
       "mean    750.500  6.224e+04         NaN\n",
       "std     433.157  1.270e+05         NaN\n",
       "min       1.000  3.403e+00         NaN\n",
       "25%     375.750  7.715e+02         NaN\n",
       "50%     750.500  6.397e+03         NaN\n",
       "75%    1125.250  3.563e+04         NaN\n",
       "max    1500.000  1.308e+06         NaN"
      ]
     },
     "execution_count": 8,
     "metadata": {},
     "output_type": "execute_result"
    }
   ],
   "source": [
    "cc_spend_data.describe()\n",
    "#The output of describe shows that for numerical columns, there are no outlier values (except for Unnamed:5, which should be dropped)"
   ]
  },
  {
   "cell_type": "code",
   "execution_count": 9,
   "id": "96ebe33c",
   "metadata": {},
   "outputs": [
    {
     "data": {
      "text/plain": [
       "Sl No:           0\n",
       "Customer         0\n",
       "Month            0\n",
       "Type             0\n",
       "Amount           0\n",
       "Unnamed: 5    1500\n",
       "dtype: int64"
      ]
     },
     "execution_count": 9,
     "metadata": {},
     "output_type": "execute_result"
    }
   ],
   "source": [
    "cc_spend_data.isnull().sum()\n",
    "#Thus there are null values only in one column, which should be dropped"
   ]
  },
  {
   "cell_type": "code",
   "execution_count": 10,
   "id": "98ec2643",
   "metadata": {},
   "outputs": [
    {
     "data": {
      "text/html": [
       "<div>\n",
       "<style scoped>\n",
       "    .dataframe tbody tr th:only-of-type {\n",
       "        vertical-align: middle;\n",
       "    }\n",
       "\n",
       "    .dataframe tbody tr th {\n",
       "        vertical-align: top;\n",
       "    }\n",
       "\n",
       "    .dataframe thead th {\n",
       "        text-align: right;\n",
       "    }\n",
       "</style>\n",
       "<table border=\"1\" class=\"dataframe\">\n",
       "  <thead>\n",
       "    <tr style=\"text-align: right;\">\n",
       "      <th></th>\n",
       "      <th>Sl No:</th>\n",
       "      <th>Customer</th>\n",
       "      <th>Month</th>\n",
       "      <th>Type</th>\n",
       "      <th>Amount</th>\n",
       "    </tr>\n",
       "  </thead>\n",
       "  <tbody>\n",
       "    <tr>\n",
       "      <th>0</th>\n",
       "      <td>1</td>\n",
       "      <td>A1</td>\n",
       "      <td>2004-01-12</td>\n",
       "      <td>JEWELLERY</td>\n",
       "      <td>344054.981</td>\n",
       "    </tr>\n",
       "    <tr>\n",
       "      <th>1</th>\n",
       "      <td>2</td>\n",
       "      <td>A1</td>\n",
       "      <td>2004-01-03</td>\n",
       "      <td>PETRO</td>\n",
       "      <td>935.495</td>\n",
       "    </tr>\n",
       "    <tr>\n",
       "      <th>2</th>\n",
       "      <td>3</td>\n",
       "      <td>A1</td>\n",
       "      <td>2004-01-15</td>\n",
       "      <td>CLOTHES</td>\n",
       "      <td>8687.895</td>\n",
       "    </tr>\n",
       "    <tr>\n",
       "      <th>3</th>\n",
       "      <td>4</td>\n",
       "      <td>A1</td>\n",
       "      <td>2004-01-25</td>\n",
       "      <td>FOOD</td>\n",
       "      <td>341.160</td>\n",
       "    </tr>\n",
       "  </tbody>\n",
       "</table>\n",
       "</div>"
      ],
      "text/plain": [
       "   Sl No: Customer      Month       Type      Amount\n",
       "0       1       A1 2004-01-12  JEWELLERY  344054.981\n",
       "1       2       A1 2004-01-03      PETRO     935.495\n",
       "2       3       A1 2004-01-15    CLOTHES    8687.895\n",
       "3       4       A1 2004-01-25       FOOD     341.160"
      ]
     },
     "execution_count": 10,
     "metadata": {},
     "output_type": "execute_result"
    }
   ],
   "source": [
    "#Dropping 'Unnamed: 5'\n",
    "\n",
    "cc_spend_data.drop('Unnamed: 5', axis=1, inplace=True)\n",
    "cc_spend_data.head(4)"
   ]
  },
  {
   "cell_type": "code",
   "execution_count": null,
   "id": "cfa1ab8c",
   "metadata": {},
   "outputs": [],
   "source": []
  },
  {
   "cell_type": "markdown",
   "id": "c1a607a0",
   "metadata": {},
   "source": [
    "#### Task 1.3 - Cleaning of the Repayments Data"
   ]
  },
  {
   "cell_type": "code",
   "execution_count": 11,
   "id": "24a37fec",
   "metadata": {
    "scrolled": false
   },
   "outputs": [
    {
     "data": {
      "text/plain": [
       "SL No:               int64\n",
       "Customer            object\n",
       "Month       datetime64[ns]\n",
       "Amount             float64\n",
       "dtype: object"
      ]
     },
     "execution_count": 11,
     "metadata": {},
     "output_type": "execute_result"
    }
   ],
   "source": [
    "#checking the Data types of all columns\n",
    "cc_repayment_data.dtypes"
   ]
  },
  {
   "cell_type": "code",
   "execution_count": 12,
   "id": "403d15b5",
   "metadata": {
    "scrolled": false
   },
   "outputs": [
    {
     "name": "stdout",
     "output_type": "stream",
     "text": [
      "   SL No: Customer      Month     Amount\n",
      "0       1       A1 2006-05-15  2.308e+05\n",
      "1       2       A1 2005-08-27  1.835e+03\n",
      "2       3       A1 2004-03-07  4.859e+03\n",
      "3       4       A1 2005-03-01  1.361e+06\n"
     ]
    }
   ],
   "source": [
    "print(cc_repayment_data.head(4)) "
   ]
  },
  {
   "cell_type": "code",
   "execution_count": 13,
   "id": "a8518327",
   "metadata": {},
   "outputs": [
    {
     "name": "stdout",
     "output_type": "stream",
     "text": [
      "<class 'pandas.core.frame.DataFrame'>\n",
      "RangeIndex: 807 entries, 0 to 806\n",
      "Data columns (total 4 columns):\n",
      " #   Column    Non-Null Count  Dtype         \n",
      "---  ------    --------------  -----         \n",
      " 0   SL No:    807 non-null    int64         \n",
      " 1   Customer  807 non-null    object        \n",
      " 2   Month     803 non-null    datetime64[ns]\n",
      " 3   Amount    807 non-null    float64       \n",
      "dtypes: datetime64[ns](1), float64(1), int64(1), object(1)\n",
      "memory usage: 25.3+ KB\n"
     ]
    }
   ],
   "source": [
    "cc_repayment_data.info()\n",
    "\n",
    "#The below table shows that there are null values in only one column 'Unnamed - 5', \n",
    "# and the data types are also as per the feature information"
   ]
  },
  {
   "cell_type": "code",
   "execution_count": 17,
   "id": "86e76e31",
   "metadata": {},
   "outputs": [
    {
     "data": {
      "text/html": [
       "<div>\n",
       "<style scoped>\n",
       "    .dataframe tbody tr th:only-of-type {\n",
       "        vertical-align: middle;\n",
       "    }\n",
       "\n",
       "    .dataframe tbody tr th {\n",
       "        vertical-align: top;\n",
       "    }\n",
       "\n",
       "    .dataframe thead th {\n",
       "        text-align: right;\n",
       "    }\n",
       "</style>\n",
       "<table border=\"1\" class=\"dataframe\">\n",
       "  <thead>\n",
       "    <tr style=\"text-align: right;\">\n",
       "      <th></th>\n",
       "      <th>SL No:</th>\n",
       "      <th>Amount</th>\n",
       "    </tr>\n",
       "  </thead>\n",
       "  <tbody>\n",
       "    <tr>\n",
       "      <th>count</th>\n",
       "      <td>807.000</td>\n",
       "      <td>8.070e+02</td>\n",
       "    </tr>\n",
       "    <tr>\n",
       "      <th>mean</th>\n",
       "      <td>404.000</td>\n",
       "      <td>9.659e+04</td>\n",
       "    </tr>\n",
       "    <tr>\n",
       "      <th>std</th>\n",
       "      <td>233.105</td>\n",
       "      <td>1.696e+05</td>\n",
       "    </tr>\n",
       "    <tr>\n",
       "      <th>min</th>\n",
       "      <td>1.000</td>\n",
       "      <td>3.121e+00</td>\n",
       "    </tr>\n",
       "    <tr>\n",
       "      <th>25%</th>\n",
       "      <td>202.500</td>\n",
       "      <td>1.387e+03</td>\n",
       "    </tr>\n",
       "    <tr>\n",
       "      <th>50%</th>\n",
       "      <td>404.000</td>\n",
       "      <td>1.470e+04</td>\n",
       "    </tr>\n",
       "    <tr>\n",
       "      <th>75%</th>\n",
       "      <td>605.500</td>\n",
       "      <td>1.013e+05</td>\n",
       "    </tr>\n",
       "    <tr>\n",
       "      <th>max</th>\n",
       "      <td>807.000</td>\n",
       "      <td>1.361e+06</td>\n",
       "    </tr>\n",
       "  </tbody>\n",
       "</table>\n",
       "</div>"
      ],
      "text/plain": [
       "        SL No:     Amount\n",
       "count  807.000  8.070e+02\n",
       "mean   404.000  9.659e+04\n",
       "std    233.105  1.696e+05\n",
       "min      1.000  3.121e+00\n",
       "25%    202.500  1.387e+03\n",
       "50%    404.000  1.470e+04\n",
       "75%    605.500  1.013e+05\n",
       "max    807.000  1.361e+06"
      ]
     },
     "execution_count": 17,
     "metadata": {},
     "output_type": "execute_result"
    }
   ],
   "source": [
    "cc_repayment_data.describe()\n",
    "#The output of describe shows that for numerical columns, there are no outlier values"
   ]
  },
  {
   "cell_type": "code",
   "execution_count": 15,
   "id": "0d7fb656",
   "metadata": {},
   "outputs": [
    {
     "data": {
      "text/plain": [
       "SL No:      0\n",
       "Customer    0\n",
       "Month       4\n",
       "Amount      0\n",
       "dtype: int64"
      ]
     },
     "execution_count": 15,
     "metadata": {},
     "output_type": "execute_result"
    }
   ],
   "source": [
    "cc_repayment_data.isnull().sum()\n",
    "#Thus there are null values only in one column, Month. "
   ]
  },
  {
   "cell_type": "code",
   "execution_count": 21,
   "id": "ecc9d628",
   "metadata": {},
   "outputs": [
    {
     "data": {
      "text/html": [
       "<div>\n",
       "<style scoped>\n",
       "    .dataframe tbody tr th:only-of-type {\n",
       "        vertical-align: middle;\n",
       "    }\n",
       "\n",
       "    .dataframe tbody tr th {\n",
       "        vertical-align: top;\n",
       "    }\n",
       "\n",
       "    .dataframe thead th {\n",
       "        text-align: right;\n",
       "    }\n",
       "</style>\n",
       "<table border=\"1\" class=\"dataframe\">\n",
       "  <thead>\n",
       "    <tr style=\"text-align: right;\">\n",
       "      <th></th>\n",
       "      <th>SL No:</th>\n",
       "      <th>Customer</th>\n",
       "      <th>Month</th>\n",
       "      <th>Amount</th>\n",
       "    </tr>\n",
       "  </thead>\n",
       "  <tbody>\n",
       "    <tr>\n",
       "      <th>274</th>\n",
       "      <td>275</td>\n",
       "      <td>A29</td>\n",
       "      <td>NaT</td>\n",
       "      <td>139343.954</td>\n",
       "    </tr>\n",
       "    <tr>\n",
       "      <th>299</th>\n",
       "      <td>300</td>\n",
       "      <td>A30</td>\n",
       "      <td>NaT</td>\n",
       "      <td>75520.695</td>\n",
       "    </tr>\n",
       "    <tr>\n",
       "      <th>418</th>\n",
       "      <td>419</td>\n",
       "      <td>A40</td>\n",
       "      <td>NaT</td>\n",
       "      <td>4203.396</td>\n",
       "    </tr>\n",
       "    <tr>\n",
       "      <th>789</th>\n",
       "      <td>790</td>\n",
       "      <td>A9</td>\n",
       "      <td>NaT</td>\n",
       "      <td>20150.637</td>\n",
       "    </tr>\n",
       "  </tbody>\n",
       "</table>\n",
       "</div>"
      ],
      "text/plain": [
       "     SL No: Customer Month      Amount\n",
       "274     275      A29   NaT  139343.954\n",
       "299     300      A30   NaT   75520.695\n",
       "418     419      A40   NaT    4203.396\n",
       "789     790       A9   NaT   20150.637"
      ]
     },
     "execution_count": 21,
     "metadata": {},
     "output_type": "execute_result"
    }
   ],
   "source": [
    "#Checking the rows where month is null\n",
    "\n",
    "cc_repayment_data[cc_repayment_data['Month'].isnull()]"
   ]
  },
  {
   "cell_type": "code",
   "execution_count": 24,
   "id": "fa69e8d8",
   "metadata": {},
   "outputs": [],
   "source": [
    "#Replacing NaT values via the ffill method\n",
    "cc_repayment_data['Month'].ffill(inplace = True)"
   ]
  },
  {
   "cell_type": "code",
   "execution_count": 25,
   "id": "3160d29b",
   "metadata": {},
   "outputs": [
    {
     "data": {
      "text/html": [
       "<div>\n",
       "<style scoped>\n",
       "    .dataframe tbody tr th:only-of-type {\n",
       "        vertical-align: middle;\n",
       "    }\n",
       "\n",
       "    .dataframe tbody tr th {\n",
       "        vertical-align: top;\n",
       "    }\n",
       "\n",
       "    .dataframe thead th {\n",
       "        text-align: right;\n",
       "    }\n",
       "</style>\n",
       "<table border=\"1\" class=\"dataframe\">\n",
       "  <thead>\n",
       "    <tr style=\"text-align: right;\">\n",
       "      <th></th>\n",
       "      <th>SL No:</th>\n",
       "      <th>Customer</th>\n",
       "      <th>Month</th>\n",
       "      <th>Amount</th>\n",
       "    </tr>\n",
       "  </thead>\n",
       "  <tbody>\n",
       "  </tbody>\n",
       "</table>\n",
       "</div>"
      ],
      "text/plain": [
       "Empty DataFrame\n",
       "Columns: [SL No:, Customer, Month, Amount]\n",
       "Index: []"
      ]
     },
     "execution_count": 25,
     "metadata": {},
     "output_type": "execute_result"
    }
   ],
   "source": [
    "cc_repayment_data[cc_repayment_data['Month'].isnull()]\n",
    "#Thus, there are no null values in the Month column"
   ]
  },
  {
   "cell_type": "code",
   "execution_count": 26,
   "id": "d42a0df3",
   "metadata": {},
   "outputs": [
    {
     "data": {
      "text/plain": [
       "SL No:      0\n",
       "Customer    0\n",
       "Month       0\n",
       "Amount      0\n",
       "dtype: int64"
      ]
     },
     "execution_count": 26,
     "metadata": {},
     "output_type": "execute_result"
    }
   ],
   "source": [
    "cc_repayment_data.isnull().sum()\n",
    "#Rechecking for null values again, none found"
   ]
  },
  {
   "cell_type": "markdown",
   "id": "b27f7b41",
   "metadata": {},
   "source": [
    "### Thus Task 1 has been completed and all the data has been cleaned"
   ]
  },
  {
   "cell_type": "markdown",
   "id": "24bfdb6a",
   "metadata": {},
   "source": [
    "### Task 2 : Make the following substitution:\n",
    "a. Age of credit card customer can't be less than 18. In case age is less than 18, replace\n",
    "it with mean of age"
   ]
  },
  {
   "cell_type": "code",
   "execution_count": 45,
   "id": "5609d7e0",
   "metadata": {},
   "outputs": [
    {
     "data": {
      "text/html": [
       "<div>\n",
       "<style scoped>\n",
       "    .dataframe tbody tr th:only-of-type {\n",
       "        vertical-align: middle;\n",
       "    }\n",
       "\n",
       "    .dataframe tbody tr th {\n",
       "        vertical-align: top;\n",
       "    }\n",
       "\n",
       "    .dataframe thead th {\n",
       "        text-align: right;\n",
       "    }\n",
       "</style>\n",
       "<table border=\"1\" class=\"dataframe\">\n",
       "  <thead>\n",
       "    <tr style=\"text-align: right;\">\n",
       "      <th></th>\n",
       "      <th>No</th>\n",
       "      <th>Customer</th>\n",
       "      <th>Age</th>\n",
       "      <th>City</th>\n",
       "      <th>Product</th>\n",
       "      <th>Limit</th>\n",
       "      <th>Company</th>\n",
       "      <th>Segment</th>\n",
       "    </tr>\n",
       "  </thead>\n",
       "  <tbody>\n",
       "  </tbody>\n",
       "</table>\n",
       "</div>"
      ],
      "text/plain": [
       "Empty DataFrame\n",
       "Columns: [No, Customer, Age, City, Product, Limit, Company, Segment]\n",
       "Index: []"
      ]
     },
     "execution_count": 45,
     "metadata": {},
     "output_type": "execute_result"
    }
   ],
   "source": [
    "#The data was checked and 4 rows came up, but unable to revert to the same state. \n",
    "#Hence mentioning the code below\n",
    "\n",
    "\n",
    "age_less_than_18_bool = cc_cust_data['Age'] < 18\n",
    "\n",
    "\n",
    "\n",
    "cc_cust_data[age_less_than_18_bool]"
   ]
  },
  {
   "cell_type": "code",
   "execution_count": 46,
   "id": "cb2ea253",
   "metadata": {},
   "outputs": [
    {
     "data": {
      "text/html": [
       "<div>\n",
       "<style scoped>\n",
       "    .dataframe tbody tr th:only-of-type {\n",
       "        vertical-align: middle;\n",
       "    }\n",
       "\n",
       "    .dataframe tbody tr th {\n",
       "        vertical-align: top;\n",
       "    }\n",
       "\n",
       "    .dataframe thead th {\n",
       "        text-align: right;\n",
       "    }\n",
       "</style>\n",
       "<table border=\"1\" class=\"dataframe\">\n",
       "  <thead>\n",
       "    <tr style=\"text-align: right;\">\n",
       "      <th></th>\n",
       "      <th>No</th>\n",
       "      <th>Customer</th>\n",
       "      <th>Age</th>\n",
       "      <th>City</th>\n",
       "      <th>Product</th>\n",
       "      <th>Limit</th>\n",
       "      <th>Company</th>\n",
       "      <th>Segment</th>\n",
       "    </tr>\n",
       "  </thead>\n",
       "  <tbody>\n",
       "  </tbody>\n",
       "</table>\n",
       "</div>"
      ],
      "text/plain": [
       "Empty DataFrame\n",
       "Columns: [No, Customer, Age, City, Product, Limit, Company, Segment]\n",
       "Index: []"
      ]
     },
     "execution_count": 46,
     "metadata": {},
     "output_type": "execute_result"
    }
   ],
   "source": [
    "#Post applying the below replacement, the teenage customers age was replaced by the mean\n",
    "\n",
    "cc_cust_data[age_less_than_18_bool] = cc_cust_data['Age'].mean()\n",
    "\n",
    "cc_cust_data[age_less_than_18_bool]"
   ]
  },
  {
   "cell_type": "markdown",
   "id": "32c6bd35",
   "metadata": {},
   "source": [
    "### Task 2 : Age substitution completed"
   ]
  },
  {
   "cell_type": "markdown",
   "id": "8897de72",
   "metadata": {},
   "source": [
    "### Task 3 :  3) Answer the following Questions:\n",
    "1. a. How many unique customers are there?\n",
    "2. b. How many spend categories are there?\n",
    "3. c. Which category has the highest average spend?\n",
    "4. d. What is the average monthly spent by product categories?\n",
    "5. e. Which customers are reaching 90% or more of their spending limit?\n",
    "6. f. Which city has the maximum number of spenders, each month? Is there a need to run\n",
    "campaigns in specific cities?\n",
    "7. g. Which age group spends the most? "
   ]
  },
  {
   "cell_type": "markdown",
   "id": "f1029537",
   "metadata": {},
   "source": [
    "#### Task 3a - How many unique customers are there?"
   ]
  },
  {
   "cell_type": "code",
   "execution_count": 47,
   "id": "eca8ac6e",
   "metadata": {},
   "outputs": [
    {
     "data": {
      "text/html": [
       "<div>\n",
       "<style scoped>\n",
       "    .dataframe tbody tr th:only-of-type {\n",
       "        vertical-align: middle;\n",
       "    }\n",
       "\n",
       "    .dataframe tbody tr th {\n",
       "        vertical-align: top;\n",
       "    }\n",
       "\n",
       "    .dataframe thead th {\n",
       "        text-align: right;\n",
       "    }\n",
       "</style>\n",
       "<table border=\"1\" class=\"dataframe\">\n",
       "  <thead>\n",
       "    <tr style=\"text-align: right;\">\n",
       "      <th></th>\n",
       "      <th>No</th>\n",
       "      <th>Customer</th>\n",
       "      <th>Age</th>\n",
       "      <th>City</th>\n",
       "      <th>Product</th>\n",
       "      <th>Limit</th>\n",
       "      <th>Company</th>\n",
       "      <th>Segment</th>\n",
       "    </tr>\n",
       "  </thead>\n",
       "  <tbody>\n",
       "    <tr>\n",
       "      <th>0</th>\n",
       "      <td>1.0</td>\n",
       "      <td>A1</td>\n",
       "      <td>47.0</td>\n",
       "      <td>BANGALORE</td>\n",
       "      <td>Gold</td>\n",
       "      <td>1.500e+06</td>\n",
       "      <td>C1</td>\n",
       "      <td>Self Employed</td>\n",
       "    </tr>\n",
       "    <tr>\n",
       "      <th>1</th>\n",
       "      <td>2.0</td>\n",
       "      <td>A2</td>\n",
       "      <td>56.0</td>\n",
       "      <td>CALCUTTA</td>\n",
       "      <td>Silver</td>\n",
       "      <td>3.000e+05</td>\n",
       "      <td>C2</td>\n",
       "      <td>Salaried_MNC</td>\n",
       "    </tr>\n",
       "    <tr>\n",
       "      <th>2</th>\n",
       "      <td>3.0</td>\n",
       "      <td>A3</td>\n",
       "      <td>30.0</td>\n",
       "      <td>COCHIN</td>\n",
       "      <td>Platimum</td>\n",
       "      <td>5.400e+05</td>\n",
       "      <td>C3</td>\n",
       "      <td>Salaried_Pvt</td>\n",
       "    </tr>\n",
       "    <tr>\n",
       "      <th>3</th>\n",
       "      <td>4.0</td>\n",
       "      <td>A4</td>\n",
       "      <td>22.0</td>\n",
       "      <td>BOMBAY</td>\n",
       "      <td>Platimum</td>\n",
       "      <td>8.401e+05</td>\n",
       "      <td>C4</td>\n",
       "      <td>Govt</td>\n",
       "    </tr>\n",
       "    <tr>\n",
       "      <th>4</th>\n",
       "      <td>5.0</td>\n",
       "      <td>A5</td>\n",
       "      <td>59.0</td>\n",
       "      <td>BANGALORE</td>\n",
       "      <td>Platimum</td>\n",
       "      <td>4.201e+05</td>\n",
       "      <td>C5</td>\n",
       "      <td>Normal Salary</td>\n",
       "    </tr>\n",
       "  </tbody>\n",
       "</table>\n",
       "</div>"
      ],
      "text/plain": [
       "    No Customer   Age       City   Product      Limit Company        Segment\n",
       "0  1.0       A1  47.0  BANGALORE      Gold  1.500e+06      C1  Self Employed\n",
       "1  2.0       A2  56.0   CALCUTTA    Silver  3.000e+05      C2   Salaried_MNC\n",
       "2  3.0       A3  30.0     COCHIN  Platimum  5.400e+05      C3   Salaried_Pvt\n",
       "3  4.0       A4  22.0     BOMBAY  Platimum  8.401e+05      C4           Govt\n",
       "4  5.0       A5  59.0  BANGALORE  Platimum  4.201e+05      C5  Normal Salary"
      ]
     },
     "execution_count": 47,
     "metadata": {},
     "output_type": "execute_result"
    }
   ],
   "source": [
    "#Reviewing the Customer Data Frame\n",
    "cc_cust_data.head()"
   ]
  },
  {
   "cell_type": "code",
   "execution_count": 48,
   "id": "98f03a28",
   "metadata": {},
   "outputs": [
    {
     "data": {
      "text/plain": [
       "<bound method Series.unique of 0       A1\n",
       "1       A2\n",
       "2       A3\n",
       "3       A4\n",
       "      ... \n",
       "96     A97\n",
       "97     A98\n",
       "98     A99\n",
       "99    A100\n",
       "Name: Customer, Length: 100, dtype: object>"
      ]
     },
     "execution_count": 48,
     "metadata": {},
     "output_type": "execute_result"
    }
   ],
   "source": [
    "#Getting the unique values in the 'Customer' column using the 'unique' attribute\n",
    "\n",
    "cc_cust_data.Customer.unique\n"
   ]
  },
  {
   "cell_type": "code",
   "execution_count": 49,
   "id": "f11e0c5e",
   "metadata": {},
   "outputs": [
    {
     "data": {
      "text/plain": [
       "100"
      ]
     },
     "execution_count": 49,
     "metadata": {},
     "output_type": "execute_result"
    }
   ],
   "source": [
    "#Getting the count of unique values. The dropna argument was not used as the Nan values were already cleaned. \n",
    "\n",
    "cc_cust_data.Customer.nunique()\n"
   ]
  },
  {
   "cell_type": "markdown",
   "id": "f1c94e8c",
   "metadata": {},
   "source": [
    "#### Task 3a Output- How many unique customers are there? \n",
    "100 Unique Customers"
   ]
  },
  {
   "cell_type": "markdown",
   "id": "7265186f",
   "metadata": {},
   "source": [
    "#### Task 3b - How many spend categories are there?"
   ]
  },
  {
   "cell_type": "code",
   "execution_count": 57,
   "id": "413fbee6",
   "metadata": {},
   "outputs": [
    {
     "data": {
      "text/html": [
       "<div>\n",
       "<style scoped>\n",
       "    .dataframe tbody tr th:only-of-type {\n",
       "        vertical-align: middle;\n",
       "    }\n",
       "\n",
       "    .dataframe tbody tr th {\n",
       "        vertical-align: top;\n",
       "    }\n",
       "\n",
       "    .dataframe thead th {\n",
       "        text-align: right;\n",
       "    }\n",
       "</style>\n",
       "<table border=\"1\" class=\"dataframe\">\n",
       "  <thead>\n",
       "    <tr style=\"text-align: right;\">\n",
       "      <th></th>\n",
       "      <th>Sl No:</th>\n",
       "      <th>Customer</th>\n",
       "      <th>Month</th>\n",
       "      <th>Type</th>\n",
       "      <th>Amount</th>\n",
       "    </tr>\n",
       "  </thead>\n",
       "  <tbody>\n",
       "    <tr>\n",
       "      <th>0</th>\n",
       "      <td>1</td>\n",
       "      <td>A1</td>\n",
       "      <td>2004-01-12</td>\n",
       "      <td>JEWELLERY</td>\n",
       "      <td>344054.981</td>\n",
       "    </tr>\n",
       "    <tr>\n",
       "      <th>1</th>\n",
       "      <td>2</td>\n",
       "      <td>A1</td>\n",
       "      <td>2004-01-03</td>\n",
       "      <td>PETRO</td>\n",
       "      <td>935.495</td>\n",
       "    </tr>\n",
       "    <tr>\n",
       "      <th>2</th>\n",
       "      <td>3</td>\n",
       "      <td>A1</td>\n",
       "      <td>2004-01-15</td>\n",
       "      <td>CLOTHES</td>\n",
       "      <td>8687.895</td>\n",
       "    </tr>\n",
       "    <tr>\n",
       "      <th>3</th>\n",
       "      <td>4</td>\n",
       "      <td>A1</td>\n",
       "      <td>2004-01-25</td>\n",
       "      <td>FOOD</td>\n",
       "      <td>341.160</td>\n",
       "    </tr>\n",
       "    <tr>\n",
       "      <th>4</th>\n",
       "      <td>5</td>\n",
       "      <td>A1</td>\n",
       "      <td>2005-01-17</td>\n",
       "      <td>CAMERA</td>\n",
       "      <td>3406.639</td>\n",
       "    </tr>\n",
       "  </tbody>\n",
       "</table>\n",
       "</div>"
      ],
      "text/plain": [
       "   Sl No: Customer      Month       Type      Amount\n",
       "0       1       A1 2004-01-12  JEWELLERY  344054.981\n",
       "1       2       A1 2004-01-03      PETRO     935.495\n",
       "2       3       A1 2004-01-15    CLOTHES    8687.895\n",
       "3       4       A1 2004-01-25       FOOD     341.160\n",
       "4       5       A1 2005-01-17     CAMERA    3406.639"
      ]
     },
     "execution_count": 57,
     "metadata": {},
     "output_type": "execute_result"
    }
   ],
   "source": [
    "#Checking the spends data frame\n",
    "\n",
    "cc_spend_data.head()"
   ]
  },
  {
   "cell_type": "code",
   "execution_count": 51,
   "id": "5e0b0fe5",
   "metadata": {},
   "outputs": [
    {
     "data": {
      "text/plain": [
       "PETRO           200\n",
       "FOOD            160\n",
       "CAMERA          160\n",
       "AIR TICKET      147\n",
       "TRAIN TICKET    132\n",
       "SHOPPING        113\n",
       "BUS TICKET       99\n",
       "CLOTHES          95\n",
       "JEWELLERY        95\n",
       "MOVIE TICKET     76\n",
       "RENTAL           76\n",
       "BIKE             49\n",
       "AUTO             40\n",
       "CAR              30\n",
       "SANDALS          28\n",
       "Name: Type, dtype: int64"
      ]
     },
     "execution_count": 51,
     "metadata": {},
     "output_type": "execute_result"
    }
   ],
   "source": [
    "#Checking the value counts for reference, though 'Unique' remains the preferred way to get the answer\n",
    "\n",
    "cc_spend_data['Type'].value_counts()"
   ]
  },
  {
   "cell_type": "code",
   "execution_count": 55,
   "id": "8bfd7802",
   "metadata": {},
   "outputs": [
    {
     "data": {
      "text/html": [
       "<div>\n",
       "<style scoped>\n",
       "    .dataframe tbody tr th:only-of-type {\n",
       "        vertical-align: middle;\n",
       "    }\n",
       "\n",
       "    .dataframe tbody tr th {\n",
       "        vertical-align: top;\n",
       "    }\n",
       "\n",
       "    .dataframe thead th {\n",
       "        text-align: right;\n",
       "    }\n",
       "</style>\n",
       "<table border=\"1\" class=\"dataframe\">\n",
       "  <thead>\n",
       "    <tr style=\"text-align: right;\">\n",
       "      <th></th>\n",
       "      <th>Sl No:</th>\n",
       "      <th>Customer</th>\n",
       "      <th>Month</th>\n",
       "      <th>Type</th>\n",
       "      <th>Amount</th>\n",
       "    </tr>\n",
       "  </thead>\n",
       "  <tbody>\n",
       "  </tbody>\n",
       "</table>\n",
       "</div>"
      ],
      "text/plain": [
       "Empty DataFrame\n",
       "Columns: [Sl No:, Customer, Month, Type, Amount]\n",
       "Index: []"
      ]
     },
     "execution_count": 55,
     "metadata": {},
     "output_type": "execute_result"
    }
   ],
   "source": [
    "#Getting the count of unique Types - checking null values\n",
    "spend_type_null_check_bool = cc_spend_data.Type.isnull()\n",
    "\n",
    "cc_spend_data[spend_type_null_check_bool]"
   ]
  },
  {
   "cell_type": "code",
   "execution_count": 56,
   "id": "db5f91c8",
   "metadata": {},
   "outputs": [
    {
     "data": {
      "text/plain": [
       "15"
      ]
     },
     "execution_count": 56,
     "metadata": {},
     "output_type": "execute_result"
    }
   ],
   "source": [
    "#Getting the count of unique Types\n",
    "\n",
    "cc_spend_data.Type.nunique()\n"
   ]
  },
  {
   "cell_type": "markdown",
   "id": "e5893037",
   "metadata": {},
   "source": [
    "#### Task 3b - output - How many spend categories are there? \n",
    "15 Spend categories"
   ]
  },
  {
   "cell_type": "markdown",
   "id": "b21c488a",
   "metadata": {},
   "source": [
    "#### Task 3c. Which category has the highest average spend?\n"
   ]
  },
  {
   "cell_type": "code",
   "execution_count": 69,
   "id": "e2aa0860",
   "metadata": {},
   "outputs": [
    {
     "data": {
      "text/plain": [
       "['PETRO',\n",
       " 'FOOD',\n",
       " 'CAMERA',\n",
       " 'AIR TICKET',\n",
       " 'TRAIN TICKET',\n",
       " 'SHOPPING',\n",
       " 'BUS TICKET',\n",
       " 'CLOTHES',\n",
       " 'JEWELLERY',\n",
       " 'MOVIE TICKET',\n",
       " 'RENTAL',\n",
       " 'BIKE',\n",
       " 'AUTO',\n",
       " 'CAR',\n",
       " 'SANDALS']"
      ]
     },
     "execution_count": 69,
     "metadata": {},
     "output_type": "execute_result"
    }
   ],
   "source": [
    "#Approach, to create a dictionary, containing the means for all spend types and get the max from that\n",
    "\n",
    "#Step 1 : Create a list of Unique spend types\n",
    "#Step 2 : Create a for loop to loop through the list and create a dictionary which keys as the spend type and values as the means\n",
    "#Step 3 : Using the max method for a dictionary, retrieve the key with the max value\n",
    "\n",
    "\n",
    "#Step 1 : To get the spend types, we can use the value counts method. The series index can be converted to a list\n",
    "cc_spend_type_list = list(cc_spend_data['Type'].value_counts().index)\n",
    "cc_spend_type_list\n"
   ]
  },
  {
   "cell_type": "code",
   "execution_count": 74,
   "id": "81de9803",
   "metadata": {},
   "outputs": [
    {
     "name": "stdout",
     "output_type": "stream",
     "text": [
      "{'PETRO': 549.48, 'FOOD': 341.17, 'CAMERA': 21499.8, 'AIR TICKET': 254632.19, 'TRAIN TICKET': 1627.49, 'SHOPPING': 7394.33, 'BUS TICKET': 12681.03, 'CLOTHES': 25140.16, 'JEWELLERY': 239218.69, 'MOVIE TICKET': 1875.3, 'RENTAL': 13106.51, 'BIKE': 210701.27, 'AUTO': 27320.76, 'CAR': 409143.47, 'SANDALS': 2516.63}\n"
     ]
    }
   ],
   "source": [
    "#Step 2 - Creating a dictionary and populating it using the for loop\n",
    "\n",
    "cc_spend_type_mean_dict = {}\n",
    "\n",
    "for spend_type in cc_spend_type_list:\n",
    "    spend_type = spend_type\n",
    "    spend_type_bool = cc_spend_data['Type'] == spend_type\n",
    "    spend_type_mean = round(cc_spend_data.loc[spend_type_bool,'Amount'].mean(),2) #Rounding off to two decimal places\n",
    "    \n",
    "    if spend_type not in cc_spend_type_mean_dict:\n",
    "        cc_spend_type_mean_dict[spend_type] = spend_type_mean\n",
    "\n",
    "print(cc_spend_type_mean_dict)\n",
    "    \n"
   ]
  },
  {
   "cell_type": "code",
   "execution_count": 76,
   "id": "99a4b117",
   "metadata": {},
   "outputs": [
    {
     "data": {
      "text/plain": [
       "'CAR'"
      ]
     },
     "execution_count": 76,
     "metadata": {},
     "output_type": "execute_result"
    }
   ],
   "source": [
    "#Step 3 - Getting the max value from a dictionary\n",
    "#Ref - https://datagy.io/python-get-dictionary-key-with-max-value/\n",
    "\n",
    "\n",
    "#As per the max function's definition, we are passing a dictionary which is a set of label,value pairs;\n",
    "#The 'key' parameter determines the basis on which we want to compare.\n",
    "#For any dictionary, the output will always be the label. \n",
    "\n",
    "#Anther Example\n",
    "\n",
    "'''\n",
    "var1 = \"geeks\"\n",
    "var2 = \"for\"\n",
    "var3 = \"geek\"\n",
    " \n",
    "max_val = max(var1, var2, var3,\n",
    "              key=len)\n",
    "print(max_val)\n",
    "The output is 'geeks'\n",
    "'''\n",
    "\n",
    "max(cc_spend_type_mean_dict,key=cc_spend_type_mean_dict.get)\n"
   ]
  },
  {
   "cell_type": "markdown",
   "id": "fb4ae77e",
   "metadata": {},
   "source": [
    "#### Task 3c. Which category has the highest average spend?\n",
    "The category is 'CAR'\n"
   ]
  },
  {
   "cell_type": "markdown",
   "id": "8fbf834e",
   "metadata": {},
   "source": [
    "#### Task 3d. What is the average monthly spent by product categories?"
   ]
  },
  {
   "cell_type": "code",
   "execution_count": 80,
   "id": "c6813d49",
   "metadata": {},
   "outputs": [
    {
     "name": "stdout",
     "output_type": "stream",
     "text": [
      "The average spend is 549.48, for the spend category PETRO\n",
      "The average spend is 341.17, for the spend category FOOD\n",
      "The average spend is 21499.8, for the spend category CAMERA\n",
      "The average spend is 254632.19, for the spend category AIR TICKET\n",
      "The average spend is 1627.49, for the spend category TRAIN TICKET\n",
      "The average spend is 7394.33, for the spend category SHOPPING\n",
      "The average spend is 12681.03, for the spend category BUS TICKET\n",
      "The average spend is 25140.16, for the spend category CLOTHES\n",
      "The average spend is 239218.69, for the spend category JEWELLERY\n",
      "The average spend is 1875.3, for the spend category MOVIE TICKET\n",
      "The average spend is 13106.51, for the spend category RENTAL\n",
      "The average spend is 210701.27, for the spend category BIKE\n",
      "The average spend is 27320.76, for the spend category AUTO\n",
      "The average spend is 409143.47, for the spend category CAR\n",
      "The average spend is 2516.63, for the spend category SANDALS\n"
     ]
    }
   ],
   "source": [
    "#The same dictionary can be used (Writing each line separately)\n",
    "\n",
    "for spend in cc_spend_type_mean_dict:\n",
    "    spend_type1 = spend\n",
    "    spend_type_mean1 = cc_spend_type_mean_dict[spend]\n",
    "    print('The average spend is {a}, for the spend category {b}'.format(a = spend_type_mean1, b = spend_type1))"
   ]
  },
  {
   "cell_type": "code",
   "execution_count": 81,
   "id": "975b54c9",
   "metadata": {},
   "outputs": [
    {
     "data": {
      "text/html": [
       "<div>\n",
       "<style scoped>\n",
       "    .dataframe tbody tr th:only-of-type {\n",
       "        vertical-align: middle;\n",
       "    }\n",
       "\n",
       "    .dataframe tbody tr th {\n",
       "        vertical-align: top;\n",
       "    }\n",
       "\n",
       "    .dataframe thead th {\n",
       "        text-align: right;\n",
       "    }\n",
       "</style>\n",
       "<table border=\"1\" class=\"dataframe\">\n",
       "  <thead>\n",
       "    <tr style=\"text-align: right;\">\n",
       "      <th></th>\n",
       "      <th>Spend Category</th>\n",
       "      <th>Average Expenditure</th>\n",
       "    </tr>\n",
       "  </thead>\n",
       "  <tbody>\n",
       "    <tr>\n",
       "      <th>0</th>\n",
       "      <td>PETRO</td>\n",
       "      <td>549.48</td>\n",
       "    </tr>\n",
       "    <tr>\n",
       "      <th>1</th>\n",
       "      <td>FOOD</td>\n",
       "      <td>341.17</td>\n",
       "    </tr>\n",
       "    <tr>\n",
       "      <th>2</th>\n",
       "      <td>CAMERA</td>\n",
       "      <td>21499.80</td>\n",
       "    </tr>\n",
       "    <tr>\n",
       "      <th>3</th>\n",
       "      <td>AIR TICKET</td>\n",
       "      <td>254632.19</td>\n",
       "    </tr>\n",
       "    <tr>\n",
       "      <th>4</th>\n",
       "      <td>TRAIN TICKET</td>\n",
       "      <td>1627.49</td>\n",
       "    </tr>\n",
       "    <tr>\n",
       "      <th>5</th>\n",
       "      <td>SHOPPING</td>\n",
       "      <td>7394.33</td>\n",
       "    </tr>\n",
       "    <tr>\n",
       "      <th>6</th>\n",
       "      <td>BUS TICKET</td>\n",
       "      <td>12681.03</td>\n",
       "    </tr>\n",
       "    <tr>\n",
       "      <th>7</th>\n",
       "      <td>CLOTHES</td>\n",
       "      <td>25140.16</td>\n",
       "    </tr>\n",
       "    <tr>\n",
       "      <th>8</th>\n",
       "      <td>JEWELLERY</td>\n",
       "      <td>239218.69</td>\n",
       "    </tr>\n",
       "    <tr>\n",
       "      <th>9</th>\n",
       "      <td>MOVIE TICKET</td>\n",
       "      <td>1875.30</td>\n",
       "    </tr>\n",
       "    <tr>\n",
       "      <th>10</th>\n",
       "      <td>RENTAL</td>\n",
       "      <td>13106.51</td>\n",
       "    </tr>\n",
       "    <tr>\n",
       "      <th>11</th>\n",
       "      <td>BIKE</td>\n",
       "      <td>210701.27</td>\n",
       "    </tr>\n",
       "    <tr>\n",
       "      <th>12</th>\n",
       "      <td>AUTO</td>\n",
       "      <td>27320.76</td>\n",
       "    </tr>\n",
       "    <tr>\n",
       "      <th>13</th>\n",
       "      <td>CAR</td>\n",
       "      <td>409143.47</td>\n",
       "    </tr>\n",
       "    <tr>\n",
       "      <th>14</th>\n",
       "      <td>SANDALS</td>\n",
       "      <td>2516.63</td>\n",
       "    </tr>\n",
       "  </tbody>\n",
       "</table>\n",
       "</div>"
      ],
      "text/plain": [
       "   Spend Category  Average Expenditure\n",
       "0           PETRO               549.48\n",
       "1            FOOD               341.17\n",
       "2          CAMERA             21499.80\n",
       "3      AIR TICKET            254632.19\n",
       "4    TRAIN TICKET              1627.49\n",
       "5        SHOPPING              7394.33\n",
       "6      BUS TICKET             12681.03\n",
       "7         CLOTHES             25140.16\n",
       "8       JEWELLERY            239218.69\n",
       "9    MOVIE TICKET              1875.30\n",
       "10         RENTAL             13106.51\n",
       "11           BIKE            210701.27\n",
       "12           AUTO             27320.76\n",
       "13            CAR            409143.47\n",
       "14        SANDALS              2516.63"
      ]
     },
     "execution_count": 81,
     "metadata": {},
     "output_type": "execute_result"
    }
   ],
   "source": [
    "#The same dictionary can be used (Converting it into a dataframe)\n",
    "#Ref - https://datatofish.com/dictionary-to-dataframe/\n",
    "\n",
    "cc_spend_type_mean_df= pd.DataFrame(list(cc_spend_type_mean_dict.items()),columns = ['Spend Category','Average Expenditure'])\n",
    "\n",
    "cc_spend_type_mean_df"
   ]
  },
  {
   "cell_type": "markdown",
   "id": "050278cf",
   "metadata": {},
   "source": [
    "#### Task 3e. Which customers are reaching 90% or more of their spending limit?"
   ]
  },
  {
   "cell_type": "code",
   "execution_count": 82,
   "id": "56a6852d",
   "metadata": {},
   "outputs": [
    {
     "data": {
      "text/html": [
       "<div>\n",
       "<style scoped>\n",
       "    .dataframe tbody tr th:only-of-type {\n",
       "        vertical-align: middle;\n",
       "    }\n",
       "\n",
       "    .dataframe tbody tr th {\n",
       "        vertical-align: top;\n",
       "    }\n",
       "\n",
       "    .dataframe thead th {\n",
       "        text-align: right;\n",
       "    }\n",
       "</style>\n",
       "<table border=\"1\" class=\"dataframe\">\n",
       "  <thead>\n",
       "    <tr style=\"text-align: right;\">\n",
       "      <th></th>\n",
       "      <th>No</th>\n",
       "      <th>Customer</th>\n",
       "      <th>Age</th>\n",
       "      <th>City</th>\n",
       "      <th>Product</th>\n",
       "      <th>Limit</th>\n",
       "      <th>Company</th>\n",
       "      <th>Segment</th>\n",
       "    </tr>\n",
       "  </thead>\n",
       "  <tbody>\n",
       "    <tr>\n",
       "      <th>0</th>\n",
       "      <td>1.0</td>\n",
       "      <td>A1</td>\n",
       "      <td>47.0</td>\n",
       "      <td>BANGALORE</td>\n",
       "      <td>Gold</td>\n",
       "      <td>1.500e+06</td>\n",
       "      <td>C1</td>\n",
       "      <td>Self Employed</td>\n",
       "    </tr>\n",
       "    <tr>\n",
       "      <th>1</th>\n",
       "      <td>2.0</td>\n",
       "      <td>A2</td>\n",
       "      <td>56.0</td>\n",
       "      <td>CALCUTTA</td>\n",
       "      <td>Silver</td>\n",
       "      <td>3.000e+05</td>\n",
       "      <td>C2</td>\n",
       "      <td>Salaried_MNC</td>\n",
       "    </tr>\n",
       "    <tr>\n",
       "      <th>2</th>\n",
       "      <td>3.0</td>\n",
       "      <td>A3</td>\n",
       "      <td>30.0</td>\n",
       "      <td>COCHIN</td>\n",
       "      <td>Platimum</td>\n",
       "      <td>5.400e+05</td>\n",
       "      <td>C3</td>\n",
       "      <td>Salaried_Pvt</td>\n",
       "    </tr>\n",
       "    <tr>\n",
       "      <th>3</th>\n",
       "      <td>4.0</td>\n",
       "      <td>A4</td>\n",
       "      <td>22.0</td>\n",
       "      <td>BOMBAY</td>\n",
       "      <td>Platimum</td>\n",
       "      <td>8.401e+05</td>\n",
       "      <td>C4</td>\n",
       "      <td>Govt</td>\n",
       "    </tr>\n",
       "  </tbody>\n",
       "</table>\n",
       "</div>"
      ],
      "text/plain": [
       "    No Customer   Age       City   Product      Limit Company        Segment\n",
       "0  1.0       A1  47.0  BANGALORE      Gold  1.500e+06      C1  Self Employed\n",
       "1  2.0       A2  56.0   CALCUTTA    Silver  3.000e+05      C2   Salaried_MNC\n",
       "2  3.0       A3  30.0     COCHIN  Platimum  5.400e+05      C3   Salaried_Pvt\n",
       "3  4.0       A4  22.0     BOMBAY  Platimum  8.401e+05      C4           Govt"
      ]
     },
     "execution_count": 82,
     "metadata": {},
     "output_type": "execute_result"
    }
   ],
   "source": [
    "#Checking the customer data\n",
    "\n",
    "cc_cust_data.head(4)"
   ]
  },
  {
   "cell_type": "code",
   "execution_count": 126,
   "id": "c42851c5",
   "metadata": {},
   "outputs": [
    {
     "data": {
      "text/html": [
       "<div>\n",
       "<style scoped>\n",
       "    .dataframe tbody tr th:only-of-type {\n",
       "        vertical-align: middle;\n",
       "    }\n",
       "\n",
       "    .dataframe tbody tr th {\n",
       "        vertical-align: top;\n",
       "    }\n",
       "\n",
       "    .dataframe thead th {\n",
       "        text-align: right;\n",
       "    }\n",
       "</style>\n",
       "<table border=\"1\" class=\"dataframe\">\n",
       "  <thead>\n",
       "    <tr style=\"text-align: right;\">\n",
       "      <th></th>\n",
       "      <th>Sl No:</th>\n",
       "      <th>Customer</th>\n",
       "      <th>Month</th>\n",
       "      <th>Type</th>\n",
       "      <th>Amount</th>\n",
       "    </tr>\n",
       "  </thead>\n",
       "  <tbody>\n",
       "    <tr>\n",
       "      <th>0</th>\n",
       "      <td>1</td>\n",
       "      <td>A1</td>\n",
       "      <td>2004-01-12</td>\n",
       "      <td>JEWELLERY</td>\n",
       "      <td>344054.981</td>\n",
       "    </tr>\n",
       "    <tr>\n",
       "      <th>1</th>\n",
       "      <td>2</td>\n",
       "      <td>A1</td>\n",
       "      <td>2004-01-03</td>\n",
       "      <td>PETRO</td>\n",
       "      <td>935.495</td>\n",
       "    </tr>\n",
       "    <tr>\n",
       "      <th>2</th>\n",
       "      <td>3</td>\n",
       "      <td>A1</td>\n",
       "      <td>2004-01-15</td>\n",
       "      <td>CLOTHES</td>\n",
       "      <td>8687.895</td>\n",
       "    </tr>\n",
       "    <tr>\n",
       "      <th>3</th>\n",
       "      <td>4</td>\n",
       "      <td>A1</td>\n",
       "      <td>2004-01-25</td>\n",
       "      <td>FOOD</td>\n",
       "      <td>341.160</td>\n",
       "    </tr>\n",
       "    <tr>\n",
       "      <th>4</th>\n",
       "      <td>5</td>\n",
       "      <td>A1</td>\n",
       "      <td>2005-01-17</td>\n",
       "      <td>CAMERA</td>\n",
       "      <td>3406.639</td>\n",
       "    </tr>\n",
       "  </tbody>\n",
       "</table>\n",
       "</div>"
      ],
      "text/plain": [
       "   Sl No: Customer      Month       Type      Amount\n",
       "0       1       A1 2004-01-12  JEWELLERY  344054.981\n",
       "1       2       A1 2004-01-03      PETRO     935.495\n",
       "2       3       A1 2004-01-15    CLOTHES    8687.895\n",
       "3       4       A1 2004-01-25       FOOD     341.160\n",
       "4       5       A1 2005-01-17     CAMERA    3406.639"
      ]
     },
     "execution_count": 126,
     "metadata": {},
     "output_type": "execute_result"
    }
   ],
   "source": [
    "#Checking the spend data\n",
    "\n",
    "cc_spend_data.head()"
   ]
  },
  {
   "cell_type": "code",
   "execution_count": 97,
   "id": "4271567b",
   "metadata": {},
   "outputs": [],
   "source": [
    "#This would require data from both the data frames\n",
    "\n",
    "#Step 1 : Create a list of Unique customers\n",
    "#Step 2 : Create a dataframe with three columns, customer name, total spend, spend limit\n",
    "#Step 3 : Compare the customers and retrieve those where the spend exceeds 90% of the limit\n",
    "\n",
    "\n",
    "#Step 1 : To get the customers\n",
    "cc_customer_series = cc_cust_data['Customer']"
   ]
  },
  {
   "cell_type": "code",
   "execution_count": 96,
   "id": "b2d06f33",
   "metadata": {},
   "outputs": [
    {
     "data": {
      "text/plain": [
       "pandas.core.frame.DataFrame"
      ]
     },
     "execution_count": 96,
     "metadata": {},
     "output_type": "execute_result"
    }
   ],
   "source": [
    "#Creating a blank Dataframe\n",
    "\n",
    "cc_cust_limit_df = pd.DataFrame()\n",
    "type(cc_cust_limit_df)"
   ]
  },
  {
   "cell_type": "code",
   "execution_count": 98,
   "id": "c043b89e",
   "metadata": {},
   "outputs": [],
   "source": [
    "cc_cust_limit_df['Customer'] = cc_customer_series"
   ]
  },
  {
   "cell_type": "code",
   "execution_count": 100,
   "id": "6398cc4c",
   "metadata": {},
   "outputs": [
    {
     "data": {
      "text/html": [
       "<div>\n",
       "<style scoped>\n",
       "    .dataframe tbody tr th:only-of-type {\n",
       "        vertical-align: middle;\n",
       "    }\n",
       "\n",
       "    .dataframe tbody tr th {\n",
       "        vertical-align: top;\n",
       "    }\n",
       "\n",
       "    .dataframe thead th {\n",
       "        text-align: right;\n",
       "    }\n",
       "</style>\n",
       "<table border=\"1\" class=\"dataframe\">\n",
       "  <thead>\n",
       "    <tr style=\"text-align: right;\">\n",
       "      <th></th>\n",
       "      <th>Customer</th>\n",
       "      <th>Limit</th>\n",
       "    </tr>\n",
       "  </thead>\n",
       "  <tbody>\n",
       "    <tr>\n",
       "      <th>0</th>\n",
       "      <td>A1</td>\n",
       "      <td>1.500e+06</td>\n",
       "    </tr>\n",
       "    <tr>\n",
       "      <th>1</th>\n",
       "      <td>A2</td>\n",
       "      <td>3.000e+05</td>\n",
       "    </tr>\n",
       "    <tr>\n",
       "      <th>2</th>\n",
       "      <td>A3</td>\n",
       "      <td>5.400e+05</td>\n",
       "    </tr>\n",
       "    <tr>\n",
       "      <th>3</th>\n",
       "      <td>A4</td>\n",
       "      <td>8.401e+05</td>\n",
       "    </tr>\n",
       "    <tr>\n",
       "      <th>...</th>\n",
       "      <td>...</td>\n",
       "      <td>...</td>\n",
       "    </tr>\n",
       "    <tr>\n",
       "      <th>96</th>\n",
       "      <td>A97</td>\n",
       "      <td>3.000e+04</td>\n",
       "    </tr>\n",
       "    <tr>\n",
       "      <th>97</th>\n",
       "      <td>A98</td>\n",
       "      <td>3.000e+04</td>\n",
       "    </tr>\n",
       "    <tr>\n",
       "      <th>98</th>\n",
       "      <td>A99</td>\n",
       "      <td>1.200e+05</td>\n",
       "    </tr>\n",
       "    <tr>\n",
       "      <th>99</th>\n",
       "      <td>A100</td>\n",
       "      <td>1.000e+05</td>\n",
       "    </tr>\n",
       "  </tbody>\n",
       "</table>\n",
       "<p>100 rows × 2 columns</p>\n",
       "</div>"
      ],
      "text/plain": [
       "   Customer      Limit\n",
       "0        A1  1.500e+06\n",
       "1        A2  3.000e+05\n",
       "2        A3  5.400e+05\n",
       "3        A4  8.401e+05\n",
       "..      ...        ...\n",
       "96      A97  3.000e+04\n",
       "97      A98  3.000e+04\n",
       "98      A99  1.200e+05\n",
       "99     A100  1.000e+05\n",
       "\n",
       "[100 rows x 2 columns]"
      ]
     },
     "execution_count": 100,
     "metadata": {},
     "output_type": "execute_result"
    }
   ],
   "source": [
    "cc_cust_limit_df['Limit'] = cc_cust_data['Limit']\n",
    "\n",
    "cc_cust_limit_df"
   ]
  },
  {
   "cell_type": "markdown",
   "id": "bc96c80f",
   "metadata": {},
   "source": [
    "## Checkpoint - 25 July, 6 pm.. Next step, set the index of the new DF to customer and use DF indexing and a for loop to update spend data and the spend limit excess, two more columns would be needed"
   ]
  },
  {
   "cell_type": "code",
   "execution_count": 226,
   "id": "82f320fd",
   "metadata": {},
   "outputs": [
    {
     "data": {
      "text/html": [
       "<div>\n",
       "<style scoped>\n",
       "    .dataframe tbody tr th:only-of-type {\n",
       "        vertical-align: middle;\n",
       "    }\n",
       "\n",
       "    .dataframe tbody tr th {\n",
       "        vertical-align: top;\n",
       "    }\n",
       "\n",
       "    .dataframe thead th {\n",
       "        text-align: right;\n",
       "    }\n",
       "</style>\n",
       "<table border=\"1\" class=\"dataframe\">\n",
       "  <thead>\n",
       "    <tr style=\"text-align: right;\">\n",
       "      <th></th>\n",
       "      <th>Sl No:</th>\n",
       "      <th>Customer</th>\n",
       "      <th>Month</th>\n",
       "      <th>Type</th>\n",
       "      <th>Amount</th>\n",
       "      <th>month</th>\n",
       "      <th>year</th>\n",
       "    </tr>\n",
       "  </thead>\n",
       "  <tbody>\n",
       "    <tr>\n",
       "      <th>0</th>\n",
       "      <td>1</td>\n",
       "      <td>A1</td>\n",
       "      <td>2004-01-12</td>\n",
       "      <td>JEWELLERY</td>\n",
       "      <td>344054.981</td>\n",
       "      <td>1</td>\n",
       "      <td>2004</td>\n",
       "    </tr>\n",
       "    <tr>\n",
       "      <th>1</th>\n",
       "      <td>2</td>\n",
       "      <td>A1</td>\n",
       "      <td>2004-01-03</td>\n",
       "      <td>PETRO</td>\n",
       "      <td>935.495</td>\n",
       "      <td>1</td>\n",
       "      <td>2004</td>\n",
       "    </tr>\n",
       "    <tr>\n",
       "      <th>2</th>\n",
       "      <td>3</td>\n",
       "      <td>A1</td>\n",
       "      <td>2004-01-15</td>\n",
       "      <td>CLOTHES</td>\n",
       "      <td>8687.895</td>\n",
       "      <td>1</td>\n",
       "      <td>2004</td>\n",
       "    </tr>\n",
       "    <tr>\n",
       "      <th>3</th>\n",
       "      <td>4</td>\n",
       "      <td>A1</td>\n",
       "      <td>2004-01-25</td>\n",
       "      <td>FOOD</td>\n",
       "      <td>341.160</td>\n",
       "      <td>1</td>\n",
       "      <td>2004</td>\n",
       "    </tr>\n",
       "    <tr>\n",
       "      <th>4</th>\n",
       "      <td>5</td>\n",
       "      <td>A1</td>\n",
       "      <td>2005-01-17</td>\n",
       "      <td>CAMERA</td>\n",
       "      <td>3406.639</td>\n",
       "      <td>1</td>\n",
       "      <td>2005</td>\n",
       "    </tr>\n",
       "  </tbody>\n",
       "</table>\n",
       "</div>"
      ],
      "text/plain": [
       "   Sl No: Customer      Month       Type      Amount  month  year\n",
       "0       1       A1 2004-01-12  JEWELLERY  344054.981      1  2004\n",
       "1       2       A1 2004-01-03      PETRO     935.495      1  2004\n",
       "2       3       A1 2004-01-15    CLOTHES    8687.895      1  2004\n",
       "3       4       A1 2004-01-25       FOOD     341.160      1  2004\n",
       "4       5       A1 2005-01-17     CAMERA    3406.639      1  2005"
      ]
     },
     "execution_count": 226,
     "metadata": {},
     "output_type": "execute_result"
    }
   ],
   "source": [
    "cc_spend_data.head()"
   ]
  },
  {
   "cell_type": "code",
   "execution_count": 122,
   "id": "e0a6265f",
   "metadata": {},
   "outputs": [
    {
     "data": {
      "text/plain": [
       "dtype('float64')"
      ]
     },
     "execution_count": 122,
     "metadata": {},
     "output_type": "execute_result"
    }
   ],
   "source": [
    "# Creating a blank series\n",
    "series_cust_spend_agg = pd.Series(dtype = 'float64') \n",
    "series_cust_spend_agg.dtypes"
   ]
  },
  {
   "cell_type": "code",
   "execution_count": 247,
   "id": "94ee25ab",
   "metadata": {},
   "outputs": [
    {
     "data": {
      "text/html": [
       "<div>\n",
       "<style scoped>\n",
       "    .dataframe tbody tr th:only-of-type {\n",
       "        vertical-align: middle;\n",
       "    }\n",
       "\n",
       "    .dataframe tbody tr th {\n",
       "        vertical-align: top;\n",
       "    }\n",
       "\n",
       "    .dataframe thead th {\n",
       "        text-align: right;\n",
       "    }\n",
       "</style>\n",
       "<table border=\"1\" class=\"dataframe\">\n",
       "  <thead>\n",
       "    <tr style=\"text-align: right;\">\n",
       "      <th></th>\n",
       "      <th>Sl No:</th>\n",
       "      <th>Customer</th>\n",
       "      <th>Month</th>\n",
       "      <th>Type</th>\n",
       "      <th>Amount</th>\n",
       "      <th>month</th>\n",
       "      <th>year</th>\n",
       "      <th>ym-date</th>\n",
       "      <th>year_month</th>\n",
       "    </tr>\n",
       "  </thead>\n",
       "  <tbody>\n",
       "    <tr>\n",
       "      <th>0</th>\n",
       "      <td>1</td>\n",
       "      <td>A1</td>\n",
       "      <td>2004-01-12</td>\n",
       "      <td>JEWELLERY</td>\n",
       "      <td>344054.981</td>\n",
       "      <td>1</td>\n",
       "      <td>2004</td>\n",
       "      <td>2004-01</td>\n",
       "      <td>2004-01</td>\n",
       "    </tr>\n",
       "    <tr>\n",
       "      <th>1</th>\n",
       "      <td>2</td>\n",
       "      <td>A1</td>\n",
       "      <td>2004-01-03</td>\n",
       "      <td>PETRO</td>\n",
       "      <td>935.495</td>\n",
       "      <td>1</td>\n",
       "      <td>2004</td>\n",
       "      <td>2004-01</td>\n",
       "      <td>2004-01</td>\n",
       "    </tr>\n",
       "    <tr>\n",
       "      <th>2</th>\n",
       "      <td>3</td>\n",
       "      <td>A1</td>\n",
       "      <td>2004-01-15</td>\n",
       "      <td>CLOTHES</td>\n",
       "      <td>8687.895</td>\n",
       "      <td>1</td>\n",
       "      <td>2004</td>\n",
       "      <td>2004-01</td>\n",
       "      <td>2004-01</td>\n",
       "    </tr>\n",
       "    <tr>\n",
       "      <th>3</th>\n",
       "      <td>4</td>\n",
       "      <td>A1</td>\n",
       "      <td>2004-01-25</td>\n",
       "      <td>FOOD</td>\n",
       "      <td>341.160</td>\n",
       "      <td>1</td>\n",
       "      <td>2004</td>\n",
       "      <td>2004-01</td>\n",
       "      <td>2004-01</td>\n",
       "    </tr>\n",
       "    <tr>\n",
       "      <th>4</th>\n",
       "      <td>5</td>\n",
       "      <td>A1</td>\n",
       "      <td>2005-01-17</td>\n",
       "      <td>CAMERA</td>\n",
       "      <td>3406.639</td>\n",
       "      <td>1</td>\n",
       "      <td>2005</td>\n",
       "      <td>2005-01</td>\n",
       "      <td>2005-01</td>\n",
       "    </tr>\n",
       "  </tbody>\n",
       "</table>\n",
       "</div>"
      ],
      "text/plain": [
       "   Sl No: Customer      Month       Type      Amount  month  year  ym-date year_month\n",
       "0       1       A1 2004-01-12  JEWELLERY  344054.981      1  2004  2004-01    2004-01\n",
       "1       2       A1 2004-01-03      PETRO     935.495      1  2004  2004-01    2004-01\n",
       "2       3       A1 2004-01-15    CLOTHES    8687.895      1  2004  2004-01    2004-01\n",
       "3       4       A1 2004-01-25       FOOD     341.160      1  2004  2004-01    2004-01\n",
       "4       5       A1 2005-01-17     CAMERA    3406.639      1  2005  2005-01    2005-01"
      ]
     },
     "execution_count": 247,
     "metadata": {},
     "output_type": "execute_result"
    }
   ],
   "source": [
    "#Aggregating the customer spends data by year\n",
    "#Creating separate columns for month, year and date\n",
    "\n",
    "cc_spend_data.head()\n",
    "\n",
    "cc_spend_data['month']= cc_spend_data['Month'].dt.month\n",
    "cc_spend_data['year'] = cc_spend_data['Month'].dt.year\n",
    "cc_spend_data['year_month'] = cc_spend_data['Month'].dt.strftime('%Y-%m')\n",
    "\n",
    "\n",
    "cc_spend_data.head()\n"
   ]
  },
  {
   "cell_type": "code",
   "execution_count": 200,
   "id": "a69bdce3",
   "metadata": {},
   "outputs": [
    {
     "name": "stdout",
     "output_type": "stream",
     "text": [
      "A8     8.767e+05\n",
      "A21    2.136e+06\n",
      "A19    9.422e+05\n",
      "A24    2.290e+06\n",
      "         ...    \n",
      "A42    2.422e+06\n",
      "A34    8.268e+04\n",
      "A56    2.762e+06\n",
      "A25    1.868e+06\n",
      "Length: 100, dtype: float64\n"
     ]
    },
    {
     "name": "stderr",
     "output_type": "stream",
     "text": [
      "<ipython-input-200-fd87ee14f817>:2: DeprecationWarning: The default dtype for empty Series will be 'object' instead of 'float64' in a future version. Specify a dtype explicitly to silence this warning.\n",
      "  new_series = pd.Series()\n"
     ]
    }
   ],
   "source": [
    "#Aggregating the customer spends data by customer\n",
    "new_series = pd.Series()\n",
    "cust_list = list(cc_cust_data['Customer'].value_counts().index)\n",
    "for customer_id in cust_list:\n",
    "    bool_cust_id = cc_spend_data['Customer'] == customer_id\n",
    "    new_series[customer_id] = round(cc_spend_data.loc[bool_cust_id,'Amount'].sum(),2)\n",
    "\n",
    "print(new_series)"
   ]
  },
  {
   "cell_type": "code",
   "execution_count": 202,
   "id": "2f328ac5",
   "metadata": {},
   "outputs": [
    {
     "data": {
      "text/plain": [
       "A8     8.767e+05\n",
       "A21    2.136e+06\n",
       "A19    9.422e+05\n",
       "A24    2.290e+06\n",
       "         ...    \n",
       "A42    2.422e+06\n",
       "A34    8.268e+04\n",
       "A56    2.762e+06\n",
       "A25    1.868e+06\n",
       "Length: 100, dtype: float64"
      ]
     },
     "execution_count": 202,
     "metadata": {},
     "output_type": "execute_result"
    }
   ],
   "source": [
    "series_cust_spend_agg = new_series\n",
    "#For some reason, the series datatype is becoming int, to be checked in class\n",
    "\n",
    "series_cust_spend_agg"
   ]
  },
  {
   "cell_type": "code",
   "execution_count": 127,
   "id": "04c04046",
   "metadata": {},
   "outputs": [],
   "source": [
    "#Converting the series to float\n",
    "series_cust_spend_agg = series_cust_spend_agg.astype('float64')"
   ]
  },
  {
   "cell_type": "code",
   "execution_count": 203,
   "id": "bee8068e",
   "metadata": {
    "scrolled": true
   },
   "outputs": [
    {
     "data": {
      "text/plain": [
       "A8     8.767e+05\n",
       "A21    2.136e+06\n",
       "A19    9.422e+05\n",
       "A24    2.290e+06\n",
       "         ...    \n",
       "A42    2.422e+06\n",
       "A34    8.268e+04\n",
       "A56    2.762e+06\n",
       "A25    1.868e+06\n",
       "Length: 100, dtype: float64"
      ]
     },
     "execution_count": 203,
     "metadata": {},
     "output_type": "execute_result"
    }
   ],
   "source": [
    "series_cust_spend_agg"
   ]
  },
  {
   "cell_type": "code",
   "execution_count": 204,
   "id": "52f132af",
   "metadata": {},
   "outputs": [
    {
     "data": {
      "text/plain": [
       "Index(['A8', 'A21', 'A19', 'A24', 'A94', 'A49', 'A45', 'A17', 'A98', 'A12', 'A23', 'A92', 'A26', 'A20', 'A5', 'A78', 'A58', 'A76', 'A63', 'A40', 'A39', 'A11', 'A68', 'A27', 'A13', 'A81', 'A82', 'A96', 'A4', 'A90', 'A69', 'A74', 'A64', 'A32', 'A80', 'A59', 'A10', 'A62', 'A3', 'A95', 'A28', 'A46', 'A60', 'A7', 'A51', 'A37', 'A83', 'A91', 'A2', 'A77', 'A54', 'A97', 'A53', 'A89', 'A85', 'A22', 'A29', 'A43', 'A65', 'A1', 'A71', 'A100', 'A14', 'A38', 'A31', 'A48', 'A18', 'A47', 'A93', 'A52', 'A50', 'A9', 'A86', 'A61', 'A66', 'A33', 'A44', 'A72', 'A87', 'A6', 'A99', 'A73', 'A67', 'A57', 'A16', 'A30', 'A79', 'A70', 'A36', 'A35', 'A55', 'A15', 'A84', 'A41', 'A75', 'A88', 'A42', 'A34', 'A56', 'A25'], dtype='object')"
      ]
     },
     "execution_count": 204,
     "metadata": {},
     "output_type": "execute_result"
    }
   ],
   "source": [
    "series_cust_spend_agg.index"
   ]
  },
  {
   "cell_type": "code",
   "execution_count": null,
   "id": "ba0389cf",
   "metadata": {},
   "outputs": [],
   "source": []
  },
  {
   "cell_type": "code",
   "execution_count": 205,
   "id": "c62248f3",
   "metadata": {},
   "outputs": [
    {
     "data": {
      "text/html": [
       "<div>\n",
       "<style scoped>\n",
       "    .dataframe tbody tr th:only-of-type {\n",
       "        vertical-align: middle;\n",
       "    }\n",
       "\n",
       "    .dataframe tbody tr th {\n",
       "        vertical-align: top;\n",
       "    }\n",
       "\n",
       "    .dataframe thead th {\n",
       "        text-align: right;\n",
       "    }\n",
       "</style>\n",
       "<table border=\"1\" class=\"dataframe\">\n",
       "  <thead>\n",
       "    <tr style=\"text-align: right;\">\n",
       "      <th></th>\n",
       "      <th>level_0</th>\n",
       "      <th>index</th>\n",
       "      <th>Limit</th>\n",
       "    </tr>\n",
       "    <tr>\n",
       "      <th>Customer</th>\n",
       "      <th></th>\n",
       "      <th></th>\n",
       "      <th></th>\n",
       "    </tr>\n",
       "  </thead>\n",
       "  <tbody>\n",
       "    <tr>\n",
       "      <th>A1</th>\n",
       "      <td>0</td>\n",
       "      <td>0</td>\n",
       "      <td>1.500e+06</td>\n",
       "    </tr>\n",
       "    <tr>\n",
       "      <th>A2</th>\n",
       "      <td>1</td>\n",
       "      <td>1</td>\n",
       "      <td>3.000e+05</td>\n",
       "    </tr>\n",
       "    <tr>\n",
       "      <th>A3</th>\n",
       "      <td>2</td>\n",
       "      <td>2</td>\n",
       "      <td>5.400e+05</td>\n",
       "    </tr>\n",
       "    <tr>\n",
       "      <th>A4</th>\n",
       "      <td>3</td>\n",
       "      <td>3</td>\n",
       "      <td>8.401e+05</td>\n",
       "    </tr>\n",
       "    <tr>\n",
       "      <th>...</th>\n",
       "      <td>...</td>\n",
       "      <td>...</td>\n",
       "      <td>...</td>\n",
       "    </tr>\n",
       "    <tr>\n",
       "      <th>A97</th>\n",
       "      <td>96</td>\n",
       "      <td>96</td>\n",
       "      <td>3.000e+04</td>\n",
       "    </tr>\n",
       "    <tr>\n",
       "      <th>A98</th>\n",
       "      <td>97</td>\n",
       "      <td>97</td>\n",
       "      <td>3.000e+04</td>\n",
       "    </tr>\n",
       "    <tr>\n",
       "      <th>A99</th>\n",
       "      <td>98</td>\n",
       "      <td>98</td>\n",
       "      <td>1.200e+05</td>\n",
       "    </tr>\n",
       "    <tr>\n",
       "      <th>A100</th>\n",
       "      <td>99</td>\n",
       "      <td>99</td>\n",
       "      <td>1.000e+05</td>\n",
       "    </tr>\n",
       "  </tbody>\n",
       "</table>\n",
       "<p>100 rows × 3 columns</p>\n",
       "</div>"
      ],
      "text/plain": [
       "          level_0  index      Limit\n",
       "Customer                           \n",
       "A1              0      0  1.500e+06\n",
       "A2              1      1  3.000e+05\n",
       "A3              2      2  5.400e+05\n",
       "A4              3      3  8.401e+05\n",
       "...           ...    ...        ...\n",
       "A97            96     96  3.000e+04\n",
       "A98            97     97  3.000e+04\n",
       "A99            98     98  1.200e+05\n",
       "A100           99     99  1.000e+05\n",
       "\n",
       "[100 rows x 3 columns]"
      ]
     },
     "execution_count": 205,
     "metadata": {},
     "output_type": "execute_result"
    }
   ],
   "source": [
    "#Now that we have a series of all customer aggregate spend, we can add it to the spend limit dataframe (once we set its index to customer)\n",
    "\n",
    "cc_cust_limit_df.set_index('Customer', inplace = True)\n",
    "cc_cust_limit_df\n",
    "\n"
   ]
  },
  {
   "cell_type": "code",
   "execution_count": 206,
   "id": "85f88fc0",
   "metadata": {},
   "outputs": [
    {
     "data": {
      "text/plain": [
       "Index(['A1', 'A2', 'A3', 'A4', 'A5', 'A6', 'A7', 'A8', 'A9', 'A10', 'A11', 'A12', 'A13', 'A14', 'A15', 'A16', 'A17', 'A18', 'A19', 'A20', 'A21', 'A22', 'A23', 'A24', 'A25', 'A26', 'A27', 'A28', 'A29', 'A30', 'A31', 'A32', 'A33', 'A34', 'A35', 'A36', 'A37', 'A38', 'A39', 'A40', 'A41', 'A42', 'A43', 'A44', 'A45', 'A46', 'A47', 'A48', 'A49', 'A50', 'A51', 'A52', 'A53', 'A54', 'A55', 'A56', 'A57', 'A58', 'A59', 'A60', 'A61', 'A62', 'A63', 'A64', 'A65', 'A66', 'A67', 'A68', 'A69', 'A70', 'A71', 'A72', 'A73', 'A74', 'A75', 'A76', 'A77', 'A78', 'A79', 'A80', 'A81', 'A82', 'A83', 'A84', 'A85', 'A86', 'A87', 'A88', 'A89', 'A90', 'A91', 'A92', 'A93', 'A94', 'A95', 'A96', 'A97', 'A98', 'A99', 'A100'], dtype='object', name='Customer')"
      ]
     },
     "execution_count": 206,
     "metadata": {},
     "output_type": "execute_result"
    }
   ],
   "source": [
    "cc_cust_limit_df.index"
   ]
  },
  {
   "cell_type": "code",
   "execution_count": 207,
   "id": "30674b7b",
   "metadata": {},
   "outputs": [
    {
     "data": {
      "text/plain": [
       "A8     8.767e+05\n",
       "A21    2.136e+06\n",
       "A19    9.422e+05\n",
       "A24    2.290e+06\n",
       "         ...    \n",
       "A42    2.422e+06\n",
       "A34    8.268e+04\n",
       "A56    2.762e+06\n",
       "A25    1.868e+06\n",
       "Name: Customer, Length: 100, dtype: float64"
      ]
     },
     "execution_count": 207,
     "metadata": {},
     "output_type": "execute_result"
    }
   ],
   "source": [
    "test_series = series_cust_spend_agg.rename('Customer')\n",
    "test_series"
   ]
  },
  {
   "cell_type": "code",
   "execution_count": 208,
   "id": "12eed551",
   "metadata": {},
   "outputs": [
    {
     "data": {
      "text/html": [
       "<div>\n",
       "<style scoped>\n",
       "    .dataframe tbody tr th:only-of-type {\n",
       "        vertical-align: middle;\n",
       "    }\n",
       "\n",
       "    .dataframe tbody tr th {\n",
       "        vertical-align: top;\n",
       "    }\n",
       "\n",
       "    .dataframe thead th {\n",
       "        text-align: right;\n",
       "    }\n",
       "</style>\n",
       "<table border=\"1\" class=\"dataframe\">\n",
       "  <thead>\n",
       "    <tr style=\"text-align: right;\">\n",
       "      <th></th>\n",
       "      <th>index</th>\n",
       "      <th>Amount</th>\n",
       "    </tr>\n",
       "  </thead>\n",
       "  <tbody>\n",
       "    <tr>\n",
       "      <th>0</th>\n",
       "      <td>A8</td>\n",
       "      <td>8.767e+05</td>\n",
       "    </tr>\n",
       "    <tr>\n",
       "      <th>1</th>\n",
       "      <td>A21</td>\n",
       "      <td>2.136e+06</td>\n",
       "    </tr>\n",
       "    <tr>\n",
       "      <th>2</th>\n",
       "      <td>A19</td>\n",
       "      <td>9.422e+05</td>\n",
       "    </tr>\n",
       "    <tr>\n",
       "      <th>3</th>\n",
       "      <td>A24</td>\n",
       "      <td>2.290e+06</td>\n",
       "    </tr>\n",
       "    <tr>\n",
       "      <th>4</th>\n",
       "      <td>A94</td>\n",
       "      <td>3.819e+02</td>\n",
       "    </tr>\n",
       "  </tbody>\n",
       "</table>\n",
       "</div>"
      ],
      "text/plain": [
       "  index     Amount\n",
       "0    A8  8.767e+05\n",
       "1   A21  2.136e+06\n",
       "2   A19  9.422e+05\n",
       "3   A24  2.290e+06\n",
       "4   A94  3.819e+02"
      ]
     },
     "execution_count": 208,
     "metadata": {},
     "output_type": "execute_result"
    }
   ],
   "source": [
    "test_df =  series_cust_spend_agg.to_frame()\n",
    "test_df.columns = ['Amount']\n",
    "test_df.reset_index(inplace = True)\n",
    "\n",
    "test_df.head()"
   ]
  },
  {
   "cell_type": "code",
   "execution_count": 209,
   "id": "c8773c80",
   "metadata": {},
   "outputs": [
    {
     "data": {
      "text/html": [
       "<div>\n",
       "<style scoped>\n",
       "    .dataframe tbody tr th:only-of-type {\n",
       "        vertical-align: middle;\n",
       "    }\n",
       "\n",
       "    .dataframe tbody tr th {\n",
       "        vertical-align: top;\n",
       "    }\n",
       "\n",
       "    .dataframe thead th {\n",
       "        text-align: right;\n",
       "    }\n",
       "</style>\n",
       "<table border=\"1\" class=\"dataframe\">\n",
       "  <thead>\n",
       "    <tr style=\"text-align: right;\">\n",
       "      <th></th>\n",
       "      <th>Customer</th>\n",
       "      <th>level_0</th>\n",
       "      <th>index</th>\n",
       "      <th>Limit</th>\n",
       "    </tr>\n",
       "  </thead>\n",
       "  <tbody>\n",
       "    <tr>\n",
       "      <th>0</th>\n",
       "      <td>A1</td>\n",
       "      <td>0</td>\n",
       "      <td>0</td>\n",
       "      <td>1.500e+06</td>\n",
       "    </tr>\n",
       "    <tr>\n",
       "      <th>1</th>\n",
       "      <td>A2</td>\n",
       "      <td>1</td>\n",
       "      <td>1</td>\n",
       "      <td>3.000e+05</td>\n",
       "    </tr>\n",
       "    <tr>\n",
       "      <th>2</th>\n",
       "      <td>A3</td>\n",
       "      <td>2</td>\n",
       "      <td>2</td>\n",
       "      <td>5.400e+05</td>\n",
       "    </tr>\n",
       "    <tr>\n",
       "      <th>3</th>\n",
       "      <td>A4</td>\n",
       "      <td>3</td>\n",
       "      <td>3</td>\n",
       "      <td>8.401e+05</td>\n",
       "    </tr>\n",
       "    <tr>\n",
       "      <th>4</th>\n",
       "      <td>A5</td>\n",
       "      <td>4</td>\n",
       "      <td>4</td>\n",
       "      <td>4.201e+05</td>\n",
       "    </tr>\n",
       "  </tbody>\n",
       "</table>\n",
       "</div>"
      ],
      "text/plain": [
       "  Customer  level_0  index      Limit\n",
       "0       A1        0      0  1.500e+06\n",
       "1       A2        1      1  3.000e+05\n",
       "2       A3        2      2  5.400e+05\n",
       "3       A4        3      3  8.401e+05\n",
       "4       A5        4      4  4.201e+05"
      ]
     },
     "execution_count": 209,
     "metadata": {},
     "output_type": "execute_result"
    }
   ],
   "source": [
    "cc_cust_limit_df.reset_index(inplace = True)\n",
    "cc_cust_limit_df.head()"
   ]
  },
  {
   "cell_type": "code",
   "execution_count": null,
   "id": "8cfa3b71",
   "metadata": {},
   "outputs": [],
   "source": []
  },
  {
   "cell_type": "code",
   "execution_count": 210,
   "id": "3035ac1c",
   "metadata": {},
   "outputs": [
    {
     "data": {
      "text/html": [
       "<div>\n",
       "<style scoped>\n",
       "    .dataframe tbody tr th:only-of-type {\n",
       "        vertical-align: middle;\n",
       "    }\n",
       "\n",
       "    .dataframe tbody tr th {\n",
       "        vertical-align: top;\n",
       "    }\n",
       "\n",
       "    .dataframe thead th {\n",
       "        text-align: right;\n",
       "    }\n",
       "</style>\n",
       "<table border=\"1\" class=\"dataframe\">\n",
       "  <thead>\n",
       "    <tr style=\"text-align: right;\">\n",
       "      <th></th>\n",
       "      <th>Customer</th>\n",
       "      <th>level_0</th>\n",
       "      <th>index_x</th>\n",
       "      <th>Limit</th>\n",
       "      <th>index_y</th>\n",
       "      <th>Amount</th>\n",
       "    </tr>\n",
       "  </thead>\n",
       "  <tbody>\n",
       "    <tr>\n",
       "      <th>0</th>\n",
       "      <td>A1</td>\n",
       "      <td>0</td>\n",
       "      <td>0</td>\n",
       "      <td>1.500e+06</td>\n",
       "      <td>A1</td>\n",
       "      <td>2.203e+06</td>\n",
       "    </tr>\n",
       "    <tr>\n",
       "      <th>1</th>\n",
       "      <td>A2</td>\n",
       "      <td>1</td>\n",
       "      <td>1</td>\n",
       "      <td>3.000e+05</td>\n",
       "      <td>A2</td>\n",
       "      <td>1.755e+05</td>\n",
       "    </tr>\n",
       "    <tr>\n",
       "      <th>2</th>\n",
       "      <td>A3</td>\n",
       "      <td>2</td>\n",
       "      <td>2</td>\n",
       "      <td>5.400e+05</td>\n",
       "      <td>A3</td>\n",
       "      <td>5.334e+05</td>\n",
       "    </tr>\n",
       "    <tr>\n",
       "      <th>3</th>\n",
       "      <td>A4</td>\n",
       "      <td>3</td>\n",
       "      <td>3</td>\n",
       "      <td>8.401e+05</td>\n",
       "      <td>A4</td>\n",
       "      <td>9.047e+05</td>\n",
       "    </tr>\n",
       "    <tr>\n",
       "      <th>4</th>\n",
       "      <td>A5</td>\n",
       "      <td>4</td>\n",
       "      <td>4</td>\n",
       "      <td>4.201e+05</td>\n",
       "      <td>A5</td>\n",
       "      <td>9.235e+05</td>\n",
       "    </tr>\n",
       "  </tbody>\n",
       "</table>\n",
       "</div>"
      ],
      "text/plain": [
       "  Customer  level_0  index_x      Limit index_y     Amount\n",
       "0       A1        0        0  1.500e+06      A1  2.203e+06\n",
       "1       A2        1        1  3.000e+05      A2  1.755e+05\n",
       "2       A3        2        2  5.400e+05      A3  5.334e+05\n",
       "3       A4        3        3  8.401e+05      A4  9.047e+05\n",
       "4       A5        4        4  4.201e+05      A5  9.235e+05"
      ]
     },
     "execution_count": 210,
     "metadata": {},
     "output_type": "execute_result"
    }
   ],
   "source": [
    "merged_df = pd.merge(cc_cust_limit_df, test_df,  how='inner', left_on='Customer', right_on = 'index')\n",
    "merged_df.head()"
   ]
  },
  {
   "cell_type": "code",
   "execution_count": 211,
   "id": "a12ebcd6",
   "metadata": {},
   "outputs": [],
   "source": [
    "merged_df.drop(['level_0', 'index_x', 'index_y'], axis=1,inplace = True)\n",
    "#Columns were dropped\n"
   ]
  },
  {
   "cell_type": "code",
   "execution_count": 212,
   "id": "77258519",
   "metadata": {
    "scrolled": true
   },
   "outputs": [
    {
     "data": {
      "text/html": [
       "<div>\n",
       "<style scoped>\n",
       "    .dataframe tbody tr th:only-of-type {\n",
       "        vertical-align: middle;\n",
       "    }\n",
       "\n",
       "    .dataframe tbody tr th {\n",
       "        vertical-align: top;\n",
       "    }\n",
       "\n",
       "    .dataframe thead th {\n",
       "        text-align: right;\n",
       "    }\n",
       "</style>\n",
       "<table border=\"1\" class=\"dataframe\">\n",
       "  <thead>\n",
       "    <tr style=\"text-align: right;\">\n",
       "      <th></th>\n",
       "      <th>Customer</th>\n",
       "      <th>Limit</th>\n",
       "      <th>Amount</th>\n",
       "    </tr>\n",
       "  </thead>\n",
       "  <tbody>\n",
       "    <tr>\n",
       "      <th>0</th>\n",
       "      <td>A1</td>\n",
       "      <td>1.500e+06</td>\n",
       "      <td>2.203e+06</td>\n",
       "    </tr>\n",
       "    <tr>\n",
       "      <th>1</th>\n",
       "      <td>A2</td>\n",
       "      <td>3.000e+05</td>\n",
       "      <td>1.755e+05</td>\n",
       "    </tr>\n",
       "    <tr>\n",
       "      <th>2</th>\n",
       "      <td>A3</td>\n",
       "      <td>5.400e+05</td>\n",
       "      <td>5.334e+05</td>\n",
       "    </tr>\n",
       "    <tr>\n",
       "      <th>3</th>\n",
       "      <td>A4</td>\n",
       "      <td>8.401e+05</td>\n",
       "      <td>9.047e+05</td>\n",
       "    </tr>\n",
       "    <tr>\n",
       "      <th>4</th>\n",
       "      <td>A5</td>\n",
       "      <td>4.201e+05</td>\n",
       "      <td>9.235e+05</td>\n",
       "    </tr>\n",
       "  </tbody>\n",
       "</table>\n",
       "</div>"
      ],
      "text/plain": [
       "  Customer      Limit     Amount\n",
       "0       A1  1.500e+06  2.203e+06\n",
       "1       A2  3.000e+05  1.755e+05\n",
       "2       A3  5.400e+05  5.334e+05\n",
       "3       A4  8.401e+05  9.047e+05\n",
       "4       A5  4.201e+05  9.235e+05"
      ]
     },
     "execution_count": 212,
     "metadata": {},
     "output_type": "execute_result"
    }
   ],
   "source": [
    "#A clean combined dataframe\n",
    "merged_df.head()"
   ]
  },
  {
   "cell_type": "code",
   "execution_count": 250,
   "id": "6429ef53",
   "metadata": {},
   "outputs": [
    {
     "data": {
      "text/html": [
       "<div>\n",
       "<style scoped>\n",
       "    .dataframe tbody tr th:only-of-type {\n",
       "        vertical-align: middle;\n",
       "    }\n",
       "\n",
       "    .dataframe tbody tr th {\n",
       "        vertical-align: top;\n",
       "    }\n",
       "\n",
       "    .dataframe thead th {\n",
       "        text-align: right;\n",
       "    }\n",
       "</style>\n",
       "<table border=\"1\" class=\"dataframe\">\n",
       "  <thead>\n",
       "    <tr style=\"text-align: right;\">\n",
       "      <th></th>\n",
       "      <th></th>\n",
       "      <th>Amount</th>\n",
       "    </tr>\n",
       "    <tr>\n",
       "      <th>Customer</th>\n",
       "      <th>year_month</th>\n",
       "      <th></th>\n",
       "    </tr>\n",
       "  </thead>\n",
       "  <tbody>\n",
       "    <tr>\n",
       "      <th rowspan=\"4\" valign=\"top\">A1</th>\n",
       "      <th>2004-01</th>\n",
       "      <td>357701.216</td>\n",
       "    </tr>\n",
       "    <tr>\n",
       "      <th>2004-02</th>\n",
       "      <td>4858.701</td>\n",
       "    </tr>\n",
       "    <tr>\n",
       "      <th>2004-05</th>\n",
       "      <td>2033.749</td>\n",
       "    </tr>\n",
       "    <tr>\n",
       "      <th>2005-01</th>\n",
       "      <td>3406.639</td>\n",
       "    </tr>\n",
       "    <tr>\n",
       "      <th>...</th>\n",
       "      <th>...</th>\n",
       "      <td>...</td>\n",
       "    </tr>\n",
       "    <tr>\n",
       "      <th>A96</th>\n",
       "      <th>2004-01</th>\n",
       "      <td>94369.179</td>\n",
       "    </tr>\n",
       "    <tr>\n",
       "      <th>A97</th>\n",
       "      <th>2004-01</th>\n",
       "      <td>13440.467</td>\n",
       "    </tr>\n",
       "    <tr>\n",
       "      <th>A98</th>\n",
       "      <th>2004-01</th>\n",
       "      <td>12746.026</td>\n",
       "    </tr>\n",
       "    <tr>\n",
       "      <th>A99</th>\n",
       "      <th>2004-01</th>\n",
       "      <td>108137.195</td>\n",
       "    </tr>\n",
       "  </tbody>\n",
       "</table>\n",
       "<p>807 rows × 1 columns</p>\n",
       "</div>"
      ],
      "text/plain": [
       "                         Amount\n",
       "Customer year_month            \n",
       "A1       2004-01     357701.216\n",
       "         2004-02       4858.701\n",
       "         2004-05       2033.749\n",
       "         2005-01       3406.639\n",
       "...                         ...\n",
       "A96      2004-01      94369.179\n",
       "A97      2004-01      13440.467\n",
       "A98      2004-01      12746.026\n",
       "A99      2004-01     108137.195\n",
       "\n",
       "[807 rows x 1 columns]"
      ]
     },
     "execution_count": 250,
     "metadata": {},
     "output_type": "execute_result"
    }
   ],
   "source": [
    "#Since this is the total amount, we need to break it down by year-month, to get a more accurate picture of the customer spend\n",
    "\n",
    "df_spends_by_monthyear = cc_spend_data[['Customer','Amount', 'year_month']]\n",
    "\n",
    "\n",
    "\n",
    "df_spends_by_monthyear_grouped = df_spends_by_monthyear.groupby(['Customer', 'year_month']).sum() \n",
    "\n",
    "df_spends_by_monthyear_grouped"
   ]
  },
  {
   "cell_type": "code",
   "execution_count": 251,
   "id": "e432b095",
   "metadata": {
    "scrolled": true
   },
   "outputs": [
    {
     "data": {
      "text/html": [
       "<div>\n",
       "<style scoped>\n",
       "    .dataframe tbody tr th:only-of-type {\n",
       "        vertical-align: middle;\n",
       "    }\n",
       "\n",
       "    .dataframe tbody tr th {\n",
       "        vertical-align: top;\n",
       "    }\n",
       "\n",
       "    .dataframe thead th {\n",
       "        text-align: right;\n",
       "    }\n",
       "</style>\n",
       "<table border=\"1\" class=\"dataframe\">\n",
       "  <thead>\n",
       "    <tr style=\"text-align: right;\">\n",
       "      <th></th>\n",
       "      <th></th>\n",
       "      <th>Amount</th>\n",
       "    </tr>\n",
       "    <tr>\n",
       "      <th>Customer</th>\n",
       "      <th>year</th>\n",
       "      <th></th>\n",
       "    </tr>\n",
       "  </thead>\n",
       "  <tbody>\n",
       "    <tr>\n",
       "      <th rowspan=\"3\" valign=\"top\">A1</th>\n",
       "      <th>2004</th>\n",
       "      <td>3.646e+05</td>\n",
       "    </tr>\n",
       "    <tr>\n",
       "      <th>2005</th>\n",
       "      <td>1.366e+06</td>\n",
       "    </tr>\n",
       "    <tr>\n",
       "      <th>2006</th>\n",
       "      <td>4.717e+05</td>\n",
       "    </tr>\n",
       "    <tr>\n",
       "      <th>A10</th>\n",
       "      <th>2004</th>\n",
       "      <td>3.836e+04</td>\n",
       "    </tr>\n",
       "    <tr>\n",
       "      <th>...</th>\n",
       "      <th>...</th>\n",
       "      <td>...</td>\n",
       "    </tr>\n",
       "    <tr>\n",
       "      <th>A96</th>\n",
       "      <th>2004</th>\n",
       "      <td>9.437e+04</td>\n",
       "    </tr>\n",
       "    <tr>\n",
       "      <th>A97</th>\n",
       "      <th>2004</th>\n",
       "      <td>1.344e+04</td>\n",
       "    </tr>\n",
       "    <tr>\n",
       "      <th>A98</th>\n",
       "      <th>2004</th>\n",
       "      <td>1.275e+04</td>\n",
       "    </tr>\n",
       "    <tr>\n",
       "      <th>A99</th>\n",
       "      <th>2004</th>\n",
       "      <td>1.081e+05</td>\n",
       "    </tr>\n",
       "  </tbody>\n",
       "</table>\n",
       "<p>233 rows × 1 columns</p>\n",
       "</div>"
      ],
      "text/plain": [
       "                  Amount\n",
       "Customer year           \n",
       "A1       2004  3.646e+05\n",
       "         2005  1.366e+06\n",
       "         2006  4.717e+05\n",
       "A10      2004  3.836e+04\n",
       "...                  ...\n",
       "A96      2004  9.437e+04\n",
       "A97      2004  1.344e+04\n",
       "A98      2004  1.275e+04\n",
       "A99      2004  1.081e+05\n",
       "\n",
       "[233 rows x 1 columns]"
      ]
     },
     "execution_count": 251,
     "metadata": {},
     "output_type": "execute_result"
    }
   ],
   "source": [
    "df_spends_by_monthyear = cc_spend_data[['Customer','Amount', 'year']]\n",
    "\n",
    "\n",
    "\n",
    "df_spends_by_year_grouped = df_spends_by_monthyear.groupby(['Customer', 'year']).sum() \n",
    "\n",
    "df_spends_by_year_grouped"
   ]
  },
  {
   "cell_type": "code",
   "execution_count": 254,
   "id": "56744b4e",
   "metadata": {},
   "outputs": [
    {
     "data": {
      "text/html": [
       "<div>\n",
       "<style scoped>\n",
       "    .dataframe tbody tr th:only-of-type {\n",
       "        vertical-align: middle;\n",
       "    }\n",
       "\n",
       "    .dataframe tbody tr th {\n",
       "        vertical-align: top;\n",
       "    }\n",
       "\n",
       "    .dataframe thead th {\n",
       "        text-align: right;\n",
       "    }\n",
       "</style>\n",
       "<table border=\"1\" class=\"dataframe\">\n",
       "  <thead>\n",
       "    <tr style=\"text-align: right;\">\n",
       "      <th></th>\n",
       "      <th>index</th>\n",
       "      <th>Customer</th>\n",
       "      <th>year</th>\n",
       "      <th>Amount</th>\n",
       "    </tr>\n",
       "  </thead>\n",
       "  <tbody>\n",
       "    <tr>\n",
       "      <th>0</th>\n",
       "      <td>0</td>\n",
       "      <td>A1</td>\n",
       "      <td>2004</td>\n",
       "      <td>3.646e+05</td>\n",
       "    </tr>\n",
       "    <tr>\n",
       "      <th>1</th>\n",
       "      <td>1</td>\n",
       "      <td>A1</td>\n",
       "      <td>2005</td>\n",
       "      <td>1.366e+06</td>\n",
       "    </tr>\n",
       "    <tr>\n",
       "      <th>2</th>\n",
       "      <td>2</td>\n",
       "      <td>A1</td>\n",
       "      <td>2006</td>\n",
       "      <td>4.717e+05</td>\n",
       "    </tr>\n",
       "    <tr>\n",
       "      <th>3</th>\n",
       "      <td>3</td>\n",
       "      <td>A10</td>\n",
       "      <td>2004</td>\n",
       "      <td>3.836e+04</td>\n",
       "    </tr>\n",
       "    <tr>\n",
       "      <th>...</th>\n",
       "      <td>...</td>\n",
       "      <td>...</td>\n",
       "      <td>...</td>\n",
       "      <td>...</td>\n",
       "    </tr>\n",
       "    <tr>\n",
       "      <th>229</th>\n",
       "      <td>229</td>\n",
       "      <td>A96</td>\n",
       "      <td>2004</td>\n",
       "      <td>9.437e+04</td>\n",
       "    </tr>\n",
       "    <tr>\n",
       "      <th>230</th>\n",
       "      <td>230</td>\n",
       "      <td>A97</td>\n",
       "      <td>2004</td>\n",
       "      <td>1.344e+04</td>\n",
       "    </tr>\n",
       "    <tr>\n",
       "      <th>231</th>\n",
       "      <td>231</td>\n",
       "      <td>A98</td>\n",
       "      <td>2004</td>\n",
       "      <td>1.275e+04</td>\n",
       "    </tr>\n",
       "    <tr>\n",
       "      <th>232</th>\n",
       "      <td>232</td>\n",
       "      <td>A99</td>\n",
       "      <td>2004</td>\n",
       "      <td>1.081e+05</td>\n",
       "    </tr>\n",
       "  </tbody>\n",
       "</table>\n",
       "<p>233 rows × 4 columns</p>\n",
       "</div>"
      ],
      "text/plain": [
       "     index Customer  year     Amount\n",
       "0        0       A1  2004  3.646e+05\n",
       "1        1       A1  2005  1.366e+06\n",
       "2        2       A1  2006  4.717e+05\n",
       "3        3      A10  2004  3.836e+04\n",
       "..     ...      ...   ...        ...\n",
       "229    229      A96  2004  9.437e+04\n",
       "230    230      A97  2004  1.344e+04\n",
       "231    231      A98  2004  1.275e+04\n",
       "232    232      A99  2004  1.081e+05\n",
       "\n",
       "[233 rows x 4 columns]"
      ]
     },
     "execution_count": 254,
     "metadata": {},
     "output_type": "execute_result"
    }
   ],
   "source": [
    "df_spends_by_year_grouped.reset_index(inplace = True)\n",
    "\n",
    "df_spends_by_year_grouped"
   ]
  },
  {
   "cell_type": "code",
   "execution_count": 263,
   "id": "9d7d59c7",
   "metadata": {},
   "outputs": [
    {
     "data": {
      "text/html": [
       "<div>\n",
       "<style scoped>\n",
       "    .dataframe tbody tr th:only-of-type {\n",
       "        vertical-align: middle;\n",
       "    }\n",
       "\n",
       "    .dataframe tbody tr th {\n",
       "        vertical-align: top;\n",
       "    }\n",
       "\n",
       "    .dataframe thead th {\n",
       "        text-align: right;\n",
       "    }\n",
       "</style>\n",
       "<table border=\"1\" class=\"dataframe\">\n",
       "  <thead>\n",
       "    <tr style=\"text-align: right;\">\n",
       "      <th></th>\n",
       "      <th>Customer</th>\n",
       "      <th>Limit</th>\n",
       "      <th>Total_Amount</th>\n",
       "      <th>index</th>\n",
       "      <th>year</th>\n",
       "      <th>Amount_year</th>\n",
       "    </tr>\n",
       "  </thead>\n",
       "  <tbody>\n",
       "    <tr>\n",
       "      <th>0</th>\n",
       "      <td>A1</td>\n",
       "      <td>1.500e+06</td>\n",
       "      <td>2.203e+06</td>\n",
       "      <td>0</td>\n",
       "      <td>2004</td>\n",
       "      <td>3.646e+05</td>\n",
       "    </tr>\n",
       "    <tr>\n",
       "      <th>1</th>\n",
       "      <td>A1</td>\n",
       "      <td>1.500e+06</td>\n",
       "      <td>2.203e+06</td>\n",
       "      <td>1</td>\n",
       "      <td>2005</td>\n",
       "      <td>1.366e+06</td>\n",
       "    </tr>\n",
       "    <tr>\n",
       "      <th>2</th>\n",
       "      <td>A1</td>\n",
       "      <td>1.500e+06</td>\n",
       "      <td>2.203e+06</td>\n",
       "      <td>2</td>\n",
       "      <td>2006</td>\n",
       "      <td>4.717e+05</td>\n",
       "    </tr>\n",
       "    <tr>\n",
       "      <th>3</th>\n",
       "      <td>A2</td>\n",
       "      <td>3.000e+05</td>\n",
       "      <td>1.755e+05</td>\n",
       "      <td>34</td>\n",
       "      <td>2004</td>\n",
       "      <td>1.507e+04</td>\n",
       "    </tr>\n",
       "    <tr>\n",
       "      <th>4</th>\n",
       "      <td>A2</td>\n",
       "      <td>3.000e+05</td>\n",
       "      <td>1.755e+05</td>\n",
       "      <td>35</td>\n",
       "      <td>2005</td>\n",
       "      <td>1.463e+05</td>\n",
       "    </tr>\n",
       "  </tbody>\n",
       "</table>\n",
       "</div>"
      ],
      "text/plain": [
       "  Customer      Limit  Total_Amount  index  year  Amount_year\n",
       "0       A1  1.500e+06     2.203e+06      0  2004    3.646e+05\n",
       "1       A1  1.500e+06     2.203e+06      1  2005    1.366e+06\n",
       "2       A1  1.500e+06     2.203e+06      2  2006    4.717e+05\n",
       "3       A2  3.000e+05     1.755e+05     34  2004    1.507e+04\n",
       "4       A2  3.000e+05     1.755e+05     35  2005    1.463e+05"
      ]
     },
     "execution_count": 263,
     "metadata": {},
     "output_type": "execute_result"
    }
   ],
   "source": [
    "#Combining the merged df\n",
    "\n",
    "merged_df.rename(columns = {'Amount': 'Total_Amount'}, inplace = True)\n",
    "#merged_df.drop('Percentage_of_limit', axis = 1, inplace = True)\n",
    "merged_df.head()\n",
    "\n",
    "merged_df2 = pd.merge(merged_df, df_spends_by_year_grouped,  how='outer', left_on='Customer', right_on = 'Customer')\n",
    "merged_df2.rename(columns = {'Amount': 'Amount_year'}, inplace = True)\n",
    "merged_df2.head()"
   ]
  },
  {
   "cell_type": "code",
   "execution_count": 264,
   "id": "0f968f52",
   "metadata": {
    "scrolled": true
   },
   "outputs": [
    {
     "data": {
      "text/html": [
       "<div>\n",
       "<style scoped>\n",
       "    .dataframe tbody tr th:only-of-type {\n",
       "        vertical-align: middle;\n",
       "    }\n",
       "\n",
       "    .dataframe tbody tr th {\n",
       "        vertical-align: top;\n",
       "    }\n",
       "\n",
       "    .dataframe thead th {\n",
       "        text-align: right;\n",
       "    }\n",
       "</style>\n",
       "<table border=\"1\" class=\"dataframe\">\n",
       "  <thead>\n",
       "    <tr style=\"text-align: right;\">\n",
       "      <th></th>\n",
       "      <th>Customer</th>\n",
       "      <th>Limit</th>\n",
       "      <th>Total_Amount</th>\n",
       "      <th>index</th>\n",
       "      <th>year</th>\n",
       "      <th>Amount_year</th>\n",
       "      <th>percent_spend_year</th>\n",
       "    </tr>\n",
       "  </thead>\n",
       "  <tbody>\n",
       "    <tr>\n",
       "      <th>0</th>\n",
       "      <td>A1</td>\n",
       "      <td>1.500e+06</td>\n",
       "      <td>2.203e+06</td>\n",
       "      <td>0</td>\n",
       "      <td>2004</td>\n",
       "      <td>3.646e+05</td>\n",
       "      <td>0.243</td>\n",
       "    </tr>\n",
       "    <tr>\n",
       "      <th>1</th>\n",
       "      <td>A1</td>\n",
       "      <td>1.500e+06</td>\n",
       "      <td>2.203e+06</td>\n",
       "      <td>1</td>\n",
       "      <td>2005</td>\n",
       "      <td>1.366e+06</td>\n",
       "      <td>0.911</td>\n",
       "    </tr>\n",
       "    <tr>\n",
       "      <th>2</th>\n",
       "      <td>A1</td>\n",
       "      <td>1.500e+06</td>\n",
       "      <td>2.203e+06</td>\n",
       "      <td>2</td>\n",
       "      <td>2006</td>\n",
       "      <td>4.717e+05</td>\n",
       "      <td>0.314</td>\n",
       "    </tr>\n",
       "    <tr>\n",
       "      <th>3</th>\n",
       "      <td>A2</td>\n",
       "      <td>3.000e+05</td>\n",
       "      <td>1.755e+05</td>\n",
       "      <td>34</td>\n",
       "      <td>2004</td>\n",
       "      <td>1.507e+04</td>\n",
       "      <td>0.050</td>\n",
       "    </tr>\n",
       "    <tr>\n",
       "      <th>4</th>\n",
       "      <td>A2</td>\n",
       "      <td>3.000e+05</td>\n",
       "      <td>1.755e+05</td>\n",
       "      <td>35</td>\n",
       "      <td>2005</td>\n",
       "      <td>1.463e+05</td>\n",
       "      <td>0.488</td>\n",
       "    </tr>\n",
       "  </tbody>\n",
       "</table>\n",
       "</div>"
      ],
      "text/plain": [
       "  Customer      Limit  Total_Amount  index  year  Amount_year  percent_spend_year\n",
       "0       A1  1.500e+06     2.203e+06      0  2004    3.646e+05               0.243\n",
       "1       A1  1.500e+06     2.203e+06      1  2005    1.366e+06               0.911\n",
       "2       A1  1.500e+06     2.203e+06      2  2006    4.717e+05               0.314\n",
       "3       A2  3.000e+05     1.755e+05     34  2004    1.507e+04               0.050\n",
       "4       A2  3.000e+05     1.755e+05     35  2005    1.463e+05               0.488"
      ]
     },
     "execution_count": 264,
     "metadata": {},
     "output_type": "execute_result"
    }
   ],
   "source": [
    "merged_df2['percent_spend_year'] = merged_df2['Amount_year']/merged_df2['Limit']\n",
    "merged_df2.head()"
   ]
  },
  {
   "cell_type": "code",
   "execution_count": 270,
   "id": "f61589ad",
   "metadata": {},
   "outputs": [],
   "source": [
    "merged_df2.to_excel('merged_df2.xlsx')"
   ]
  },
  {
   "cell_type": "code",
   "execution_count": 268,
   "id": "bb0bb996",
   "metadata": {},
   "outputs": [
    {
     "data": {
      "text/html": [
       "<div>\n",
       "<style scoped>\n",
       "    .dataframe tbody tr th:only-of-type {\n",
       "        vertical-align: middle;\n",
       "    }\n",
       "\n",
       "    .dataframe tbody tr th {\n",
       "        vertical-align: top;\n",
       "    }\n",
       "\n",
       "    .dataframe thead th {\n",
       "        text-align: right;\n",
       "    }\n",
       "</style>\n",
       "<table border=\"1\" class=\"dataframe\">\n",
       "  <thead>\n",
       "    <tr style=\"text-align: right;\">\n",
       "      <th></th>\n",
       "      <th>Customer</th>\n",
       "      <th>year</th>\n",
       "    </tr>\n",
       "  </thead>\n",
       "  <tbody>\n",
       "    <tr>\n",
       "      <th>1</th>\n",
       "      <td>A1</td>\n",
       "      <td>2005</td>\n",
       "    </tr>\n",
       "    <tr>\n",
       "      <th>8</th>\n",
       "      <td>A3</td>\n",
       "      <td>2006</td>\n",
       "    </tr>\n",
       "    <tr>\n",
       "      <th>9</th>\n",
       "      <td>A4</td>\n",
       "      <td>2004</td>\n",
       "    </tr>\n",
       "    <tr>\n",
       "      <th>13</th>\n",
       "      <td>A5</td>\n",
       "      <td>2005</td>\n",
       "    </tr>\n",
       "    <tr>\n",
       "      <th>14</th>\n",
       "      <td>A5</td>\n",
       "      <td>2006</td>\n",
       "    </tr>\n",
       "    <tr>\n",
       "      <th>20</th>\n",
       "      <td>A7</td>\n",
       "      <td>2006</td>\n",
       "    </tr>\n",
       "    <tr>\n",
       "      <th>32</th>\n",
       "      <td>A11</td>\n",
       "      <td>2006</td>\n",
       "    </tr>\n",
       "    <tr>\n",
       "      <th>38</th>\n",
       "      <td>A13</td>\n",
       "      <td>2006</td>\n",
       "    </tr>\n",
       "    <tr>\n",
       "      <th>43</th>\n",
       "      <td>A15</td>\n",
       "      <td>2005</td>\n",
       "    </tr>\n",
       "    <tr>\n",
       "      <th>45</th>\n",
       "      <td>A16</td>\n",
       "      <td>2004</td>\n",
       "    </tr>\n",
       "    <tr>\n",
       "      <th>47</th>\n",
       "      <td>A16</td>\n",
       "      <td>2006</td>\n",
       "    </tr>\n",
       "    <tr>\n",
       "      <th>53</th>\n",
       "      <td>A18</td>\n",
       "      <td>2006</td>\n",
       "    </tr>\n",
       "    <tr>\n",
       "      <th>59</th>\n",
       "      <td>A20</td>\n",
       "      <td>2006</td>\n",
       "    </tr>\n",
       "    <tr>\n",
       "      <th>62</th>\n",
       "      <td>A21</td>\n",
       "      <td>2006</td>\n",
       "    </tr>\n",
       "    <tr>\n",
       "      <th>71</th>\n",
       "      <td>A24</td>\n",
       "      <td>2006</td>\n",
       "    </tr>\n",
       "    <tr>\n",
       "      <th>73</th>\n",
       "      <td>A25</td>\n",
       "      <td>2005</td>\n",
       "    </tr>\n",
       "    <tr>\n",
       "      <th>76</th>\n",
       "      <td>A26</td>\n",
       "      <td>2005</td>\n",
       "    </tr>\n",
       "    <tr>\n",
       "      <th>77</th>\n",
       "      <td>A26</td>\n",
       "      <td>2006</td>\n",
       "    </tr>\n",
       "    <tr>\n",
       "      <th>79</th>\n",
       "      <td>A27</td>\n",
       "      <td>2005</td>\n",
       "    </tr>\n",
       "    <tr>\n",
       "      <th>98</th>\n",
       "      <td>A33</td>\n",
       "      <td>2006</td>\n",
       "    </tr>\n",
       "    <tr>\n",
       "      <th>104</th>\n",
       "      <td>A35</td>\n",
       "      <td>2006</td>\n",
       "    </tr>\n",
       "    <tr>\n",
       "      <th>105</th>\n",
       "      <td>A36</td>\n",
       "      <td>2004</td>\n",
       "    </tr>\n",
       "    <tr>\n",
       "      <th>108</th>\n",
       "      <td>A37</td>\n",
       "      <td>2004</td>\n",
       "    </tr>\n",
       "    <tr>\n",
       "      <th>116</th>\n",
       "      <td>A39</td>\n",
       "      <td>2006</td>\n",
       "    </tr>\n",
       "    <tr>\n",
       "      <th>137</th>\n",
       "      <td>A46</td>\n",
       "      <td>2006</td>\n",
       "    </tr>\n",
       "    <tr>\n",
       "      <th>138</th>\n",
       "      <td>A47</td>\n",
       "      <td>2004</td>\n",
       "    </tr>\n",
       "    <tr>\n",
       "      <th>140</th>\n",
       "      <td>A47</td>\n",
       "      <td>2006</td>\n",
       "    </tr>\n",
       "    <tr>\n",
       "      <th>142</th>\n",
       "      <td>A48</td>\n",
       "      <td>2005</td>\n",
       "    </tr>\n",
       "    <tr>\n",
       "      <th>143</th>\n",
       "      <td>A48</td>\n",
       "      <td>2006</td>\n",
       "    </tr>\n",
       "    <tr>\n",
       "      <th>146</th>\n",
       "      <td>A49</td>\n",
       "      <td>2006</td>\n",
       "    </tr>\n",
       "    <tr>\n",
       "      <th>150</th>\n",
       "      <td>A51</td>\n",
       "      <td>2004</td>\n",
       "    </tr>\n",
       "    <tr>\n",
       "      <th>154</th>\n",
       "      <td>A52</td>\n",
       "      <td>2005</td>\n",
       "    </tr>\n",
       "    <tr>\n",
       "      <th>157</th>\n",
       "      <td>A53</td>\n",
       "      <td>2005</td>\n",
       "    </tr>\n",
       "    <tr>\n",
       "      <th>167</th>\n",
       "      <td>A56</td>\n",
       "      <td>2006</td>\n",
       "    </tr>\n",
       "    <tr>\n",
       "      <th>175</th>\n",
       "      <td>A59</td>\n",
       "      <td>2005</td>\n",
       "    </tr>\n",
       "    <tr>\n",
       "      <th>181</th>\n",
       "      <td>A61</td>\n",
       "      <td>2005</td>\n",
       "    </tr>\n",
       "    <tr>\n",
       "      <th>182</th>\n",
       "      <td>A61</td>\n",
       "      <td>2006</td>\n",
       "    </tr>\n",
       "    <tr>\n",
       "      <th>184</th>\n",
       "      <td>A62</td>\n",
       "      <td>2005</td>\n",
       "    </tr>\n",
       "    <tr>\n",
       "      <th>185</th>\n",
       "      <td>A62</td>\n",
       "      <td>2006</td>\n",
       "    </tr>\n",
       "    <tr>\n",
       "      <th>198</th>\n",
       "      <td>A69</td>\n",
       "      <td>2005</td>\n",
       "    </tr>\n",
       "    <tr>\n",
       "      <th>228</th>\n",
       "      <td>A96</td>\n",
       "      <td>2004</td>\n",
       "    </tr>\n",
       "    <tr>\n",
       "      <th>231</th>\n",
       "      <td>A99</td>\n",
       "      <td>2004</td>\n",
       "    </tr>\n",
       "  </tbody>\n",
       "</table>\n",
       "</div>"
      ],
      "text/plain": [
       "    Customer  year\n",
       "1         A1  2005\n",
       "8         A3  2006\n",
       "9         A4  2004\n",
       "13        A5  2005\n",
       "14        A5  2006\n",
       "20        A7  2006\n",
       "32       A11  2006\n",
       "38       A13  2006\n",
       "43       A15  2005\n",
       "45       A16  2004\n",
       "47       A16  2006\n",
       "53       A18  2006\n",
       "59       A20  2006\n",
       "62       A21  2006\n",
       "71       A24  2006\n",
       "73       A25  2005\n",
       "76       A26  2005\n",
       "77       A26  2006\n",
       "79       A27  2005\n",
       "98       A33  2006\n",
       "104      A35  2006\n",
       "105      A36  2004\n",
       "108      A37  2004\n",
       "116      A39  2006\n",
       "137      A46  2006\n",
       "138      A47  2004\n",
       "140      A47  2006\n",
       "142      A48  2005\n",
       "143      A48  2006\n",
       "146      A49  2006\n",
       "150      A51  2004\n",
       "154      A52  2005\n",
       "157      A53  2005\n",
       "167      A56  2006\n",
       "175      A59  2005\n",
       "181      A61  2005\n",
       "182      A61  2006\n",
       "184      A62  2005\n",
       "185      A62  2006\n",
       "198      A69  2005\n",
       "228      A96  2004\n",
       "231      A99  2004"
      ]
     },
     "execution_count": 268,
     "metadata": {},
     "output_type": "execute_result"
    }
   ],
   "source": [
    "#Filtering out customers with greater than 90% spend, along with the year when they crossed the spend limit\n",
    "\n",
    "bool_90_plus = merged_df2['percent_spend_year'] >= 0.9\n",
    "\n",
    "merged_df2.loc[bool_90_plus,['Customer','year']]"
   ]
  },
  {
   "cell_type": "markdown",
   "id": "9ef31604",
   "metadata": {},
   "source": [
    "#### Task 3e. Which customers are reaching 90% or more of their spending limit?\n",
    "Answered in the cell above, along with the year\n"
   ]
  },
  {
   "cell_type": "markdown",
   "id": "baba1fee",
   "metadata": {},
   "source": [
    "#### Task 3f. Which city has the maximum number of spenders, each month? Is there a need to run campaigns in specific cities?\n"
   ]
  },
  {
   "cell_type": "code",
   "execution_count": 271,
   "id": "f1a275bb",
   "metadata": {
    "scrolled": true
   },
   "outputs": [
    {
     "data": {
      "text/html": [
       "<div>\n",
       "<style scoped>\n",
       "    .dataframe tbody tr th:only-of-type {\n",
       "        vertical-align: middle;\n",
       "    }\n",
       "\n",
       "    .dataframe tbody tr th {\n",
       "        vertical-align: top;\n",
       "    }\n",
       "\n",
       "    .dataframe thead th {\n",
       "        text-align: right;\n",
       "    }\n",
       "</style>\n",
       "<table border=\"1\" class=\"dataframe\">\n",
       "  <thead>\n",
       "    <tr style=\"text-align: right;\">\n",
       "      <th></th>\n",
       "      <th>Sl No:</th>\n",
       "      <th>Customer</th>\n",
       "      <th>Month</th>\n",
       "      <th>Type</th>\n",
       "      <th>Amount</th>\n",
       "      <th>month</th>\n",
       "      <th>year</th>\n",
       "      <th>ym-date</th>\n",
       "      <th>year_month</th>\n",
       "    </tr>\n",
       "  </thead>\n",
       "  <tbody>\n",
       "    <tr>\n",
       "      <th>0</th>\n",
       "      <td>1</td>\n",
       "      <td>A1</td>\n",
       "      <td>2004-01-12</td>\n",
       "      <td>JEWELLERY</td>\n",
       "      <td>344054.981</td>\n",
       "      <td>1</td>\n",
       "      <td>2004</td>\n",
       "      <td>2004-01</td>\n",
       "      <td>2004-01</td>\n",
       "    </tr>\n",
       "    <tr>\n",
       "      <th>1</th>\n",
       "      <td>2</td>\n",
       "      <td>A1</td>\n",
       "      <td>2004-01-03</td>\n",
       "      <td>PETRO</td>\n",
       "      <td>935.495</td>\n",
       "      <td>1</td>\n",
       "      <td>2004</td>\n",
       "      <td>2004-01</td>\n",
       "      <td>2004-01</td>\n",
       "    </tr>\n",
       "    <tr>\n",
       "      <th>2</th>\n",
       "      <td>3</td>\n",
       "      <td>A1</td>\n",
       "      <td>2004-01-15</td>\n",
       "      <td>CLOTHES</td>\n",
       "      <td>8687.895</td>\n",
       "      <td>1</td>\n",
       "      <td>2004</td>\n",
       "      <td>2004-01</td>\n",
       "      <td>2004-01</td>\n",
       "    </tr>\n",
       "    <tr>\n",
       "      <th>3</th>\n",
       "      <td>4</td>\n",
       "      <td>A1</td>\n",
       "      <td>2004-01-25</td>\n",
       "      <td>FOOD</td>\n",
       "      <td>341.160</td>\n",
       "      <td>1</td>\n",
       "      <td>2004</td>\n",
       "      <td>2004-01</td>\n",
       "      <td>2004-01</td>\n",
       "    </tr>\n",
       "    <tr>\n",
       "      <th>4</th>\n",
       "      <td>5</td>\n",
       "      <td>A1</td>\n",
       "      <td>2005-01-17</td>\n",
       "      <td>CAMERA</td>\n",
       "      <td>3406.639</td>\n",
       "      <td>1</td>\n",
       "      <td>2005</td>\n",
       "      <td>2005-01</td>\n",
       "      <td>2005-01</td>\n",
       "    </tr>\n",
       "  </tbody>\n",
       "</table>\n",
       "</div>"
      ],
      "text/plain": [
       "   Sl No: Customer      Month       Type      Amount  month  year  ym-date year_month\n",
       "0       1       A1 2004-01-12  JEWELLERY  344054.981      1  2004  2004-01    2004-01\n",
       "1       2       A1 2004-01-03      PETRO     935.495      1  2004  2004-01    2004-01\n",
       "2       3       A1 2004-01-15    CLOTHES    8687.895      1  2004  2004-01    2004-01\n",
       "3       4       A1 2004-01-25       FOOD     341.160      1  2004  2004-01    2004-01\n",
       "4       5       A1 2005-01-17     CAMERA    3406.639      1  2005  2005-01    2005-01"
      ]
     },
     "execution_count": 271,
     "metadata": {},
     "output_type": "execute_result"
    }
   ],
   "source": [
    "cc_spend_data.head()\n"
   ]
  },
  {
   "cell_type": "code",
   "execution_count": 272,
   "id": "bf0645cf",
   "metadata": {},
   "outputs": [
    {
     "data": {
      "text/html": [
       "<div>\n",
       "<style scoped>\n",
       "    .dataframe tbody tr th:only-of-type {\n",
       "        vertical-align: middle;\n",
       "    }\n",
       "\n",
       "    .dataframe tbody tr th {\n",
       "        vertical-align: top;\n",
       "    }\n",
       "\n",
       "    .dataframe thead th {\n",
       "        text-align: right;\n",
       "    }\n",
       "</style>\n",
       "<table border=\"1\" class=\"dataframe\">\n",
       "  <thead>\n",
       "    <tr style=\"text-align: right;\">\n",
       "      <th></th>\n",
       "      <th>No</th>\n",
       "      <th>Customer</th>\n",
       "      <th>Age</th>\n",
       "      <th>City</th>\n",
       "      <th>Product</th>\n",
       "      <th>Limit</th>\n",
       "      <th>Company</th>\n",
       "      <th>Segment</th>\n",
       "    </tr>\n",
       "  </thead>\n",
       "  <tbody>\n",
       "    <tr>\n",
       "      <th>0</th>\n",
       "      <td>1.0</td>\n",
       "      <td>A1</td>\n",
       "      <td>47.0</td>\n",
       "      <td>BANGALORE</td>\n",
       "      <td>Gold</td>\n",
       "      <td>1.500e+06</td>\n",
       "      <td>C1</td>\n",
       "      <td>Self Employed</td>\n",
       "    </tr>\n",
       "    <tr>\n",
       "      <th>1</th>\n",
       "      <td>2.0</td>\n",
       "      <td>A2</td>\n",
       "      <td>56.0</td>\n",
       "      <td>CALCUTTA</td>\n",
       "      <td>Silver</td>\n",
       "      <td>3.000e+05</td>\n",
       "      <td>C2</td>\n",
       "      <td>Salaried_MNC</td>\n",
       "    </tr>\n",
       "    <tr>\n",
       "      <th>2</th>\n",
       "      <td>3.0</td>\n",
       "      <td>A3</td>\n",
       "      <td>30.0</td>\n",
       "      <td>COCHIN</td>\n",
       "      <td>Platimum</td>\n",
       "      <td>5.400e+05</td>\n",
       "      <td>C3</td>\n",
       "      <td>Salaried_Pvt</td>\n",
       "    </tr>\n",
       "    <tr>\n",
       "      <th>3</th>\n",
       "      <td>4.0</td>\n",
       "      <td>A4</td>\n",
       "      <td>22.0</td>\n",
       "      <td>BOMBAY</td>\n",
       "      <td>Platimum</td>\n",
       "      <td>8.401e+05</td>\n",
       "      <td>C4</td>\n",
       "      <td>Govt</td>\n",
       "    </tr>\n",
       "    <tr>\n",
       "      <th>4</th>\n",
       "      <td>5.0</td>\n",
       "      <td>A5</td>\n",
       "      <td>59.0</td>\n",
       "      <td>BANGALORE</td>\n",
       "      <td>Platimum</td>\n",
       "      <td>4.201e+05</td>\n",
       "      <td>C5</td>\n",
       "      <td>Normal Salary</td>\n",
       "    </tr>\n",
       "  </tbody>\n",
       "</table>\n",
       "</div>"
      ],
      "text/plain": [
       "    No Customer   Age       City   Product      Limit Company        Segment\n",
       "0  1.0       A1  47.0  BANGALORE      Gold  1.500e+06      C1  Self Employed\n",
       "1  2.0       A2  56.0   CALCUTTA    Silver  3.000e+05      C2   Salaried_MNC\n",
       "2  3.0       A3  30.0     COCHIN  Platimum  5.400e+05      C3   Salaried_Pvt\n",
       "3  4.0       A4  22.0     BOMBAY  Platimum  8.401e+05      C4           Govt\n",
       "4  5.0       A5  59.0  BANGALORE  Platimum  4.201e+05      C5  Normal Salary"
      ]
     },
     "execution_count": 272,
     "metadata": {},
     "output_type": "execute_result"
    }
   ],
   "source": [
    "cc_cust_data.head()"
   ]
  },
  {
   "cell_type": "code",
   "execution_count": 300,
   "id": "582fd5ce",
   "metadata": {},
   "outputs": [
    {
     "data": {
      "text/html": [
       "<div>\n",
       "<style scoped>\n",
       "    .dataframe tbody tr th:only-of-type {\n",
       "        vertical-align: middle;\n",
       "    }\n",
       "\n",
       "    .dataframe tbody tr th {\n",
       "        vertical-align: top;\n",
       "    }\n",
       "\n",
       "    .dataframe thead th {\n",
       "        text-align: right;\n",
       "    }\n",
       "</style>\n",
       "<table border=\"1\" class=\"dataframe\">\n",
       "  <thead>\n",
       "    <tr style=\"text-align: right;\">\n",
       "      <th></th>\n",
       "      <th>Sl No:</th>\n",
       "      <th>Customer</th>\n",
       "      <th>Month</th>\n",
       "      <th>Type</th>\n",
       "      <th>Amount</th>\n",
       "      <th>month</th>\n",
       "      <th>year</th>\n",
       "      <th>ym-date</th>\n",
       "      <th>year_month</th>\n",
       "      <th>City</th>\n",
       "    </tr>\n",
       "  </thead>\n",
       "  <tbody>\n",
       "    <tr>\n",
       "      <th>0</th>\n",
       "      <td>1</td>\n",
       "      <td>A1</td>\n",
       "      <td>2004-01-12</td>\n",
       "      <td>JEWELLERY</td>\n",
       "      <td>344054.981</td>\n",
       "      <td>1</td>\n",
       "      <td>2004</td>\n",
       "      <td>2004-01</td>\n",
       "      <td>2004-01</td>\n",
       "      <td>BANGALORE</td>\n",
       "    </tr>\n",
       "    <tr>\n",
       "      <th>1</th>\n",
       "      <td>2</td>\n",
       "      <td>A1</td>\n",
       "      <td>2004-01-03</td>\n",
       "      <td>PETRO</td>\n",
       "      <td>935.495</td>\n",
       "      <td>1</td>\n",
       "      <td>2004</td>\n",
       "      <td>2004-01</td>\n",
       "      <td>2004-01</td>\n",
       "      <td>BANGALORE</td>\n",
       "    </tr>\n",
       "    <tr>\n",
       "      <th>2</th>\n",
       "      <td>3</td>\n",
       "      <td>A1</td>\n",
       "      <td>2004-01-15</td>\n",
       "      <td>CLOTHES</td>\n",
       "      <td>8687.895</td>\n",
       "      <td>1</td>\n",
       "      <td>2004</td>\n",
       "      <td>2004-01</td>\n",
       "      <td>2004-01</td>\n",
       "      <td>BANGALORE</td>\n",
       "    </tr>\n",
       "    <tr>\n",
       "      <th>3</th>\n",
       "      <td>4</td>\n",
       "      <td>A1</td>\n",
       "      <td>2004-01-25</td>\n",
       "      <td>FOOD</td>\n",
       "      <td>341.160</td>\n",
       "      <td>1</td>\n",
       "      <td>2004</td>\n",
       "      <td>2004-01</td>\n",
       "      <td>2004-01</td>\n",
       "      <td>BANGALORE</td>\n",
       "    </tr>\n",
       "    <tr>\n",
       "      <th>4</th>\n",
       "      <td>5</td>\n",
       "      <td>A1</td>\n",
       "      <td>2005-01-17</td>\n",
       "      <td>CAMERA</td>\n",
       "      <td>3406.639</td>\n",
       "      <td>1</td>\n",
       "      <td>2005</td>\n",
       "      <td>2005-01</td>\n",
       "      <td>2005-01</td>\n",
       "      <td>BANGALORE</td>\n",
       "    </tr>\n",
       "  </tbody>\n",
       "</table>\n",
       "</div>"
      ],
      "text/plain": [
       "   Sl No: Customer      Month       Type      Amount  month  year  ym-date year_month       City\n",
       "0       1       A1 2004-01-12  JEWELLERY  344054.981      1  2004  2004-01    2004-01  BANGALORE\n",
       "1       2       A1 2004-01-03      PETRO     935.495      1  2004  2004-01    2004-01  BANGALORE\n",
       "2       3       A1 2004-01-15    CLOTHES    8687.895      1  2004  2004-01    2004-01  BANGALORE\n",
       "3       4       A1 2004-01-25       FOOD     341.160      1  2004  2004-01    2004-01  BANGALORE\n",
       "4       5       A1 2005-01-17     CAMERA    3406.639      1  2005  2005-01    2005-01  BANGALORE"
      ]
     },
     "execution_count": 300,
     "metadata": {},
     "output_type": "execute_result"
    }
   ],
   "source": [
    "\n",
    "merged_df3 = pd.merge(cc_spend_data, cc_cust_data[['Customer', 'City']],  how='left', left_on='Customer', right_on = 'Customer')\n",
    "merged_df3.head()\n",
    "\n",
    "merged_df3.drop('City_x', axis = 1, inplace = True)\n",
    "merged_df3.rename(columns = {'City_y' : 'City'}, inplace = True)\n",
    "merged_df3.head()\n"
   ]
  },
  {
   "cell_type": "code",
   "execution_count": 301,
   "id": "2178b9ad",
   "metadata": {},
   "outputs": [
    {
     "data": {
      "text/html": [
       "<div>\n",
       "<style scoped>\n",
       "    .dataframe tbody tr th:only-of-type {\n",
       "        vertical-align: middle;\n",
       "    }\n",
       "\n",
       "    .dataframe tbody tr th {\n",
       "        vertical-align: top;\n",
       "    }\n",
       "\n",
       "    .dataframe thead th {\n",
       "        text-align: right;\n",
       "    }\n",
       "</style>\n",
       "<table border=\"1\" class=\"dataframe\">\n",
       "  <thead>\n",
       "    <tr style=\"text-align: right;\">\n",
       "      <th></th>\n",
       "      <th>Sl No:</th>\n",
       "      <th>Customer</th>\n",
       "      <th>Month</th>\n",
       "      <th>Type</th>\n",
       "      <th>Amount</th>\n",
       "      <th>month</th>\n",
       "      <th>year</th>\n",
       "      <th>ym-date</th>\n",
       "      <th>year_month</th>\n",
       "      <th>City</th>\n",
       "    </tr>\n",
       "  </thead>\n",
       "  <tbody>\n",
       "    <tr>\n",
       "      <th>0</th>\n",
       "      <td>1</td>\n",
       "      <td>A1</td>\n",
       "      <td>2004-01-12</td>\n",
       "      <td>JEWELLERY</td>\n",
       "      <td>344054.981</td>\n",
       "      <td>1</td>\n",
       "      <td>2004</td>\n",
       "      <td>2004-01</td>\n",
       "      <td>2004-01</td>\n",
       "      <td>BANGALORE</td>\n",
       "    </tr>\n",
       "    <tr>\n",
       "      <th>1</th>\n",
       "      <td>2</td>\n",
       "      <td>A1</td>\n",
       "      <td>2004-01-03</td>\n",
       "      <td>PETRO</td>\n",
       "      <td>935.495</td>\n",
       "      <td>1</td>\n",
       "      <td>2004</td>\n",
       "      <td>2004-01</td>\n",
       "      <td>2004-01</td>\n",
       "      <td>BANGALORE</td>\n",
       "    </tr>\n",
       "    <tr>\n",
       "      <th>2</th>\n",
       "      <td>3</td>\n",
       "      <td>A1</td>\n",
       "      <td>2004-01-15</td>\n",
       "      <td>CLOTHES</td>\n",
       "      <td>8687.895</td>\n",
       "      <td>1</td>\n",
       "      <td>2004</td>\n",
       "      <td>2004-01</td>\n",
       "      <td>2004-01</td>\n",
       "      <td>BANGALORE</td>\n",
       "    </tr>\n",
       "    <tr>\n",
       "      <th>3</th>\n",
       "      <td>4</td>\n",
       "      <td>A1</td>\n",
       "      <td>2004-01-25</td>\n",
       "      <td>FOOD</td>\n",
       "      <td>341.160</td>\n",
       "      <td>1</td>\n",
       "      <td>2004</td>\n",
       "      <td>2004-01</td>\n",
       "      <td>2004-01</td>\n",
       "      <td>BANGALORE</td>\n",
       "    </tr>\n",
       "    <tr>\n",
       "      <th>4</th>\n",
       "      <td>5</td>\n",
       "      <td>A1</td>\n",
       "      <td>2005-01-17</td>\n",
       "      <td>CAMERA</td>\n",
       "      <td>3406.639</td>\n",
       "      <td>1</td>\n",
       "      <td>2005</td>\n",
       "      <td>2005-01</td>\n",
       "      <td>2005-01</td>\n",
       "      <td>BANGALORE</td>\n",
       "    </tr>\n",
       "  </tbody>\n",
       "</table>\n",
       "</div>"
      ],
      "text/plain": [
       "   Sl No: Customer      Month       Type      Amount  month  year  ym-date year_month       City\n",
       "0       1       A1 2004-01-12  JEWELLERY  344054.981      1  2004  2004-01    2004-01  BANGALORE\n",
       "1       2       A1 2004-01-03      PETRO     935.495      1  2004  2004-01    2004-01  BANGALORE\n",
       "2       3       A1 2004-01-15    CLOTHES    8687.895      1  2004  2004-01    2004-01  BANGALORE\n",
       "3       4       A1 2004-01-25       FOOD     341.160      1  2004  2004-01    2004-01  BANGALORE\n",
       "4       5       A1 2005-01-17     CAMERA    3406.639      1  2005  2005-01    2005-01  BANGALORE"
      ]
     },
     "execution_count": 301,
     "metadata": {},
     "output_type": "execute_result"
    }
   ],
   "source": [
    "merged_df3.head()\n"
   ]
  },
  {
   "cell_type": "code",
   "execution_count": 313,
   "id": "912f0475",
   "metadata": {},
   "outputs": [],
   "source": [
    "df_month_city = merged_df3.groupby(['month', 'City']).sum()['Amount']"
   ]
  },
  {
   "cell_type": "code",
   "execution_count": 328,
   "id": "ae73da5b",
   "metadata": {
    "scrolled": true
   },
   "outputs": [
    {
     "data": {
      "text/plain": [
       "level_0      int64\n",
       "index        int64\n",
       "month        int64\n",
       "City        object\n",
       "Amount     float64\n",
       "dtype: object"
      ]
     },
     "execution_count": 328,
     "metadata": {},
     "output_type": "execute_result"
    }
   ],
   "source": [
    "df_month_city = df_month_city.reset_index()\n",
    "df_month_city.dtypes"
   ]
  },
  {
   "cell_type": "code",
   "execution_count": 378,
   "id": "b08841ee",
   "metadata": {},
   "outputs": [
    {
     "name": "stdout",
     "output_type": "stream",
     "text": [
      "BOMBAY\n"
     ]
    }
   ],
   "source": [
    "#Attempting a hardcoded example for march month before implementing the for loop\n",
    "bool_month = df_month_city['month'] == 3\n",
    "df5 = df_month_city[bool_month]\n",
    "bool_max = df5['Amount'] == df5['Amount'].max()\n",
    "a = df5.loc[bool_max,'City']\n",
    "print(a.values[0])"
   ]
  },
  {
   "cell_type": "code",
   "execution_count": 394,
   "id": "2eb6f884",
   "metadata": {},
   "outputs": [
    {
     "name": "stdout",
     "output_type": "stream",
     "text": [
      "The max buyers for month 1 are from the city COCHIN\n",
      "The max buyers for month 2 are from the city COCHIN\n",
      "The max buyers for month 3 are from the city BOMBAY\n",
      "The max buyers for month 4 are from the city COCHIN\n",
      "The max buyers for month 5 are from the city BANGALORE\n",
      "The max buyers for month 6 are from the city COCHIN\n",
      "The max buyers for month 7 are from the city COCHIN\n",
      "The max buyers for month 8 are from the city BOMBAY\n",
      "The max buyers for month 9 are from the city CALCUTTA\n",
      "The max buyers for month 10 are from the city BANGALORE\n",
      "The max buyers for month 11 are from the city BOMBAY\n",
      "The max buyers for month 12 are from the city COCHIN\n"
     ]
    }
   ],
   "source": [
    "month_list = list(range(1,13))\n",
    "max_city_list = []\n",
    "max_city_dict = {}\n",
    "\n",
    "for month in month_list:\n",
    "    bool_month = df_month_city['month'] == month\n",
    "    df5 = df_month_city[bool_month]\n",
    "    bool_max = df5['Amount'] == df5['Amount'].max()\n",
    "    a = df5.loc[bool_max,'City'].values[0]\n",
    "    if a not in max_city_list:\n",
    "        max_city_list.append(a)\n",
    "    if a not in max_city_dict:\n",
    "        max_city_dict[month] = a\n",
    "    print('The max buyers for month {x} are from the city {y}'.format(x = month, y = a))\n"
   ]
  },
  {
   "cell_type": "code",
   "execution_count": 385,
   "id": "4b154c41",
   "metadata": {
    "scrolled": true
   },
   "outputs": [
    {
     "data": {
      "text/plain": [
       "['COCHIN', 'BOMBAY', 'BANGALORE', 'CALCUTTA']"
      ]
     },
     "execution_count": 385,
     "metadata": {},
     "output_type": "execute_result"
    }
   ],
   "source": [
    "max_city_list"
   ]
  },
  {
   "cell_type": "code",
   "execution_count": 396,
   "id": "48cea633",
   "metadata": {},
   "outputs": [
    {
     "name": "stdout",
     "output_type": "stream",
     "text": [
      "{1: 'COCHIN', 2: 'COCHIN', 3: 'BOMBAY', 4: 'COCHIN', 5: 'BANGALORE', 6: 'COCHIN', 7: 'COCHIN', 8: 'BOMBAY', 9: 'CALCUTTA', 10: 'BANGALORE', 11: 'BOMBAY', 12: 'COCHIN'}\n"
     ]
    }
   ],
   "source": [
    "print(max_city_dict)"
   ]
  },
  {
   "cell_type": "code",
   "execution_count": 392,
   "id": "da8c6e8d",
   "metadata": {},
   "outputs": [
    {
     "data": {
      "text/plain": [
       "['BANGALORE',\n",
       " 'COCHIN',\n",
       " 'CALCUTTA',\n",
       " 'BOMBAY',\n",
       " 'CHENNAI',\n",
       " 'TRIVANDRUM',\n",
       " 'PATNA',\n",
       " 'DELHI']"
      ]
     },
     "execution_count": 392,
     "metadata": {},
     "output_type": "execute_result"
    }
   ],
   "source": [
    "all_city_list = list(merged_df3['City'].value_counts().index)\n",
    "all_city_list"
   ]
  },
  {
   "cell_type": "code",
   "execution_count": 393,
   "id": "a2841252",
   "metadata": {},
   "outputs": [
    {
     "name": "stdout",
     "output_type": "stream",
     "text": [
      "['CHENNAI', 'TRIVANDRUM', 'PATNA', 'DELHI']\n"
     ]
    }
   ],
   "source": [
    "#Getting the cities not in max city list\n",
    "cities_needing_campaigning = []\n",
    "for city in all_city_list:\n",
    "    if city not in max_city_list:\n",
    "        cities_needing_campaigning.append(city)\n",
    "\n",
    "print(cities_needing_campaigning)"
   ]
  },
  {
   "cell_type": "markdown",
   "id": "e73b06ae",
   "metadata": {},
   "source": [
    "#### Ans 3.f :Which city has the maximum number of spenders, each month? Is there a need to run campaigns in specific cities\n",
    "             max_city_dict = {1: 'COCHIN', 2: 'COCHIN', 3: 'BOMBAY', 4: 'COCHIN', 5: 'BANGALORE', 6: 'COCHIN', 7: 'COCHIN',                                   8: 'BOMBAY', 9: 'CALCUTTA', 10: 'BANGALORE', 11: 'BOMBAY', 12: 'COCHIN'}\n",
    "             max_city list = ['COCHIN', 'BOMBAY', 'BANGALORE', 'CALCUTTA']\n",
    "             cities_needing_campaigninng = ['CHENNAI', 'TRIVANDRUM', 'PATNA', 'DELHI']\n",
    "             \n"
   ]
  },
  {
   "cell_type": "markdown",
   "id": "99e4d527",
   "metadata": {},
   "source": [
    "#### 3.g - Which age group spends the most"
   ]
  },
  {
   "cell_type": "code",
   "execution_count": 398,
   "id": "e61561ea",
   "metadata": {},
   "outputs": [
    {
     "data": {
      "text/html": [
       "<div>\n",
       "<style scoped>\n",
       "    .dataframe tbody tr th:only-of-type {\n",
       "        vertical-align: middle;\n",
       "    }\n",
       "\n",
       "    .dataframe tbody tr th {\n",
       "        vertical-align: top;\n",
       "    }\n",
       "\n",
       "    .dataframe thead th {\n",
       "        text-align: right;\n",
       "    }\n",
       "</style>\n",
       "<table border=\"1\" class=\"dataframe\">\n",
       "  <thead>\n",
       "    <tr style=\"text-align: right;\">\n",
       "      <th></th>\n",
       "      <th>Sl No:</th>\n",
       "      <th>Customer</th>\n",
       "      <th>Month</th>\n",
       "      <th>Type</th>\n",
       "      <th>Amount</th>\n",
       "      <th>month</th>\n",
       "      <th>year</th>\n",
       "      <th>ym-date</th>\n",
       "      <th>year_month</th>\n",
       "      <th>City</th>\n",
       "      <th>Age</th>\n",
       "    </tr>\n",
       "  </thead>\n",
       "  <tbody>\n",
       "    <tr>\n",
       "      <th>0</th>\n",
       "      <td>1</td>\n",
       "      <td>A1</td>\n",
       "      <td>2004-01-12</td>\n",
       "      <td>JEWELLERY</td>\n",
       "      <td>344054.981</td>\n",
       "      <td>1</td>\n",
       "      <td>2004</td>\n",
       "      <td>2004-01</td>\n",
       "      <td>2004-01</td>\n",
       "      <td>BANGALORE</td>\n",
       "      <td>47.0</td>\n",
       "    </tr>\n",
       "    <tr>\n",
       "      <th>1</th>\n",
       "      <td>2</td>\n",
       "      <td>A1</td>\n",
       "      <td>2004-01-03</td>\n",
       "      <td>PETRO</td>\n",
       "      <td>935.495</td>\n",
       "      <td>1</td>\n",
       "      <td>2004</td>\n",
       "      <td>2004-01</td>\n",
       "      <td>2004-01</td>\n",
       "      <td>BANGALORE</td>\n",
       "      <td>47.0</td>\n",
       "    </tr>\n",
       "    <tr>\n",
       "      <th>2</th>\n",
       "      <td>3</td>\n",
       "      <td>A1</td>\n",
       "      <td>2004-01-15</td>\n",
       "      <td>CLOTHES</td>\n",
       "      <td>8687.895</td>\n",
       "      <td>1</td>\n",
       "      <td>2004</td>\n",
       "      <td>2004-01</td>\n",
       "      <td>2004-01</td>\n",
       "      <td>BANGALORE</td>\n",
       "      <td>47.0</td>\n",
       "    </tr>\n",
       "    <tr>\n",
       "      <th>3</th>\n",
       "      <td>4</td>\n",
       "      <td>A1</td>\n",
       "      <td>2004-01-25</td>\n",
       "      <td>FOOD</td>\n",
       "      <td>341.160</td>\n",
       "      <td>1</td>\n",
       "      <td>2004</td>\n",
       "      <td>2004-01</td>\n",
       "      <td>2004-01</td>\n",
       "      <td>BANGALORE</td>\n",
       "      <td>47.0</td>\n",
       "    </tr>\n",
       "    <tr>\n",
       "      <th>4</th>\n",
       "      <td>5</td>\n",
       "      <td>A1</td>\n",
       "      <td>2005-01-17</td>\n",
       "      <td>CAMERA</td>\n",
       "      <td>3406.639</td>\n",
       "      <td>1</td>\n",
       "      <td>2005</td>\n",
       "      <td>2005-01</td>\n",
       "      <td>2005-01</td>\n",
       "      <td>BANGALORE</td>\n",
       "      <td>47.0</td>\n",
       "    </tr>\n",
       "  </tbody>\n",
       "</table>\n",
       "</div>"
      ],
      "text/plain": [
       "   Sl No: Customer      Month       Type      Amount  month  year  ym-date year_month       City   Age\n",
       "0       1       A1 2004-01-12  JEWELLERY  344054.981      1  2004  2004-01    2004-01  BANGALORE  47.0\n",
       "1       2       A1 2004-01-03      PETRO     935.495      1  2004  2004-01    2004-01  BANGALORE  47.0\n",
       "2       3       A1 2004-01-15    CLOTHES    8687.895      1  2004  2004-01    2004-01  BANGALORE  47.0\n",
       "3       4       A1 2004-01-25       FOOD     341.160      1  2004  2004-01    2004-01  BANGALORE  47.0\n",
       "4       5       A1 2005-01-17     CAMERA    3406.639      1  2005  2005-01    2005-01  BANGALORE  47.0"
      ]
     },
     "execution_count": 398,
     "metadata": {},
     "output_type": "execute_result"
    }
   ],
   "source": [
    "merged_df4 = pd.merge(cc_spend_data, cc_cust_data[['Customer', 'City','Age']],  how='left', left_on='Customer', right_on = 'Customer')\n",
    "merged_df4.head()\n",
    "\n",
    "merged_df4.drop('City_x', axis = 1, inplace = True)\n",
    "merged_df4.rename(columns = {'City_y' : 'City'}, inplace = True)\n",
    "merged_df4.head()"
   ]
  },
  {
   "cell_type": "code",
   "execution_count": 399,
   "id": "c1410473",
   "metadata": {},
   "outputs": [],
   "source": [
    "df_age = merged_df4.groupby(['Age']).sum()['Amount']"
   ]
  },
  {
   "cell_type": "code",
   "execution_count": 402,
   "id": "dd872242",
   "metadata": {},
   "outputs": [],
   "source": [
    "merged_df4.to_excel('merged_df4.xlsx')"
   ]
  },
  {
   "cell_type": "code",
   "execution_count": 404,
   "id": "d0f342cd",
   "metadata": {},
   "outputs": [],
   "source": [
    "test_bin_df = merged_df4"
   ]
  },
  {
   "cell_type": "code",
   "execution_count": 405,
   "id": "dad4c9ca",
   "metadata": {},
   "outputs": [
    {
     "ename": "TypeError",
     "evalue": "'float' object cannot be interpreted as an integer",
     "output_type": "error",
     "traceback": [
      "\u001b[1;31m---------------------------------------------------------------------------\u001b[0m",
      "\u001b[1;31mTypeError\u001b[0m                                 Traceback (most recent call last)",
      "\u001b[1;32m<ipython-input-405-f2898f28f170>\u001b[0m in \u001b[0;36m<module>\u001b[1;34m\u001b[0m\n\u001b[1;32m----> 1\u001b[1;33m \u001b[0ma\u001b[0m \u001b[1;33m=\u001b[0m \u001b[0mrange\u001b[0m\u001b[1;33m(\u001b[0m\u001b[0mtest_bin_df\u001b[0m\u001b[1;33m[\u001b[0m\u001b[1;34m'Age'\u001b[0m\u001b[1;33m]\u001b[0m\u001b[1;33m.\u001b[0m\u001b[0mmin\u001b[0m\u001b[1;33m(\u001b[0m\u001b[1;33m)\u001b[0m\u001b[1;33m,\u001b[0m \u001b[0mtest_bin_df\u001b[0m\u001b[1;33m[\u001b[0m\u001b[1;34m'Age'\u001b[0m\u001b[1;33m]\u001b[0m\u001b[1;33m.\u001b[0m\u001b[0mmax\u001b[0m\u001b[1;33m(\u001b[0m\u001b[1;33m)\u001b[0m\u001b[1;33m)\u001b[0m\u001b[1;33m\u001b[0m\u001b[1;33m\u001b[0m\u001b[0m\n\u001b[0m",
      "\u001b[1;31mTypeError\u001b[0m: 'float' object cannot be interpreted as an integer"
     ]
    }
   ],
   "source": [
    "a = range(test_bin_df['Age'].min(), test_bin_df['Age'].max())"
   ]
  },
  {
   "cell_type": "code",
   "execution_count": 414,
   "id": "9ed155a6",
   "metadata": {},
   "outputs": [],
   "source": [
    "#a = range(test_bin_df['Age'].min(), test_bin_df['Age'].max())\n",
    "test_bin_df['bin'] = pd.cut(test_bin_df['Age'], bins = [0,20,35,50,100,150])"
   ]
  },
  {
   "cell_type": "code",
   "execution_count": 413,
   "id": "8734727b",
   "metadata": {},
   "outputs": [
    {
     "data": {
      "text/html": [
       "<div>\n",
       "<style scoped>\n",
       "    .dataframe tbody tr th:only-of-type {\n",
       "        vertical-align: middle;\n",
       "    }\n",
       "\n",
       "    .dataframe tbody tr th {\n",
       "        vertical-align: top;\n",
       "    }\n",
       "\n",
       "    .dataframe thead th {\n",
       "        text-align: right;\n",
       "    }\n",
       "</style>\n",
       "<table border=\"1\" class=\"dataframe\">\n",
       "  <thead>\n",
       "    <tr style=\"text-align: right;\">\n",
       "      <th></th>\n",
       "      <th>Sl No:</th>\n",
       "      <th>Customer</th>\n",
       "      <th>Month</th>\n",
       "      <th>Type</th>\n",
       "      <th>Amount</th>\n",
       "      <th>month</th>\n",
       "      <th>year</th>\n",
       "      <th>ym-date</th>\n",
       "      <th>year_month</th>\n",
       "      <th>City</th>\n",
       "      <th>Age</th>\n",
       "      <th>bin</th>\n",
       "    </tr>\n",
       "  </thead>\n",
       "  <tbody>\n",
       "    <tr>\n",
       "      <th>0</th>\n",
       "      <td>1</td>\n",
       "      <td>A1</td>\n",
       "      <td>2004-01-12</td>\n",
       "      <td>JEWELLERY</td>\n",
       "      <td>344054.981</td>\n",
       "      <td>1</td>\n",
       "      <td>2004</td>\n",
       "      <td>2004-01</td>\n",
       "      <td>2004-01</td>\n",
       "      <td>BANGALORE</td>\n",
       "      <td>47.00</td>\n",
       "      <td>(10, 50]</td>\n",
       "    </tr>\n",
       "    <tr>\n",
       "      <th>1</th>\n",
       "      <td>2</td>\n",
       "      <td>A1</td>\n",
       "      <td>2004-01-03</td>\n",
       "      <td>PETRO</td>\n",
       "      <td>935.495</td>\n",
       "      <td>1</td>\n",
       "      <td>2004</td>\n",
       "      <td>2004-01</td>\n",
       "      <td>2004-01</td>\n",
       "      <td>BANGALORE</td>\n",
       "      <td>47.00</td>\n",
       "      <td>(10, 50]</td>\n",
       "    </tr>\n",
       "    <tr>\n",
       "      <th>2</th>\n",
       "      <td>3</td>\n",
       "      <td>A1</td>\n",
       "      <td>2004-01-15</td>\n",
       "      <td>CLOTHES</td>\n",
       "      <td>8687.895</td>\n",
       "      <td>1</td>\n",
       "      <td>2004</td>\n",
       "      <td>2004-01</td>\n",
       "      <td>2004-01</td>\n",
       "      <td>BANGALORE</td>\n",
       "      <td>47.00</td>\n",
       "      <td>(10, 50]</td>\n",
       "    </tr>\n",
       "    <tr>\n",
       "      <th>3</th>\n",
       "      <td>4</td>\n",
       "      <td>A1</td>\n",
       "      <td>2004-01-25</td>\n",
       "      <td>FOOD</td>\n",
       "      <td>341.160</td>\n",
       "      <td>1</td>\n",
       "      <td>2004</td>\n",
       "      <td>2004-01</td>\n",
       "      <td>2004-01</td>\n",
       "      <td>BANGALORE</td>\n",
       "      <td>47.00</td>\n",
       "      <td>(10, 50]</td>\n",
       "    </tr>\n",
       "    <tr>\n",
       "      <th>...</th>\n",
       "      <td>...</td>\n",
       "      <td>...</td>\n",
       "      <td>...</td>\n",
       "      <td>...</td>\n",
       "      <td>...</td>\n",
       "      <td>...</td>\n",
       "      <td>...</td>\n",
       "      <td>...</td>\n",
       "      <td>...</td>\n",
       "      <td>...</td>\n",
       "      <td>...</td>\n",
       "      <td>...</td>\n",
       "    </tr>\n",
       "    <tr>\n",
       "      <th>1496</th>\n",
       "      <td>1497</td>\n",
       "      <td>A68</td>\n",
       "      <td>2006-03-25</td>\n",
       "      <td>BUS TICKET</td>\n",
       "      <td>22218.201</td>\n",
       "      <td>3</td>\n",
       "      <td>2006</td>\n",
       "      <td>2006-03</td>\n",
       "      <td>2006-03</td>\n",
       "      <td>TRIVANDRUM</td>\n",
       "      <td>44.00</td>\n",
       "      <td>(10, 50]</td>\n",
       "    </tr>\n",
       "    <tr>\n",
       "      <th>1497</th>\n",
       "      <td>1498</td>\n",
       "      <td>A69</td>\n",
       "      <td>2006-03-31</td>\n",
       "      <td>BUS TICKET</td>\n",
       "      <td>10004.908</td>\n",
       "      <td>3</td>\n",
       "      <td>2006</td>\n",
       "      <td>2006-03</td>\n",
       "      <td>2006-03</td>\n",
       "      <td>CALCUTTA</td>\n",
       "      <td>30.00</td>\n",
       "      <td>(10, 50]</td>\n",
       "    </tr>\n",
       "    <tr>\n",
       "      <th>1498</th>\n",
       "      <td>1499</td>\n",
       "      <td>A70</td>\n",
       "      <td>2006-03-23</td>\n",
       "      <td>BUS TICKET</td>\n",
       "      <td>31630.825</td>\n",
       "      <td>3</td>\n",
       "      <td>2006</td>\n",
       "      <td>2006-03</td>\n",
       "      <td>2006-03</td>\n",
       "      <td>BOMBAY</td>\n",
       "      <td>46.46</td>\n",
       "      <td>(10, 50]</td>\n",
       "    </tr>\n",
       "    <tr>\n",
       "      <th>1499</th>\n",
       "      <td>1500</td>\n",
       "      <td>A71</td>\n",
       "      <td>2006-03-24</td>\n",
       "      <td>BUS TICKET</td>\n",
       "      <td>33048.374</td>\n",
       "      <td>3</td>\n",
       "      <td>2006</td>\n",
       "      <td>2006-03</td>\n",
       "      <td>2006-03</td>\n",
       "      <td>BOMBAY</td>\n",
       "      <td>46.00</td>\n",
       "      <td>(10, 50]</td>\n",
       "    </tr>\n",
       "  </tbody>\n",
       "</table>\n",
       "<p>1500 rows × 12 columns</p>\n",
       "</div>"
      ],
      "text/plain": [
       "      Sl No: Customer      Month        Type      Amount  month  year  ym-date year_month        City    Age       bin\n",
       "0          1       A1 2004-01-12   JEWELLERY  344054.981      1  2004  2004-01    2004-01   BANGALORE  47.00  (10, 50]\n",
       "1          2       A1 2004-01-03       PETRO     935.495      1  2004  2004-01    2004-01   BANGALORE  47.00  (10, 50]\n",
       "2          3       A1 2004-01-15     CLOTHES    8687.895      1  2004  2004-01    2004-01   BANGALORE  47.00  (10, 50]\n",
       "3          4       A1 2004-01-25        FOOD     341.160      1  2004  2004-01    2004-01   BANGALORE  47.00  (10, 50]\n",
       "...      ...      ...        ...         ...         ...    ...   ...      ...        ...         ...    ...       ...\n",
       "1496    1497      A68 2006-03-25  BUS TICKET   22218.201      3  2006  2006-03    2006-03  TRIVANDRUM  44.00  (10, 50]\n",
       "1497    1498      A69 2006-03-31  BUS TICKET   10004.908      3  2006  2006-03    2006-03    CALCUTTA  30.00  (10, 50]\n",
       "1498    1499      A70 2006-03-23  BUS TICKET   31630.825      3  2006  2006-03    2006-03      BOMBAY  46.46  (10, 50]\n",
       "1499    1500      A71 2006-03-24  BUS TICKET   33048.374      3  2006  2006-03    2006-03      BOMBAY  46.00  (10, 50]\n",
       "\n",
       "[1500 rows x 12 columns]"
      ]
     },
     "execution_count": 413,
     "metadata": {},
     "output_type": "execute_result"
    }
   ],
   "source": [
    "test_bin_df"
   ]
  },
  {
   "cell_type": "code",
   "execution_count": 415,
   "id": "54b4f6ef",
   "metadata": {},
   "outputs": [],
   "source": [
    "df_age = test_bin_df.groupby(['bin']).sum()['Amount']"
   ]
  },
  {
   "cell_type": "code",
   "execution_count": 420,
   "id": "1d02af9d",
   "metadata": {},
   "outputs": [
    {
     "data": {
      "text/plain": [
       "Interval(50, 100, closed='right')"
      ]
     },
     "execution_count": 420,
     "metadata": {},
     "output_type": "execute_result"
    }
   ],
   "source": [
    "df_age.idxmax()"
   ]
  },
  {
   "cell_type": "markdown",
   "id": "fa55a483",
   "metadata": {},
   "source": [
    "#### 3.g- Thus we can see that the age group 50-100 spends the maximum"
   ]
  },
  {
   "cell_type": "code",
   "execution_count": null,
   "id": "da95a8ae",
   "metadata": {},
   "outputs": [],
   "source": []
  }
 ],
 "metadata": {
  "hide_input": false,
  "kernelspec": {
   "display_name": "Python 3",
   "language": "python",
   "name": "python3"
  },
  "language_info": {
   "codemirror_mode": {
    "name": "ipython",
    "version": 3
   },
   "file_extension": ".py",
   "mimetype": "text/x-python",
   "name": "python",
   "nbconvert_exporter": "python",
   "pygments_lexer": "ipython3",
   "version": "3.8.8"
  }
 },
 "nbformat": 4,
 "nbformat_minor": 5
}
