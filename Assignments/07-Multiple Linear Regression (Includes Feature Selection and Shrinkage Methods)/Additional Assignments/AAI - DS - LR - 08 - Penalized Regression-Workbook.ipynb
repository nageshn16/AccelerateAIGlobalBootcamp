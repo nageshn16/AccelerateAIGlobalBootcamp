{
 "cells": [
  {
   "cell_type": "markdown",
   "metadata": {},
   "source": [
    "### Reularized Regression - For Variable Selection\n",
    "\n",
    "##### The regularized Linear Regression techniques for feature selection as well as avoiding overfit in linear regression. \n",
    "- Lasso\n",
    "- Ridge \n",
    "- ElasticNet "
   ]
  },
  {
   "cell_type": "code",
   "execution_count": 1,
   "metadata": {},
   "outputs": [],
   "source": [
    "import pandas as pd\n",
    "import numpy as np\n",
    "import matplotlib.pyplot as plt\n",
    "\n",
    "import warnings\n",
    "warnings.filterwarnings('ignore')"
   ]
  },
  {
   "cell_type": "code",
   "execution_count": 2,
   "metadata": {},
   "outputs": [],
   "source": [
    "from sklearn.datasets import make_regression"
   ]
  },
  {
   "cell_type": "code",
   "execution_count": 3,
   "metadata": {},
   "outputs": [],
   "source": [
    "# Create a synthetic data using make_regression\n",
    "X,y = make_regression(n_features=4, n_samples=20, noise=1)"
   ]
  },
  {
   "cell_type": "code",
   "execution_count": 4,
   "metadata": {},
   "outputs": [
    {
     "data": {
      "text/html": [
       "<div>\n",
       "<style scoped>\n",
       "    .dataframe tbody tr th:only-of-type {\n",
       "        vertical-align: middle;\n",
       "    }\n",
       "\n",
       "    .dataframe tbody tr th {\n",
       "        vertical-align: top;\n",
       "    }\n",
       "\n",
       "    .dataframe thead th {\n",
       "        text-align: right;\n",
       "    }\n",
       "</style>\n",
       "<table border=\"1\" class=\"dataframe\">\n",
       "  <thead>\n",
       "    <tr style=\"text-align: right;\">\n",
       "      <th></th>\n",
       "      <th>0</th>\n",
       "      <th>1</th>\n",
       "      <th>2</th>\n",
       "      <th>3</th>\n",
       "    </tr>\n",
       "  </thead>\n",
       "  <tbody>\n",
       "    <tr>\n",
       "      <th>0</th>\n",
       "      <td>0.844260</td>\n",
       "      <td>-0.466985</td>\n",
       "      <td>-2.913588</td>\n",
       "      <td>-2.059470</td>\n",
       "    </tr>\n",
       "    <tr>\n",
       "      <th>1</th>\n",
       "      <td>0.996648</td>\n",
       "      <td>0.444677</td>\n",
       "      <td>-0.226364</td>\n",
       "      <td>0.744475</td>\n",
       "    </tr>\n",
       "    <tr>\n",
       "      <th>2</th>\n",
       "      <td>2.702947</td>\n",
       "      <td>0.043554</td>\n",
       "      <td>1.037890</td>\n",
       "      <td>-0.148727</td>\n",
       "    </tr>\n",
       "    <tr>\n",
       "      <th>3</th>\n",
       "      <td>-0.414034</td>\n",
       "      <td>-0.053779</td>\n",
       "      <td>0.137005</td>\n",
       "      <td>-1.461958</td>\n",
       "    </tr>\n",
       "    <tr>\n",
       "      <th>4</th>\n",
       "      <td>-0.194662</td>\n",
       "      <td>0.139966</td>\n",
       "      <td>-0.251178</td>\n",
       "      <td>-2.368712</td>\n",
       "    </tr>\n",
       "  </tbody>\n",
       "</table>\n",
       "</div>"
      ],
      "text/plain": [
       "          0         1         2         3\n",
       "0  0.844260 -0.466985 -2.913588 -2.059470\n",
       "1  0.996648  0.444677 -0.226364  0.744475\n",
       "2  2.702947  0.043554  1.037890 -0.148727\n",
       "3 -0.414034 -0.053779  0.137005 -1.461958\n",
       "4 -0.194662  0.139966 -0.251178 -2.368712"
      ]
     },
     "execution_count": 4,
     "metadata": {},
     "output_type": "execute_result"
    }
   ],
   "source": [
    "X_new = pd.DataFrame(X)\n",
    "X_new.head()"
   ]
  },
  {
   "cell_type": "code",
   "execution_count": 5,
   "metadata": {},
   "outputs": [],
   "source": [
    "# creating 4 random variables \n",
    "randomVar_1 = np.random.uniform(low=-1, high=1, size=20)\n",
    "randomVar_2 = np.random.uniform(low=-1, high=1, size=20)\n",
    "randomVar_3 = np.random.uniform(low=-1, high=1, size=20)\n",
    "randomVar_4 = np.random.uniform(low=-1, high=1, size=20)"
   ]
  },
  {
   "cell_type": "code",
   "execution_count": 6,
   "metadata": {},
   "outputs": [
    {
     "name": "stdout",
     "output_type": "stream",
     "text": [
      "[-0.97206622 -0.44969593  0.12411009 -0.58484078  0.90420241 -0.31351863\n",
      "  0.18458327  0.61764591  0.15017804 -0.28003657  0.88992642 -0.53860844\n",
      " -0.59314101 -0.11219711  0.35537655 -0.18089293  0.91231146 -0.99898508\n",
      "  0.81769293  0.34874843]\n"
     ]
    }
   ],
   "source": [
    "print(randomVar_1)"
   ]
  },
  {
   "cell_type": "code",
   "execution_count": 7,
   "metadata": {},
   "outputs": [],
   "source": [
    "# append them to the independent variables list \n",
    "X_new[\"rv1\"] = randomVar_1\n",
    "X_new[\"rv2\"] = randomVar_2\n",
    "X_new[\"rv3\"] = randomVar_3\n",
    "X_new[\"rv4\"] = randomVar_4"
   ]
  },
  {
   "cell_type": "code",
   "execution_count": 8,
   "metadata": {},
   "outputs": [
    {
     "data": {
      "text/html": [
       "<div>\n",
       "<style scoped>\n",
       "    .dataframe tbody tr th:only-of-type {\n",
       "        vertical-align: middle;\n",
       "    }\n",
       "\n",
       "    .dataframe tbody tr th {\n",
       "        vertical-align: top;\n",
       "    }\n",
       "\n",
       "    .dataframe thead th {\n",
       "        text-align: right;\n",
       "    }\n",
       "</style>\n",
       "<table border=\"1\" class=\"dataframe\">\n",
       "  <thead>\n",
       "    <tr style=\"text-align: right;\">\n",
       "      <th></th>\n",
       "      <th>0</th>\n",
       "      <th>1</th>\n",
       "      <th>2</th>\n",
       "      <th>3</th>\n",
       "      <th>rv1</th>\n",
       "      <th>rv2</th>\n",
       "      <th>rv3</th>\n",
       "      <th>rv4</th>\n",
       "    </tr>\n",
       "  </thead>\n",
       "  <tbody>\n",
       "    <tr>\n",
       "      <th>0</th>\n",
       "      <td>0.844260</td>\n",
       "      <td>-0.466985</td>\n",
       "      <td>-2.913588</td>\n",
       "      <td>-2.059470</td>\n",
       "      <td>-0.972066</td>\n",
       "      <td>-0.126143</td>\n",
       "      <td>0.893637</td>\n",
       "      <td>0.504738</td>\n",
       "    </tr>\n",
       "    <tr>\n",
       "      <th>1</th>\n",
       "      <td>0.996648</td>\n",
       "      <td>0.444677</td>\n",
       "      <td>-0.226364</td>\n",
       "      <td>0.744475</td>\n",
       "      <td>-0.449696</td>\n",
       "      <td>-0.976967</td>\n",
       "      <td>0.013427</td>\n",
       "      <td>-0.695154</td>\n",
       "    </tr>\n",
       "    <tr>\n",
       "      <th>2</th>\n",
       "      <td>2.702947</td>\n",
       "      <td>0.043554</td>\n",
       "      <td>1.037890</td>\n",
       "      <td>-0.148727</td>\n",
       "      <td>0.124110</td>\n",
       "      <td>0.651246</td>\n",
       "      <td>-0.283096</td>\n",
       "      <td>0.520687</td>\n",
       "    </tr>\n",
       "    <tr>\n",
       "      <th>3</th>\n",
       "      <td>-0.414034</td>\n",
       "      <td>-0.053779</td>\n",
       "      <td>0.137005</td>\n",
       "      <td>-1.461958</td>\n",
       "      <td>-0.584841</td>\n",
       "      <td>-0.138905</td>\n",
       "      <td>-0.899484</td>\n",
       "      <td>0.066274</td>\n",
       "    </tr>\n",
       "    <tr>\n",
       "      <th>4</th>\n",
       "      <td>-0.194662</td>\n",
       "      <td>0.139966</td>\n",
       "      <td>-0.251178</td>\n",
       "      <td>-2.368712</td>\n",
       "      <td>0.904202</td>\n",
       "      <td>-0.637717</td>\n",
       "      <td>-0.429118</td>\n",
       "      <td>0.165873</td>\n",
       "    </tr>\n",
       "  </tbody>\n",
       "</table>\n",
       "</div>"
      ],
      "text/plain": [
       "          0         1         2         3       rv1       rv2       rv3  \\\n",
       "0  0.844260 -0.466985 -2.913588 -2.059470 -0.972066 -0.126143  0.893637   \n",
       "1  0.996648  0.444677 -0.226364  0.744475 -0.449696 -0.976967  0.013427   \n",
       "2  2.702947  0.043554  1.037890 -0.148727  0.124110  0.651246 -0.283096   \n",
       "3 -0.414034 -0.053779  0.137005 -1.461958 -0.584841 -0.138905 -0.899484   \n",
       "4 -0.194662  0.139966 -0.251178 -2.368712  0.904202 -0.637717 -0.429118   \n",
       "\n",
       "        rv4  \n",
       "0  0.504738  \n",
       "1 -0.695154  \n",
       "2  0.520687  \n",
       "3  0.066274  \n",
       "4  0.165873  "
      ]
     },
     "execution_count": 8,
     "metadata": {},
     "output_type": "execute_result"
    }
   ],
   "source": [
    "X_new.head()"
   ]
  },
  {
   "cell_type": "code",
   "execution_count": 9,
   "metadata": {},
   "outputs": [
    {
     "data": {
      "text/plain": [
       "<AxesSubplot:>"
      ]
     },
     "execution_count": 9,
     "metadata": {},
     "output_type": "execute_result"
    },
    {
     "data": {
      "image/png": "[encoded data removed]",
      "text/plain": [
       "<Figure size 432x432 with 2 Axes>"
      ]
     },
     "metadata": {
      "needs_background": "light"
     },
     "output_type": "display_data"
    }
   ],
   "source": [
    "import seaborn as sn; \n",
    "\n",
    "# Compute the correlation matrix\n",
    "corr = X_new.corr()\n",
    "\n",
    "# Set up the matplotlib figure\n",
    "plt.subplots(figsize=(6, 6))\n",
    "\n",
    "# Draw the heatmap\n",
    "sn.heatmap(corr) "
   ]
  },
  {
   "cell_type": "code",
   "execution_count": 10,
   "metadata": {},
   "outputs": [
    {
     "data": {
      "image/png": "[encoded data removed]",
      "text/plain": [
       "<Figure size 720x576 with 8 Axes>"
      ]
     },
     "metadata": {
      "needs_background": "light"
     },
     "output_type": "display_data"
    }
   ],
   "source": [
    "# check the scatterplot for any relationship \n",
    "fig = plt.figure(1, figsize=(10,8))\n",
    "columns = 4\n",
    "rows = 2\n",
    "\n",
    "for i in range(1, columns*rows+1):\n",
    "    fig.add_subplot(rows, columns, i)\n",
    "    plt.scatter(X_new.iloc[:,i-1], y)\n",
    "\n",
    "plt.show()"
   ]
  },
  {
   "cell_type": "code",
   "execution_count": 16,
   "metadata": {},
   "outputs": [],
   "source": [
    "from sklearn.linear_model import LinearRegression, Lasso, Ridge, ElasticNet"
   ]
  },
  {
   "cell_type": "code",
   "execution_count": 17,
   "metadata": {},
   "outputs": [],
   "source": [
    "#Creating the model objects:\n",
    "\n",
    "lr_model = LinearRegression()\n",
    "ls_model = Lasso(alpha = 1.0)\n",
    "ri_model = Ridge(alpha = 1.0)\n",
    "en_model = ElasticNet(alpha = 1.0, l1_ratio = 0.5)"
   ]
  },
  {
   "cell_type": "code",
   "execution_count": 18,
   "metadata": {},
   "outputs": [
    {
     "data": {
      "text/plain": [
       "ElasticNet()"
      ]
     },
     "execution_count": 18,
     "metadata": {},
     "output_type": "execute_result"
    }
   ],
   "source": [
    "#Fitting the models\n",
    "\n",
    "lr_model.fit(X_new,y)\n",
    "ls_model.fit(X_new,y)\n",
    "ri_model.fit(X_new,y)\n",
    "en_model.fit(X_new,y)"
   ]
  },
  {
   "cell_type": "code",
   "execution_count": 27,
   "metadata": {},
   "outputs": [
    {
     "data": {
      "text/html": [
       "<div>\n",
       "<style scoped>\n",
       "    .dataframe tbody tr th:only-of-type {\n",
       "        vertical-align: middle;\n",
       "    }\n",
       "\n",
       "    .dataframe tbody tr th {\n",
       "        vertical-align: top;\n",
       "    }\n",
       "\n",
       "    .dataframe thead th {\n",
       "        text-align: right;\n",
       "    }\n",
       "</style>\n",
       "<table border=\"1\" class=\"dataframe\">\n",
       "  <thead>\n",
       "    <tr style=\"text-align: right;\">\n",
       "      <th></th>\n",
       "      <th>Linear</th>\n",
       "      <th>Ridge</th>\n",
       "      <th>Lasso</th>\n",
       "      <th>ElasticNet</th>\n",
       "    </tr>\n",
       "  </thead>\n",
       "  <tbody>\n",
       "    <tr>\n",
       "      <th>0</th>\n",
       "      <td>18.890402</td>\n",
       "      <td>17.290153</td>\n",
       "      <td>18.355924</td>\n",
       "      <td>8.560208</td>\n",
       "    </tr>\n",
       "    <tr>\n",
       "      <th>1</th>\n",
       "      <td>10.268767</td>\n",
       "      <td>9.966905</td>\n",
       "      <td>5.395860</td>\n",
       "      <td>6.303044</td>\n",
       "    </tr>\n",
       "    <tr>\n",
       "      <th>2</th>\n",
       "      <td>45.170444</td>\n",
       "      <td>43.523582</td>\n",
       "      <td>45.220183</td>\n",
       "      <td>35.930858</td>\n",
       "    </tr>\n",
       "    <tr>\n",
       "      <th>3</th>\n",
       "      <td>74.702067</td>\n",
       "      <td>72.872615</td>\n",
       "      <td>74.232176</td>\n",
       "      <td>60.061275</td>\n",
       "    </tr>\n",
       "    <tr>\n",
       "      <th>4</th>\n",
       "      <td>0.153374</td>\n",
       "      <td>2.218097</td>\n",
       "      <td>0.000000</td>\n",
       "      <td>5.281974</td>\n",
       "    </tr>\n",
       "    <tr>\n",
       "      <th>5</th>\n",
       "      <td>0.154786</td>\n",
       "      <td>0.823539</td>\n",
       "      <td>0.000000</td>\n",
       "      <td>0.030816</td>\n",
       "    </tr>\n",
       "    <tr>\n",
       "      <th>6</th>\n",
       "      <td>-0.555807</td>\n",
       "      <td>-1.666839</td>\n",
       "      <td>-0.000000</td>\n",
       "      <td>-2.619190</td>\n",
       "    </tr>\n",
       "    <tr>\n",
       "      <th>7</th>\n",
       "      <td>-0.530262</td>\n",
       "      <td>-2.093957</td>\n",
       "      <td>0.000000</td>\n",
       "      <td>-2.529647</td>\n",
       "    </tr>\n",
       "  </tbody>\n",
       "</table>\n",
       "</div>"
      ],
      "text/plain": [
       "      Linear      Ridge      Lasso  ElasticNet\n",
       "0  18.890402  17.290153  18.355924    8.560208\n",
       "1  10.268767   9.966905   5.395860    6.303044\n",
       "2  45.170444  43.523582  45.220183   35.930858\n",
       "3  74.702067  72.872615  74.232176   60.061275\n",
       "4   0.153374   2.218097   0.000000    5.281974\n",
       "5   0.154786   0.823539   0.000000    0.030816\n",
       "6  -0.555807  -1.666839  -0.000000   -2.619190\n",
       "7  -0.530262  -2.093957   0.000000   -2.529647"
      ]
     },
     "execution_count": 27,
     "metadata": {},
     "output_type": "execute_result"
    }
   ],
   "source": [
    "#Creating a dataframe to compare the model outputs\n",
    "data = {'Linear' : lr_model.coef_, \n",
    "         \n",
    "        'Ridge' :ri_model.coef_,\n",
    "        'Lasso': ls_model.coef_,\n",
    "    'ElasticNet':en_model.coef_ }\n",
    "\n",
    "df_model_comparision =pd.DataFrame(data) \n",
    "df_model_comparision"
   ]
  },
  {
   "cell_type": "code",
   "execution_count": 29,
   "metadata": {},
   "outputs": [
    {
     "data": {
      "text/plain": [
       "ElasticNet(alpha=0.1, l1_ratio=0.8)"
      ]
     },
     "execution_count": 29,
     "metadata": {},
     "output_type": "execute_result"
    }
   ],
   "source": [
    "#Thus we can see that ElasticNet affects some variables disproportionately. \n",
    "#Hence we will try changing the HyperParameter values\n",
    "\n",
    "\n",
    "ri_model = Ridge(alpha=0.1)\n",
    "en_model = ElasticNet(alpha=0.1, l1_ratio=0.8)\n",
    "\n",
    "ri_model.fit(X_new, y)\n",
    "en_model.fit(X_new, y)\n"
   ]
  },
  {
   "cell_type": "code",
   "execution_count": 31,
   "metadata": {},
   "outputs": [
    {
     "data": {
      "text/html": [
       "<div>\n",
       "<style scoped>\n",
       "    .dataframe tbody tr th:only-of-type {\n",
       "        vertical-align: middle;\n",
       "    }\n",
       "\n",
       "    .dataframe tbody tr th {\n",
       "        vertical-align: top;\n",
       "    }\n",
       "\n",
       "    .dataframe thead th {\n",
       "        text-align: right;\n",
       "    }\n",
       "</style>\n",
       "<table border=\"1\" class=\"dataframe\">\n",
       "  <thead>\n",
       "    <tr style=\"text-align: right;\">\n",
       "      <th></th>\n",
       "      <th>Linear</th>\n",
       "      <th>Ridge</th>\n",
       "      <th>Lasso</th>\n",
       "      <th>ElasticNet</th>\n",
       "    </tr>\n",
       "  </thead>\n",
       "  <tbody>\n",
       "    <tr>\n",
       "      <th>0</th>\n",
       "      <td>18.890402</td>\n",
       "      <td>18.714044</td>\n",
       "      <td>18.355924</td>\n",
       "      <td>18.241003</td>\n",
       "    </tr>\n",
       "    <tr>\n",
       "      <th>1</th>\n",
       "      <td>10.268767</td>\n",
       "      <td>10.264476</td>\n",
       "      <td>5.395860</td>\n",
       "      <td>9.633140</td>\n",
       "    </tr>\n",
       "    <tr>\n",
       "      <th>2</th>\n",
       "      <td>45.170444</td>\n",
       "      <td>44.970230</td>\n",
       "      <td>45.220183</td>\n",
       "      <td>44.677239</td>\n",
       "    </tr>\n",
       "    <tr>\n",
       "      <th>3</th>\n",
       "      <td>74.702067</td>\n",
       "      <td>74.514401</td>\n",
       "      <td>74.232176</td>\n",
       "      <td>73.915411</td>\n",
       "    </tr>\n",
       "    <tr>\n",
       "      <th>4</th>\n",
       "      <td>0.153374</td>\n",
       "      <td>0.428380</td>\n",
       "      <td>0.000000</td>\n",
       "      <td>0.670265</td>\n",
       "    </tr>\n",
       "    <tr>\n",
       "      <th>5</th>\n",
       "      <td>0.154786</td>\n",
       "      <td>0.265176</td>\n",
       "      <td>0.000000</td>\n",
       "      <td>0.048209</td>\n",
       "    </tr>\n",
       "    <tr>\n",
       "      <th>6</th>\n",
       "      <td>-0.555807</td>\n",
       "      <td>-0.708976</td>\n",
       "      <td>-0.000000</td>\n",
       "      <td>-0.688165</td>\n",
       "    </tr>\n",
       "    <tr>\n",
       "      <th>7</th>\n",
       "      <td>-0.530262</td>\n",
       "      <td>-0.762922</td>\n",
       "      <td>0.000000</td>\n",
       "      <td>-0.611682</td>\n",
       "    </tr>\n",
       "  </tbody>\n",
       "</table>\n",
       "</div>"
      ],
      "text/plain": [
       "      Linear      Ridge      Lasso  ElasticNet\n",
       "0  18.890402  18.714044  18.355924   18.241003\n",
       "1  10.268767  10.264476   5.395860    9.633140\n",
       "2  45.170444  44.970230  45.220183   44.677239\n",
       "3  74.702067  74.514401  74.232176   73.915411\n",
       "4   0.153374   0.428380   0.000000    0.670265\n",
       "5   0.154786   0.265176   0.000000    0.048209\n",
       "6  -0.555807  -0.708976  -0.000000   -0.688165\n",
       "7  -0.530262  -0.762922   0.000000   -0.611682"
      ]
     },
     "execution_count": 31,
     "metadata": {},
     "output_type": "execute_result"
    }
   ],
   "source": [
    "#Creating a second dataframe to compare the models :\n",
    "\n",
    "data_2 = {'Linear' : lr_model.coef_,         \n",
    "        'Ridge' :ri_model.coef_,\n",
    "        'Lasso': ls_model.coef_,\n",
    "    'ElasticNet':en_model.coef_ }\n",
    "\n",
    "df_model_comparision_2 =pd.DataFrame(data_2) \n",
    "df_model_comparision_2"
   ]
  },
  {
   "cell_type": "code",
   "execution_count": 32,
   "metadata": {},
   "outputs": [],
   "source": [
    "#Thus we can see that the ElasticNet perfo"
   ]
  },
  {
   "cell_type": "code",
   "execution_count": 37,
   "metadata": {},
   "outputs": [
    {
     "name": "stdout",
     "output_type": "stream",
     "text": [
      "Best Alpha: 0.36094345886712886\n",
      "Best L1 Ratio: 0.5\n",
      "Model Coefficients: [13.97095831  8.28609263 40.85486143 68.49049623  4.07414886  0.58058813\n",
      " -2.30265823 -2.5914473 ]\n"
     ]
    }
   ],
   "source": [
    "#The best alpha value can be figured out from a new module ElasticNetCV\n",
    "\n",
    "from sklearn.linear_model import ElasticNetCV\n",
    "\n",
    "enCV_model = ElasticNetCV(cv=5, random_state=0)\n",
    "enCV_model.fit(X_new, y)\n",
    "\n",
    "print(\"Best Alpha:\", enCV_model.alpha_ )\n",
    "print(\"Best L1 Ratio:\", enCV_model.l1_ratio_)\n",
    "print(\"Model Coefficients:\", enCV_model.coef_)"
   ]
  },
  {
   "cell_type": "code",
   "execution_count": 39,
   "metadata": {
    "scrolled": true
   },
   "outputs": [
    {
     "data": {
      "text/html": [
       "<div>\n",
       "<style scoped>\n",
       "    .dataframe tbody tr th:only-of-type {\n",
       "        vertical-align: middle;\n",
       "    }\n",
       "\n",
       "    .dataframe tbody tr th {\n",
       "        vertical-align: top;\n",
       "    }\n",
       "\n",
       "    .dataframe thead th {\n",
       "        text-align: right;\n",
       "    }\n",
       "</style>\n",
       "<table border=\"1\" class=\"dataframe\">\n",
       "  <thead>\n",
       "    <tr style=\"text-align: right;\">\n",
       "      <th></th>\n",
       "      <th>Linear</th>\n",
       "      <th>Ridge</th>\n",
       "      <th>Lasso</th>\n",
       "      <th>ElasticNet</th>\n",
       "    </tr>\n",
       "  </thead>\n",
       "  <tbody>\n",
       "    <tr>\n",
       "      <th>0</th>\n",
       "      <td>18.890402</td>\n",
       "      <td>18.714044</td>\n",
       "      <td>18.355924</td>\n",
       "      <td>13.970958</td>\n",
       "    </tr>\n",
       "    <tr>\n",
       "      <th>1</th>\n",
       "      <td>10.268767</td>\n",
       "      <td>10.264476</td>\n",
       "      <td>5.395860</td>\n",
       "      <td>8.286093</td>\n",
       "    </tr>\n",
       "    <tr>\n",
       "      <th>2</th>\n",
       "      <td>45.170444</td>\n",
       "      <td>44.970230</td>\n",
       "      <td>45.220183</td>\n",
       "      <td>40.854861</td>\n",
       "    </tr>\n",
       "    <tr>\n",
       "      <th>3</th>\n",
       "      <td>74.702067</td>\n",
       "      <td>74.514401</td>\n",
       "      <td>74.232176</td>\n",
       "      <td>68.490496</td>\n",
       "    </tr>\n",
       "    <tr>\n",
       "      <th>4</th>\n",
       "      <td>0.153374</td>\n",
       "      <td>0.428380</td>\n",
       "      <td>0.000000</td>\n",
       "      <td>4.074149</td>\n",
       "    </tr>\n",
       "    <tr>\n",
       "      <th>5</th>\n",
       "      <td>0.154786</td>\n",
       "      <td>0.265176</td>\n",
       "      <td>0.000000</td>\n",
       "      <td>0.580588</td>\n",
       "    </tr>\n",
       "    <tr>\n",
       "      <th>6</th>\n",
       "      <td>-0.555807</td>\n",
       "      <td>-0.708976</td>\n",
       "      <td>-0.000000</td>\n",
       "      <td>-2.302658</td>\n",
       "    </tr>\n",
       "    <tr>\n",
       "      <th>7</th>\n",
       "      <td>-0.530262</td>\n",
       "      <td>-0.762922</td>\n",
       "      <td>0.000000</td>\n",
       "      <td>-2.591447</td>\n",
       "    </tr>\n",
       "  </tbody>\n",
       "</table>\n",
       "</div>"
      ],
      "text/plain": [
       "      Linear      Ridge      Lasso  ElasticNet\n",
       "0  18.890402  18.714044  18.355924   13.970958\n",
       "1  10.268767  10.264476   5.395860    8.286093\n",
       "2  45.170444  44.970230  45.220183   40.854861\n",
       "3  74.702067  74.514401  74.232176   68.490496\n",
       "4   0.153374   0.428380   0.000000    4.074149\n",
       "5   0.154786   0.265176   0.000000    0.580588\n",
       "6  -0.555807  -0.708976  -0.000000   -2.302658\n",
       "7  -0.530262  -0.762922   0.000000   -2.591447"
      ]
     },
     "execution_count": 39,
     "metadata": {},
     "output_type": "execute_result"
    }
   ],
   "source": [
    "\n",
    "en_model = ElasticNet(alpha = enCV_model.alpha_, l1_ratio = enCV_model.l1_ratio_)\n",
    "en_model.fit(X_new, y)\n",
    "\n",
    "#Creating a third dataframe to compare the models :\n",
    "\n",
    "data_3 = {'Linear' : lr_model.coef_,         \n",
    "        'Ridge' :ri_model.coef_,\n",
    "        'Lasso': ls_model.coef_,\n",
    "    'ElasticNet':en_model.coef_ }\n",
    "\n",
    "df_model_comparision_3 =pd.DataFrame(data_3) \n",
    "df_model_comparision_3"
   ]
  },
  {
   "cell_type": "code",
   "execution_count": null,
   "metadata": {},
   "outputs": [],
   "source": []
  },
  {
   "cell_type": "code",
   "execution_count": 40,
   "metadata": {},
   "outputs": [
    {
     "name": "stdout",
     "output_type": "stream",
     "text": [
      "Model Coefficients: [-0.  0.  0.  0.  0. -0. -0. -0.]\n"
     ]
    }
   ],
   "source": [
    "# A Demonstration of how an increasing alpha leads to the reduction of coefficients, eventually to zero. \n",
    "\n",
    "la_model = Lasso(alpha=1000)   #100, 1000 , 10,000\n",
    "la_model.fit(X_new, y)\n",
    "\n",
    "print(\"Model Coefficients:\", la_model.coef_)"
   ]
  },
  {
   "cell_type": "code",
   "execution_count": null,
   "metadata": {},
   "outputs": [],
   "source": []
  }
 ],
 "metadata": {
  "hide_input": false,
  "kernelspec": {
   "display_name": "Python 3",
   "language": "python",
   "name": "python3"
  },
  "language_info": {
   "codemirror_mode": {
    "name": "ipython",
    "version": 3
   },
   "file_extension": ".py",
   "mimetype": "text/x-python",
   "name": "python",
   "nbconvert_exporter": "python",
   "pygments_lexer": "ipython3",
   "version": "3.8.8"
  }
 },
 "nbformat": 4,
 "nbformat_minor": 2
}
