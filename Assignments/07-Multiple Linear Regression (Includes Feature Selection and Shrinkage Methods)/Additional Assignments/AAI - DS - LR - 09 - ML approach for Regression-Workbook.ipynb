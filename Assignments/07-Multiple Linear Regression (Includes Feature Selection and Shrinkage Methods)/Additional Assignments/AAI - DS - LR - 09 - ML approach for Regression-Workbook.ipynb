{
 "cells": [
  {
   "cell_type": "markdown",
   "id": "832536f3",
   "metadata": {},
   "source": [
    "### Machine Learning approach - using sklearn library"
   ]
  },
  {
   "cell_type": "code",
   "execution_count": 113,
   "id": "4e3aac7a",
   "metadata": {},
   "outputs": [],
   "source": [
    "import numpy as np \n",
    "import pandas as pd\n",
    "import seaborn as sns\n",
    "import matplotlib.pyplot as plt\n",
    "\n",
    "import warnings\n",
    "warnings.filterwarnings('ignore')"
   ]
  },
  {
   "cell_type": "code",
   "execution_count": 94,
   "id": "7bc1df48",
   "metadata": {},
   "outputs": [
    {
     "data": {
      "text/html": [
       "<div>\n",
       "<style scoped>\n",
       "    .dataframe tbody tr th:only-of-type {\n",
       "        vertical-align: middle;\n",
       "    }\n",
       "\n",
       "    .dataframe tbody tr th {\n",
       "        vertical-align: top;\n",
       "    }\n",
       "\n",
       "    .dataframe thead th {\n",
       "        text-align: right;\n",
       "    }\n",
       "</style>\n",
       "<table border=\"1\" class=\"dataframe\">\n",
       "  <thead>\n",
       "    <tr style=\"text-align: right;\">\n",
       "      <th></th>\n",
       "      <th>R&amp;D Spend</th>\n",
       "      <th>Administration</th>\n",
       "      <th>Marketing Spend</th>\n",
       "      <th>State</th>\n",
       "      <th>Profit</th>\n",
       "    </tr>\n",
       "  </thead>\n",
       "  <tbody>\n",
       "    <tr>\n",
       "      <th>0</th>\n",
       "      <td>153441.51</td>\n",
       "      <td>101145.55</td>\n",
       "      <td>407934.5400</td>\n",
       "      <td>Florida</td>\n",
       "      <td>221050.39</td>\n",
       "    </tr>\n",
       "    <tr>\n",
       "      <th>1</th>\n",
       "      <td>142107.34</td>\n",
       "      <td>91391.77</td>\n",
       "      <td>366168.4200</td>\n",
       "      <td>Florida</td>\n",
       "      <td>196187.94</td>\n",
       "    </tr>\n",
       "    <tr>\n",
       "      <th>2</th>\n",
       "      <td>165349.20</td>\n",
       "      <td>136897.80</td>\n",
       "      <td>444985.8024</td>\n",
       "      <td>New York</td>\n",
       "      <td>192261.83</td>\n",
       "    </tr>\n",
       "    <tr>\n",
       "      <th>3</th>\n",
       "      <td>162597.70</td>\n",
       "      <td>151377.59</td>\n",
       "      <td>443898.5300</td>\n",
       "      <td>California</td>\n",
       "      <td>191792.06</td>\n",
       "    </tr>\n",
       "    <tr>\n",
       "      <th>4</th>\n",
       "      <td>130298.13</td>\n",
       "      <td>145530.06</td>\n",
       "      <td>323876.6800</td>\n",
       "      <td>Florida</td>\n",
       "      <td>185752.60</td>\n",
       "    </tr>\n",
       "  </tbody>\n",
       "</table>\n",
       "</div>"
      ],
      "text/plain": [
       "   R&D Spend  Administration  Marketing Spend       State     Profit\n",
       "0  153441.51       101145.55      407934.5400     Florida  221050.39\n",
       "1  142107.34        91391.77      366168.4200     Florida  196187.94\n",
       "2  165349.20       136897.80      444985.8024    New York  192261.83\n",
       "3  162597.70       151377.59      443898.5300  California  191792.06\n",
       "4  130298.13       145530.06      323876.6800     Florida  185752.60"
      ]
     },
     "execution_count": 94,
     "metadata": {},
     "output_type": "execute_result"
    }
   ],
   "source": [
    "df_startup = pd.read_csv('50_Startups_data.csv')\n",
    "\n",
    "df_startup.head()"
   ]
  },
  {
   "cell_type": "code",
   "execution_count": 95,
   "id": "9f9c2bd5",
   "metadata": {},
   "outputs": [],
   "source": [
    "col_list = df_startup.columns "
   ]
  },
  {
   "cell_type": "code",
   "execution_count": 96,
   "id": "ea0645c0",
   "metadata": {},
   "outputs": [
    {
     "data": {
      "text/plain": [
       "Index(['R&D Spend', 'Administration', 'Marketing Spend', 'State', 'Profit'], dtype='object')"
      ]
     },
     "execution_count": 96,
     "metadata": {},
     "output_type": "execute_result"
    }
   ],
   "source": [
    "col_list"
   ]
  },
  {
   "cell_type": "code",
   "execution_count": 97,
   "id": "86b9135a",
   "metadata": {},
   "outputs": [],
   "source": [
    "col_list = [x.lower() for x in col_list]"
   ]
  },
  {
   "cell_type": "code",
   "execution_count": 98,
   "id": "5d0135d2",
   "metadata": {},
   "outputs": [
    {
     "data": {
      "text/plain": [
       "['r&d_spend', 'administration', 'marketing_spend', 'state', 'profit']"
      ]
     },
     "execution_count": 98,
     "metadata": {},
     "output_type": "execute_result"
    }
   ],
   "source": [
    "col_list = [x.replace(\" \", \"_\") for x in col_list]\n",
    "col_list"
   ]
  },
  {
   "cell_type": "code",
   "execution_count": 99,
   "id": "db48f7b3",
   "metadata": {},
   "outputs": [],
   "source": [
    "df_startup.columns = col_list"
   ]
  },
  {
   "cell_type": "code",
   "execution_count": 100,
   "id": "fa50679c",
   "metadata": {},
   "outputs": [],
   "source": [
    "X = df_startup.drop(columns = 'profit')\n",
    "Y = df_startup.profit\n"
   ]
  },
  {
   "cell_type": "code",
   "execution_count": 101,
   "id": "6203287d",
   "metadata": {},
   "outputs": [
    {
     "data": {
      "text/html": [
       "<div>\n",
       "<style scoped>\n",
       "    .dataframe tbody tr th:only-of-type {\n",
       "        vertical-align: middle;\n",
       "    }\n",
       "\n",
       "    .dataframe tbody tr th {\n",
       "        vertical-align: top;\n",
       "    }\n",
       "\n",
       "    .dataframe thead th {\n",
       "        text-align: right;\n",
       "    }\n",
       "</style>\n",
       "<table border=\"1\" class=\"dataframe\">\n",
       "  <thead>\n",
       "    <tr style=\"text-align: right;\">\n",
       "      <th></th>\n",
       "      <th>r&amp;d_spend</th>\n",
       "      <th>administration</th>\n",
       "      <th>marketing_spend</th>\n",
       "      <th>state</th>\n",
       "    </tr>\n",
       "  </thead>\n",
       "  <tbody>\n",
       "    <tr>\n",
       "      <th>0</th>\n",
       "      <td>153441.51</td>\n",
       "      <td>101145.55</td>\n",
       "      <td>407934.5400</td>\n",
       "      <td>Florida</td>\n",
       "    </tr>\n",
       "    <tr>\n",
       "      <th>1</th>\n",
       "      <td>142107.34</td>\n",
       "      <td>91391.77</td>\n",
       "      <td>366168.4200</td>\n",
       "      <td>Florida</td>\n",
       "    </tr>\n",
       "    <tr>\n",
       "      <th>2</th>\n",
       "      <td>165349.20</td>\n",
       "      <td>136897.80</td>\n",
       "      <td>444985.8024</td>\n",
       "      <td>New York</td>\n",
       "    </tr>\n",
       "    <tr>\n",
       "      <th>3</th>\n",
       "      <td>162597.70</td>\n",
       "      <td>151377.59</td>\n",
       "      <td>443898.5300</td>\n",
       "      <td>California</td>\n",
       "    </tr>\n",
       "    <tr>\n",
       "      <th>4</th>\n",
       "      <td>130298.13</td>\n",
       "      <td>145530.06</td>\n",
       "      <td>323876.6800</td>\n",
       "      <td>Florida</td>\n",
       "    </tr>\n",
       "  </tbody>\n",
       "</table>\n",
       "</div>"
      ],
      "text/plain": [
       "   r&d_spend  administration  marketing_spend       state\n",
       "0  153441.51       101145.55      407934.5400     Florida\n",
       "1  142107.34        91391.77      366168.4200     Florida\n",
       "2  165349.20       136897.80      444985.8024    New York\n",
       "3  162597.70       151377.59      443898.5300  California\n",
       "4  130298.13       145530.06      323876.6800     Florida"
      ]
     },
     "execution_count": 101,
     "metadata": {},
     "output_type": "execute_result"
    }
   ],
   "source": [
    "X.head()"
   ]
  },
  {
   "cell_type": "code",
   "execution_count": 102,
   "id": "3260c845",
   "metadata": {},
   "outputs": [
    {
     "data": {
      "text/plain": [
       "0    221050.39\n",
       "1    196187.94\n",
       "2    192261.83\n",
       "3    191792.06\n",
       "4    185752.60\n",
       "Name: profit, dtype: float64"
      ]
     },
     "execution_count": 102,
     "metadata": {},
     "output_type": "execute_result"
    }
   ],
   "source": [
    "Y.head()"
   ]
  },
  {
   "cell_type": "code",
   "execution_count": 103,
   "id": "7495ab75",
   "metadata": {},
   "outputs": [
    {
     "data": {
      "text/html": [
       "<div>\n",
       "<style scoped>\n",
       "    .dataframe tbody tr th:only-of-type {\n",
       "        vertical-align: middle;\n",
       "    }\n",
       "\n",
       "    .dataframe tbody tr th {\n",
       "        vertical-align: top;\n",
       "    }\n",
       "\n",
       "    .dataframe thead th {\n",
       "        text-align: right;\n",
       "    }\n",
       "</style>\n",
       "<table border=\"1\" class=\"dataframe\">\n",
       "  <thead>\n",
       "    <tr style=\"text-align: right;\">\n",
       "      <th></th>\n",
       "      <th>state_Florida</th>\n",
       "      <th>state_New York</th>\n",
       "    </tr>\n",
       "  </thead>\n",
       "  <tbody>\n",
       "    <tr>\n",
       "      <th>0</th>\n",
       "      <td>1</td>\n",
       "      <td>0</td>\n",
       "    </tr>\n",
       "    <tr>\n",
       "      <th>1</th>\n",
       "      <td>1</td>\n",
       "      <td>0</td>\n",
       "    </tr>\n",
       "    <tr>\n",
       "      <th>2</th>\n",
       "      <td>0</td>\n",
       "      <td>1</td>\n",
       "    </tr>\n",
       "    <tr>\n",
       "      <th>3</th>\n",
       "      <td>0</td>\n",
       "      <td>0</td>\n",
       "    </tr>\n",
       "    <tr>\n",
       "      <th>4</th>\n",
       "      <td>1</td>\n",
       "      <td>0</td>\n",
       "    </tr>\n",
       "  </tbody>\n",
       "</table>\n",
       "</div>"
      ],
      "text/plain": [
       "   state_Florida  state_New York\n",
       "0              1               0\n",
       "1              1               0\n",
       "2              0               1\n",
       "3              0               0\n",
       "4              1               0"
      ]
     },
     "execution_count": 103,
     "metadata": {},
     "output_type": "execute_result"
    }
   ],
   "source": [
    "\n",
    "\n",
    "from sklearn.preprocessing import OneHotEncoder, LabelEncoder\n",
    "\n",
    "ohe = pd.get_dummies(X.state, drop_first = True, prefix = 'state')\n",
    "ohe.head()\n",
    "\n"
   ]
  },
  {
   "cell_type": "code",
   "execution_count": 104,
   "id": "c4e65360",
   "metadata": {},
   "outputs": [
    {
     "data": {
      "text/html": [
       "<div>\n",
       "<style scoped>\n",
       "    .dataframe tbody tr th:only-of-type {\n",
       "        vertical-align: middle;\n",
       "    }\n",
       "\n",
       "    .dataframe tbody tr th {\n",
       "        vertical-align: top;\n",
       "    }\n",
       "\n",
       "    .dataframe thead th {\n",
       "        text-align: right;\n",
       "    }\n",
       "</style>\n",
       "<table border=\"1\" class=\"dataframe\">\n",
       "  <thead>\n",
       "    <tr style=\"text-align: right;\">\n",
       "      <th></th>\n",
       "      <th>r&amp;d_spend</th>\n",
       "      <th>administration</th>\n",
       "      <th>marketing_spend</th>\n",
       "      <th>state_Florida</th>\n",
       "      <th>state_New York</th>\n",
       "    </tr>\n",
       "  </thead>\n",
       "  <tbody>\n",
       "    <tr>\n",
       "      <th>0</th>\n",
       "      <td>153441.51</td>\n",
       "      <td>101145.55</td>\n",
       "      <td>407934.5400</td>\n",
       "      <td>1</td>\n",
       "      <td>0</td>\n",
       "    </tr>\n",
       "    <tr>\n",
       "      <th>1</th>\n",
       "      <td>142107.34</td>\n",
       "      <td>91391.77</td>\n",
       "      <td>366168.4200</td>\n",
       "      <td>1</td>\n",
       "      <td>0</td>\n",
       "    </tr>\n",
       "    <tr>\n",
       "      <th>2</th>\n",
       "      <td>165349.20</td>\n",
       "      <td>136897.80</td>\n",
       "      <td>444985.8024</td>\n",
       "      <td>0</td>\n",
       "      <td>1</td>\n",
       "    </tr>\n",
       "    <tr>\n",
       "      <th>3</th>\n",
       "      <td>162597.70</td>\n",
       "      <td>151377.59</td>\n",
       "      <td>443898.5300</td>\n",
       "      <td>0</td>\n",
       "      <td>0</td>\n",
       "    </tr>\n",
       "    <tr>\n",
       "      <th>4</th>\n",
       "      <td>130298.13</td>\n",
       "      <td>145530.06</td>\n",
       "      <td>323876.6800</td>\n",
       "      <td>1</td>\n",
       "      <td>0</td>\n",
       "    </tr>\n",
       "  </tbody>\n",
       "</table>\n",
       "</div>"
      ],
      "text/plain": [
       "   r&d_spend  administration  marketing_spend  state_Florida  state_New York\n",
       "0  153441.51       101145.55      407934.5400              1               0\n",
       "1  142107.34        91391.77      366168.4200              1               0\n",
       "2  165349.20       136897.80      444985.8024              0               1\n",
       "3  162597.70       151377.59      443898.5300              0               0\n",
       "4  130298.13       145530.06      323876.6800              1               0"
      ]
     },
     "execution_count": 104,
     "metadata": {},
     "output_type": "execute_result"
    }
   ],
   "source": [
    "#Encoding \n",
    "\n",
    "ohe2 = pd.get_dummies(X, drop_first = True, prefix = 'state')\n",
    "ohe2.head()\n"
   ]
  },
  {
   "cell_type": "code",
   "execution_count": 105,
   "id": "8e42417a",
   "metadata": {},
   "outputs": [],
   "source": [
    "\n",
    "ohe2_cols = ohe2.columns\n",
    "\n",
    "ohe2_cols = [x.lower() for x in ohe2_cols]\n",
    "\n",
    "ohe2.columns = ohe2_cols"
   ]
  },
  {
   "cell_type": "code",
   "execution_count": 106,
   "id": "49301fc7",
   "metadata": {},
   "outputs": [],
   "source": [
    "# Splitting the dataset into the Training set and Test set\n",
    "from sklearn.model_selection import train_test_split\n",
    "\n",
    "X = ohe2\n",
    "Y = Y\n",
    "\n",
    "X_Train, X_Test, Y_Train, Y_Test = train_test_split(X, Y, test_size = 0.2, random_state = 0)"
   ]
  },
  {
   "cell_type": "code",
   "execution_count": 107,
   "id": "9dd84906",
   "metadata": {
    "scrolled": false
   },
   "outputs": [
    {
     "name": "stdout",
     "output_type": "stream",
     "text": [
      "dataset shape is (50, 5)\n",
      "dataset shape is (50,)\n",
      "dataset shape is (40, 5)\n",
      "dataset shape is (10, 5)\n",
      "dataset shape is (40,)\n",
      "dataset shape is (10,)\n"
     ]
    }
   ],
   "source": [
    "#checking the shape of the train and test data sets\n",
    "\n",
    "collection = [X,Y,X_Train, X_Test, Y_Train, Y_Test]\n",
    "\n",
    "for dataset in collection:\n",
    "    print ('dataset',\"shape is\", dataset.shape)"
   ]
  },
  {
   "cell_type": "code",
   "execution_count": 90,
   "id": "91ccbfe9",
   "metadata": {},
   "outputs": [],
   "source": [
    "#Training the Training data via Linear Regression\n",
    "\n",
    "from sklearn.linear_model import LinearRegression\n",
    "\n",
    "lr_object = LinearRegression()\n",
    "lr_model = lr_object.fit(X_Train, Y_Train)"
   ]
  },
  {
   "cell_type": "code",
   "execution_count": 108,
   "id": "f90aa334",
   "metadata": {},
   "outputs": [
    {
     "name": "stdout",
     "output_type": "stream",
     "text": [
      "coefficients_training_data =  [('r&d_spend', 0.7349064078018623), ('administration', 0.01725718506553676), ('marketing_spend', 0.056120401380998816), ('state_florida', 32851.69675602063), ('state_new york', 3559.127759868656)]\n",
      "intercept_training_data =  42276.20060049133\n",
      "R-squared_training_data =  0.9579630663734701\n"
     ]
    }
   ],
   "source": [
    "r_squared = lr_model.score(X_Train, Y_Train)\n",
    "\n",
    "coefficients_training_data = list(zip(X_Train.columns,lr_model.coef_))\n",
    "\n",
    "print('coefficients_training_data = ', coefficients_training_data)\n",
    "print('intercept_training_data = ', lr_model.intercept_)\n",
    "print('R-squared_training_data = ', r_squared)"
   ]
  },
  {
   "cell_type": "code",
   "execution_count": 110,
   "id": "1158c705",
   "metadata": {},
   "outputs": [
    {
     "data": {
      "text/plain": [
       "2212.3776586817407"
      ]
     },
     "execution_count": 110,
     "metadata": {},
     "output_type": "execute_result"
    }
   ],
   "source": [
    "#Predicting the Y values using the LR model :\n",
    "\n",
    "Y_Pred = lr_model.predict(X_Test)\n",
    "\n",
    "#Summarizing the mean\n",
    "mse = np.mean((Y_Test - Y_Pred)**2)/len(Y_Test)\n",
    "\n",
    "root_mse = np.sqrt(mse)\n",
    "\n",
    "root_mse"
   ]
  },
  {
   "cell_type": "code",
   "execution_count": 114,
   "id": "13ca712d",
   "metadata": {},
   "outputs": [
    {
     "data": {
      "image/png": "[encoded data removed]",
      "text/plain": [
       "<Figure size 432x288 with 1 Axes>"
      ]
     },
     "metadata": {
      "needs_background": "light"
     },
     "output_type": "display_data"
    }
   ],
   "source": [
    "sns.scatterplot(x=X_Test[\"r&d_spend\"], y=Y_Test, color='g')   #Actual\n",
    "sns.scatterplot(x=X_Test[\"r&d_spend\"], y=Y_Pred, color='r')   #Predicted\n",
    "#plt.plot([100000, 100000], [200000, 200000], linewidth=2)\n",
    "plt.show()"
   ]
  },
  {
   "cell_type": "code",
   "execution_count": null,
   "id": "d9438eea",
   "metadata": {},
   "outputs": [],
   "source": [
    "# Thus we can see that the predicted values are close to the test values"
   ]
  },
  {
   "cell_type": "code",
   "execution_count": 119,
   "id": "46c62708",
   "metadata": {},
   "outputs": [
    {
     "name": "stdout",
     "output_type": "stream",
     "text": [
      "                            OLS Regression Results                            \n",
      "==============================================================================\n",
      "Dep. Variable:                 profit   R-squared:                       0.958\n",
      "Model:                            OLS   Adj. R-squared:                  0.952\n",
      "Method:                 Least Squares   F-statistic:                     155.0\n",
      "Date:                Mon, 12 Sep 2022   Prob (F-statistic):           2.21e-22\n",
      "Time:                        00:55:59   Log-Likelihood:                -421.98\n",
      "No. Observations:                  40   AIC:                             856.0\n",
      "Df Residuals:                      34   BIC:                             866.1\n",
      "Df Model:                           5                                         \n",
      "Covariance Type:            nonrobust                                         \n",
      "===================================================================================\n",
      "                      coef    std err          t      P>|t|      [0.025      0.975]\n",
      "-----------------------------------------------------------------------------------\n",
      "const            4.228e+04   9093.586      4.649      0.000    2.38e+04    6.08e+04\n",
      "r&d_spend           0.7349      0.071     10.356      0.000       0.591       0.879\n",
      "administration      0.0173      0.065      0.264      0.794      -0.116       0.150\n",
      "marketing_spend     0.0561      0.027      2.079      0.045       0.001       0.111\n",
      "state_florida    3.285e+04   4110.100      7.993      0.000    2.45e+04    4.12e+04\n",
      "state_new york   3559.1278   4085.029      0.871      0.390   -4742.650    1.19e+04\n",
      "==============================================================================\n",
      "Omnibus:                       12.609   Durbin-Watson:                   1.775\n",
      "Prob(Omnibus):                  0.002   Jarque-Bera (JB):               13.973\n",
      "Skew:                          -1.039   Prob(JB):                     0.000924\n",
      "Kurtosis:                       5.017   Cond. No.                     1.55e+06\n",
      "==============================================================================\n",
      "\n",
      "Notes:\n",
      "[1] Standard Errors assume that the covariance matrix of the errors is correctly specified.\n",
      "[2] The condition number is large, 1.55e+06. This might indicate that there are\n",
      "strong multicollinearity or other numerical problems.\n"
     ]
    }
   ],
   "source": [
    "#Checking with statsmodels as well\n",
    "\n",
    "import statsmodels.api as sm\n",
    "\n",
    "X = X_Train\n",
    "Y = Y_Train\n",
    "\n",
    "X = sm.add_constant(X)\n",
    "\n",
    "reg_model_sm = sm.OLS(Y,X).fit()\n",
    "\n",
    "print(reg_model_sm.summary())"
   ]
  },
  {
   "cell_type": "code",
   "execution_count": 120,
   "id": "c74ef037",
   "metadata": {},
   "outputs": [
    {
     "data": {
      "text/plain": [
       "const              42276.200600\n",
       "r&d_spend              0.734906\n",
       "administration         0.017257\n",
       "marketing_spend        0.056120\n",
       "state_florida      32851.696756\n",
       "state_new york      3559.127760\n",
       "dtype: float64"
      ]
     },
     "execution_count": 120,
     "metadata": {},
     "output_type": "execute_result"
    }
   ],
   "source": [
    "reg_model_sm.params"
   ]
  },
  {
   "cell_type": "code",
   "execution_count": 121,
   "id": "6073b731",
   "metadata": {},
   "outputs": [
    {
     "data": {
      "text/plain": [
       "[('r&d_spend', 0.7349064078018623),\n",
       " ('administration', 0.01725718506553676),\n",
       " ('marketing_spend', 0.056120401380998816),\n",
       " ('state_florida', 32851.69675602063),\n",
       " ('state_new york', 3559.127759868656)]"
      ]
     },
     "execution_count": 121,
     "metadata": {},
     "output_type": "execute_result"
    }
   ],
   "source": [
    "coefficients_training_data"
   ]
  },
  {
   "cell_type": "code",
   "execution_count": null,
   "id": "b3b1c631",
   "metadata": {},
   "outputs": [],
   "source": [
    "#Thus we can see that the results for coefficients are nearly identical"
   ]
  },
  {
   "cell_type": "markdown",
   "id": "be051f38",
   "metadata": {},
   "source": [
    "***"
   ]
  }
 ],
 "metadata": {
  "hide_input": false,
  "kernelspec": {
   "display_name": "Python 3",
   "language": "python",
   "name": "python3"
  },
  "language_info": {
   "codemirror_mode": {
    "name": "ipython",
    "version": 3
   },
   "file_extension": ".py",
   "mimetype": "text/x-python",
   "name": "python",
   "nbconvert_exporter": "python",
   "pygments_lexer": "ipython3",
   "version": "3.8.8"
  }
 },
 "nbformat": 4,
 "nbformat_minor": 5
}
