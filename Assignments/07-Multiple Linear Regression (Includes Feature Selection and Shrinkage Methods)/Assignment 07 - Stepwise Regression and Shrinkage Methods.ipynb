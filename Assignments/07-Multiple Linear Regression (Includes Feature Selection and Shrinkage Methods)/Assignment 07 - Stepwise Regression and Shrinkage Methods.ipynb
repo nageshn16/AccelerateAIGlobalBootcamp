{
 "cells": [
  {
   "cell_type": "markdown",
   "id": "26e6d158",
   "metadata": {},
   "source": [
    "## Q1: MLR Stepwise Regression – Household Expense"
   ]
  },
  {
   "cell_type": "markdown",
   "id": "28164b73",
   "metadata": {},
   "source": [
    "500 households were surveyed on their monthly expenses. The data is in the file MLR_MonthlyExpense.\n",
    "For this, use the monthly payment as the dependent variable.\n",
    "- a) Begin with family size and iteratively add one variable and estimate the resulting\n",
    "regression equation.\n",
    "- b) Does adding any explanatory variable lead to a fall in adjusted R-Squared.\n",
    "- c) Which variables are added in the final model?\n",
    "- d) Interpret the coefficients, R-squared and standard error of estimate for the final\n",
    "model.\n",
    "- e) What result do you get if you use mlxtend stepwise regression?\n",
    "\n",
    "\n",
    "The data files can be found here: https://github.com/Accelerate-AI/Data-Science-Global-Bootcamp/tree/main/ClassAssignment/Assignment07"
   ]
  },
  {
   "cell_type": "markdown",
   "id": "8421d7df",
   "metadata": {},
   "source": [
    "### Importing libraries and creating functions"
   ]
  },
  {
   "cell_type": "markdown",
   "id": "69a49610",
   "metadata": {},
   "source": [
    "#### Importing libraries"
   ]
  },
  {
   "cell_type": "code",
   "execution_count": 1,
   "id": "a81e2894",
   "metadata": {},
   "outputs": [],
   "source": [
    "# import the necessary libraries\n",
    "import pandas as pd\n",
    "import numpy as np\n",
    "import seaborn as sns\n",
    "\n",
    "import statsmodels.api as sm\n",
    "from sklearn.model_selection import train_test_split\n",
    "\n",
    "import warnings\n",
    "warnings.filterwarnings('ignore')"
   ]
  },
  {
   "cell_type": "markdown",
   "id": "c4a60e1b",
   "metadata": {},
   "source": [
    "#### Creating functions for OLS and Variance Inflation Factor"
   ]
  },
  {
   "cell_type": "code",
   "execution_count": 2,
   "id": "2b20b343",
   "metadata": {},
   "outputs": [],
   "source": [
    "#Creating a function for carrying out the steps related to OLS\n",
    "\n",
    "def ols_fn_print(y,x):\n",
    "    X = x\n",
    "    Y = y\n",
    "    X = sm.add_constant(X)\n",
    "    \n",
    "    op_model = sm.OLS(Y,X).fit()\n",
    "    print(op_model.summary())\n",
    "    return op_model\n",
    "\n",
    "def ols_fn(y,x):\n",
    "    X = x\n",
    "    Y = y\n",
    "    X = sm.add_constant(X)\n",
    "    \n",
    "    op_model = sm.OLS(Y,X).fit()\n",
    "    #print(op_model.summary()) #Not printing the summary\n",
    "    return op_model\n",
    "\n",
    "#Creating a function to return variance inflation factor\n",
    "\n",
    "def vif(x):\n",
    "    from statsmodels.stats.outliers_influence import variance_inflation_factor\n",
    "    X = x\n",
    "    vif = pd.Series([variance_inflation_factor(X.values,i) \n",
    "                                   for i in range(X.shape[1])], \n",
    "                                   index=X.columns)\n",
    "    return vif\n",
    "\n"
   ]
  },
  {
   "cell_type": "markdown",
   "id": "66ab2dbf",
   "metadata": {},
   "source": [
    "#### Creating a function for the residual plot"
   ]
  },
  {
   "cell_type": "code",
   "execution_count": 3,
   "id": "b92a0c34",
   "metadata": {},
   "outputs": [],
   "source": [
    "#Creating a function for residual plot\n",
    "\n",
    "def resid_plot(reg_model,feature):\n",
    "    # Define figure size\n",
    "    figure1 = plt.figure(figsize=(8,8))\n",
    "\n",
    "    # Produce regression plots for logreg_model\n",
    "    fig = sm.graphics.plot_regress_exog(reg_model, feature , fig = figure1)\n",
    "\n",
    "\n"
   ]
  },
  {
   "cell_type": "markdown",
   "id": "269746c2",
   "metadata": {},
   "source": [
    "#### Starting the solution:"
   ]
  },
  {
   "cell_type": "code",
   "execution_count": 4,
   "id": "d58a1a2f",
   "metadata": {},
   "outputs": [
    {
     "data": {
      "text/html": [
       "<div>\n",
       "<style scoped>\n",
       "    .dataframe tbody tr th:only-of-type {\n",
       "        vertical-align: middle;\n",
       "    }\n",
       "\n",
       "    .dataframe tbody tr th {\n",
       "        vertical-align: top;\n",
       "    }\n",
       "\n",
       "    .dataframe thead th {\n",
       "        text-align: right;\n",
       "    }\n",
       "</style>\n",
       "<table border=\"1\" class=\"dataframe\">\n",
       "  <thead>\n",
       "    <tr style=\"text-align: right;\">\n",
       "      <th></th>\n",
       "      <th>Household</th>\n",
       "      <th>Monthly Payment</th>\n",
       "      <th>Family Size</th>\n",
       "      <th>Sector No</th>\n",
       "      <th>Rent</th>\n",
       "      <th>Own</th>\n",
       "      <th>Income</th>\n",
       "      <th>Utilities</th>\n",
       "      <th>Debt</th>\n",
       "    </tr>\n",
       "  </thead>\n",
       "  <tbody>\n",
       "    <tr>\n",
       "      <th>0</th>\n",
       "      <td>1</td>\n",
       "      <td>$1,585</td>\n",
       "      <td>2</td>\n",
       "      <td>2</td>\n",
       "      <td>0</td>\n",
       "      <td>1</td>\n",
       "      <td>$96,709</td>\n",
       "      <td>$252</td>\n",
       "      <td>$5,692</td>\n",
       "    </tr>\n",
       "    <tr>\n",
       "      <th>1</th>\n",
       "      <td>2</td>\n",
       "      <td>$1,314</td>\n",
       "      <td>6</td>\n",
       "      <td>2</td>\n",
       "      <td>1</td>\n",
       "      <td>0</td>\n",
       "      <td>$77,470</td>\n",
       "      <td>$216</td>\n",
       "      <td>$4,267</td>\n",
       "    </tr>\n",
       "    <tr>\n",
       "      <th>2</th>\n",
       "      <td>3</td>\n",
       "      <td>$383</td>\n",
       "      <td>3</td>\n",
       "      <td>4</td>\n",
       "      <td>1</td>\n",
       "      <td>0</td>\n",
       "      <td>$65,746</td>\n",
       "      <td>$207</td>\n",
       "      <td>$2,903</td>\n",
       "    </tr>\n",
       "    <tr>\n",
       "      <th>3</th>\n",
       "      <td>4</td>\n",
       "      <td>$1,002</td>\n",
       "      <td>1</td>\n",
       "      <td>1</td>\n",
       "      <td>0</td>\n",
       "      <td>1</td>\n",
       "      <td>$56,610</td>\n",
       "      <td>$249</td>\n",
       "      <td>$3,896</td>\n",
       "    </tr>\n",
       "    <tr>\n",
       "      <th>4</th>\n",
       "      <td>5</td>\n",
       "      <td>$743</td>\n",
       "      <td>3</td>\n",
       "      <td>3</td>\n",
       "      <td>1</td>\n",
       "      <td>0</td>\n",
       "      <td>$59,185</td>\n",
       "      <td>$217</td>\n",
       "      <td>$3,011</td>\n",
       "    </tr>\n",
       "  </tbody>\n",
       "</table>\n",
       "</div>"
      ],
      "text/plain": [
       "   Household Monthly Payment  Family Size  Sector No  Rent  Own   Income  \\\n",
       "0          1          $1,585            2          2     0    1  $96,709   \n",
       "1          2          $1,314            6          2     1    0  $77,470   \n",
       "2          3            $383            3          4     1    0  $65,746   \n",
       "3          4          $1,002            1          1     0    1  $56,610   \n",
       "4          5            $743            3          3     1    0  $59,185   \n",
       "\n",
       "  Utilities    Debt  \n",
       "0      $252  $5,692  \n",
       "1      $216  $4,267  \n",
       "2      $207  $2,903  \n",
       "3      $249  $3,896  \n",
       "4      $217  $3,011  "
      ]
     },
     "execution_count": 4,
     "metadata": {},
     "output_type": "execute_result"
    }
   ],
   "source": [
    "df_monthly_expense_1 = pd.read_csv('MLR_MonthlyExpense.csv')\n",
    "df_monthly_expense_1 .head()"
   ]
  },
  {
   "cell_type": "code",
   "execution_count": 5,
   "id": "ed77bf86",
   "metadata": {},
   "outputs": [
    {
     "name": "stdout",
     "output_type": "stream",
     "text": [
      "<class 'pandas.core.frame.DataFrame'>\n",
      "RangeIndex: 500 entries, 0 to 499\n",
      "Data columns (total 9 columns):\n",
      " #   Column           Non-Null Count  Dtype \n",
      "---  ------           --------------  ----- \n",
      " 0   Household        500 non-null    int64 \n",
      " 1   Monthly Payment  500 non-null    object\n",
      " 2   Family Size      500 non-null    int64 \n",
      " 3   Sector No        500 non-null    int64 \n",
      " 4   Rent             500 non-null    int64 \n",
      " 5   Own              500 non-null    int64 \n",
      " 6   Income           500 non-null    object\n",
      " 7   Utilities        500 non-null    object\n",
      " 8   Debt             500 non-null    object\n",
      "dtypes: int64(5), object(4)\n",
      "memory usage: 35.3+ KB\n"
     ]
    }
   ],
   "source": [
    "#Checking data quality\n",
    "df_monthly_expense_1.info()"
   ]
  },
  {
   "cell_type": "code",
   "execution_count": 6,
   "id": "f7d0e69a",
   "metadata": {},
   "outputs": [
    {
     "data": {
      "text/plain": [
       "Index(['Household', 'Monthly Payment', 'Family Size', 'Sector No', 'Rent',\n",
       "       'Own', 'Income', 'Utilities', 'Debt'],\n",
       "      dtype='object')"
      ]
     },
     "execution_count": 6,
     "metadata": {},
     "output_type": "execute_result"
    }
   ],
   "source": [
    "df_monthly_expense_1.columns"
   ]
  },
  {
   "cell_type": "code",
   "execution_count": 7,
   "id": "a65640b3",
   "metadata": {},
   "outputs": [
    {
     "data": {
      "text/plain": [
       "Index(['household', 'monthly payment', 'family size', 'sector no', 'rent',\n",
       "       'own', 'income', 'utilities', 'debt'],\n",
       "      dtype='object')"
      ]
     },
     "execution_count": 7,
     "metadata": {},
     "output_type": "execute_result"
    }
   ],
   "source": [
    "#Converting the column names to lower case\n",
    "\n",
    "column_series = df_monthly_expense_1.columns\n",
    "\n",
    "column_series  = column_series.str.lower()\n",
    "column_series"
   ]
  },
  {
   "cell_type": "code",
   "execution_count": 8,
   "id": "308e4d6e",
   "metadata": {},
   "outputs": [
    {
     "data": {
      "text/plain": [
       "Index(['household', 'monthly_payment', 'family_size', 'sector_no', 'rent',\n",
       "       'own', 'income', 'utilities', 'debt'],\n",
       "      dtype='object')"
      ]
     },
     "execution_count": 8,
     "metadata": {},
     "output_type": "execute_result"
    }
   ],
   "source": [
    "#Renaming the columns to snake case\n",
    "column_series = column_series.str.replace(' ','_')\n",
    "column_series"
   ]
  },
  {
   "cell_type": "code",
   "execution_count": 9,
   "id": "b896b264",
   "metadata": {},
   "outputs": [
    {
     "name": "stdout",
     "output_type": "stream",
     "text": [
      "<class 'pandas.core.frame.DataFrame'>\n",
      "RangeIndex: 500 entries, 0 to 499\n",
      "Data columns (total 9 columns):\n",
      " #   Column           Non-Null Count  Dtype \n",
      "---  ------           --------------  ----- \n",
      " 0   household        500 non-null    int64 \n",
      " 1   monthly_payment  500 non-null    object\n",
      " 2   family_size      500 non-null    int64 \n",
      " 3   sector_no        500 non-null    int64 \n",
      " 4   rent             500 non-null    int64 \n",
      " 5   own              500 non-null    int64 \n",
      " 6   income           500 non-null    object\n",
      " 7   utilities        500 non-null    object\n",
      " 8   debt             500 non-null    object\n",
      "dtypes: int64(5), object(4)\n",
      "memory usage: 35.3+ KB\n"
     ]
    }
   ],
   "source": [
    "df_monthly_expense_1.columns = column_series\n",
    "df_monthly_expense_1.info()"
   ]
  },
  {
   "cell_type": "code",
   "execution_count": 10,
   "id": "3fbe30ab",
   "metadata": {},
   "outputs": [
    {
     "data": {
      "text/html": [
       "<div>\n",
       "<style scoped>\n",
       "    .dataframe tbody tr th:only-of-type {\n",
       "        vertical-align: middle;\n",
       "    }\n",
       "\n",
       "    .dataframe tbody tr th {\n",
       "        vertical-align: top;\n",
       "    }\n",
       "\n",
       "    .dataframe thead th {\n",
       "        text-align: right;\n",
       "    }\n",
       "</style>\n",
       "<table border=\"1\" class=\"dataframe\">\n",
       "  <thead>\n",
       "    <tr style=\"text-align: right;\">\n",
       "      <th></th>\n",
       "      <th>household</th>\n",
       "      <th>monthly_payment</th>\n",
       "      <th>family_size</th>\n",
       "      <th>sector_no</th>\n",
       "      <th>rent</th>\n",
       "      <th>own</th>\n",
       "      <th>income</th>\n",
       "      <th>utilities</th>\n",
       "      <th>debt</th>\n",
       "    </tr>\n",
       "  </thead>\n",
       "  <tbody>\n",
       "    <tr>\n",
       "      <th>0</th>\n",
       "      <td>1</td>\n",
       "      <td>$1,585</td>\n",
       "      <td>2</td>\n",
       "      <td>2</td>\n",
       "      <td>0</td>\n",
       "      <td>1</td>\n",
       "      <td>$96,709</td>\n",
       "      <td>$252</td>\n",
       "      <td>$5,692</td>\n",
       "    </tr>\n",
       "    <tr>\n",
       "      <th>1</th>\n",
       "      <td>2</td>\n",
       "      <td>$1,314</td>\n",
       "      <td>6</td>\n",
       "      <td>2</td>\n",
       "      <td>1</td>\n",
       "      <td>0</td>\n",
       "      <td>$77,470</td>\n",
       "      <td>$216</td>\n",
       "      <td>$4,267</td>\n",
       "    </tr>\n",
       "    <tr>\n",
       "      <th>2</th>\n",
       "      <td>3</td>\n",
       "      <td>$383</td>\n",
       "      <td>3</td>\n",
       "      <td>4</td>\n",
       "      <td>1</td>\n",
       "      <td>0</td>\n",
       "      <td>$65,746</td>\n",
       "      <td>$207</td>\n",
       "      <td>$2,903</td>\n",
       "    </tr>\n",
       "    <tr>\n",
       "      <th>3</th>\n",
       "      <td>4</td>\n",
       "      <td>$1,002</td>\n",
       "      <td>1</td>\n",
       "      <td>1</td>\n",
       "      <td>0</td>\n",
       "      <td>1</td>\n",
       "      <td>$56,610</td>\n",
       "      <td>$249</td>\n",
       "      <td>$3,896</td>\n",
       "    </tr>\n",
       "    <tr>\n",
       "      <th>4</th>\n",
       "      <td>5</td>\n",
       "      <td>$743</td>\n",
       "      <td>3</td>\n",
       "      <td>3</td>\n",
       "      <td>1</td>\n",
       "      <td>0</td>\n",
       "      <td>$59,185</td>\n",
       "      <td>$217</td>\n",
       "      <td>$3,011</td>\n",
       "    </tr>\n",
       "  </tbody>\n",
       "</table>\n",
       "</div>"
      ],
      "text/plain": [
       "   household monthly_payment  family_size  sector_no  rent  own   income  \\\n",
       "0          1          $1,585            2          2     0    1  $96,709   \n",
       "1          2          $1,314            6          2     1    0  $77,470   \n",
       "2          3            $383            3          4     1    0  $65,746   \n",
       "3          4          $1,002            1          1     0    1  $56,610   \n",
       "4          5            $743            3          3     1    0  $59,185   \n",
       "\n",
       "  utilities    debt  \n",
       "0      $252  $5,692  \n",
       "1      $216  $4,267  \n",
       "2      $207  $2,903  \n",
       "3      $249  $3,896  \n",
       "4      $217  $3,011  "
      ]
     },
     "execution_count": 10,
     "metadata": {},
     "output_type": "execute_result"
    }
   ],
   "source": [
    "df_monthly_expense_1.head()"
   ]
  },
  {
   "cell_type": "code",
   "execution_count": 11,
   "id": "426c7608",
   "metadata": {},
   "outputs": [
    {
     "data": {
      "text/html": [
       "<div>\n",
       "<style scoped>\n",
       "    .dataframe tbody tr th:only-of-type {\n",
       "        vertical-align: middle;\n",
       "    }\n",
       "\n",
       "    .dataframe tbody tr th {\n",
       "        vertical-align: top;\n",
       "    }\n",
       "\n",
       "    .dataframe thead th {\n",
       "        text-align: right;\n",
       "    }\n",
       "</style>\n",
       "<table border=\"1\" class=\"dataframe\">\n",
       "  <thead>\n",
       "    <tr style=\"text-align: right;\">\n",
       "      <th></th>\n",
       "      <th>household</th>\n",
       "      <th>monthly_payment</th>\n",
       "      <th>family_size</th>\n",
       "      <th>sector_no</th>\n",
       "      <th>rent</th>\n",
       "      <th>own</th>\n",
       "      <th>income</th>\n",
       "      <th>utilities</th>\n",
       "      <th>debt</th>\n",
       "    </tr>\n",
       "  </thead>\n",
       "  <tbody>\n",
       "    <tr>\n",
       "      <th>0</th>\n",
       "      <td>1</td>\n",
       "      <td>1585.0</td>\n",
       "      <td>2</td>\n",
       "      <td>2</td>\n",
       "      <td>0</td>\n",
       "      <td>1</td>\n",
       "      <td>96709.0</td>\n",
       "      <td>252.0</td>\n",
       "      <td>5692.0</td>\n",
       "    </tr>\n",
       "    <tr>\n",
       "      <th>1</th>\n",
       "      <td>2</td>\n",
       "      <td>1314.0</td>\n",
       "      <td>6</td>\n",
       "      <td>2</td>\n",
       "      <td>1</td>\n",
       "      <td>0</td>\n",
       "      <td>77470.0</td>\n",
       "      <td>216.0</td>\n",
       "      <td>4267.0</td>\n",
       "    </tr>\n",
       "    <tr>\n",
       "      <th>2</th>\n",
       "      <td>3</td>\n",
       "      <td>383.0</td>\n",
       "      <td>3</td>\n",
       "      <td>4</td>\n",
       "      <td>1</td>\n",
       "      <td>0</td>\n",
       "      <td>65746.0</td>\n",
       "      <td>207.0</td>\n",
       "      <td>2903.0</td>\n",
       "    </tr>\n",
       "    <tr>\n",
       "      <th>3</th>\n",
       "      <td>4</td>\n",
       "      <td>1002.0</td>\n",
       "      <td>1</td>\n",
       "      <td>1</td>\n",
       "      <td>0</td>\n",
       "      <td>1</td>\n",
       "      <td>56610.0</td>\n",
       "      <td>249.0</td>\n",
       "      <td>3896.0</td>\n",
       "    </tr>\n",
       "    <tr>\n",
       "      <th>4</th>\n",
       "      <td>5</td>\n",
       "      <td>743.0</td>\n",
       "      <td>3</td>\n",
       "      <td>3</td>\n",
       "      <td>1</td>\n",
       "      <td>0</td>\n",
       "      <td>59185.0</td>\n",
       "      <td>217.0</td>\n",
       "      <td>3011.0</td>\n",
       "    </tr>\n",
       "  </tbody>\n",
       "</table>\n",
       "</div>"
      ],
      "text/plain": [
       "   household  monthly_payment  family_size  sector_no  rent  own   income  \\\n",
       "0          1           1585.0            2          2     0    1  96709.0   \n",
       "1          2           1314.0            6          2     1    0  77470.0   \n",
       "2          3            383.0            3          4     1    0  65746.0   \n",
       "3          4           1002.0            1          1     0    1  56610.0   \n",
       "4          5            743.0            3          3     1    0  59185.0   \n",
       "\n",
       "   utilities    debt  \n",
       "0      252.0  5692.0  \n",
       "1      216.0  4267.0  \n",
       "2      207.0  2903.0  \n",
       "3      249.0  3896.0  \n",
       "4      217.0  3011.0  "
      ]
     },
     "execution_count": 11,
     "metadata": {},
     "output_type": "execute_result"
    }
   ],
   "source": [
    "#Removing the $ sign and commas from the required columns and changing the data type to float\n",
    "\n",
    "dollar_columns = ['monthly_payment', 'income', 'utilities', 'debt']\n",
    "\n",
    "for column in dollar_columns:\n",
    "    df_monthly_expense_1[column] = df_monthly_expense_1[column].str.replace('$','')\n",
    "    df_monthly_expense_1[column] = df_monthly_expense_1[column].str.replace(',','')\n",
    "    df_monthly_expense_1[column] = df_monthly_expense_1[column].astype(float)\n",
    "\n",
    "\n",
    "df_monthly_expense_1.head()"
   ]
  },
  {
   "cell_type": "code",
   "execution_count": 12,
   "id": "f5ff014e",
   "metadata": {},
   "outputs": [
    {
     "name": "stdout",
     "output_type": "stream",
     "text": [
      "<class 'pandas.core.frame.DataFrame'>\n",
      "RangeIndex: 500 entries, 0 to 499\n",
      "Data columns (total 9 columns):\n",
      " #   Column           Non-Null Count  Dtype  \n",
      "---  ------           --------------  -----  \n",
      " 0   household        500 non-null    int64  \n",
      " 1   monthly_payment  500 non-null    float64\n",
      " 2   family_size      500 non-null    int64  \n",
      " 3   sector_no        500 non-null    int64  \n",
      " 4   rent             500 non-null    int64  \n",
      " 5   own              500 non-null    int64  \n",
      " 6   income           500 non-null    float64\n",
      " 7   utilities        500 non-null    float64\n",
      " 8   debt             500 non-null    float64\n",
      "dtypes: float64(4), int64(5)\n",
      "memory usage: 35.3 KB\n"
     ]
    }
   ],
   "source": [
    "df_monthly_expense_1.info()"
   ]
  },
  {
   "cell_type": "code",
   "execution_count": 13,
   "id": "c0ad46aa",
   "metadata": {},
   "outputs": [
    {
     "data": {
      "text/plain": [
       "<seaborn.axisgrid.PairGrid at 0x18ae84a8670>"
      ]
     },
     "execution_count": 13,
     "metadata": {},
     "output_type": "execute_result"
    },
    {
     "data": {
      "image/png": "[encoded data removed]",
      "text/plain": [
       "<Figure size 540x180 with 3 Axes>"
      ]
     },
     "metadata": {
      "needs_background": "light"
     },
     "output_type": "display_data"
    }
   ],
   "source": [
    "#Looking at the relationship of monthly payment with numerical variables\n",
    "\n",
    "sns.pairplot(df_monthly_expense_1,\n",
    "            x_vars =[ 'income', 'utilities', 'debt'],\n",
    "            y_vars = 'monthly_payment')"
   ]
  },
  {
   "cell_type": "code",
   "execution_count": 14,
   "id": "45d9812d",
   "metadata": {},
   "outputs": [
    {
     "data": {
      "text/plain": [
       "<AxesSubplot:xlabel='family_size', ylabel='monthly_payment'>"
      ]
     },
     "execution_count": 14,
     "metadata": {},
     "output_type": "execute_result"
    },
    {
     "data": {
      "image/png": "[encoded data removed]",
      "text/plain": [
       "<Figure size 432x288 with 1 Axes>"
      ]
     },
     "metadata": {
      "needs_background": "light"
     },
     "output_type": "display_data"
    }
   ],
   "source": [
    "#Looking at the relationship of monthly payment with family size\n",
    "#(Treating family size as a categorical variable)\n",
    "\n",
    "sns.boxplot(data = df_monthly_expense_1, x = 'family_size', y = 'monthly_payment'  )\n"
   ]
  },
  {
   "cell_type": "code",
   "execution_count": 15,
   "id": "195f60c5",
   "metadata": {},
   "outputs": [
    {
     "data": {
      "text/plain": [
       "<AxesSubplot:xlabel='monthly_payment', ylabel='Density'>"
      ]
     },
     "execution_count": 15,
     "metadata": {},
     "output_type": "execute_result"
    },
    {
     "data": {
      "image/png": "[encoded data removed]",
      "text/plain": [
       "<Figure size 432x288 with 1 Axes>"
      ]
     },
     "metadata": {
      "needs_background": "light"
     },
     "output_type": "display_data"
    }
   ],
   "source": [
    "#Checking normality of the distribution\n",
    "\n",
    "sns.kdeplot(x=df_monthly_expense_1.monthly_payment)"
   ]
  },
  {
   "cell_type": "code",
   "execution_count": 16,
   "id": "403f19d8",
   "metadata": {
    "scrolled": true
   },
   "outputs": [
    {
     "data": {
      "text/plain": [
       "household          0.000000\n",
       "monthly_payment    0.558579\n",
       "family_size        0.998252\n",
       "sector_no          0.010764\n",
       "rent               0.258901\n",
       "own               -0.258901\n",
       "income             0.998695\n",
       "utilities         -0.168775\n",
       "debt               0.088624\n",
       "dtype: float64"
      ]
     },
     "execution_count": 16,
     "metadata": {},
     "output_type": "execute_result"
    }
   ],
   "source": [
    "#checking for skewness\n",
    "df_monthly_expense_1.skew()"
   ]
  },
  {
   "cell_type": "code",
   "execution_count": 17,
   "id": "36ba4a64",
   "metadata": {},
   "outputs": [
    {
     "data": {
      "text/plain": [
       "-0.2894707729759989"
      ]
     },
     "execution_count": 17,
     "metadata": {},
     "output_type": "execute_result"
    }
   ],
   "source": [
    "#checking for kurtosis\n",
    "\n",
    "import scipy.stats\n",
    "\n",
    "scipy.stats.kurtosis(df_monthly_expense_1.monthly_payment)"
   ]
  },
  {
   "cell_type": "code",
   "execution_count": 18,
   "id": "e28019ed",
   "metadata": {},
   "outputs": [
    {
     "data": {
      "text/html": [
       "<div>\n",
       "<style scoped>\n",
       "    .dataframe tbody tr th:only-of-type {\n",
       "        vertical-align: middle;\n",
       "    }\n",
       "\n",
       "    .dataframe tbody tr th {\n",
       "        vertical-align: top;\n",
       "    }\n",
       "\n",
       "    .dataframe thead th {\n",
       "        text-align: right;\n",
       "    }\n",
       "</style>\n",
       "<table border=\"1\" class=\"dataframe\">\n",
       "  <thead>\n",
       "    <tr style=\"text-align: right;\">\n",
       "      <th></th>\n",
       "      <th>household</th>\n",
       "      <th>monthly_payment</th>\n",
       "      <th>family_size</th>\n",
       "      <th>sector_no</th>\n",
       "      <th>rent</th>\n",
       "      <th>own</th>\n",
       "      <th>income</th>\n",
       "      <th>utilities</th>\n",
       "      <th>debt</th>\n",
       "    </tr>\n",
       "  </thead>\n",
       "  <tbody>\n",
       "    <tr>\n",
       "      <th>0</th>\n",
       "      <td>1</td>\n",
       "      <td>1585.0</td>\n",
       "      <td>2</td>\n",
       "      <td>2</td>\n",
       "      <td>0</td>\n",
       "      <td>1</td>\n",
       "      <td>96709.0</td>\n",
       "      <td>252.0</td>\n",
       "      <td>5692.0</td>\n",
       "    </tr>\n",
       "    <tr>\n",
       "      <th>1</th>\n",
       "      <td>2</td>\n",
       "      <td>1314.0</td>\n",
       "      <td>6</td>\n",
       "      <td>2</td>\n",
       "      <td>1</td>\n",
       "      <td>0</td>\n",
       "      <td>77470.0</td>\n",
       "      <td>216.0</td>\n",
       "      <td>4267.0</td>\n",
       "    </tr>\n",
       "    <tr>\n",
       "      <th>2</th>\n",
       "      <td>3</td>\n",
       "      <td>383.0</td>\n",
       "      <td>3</td>\n",
       "      <td>4</td>\n",
       "      <td>1</td>\n",
       "      <td>0</td>\n",
       "      <td>65746.0</td>\n",
       "      <td>207.0</td>\n",
       "      <td>2903.0</td>\n",
       "    </tr>\n",
       "    <tr>\n",
       "      <th>3</th>\n",
       "      <td>4</td>\n",
       "      <td>1002.0</td>\n",
       "      <td>1</td>\n",
       "      <td>1</td>\n",
       "      <td>0</td>\n",
       "      <td>1</td>\n",
       "      <td>56610.0</td>\n",
       "      <td>249.0</td>\n",
       "      <td>3896.0</td>\n",
       "    </tr>\n",
       "    <tr>\n",
       "      <th>4</th>\n",
       "      <td>5</td>\n",
       "      <td>743.0</td>\n",
       "      <td>3</td>\n",
       "      <td>3</td>\n",
       "      <td>1</td>\n",
       "      <td>0</td>\n",
       "      <td>59185.0</td>\n",
       "      <td>217.0</td>\n",
       "      <td>3011.0</td>\n",
       "    </tr>\n",
       "  </tbody>\n",
       "</table>\n",
       "</div>"
      ],
      "text/plain": [
       "   household  monthly_payment  family_size  sector_no  rent  own   income  \\\n",
       "0          1           1585.0            2          2     0    1  96709.0   \n",
       "1          2           1314.0            6          2     1    0  77470.0   \n",
       "2          3            383.0            3          4     1    0  65746.0   \n",
       "3          4           1002.0            1          1     0    1  56610.0   \n",
       "4          5            743.0            3          3     1    0  59185.0   \n",
       "\n",
       "   utilities    debt  \n",
       "0      252.0  5692.0  \n",
       "1      216.0  4267.0  \n",
       "2      207.0  2903.0  \n",
       "3      249.0  3896.0  \n",
       "4      217.0  3011.0  "
      ]
     },
     "execution_count": 18,
     "metadata": {},
     "output_type": "execute_result"
    }
   ],
   "source": [
    "df_monthly_expense_1.head()"
   ]
  },
  {
   "cell_type": "code",
   "execution_count": 19,
   "id": "5946e521",
   "metadata": {},
   "outputs": [],
   "source": [
    "#Dividing the data into dependent and independent variables\n",
    "\n"
   ]
  },
  {
   "cell_type": "markdown",
   "id": "10c4002d",
   "metadata": {},
   "source": [
    "#### Skewness between -2 and +2 and Kurtosis between -3 and +3 is considered normal, hence we consider this distribution normal"
   ]
  },
  {
   "cell_type": "code",
   "execution_count": 20,
   "id": "d85ff527",
   "metadata": {},
   "outputs": [],
   "source": [
    "col_list = list(df_monthly_expense_1.columns)"
   ]
  },
  {
   "cell_type": "code",
   "execution_count": 21,
   "id": "1beed0cf",
   "metadata": {},
   "outputs": [],
   "source": [
    "x_cols = col_list.remove('monthly_payment')"
   ]
  },
  {
   "cell_type": "code",
   "execution_count": 22,
   "id": "13de3178",
   "metadata": {},
   "outputs": [
    {
     "data": {
      "text/plain": [
       "['household',\n",
       " 'family_size',\n",
       " 'sector_no',\n",
       " 'rent',\n",
       " 'own',\n",
       " 'income',\n",
       " 'utilities',\n",
       " 'debt']"
      ]
     },
     "execution_count": 22,
     "metadata": {},
     "output_type": "execute_result"
    }
   ],
   "source": [
    "col_list"
   ]
  },
  {
   "cell_type": "code",
   "execution_count": 23,
   "id": "ae1c70c1",
   "metadata": {},
   "outputs": [],
   "source": [
    "y =df_monthly_expense_1.monthly_payment\n",
    "x = df_monthly_expense_1[col_list]"
   ]
  },
  {
   "cell_type": "code",
   "execution_count": 24,
   "id": "0ac6504d",
   "metadata": {},
   "outputs": [
    {
     "data": {
      "text/html": [
       "<div>\n",
       "<style scoped>\n",
       "    .dataframe tbody tr th:only-of-type {\n",
       "        vertical-align: middle;\n",
       "    }\n",
       "\n",
       "    .dataframe tbody tr th {\n",
       "        vertical-align: top;\n",
       "    }\n",
       "\n",
       "    .dataframe thead th {\n",
       "        text-align: right;\n",
       "    }\n",
       "</style>\n",
       "<table border=\"1\" class=\"dataframe\">\n",
       "  <thead>\n",
       "    <tr style=\"text-align: right;\">\n",
       "      <th></th>\n",
       "      <th>household</th>\n",
       "      <th>family_size</th>\n",
       "      <th>sector_no</th>\n",
       "      <th>rent</th>\n",
       "      <th>own</th>\n",
       "      <th>income</th>\n",
       "      <th>utilities</th>\n",
       "      <th>debt</th>\n",
       "    </tr>\n",
       "  </thead>\n",
       "  <tbody>\n",
       "    <tr>\n",
       "      <th>0</th>\n",
       "      <td>1</td>\n",
       "      <td>2</td>\n",
       "      <td>2</td>\n",
       "      <td>0</td>\n",
       "      <td>1</td>\n",
       "      <td>96709.0</td>\n",
       "      <td>252.0</td>\n",
       "      <td>5692.0</td>\n",
       "    </tr>\n",
       "    <tr>\n",
       "      <th>1</th>\n",
       "      <td>2</td>\n",
       "      <td>6</td>\n",
       "      <td>2</td>\n",
       "      <td>1</td>\n",
       "      <td>0</td>\n",
       "      <td>77470.0</td>\n",
       "      <td>216.0</td>\n",
       "      <td>4267.0</td>\n",
       "    </tr>\n",
       "    <tr>\n",
       "      <th>2</th>\n",
       "      <td>3</td>\n",
       "      <td>3</td>\n",
       "      <td>4</td>\n",
       "      <td>1</td>\n",
       "      <td>0</td>\n",
       "      <td>65746.0</td>\n",
       "      <td>207.0</td>\n",
       "      <td>2903.0</td>\n",
       "    </tr>\n",
       "    <tr>\n",
       "      <th>3</th>\n",
       "      <td>4</td>\n",
       "      <td>1</td>\n",
       "      <td>1</td>\n",
       "      <td>0</td>\n",
       "      <td>1</td>\n",
       "      <td>56610.0</td>\n",
       "      <td>249.0</td>\n",
       "      <td>3896.0</td>\n",
       "    </tr>\n",
       "    <tr>\n",
       "      <th>4</th>\n",
       "      <td>5</td>\n",
       "      <td>3</td>\n",
       "      <td>3</td>\n",
       "      <td>1</td>\n",
       "      <td>0</td>\n",
       "      <td>59185.0</td>\n",
       "      <td>217.0</td>\n",
       "      <td>3011.0</td>\n",
       "    </tr>\n",
       "  </tbody>\n",
       "</table>\n",
       "</div>"
      ],
      "text/plain": [
       "   household  family_size  sector_no  rent  own   income  utilities    debt\n",
       "0          1            2          2     0    1  96709.0      252.0  5692.0\n",
       "1          2            6          2     1    0  77470.0      216.0  4267.0\n",
       "2          3            3          4     1    0  65746.0      207.0  2903.0\n",
       "3          4            1          1     0    1  56610.0      249.0  3896.0\n",
       "4          5            3          3     1    0  59185.0      217.0  3011.0"
      ]
     },
     "execution_count": 24,
     "metadata": {},
     "output_type": "execute_result"
    }
   ],
   "source": [
    "x.head()"
   ]
  },
  {
   "cell_type": "code",
   "execution_count": 25,
   "id": "3d6a2f5f",
   "metadata": {},
   "outputs": [
    {
     "data": {
      "text/plain": [
       "0    1585.0\n",
       "1    1314.0\n",
       "2     383.0\n",
       "3    1002.0\n",
       "4     743.0\n",
       "Name: monthly_payment, dtype: float64"
      ]
     },
     "execution_count": 25,
     "metadata": {},
     "output_type": "execute_result"
    }
   ],
   "source": [
    "y.head()"
   ]
  },
  {
   "cell_type": "markdown",
   "id": "91c542db",
   "metadata": {},
   "source": [
    "#### Since rent and own appear encoded columns, we will drop one of them."
   ]
  },
  {
   "cell_type": "code",
   "execution_count": 26,
   "id": "df2fe40e",
   "metadata": {},
   "outputs": [
    {
     "data": {
      "text/html": [
       "<div>\n",
       "<style scoped>\n",
       "    .dataframe tbody tr th:only-of-type {\n",
       "        vertical-align: middle;\n",
       "    }\n",
       "\n",
       "    .dataframe tbody tr th {\n",
       "        vertical-align: top;\n",
       "    }\n",
       "\n",
       "    .dataframe thead th {\n",
       "        text-align: right;\n",
       "    }\n",
       "</style>\n",
       "<table border=\"1\" class=\"dataframe\">\n",
       "  <thead>\n",
       "    <tr style=\"text-align: right;\">\n",
       "      <th></th>\n",
       "      <th>household</th>\n",
       "      <th>family_size</th>\n",
       "      <th>sector_no</th>\n",
       "      <th>own</th>\n",
       "      <th>income</th>\n",
       "      <th>utilities</th>\n",
       "      <th>debt</th>\n",
       "    </tr>\n",
       "  </thead>\n",
       "  <tbody>\n",
       "    <tr>\n",
       "      <th>0</th>\n",
       "      <td>1</td>\n",
       "      <td>2</td>\n",
       "      <td>2</td>\n",
       "      <td>1</td>\n",
       "      <td>96709.0</td>\n",
       "      <td>252.0</td>\n",
       "      <td>5692.0</td>\n",
       "    </tr>\n",
       "    <tr>\n",
       "      <th>1</th>\n",
       "      <td>2</td>\n",
       "      <td>6</td>\n",
       "      <td>2</td>\n",
       "      <td>0</td>\n",
       "      <td>77470.0</td>\n",
       "      <td>216.0</td>\n",
       "      <td>4267.0</td>\n",
       "    </tr>\n",
       "    <tr>\n",
       "      <th>2</th>\n",
       "      <td>3</td>\n",
       "      <td>3</td>\n",
       "      <td>4</td>\n",
       "      <td>0</td>\n",
       "      <td>65746.0</td>\n",
       "      <td>207.0</td>\n",
       "      <td>2903.0</td>\n",
       "    </tr>\n",
       "    <tr>\n",
       "      <th>3</th>\n",
       "      <td>4</td>\n",
       "      <td>1</td>\n",
       "      <td>1</td>\n",
       "      <td>1</td>\n",
       "      <td>56610.0</td>\n",
       "      <td>249.0</td>\n",
       "      <td>3896.0</td>\n",
       "    </tr>\n",
       "    <tr>\n",
       "      <th>4</th>\n",
       "      <td>5</td>\n",
       "      <td>3</td>\n",
       "      <td>3</td>\n",
       "      <td>0</td>\n",
       "      <td>59185.0</td>\n",
       "      <td>217.0</td>\n",
       "      <td>3011.0</td>\n",
       "    </tr>\n",
       "  </tbody>\n",
       "</table>\n",
       "</div>"
      ],
      "text/plain": [
       "   household  family_size  sector_no  own   income  utilities    debt\n",
       "0          1            2          2    1  96709.0      252.0  5692.0\n",
       "1          2            6          2    0  77470.0      216.0  4267.0\n",
       "2          3            3          4    0  65746.0      207.0  2903.0\n",
       "3          4            1          1    1  56610.0      249.0  3896.0\n",
       "4          5            3          3    0  59185.0      217.0  3011.0"
      ]
     },
     "execution_count": 26,
     "metadata": {},
     "output_type": "execute_result"
    }
   ],
   "source": [
    "x = x.drop(columns = 'rent')\n",
    "x.head()"
   ]
  },
  {
   "cell_type": "code",
   "execution_count": 27,
   "id": "b37d198f",
   "metadata": {},
   "outputs": [
    {
     "data": {
      "text/html": [
       "<div>\n",
       "<style scoped>\n",
       "    .dataframe tbody tr th:only-of-type {\n",
       "        vertical-align: middle;\n",
       "    }\n",
       "\n",
       "    .dataframe tbody tr th {\n",
       "        vertical-align: top;\n",
       "    }\n",
       "\n",
       "    .dataframe thead th {\n",
       "        text-align: right;\n",
       "    }\n",
       "</style>\n",
       "<table border=\"1\" class=\"dataframe\">\n",
       "  <thead>\n",
       "    <tr style=\"text-align: right;\">\n",
       "      <th></th>\n",
       "      <th>household</th>\n",
       "      <th>family_size</th>\n",
       "      <th>sector_no</th>\n",
       "      <th>own</th>\n",
       "      <th>income</th>\n",
       "      <th>utilities</th>\n",
       "      <th>debt</th>\n",
       "    </tr>\n",
       "  </thead>\n",
       "  <tbody>\n",
       "    <tr>\n",
       "      <th>count</th>\n",
       "      <td>500.000000</td>\n",
       "      <td>500.000000</td>\n",
       "      <td>500.000000</td>\n",
       "      <td>500.000000</td>\n",
       "      <td>500.000000</td>\n",
       "      <td>500.000000</td>\n",
       "      <td>500.000000</td>\n",
       "    </tr>\n",
       "    <tr>\n",
       "      <th>mean</th>\n",
       "      <td>250.500000</td>\n",
       "      <td>2.996000</td>\n",
       "      <td>2.494000</td>\n",
       "      <td>0.564000</td>\n",
       "      <td>66211.110000</td>\n",
       "      <td>235.652000</td>\n",
       "      <td>4319.230000</td>\n",
       "    </tr>\n",
       "    <tr>\n",
       "      <th>std</th>\n",
       "      <td>144.481833</td>\n",
       "      <td>1.563609</td>\n",
       "      <td>1.131603</td>\n",
       "      <td>0.496384</td>\n",
       "      <td>29663.318811</td>\n",
       "      <td>25.881395</td>\n",
       "      <td>1726.049839</td>\n",
       "    </tr>\n",
       "    <tr>\n",
       "      <th>min</th>\n",
       "      <td>1.000000</td>\n",
       "      <td>1.000000</td>\n",
       "      <td>1.000000</td>\n",
       "      <td>0.000000</td>\n",
       "      <td>16971.000000</td>\n",
       "      <td>190.000000</td>\n",
       "      <td>227.000000</td>\n",
       "    </tr>\n",
       "    <tr>\n",
       "      <th>25%</th>\n",
       "      <td>125.750000</td>\n",
       "      <td>2.000000</td>\n",
       "      <td>1.000000</td>\n",
       "      <td>0.000000</td>\n",
       "      <td>44368.500000</td>\n",
       "      <td>209.000000</td>\n",
       "      <td>2948.500000</td>\n",
       "    </tr>\n",
       "    <tr>\n",
       "      <th>50%</th>\n",
       "      <td>250.500000</td>\n",
       "      <td>3.000000</td>\n",
       "      <td>2.000000</td>\n",
       "      <td>1.000000</td>\n",
       "      <td>59804.500000</td>\n",
       "      <td>246.000000</td>\n",
       "      <td>4267.500000</td>\n",
       "    </tr>\n",
       "    <tr>\n",
       "      <th>75%</th>\n",
       "      <td>375.250000</td>\n",
       "      <td>4.000000</td>\n",
       "      <td>4.000000</td>\n",
       "      <td>1.000000</td>\n",
       "      <td>81615.750000</td>\n",
       "      <td>257.000000</td>\n",
       "      <td>5675.500000</td>\n",
       "    </tr>\n",
       "    <tr>\n",
       "      <th>max</th>\n",
       "      <td>500.000000</td>\n",
       "      <td>10.000000</td>\n",
       "      <td>4.000000</td>\n",
       "      <td>1.000000</td>\n",
       "      <td>173706.000000</td>\n",
       "      <td>287.000000</td>\n",
       "      <td>9104.000000</td>\n",
       "    </tr>\n",
       "  </tbody>\n",
       "</table>\n",
       "</div>"
      ],
      "text/plain": [
       "        household  family_size   sector_no         own         income  \\\n",
       "count  500.000000   500.000000  500.000000  500.000000     500.000000   \n",
       "mean   250.500000     2.996000    2.494000    0.564000   66211.110000   \n",
       "std    144.481833     1.563609    1.131603    0.496384   29663.318811   \n",
       "min      1.000000     1.000000    1.000000    0.000000   16971.000000   \n",
       "25%    125.750000     2.000000    1.000000    0.000000   44368.500000   \n",
       "50%    250.500000     3.000000    2.000000    1.000000   59804.500000   \n",
       "75%    375.250000     4.000000    4.000000    1.000000   81615.750000   \n",
       "max    500.000000    10.000000    4.000000    1.000000  173706.000000   \n",
       "\n",
       "        utilities         debt  \n",
       "count  500.000000   500.000000  \n",
       "mean   235.652000  4319.230000  \n",
       "std     25.881395  1726.049839  \n",
       "min    190.000000   227.000000  \n",
       "25%    209.000000  2948.500000  \n",
       "50%    246.000000  4267.500000  \n",
       "75%    257.000000  5675.500000  \n",
       "max    287.000000  9104.000000  "
      ]
     },
     "execution_count": 27,
     "metadata": {},
     "output_type": "execute_result"
    }
   ],
   "source": [
    "x.describe()"
   ]
  },
  {
   "cell_type": "code",
   "execution_count": 28,
   "id": "a40f5a0a",
   "metadata": {},
   "outputs": [],
   "source": [
    "# Household appears like household number, hence we can drop that as well\n",
    "\n",
    "x = x.drop(columns = 'household')"
   ]
  },
  {
   "cell_type": "code",
   "execution_count": 29,
   "id": "3bc9afd5",
   "metadata": {},
   "outputs": [
    {
     "data": {
      "text/html": [
       "<div>\n",
       "<style scoped>\n",
       "    .dataframe tbody tr th:only-of-type {\n",
       "        vertical-align: middle;\n",
       "    }\n",
       "\n",
       "    .dataframe tbody tr th {\n",
       "        vertical-align: top;\n",
       "    }\n",
       "\n",
       "    .dataframe thead th {\n",
       "        text-align: right;\n",
       "    }\n",
       "</style>\n",
       "<table border=\"1\" class=\"dataframe\">\n",
       "  <thead>\n",
       "    <tr style=\"text-align: right;\">\n",
       "      <th></th>\n",
       "      <th>family_size</th>\n",
       "      <th>sector_no</th>\n",
       "      <th>own</th>\n",
       "      <th>income</th>\n",
       "      <th>utilities</th>\n",
       "      <th>debt</th>\n",
       "    </tr>\n",
       "  </thead>\n",
       "  <tbody>\n",
       "    <tr>\n",
       "      <th>0</th>\n",
       "      <td>2</td>\n",
       "      <td>2</td>\n",
       "      <td>1</td>\n",
       "      <td>96709.0</td>\n",
       "      <td>252.0</td>\n",
       "      <td>5692.0</td>\n",
       "    </tr>\n",
       "    <tr>\n",
       "      <th>1</th>\n",
       "      <td>6</td>\n",
       "      <td>2</td>\n",
       "      <td>0</td>\n",
       "      <td>77470.0</td>\n",
       "      <td>216.0</td>\n",
       "      <td>4267.0</td>\n",
       "    </tr>\n",
       "    <tr>\n",
       "      <th>2</th>\n",
       "      <td>3</td>\n",
       "      <td>4</td>\n",
       "      <td>0</td>\n",
       "      <td>65746.0</td>\n",
       "      <td>207.0</td>\n",
       "      <td>2903.0</td>\n",
       "    </tr>\n",
       "    <tr>\n",
       "      <th>3</th>\n",
       "      <td>1</td>\n",
       "      <td>1</td>\n",
       "      <td>1</td>\n",
       "      <td>56610.0</td>\n",
       "      <td>249.0</td>\n",
       "      <td>3896.0</td>\n",
       "    </tr>\n",
       "    <tr>\n",
       "      <th>4</th>\n",
       "      <td>3</td>\n",
       "      <td>3</td>\n",
       "      <td>0</td>\n",
       "      <td>59185.0</td>\n",
       "      <td>217.0</td>\n",
       "      <td>3011.0</td>\n",
       "    </tr>\n",
       "  </tbody>\n",
       "</table>\n",
       "</div>"
      ],
      "text/plain": [
       "   family_size  sector_no  own   income  utilities    debt\n",
       "0            2          2    1  96709.0      252.0  5692.0\n",
       "1            6          2    0  77470.0      216.0  4267.0\n",
       "2            3          4    0  65746.0      207.0  2903.0\n",
       "3            1          1    1  56610.0      249.0  3896.0\n",
       "4            3          3    0  59185.0      217.0  3011.0"
      ]
     },
     "execution_count": 29,
     "metadata": {},
     "output_type": "execute_result"
    }
   ],
   "source": [
    "x.head()"
   ]
  },
  {
   "cell_type": "markdown",
   "id": "61f34523",
   "metadata": {},
   "source": [
    "#### Sector number can be considered a categorical variable and hence would be encoded"
   ]
  },
  {
   "cell_type": "code",
   "execution_count": 30,
   "id": "e227ee84",
   "metadata": {},
   "outputs": [
    {
     "data": {
      "text/html": [
       "<div>\n",
       "<style scoped>\n",
       "    .dataframe tbody tr th:only-of-type {\n",
       "        vertical-align: middle;\n",
       "    }\n",
       "\n",
       "    .dataframe tbody tr th {\n",
       "        vertical-align: top;\n",
       "    }\n",
       "\n",
       "    .dataframe thead th {\n",
       "        text-align: right;\n",
       "    }\n",
       "</style>\n",
       "<table border=\"1\" class=\"dataframe\">\n",
       "  <thead>\n",
       "    <tr style=\"text-align: right;\">\n",
       "      <th></th>\n",
       "      <th>family_size</th>\n",
       "      <th>own</th>\n",
       "      <th>income</th>\n",
       "      <th>utilities</th>\n",
       "      <th>debt</th>\n",
       "      <th>sector_no_2</th>\n",
       "      <th>sector_no_3</th>\n",
       "      <th>sector_no_4</th>\n",
       "    </tr>\n",
       "  </thead>\n",
       "  <tbody>\n",
       "    <tr>\n",
       "      <th>0</th>\n",
       "      <td>2</td>\n",
       "      <td>1</td>\n",
       "      <td>96709.0</td>\n",
       "      <td>252.0</td>\n",
       "      <td>5692.0</td>\n",
       "      <td>1</td>\n",
       "      <td>0</td>\n",
       "      <td>0</td>\n",
       "    </tr>\n",
       "    <tr>\n",
       "      <th>1</th>\n",
       "      <td>6</td>\n",
       "      <td>0</td>\n",
       "      <td>77470.0</td>\n",
       "      <td>216.0</td>\n",
       "      <td>4267.0</td>\n",
       "      <td>1</td>\n",
       "      <td>0</td>\n",
       "      <td>0</td>\n",
       "    </tr>\n",
       "    <tr>\n",
       "      <th>2</th>\n",
       "      <td>3</td>\n",
       "      <td>0</td>\n",
       "      <td>65746.0</td>\n",
       "      <td>207.0</td>\n",
       "      <td>2903.0</td>\n",
       "      <td>0</td>\n",
       "      <td>0</td>\n",
       "      <td>1</td>\n",
       "    </tr>\n",
       "    <tr>\n",
       "      <th>3</th>\n",
       "      <td>1</td>\n",
       "      <td>1</td>\n",
       "      <td>56610.0</td>\n",
       "      <td>249.0</td>\n",
       "      <td>3896.0</td>\n",
       "      <td>0</td>\n",
       "      <td>0</td>\n",
       "      <td>0</td>\n",
       "    </tr>\n",
       "    <tr>\n",
       "      <th>4</th>\n",
       "      <td>3</td>\n",
       "      <td>0</td>\n",
       "      <td>59185.0</td>\n",
       "      <td>217.0</td>\n",
       "      <td>3011.0</td>\n",
       "      <td>0</td>\n",
       "      <td>1</td>\n",
       "      <td>0</td>\n",
       "    </tr>\n",
       "  </tbody>\n",
       "</table>\n",
       "</div>"
      ],
      "text/plain": [
       "   family_size  own   income  utilities    debt  sector_no_2  sector_no_3  \\\n",
       "0            2    1  96709.0      252.0  5692.0            1            0   \n",
       "1            6    0  77470.0      216.0  4267.0            1            0   \n",
       "2            3    0  65746.0      207.0  2903.0            0            0   \n",
       "3            1    1  56610.0      249.0  3896.0            0            0   \n",
       "4            3    0  59185.0      217.0  3011.0            0            1   \n",
       "\n",
       "   sector_no_4  \n",
       "0            0  \n",
       "1            0  \n",
       "2            1  \n",
       "3            0  \n",
       "4            0  "
      ]
     },
     "execution_count": 30,
     "metadata": {},
     "output_type": "execute_result"
    }
   ],
   "source": [
    "x.sector_no = x.sector_no.astype('str')\n",
    "\n",
    "x = pd.get_dummies(x,drop_first=True)\n",
    "x.head()"
   ]
  },
  {
   "cell_type": "markdown",
   "id": "ebe3e993",
   "metadata": {},
   "source": [
    "#### Forward Selection - Starting iteratively with one variable - family size"
   ]
  },
  {
   "cell_type": "code",
   "execution_count": 31,
   "id": "26f33619",
   "metadata": {},
   "outputs": [
    {
     "data": {
      "text/plain": [
       "Index(['family_size', 'own', 'income', 'utilities', 'debt', 'sector_no_2',\n",
       "       'sector_no_3', 'sector_no_4'],\n",
       "      dtype='object')"
      ]
     },
     "execution_count": 31,
     "metadata": {},
     "output_type": "execute_result"
    }
   ],
   "source": [
    "x.columns"
   ]
  },
  {
   "cell_type": "code",
   "execution_count": 32,
   "id": "ebd77100",
   "metadata": {},
   "outputs": [],
   "source": [
    "a = ['family_size']\n",
    "b = ['own', 'income', 'utilities', 'debt', 'sector_no_2',\n",
    "         'sector_no_3', 'sector_no_4']\n",
    "\n",
    "x_sel = x[a]\n",
    "x_opt = x[b]"
   ]
  },
  {
   "cell_type": "code",
   "execution_count": 33,
   "id": "c7753082",
   "metadata": {},
   "outputs": [],
   "source": [
    "def print_and_append_2(Y,X):\n",
    "    X = X\n",
    "    Y = Y\n",
    "    df_p_values = pd.DataFrame()\n",
    "    for i in X:\n",
    "        x1 = pd.concat([x_sel,X[i]], join = 'outer', axis = 1)\n",
    "        x1 = sm.add_constant(x1)\n",
    "        reg_model = sm.OLS(Y,x1).fit()\n",
    "        \n",
    "        reg_model_index = reg_model.pvalues.index\n",
    "        reg_model_values= reg_model.pvalues.values\n",
    "        reg_model_rsqadj = reg_model.rsquared_adj\n",
    "        zipped_object = zip(reg_model_index,reg_model_values)\n",
    "        \n",
    "        print('The p value for the selected factor ', a[0] , 'is, ', reg_model_values[1])\n",
    "        print('The p value for the optional factor ', i, 'is, ', reg_model_values[2])\n",
    "        print('The Adj R2 for the model', a[0], 'and', i ,'is' , reg_model.rsquared_adj)\n",
    "        print('----------------------------------------------')\n",
    "        \n",
    "        df_reg_model_p_values = pd.DataFrame(zip([i],[float(reg_model_values[2])]),columns=['variable','p_value'])\n",
    "        df_reg_model_p_values= df_reg_model_p_values[df_reg_model_p_values['variable'] != 'const']\n",
    "        \n",
    "        \n",
    "        \n",
    "        df_p_values = df_p_values.append(df_reg_model_p_values)\n",
    "        \n",
    "    print(df_p_values)\n",
    "    df_p_values.reset_index(inplace = True, drop = True)\n",
    "    return df_p_values"
   ]
  },
  {
   "cell_type": "code",
   "execution_count": 34,
   "id": "fad06898",
   "metadata": {},
   "outputs": [
    {
     "name": "stdout",
     "output_type": "stream",
     "text": [
      "The p value for the selected factor  family_size is,  0.09494156599352464\n",
      "The p value for the optional factor  own is,  4.958287170500083e-41\n",
      "The Adj R2 for the model family_size and own is 0.3053053697422107\n",
      "----------------------------------------------\n",
      "The p value for the selected factor  family_size is,  7.923270643108524e-05\n",
      "The p value for the optional factor  income is,  7.193142672459181e-24\n",
      "The Adj R2 for the model family_size and income is 0.18636965421667817\n",
      "----------------------------------------------\n",
      "The p value for the selected factor  family_size is,  6.429118609971439e-08\n",
      "The p value for the optional factor  utilities is,  4.6977550334655935e-37\n",
      "The Adj R2 for the model family_size and utilities is 0.2793587165280217\n",
      "----------------------------------------------\n",
      "The p value for the selected factor  family_size is,  1.820763399830992e-14\n",
      "The p value for the optional factor  debt is,  2.8425647665216325e-63\n",
      "The Adj R2 for the model family_size and debt is 0.4342864666261075\n",
      "----------------------------------------------\n",
      "The p value for the selected factor  family_size is,  0.10367756832299994\n",
      "The p value for the optional factor  sector_no_2 is,  1.6866004016030037e-26\n",
      "The Adj R2 for the model family_size and sector_no_2 is 0.20580021501829404\n",
      "----------------------------------------------\n",
      "The p value for the selected factor  family_size is,  0.07787057972062329\n",
      "The p value for the optional factor  sector_no_3 is,  0.0467445599384065\n",
      "The Adj R2 for the model family_size and sector_no_3 is 0.009764645873929112\n",
      "----------------------------------------------\n",
      "The p value for the selected factor  family_size is,  0.07344219539658343\n",
      "The p value for the optional factor  sector_no_4 is,  4.3879653955336155e-38\n",
      "The Adj R2 for the model family_size and sector_no_4 is 0.2861669463496104\n",
      "----------------------------------------------\n",
      "      variable       p_value\n",
      "0          own  4.958287e-41\n",
      "0       income  7.193143e-24\n",
      "0    utilities  4.697755e-37\n",
      "0         debt  2.842565e-63\n",
      "0  sector_no_2  1.686600e-26\n",
      "0  sector_no_3  4.674456e-02\n",
      "0  sector_no_4  4.387965e-38\n"
     ]
    }
   ],
   "source": [
    "Y = y\n",
    "X = x_opt\n",
    "\n",
    "df_p_values_2 = print_and_append_2(Y,X)\n"
   ]
  },
  {
   "cell_type": "code",
   "execution_count": 35,
   "id": "d8ab03d1",
   "metadata": {},
   "outputs": [],
   "source": [
    "df_p_values_2.sort_values(by = 'p_value', inplace = True)"
   ]
  },
  {
   "cell_type": "code",
   "execution_count": 36,
   "id": "c701bfd6",
   "metadata": {},
   "outputs": [
    {
     "data": {
      "text/html": [
       "<div>\n",
       "<style scoped>\n",
       "    .dataframe tbody tr th:only-of-type {\n",
       "        vertical-align: middle;\n",
       "    }\n",
       "\n",
       "    .dataframe tbody tr th {\n",
       "        vertical-align: top;\n",
       "    }\n",
       "\n",
       "    .dataframe thead th {\n",
       "        text-align: right;\n",
       "    }\n",
       "</style>\n",
       "<table border=\"1\" class=\"dataframe\">\n",
       "  <thead>\n",
       "    <tr style=\"text-align: right;\">\n",
       "      <th></th>\n",
       "      <th>variable</th>\n",
       "      <th>p_value</th>\n",
       "    </tr>\n",
       "  </thead>\n",
       "  <tbody>\n",
       "    <tr>\n",
       "      <th>3</th>\n",
       "      <td>debt</td>\n",
       "      <td>2.842565e-63</td>\n",
       "    </tr>\n",
       "    <tr>\n",
       "      <th>0</th>\n",
       "      <td>own</td>\n",
       "      <td>4.958287e-41</td>\n",
       "    </tr>\n",
       "    <tr>\n",
       "      <th>6</th>\n",
       "      <td>sector_no_4</td>\n",
       "      <td>4.387965e-38</td>\n",
       "    </tr>\n",
       "    <tr>\n",
       "      <th>2</th>\n",
       "      <td>utilities</td>\n",
       "      <td>4.697755e-37</td>\n",
       "    </tr>\n",
       "    <tr>\n",
       "      <th>4</th>\n",
       "      <td>sector_no_2</td>\n",
       "      <td>1.686600e-26</td>\n",
       "    </tr>\n",
       "    <tr>\n",
       "      <th>1</th>\n",
       "      <td>income</td>\n",
       "      <td>7.193143e-24</td>\n",
       "    </tr>\n",
       "    <tr>\n",
       "      <th>5</th>\n",
       "      <td>sector_no_3</td>\n",
       "      <td>4.674456e-02</td>\n",
       "    </tr>\n",
       "  </tbody>\n",
       "</table>\n",
       "</div>"
      ],
      "text/plain": [
       "      variable       p_value\n",
       "3         debt  2.842565e-63\n",
       "0          own  4.958287e-41\n",
       "6  sector_no_4  4.387965e-38\n",
       "2    utilities  4.697755e-37\n",
       "4  sector_no_2  1.686600e-26\n",
       "1       income  7.193143e-24\n",
       "5  sector_no_3  4.674456e-02"
      ]
     },
     "execution_count": 36,
     "metadata": {},
     "output_type": "execute_result"
    }
   ],
   "source": [
    "df_p_values_2"
   ]
  },
  {
   "cell_type": "markdown",
   "id": "761adf78",
   "metadata": {},
   "source": [
    "#### Selecting debt since it has the lowest p value and hence the highest significance"
   ]
  },
  {
   "cell_type": "code",
   "execution_count": 37,
   "id": "bf6f84e2",
   "metadata": {},
   "outputs": [
    {
     "data": {
      "text/plain": [
       "str"
      ]
     },
     "execution_count": 37,
     "metadata": {},
     "output_type": "execute_result"
    }
   ],
   "source": [
    "factor_to_add = df_p_values_2['variable'][0]\n",
    "type(factor_to_add)"
   ]
  },
  {
   "cell_type": "code",
   "execution_count": 38,
   "id": "b45953e1",
   "metadata": {},
   "outputs": [],
   "source": [
    "a.append(factor_to_add)\n",
    "b.remove(factor_to_add)"
   ]
  },
  {
   "cell_type": "code",
   "execution_count": 39,
   "id": "11aeda87",
   "metadata": {},
   "outputs": [
    {
     "data": {
      "text/plain": [
       "Index(['family_size', 'own'], dtype='object')"
      ]
     },
     "execution_count": 39,
     "metadata": {},
     "output_type": "execute_result"
    }
   ],
   "source": [
    "x[a].columns"
   ]
  },
  {
   "cell_type": "code",
   "execution_count": 40,
   "id": "cd9d67fd",
   "metadata": {},
   "outputs": [
    {
     "data": {
      "text/plain": [
       "Index(['income', 'utilities', 'debt', 'sector_no_2', 'sector_no_3',\n",
       "       'sector_no_4'],\n",
       "      dtype='object')"
      ]
     },
     "execution_count": 40,
     "metadata": {},
     "output_type": "execute_result"
    }
   ],
   "source": [
    "x[b].columns"
   ]
  },
  {
   "cell_type": "code",
   "execution_count": 41,
   "id": "0fbc9b68",
   "metadata": {},
   "outputs": [],
   "source": [
    "x_sel = x[a]\n",
    "x_opt = x[b]"
   ]
  },
  {
   "cell_type": "code",
   "execution_count": 42,
   "id": "b9cc6c70",
   "metadata": {},
   "outputs": [],
   "source": [
    "def print_and_append_3(Y,X):\n",
    "    X = X\n",
    "    Y = Y\n",
    "    df_p_values = pd.DataFrame()\n",
    "    for i in X:\n",
    "        x1 = pd.concat([x_sel,X[i]], join = 'outer', axis = 1)\n",
    "        x1 = sm.add_constant(x1)\n",
    "        print(list(x1.columns))\n",
    "        reg_model = sm.OLS(Y,x1).fit()\n",
    "        \n",
    "        reg_model_index = reg_model.pvalues.index\n",
    "        reg_model_values= reg_model.pvalues.values\n",
    "        reg_model_rsqadj = reg_model.rsquared_adj\n",
    "        zipped_object = zip(reg_model_index,reg_model_values)\n",
    "        \n",
    "        print('The p value for the selected factor ', a[0], 'is, ', reg_model_values[1])\n",
    "        print('The p value for the selected factor ', a[1], 'is, ', reg_model_values[2])\n",
    "        print('The p value for the optional factor ', i, 'is, ', reg_model_values[3])\n",
    "        print('The Adj R2 for the model for the selected factors', a[0],a[1] , 'and optional factor', i ,'is' , reg_model.rsquared_adj)\n",
    "        print('----------------------------------------------')\n",
    "        \n",
    "        df_reg_model_p_values = pd.DataFrame(zip([i],[float(reg_model_values[0])]),columns=['variable','p_value'])\n",
    "        df_reg_model_p_values= df_reg_model_p_values[df_reg_model_p_values['variable'] != 'const']\n",
    "        \n",
    "        \n",
    "        \n",
    "        df_p_values = df_p_values.append(df_reg_model_p_values)\n",
    "        \n",
    "    print(df_p_values)\n",
    "    df_p_values.reset_index(inplace = True, drop = True)\n",
    "    return df_p_values"
   ]
  },
  {
   "cell_type": "code",
   "execution_count": 43,
   "id": "174ef86f",
   "metadata": {},
   "outputs": [
    {
     "name": "stdout",
     "output_type": "stream",
     "text": [
      "['const', 'family_size', 'own', 'income']\n",
      "The p value for the selected factor  family_size is,  0.00046380634370589804\n",
      "The p value for the selected factor  own is,  5.730735883433404e-33\n",
      "The p value for the optional factor  income is,  8.538117798231333e-16\n",
      "The Adj R2 for the model for the selected factors family_size own and optional factor income is 0.3891641333212865\n",
      "----------------------------------------------\n",
      "['const', 'family_size', 'own', 'utilities']\n",
      "The p value for the selected factor  family_size is,  0.8953883995199499\n",
      "The p value for the selected factor  own is,  1.0196474810690164e-05\n",
      "The p value for the optional factor  utilities is,  0.25336861399286487\n",
      "The Adj R2 for the model for the selected factors family_size own and optional factor utilities is 0.3057351569474537\n",
      "----------------------------------------------\n",
      "['const', 'family_size', 'own', 'debt']\n",
      "The p value for the selected factor  family_size is,  6.061119124478355e-11\n",
      "The p value for the selected factor  own is,  0.10309200120783367\n",
      "The p value for the optional factor  debt is,  1.6309389489226725e-24\n",
      "The Adj R2 for the model for the selected factors family_size own and optional factor debt is 0.4361774492421078\n",
      "----------------------------------------------\n",
      "['const', 'family_size', 'own', 'sector_no_2']\n",
      "The p value for the selected factor  family_size is,  0.10285140840118363\n",
      "The p value for the selected factor  own is,  3.7849206606399335e-29\n",
      "The p value for the optional factor  sector_no_2 is,  1.3839483167114709e-14\n",
      "The Adj R2 for the model for the selected factors family_size own and optional factor sector_no_2 is 0.3823646657347072\n",
      "----------------------------------------------\n",
      "['const', 'family_size', 'own', 'sector_no_3']\n",
      "The p value for the selected factor  family_size is,  0.09267339663531356\n",
      "The p value for the selected factor  own is,  3.874517003574975e-40\n",
      "The p value for the optional factor  sector_no_3 is,  0.6389687484340894\n",
      "The Adj R2 for the model for the selected factors family_size own and optional factor sector_no_3 is 0.3042139016065766\n",
      "----------------------------------------------\n",
      "['const', 'family_size', 'own', 'sector_no_4']\n",
      "The p value for the selected factor  family_size is,  0.07701110989982375\n",
      "The p value for the selected factor  own is,  9.667647416822767e-27\n",
      "The p value for the optional factor  sector_no_4 is,  8.634066972054419e-24\n",
      "The Adj R2 for the model for the selected factors family_size own and optional factor sector_no_4 is 0.4324082061875678\n",
      "----------------------------------------------\n",
      "      variable        p_value\n",
      "0       income   1.932814e-52\n",
      "0    utilities   3.855646e-03\n",
      "0         debt   1.070741e-45\n",
      "0  sector_no_2   1.404905e-90\n",
      "0  sector_no_3   1.177427e-82\n",
      "0  sector_no_4  2.739375e-109\n"
     ]
    }
   ],
   "source": [
    "Y = y\n",
    "X = x_opt\n",
    "\n",
    "df_p_values_3 = print_and_append_3(Y,X)"
   ]
  },
  {
   "cell_type": "code",
   "execution_count": 44,
   "id": "3754bef7",
   "metadata": {},
   "outputs": [],
   "source": [
    "df_p_values_3.sort_values(by = 'p_value', inplace = True)"
   ]
  },
  {
   "cell_type": "code",
   "execution_count": 45,
   "id": "e2822c00",
   "metadata": {},
   "outputs": [
    {
     "data": {
      "text/html": [
       "<div>\n",
       "<style scoped>\n",
       "    .dataframe tbody tr th:only-of-type {\n",
       "        vertical-align: middle;\n",
       "    }\n",
       "\n",
       "    .dataframe tbody tr th {\n",
       "        vertical-align: top;\n",
       "    }\n",
       "\n",
       "    .dataframe thead th {\n",
       "        text-align: right;\n",
       "    }\n",
       "</style>\n",
       "<table border=\"1\" class=\"dataframe\">\n",
       "  <thead>\n",
       "    <tr style=\"text-align: right;\">\n",
       "      <th></th>\n",
       "      <th>variable</th>\n",
       "      <th>p_value</th>\n",
       "    </tr>\n",
       "  </thead>\n",
       "  <tbody>\n",
       "    <tr>\n",
       "      <th>5</th>\n",
       "      <td>sector_no_4</td>\n",
       "      <td>2.739375e-109</td>\n",
       "    </tr>\n",
       "    <tr>\n",
       "      <th>3</th>\n",
       "      <td>sector_no_2</td>\n",
       "      <td>1.404905e-90</td>\n",
       "    </tr>\n",
       "    <tr>\n",
       "      <th>4</th>\n",
       "      <td>sector_no_3</td>\n",
       "      <td>1.177427e-82</td>\n",
       "    </tr>\n",
       "    <tr>\n",
       "      <th>0</th>\n",
       "      <td>income</td>\n",
       "      <td>1.932814e-52</td>\n",
       "    </tr>\n",
       "    <tr>\n",
       "      <th>2</th>\n",
       "      <td>debt</td>\n",
       "      <td>1.070741e-45</td>\n",
       "    </tr>\n",
       "    <tr>\n",
       "      <th>1</th>\n",
       "      <td>utilities</td>\n",
       "      <td>3.855646e-03</td>\n",
       "    </tr>\n",
       "  </tbody>\n",
       "</table>\n",
       "</div>"
      ],
      "text/plain": [
       "      variable        p_value\n",
       "5  sector_no_4  2.739375e-109\n",
       "3  sector_no_2   1.404905e-90\n",
       "4  sector_no_3   1.177427e-82\n",
       "0       income   1.932814e-52\n",
       "2         debt   1.070741e-45\n",
       "1    utilities   3.855646e-03"
      ]
     },
     "execution_count": 45,
     "metadata": {},
     "output_type": "execute_result"
    }
   ],
   "source": [
    "df_p_values_3"
   ]
  },
  {
   "cell_type": "code",
   "execution_count": 46,
   "id": "0671dbc4",
   "metadata": {},
   "outputs": [
    {
     "data": {
      "text/html": [
       "<div>\n",
       "<style scoped>\n",
       "    .dataframe tbody tr th:only-of-type {\n",
       "        vertical-align: middle;\n",
       "    }\n",
       "\n",
       "    .dataframe tbody tr th {\n",
       "        vertical-align: top;\n",
       "    }\n",
       "\n",
       "    .dataframe thead th {\n",
       "        text-align: right;\n",
       "    }\n",
       "</style>\n",
       "<table border=\"1\" class=\"dataframe\">\n",
       "  <thead>\n",
       "    <tr style=\"text-align: right;\">\n",
       "      <th></th>\n",
       "      <th>variable</th>\n",
       "      <th>p_value</th>\n",
       "    </tr>\n",
       "  </thead>\n",
       "  <tbody>\n",
       "    <tr>\n",
       "      <th>0</th>\n",
       "      <td>sector_no_4</td>\n",
       "      <td>2.739375e-109</td>\n",
       "    </tr>\n",
       "    <tr>\n",
       "      <th>1</th>\n",
       "      <td>sector_no_2</td>\n",
       "      <td>1.404905e-90</td>\n",
       "    </tr>\n",
       "    <tr>\n",
       "      <th>2</th>\n",
       "      <td>sector_no_3</td>\n",
       "      <td>1.177427e-82</td>\n",
       "    </tr>\n",
       "    <tr>\n",
       "      <th>3</th>\n",
       "      <td>income</td>\n",
       "      <td>1.932814e-52</td>\n",
       "    </tr>\n",
       "    <tr>\n",
       "      <th>4</th>\n",
       "      <td>debt</td>\n",
       "      <td>1.070741e-45</td>\n",
       "    </tr>\n",
       "    <tr>\n",
       "      <th>5</th>\n",
       "      <td>utilities</td>\n",
       "      <td>3.855646e-03</td>\n",
       "    </tr>\n",
       "  </tbody>\n",
       "</table>\n",
       "</div>"
      ],
      "text/plain": [
       "      variable        p_value\n",
       "0  sector_no_4  2.739375e-109\n",
       "1  sector_no_2   1.404905e-90\n",
       "2  sector_no_3   1.177427e-82\n",
       "3       income   1.932814e-52\n",
       "4         debt   1.070741e-45\n",
       "5    utilities   3.855646e-03"
      ]
     },
     "execution_count": 46,
     "metadata": {},
     "output_type": "execute_result"
    }
   ],
   "source": [
    "df_p_values_3.reset_index(inplace = True, drop = True)\n",
    "df_p_values_3"
   ]
  },
  {
   "cell_type": "code",
   "execution_count": 47,
   "id": "d4b886fb",
   "metadata": {},
   "outputs": [
    {
     "name": "stdout",
     "output_type": "stream",
     "text": [
      "The selected factor is  sector_no_4\n"
     ]
    }
   ],
   "source": [
    "factor_to_add = df_p_values_3['variable'][0]\n",
    "print('The selected factor is ', factor_to_add)"
   ]
  },
  {
   "cell_type": "code",
   "execution_count": 48,
   "id": "3ca2db1c",
   "metadata": {},
   "outputs": [
    {
     "data": {
      "text/plain": [
       "['family_size', 'own']"
      ]
     },
     "execution_count": 48,
     "metadata": {},
     "output_type": "execute_result"
    }
   ],
   "source": [
    "a"
   ]
  },
  {
   "cell_type": "code",
   "execution_count": 49,
   "id": "bfbdae50",
   "metadata": {},
   "outputs": [
    {
     "data": {
      "text/plain": [
       "Index(['family_size', 'own'], dtype='object')"
      ]
     },
     "execution_count": 49,
     "metadata": {},
     "output_type": "execute_result"
    }
   ],
   "source": [
    "x[a].columns"
   ]
  },
  {
   "cell_type": "code",
   "execution_count": 50,
   "id": "deb02db7",
   "metadata": {},
   "outputs": [],
   "source": [
    "a.append(factor_to_add)\n",
    "b.remove(factor_to_add)"
   ]
  },
  {
   "cell_type": "code",
   "execution_count": 51,
   "id": "1261c112",
   "metadata": {},
   "outputs": [
    {
     "data": {
      "text/plain": [
       "['family_size', 'own', 'sector_no_4']"
      ]
     },
     "execution_count": 51,
     "metadata": {},
     "output_type": "execute_result"
    }
   ],
   "source": [
    "a"
   ]
  },
  {
   "cell_type": "code",
   "execution_count": 52,
   "id": "62bc7a41",
   "metadata": {},
   "outputs": [
    {
     "data": {
      "text/plain": [
       "['income', 'utilities', 'debt', 'sector_no_2', 'sector_no_3']"
      ]
     },
     "execution_count": 52,
     "metadata": {},
     "output_type": "execute_result"
    }
   ],
   "source": [
    "b"
   ]
  },
  {
   "cell_type": "code",
   "execution_count": 53,
   "id": "a1330606",
   "metadata": {},
   "outputs": [],
   "source": [
    "x_sel = x[a]\n",
    "x_opt = x[b]"
   ]
  },
  {
   "cell_type": "code",
   "execution_count": 54,
   "id": "e2e8ff4d",
   "metadata": {},
   "outputs": [],
   "source": [
    "def print_and_append_4(Y,X):\n",
    "    X = X\n",
    "    Y = Y\n",
    "    df_p_values = pd.DataFrame()\n",
    "    for i in X:\n",
    "        x1 = pd.concat([x_sel,X[i]], join = 'outer', axis = 1)\n",
    "        x1 = sm.add_constant(x1)\n",
    "        reg_model = sm.OLS(Y,x1).fit()\n",
    "        print(list(x1.columns))\n",
    "        \n",
    "        reg_model_index = reg_model.pvalues.index\n",
    "        reg_model_values= reg_model.pvalues.values\n",
    "        reg_model_rsqadj = reg_model.rsquared_adj\n",
    "        zipped_object = zip(reg_model_index,reg_model_values)\n",
    "        \n",
    "        print('The p value for the factor ', a[0], 'is, ', reg_model_values[1])\n",
    "        print('The p value for the factor ', a[1], 'is, ', reg_model_values[2])\n",
    "        print('The p value for the factor ', a[2], 'is, ', reg_model_values[3])\n",
    "        print('The p value for the factor ', i, 'is, ', reg_model_values[4])\n",
    "        print('The Adj R2 for the model ', a[0],a[1],a[2], 'and', i ,'is' , reg_model.rsquared_adj)\n",
    "        print('----------------------------------------------')\n",
    "        \n",
    "        df_reg_model_p_values = pd.DataFrame(zip([i],[float(reg_model_values[4])]),columns=['variable','p_value'])\n",
    "        df_reg_model_p_values= df_reg_model_p_values[df_reg_model_p_values['variable'] != 'const']\n",
    "        \n",
    "        \n",
    "        \n",
    "        df_p_values = df_p_values.append(df_reg_model_p_values)\n",
    "        \n",
    "    print(df_p_values)\n",
    "    df_p_values.reset_index(inplace = True, drop = True)\n",
    "    return df_p_values"
   ]
  },
  {
   "cell_type": "code",
   "execution_count": 55,
   "id": "88f43e4e",
   "metadata": {},
   "outputs": [
    {
     "name": "stdout",
     "output_type": "stream",
     "text": [
      "['const', 'family_size', 'own', 'sector_no_4', 'income']\n",
      "The p value for the factor  family_size is,  0.00333653621856676\n",
      "The p value for the factor  own is,  7.74959178119005e-25\n",
      "The p value for the factor  sector_no_4 is,  4.924549271045546e-15\n",
      "The p value for the factor  income is,  5.790195627516032e-07\n",
      "The Adj R2 for the model  family_size own sector_no_4 and income is 0.45927898621176577\n",
      "----------------------------------------------\n",
      "['const', 'family_size', 'own', 'sector_no_4', 'utilities']\n",
      "The p value for the factor  family_size is,  0.8189092482953155\n",
      "The p value for the factor  own is,  0.00015275247366058724\n",
      "The p value for the factor  sector_no_4 is,  1.0073101336990923e-23\n",
      "The p value for the factor  utilities is,  0.2731721052651205\n",
      "The Adj R2 for the model  family_size own sector_no_4 and utilities is 0.43264089473796896\n",
      "----------------------------------------------\n",
      "['const', 'family_size', 'own', 'sector_no_4', 'debt']\n",
      "The p value for the factor  family_size is,  2.617165447617279e-08\n",
      "The p value for the factor  own is,  0.05823645924836084\n",
      "The p value for the factor  sector_no_4 is,  1.3479725878240517e-14\n",
      "The p value for the factor  debt is,  2.528271014104886e-15\n",
      "The Adj R2 for the model  family_size own sector_no_4 and debt is 0.49889140304486335\n",
      "----------------------------------------------\n",
      "['const', 'family_size', 'own', 'sector_no_4', 'sector_no_2']\n",
      "The p value for the factor  family_size is,  0.08321235659755691\n",
      "The p value for the factor  own is,  5.138762236256676e-21\n",
      "The p value for the factor  sector_no_4 is,  1.1357871067845402e-18\n",
      "The p value for the factor  sector_no_2 is,  1.9493247369729463e-09\n",
      "The Adj R2 for the model  family_size own sector_no_4 and sector_no_2 is 0.47122003124442957\n",
      "----------------------------------------------\n",
      "['const', 'family_size', 'own', 'sector_no_4', 'sector_no_3']\n",
      "The p value for the factor  family_size is,  0.04859355401533374\n",
      "The p value for the factor  own is,  2.3405605041038283e-20\n",
      "The p value for the factor  sector_no_4 is,  5.368449700800148e-30\n",
      "The p value for the factor  sector_no_3 is,  8.187344375129133e-08\n",
      "The Adj R2 for the model  family_size own sector_no_4 and sector_no_3 is 0.46339690531895084\n",
      "----------------------------------------------\n",
      "      variable       p_value\n",
      "0       income  5.790196e-07\n",
      "0    utilities  2.731721e-01\n",
      "0         debt  2.528271e-15\n",
      "0  sector_no_2  1.949325e-09\n",
      "0  sector_no_3  8.187344e-08\n"
     ]
    }
   ],
   "source": [
    "Y = y\n",
    "X = x_opt\n",
    "\n",
    "df_p_values_4 = print_and_append_4(Y,X)"
   ]
  },
  {
   "cell_type": "code",
   "execution_count": 56,
   "id": "8210531b",
   "metadata": {},
   "outputs": [
    {
     "data": {
      "text/html": [
       "<div>\n",
       "<style scoped>\n",
       "    .dataframe tbody tr th:only-of-type {\n",
       "        vertical-align: middle;\n",
       "    }\n",
       "\n",
       "    .dataframe tbody tr th {\n",
       "        vertical-align: top;\n",
       "    }\n",
       "\n",
       "    .dataframe thead th {\n",
       "        text-align: right;\n",
       "    }\n",
       "</style>\n",
       "<table border=\"1\" class=\"dataframe\">\n",
       "  <thead>\n",
       "    <tr style=\"text-align: right;\">\n",
       "      <th></th>\n",
       "      <th>variable</th>\n",
       "      <th>p_value</th>\n",
       "    </tr>\n",
       "  </thead>\n",
       "  <tbody>\n",
       "    <tr>\n",
       "      <th>2</th>\n",
       "      <td>debt</td>\n",
       "      <td>2.528271e-15</td>\n",
       "    </tr>\n",
       "    <tr>\n",
       "      <th>3</th>\n",
       "      <td>sector_no_2</td>\n",
       "      <td>1.949325e-09</td>\n",
       "    </tr>\n",
       "    <tr>\n",
       "      <th>4</th>\n",
       "      <td>sector_no_3</td>\n",
       "      <td>8.187344e-08</td>\n",
       "    </tr>\n",
       "    <tr>\n",
       "      <th>0</th>\n",
       "      <td>income</td>\n",
       "      <td>5.790196e-07</td>\n",
       "    </tr>\n",
       "    <tr>\n",
       "      <th>1</th>\n",
       "      <td>utilities</td>\n",
       "      <td>2.731721e-01</td>\n",
       "    </tr>\n",
       "  </tbody>\n",
       "</table>\n",
       "</div>"
      ],
      "text/plain": [
       "      variable       p_value\n",
       "2         debt  2.528271e-15\n",
       "3  sector_no_2  1.949325e-09\n",
       "4  sector_no_3  8.187344e-08\n",
       "0       income  5.790196e-07\n",
       "1    utilities  2.731721e-01"
      ]
     },
     "execution_count": 56,
     "metadata": {},
     "output_type": "execute_result"
    }
   ],
   "source": [
    "df_p_values_4.sort_values(by = 'p_value', inplace = True)\n",
    "df_p_values_4"
   ]
  },
  {
   "cell_type": "code",
   "execution_count": 57,
   "id": "c173e260",
   "metadata": {},
   "outputs": [
    {
     "data": {
      "text/html": [
       "<div>\n",
       "<style scoped>\n",
       "    .dataframe tbody tr th:only-of-type {\n",
       "        vertical-align: middle;\n",
       "    }\n",
       "\n",
       "    .dataframe tbody tr th {\n",
       "        vertical-align: top;\n",
       "    }\n",
       "\n",
       "    .dataframe thead th {\n",
       "        text-align: right;\n",
       "    }\n",
       "</style>\n",
       "<table border=\"1\" class=\"dataframe\">\n",
       "  <thead>\n",
       "    <tr style=\"text-align: right;\">\n",
       "      <th></th>\n",
       "      <th>variable</th>\n",
       "      <th>p_value</th>\n",
       "    </tr>\n",
       "  </thead>\n",
       "  <tbody>\n",
       "    <tr>\n",
       "      <th>0</th>\n",
       "      <td>debt</td>\n",
       "      <td>2.528271e-15</td>\n",
       "    </tr>\n",
       "    <tr>\n",
       "      <th>1</th>\n",
       "      <td>sector_no_2</td>\n",
       "      <td>1.949325e-09</td>\n",
       "    </tr>\n",
       "    <tr>\n",
       "      <th>2</th>\n",
       "      <td>sector_no_3</td>\n",
       "      <td>8.187344e-08</td>\n",
       "    </tr>\n",
       "    <tr>\n",
       "      <th>3</th>\n",
       "      <td>income</td>\n",
       "      <td>5.790196e-07</td>\n",
       "    </tr>\n",
       "    <tr>\n",
       "      <th>4</th>\n",
       "      <td>utilities</td>\n",
       "      <td>2.731721e-01</td>\n",
       "    </tr>\n",
       "  </tbody>\n",
       "</table>\n",
       "</div>"
      ],
      "text/plain": [
       "      variable       p_value\n",
       "0         debt  2.528271e-15\n",
       "1  sector_no_2  1.949325e-09\n",
       "2  sector_no_3  8.187344e-08\n",
       "3       income  5.790196e-07\n",
       "4    utilities  2.731721e-01"
      ]
     },
     "execution_count": 57,
     "metadata": {},
     "output_type": "execute_result"
    }
   ],
   "source": [
    "df_p_values_4.reset_index(inplace = True, drop = True)\n",
    "df_p_values_4"
   ]
  },
  {
   "cell_type": "code",
   "execution_count": 58,
   "id": "e0b2c95b",
   "metadata": {},
   "outputs": [
    {
     "name": "stdout",
     "output_type": "stream",
     "text": [
      "The selected factor is  debt\n"
     ]
    }
   ],
   "source": [
    "factor_to_add = df_p_values_4['variable'][0]\n",
    "print('The selected factor is ', factor_to_add)"
   ]
  },
  {
   "cell_type": "code",
   "execution_count": 59,
   "id": "d48f1c5b",
   "metadata": {},
   "outputs": [],
   "source": [
    "a.append(factor_to_add)\n",
    "b.remove(factor_to_add)"
   ]
  },
  {
   "cell_type": "code",
   "execution_count": 60,
   "id": "854fcbbb",
   "metadata": {},
   "outputs": [
    {
     "data": {
      "text/plain": [
       "Index(['family_size', 'own', 'sector_no_4', 'debt'], dtype='object')"
      ]
     },
     "execution_count": 60,
     "metadata": {},
     "output_type": "execute_result"
    }
   ],
   "source": [
    "x[a].columns"
   ]
  },
  {
   "cell_type": "code",
   "execution_count": 61,
   "id": "cc2c6727",
   "metadata": {},
   "outputs": [
    {
     "data": {
      "text/plain": [
       "Index(['income', 'utilities', 'sector_no_2', 'sector_no_3'], dtype='object')"
      ]
     },
     "execution_count": 61,
     "metadata": {},
     "output_type": "execute_result"
    }
   ],
   "source": [
    "x[b].columns"
   ]
  },
  {
   "cell_type": "code",
   "execution_count": 62,
   "id": "52b29b28",
   "metadata": {},
   "outputs": [],
   "source": [
    "x_sel = x[a]\n",
    "x_opt = x[b]"
   ]
  },
  {
   "cell_type": "code",
   "execution_count": 64,
   "id": "bbbbcf0e",
   "metadata": {},
   "outputs": [],
   "source": [
    "def print_and_append_5(Y,X):\n",
    "    X = X\n",
    "    Y = Y\n",
    "    df_p_values = pd.DataFrame()\n",
    "    for i in X:\n",
    "        x1 = pd.concat([x_sel,X[i]], join = 'outer', axis = 1)\n",
    "        x1 = sm.add_constant(x1)\n",
    "        reg_model = sm.OLS(Y,x1).fit()\n",
    "        print(list(x1.columns))\n",
    "        \n",
    "        reg_model_index = reg_model.pvalues.index\n",
    "        reg_model_values= reg_model.pvalues.values\n",
    "        reg_model_rsqadj = reg_model.rsquared_adj\n",
    "        zipped_object = zip(reg_model_index,reg_model_values)\n",
    "        \n",
    "        print('The p value for the factor ', a[0], 'is, ', reg_model_values[1])\n",
    "        print('The p value for the factor ', a[1], 'is, ', reg_model_values[2])\n",
    "        print('The p value for the factor ', a[2], 'is, ', reg_model_values[3])\n",
    "        print('The p value for the factor ', a[3], 'is, ', reg_model_values[4])\n",
    "        print('The p value for the factor ', i, 'is, ', reg_model_values[5])\n",
    "        print('The Adj R2 for the model ', a[0],a[1],a[2],a[3], 'and', i ,'is' , reg_model.rsquared_adj)\n",
    "        print('----------------------------------------------')\n",
    "        \n",
    "        df_reg_model_p_values = pd.DataFrame(zip([i],[float(reg_model_values[5])]),columns=['variable','p_value'])\n",
    "        df_reg_model_p_values= df_reg_model_p_values[df_reg_model_p_values['variable'] != 'const']\n",
    "        \n",
    "        \n",
    "        \n",
    "        df_p_values = df_p_values.append(df_reg_model_p_values)\n",
    "        \n",
    "    print(df_p_values)\n",
    "    df_p_values.reset_index(inplace = True, drop = True)\n",
    "    return df_p_values"
   ]
  },
  {
   "cell_type": "code",
   "execution_count": 65,
   "id": "02e299ab",
   "metadata": {},
   "outputs": [
    {
     "name": "stdout",
     "output_type": "stream",
     "text": [
      "['const', 'family_size', 'own', 'sector_no_4', 'debt', 'income']\n",
      "The p value for the factor  family_size is,  2.172515347469486e-08\n",
      "The p value for the factor  own is,  0.01961827654074919\n",
      "The p value for the factor  sector_no_4 is,  4.0920737059262374e-12\n",
      "The p value for the factor  debt is,  9.899992072480111e-11\n",
      "The p value for the factor  income is,  0.038224447997722955\n",
      "The Adj R2 for the model  family_size own sector_no_4 debt and income is 0.5022280999599525\n",
      "----------------------------------------------\n",
      "['const', 'family_size', 'own', 'sector_no_4', 'debt', 'utilities']\n",
      "The p value for the factor  family_size is,  0.0021247507835735055\n",
      "The p value for the factor  own is,  0.13784235926007515\n",
      "The p value for the factor  sector_no_4 is,  1.3997280658865972e-14\n",
      "The p value for the factor  debt is,  3.348812108059886e-15\n",
      "The p value for the factor  utilities is,  0.37978316445900695\n",
      "The Adj R2 for the model  family_size own sector_no_4 debt and utilities is 0.49866128205695326\n",
      "----------------------------------------------\n",
      "['const', 'family_size', 'own', 'sector_no_4', 'debt', 'sector_no_2']\n",
      "The p value for the factor  family_size is,  2.4590184668227686e-07\n",
      "The p value for the factor  own is,  0.07874844028825013\n",
      "The p value for the factor  sector_no_4 is,  3.3364463989299966e-12\n",
      "The p value for the factor  debt is,  1.0550780458242025e-12\n",
      "The p value for the factor  sector_no_2 is,  8.62423423566073e-07\n",
      "The Adj R2 for the model  family_size own sector_no_4 debt and sector_no_2 is 0.5219185003061516\n",
      "----------------------------------------------\n",
      "['const', 'family_size', 'own', 'sector_no_4', 'debt', 'sector_no_3']\n",
      "The p value for the factor  family_size is,  7.222738341400108e-08\n",
      "The p value for the factor  own is,  0.09790291465422575\n",
      "The p value for the factor  sector_no_4 is,  1.437233408310331e-18\n",
      "The p value for the factor  debt is,  5.487661942191008e-13\n",
      "The p value for the factor  sector_no_3 is,  1.9386039592228534e-05\n",
      "The Adj R2 for the model  family_size own sector_no_4 debt and sector_no_3 is 0.5161053848110964\n",
      "----------------------------------------------\n",
      "      variable       p_value\n",
      "0       income  3.822445e-02\n",
      "0    utilities  3.797832e-01\n",
      "0  sector_no_2  8.624234e-07\n",
      "0  sector_no_3  1.938604e-05\n"
     ]
    }
   ],
   "source": [
    "Y = y\n",
    "X = x_opt\n",
    "\n",
    "df_p_values_5 = print_and_append_5(Y,X)"
   ]
  },
  {
   "cell_type": "code",
   "execution_count": 66,
   "id": "12e24df1",
   "metadata": {},
   "outputs": [
    {
     "data": {
      "text/html": [
       "<div>\n",
       "<style scoped>\n",
       "    .dataframe tbody tr th:only-of-type {\n",
       "        vertical-align: middle;\n",
       "    }\n",
       "\n",
       "    .dataframe tbody tr th {\n",
       "        vertical-align: top;\n",
       "    }\n",
       "\n",
       "    .dataframe thead th {\n",
       "        text-align: right;\n",
       "    }\n",
       "</style>\n",
       "<table border=\"1\" class=\"dataframe\">\n",
       "  <thead>\n",
       "    <tr style=\"text-align: right;\">\n",
       "      <th></th>\n",
       "      <th>variable</th>\n",
       "      <th>p_value</th>\n",
       "    </tr>\n",
       "  </thead>\n",
       "  <tbody>\n",
       "    <tr>\n",
       "      <th>2</th>\n",
       "      <td>sector_no_2</td>\n",
       "      <td>8.624234e-07</td>\n",
       "    </tr>\n",
       "    <tr>\n",
       "      <th>3</th>\n",
       "      <td>sector_no_3</td>\n",
       "      <td>1.938604e-05</td>\n",
       "    </tr>\n",
       "    <tr>\n",
       "      <th>0</th>\n",
       "      <td>income</td>\n",
       "      <td>3.822445e-02</td>\n",
       "    </tr>\n",
       "    <tr>\n",
       "      <th>1</th>\n",
       "      <td>utilities</td>\n",
       "      <td>3.797832e-01</td>\n",
       "    </tr>\n",
       "  </tbody>\n",
       "</table>\n",
       "</div>"
      ],
      "text/plain": [
       "      variable       p_value\n",
       "2  sector_no_2  8.624234e-07\n",
       "3  sector_no_3  1.938604e-05\n",
       "0       income  3.822445e-02\n",
       "1    utilities  3.797832e-01"
      ]
     },
     "execution_count": 66,
     "metadata": {},
     "output_type": "execute_result"
    }
   ],
   "source": [
    "\n",
    "df_p_values_5.sort_values(by = 'p_value', inplace = True)\n",
    "df_p_values_5"
   ]
  },
  {
   "cell_type": "code",
   "execution_count": 67,
   "id": "18648188",
   "metadata": {},
   "outputs": [
    {
     "data": {
      "text/html": [
       "<div>\n",
       "<style scoped>\n",
       "    .dataframe tbody tr th:only-of-type {\n",
       "        vertical-align: middle;\n",
       "    }\n",
       "\n",
       "    .dataframe tbody tr th {\n",
       "        vertical-align: top;\n",
       "    }\n",
       "\n",
       "    .dataframe thead th {\n",
       "        text-align: right;\n",
       "    }\n",
       "</style>\n",
       "<table border=\"1\" class=\"dataframe\">\n",
       "  <thead>\n",
       "    <tr style=\"text-align: right;\">\n",
       "      <th></th>\n",
       "      <th>variable</th>\n",
       "      <th>p_value</th>\n",
       "    </tr>\n",
       "  </thead>\n",
       "  <tbody>\n",
       "    <tr>\n",
       "      <th>0</th>\n",
       "      <td>sector_no_2</td>\n",
       "      <td>8.624234e-07</td>\n",
       "    </tr>\n",
       "    <tr>\n",
       "      <th>1</th>\n",
       "      <td>sector_no_3</td>\n",
       "      <td>1.938604e-05</td>\n",
       "    </tr>\n",
       "    <tr>\n",
       "      <th>2</th>\n",
       "      <td>income</td>\n",
       "      <td>3.822445e-02</td>\n",
       "    </tr>\n",
       "    <tr>\n",
       "      <th>3</th>\n",
       "      <td>utilities</td>\n",
       "      <td>3.797832e-01</td>\n",
       "    </tr>\n",
       "  </tbody>\n",
       "</table>\n",
       "</div>"
      ],
      "text/plain": [
       "      variable       p_value\n",
       "0  sector_no_2  8.624234e-07\n",
       "1  sector_no_3  1.938604e-05\n",
       "2       income  3.822445e-02\n",
       "3    utilities  3.797832e-01"
      ]
     },
     "execution_count": 67,
     "metadata": {},
     "output_type": "execute_result"
    }
   ],
   "source": [
    "df_p_values_5.reset_index(inplace = True, drop = True)\n",
    "df_p_values_5"
   ]
  },
  {
   "cell_type": "code",
   "execution_count": 68,
   "id": "3b51e5b0",
   "metadata": {},
   "outputs": [
    {
     "name": "stdout",
     "output_type": "stream",
     "text": [
      "The selected factor is  sector_no_2\n"
     ]
    }
   ],
   "source": [
    "factor_to_add = df_p_values_5['variable'][0]\n",
    "print('The selected factor is ', factor_to_add)"
   ]
  },
  {
   "cell_type": "code",
   "execution_count": 69,
   "id": "6e57a8e2",
   "metadata": {},
   "outputs": [],
   "source": [
    "a.append(factor_to_add)\n",
    "b.remove(factor_to_add)"
   ]
  },
  {
   "cell_type": "code",
   "execution_count": 70,
   "id": "856a5c2b",
   "metadata": {},
   "outputs": [
    {
     "data": {
      "text/plain": [
       "Index(['family_size', 'own', 'sector_no_4', 'debt', 'sector_no_2'], dtype='object')"
      ]
     },
     "execution_count": 70,
     "metadata": {},
     "output_type": "execute_result"
    }
   ],
   "source": [
    "x[a].columns"
   ]
  },
  {
   "cell_type": "code",
   "execution_count": 71,
   "id": "6618c83e",
   "metadata": {},
   "outputs": [
    {
     "data": {
      "text/plain": [
       "Index(['income', 'utilities', 'sector_no_3'], dtype='object')"
      ]
     },
     "execution_count": 71,
     "metadata": {},
     "output_type": "execute_result"
    }
   ],
   "source": [
    "x[b].columns"
   ]
  },
  {
   "cell_type": "code",
   "execution_count": 72,
   "id": "df9107a9",
   "metadata": {},
   "outputs": [],
   "source": [
    "x_sel = x[a]\n",
    "x_opt = x[b]"
   ]
  },
  {
   "cell_type": "code",
   "execution_count": 74,
   "id": "1c6879c6",
   "metadata": {},
   "outputs": [],
   "source": [
    "def print_and_append_6(Y,X):\n",
    "    X = X\n",
    "    Y = Y\n",
    "    df_p_values = pd.DataFrame()\n",
    "    for i in X:\n",
    "        x1 = pd.concat([x_sel,X[i]], join = 'outer', axis = 1)\n",
    "        x1 = sm.add_constant(x1)\n",
    "        reg_model = sm.OLS(Y,x1).fit()\n",
    "        print(list(x1.columns))\n",
    "        \n",
    "        reg_model_index = reg_model.pvalues.index\n",
    "        reg_model_values= reg_model.pvalues.values\n",
    "        reg_model_rsqadj = reg_model.rsquared_adj\n",
    "        zipped_object = zip(reg_model_index,reg_model_values)\n",
    "        \n",
    "        print('The p value for the factor ', a[0], 'is, ', reg_model_values[1])\n",
    "        print('The p value for the factor ', a[1], 'is, ', reg_model_values[2])\n",
    "        print('The p value for the factor ', a[2], 'is, ', reg_model_values[3])\n",
    "        print('The p value for the factor ', a[3], 'is, ', reg_model_values[4])\n",
    "        print('The p value for the factor ', a[4], 'is, ', reg_model_values[5])\n",
    "        print('The p value for the factor ', i, 'is, ', reg_model_values[6])\n",
    "        print('The Adj R2 for the model ', a[0],a[1],a[2],a[3],a[4], 'and', i ,'is' , reg_model.rsquared_adj)\n",
    "        print('----------------------------------------------')\n",
    "        \n",
    "        df_reg_model_p_values = pd.DataFrame(zip([i],[float(reg_model_values[6])]),columns=['variable','p_value'])\n",
    "        df_reg_model_p_values= df_reg_model_p_values[df_reg_model_p_values['variable'] != 'const']\n",
    "        \n",
    "        \n",
    "        \n",
    "        df_p_values = df_p_values.append(df_reg_model_p_values)\n",
    "        \n",
    "    print(df_p_values)\n",
    "    df_p_values.reset_index(inplace = True, drop = True)\n",
    "    return df_p_values"
   ]
  },
  {
   "cell_type": "code",
   "execution_count": 75,
   "id": "72371e27",
   "metadata": {},
   "outputs": [
    {
     "name": "stdout",
     "output_type": "stream",
     "text": [
      "['const', 'family_size', 'own', 'sector_no_4', 'debt', 'sector_no_2', 'income']\n",
      "The p value for the factor  family_size is,  2.309556098012266e-07\n",
      "The p value for the factor  own is,  0.06858247722784998\n",
      "The p value for the factor  sector_no_4 is,  2.322217951086179e-11\n",
      "The p value for the factor  debt is,  1.1695990401798195e-10\n",
      "The p value for the factor  sector_no_2 is,  7.310891781662732e-06\n",
      "The p value for the factor  income is,  0.6297627716918432\n",
      "The Adj R2 for the model  family_size own sector_no_4 debt sector_no_2 and income is 0.521174744403661\n",
      "----------------------------------------------\n",
      "['const', 'family_size', 'own', 'sector_no_4', 'debt', 'sector_no_2', 'utilities']\n",
      "The p value for the factor  family_size is,  0.00204857263026547\n",
      "The p value for the factor  own is,  0.2734585969572731\n",
      "The p value for the factor  sector_no_4 is,  3.353543458816892e-12\n",
      "The p value for the factor  debt is,  1.190738048707239e-12\n",
      "The p value for the factor  sector_no_2 is,  1.1494184378304356e-06\n",
      "The p value for the factor  utilities is,  0.6061185517738692\n",
      "The Adj R2 for the model  family_size own sector_no_4 debt sector_no_2 and utilities is 0.5212072968724308\n",
      "----------------------------------------------\n",
      "['const', 'family_size', 'own', 'sector_no_4', 'debt', 'sector_no_2', 'sector_no_3']\n",
      "The p value for the factor  family_size is,  2.801685943745991e-07\n",
      "The p value for the factor  own is,  0.10156943425701595\n",
      "The p value for the factor  sector_no_4 is,  5.857968064004926e-13\n",
      "The p value for the factor  debt is,  6.731248852829791e-12\n",
      "The p value for the factor  sector_no_2 is,  0.0005495205582304078\n",
      "The p value for the factor  sector_no_3 is,  0.01440923105545972\n",
      "The Adj R2 for the model  family_size own sector_no_4 debt sector_no_2 and sector_no_3 is 0.5267373004637981\n",
      "----------------------------------------------\n",
      "      variable   p_value\n",
      "0       income  0.629763\n",
      "0    utilities  0.606119\n",
      "0  sector_no_3  0.014409\n"
     ]
    }
   ],
   "source": [
    "Y = y\n",
    "X = x_opt\n",
    "\n",
    "df_p_values_6 = print_and_append_6(Y,X)\n"
   ]
  },
  {
   "cell_type": "code",
   "execution_count": 76,
   "id": "e23e6690",
   "metadata": {
    "scrolled": true
   },
   "outputs": [
    {
     "data": {
      "text/html": [
       "<div>\n",
       "<style scoped>\n",
       "    .dataframe tbody tr th:only-of-type {\n",
       "        vertical-align: middle;\n",
       "    }\n",
       "\n",
       "    .dataframe tbody tr th {\n",
       "        vertical-align: top;\n",
       "    }\n",
       "\n",
       "    .dataframe thead th {\n",
       "        text-align: right;\n",
       "    }\n",
       "</style>\n",
       "<table border=\"1\" class=\"dataframe\">\n",
       "  <thead>\n",
       "    <tr style=\"text-align: right;\">\n",
       "      <th></th>\n",
       "      <th>variable</th>\n",
       "      <th>p_value</th>\n",
       "    </tr>\n",
       "  </thead>\n",
       "  <tbody>\n",
       "    <tr>\n",
       "      <th>2</th>\n",
       "      <td>sector_no_3</td>\n",
       "      <td>0.014409</td>\n",
       "    </tr>\n",
       "    <tr>\n",
       "      <th>1</th>\n",
       "      <td>utilities</td>\n",
       "      <td>0.606119</td>\n",
       "    </tr>\n",
       "    <tr>\n",
       "      <th>0</th>\n",
       "      <td>income</td>\n",
       "      <td>0.629763</td>\n",
       "    </tr>\n",
       "  </tbody>\n",
       "</table>\n",
       "</div>"
      ],
      "text/plain": [
       "      variable   p_value\n",
       "2  sector_no_3  0.014409\n",
       "1    utilities  0.606119\n",
       "0       income  0.629763"
      ]
     },
     "execution_count": 76,
     "metadata": {},
     "output_type": "execute_result"
    }
   ],
   "source": [
    "df_p_values_6.sort_values(by = 'p_value', inplace = True)\n",
    "df_p_values_6"
   ]
  },
  {
   "cell_type": "code",
   "execution_count": 78,
   "id": "d6962e4a",
   "metadata": {},
   "outputs": [
    {
     "data": {
      "text/html": [
       "<div>\n",
       "<style scoped>\n",
       "    .dataframe tbody tr th:only-of-type {\n",
       "        vertical-align: middle;\n",
       "    }\n",
       "\n",
       "    .dataframe tbody tr th {\n",
       "        vertical-align: top;\n",
       "    }\n",
       "\n",
       "    .dataframe thead th {\n",
       "        text-align: right;\n",
       "    }\n",
       "</style>\n",
       "<table border=\"1\" class=\"dataframe\">\n",
       "  <thead>\n",
       "    <tr style=\"text-align: right;\">\n",
       "      <th></th>\n",
       "      <th>variable</th>\n",
       "      <th>p_value</th>\n",
       "    </tr>\n",
       "  </thead>\n",
       "  <tbody>\n",
       "    <tr>\n",
       "      <th>0</th>\n",
       "      <td>sector_no_3</td>\n",
       "      <td>0.014409</td>\n",
       "    </tr>\n",
       "    <tr>\n",
       "      <th>1</th>\n",
       "      <td>utilities</td>\n",
       "      <td>0.606119</td>\n",
       "    </tr>\n",
       "    <tr>\n",
       "      <th>2</th>\n",
       "      <td>income</td>\n",
       "      <td>0.629763</td>\n",
       "    </tr>\n",
       "  </tbody>\n",
       "</table>\n",
       "</div>"
      ],
      "text/plain": [
       "      variable   p_value\n",
       "0  sector_no_3  0.014409\n",
       "1    utilities  0.606119\n",
       "2       income  0.629763"
      ]
     },
     "execution_count": 78,
     "metadata": {},
     "output_type": "execute_result"
    }
   ],
   "source": [
    "df_p_values_6.reset_index(inplace = True, drop = True)\n",
    "df_p_values_6"
   ]
  },
  {
   "cell_type": "code",
   "execution_count": 79,
   "id": "2c3fc4b7",
   "metadata": {},
   "outputs": [
    {
     "name": "stdout",
     "output_type": "stream",
     "text": [
      "The selected factor is  sector_no_3\n"
     ]
    }
   ],
   "source": [
    "factor_to_add = df_p_values_6['variable'][0]\n",
    "print('The selected factor is ', factor_to_add)"
   ]
  },
  {
   "cell_type": "code",
   "execution_count": 82,
   "id": "32a20572",
   "metadata": {},
   "outputs": [],
   "source": [
    "a.append(factor_to_add)\n",
    "b.remove(factor_to_add)"
   ]
  },
  {
   "cell_type": "code",
   "execution_count": 83,
   "id": "f1cb0147",
   "metadata": {},
   "outputs": [
    {
     "data": {
      "text/plain": [
       "Index(['family_size', 'own', 'sector_no_4', 'debt', 'sector_no_2',\n",
       "       'sector_no_3'],\n",
       "      dtype='object')"
      ]
     },
     "execution_count": 83,
     "metadata": {},
     "output_type": "execute_result"
    }
   ],
   "source": [
    "x[a].columns"
   ]
  },
  {
   "cell_type": "code",
   "execution_count": 84,
   "id": "0193d82b",
   "metadata": {},
   "outputs": [
    {
     "data": {
      "text/plain": [
       "Index(['income', 'utilities'], dtype='object')"
      ]
     },
     "execution_count": 84,
     "metadata": {},
     "output_type": "execute_result"
    }
   ],
   "source": [
    "x[b].columns"
   ]
  },
  {
   "cell_type": "code",
   "execution_count": 85,
   "id": "4c0decf1",
   "metadata": {},
   "outputs": [],
   "source": [
    "x_sel = x[a]\n",
    "x_opt = x[b]"
   ]
  },
  {
   "cell_type": "code",
   "execution_count": 88,
   "id": "1175fe45",
   "metadata": {},
   "outputs": [],
   "source": [
    "def print_and_append_7(Y,X):\n",
    "    X = X\n",
    "    Y = Y\n",
    "    df_p_values = pd.DataFrame()\n",
    "    for i in X:\n",
    "        x1 = pd.concat([x_sel,X[i]], join = 'outer', axis = 1)\n",
    "        x1 = sm.add_constant(x1)\n",
    "        reg_model = sm.OLS(Y,x1).fit()\n",
    "        print(list(x1.columns))\n",
    "        \n",
    "        reg_model_index = reg_model.pvalues.index\n",
    "        reg_model_values= reg_model.pvalues.values\n",
    "        reg_model_rsqadj = reg_model.rsquared_adj\n",
    "        zipped_object = zip(reg_model_index,reg_model_values)\n",
    "        \n",
    "        print('The p value for the factor ', a[0], 'is, ', reg_model_values[1])\n",
    "        print('The p value for the factor ', a[1], 'is, ', reg_model_values[2])\n",
    "        print('The p value for the factor ', a[2], 'is, ', reg_model_values[3])\n",
    "        print('The p value for the factor ', a[3], 'is, ', reg_model_values[4])\n",
    "        print('The p value for the factor ', a[4], 'is, ', reg_model_values[5])\n",
    "        print('The p value for the factor ', a[5], 'is, ', reg_model_values[6])\n",
    "        print('The p value for the factor ', i, 'is, ', reg_model_values[7])\n",
    "        print('The Adj R2 for the model ', a[0],a[1],a[2],a[3],a[4],a[5], 'and', i ,'is' , reg_model.rsquared_adj)\n",
    "        print('----------------------------------------------')\n",
    "        \n",
    "        df_reg_model_p_values = pd.DataFrame(zip([i],[float(reg_model_values[7])]),columns=['variable','p_value'])\n",
    "        df_reg_model_p_values= df_reg_model_p_values[df_reg_model_p_values['variable'] != 'const']\n",
    "        \n",
    "        \n",
    "        \n",
    "        df_p_values = df_p_values.append(df_reg_model_p_values)\n",
    "        \n",
    "    print(df_p_values)\n",
    "    df_p_values.reset_index(inplace = True, drop = True)\n",
    "    return df_p_values"
   ]
  },
  {
   "cell_type": "code",
   "execution_count": 89,
   "id": "0d2ac96a",
   "metadata": {},
   "outputs": [
    {
     "name": "stdout",
     "output_type": "stream",
     "text": [
      "['const', 'family_size', 'own', 'sector_no_4', 'debt', 'sector_no_2', 'sector_no_3', 'income']\n",
      "The p value for the factor  family_size is,  2.9813650345216616e-07\n",
      "The p value for the factor  own is,  0.11602238841765405\n",
      "The p value for the factor  sector_no_4 is,  5.42068844252844e-12\n",
      "The p value for the factor  debt is,  1.4922227760953018e-10\n",
      "The p value for the factor  sector_no_2 is,  0.0007838506494709218\n",
      "The p value for the factor  sector_no_3 is,  0.01655216098032095\n",
      "The p value for the factor  income is,  0.9969699012699207\n",
      "The Adj R2 for the model  family_size own sector_no_4 debt sector_no_2 sector_no_3 and income is 0.5257753983232356\n",
      "----------------------------------------------\n",
      "['const', 'family_size', 'own', 'sector_no_4', 'debt', 'sector_no_2', 'sector_no_3', 'utilities']\n",
      "The p value for the factor  family_size is,  0.0009582917923867577\n",
      "The p value for the factor  own is,  0.46702332799423063\n",
      "The p value for the factor  sector_no_4 is,  7.42584254974145e-13\n",
      "The p value for the factor  debt is,  7.101434084610832e-12\n",
      "The p value for the factor  sector_no_2 is,  0.0005603216103684315\n",
      "The p value for the factor  sector_no_3 is,  0.016582483146178238\n",
      "The p value for the factor  utilities is,  0.8620033712409617\n",
      "The Adj R2 for the model  family_size own sector_no_4 debt sector_no_2 sector_no_3 and utilities is 0.5258045364569688\n",
      "----------------------------------------------\n",
      "    variable   p_value\n",
      "0     income  0.996970\n",
      "0  utilities  0.862003\n"
     ]
    }
   ],
   "source": [
    "\n",
    "Y = y\n",
    "X = x_opt\n",
    "\n",
    "df_p_values_7 = print_and_append_7(Y,X)"
   ]
  },
  {
   "cell_type": "markdown",
   "id": "e624c1e6",
   "metadata": {},
   "source": [
    "#### Thus we can see that the remaining columns are non-significant. Hence we will build the model based on the factors selected so far"
   ]
  },
  {
   "cell_type": "code",
   "execution_count": 90,
   "id": "5c2ca47b",
   "metadata": {},
   "outputs": [
    {
     "data": {
      "text/plain": [
       "['family_size', 'own', 'sector_no_4', 'debt', 'sector_no_2', 'sector_no_3']"
      ]
     },
     "execution_count": 90,
     "metadata": {},
     "output_type": "execute_result"
    }
   ],
   "source": [
    "a"
   ]
  },
  {
   "cell_type": "code",
   "execution_count": 91,
   "id": "2f645552",
   "metadata": {},
   "outputs": [
    {
     "data": {
      "text/plain": [
       "['income', 'utilities']"
      ]
     },
     "execution_count": 91,
     "metadata": {},
     "output_type": "execute_result"
    }
   ],
   "source": [
    "b"
   ]
  },
  {
   "cell_type": "code",
   "execution_count": 93,
   "id": "91707ca0",
   "metadata": {},
   "outputs": [
    {
     "name": "stdout",
     "output_type": "stream",
     "text": [
      "                            OLS Regression Results                            \n",
      "==============================================================================\n",
      "Dep. Variable:        monthly_payment   R-squared:                       0.532\n",
      "Model:                            OLS   Adj. R-squared:                  0.527\n",
      "Method:                 Least Squares   F-statistic:                     93.56\n",
      "Date:                Fri, 09 Sep 2022   Prob (F-statistic):           3.64e-78\n",
      "Time:                        03:17:24   Log-Likelihood:                -3454.6\n",
      "No. Observations:                 500   AIC:                             6923.\n",
      "Df Residuals:                     493   BIC:                             6953.\n",
      "Df Model:                           6                                         \n",
      "Covariance Type:            nonrobust                                         \n",
      "===============================================================================\n",
      "                  coef    std err          t      P>|t|      [0.025      0.975]\n",
      "-------------------------------------------------------------------------------\n",
      "const         774.6114     43.898     17.646      0.000     688.360     860.863\n",
      "family_size   -42.0307      8.070     -5.209      0.000     -57.886     -26.176\n",
      "own            58.5418     35.689      1.640      0.102     -11.579     128.662\n",
      "sector_no_4  -250.6839     33.870     -7.401      0.000    -317.230    -184.137\n",
      "debt            0.0817      0.012      7.034      0.000       0.059       0.105\n",
      "sector_no_2   108.8006     31.281      3.478      0.001      47.340     170.261\n",
      "sector_no_3   -77.9383     31.739     -2.456      0.014    -140.299     -15.578\n",
      "==============================================================================\n",
      "Omnibus:                        8.075   Durbin-Watson:                   2.072\n",
      "Prob(Omnibus):                  0.018   Jarque-Bera (JB):                7.973\n",
      "Skew:                           0.299   Prob(JB):                       0.0186\n",
      "Kurtosis:                       3.161   Cond. No.                     2.38e+04\n",
      "==============================================================================\n",
      "\n",
      "Notes:\n",
      "[1] Standard Errors assume that the covariance matrix of the errors is correctly specified.\n",
      "[2] The condition number is large, 2.38e+04. This might indicate that there are\n",
      "strong multicollinearity or other numerical problems.\n"
     ]
    }
   ],
   "source": [
    "Y = y\n",
    "X = x[a]\n",
    "\n",
    "reg_model_fwd = ols_fn_print(Y,X)"
   ]
  },
  {
   "cell_type": "markdown",
   "id": "e9dd0b0b",
   "metadata": {},
   "source": [
    "#### Ans 1(a) -  The regression equation is mentioned below. "
   ]
  },
  {
   "cell_type": "markdown",
   "id": "868440ed",
   "metadata": {},
   "source": [
    "monthly payment = 774.6114 -42.03 x family_size + 58.54 x own - 250 x sector_no_4 + 0.08 x debt + 108.80 x sector_no_2 - 77.93 x sector_no_3  "
   ]
  },
  {
   "cell_type": "markdown",
   "id": "9e30053d",
   "metadata": {},
   "source": [
    "#### Ans 1(b) -  No, adding variables at each step increases the Adj R-square. This can be concluded by the iterations at each stage"
   ]
  },
  {
   "cell_type": "markdown",
   "id": "b363d58a",
   "metadata": {},
   "source": [
    "#### 1(c)Which variables are added in the final model? (Ans below)"
   ]
  },
  {
   "cell_type": "code",
   "execution_count": 97,
   "id": "54ce2ebb",
   "metadata": {},
   "outputs": [
    {
     "name": "stdout",
     "output_type": "stream",
     "text": [
      "['family_size', 'own', 'sector_no_4', 'debt', 'sector_no_2', 'sector_no_3']\n"
     ]
    }
   ],
   "source": [
    "final_cols = list(x[a].columns)\n",
    "print(final_cols)"
   ]
  },
  {
   "cell_type": "markdown",
   "id": "b9071130",
   "metadata": {},
   "source": [
    "#### Q.1(d) Interpret the coefficients, R-squared and standard error of estimate for the final model."
   ]
  },
  {
   "cell_type": "code",
   "execution_count": 103,
   "id": "831058bc",
   "metadata": {},
   "outputs": [
    {
     "name": "stdout",
     "output_type": "stream",
     "text": [
      "The Adjusted R-Squared is  0.527 which means  52.7  % variation can be explained by the model\n"
     ]
    }
   ],
   "source": [
    "adj_rsq = round(reg_model_fwd.rsquared_adj,3)\n",
    "print('The Adjusted R-Squared is ', adj_rsq, 'which means ', adj_rsq*100, ' % variation can be explained by the model')\n"
   ]
  },
  {
   "cell_type": "markdown",
   "id": "73906d61",
   "metadata": {},
   "source": [
    "#### Standard Error of Regression is not mentioned, but it can be interpreted as deviation of actual values from the predicted values"
   ]
  },
  {
   "cell_type": "markdown",
   "id": "02797840",
   "metadata": {},
   "source": [
    "#### Q1.e What result do you get if you use mlxtend stepwise regression?"
   ]
  },
  {
   "cell_type": "code",
   "execution_count": 105,
   "id": "a059d3aa",
   "metadata": {},
   "outputs": [],
   "source": [
    "from mlxtend.feature_selection import SequentialFeatureSelector as sfs\n",
    "from mlxtend.plotting import plot_sequential_feature_selection as plot_sfs\n",
    "\n",
    "from sklearn.linear_model import LinearRegression\n",
    "\n",
    "\n",
    "import matplotlib.pyplot as plt"
   ]
  },
  {
   "cell_type": "code",
   "execution_count": 106,
   "id": "5c954c32",
   "metadata": {},
   "outputs": [],
   "source": [
    "lr = LinearRegression()"
   ]
  },
  {
   "cell_type": "code",
   "execution_count": 108,
   "id": "a53fc8b3",
   "metadata": {},
   "outputs": [],
   "source": [
    "y =df_monthly_expense_1.monthly_payment\n",
    "x = df_monthly_expense_1[col_list]"
   ]
  },
  {
   "cell_type": "code",
   "execution_count": 110,
   "id": "da03a7d8",
   "metadata": {},
   "outputs": [
    {
     "data": {
      "text/html": [
       "<div>\n",
       "<style scoped>\n",
       "    .dataframe tbody tr th:only-of-type {\n",
       "        vertical-align: middle;\n",
       "    }\n",
       "\n",
       "    .dataframe tbody tr th {\n",
       "        vertical-align: top;\n",
       "    }\n",
       "\n",
       "    .dataframe thead th {\n",
       "        text-align: right;\n",
       "    }\n",
       "</style>\n",
       "<table border=\"1\" class=\"dataframe\">\n",
       "  <thead>\n",
       "    <tr style=\"text-align: right;\">\n",
       "      <th></th>\n",
       "      <th>household</th>\n",
       "      <th>family_size</th>\n",
       "      <th>sector_no</th>\n",
       "      <th>rent</th>\n",
       "      <th>own</th>\n",
       "      <th>income</th>\n",
       "      <th>utilities</th>\n",
       "      <th>debt</th>\n",
       "    </tr>\n",
       "  </thead>\n",
       "  <tbody>\n",
       "    <tr>\n",
       "      <th>0</th>\n",
       "      <td>1</td>\n",
       "      <td>2</td>\n",
       "      <td>2</td>\n",
       "      <td>0</td>\n",
       "      <td>1</td>\n",
       "      <td>96709.0</td>\n",
       "      <td>252.0</td>\n",
       "      <td>5692.0</td>\n",
       "    </tr>\n",
       "    <tr>\n",
       "      <th>1</th>\n",
       "      <td>2</td>\n",
       "      <td>6</td>\n",
       "      <td>2</td>\n",
       "      <td>1</td>\n",
       "      <td>0</td>\n",
       "      <td>77470.0</td>\n",
       "      <td>216.0</td>\n",
       "      <td>4267.0</td>\n",
       "    </tr>\n",
       "    <tr>\n",
       "      <th>2</th>\n",
       "      <td>3</td>\n",
       "      <td>3</td>\n",
       "      <td>4</td>\n",
       "      <td>1</td>\n",
       "      <td>0</td>\n",
       "      <td>65746.0</td>\n",
       "      <td>207.0</td>\n",
       "      <td>2903.0</td>\n",
       "    </tr>\n",
       "    <tr>\n",
       "      <th>3</th>\n",
       "      <td>4</td>\n",
       "      <td>1</td>\n",
       "      <td>1</td>\n",
       "      <td>0</td>\n",
       "      <td>1</td>\n",
       "      <td>56610.0</td>\n",
       "      <td>249.0</td>\n",
       "      <td>3896.0</td>\n",
       "    </tr>\n",
       "    <tr>\n",
       "      <th>4</th>\n",
       "      <td>5</td>\n",
       "      <td>3</td>\n",
       "      <td>3</td>\n",
       "      <td>1</td>\n",
       "      <td>0</td>\n",
       "      <td>59185.0</td>\n",
       "      <td>217.0</td>\n",
       "      <td>3011.0</td>\n",
       "    </tr>\n",
       "  </tbody>\n",
       "</table>\n",
       "</div>"
      ],
      "text/plain": [
       "   household  family_size  sector_no  rent  own   income  utilities    debt\n",
       "0          1            2          2     0    1  96709.0      252.0  5692.0\n",
       "1          2            6          2     1    0  77470.0      216.0  4267.0\n",
       "2          3            3          4     1    0  65746.0      207.0  2903.0\n",
       "3          4            1          1     0    1  56610.0      249.0  3896.0\n",
       "4          5            3          3     1    0  59185.0      217.0  3011.0"
      ]
     },
     "execution_count": 110,
     "metadata": {},
     "output_type": "execute_result"
    }
   ],
   "source": [
    "x.head()"
   ]
  },
  {
   "cell_type": "code",
   "execution_count": 112,
   "id": "c5f27404",
   "metadata": {},
   "outputs": [],
   "source": [
    "sfs_forward = sfs(lr,\n",
    "            k_features= (1,6),\n",
    "            forward=True,\n",
    "            floating=False,\n",
    "            scoring='neg_mean_squared_error',\n",
    "            cv=10)\n",
    "\n",
    "sfs_fwd = sfs_forward.fit(X, y)"
   ]
  },
  {
   "cell_type": "code",
   "execution_count": 117,
   "id": "68b9a6c0",
   "metadata": {},
   "outputs": [
    {
     "name": "stdout",
     "output_type": "stream",
     "text": [
      "Best subset in Forward Selection by MLXtend: ('family_size', 'sector_no_4', 'debt', 'sector_no_2', 'sector_no_3')\n"
     ]
    }
   ],
   "source": [
    "print('Best subset in Forward Selection by MLXtend:', sfs_fwd.k_feature_names_)"
   ]
  },
  {
   "cell_type": "code",
   "execution_count": 118,
   "id": "f1e61bbd",
   "metadata": {},
   "outputs": [
    {
     "name": "stdout",
     "output_type": "stream",
     "text": [
      "Best subset in Forward Selection by Statistical Modeling: ['family_size', 'own', 'sector_no_4', 'debt', 'sector_no_2', 'sector_no_3']\n"
     ]
    }
   ],
   "source": [
    "print('Best subset in Forward Selection by Statistical Modeling:', a)"
   ]
  },
  {
   "cell_type": "code",
   "execution_count": 139,
   "id": "c0c90b96",
   "metadata": {},
   "outputs": [
    {
     "data": {
      "image/png": "[encoded data removed]",
      "text/plain": [
       "<Figure size 432x288 with 1 Axes>"
      ]
     },
     "metadata": {
      "needs_background": "light"
     },
     "output_type": "display_data"
    }
   ],
   "source": [
    "fig = plot_sfs(sfs_fwd.get_metric_dict(), kind='std_err')\n",
    "plt.title('Sequential Forward Selection (w. StdErr)')\n",
    "plt.grid()\n",
    "plt.show()"
   ]
  },
  {
   "cell_type": "markdown",
   "id": "a8dd5d79",
   "metadata": {},
   "source": [
    "#### Ans 1(e) - The only additional factor shown by StatsModels is 'own' which indicates house ownership. It had a p-value of more than 0.05 but it was not dropped as in my opinion home ownership is a determinant of financial situation. Hence we can conclude that both approaches have given nearly identical result"
   ]
  },
  {
   "cell_type": "markdown",
   "id": "cd4bcbf0",
   "metadata": {},
   "source": [
    "## Q2: MLR Feature Selection – Box Office Revenue Prediction"
   ]
  },
  {
   "cell_type": "markdown",
   "id": "1c31ad45",
   "metadata": {},
   "source": [
    "\n",
    "\n",
    "An industry analyst is interested in building a predictive model to understand the impact of various factors and opening week revenue numbers in the overall collections of a movie (Total revenue).\n",
    "Box Office collection of Bollywood movies were recorded. The data is provided in file: MLR_MovieBoxOffice_data.csv.\n",
    "- a) Identify the variables that can be used to fit a linear regression model.\n",
    "- b) How is the revenue impacted by genre of the movie?\n",
    "- c) Does the month have any role to play in movie opening?\n",
    "- d) Use any variable reduction technique to fit a model using all relevant variables.\n",
    "- e) Do you find any outliers in the dataset? What could be the possible reason for those being outliers?\n",
    "\n",
    "The data files can be found here: https://github.com/Accelerate-AI/Data-Science-Global-Bootcamp/tree/main/ClassAssignment/Assignment07"
   ]
  },
  {
   "cell_type": "markdown",
   "id": "01d65897",
   "metadata": {},
   "source": [
    "#### Starting the solution:"
   ]
  },
  {
   "cell_type": "code",
   "execution_count": 120,
   "id": "8f33dd7a",
   "metadata": {},
   "outputs": [
    {
     "data": {
      "text/html": [
       "<div>\n",
       "<style scoped>\n",
       "    .dataframe tbody tr th:only-of-type {\n",
       "        vertical-align: middle;\n",
       "    }\n",
       "\n",
       "    .dataframe tbody tr th {\n",
       "        vertical-align: top;\n",
       "    }\n",
       "\n",
       "    .dataframe thead th {\n",
       "        text-align: right;\n",
       "    }\n",
       "</style>\n",
       "<table border=\"1\" class=\"dataframe\">\n",
       "  <thead>\n",
       "    <tr style=\"text-align: right;\">\n",
       "      <th></th>\n",
       "      <th>movie_name</th>\n",
       "      <th>revenue_total</th>\n",
       "      <th>revenue_opening_day</th>\n",
       "      <th>revenue_opening_weekend</th>\n",
       "      <th>revenue_firstweek</th>\n",
       "      <th>movie_genre</th>\n",
       "      <th>runtime</th>\n",
       "      <th>movie_director</th>\n",
       "      <th>release_month</th>\n",
       "      <th>release_year</th>\n",
       "    </tr>\n",
       "  </thead>\n",
       "  <tbody>\n",
       "    <tr>\n",
       "      <th>0</th>\n",
       "      <td>Angrezi Medium</td>\n",
       "      <td>9.36</td>\n",
       "      <td>4.03</td>\n",
       "      <td>9.03</td>\n",
       "      <td>9.36</td>\n",
       "      <td>Drama</td>\n",
       "      <td>145</td>\n",
       "      <td>Homi Adajania</td>\n",
       "      <td>Mar</td>\n",
       "      <td>2020</td>\n",
       "    </tr>\n",
       "    <tr>\n",
       "      <th>1</th>\n",
       "      <td>Baaghi 3</td>\n",
       "      <td>93.37</td>\n",
       "      <td>17.50</td>\n",
       "      <td>53.83</td>\n",
       "      <td>90.67</td>\n",
       "      <td>Action</td>\n",
       "      <td>147</td>\n",
       "      <td>Ahmed Khan</td>\n",
       "      <td>Mar</td>\n",
       "      <td>2020</td>\n",
       "    </tr>\n",
       "    <tr>\n",
       "      <th>2</th>\n",
       "      <td>Thappad</td>\n",
       "      <td>30.61</td>\n",
       "      <td>3.07</td>\n",
       "      <td>14.66</td>\n",
       "      <td>22.79</td>\n",
       "      <td>Drama</td>\n",
       "      <td>142</td>\n",
       "      <td>Anubhav Sinha</td>\n",
       "      <td>Feb</td>\n",
       "      <td>2020</td>\n",
       "    </tr>\n",
       "    <tr>\n",
       "      <th>3</th>\n",
       "      <td>Shubh Mangal Zyada Saavdhan</td>\n",
       "      <td>62.78</td>\n",
       "      <td>9.55</td>\n",
       "      <td>32.66</td>\n",
       "      <td>44.84</td>\n",
       "      <td>Comedy</td>\n",
       "      <td>120</td>\n",
       "      <td>Hitesh Kewalya</td>\n",
       "      <td>Feb</td>\n",
       "      <td>2020</td>\n",
       "    </tr>\n",
       "    <tr>\n",
       "      <th>4</th>\n",
       "      <td>Bhoot: Part One - The Haunted Ship</td>\n",
       "      <td>31.97</td>\n",
       "      <td>5.10</td>\n",
       "      <td>16.36</td>\n",
       "      <td>24.18</td>\n",
       "      <td>Horror</td>\n",
       "      <td>117</td>\n",
       "      <td>Bhanu Pratap Singh</td>\n",
       "      <td>Feb</td>\n",
       "      <td>2020</td>\n",
       "    </tr>\n",
       "  </tbody>\n",
       "</table>\n",
       "</div>"
      ],
      "text/plain": [
       "                           movie_name  revenue_total  revenue_opening_day  \\\n",
       "0                      Angrezi Medium           9.36                 4.03   \n",
       "1                            Baaghi 3          93.37                17.50   \n",
       "2                             Thappad          30.61                 3.07   \n",
       "3         Shubh Mangal Zyada Saavdhan          62.78                 9.55   \n",
       "4  Bhoot: Part One - The Haunted Ship          31.97                 5.10   \n",
       "\n",
       "   revenue_opening_weekend  revenue_firstweek movie_genre  runtime  \\\n",
       "0                     9.03               9.36       Drama      145   \n",
       "1                    53.83              90.67      Action      147   \n",
       "2                    14.66              22.79       Drama      142   \n",
       "3                    32.66              44.84      Comedy      120   \n",
       "4                    16.36              24.18      Horror      117   \n",
       "\n",
       "       movie_director release_month  release_year  \n",
       "0       Homi Adajania           Mar          2020  \n",
       "1          Ahmed Khan           Mar          2020  \n",
       "2       Anubhav Sinha           Feb          2020  \n",
       "3      Hitesh Kewalya           Feb          2020  \n",
       "4  Bhanu Pratap Singh           Feb          2020  "
      ]
     },
     "execution_count": 120,
     "metadata": {},
     "output_type": "execute_result"
    }
   ],
   "source": [
    "df_box_office = pd.read_csv('MLR_MovieBoxOffice_data.csv')\n",
    "df_box_office.head()"
   ]
  },
  {
   "cell_type": "code",
   "execution_count": 121,
   "id": "641fb857",
   "metadata": {},
   "outputs": [
    {
     "name": "stdout",
     "output_type": "stream",
     "text": [
      "<class 'pandas.core.frame.DataFrame'>\n",
      "RangeIndex: 130 entries, 0 to 129\n",
      "Data columns (total 10 columns):\n",
      " #   Column                   Non-Null Count  Dtype  \n",
      "---  ------                   --------------  -----  \n",
      " 0   movie_name               130 non-null    object \n",
      " 1   revenue_total            130 non-null    float64\n",
      " 2   revenue_opening_day      130 non-null    float64\n",
      " 3   revenue_opening_weekend  130 non-null    float64\n",
      " 4   revenue_firstweek        130 non-null    float64\n",
      " 5   movie_genre              130 non-null    object \n",
      " 6   runtime                  130 non-null    int64  \n",
      " 7   movie_director           130 non-null    object \n",
      " 8   release_month            130 non-null    object \n",
      " 9   release_year             130 non-null    int64  \n",
      "dtypes: float64(4), int64(2), object(4)\n",
      "memory usage: 10.3+ KB\n"
     ]
    }
   ],
   "source": [
    "#Checking data quality\n",
    "df_box_office.info()"
   ]
  },
  {
   "cell_type": "code",
   "execution_count": 122,
   "id": "480cc1ac",
   "metadata": {},
   "outputs": [
    {
     "data": {
      "text/plain": [
       "Index(['movie_name', 'revenue_total', 'revenue_opening_day',\n",
       "       'revenue_opening_weekend', 'revenue_firstweek', 'movie_genre',\n",
       "       'runtime', 'movie_director', 'release_month', 'release_year'],\n",
       "      dtype='object')"
      ]
     },
     "execution_count": 122,
     "metadata": {},
     "output_type": "execute_result"
    }
   ],
   "source": [
    "df_box_office.columns"
   ]
  },
  {
   "cell_type": "code",
   "execution_count": 135,
   "id": "cbd53233",
   "metadata": {},
   "outputs": [
    {
     "name": "stdout",
     "output_type": "stream",
     "text": [
      "The number of categories for the column  movie_genre  are  16\n",
      "The number of categories for the column  movie_director  are  116\n",
      "The number of categories for the column  release_month  are  12\n",
      "The number of categories for the column  release_year  are  4\n",
      "The total number of categories across the dataframe are 148\n"
     ]
    }
   ],
   "source": [
    "#Checking the number of groups for different categorical variables\n",
    "\n",
    "categorical_cols = ['movie_genre', 'movie_director', 'release_month', 'release_year']\n",
    "total_categories = []\n",
    "for col in categorical_cols:\n",
    "    total_categories.append(len(df_box_office[col].unique()))\n",
    "    print('The number of categories for the column ', col,' are ',len(df_box_office[col].unique()))\n",
    "print('The total number of categories across the dataframe are', sum(total_categories))"
   ]
  },
  {
   "cell_type": "code",
   "execution_count": 138,
   "id": "b25bb652",
   "metadata": {},
   "outputs": [
    {
     "data": {
      "text/plain": [
       "(130, 10)"
      ]
     },
     "execution_count": 138,
     "metadata": {},
     "output_type": "execute_result"
    }
   ],
   "source": [
    "df_box_office.shape"
   ]
  },
  {
   "cell_type": "markdown",
   "id": "74f922e0",
   "metadata": {},
   "source": [
    "#### Thus we can see once dummy coding is implemented, the total number of columns would exceed the number of rows in the dataset. Hence an OLS estimation may not be feasible."
   ]
  },
  {
   "cell_type": "markdown",
   "id": "0e66e377",
   "metadata": {},
   "source": [
    "#### Since p > n, Shrinkage methods would be required to continue"
   ]
  },
  {
   "cell_type": "markdown",
   "id": "1af7be86",
   "metadata": {},
   "source": [
    "#### Dummy Encoding the dataframe to enable regression"
   ]
  },
  {
   "cell_type": "code",
   "execution_count": 140,
   "id": "7a95ee16",
   "metadata": {},
   "outputs": [],
   "source": [
    "#First we convert year also into an object, so that Python treats it like a Categorical Variable"
   ]
  },
  {
   "cell_type": "code",
   "execution_count": 142,
   "id": "fc8ae788",
   "metadata": {},
   "outputs": [
    {
     "name": "stdout",
     "output_type": "stream",
     "text": [
      "<class 'pandas.core.frame.DataFrame'>\n",
      "RangeIndex: 130 entries, 0 to 129\n",
      "Data columns (total 10 columns):\n",
      " #   Column                   Non-Null Count  Dtype  \n",
      "---  ------                   --------------  -----  \n",
      " 0   movie_name               130 non-null    object \n",
      " 1   revenue_total            130 non-null    float64\n",
      " 2   revenue_opening_day      130 non-null    float64\n",
      " 3   revenue_opening_weekend  130 non-null    float64\n",
      " 4   revenue_firstweek        130 non-null    float64\n",
      " 5   movie_genre              130 non-null    object \n",
      " 6   runtime                  130 non-null    int64  \n",
      " 7   movie_director           130 non-null    object \n",
      " 8   release_month            130 non-null    object \n",
      " 9   release_year             130 non-null    object \n",
      "dtypes: float64(4), int64(1), object(5)\n",
      "memory usage: 10.3+ KB\n"
     ]
    }
   ],
   "source": [
    "df_box_office['release_year'] = df_box_office['release_year'].astype('object')\n",
    "\n",
    "df_box_office.info()"
   ]
  },
  {
   "cell_type": "code",
   "execution_count": 143,
   "id": "ad3a2682",
   "metadata": {},
   "outputs": [
    {
     "data": {
      "text/plain": [
       "<seaborn.axisgrid.PairGrid at 0x18aead2bee0>"
      ]
     },
     "execution_count": 143,
     "metadata": {},
     "output_type": "execute_result"
    },
    {
     "data": {
      "image/png": "[encoded data removed]",
      "text/plain": [
       "<Figure size 540x180 with 3 Axes>"
      ]
     },
     "metadata": {
      "needs_background": "light"
     },
     "output_type": "display_data"
    }
   ],
   "source": [
    "#Looking at the relationship of total revenue with numerical variables\n",
    "\n",
    "sns.pairplot(df_box_office,\n",
    "            x_vars =[ 'revenue_opening_day', 'revenue_opening_weekend', 'revenue_firstweek'],\n",
    "            y_vars = 'revenue_total')"
   ]
  },
  {
   "cell_type": "code",
   "execution_count": 150,
   "id": "bd8ac942",
   "metadata": {},
   "outputs": [
    {
     "data": {
      "text/plain": [
       "<AxesSubplot:xlabel='movie_genre', ylabel='revenue_total'>"
      ]
     },
     "execution_count": 150,
     "metadata": {},
     "output_type": "execute_result"
    },
    {
     "data": {
      "image/png": "[encoded data removed]",
      "text/plain": [
       "<Figure size 1080x360 with 1 Axes>"
      ]
     },
     "metadata": {},
     "output_type": "display_data"
    }
   ],
   "source": [
    "#Looking at the relationship of total revenue with categorical variables\n",
    "sns.set(rc={'figure.figsize':(15,5)})\n",
    "sns.boxplot(data = df_box_office, x= 'movie_genre' , y = 'revenue_total' )"
   ]
  },
  {
   "cell_type": "code",
   "execution_count": 159,
   "id": "ee8a91db",
   "metadata": {},
   "outputs": [
    {
     "data": {
      "text/plain": [
       "<AxesSubplot:xlabel='movie_director', ylabel='revenue_total'>"
      ]
     },
     "execution_count": 159,
     "metadata": {},
     "output_type": "execute_result"
    },
    {
     "data": {
      "image/png": "[encoded data removed]",
      "text/plain": [
       "<Figure size 1080x1440 with 1 Axes>"
      ]
     },
     "metadata": {},
     "output_type": "display_data"
    }
   ],
   "source": [
    "#Looking at the relationship of total revenue with categorical variables\n",
    "sns.set(rc={'figure.figsize':(15,20)})\n",
    "sns.boxplot(data = df_box_office, x= 'movie_director' , y = 'revenue_total' )\n"
   ]
  },
  {
   "cell_type": "code",
   "execution_count": 167,
   "id": "13ae692d",
   "metadata": {},
   "outputs": [
    {
     "data": {
      "text/plain": [
       "Anubhav Sinha      3\n",
       "Meghna Gulzar      2\n",
       "Mudassar Aziz      2\n",
       "Ahmed Khan         2\n",
       "Hansal Mehta       2\n",
       "                  ..\n",
       "Abhishek Varman    1\n",
       "Soumik Sen         1\n",
       "Om Raut            1\n",
       "Rajiev Dhingra     1\n",
       "Abhishek Pathak    1\n",
       "Name: movie_director, Length: 116, dtype: int64"
      ]
     },
     "execution_count": 167,
     "metadata": {},
     "output_type": "execute_result"
    }
   ],
   "source": [
    "df_box_office['movie_director'].value_counts().sort_values(ascending = False)"
   ]
  },
  {
   "cell_type": "code",
   "execution_count": 152,
   "id": "3b1e3d5d",
   "metadata": {},
   "outputs": [
    {
     "data": {
      "text/plain": [
       "<AxesSubplot:xlabel='release_month', ylabel='revenue_total'>"
      ]
     },
     "execution_count": 152,
     "metadata": {},
     "output_type": "execute_result"
    },
    {
     "data": {
      "image/png": "[encoded data removed]",
      "text/plain": [
       "<Figure size 1080x360 with 1 Axes>"
      ]
     },
     "metadata": {},
     "output_type": "display_data"
    }
   ],
   "source": [
    "#Looking at the relationship of total revenue with categorical variables\n",
    "sns.set(rc={'figure.figsize':(15,5)})\n",
    "sns.boxplot(data = df_box_office, x= 'release_month' , y = 'revenue_total' )"
   ]
  },
  {
   "cell_type": "code",
   "execution_count": 153,
   "id": "a9c17b0f",
   "metadata": {},
   "outputs": [
    {
     "data": {
      "text/plain": [
       "<AxesSubplot:xlabel='release_year', ylabel='revenue_total'>"
      ]
     },
     "execution_count": 153,
     "metadata": {},
     "output_type": "execute_result"
    },
    {
     "data": {
      "image/png": "[encoded data removed]",
      "text/plain": [
       "<Figure size 1080x360 with 1 Axes>"
      ]
     },
     "metadata": {},
     "output_type": "display_data"
    }
   ],
   "source": [
    "#Looking at the relationship of total revenue with categorical variables\n",
    "sns.set(rc={'figure.figsize':(15,5)})\n",
    "sns.boxplot(data = df_box_office, x= 'release_year' , y = 'revenue_total' )"
   ]
  },
  {
   "cell_type": "markdown",
   "id": "ada3a439",
   "metadata": {},
   "source": [
    "#### As per the analysis, the max that any director has directed is 3 movies. The sample is very small to demonstrate the impact of one director. The boxplot also has no apparent pattern. Hence we can drop the 'director' column.\n",
    "\n",
    "#### We can also exclude the factor, 'movie name' from the consideration"
   ]
  },
  {
   "cell_type": "code",
   "execution_count": 178,
   "id": "a6e3a025",
   "metadata": {},
   "outputs": [
    {
     "data": {
      "text/plain": [
       "<AxesSubplot:xlabel='revenue_total', ylabel='Density'>"
      ]
     },
     "execution_count": 178,
     "metadata": {},
     "output_type": "execute_result"
    },
    {
     "data": {
      "image/png": "[encoded data removed]",
      "text/plain": [
       "<Figure size 720x360 with 1 Axes>"
      ]
     },
     "metadata": {},
     "output_type": "display_data"
    }
   ],
   "source": [
    "#Checking for the normality of the distribution\n",
    "sns.set(rc={'figure.figsize':(10,5)})\n",
    "sns.kdeplot(df_box_office.revenue_total)"
   ]
  },
  {
   "cell_type": "code",
   "execution_count": 179,
   "id": "b9ae9d11",
   "metadata": {},
   "outputs": [
    {
     "data": {
      "text/plain": [
       "1.5969137047466817"
      ]
     },
     "execution_count": 179,
     "metadata": {},
     "output_type": "execute_result"
    }
   ],
   "source": [
    "#It appears skewed. Checking for skewness numerically\n",
    "\n",
    "#checking for skewness\n",
    "df_box_office.revenue_total.skew()"
   ]
  },
  {
   "cell_type": "code",
   "execution_count": 180,
   "id": "0890ed9b",
   "metadata": {},
   "outputs": [
    {
     "data": {
      "text/plain": [
       "2.063123147054581"
      ]
     },
     "execution_count": 180,
     "metadata": {},
     "output_type": "execute_result"
    }
   ],
   "source": [
    "#Checking for kurtosis:\n",
    "\n",
    "import scipy.stats\n",
    "\n",
    "scipy.stats.kurtosis(df_box_office.revenue_total)"
   ]
  },
  {
   "cell_type": "markdown",
   "id": "e03b6323",
   "metadata": {},
   "source": [
    "#### Skewness between -2 and +2 and Kurtosis between -3 and +3 is considered normal, hence we consider this distribution normal"
   ]
  },
  {
   "cell_type": "code",
   "execution_count": 174,
   "id": "7f33bb08",
   "metadata": {},
   "outputs": [],
   "source": [
    "y = df_box_office.revenue_total\n",
    "x = df_box_office[['revenue_opening_day',\n",
    "       'revenue_opening_weekend', 'revenue_firstweek', 'movie_genre',\n",
    "       'runtime', 'release_month', 'release_year']]\n",
    "    \n"
   ]
  },
  {
   "cell_type": "code",
   "execution_count": 175,
   "id": "999088dd",
   "metadata": {},
   "outputs": [
    {
     "data": {
      "text/plain": [
       "0     9.36\n",
       "1    93.37\n",
       "2    30.61\n",
       "3    62.78\n",
       "4    31.97\n",
       "Name: revenue_total, dtype: float64"
      ]
     },
     "execution_count": 175,
     "metadata": {},
     "output_type": "execute_result"
    }
   ],
   "source": [
    "y.head()"
   ]
  },
  {
   "cell_type": "code",
   "execution_count": 176,
   "id": "839816fb",
   "metadata": {},
   "outputs": [
    {
     "data": {
      "text/html": [
       "<div>\n",
       "<style scoped>\n",
       "    .dataframe tbody tr th:only-of-type {\n",
       "        vertical-align: middle;\n",
       "    }\n",
       "\n",
       "    .dataframe tbody tr th {\n",
       "        vertical-align: top;\n",
       "    }\n",
       "\n",
       "    .dataframe thead th {\n",
       "        text-align: right;\n",
       "    }\n",
       "</style>\n",
       "<table border=\"1\" class=\"dataframe\">\n",
       "  <thead>\n",
       "    <tr style=\"text-align: right;\">\n",
       "      <th></th>\n",
       "      <th>revenue_opening_day</th>\n",
       "      <th>revenue_opening_weekend</th>\n",
       "      <th>revenue_firstweek</th>\n",
       "      <th>movie_genre</th>\n",
       "      <th>runtime</th>\n",
       "      <th>release_month</th>\n",
       "      <th>release_year</th>\n",
       "    </tr>\n",
       "  </thead>\n",
       "  <tbody>\n",
       "    <tr>\n",
       "      <th>0</th>\n",
       "      <td>4.03</td>\n",
       "      <td>9.03</td>\n",
       "      <td>9.36</td>\n",
       "      <td>Drama</td>\n",
       "      <td>145</td>\n",
       "      <td>Mar</td>\n",
       "      <td>2020</td>\n",
       "    </tr>\n",
       "    <tr>\n",
       "      <th>1</th>\n",
       "      <td>17.50</td>\n",
       "      <td>53.83</td>\n",
       "      <td>90.67</td>\n",
       "      <td>Action</td>\n",
       "      <td>147</td>\n",
       "      <td>Mar</td>\n",
       "      <td>2020</td>\n",
       "    </tr>\n",
       "    <tr>\n",
       "      <th>2</th>\n",
       "      <td>3.07</td>\n",
       "      <td>14.66</td>\n",
       "      <td>22.79</td>\n",
       "      <td>Drama</td>\n",
       "      <td>142</td>\n",
       "      <td>Feb</td>\n",
       "      <td>2020</td>\n",
       "    </tr>\n",
       "    <tr>\n",
       "      <th>3</th>\n",
       "      <td>9.55</td>\n",
       "      <td>32.66</td>\n",
       "      <td>44.84</td>\n",
       "      <td>Comedy</td>\n",
       "      <td>120</td>\n",
       "      <td>Feb</td>\n",
       "      <td>2020</td>\n",
       "    </tr>\n",
       "    <tr>\n",
       "      <th>4</th>\n",
       "      <td>5.10</td>\n",
       "      <td>16.36</td>\n",
       "      <td>24.18</td>\n",
       "      <td>Horror</td>\n",
       "      <td>117</td>\n",
       "      <td>Feb</td>\n",
       "      <td>2020</td>\n",
       "    </tr>\n",
       "  </tbody>\n",
       "</table>\n",
       "</div>"
      ],
      "text/plain": [
       "   revenue_opening_day  revenue_opening_weekend  revenue_firstweek  \\\n",
       "0                 4.03                     9.03               9.36   \n",
       "1                17.50                    53.83              90.67   \n",
       "2                 3.07                    14.66              22.79   \n",
       "3                 9.55                    32.66              44.84   \n",
       "4                 5.10                    16.36              24.18   \n",
       "\n",
       "  movie_genre  runtime release_month release_year  \n",
       "0       Drama      145           Mar         2020  \n",
       "1      Action      147           Mar         2020  \n",
       "2       Drama      142           Feb         2020  \n",
       "3      Comedy      120           Feb         2020  \n",
       "4      Horror      117           Feb         2020  "
      ]
     },
     "execution_count": 176,
     "metadata": {},
     "output_type": "execute_result"
    }
   ],
   "source": [
    "x.head()"
   ]
  },
  {
   "cell_type": "markdown",
   "id": "a585336b",
   "metadata": {},
   "source": [
    "#### Dummy encoding x so that categorical variables can be used for regression"
   ]
  },
  {
   "cell_type": "code",
   "execution_count": 181,
   "id": "3481c630",
   "metadata": {},
   "outputs": [
    {
     "data": {
      "text/html": [
       "<div>\n",
       "<style scoped>\n",
       "    .dataframe tbody tr th:only-of-type {\n",
       "        vertical-align: middle;\n",
       "    }\n",
       "\n",
       "    .dataframe tbody tr th {\n",
       "        vertical-align: top;\n",
       "    }\n",
       "\n",
       "    .dataframe thead th {\n",
       "        text-align: right;\n",
       "    }\n",
       "</style>\n",
       "<table border=\"1\" class=\"dataframe\">\n",
       "  <thead>\n",
       "    <tr style=\"text-align: right;\">\n",
       "      <th></th>\n",
       "      <th>revenue_opening_day</th>\n",
       "      <th>revenue_opening_weekend</th>\n",
       "      <th>revenue_firstweek</th>\n",
       "      <th>runtime</th>\n",
       "      <th>movie_genre_Biographical</th>\n",
       "      <th>movie_genre_Comedy</th>\n",
       "      <th>movie_genre_Crime</th>\n",
       "      <th>movie_genre_Dance</th>\n",
       "      <th>movie_genre_Drama</th>\n",
       "      <th>movie_genre_Historical</th>\n",
       "      <th>...</th>\n",
       "      <th>release_month_Jul</th>\n",
       "      <th>release_month_Jun</th>\n",
       "      <th>release_month_Mar</th>\n",
       "      <th>release_month_May</th>\n",
       "      <th>release_month_Nov</th>\n",
       "      <th>release_month_Oct</th>\n",
       "      <th>release_month_Sep</th>\n",
       "      <th>release_year_2018</th>\n",
       "      <th>release_year_2019</th>\n",
       "      <th>release_year_2020</th>\n",
       "    </tr>\n",
       "  </thead>\n",
       "  <tbody>\n",
       "    <tr>\n",
       "      <th>0</th>\n",
       "      <td>4.03</td>\n",
       "      <td>9.03</td>\n",
       "      <td>9.36</td>\n",
       "      <td>145</td>\n",
       "      <td>0</td>\n",
       "      <td>0</td>\n",
       "      <td>0</td>\n",
       "      <td>0</td>\n",
       "      <td>1</td>\n",
       "      <td>0</td>\n",
       "      <td>...</td>\n",
       "      <td>0</td>\n",
       "      <td>0</td>\n",
       "      <td>1</td>\n",
       "      <td>0</td>\n",
       "      <td>0</td>\n",
       "      <td>0</td>\n",
       "      <td>0</td>\n",
       "      <td>0</td>\n",
       "      <td>0</td>\n",
       "      <td>1</td>\n",
       "    </tr>\n",
       "    <tr>\n",
       "      <th>1</th>\n",
       "      <td>17.50</td>\n",
       "      <td>53.83</td>\n",
       "      <td>90.67</td>\n",
       "      <td>147</td>\n",
       "      <td>0</td>\n",
       "      <td>0</td>\n",
       "      <td>0</td>\n",
       "      <td>0</td>\n",
       "      <td>0</td>\n",
       "      <td>0</td>\n",
       "      <td>...</td>\n",
       "      <td>0</td>\n",
       "      <td>0</td>\n",
       "      <td>1</td>\n",
       "      <td>0</td>\n",
       "      <td>0</td>\n",
       "      <td>0</td>\n",
       "      <td>0</td>\n",
       "      <td>0</td>\n",
       "      <td>0</td>\n",
       "      <td>1</td>\n",
       "    </tr>\n",
       "    <tr>\n",
       "      <th>2</th>\n",
       "      <td>3.07</td>\n",
       "      <td>14.66</td>\n",
       "      <td>22.79</td>\n",
       "      <td>142</td>\n",
       "      <td>0</td>\n",
       "      <td>0</td>\n",
       "      <td>0</td>\n",
       "      <td>0</td>\n",
       "      <td>1</td>\n",
       "      <td>0</td>\n",
       "      <td>...</td>\n",
       "      <td>0</td>\n",
       "      <td>0</td>\n",
       "      <td>0</td>\n",
       "      <td>0</td>\n",
       "      <td>0</td>\n",
       "      <td>0</td>\n",
       "      <td>0</td>\n",
       "      <td>0</td>\n",
       "      <td>0</td>\n",
       "      <td>1</td>\n",
       "    </tr>\n",
       "    <tr>\n",
       "      <th>3</th>\n",
       "      <td>9.55</td>\n",
       "      <td>32.66</td>\n",
       "      <td>44.84</td>\n",
       "      <td>120</td>\n",
       "      <td>0</td>\n",
       "      <td>1</td>\n",
       "      <td>0</td>\n",
       "      <td>0</td>\n",
       "      <td>0</td>\n",
       "      <td>0</td>\n",
       "      <td>...</td>\n",
       "      <td>0</td>\n",
       "      <td>0</td>\n",
       "      <td>0</td>\n",
       "      <td>0</td>\n",
       "      <td>0</td>\n",
       "      <td>0</td>\n",
       "      <td>0</td>\n",
       "      <td>0</td>\n",
       "      <td>0</td>\n",
       "      <td>1</td>\n",
       "    </tr>\n",
       "    <tr>\n",
       "      <th>4</th>\n",
       "      <td>5.10</td>\n",
       "      <td>16.36</td>\n",
       "      <td>24.18</td>\n",
       "      <td>117</td>\n",
       "      <td>0</td>\n",
       "      <td>0</td>\n",
       "      <td>0</td>\n",
       "      <td>0</td>\n",
       "      <td>0</td>\n",
       "      <td>0</td>\n",
       "      <td>...</td>\n",
       "      <td>0</td>\n",
       "      <td>0</td>\n",
       "      <td>0</td>\n",
       "      <td>0</td>\n",
       "      <td>0</td>\n",
       "      <td>0</td>\n",
       "      <td>0</td>\n",
       "      <td>0</td>\n",
       "      <td>0</td>\n",
       "      <td>1</td>\n",
       "    </tr>\n",
       "  </tbody>\n",
       "</table>\n",
       "<p>5 rows × 33 columns</p>\n",
       "</div>"
      ],
      "text/plain": [
       "   revenue_opening_day  revenue_opening_weekend  revenue_firstweek  runtime  \\\n",
       "0                 4.03                     9.03               9.36      145   \n",
       "1                17.50                    53.83              90.67      147   \n",
       "2                 3.07                    14.66              22.79      142   \n",
       "3                 9.55                    32.66              44.84      120   \n",
       "4                 5.10                    16.36              24.18      117   \n",
       "\n",
       "   movie_genre_Biographical  movie_genre_Comedy  movie_genre_Crime  \\\n",
       "0                         0                   0                  0   \n",
       "1                         0                   0                  0   \n",
       "2                         0                   0                  0   \n",
       "3                         0                   1                  0   \n",
       "4                         0                   0                  0   \n",
       "\n",
       "   movie_genre_Dance  movie_genre_Drama  movie_genre_Historical  ...  \\\n",
       "0                  0                  1                       0  ...   \n",
       "1                  0                  0                       0  ...   \n",
       "2                  0                  1                       0  ...   \n",
       "3                  0                  0                       0  ...   \n",
       "4                  0                  0                       0  ...   \n",
       "\n",
       "   release_month_Jul  release_month_Jun  release_month_Mar  release_month_May  \\\n",
       "0                  0                  0                  1                  0   \n",
       "1                  0                  0                  1                  0   \n",
       "2                  0                  0                  0                  0   \n",
       "3                  0                  0                  0                  0   \n",
       "4                  0                  0                  0                  0   \n",
       "\n",
       "   release_month_Nov  release_month_Oct  release_month_Sep  release_year_2018  \\\n",
       "0                  0                  0                  0                  0   \n",
       "1                  0                  0                  0                  0   \n",
       "2                  0                  0                  0                  0   \n",
       "3                  0                  0                  0                  0   \n",
       "4                  0                  0                  0                  0   \n",
       "\n",
       "   release_year_2019  release_year_2020  \n",
       "0                  0                  1  \n",
       "1                  0                  1  \n",
       "2                  0                  1  \n",
       "3                  0                  1  \n",
       "4                  0                  1  \n",
       "\n",
       "[5 rows x 33 columns]"
      ]
     },
     "execution_count": 181,
     "metadata": {},
     "output_type": "execute_result"
    }
   ],
   "source": [
    "x = pd.get_dummies(x, drop_first = True)\n",
    "x.head()"
   ]
  },
  {
   "cell_type": "code",
   "execution_count": 184,
   "id": "318b268a",
   "metadata": {},
   "outputs": [
    {
     "data": {
      "text/plain": [
       "(130, 33)"
      ]
     },
     "execution_count": 184,
     "metadata": {},
     "output_type": "execute_result"
    }
   ],
   "source": [
    "x.shape"
   ]
  },
  {
   "cell_type": "code",
   "execution_count": 185,
   "id": "c11bdaea",
   "metadata": {},
   "outputs": [
    {
     "data": {
      "text/plain": [
       "Index(['revenue_opening_day', 'revenue_opening_weekend', 'revenue_firstweek',\n",
       "       'runtime', 'movie_genre_Biographical', 'movie_genre_Comedy',\n",
       "       'movie_genre_Crime', 'movie_genre_Dance', 'movie_genre_Drama',\n",
       "       'movie_genre_Historical', 'movie_genre_Horror', 'movie_genre_Musical',\n",
       "       'movie_genre_Period', 'movie_genre_Romance', 'movie_genre_Sci-fi',\n",
       "       'movie_genre_Social', 'movie_genre_Sports', 'movie_genre_Spy',\n",
       "       'movie_genre_Thriller', 'release_month_Aug', 'release_month_Dec',\n",
       "       'release_month_Feb', 'release_month_Jan', 'release_month_Jul',\n",
       "       'release_month_Jun', 'release_month_Mar', 'release_month_May',\n",
       "       'release_month_Nov', 'release_month_Oct', 'release_month_Sep',\n",
       "       'release_year_2018', 'release_year_2019', 'release_year_2020'],\n",
       "      dtype='object')"
      ]
     },
     "execution_count": 185,
     "metadata": {},
     "output_type": "execute_result"
    }
   ],
   "source": [
    "x.columns"
   ]
  },
  {
   "cell_type": "markdown",
   "id": "ad2e923c",
   "metadata": {},
   "source": [
    "#### Ans 2 (a) - The variables to fit a linear regression model are mentioned above"
   ]
  },
  {
   "cell_type": "markdown",
   "id": "6d73ef1a",
   "metadata": {},
   "source": [
    "#### Creating a model using forward selection in Machine Learning\n"
   ]
  },
  {
   "cell_type": "code",
   "execution_count": 186,
   "id": "7f9e7358",
   "metadata": {},
   "outputs": [],
   "source": [
    "from mlxtend.feature_selection import SequentialFeatureSelector as sfs\n",
    "from mlxtend.plotting import plot_sequential_feature_selection as plot_sfs\n",
    "\n",
    "from sklearn.linear_model import LinearRegression\n",
    "\n",
    "import matplotlib.pyplot as plt"
   ]
  },
  {
   "cell_type": "code",
   "execution_count": 193,
   "id": "7c244fee",
   "metadata": {},
   "outputs": [
    {
     "data": {
      "text/plain": [
       "SequentialFeatureSelector(estimator=LinearRegression(), k_features=(1, 33),\n",
       "                          scoring='neg_mean_squared_error')"
      ]
     },
     "execution_count": 193,
     "metadata": {},
     "output_type": "execute_result"
    }
   ],
   "source": [
    "lr = LinearRegression()\n",
    "\n",
    "sfs_fwd = sfs(lr,\n",
    "             k_features = (1,33),\n",
    "             forward = True,\n",
    "              floating = False,\n",
    "              scoring = 'neg_mean_squared_error',\n",
    "              cv = 5,\n",
    "             )\n",
    "\n",
    "sfs_fwd.fit(x,y)"
   ]
  },
  {
   "cell_type": "code",
   "execution_count": 200,
   "id": "2dd923f8",
   "metadata": {},
   "outputs": [
    {
     "data": {
      "text/plain": [
       "('revenue_opening_day',\n",
       " 'revenue_firstweek',\n",
       " 'movie_genre_Comedy',\n",
       " 'movie_genre_Crime',\n",
       " 'movie_genre_Historical',\n",
       " 'movie_genre_Thriller',\n",
       " 'release_month_Dec')"
      ]
     },
     "execution_count": 200,
     "metadata": {},
     "output_type": "execute_result"
    }
   ],
   "source": [
    "sfs_fwd.k_feature_names_"
   ]
  },
  {
   "cell_type": "code",
   "execution_count": 201,
   "id": "5ac49f2e",
   "metadata": {},
   "outputs": [],
   "source": [
    "list1 = list(sfs_fwd.k_feature_names_)"
   ]
  },
  {
   "cell_type": "code",
   "execution_count": 202,
   "id": "ae77b286",
   "metadata": {},
   "outputs": [
    {
     "data": {
      "text/plain": [
       "['revenue_opening_day',\n",
       " 'revenue_firstweek',\n",
       " 'movie_genre_Comedy',\n",
       " 'movie_genre_Crime',\n",
       " 'movie_genre_Historical',\n",
       " 'movie_genre_Thriller',\n",
       " 'release_month_Dec']"
      ]
     },
     "execution_count": 202,
     "metadata": {},
     "output_type": "execute_result"
    }
   ],
   "source": [
    "list1"
   ]
  },
  {
   "cell_type": "markdown",
   "id": "d36f7a30",
   "metadata": {},
   "source": [
    "#### Now that the features have been selected, we can build a Linear Regression model"
   ]
  },
  {
   "cell_type": "code",
   "execution_count": 205,
   "id": "1b298cc7",
   "metadata": {},
   "outputs": [
    {
     "data": {
      "text/plain": [
       "LinearRegression()"
      ]
     },
     "execution_count": 205,
     "metadata": {},
     "output_type": "execute_result"
    }
   ],
   "source": [
    "x_new = x [list(sfs_fwd.k_feature_names_)]\n",
    "\n",
    "lr_model_box_office = LinearRegression()\n",
    "lr_model_box_office.fit(x_new,y)"
   ]
  },
  {
   "cell_type": "code",
   "execution_count": 209,
   "id": "38349589",
   "metadata": {},
   "outputs": [
    {
     "data": {
      "text/plain": [
       "[('revenue_opening_day', -4.029110162530395),\n",
       " ('revenue_firstweek', 2.2813222830986573),\n",
       " ('movie_genre_Comedy', 4.000358811825551),\n",
       " ('movie_genre_Crime', 8.987130844892908),\n",
       " ('movie_genre_Historical', 28.93920510403889),\n",
       " ('movie_genre_Thriller', -3.5738578105617687),\n",
       " ('release_month_Dec', -11.566581438631703)]"
      ]
     },
     "execution_count": 209,
     "metadata": {},
     "output_type": "execute_result"
    }
   ],
   "source": [
    "lr_coefficients = lr_model_box_office.coef_\n",
    "lr_variables = list(x_new.columns)\n",
    "\n",
    "zip_list = list(zip(lr_variables,lr_coefficients))\n",
    "zip_list"
   ]
  },
  {
   "cell_type": "markdown",
   "id": "ac30e886",
   "metadata": {},
   "source": [
    "#### Ans 2 (b) - Impact of genre\n",
    "\n",
    "- If the genre is Comedy, the revenue increases by 4 units. \n",
    "- If the genre is Crime, the revenue increases by 8.98 units. \n",
    "- If the genre is Historical, the revenue increases by 28.93 units. \n",
    "- If the genre is Thriller, the revenue decreases by 3.57 units. "
   ]
  },
  {
   "cell_type": "markdown",
   "id": "d5ee8f71",
   "metadata": {},
   "source": [
    "#### Ans 2 (c) -  Role of the month in movie opening\n",
    "\n",
    "- As per the feature selection process, none of the month related features were selected. Hence we can consider that the month does not play any role in the revenue \n"
   ]
  },
  {
   "cell_type": "markdown",
   "id": "5e915348",
   "metadata": {},
   "source": [
    "#### Q 2 (d) - Use any variable reduction technique to fit a model using all relevant variables."
   ]
  },
  {
   "cell_type": "markdown",
   "id": "4946fd86",
   "metadata": {},
   "source": [
    "#### Ans 2 (d) - Forward Selection Technique already used"
   ]
  },
  {
   "cell_type": "markdown",
   "id": "9b6bf104",
   "metadata": {},
   "source": [
    "#### Q 2 (e) Do you find any outliers in the dataset? What could be the possible reason for those being outliers?"
   ]
  },
  {
   "cell_type": "markdown",
   "id": "019cca22",
   "metadata": {},
   "source": [
    "#### Solution - Using OLS for outlier detection"
   ]
  },
  {
   "cell_type": "code",
   "execution_count": 210,
   "id": "bb601062",
   "metadata": {},
   "outputs": [
    {
     "name": "stdout",
     "output_type": "stream",
     "text": [
      "                            OLS Regression Results                            \n",
      "==============================================================================\n",
      "Dep. Variable:          revenue_total   R-squared:                       0.943\n",
      "Model:                            OLS   Adj. R-squared:                  0.940\n",
      "Method:                 Least Squares   F-statistic:                     288.7\n",
      "Date:                Sat, 10 Sep 2022   Prob (F-statistic):           9.73e-73\n",
      "Time:                        04:10:59   Log-Likelihood:                -565.06\n",
      "No. Observations:                 130   AIC:                             1146.\n",
      "Df Residuals:                     122   BIC:                             1169.\n",
      "Df Model:                           7                                         \n",
      "Covariance Type:            nonrobust                                         \n",
      "==========================================================================================\n",
      "                             coef    std err          t      P>|t|      [0.025      0.975]\n",
      "------------------------------------------------------------------------------------------\n",
      "const                     -3.8082      2.772     -1.374      0.172      -9.296       1.680\n",
      "revenue_opening_day       -4.0291      0.482     -8.362      0.000      -4.983      -3.075\n",
      "revenue_firstweek          2.2813      0.100     22.770      0.000       2.083       2.480\n",
      "movie_genre_Comedy         4.0004      4.093      0.977      0.330      -4.101      12.102\n",
      "movie_genre_Crime          8.9871      8.246      1.090      0.278      -7.336      25.310\n",
      "movie_genre_Historical    28.9392     10.108      2.863      0.005       8.928      48.950\n",
      "movie_genre_Thriller      -3.5739      8.260     -0.433      0.666     -19.924      12.777\n",
      "release_month_Dec        -11.5666      6.086     -1.901      0.060     -23.614       0.481\n",
      "==============================================================================\n",
      "Omnibus:                       84.553   Durbin-Watson:                   2.119\n",
      "Prob(Omnibus):                  0.000   Jarque-Bera (JB):              932.247\n",
      "Skew:                           1.977   Prob(JB):                    3.67e-203\n",
      "Kurtosis:                      15.509   Cond. No.                         426.\n",
      "==============================================================================\n",
      "\n",
      "Notes:\n",
      "[1] Standard Errors assume that the covariance matrix of the errors is correctly specified.\n"
     ]
    }
   ],
   "source": [
    "reg_model_box_office = ols_fn_print(y,x_new)\n"
   ]
  },
  {
   "cell_type": "code",
   "execution_count": 215,
   "id": "3a84e521",
   "metadata": {},
   "outputs": [
    {
     "data": {
      "image/png": "[encoded data removed]",
      "text/plain": [
       "<Figure size 720x360 with 1 Axes>"
      ]
     },
     "metadata": {},
     "output_type": "display_data"
    }
   ],
   "source": [
    "influence = reg_model_box_office.get_influence()\n",
    "\n",
    "cooks_dist = influence.cooks_distance\n",
    "\n",
    "plt.scatter(x_new.revenue_opening_day, cooks_dist[0])\n",
    "plt.xlabel('revenue_opening_day')\n",
    "plt.ylabel('Cooks Distance')\n",
    "plt.show()"
   ]
  },
  {
   "cell_type": "code",
   "execution_count": 216,
   "id": "ce0f7538",
   "metadata": {},
   "outputs": [
    {
     "data": {
      "text/html": [
       "<div>\n",
       "<style scoped>\n",
       "    .dataframe tbody tr th:only-of-type {\n",
       "        vertical-align: middle;\n",
       "    }\n",
       "\n",
       "    .dataframe tbody tr th {\n",
       "        vertical-align: top;\n",
       "    }\n",
       "\n",
       "    .dataframe thead th {\n",
       "        text-align: right;\n",
       "    }\n",
       "</style>\n",
       "<table border=\"1\" class=\"dataframe\">\n",
       "  <thead>\n",
       "    <tr style=\"text-align: right;\">\n",
       "      <th></th>\n",
       "      <th>revenue_opening_day</th>\n",
       "      <th>revenue_firstweek</th>\n",
       "      <th>movie_genre_Comedy</th>\n",
       "      <th>movie_genre_Crime</th>\n",
       "      <th>movie_genre_Historical</th>\n",
       "      <th>movie_genre_Thriller</th>\n",
       "      <th>release_month_Dec</th>\n",
       "      <th>cooks_dist</th>\n",
       "    </tr>\n",
       "  </thead>\n",
       "  <tbody>\n",
       "    <tr>\n",
       "      <th>11</th>\n",
       "      <td>15.10</td>\n",
       "      <td>118.91</td>\n",
       "      <td>0</td>\n",
       "      <td>0</td>\n",
       "      <td>1</td>\n",
       "      <td>0</td>\n",
       "      <td>0</td>\n",
       "      <td>0.305871</td>\n",
       "    </tr>\n",
       "    <tr>\n",
       "      <th>17</th>\n",
       "      <td>4.12</td>\n",
       "      <td>25.68</td>\n",
       "      <td>0</td>\n",
       "      <td>0</td>\n",
       "      <td>1</td>\n",
       "      <td>0</td>\n",
       "      <td>1</td>\n",
       "      <td>0.113028</td>\n",
       "    </tr>\n",
       "    <tr>\n",
       "      <th>62</th>\n",
       "      <td>8.20</td>\n",
       "      <td>70.94</td>\n",
       "      <td>0</td>\n",
       "      <td>0</td>\n",
       "      <td>0</td>\n",
       "      <td>0</td>\n",
       "      <td>0</td>\n",
       "      <td>0.177907</td>\n",
       "    </tr>\n",
       "    <tr>\n",
       "      <th>71</th>\n",
       "      <td>52.25</td>\n",
       "      <td>140.40</td>\n",
       "      <td>0</td>\n",
       "      <td>0</td>\n",
       "      <td>0</td>\n",
       "      <td>0</td>\n",
       "      <td>0</td>\n",
       "      <td>0.882906</td>\n",
       "    </tr>\n",
       "  </tbody>\n",
       "</table>\n",
       "</div>"
      ],
      "text/plain": [
       "    revenue_opening_day  revenue_firstweek  movie_genre_Comedy  \\\n",
       "11                15.10             118.91                   0   \n",
       "17                 4.12              25.68                   0   \n",
       "62                 8.20              70.94                   0   \n",
       "71                52.25             140.40                   0   \n",
       "\n",
       "    movie_genre_Crime  movie_genre_Historical  movie_genre_Thriller  \\\n",
       "11                  0                       1                     0   \n",
       "17                  0                       1                     0   \n",
       "62                  0                       0                     0   \n",
       "71                  0                       0                     0   \n",
       "\n",
       "    release_month_Dec  cooks_dist  \n",
       "11                  0    0.305871  \n",
       "17                  1    0.113028  \n",
       "62                  0    0.177907  \n",
       "71                  0    0.882906  "
      ]
     },
     "execution_count": 216,
     "metadata": {},
     "output_type": "execute_result"
    }
   ],
   "source": [
    "x_new['cooks_dist'] =  cooks_dist[0]\n",
    "\n",
    "x_new[x_new['cooks_dist'] > 0.09]"
   ]
  },
  {
   "cell_type": "code",
   "execution_count": 225,
   "id": "b13c8b99",
   "metadata": {},
   "outputs": [
    {
     "data": {
      "text/html": [
       "<div>\n",
       "<style scoped>\n",
       "    .dataframe tbody tr th:only-of-type {\n",
       "        vertical-align: middle;\n",
       "    }\n",
       "\n",
       "    .dataframe tbody tr th {\n",
       "        vertical-align: top;\n",
       "    }\n",
       "\n",
       "    .dataframe thead th {\n",
       "        text-align: right;\n",
       "    }\n",
       "</style>\n",
       "<table border=\"1\" class=\"dataframe\">\n",
       "  <thead>\n",
       "    <tr style=\"text-align: right;\">\n",
       "      <th></th>\n",
       "      <th>movie_name</th>\n",
       "      <th>revenue_total</th>\n",
       "      <th>revenue_opening_day</th>\n",
       "      <th>revenue_opening_weekend</th>\n",
       "      <th>revenue_firstweek</th>\n",
       "      <th>movie_genre</th>\n",
       "      <th>runtime</th>\n",
       "      <th>movie_director</th>\n",
       "      <th>release_month</th>\n",
       "      <th>release_year</th>\n",
       "    </tr>\n",
       "  </thead>\n",
       "  <tbody>\n",
       "    <tr>\n",
       "      <th>11</th>\n",
       "      <td>Tanhaji: The Unsung Warrior</td>\n",
       "      <td>276.90</td>\n",
       "      <td>15.10</td>\n",
       "      <td>61.75</td>\n",
       "      <td>118.91</td>\n",
       "      <td>Historical</td>\n",
       "      <td>134</td>\n",
       "      <td>Om Raut</td>\n",
       "      <td>Jan</td>\n",
       "      <td>2020</td>\n",
       "    </tr>\n",
       "    <tr>\n",
       "      <th>17</th>\n",
       "      <td>Panipat</td>\n",
       "      <td>34.28</td>\n",
       "      <td>4.12</td>\n",
       "      <td>17.68</td>\n",
       "      <td>25.68</td>\n",
       "      <td>Historical</td>\n",
       "      <td>162</td>\n",
       "      <td>Ashutosh Gowariker</td>\n",
       "      <td>Dec</td>\n",
       "      <td>2019</td>\n",
       "    </tr>\n",
       "    <tr>\n",
       "      <th>62</th>\n",
       "      <td>Uri: The Surgical Strike</td>\n",
       "      <td>244.06</td>\n",
       "      <td>8.20</td>\n",
       "      <td>35.73</td>\n",
       "      <td>70.94</td>\n",
       "      <td>Action</td>\n",
       "      <td>138</td>\n",
       "      <td>Aditya Dhar</td>\n",
       "      <td>Jan</td>\n",
       "      <td>2019</td>\n",
       "    </tr>\n",
       "    <tr>\n",
       "      <th>71</th>\n",
       "      <td>Thugs Of Hindostan</td>\n",
       "      <td>151.04</td>\n",
       "      <td>52.25</td>\n",
       "      <td>123.00</td>\n",
       "      <td>140.40</td>\n",
       "      <td>Action</td>\n",
       "      <td>165</td>\n",
       "      <td>Vijay Krishna Acharya</td>\n",
       "      <td>Nov</td>\n",
       "      <td>2018</td>\n",
       "    </tr>\n",
       "  </tbody>\n",
       "</table>\n",
       "</div>"
      ],
      "text/plain": [
       "                     movie_name  revenue_total  revenue_opening_day  \\\n",
       "11  Tanhaji: The Unsung Warrior         276.90                15.10   \n",
       "17                      Panipat          34.28                 4.12   \n",
       "62     Uri: The Surgical Strike         244.06                 8.20   \n",
       "71           Thugs Of Hindostan         151.04                52.25   \n",
       "\n",
       "    revenue_opening_weekend  revenue_firstweek movie_genre  runtime  \\\n",
       "11                    61.75             118.91  Historical      134   \n",
       "17                    17.68              25.68  Historical      162   \n",
       "62                    35.73              70.94      Action      138   \n",
       "71                   123.00             140.40      Action      165   \n",
       "\n",
       "           movie_director release_month release_year  \n",
       "11                Om Raut           Jan         2020  \n",
       "17     Ashutosh Gowariker           Dec         2019  \n",
       "62            Aditya Dhar           Jan         2019  \n",
       "71  Vijay Krishna Acharya           Nov         2018  "
      ]
     },
     "execution_count": 225,
     "metadata": {},
     "output_type": "execute_result"
    }
   ],
   "source": [
    "x_outliers = x_new[x_new['cooks_dist'] > 0.09]\n",
    "outliers_revenue_opening_day = list(x_outliers['revenue_opening_day'])\n",
    "\n",
    "\n",
    "\n",
    "df_box_office_outliers = df_box_office.loc[df_box_office.apply(lambda x: x.revenue_opening_day in outliers_revenue_opening_day , axis=1)]\n",
    "\n",
    "df_box_office_outliers"
   ]
  },
  {
   "cell_type": "markdown",
   "id": "89d04ed8",
   "metadata": {},
   "source": [
    "#### Ans 2(e) - Based on domain knowledge of Hindi cinema, it can be suggested that these movies were highly anticipated and hence ended up being outliers in terms of total revenue"
   ]
  },
  {
   "cell_type": "markdown",
   "id": "8f8787d5",
   "metadata": {},
   "source": [
    "## Q3. MLR – Feature Selection – Building Energy Efficiency"
   ]
  },
  {
   "cell_type": "markdown",
   "id": "82c87188",
   "metadata": {},
   "source": [
    "A study looked into assessing the heating load and cooling load requirements of buildings (that is, energy efficiency) as a function of building parameters. \n",
    "We perform energy analysis using 12 different building shapes.\n",
    "The dataset comprises 768 samples and 8 features, aiming to predict two real valued responses (heating load and cooling load). File: MLR_BuildingEfficiency.csv\n",
    " \n",
    "- 1) Which features impact the heating load? \n",
    "- 2) Which features impact the cooling load?\n",
    "\n",
    "The data files can be found here: https://github.com/Accelerate-AI/Data-Science-Global-Bootcamp/tree/main/ClassAssignment/Assignment07"
   ]
  },
  {
   "cell_type": "code",
   "execution_count": 231,
   "id": "df7712d3",
   "metadata": {},
   "outputs": [
    {
     "data": {
      "text/html": [
       "<div>\n",
       "<style scoped>\n",
       "    .dataframe tbody tr th:only-of-type {\n",
       "        vertical-align: middle;\n",
       "    }\n",
       "\n",
       "    .dataframe tbody tr th {\n",
       "        vertical-align: top;\n",
       "    }\n",
       "\n",
       "    .dataframe thead th {\n",
       "        text-align: right;\n",
       "    }\n",
       "</style>\n",
       "<table border=\"1\" class=\"dataframe\">\n",
       "  <thead>\n",
       "    <tr style=\"text-align: right;\">\n",
       "      <th></th>\n",
       "      <th>Relative_Compactness</th>\n",
       "      <th>Surface_Area</th>\n",
       "      <th>Wall_Area</th>\n",
       "      <th>Roof_Area</th>\n",
       "      <th>Overall_Height</th>\n",
       "      <th>Orientation</th>\n",
       "      <th>Glazing_Area</th>\n",
       "      <th>Glazing_Area_Distribution</th>\n",
       "      <th>Heating_Load</th>\n",
       "      <th>Cooling_Load</th>\n",
       "    </tr>\n",
       "  </thead>\n",
       "  <tbody>\n",
       "    <tr>\n",
       "      <th>0</th>\n",
       "      <td>0.98</td>\n",
       "      <td>514.5</td>\n",
       "      <td>294.0</td>\n",
       "      <td>110.25</td>\n",
       "      <td>7.0</td>\n",
       "      <td>2</td>\n",
       "      <td>0.0</td>\n",
       "      <td>0</td>\n",
       "      <td>15.55</td>\n",
       "      <td>21.33</td>\n",
       "    </tr>\n",
       "    <tr>\n",
       "      <th>1</th>\n",
       "      <td>0.98</td>\n",
       "      <td>514.5</td>\n",
       "      <td>294.0</td>\n",
       "      <td>110.25</td>\n",
       "      <td>7.0</td>\n",
       "      <td>3</td>\n",
       "      <td>0.0</td>\n",
       "      <td>0</td>\n",
       "      <td>15.55</td>\n",
       "      <td>21.33</td>\n",
       "    </tr>\n",
       "    <tr>\n",
       "      <th>2</th>\n",
       "      <td>0.98</td>\n",
       "      <td>514.5</td>\n",
       "      <td>294.0</td>\n",
       "      <td>110.25</td>\n",
       "      <td>7.0</td>\n",
       "      <td>4</td>\n",
       "      <td>0.0</td>\n",
       "      <td>0</td>\n",
       "      <td>15.55</td>\n",
       "      <td>21.33</td>\n",
       "    </tr>\n",
       "    <tr>\n",
       "      <th>3</th>\n",
       "      <td>0.98</td>\n",
       "      <td>514.5</td>\n",
       "      <td>294.0</td>\n",
       "      <td>110.25</td>\n",
       "      <td>7.0</td>\n",
       "      <td>5</td>\n",
       "      <td>0.0</td>\n",
       "      <td>0</td>\n",
       "      <td>15.55</td>\n",
       "      <td>21.33</td>\n",
       "    </tr>\n",
       "    <tr>\n",
       "      <th>4</th>\n",
       "      <td>0.90</td>\n",
       "      <td>563.5</td>\n",
       "      <td>318.5</td>\n",
       "      <td>122.50</td>\n",
       "      <td>7.0</td>\n",
       "      <td>2</td>\n",
       "      <td>0.0</td>\n",
       "      <td>0</td>\n",
       "      <td>20.84</td>\n",
       "      <td>28.28</td>\n",
       "    </tr>\n",
       "  </tbody>\n",
       "</table>\n",
       "</div>"
      ],
      "text/plain": [
       "   Relative_Compactness  Surface_Area  Wall_Area  Roof_Area  Overall_Height  \\\n",
       "0                  0.98         514.5      294.0     110.25             7.0   \n",
       "1                  0.98         514.5      294.0     110.25             7.0   \n",
       "2                  0.98         514.5      294.0     110.25             7.0   \n",
       "3                  0.98         514.5      294.0     110.25             7.0   \n",
       "4                  0.90         563.5      318.5     122.50             7.0   \n",
       "\n",
       "   Orientation  Glazing_Area  Glazing_Area_Distribution  Heating_Load  \\\n",
       "0            2           0.0                          0         15.55   \n",
       "1            3           0.0                          0         15.55   \n",
       "2            4           0.0                          0         15.55   \n",
       "3            5           0.0                          0         15.55   \n",
       "4            2           0.0                          0         20.84   \n",
       "\n",
       "   Cooling_Load  \n",
       "0         21.33  \n",
       "1         21.33  \n",
       "2         21.33  \n",
       "3         21.33  \n",
       "4         28.28  "
      ]
     },
     "execution_count": 231,
     "metadata": {},
     "output_type": "execute_result"
    }
   ],
   "source": [
    "df_building_efficiency = pd.read_csv('MLR_BuildingEfficiency.csv')\n",
    "df_building_efficiency.head()\n"
   ]
  },
  {
   "cell_type": "code",
   "execution_count": 232,
   "id": "218aefb9",
   "metadata": {},
   "outputs": [
    {
     "name": "stdout",
     "output_type": "stream",
     "text": [
      "<class 'pandas.core.frame.DataFrame'>\n",
      "RangeIndex: 768 entries, 0 to 767\n",
      "Data columns (total 10 columns):\n",
      " #   Column                     Non-Null Count  Dtype  \n",
      "---  ------                     --------------  -----  \n",
      " 0   Relative_Compactness       768 non-null    float64\n",
      " 1   Surface_Area               768 non-null    float64\n",
      " 2   Wall_Area                  768 non-null    float64\n",
      " 3   Roof_Area                  768 non-null    float64\n",
      " 4   Overall_Height             768 non-null    float64\n",
      " 5   Orientation                768 non-null    int64  \n",
      " 6   Glazing_Area               768 non-null    float64\n",
      " 7   Glazing_Area_Distribution  768 non-null    int64  \n",
      " 8   Heating_Load               768 non-null    float64\n",
      " 9   Cooling_Load               768 non-null    float64\n",
      "dtypes: float64(8), int64(2)\n",
      "memory usage: 60.1 KB\n"
     ]
    }
   ],
   "source": [
    "df_building_efficiency.info()"
   ]
  },
  {
   "cell_type": "code",
   "execution_count": 237,
   "id": "e1606cba",
   "metadata": {},
   "outputs": [
    {
     "data": {
      "text/plain": [
       "['relative_compactness',\n",
       " 'surface_area',\n",
       " 'wall_area',\n",
       " 'roof_area',\n",
       " 'overall_height',\n",
       " 'orientation',\n",
       " 'glazing_area',\n",
       " 'glazing_area_distribution',\n",
       " 'heating_load',\n",
       " 'cooling_load']"
      ]
     },
     "execution_count": 237,
     "metadata": {},
     "output_type": "execute_result"
    }
   ],
   "source": [
    "col_list = list(df_building_efficiency.columns)\n",
    "col_list = [x.lower() for x in col_list]\n",
    "col_list"
   ]
  },
  {
   "cell_type": "code",
   "execution_count": 238,
   "id": "2bbf38d6",
   "metadata": {},
   "outputs": [
    {
     "data": {
      "text/plain": [
       "Index(['relative_compactness', 'surface_area', 'wall_area', 'roof_area',\n",
       "       'overall_height', 'orientation', 'glazing_area',\n",
       "       'glazing_area_distribution', 'heating_load', 'cooling_load'],\n",
       "      dtype='object')"
      ]
     },
     "execution_count": 238,
     "metadata": {},
     "output_type": "execute_result"
    }
   ],
   "source": [
    "df_building_efficiency.columns = col_list\n",
    "df_building_efficiency.columns"
   ]
  },
  {
   "cell_type": "code",
   "execution_count": 239,
   "id": "43b202a2",
   "metadata": {},
   "outputs": [
    {
     "data": {
      "text/plain": [
       "0.40    240\n",
       "0.10    240\n",
       "0.25    240\n",
       "0.00     48\n",
       "Name: glazing_area, dtype: int64"
      ]
     },
     "execution_count": 239,
     "metadata": {},
     "output_type": "execute_result"
    }
   ],
   "source": [
    "#Checking the value counts for a few features:\n",
    "\n",
    "df_building_efficiency.glazing_area.value_counts()"
   ]
  },
  {
   "cell_type": "code",
   "execution_count": 240,
   "id": "1e58ee20",
   "metadata": {},
   "outputs": [
    {
     "data": {
      "text/plain": [
       "1    144\n",
       "2    144\n",
       "3    144\n",
       "4    144\n",
       "5    144\n",
       "0     48\n",
       "Name: glazing_area_distribution, dtype: int64"
      ]
     },
     "execution_count": 240,
     "metadata": {},
     "output_type": "execute_result"
    }
   ],
   "source": [
    "df_building_efficiency.glazing_area_distribution.value_counts()"
   ]
  },
  {
   "cell_type": "code",
   "execution_count": 241,
   "id": "112c00bd",
   "metadata": {},
   "outputs": [
    {
     "data": {
      "text/plain": [
       "2    192\n",
       "3    192\n",
       "4    192\n",
       "5    192\n",
       "Name: orientation, dtype: int64"
      ]
     },
     "execution_count": 241,
     "metadata": {},
     "output_type": "execute_result"
    }
   ],
   "source": [
    "df_building_efficiency.orientation.value_counts()"
   ]
  },
  {
   "cell_type": "code",
   "execution_count": 243,
   "id": "caf6de0c",
   "metadata": {},
   "outputs": [
    {
     "name": "stdout",
     "output_type": "stream",
     "text": [
      "<class 'pandas.core.frame.DataFrame'>\n",
      "RangeIndex: 768 entries, 0 to 767\n",
      "Data columns (total 10 columns):\n",
      " #   Column                     Non-Null Count  Dtype  \n",
      "---  ------                     --------------  -----  \n",
      " 0   relative_compactness       768 non-null    float64\n",
      " 1   surface_area               768 non-null    float64\n",
      " 2   wall_area                  768 non-null    float64\n",
      " 3   roof_area                  768 non-null    float64\n",
      " 4   overall_height             768 non-null    float64\n",
      " 5   orientation                768 non-null    int64  \n",
      " 6   glazing_area               768 non-null    float64\n",
      " 7   glazing_area_distribution  768 non-null    int64  \n",
      " 8   heating_load               768 non-null    float64\n",
      " 9   cooling_load               768 non-null    float64\n",
      "dtypes: float64(8), int64(2)\n",
      "memory usage: 60.1 KB\n"
     ]
    }
   ],
   "source": [
    "df_building_efficiency.info()"
   ]
  },
  {
   "cell_type": "code",
   "execution_count": 244,
   "id": "f750e6a9",
   "metadata": {},
   "outputs": [
    {
     "name": "stdout",
     "output_type": "stream",
     "text": [
      "<class 'pandas.core.frame.DataFrame'>\n",
      "RangeIndex: 768 entries, 0 to 767\n",
      "Data columns (total 10 columns):\n",
      " #   Column                     Non-Null Count  Dtype  \n",
      "---  ------                     --------------  -----  \n",
      " 0   relative_compactness       768 non-null    float64\n",
      " 1   surface_area               768 non-null    float64\n",
      " 2   wall_area                  768 non-null    float64\n",
      " 3   roof_area                  768 non-null    float64\n",
      " 4   overall_height             768 non-null    float64\n",
      " 5   orientation                768 non-null    object \n",
      " 6   glazing_area               768 non-null    float64\n",
      " 7   glazing_area_distribution  768 non-null    int64  \n",
      " 8   heating_load               768 non-null    float64\n",
      " 9   cooling_load               768 non-null    float64\n",
      "dtypes: float64(8), int64(1), object(1)\n",
      "memory usage: 60.1+ KB\n"
     ]
    }
   ],
   "source": [
    "# We treat the feature orientation like a categorical variable\n",
    "\n",
    "df_building_efficiency.orientation = df_building_efficiency.orientation.astype('object')\n",
    "df_building_efficiency.info()"
   ]
  },
  {
   "cell_type": "code",
   "execution_count": 250,
   "id": "e88b706b",
   "metadata": {},
   "outputs": [],
   "source": [
    "#Dividing the dataframe into x and y \n",
    "\n",
    "y_heat = df_building_efficiency.heating_load\n",
    "y_cool = df_building_efficiency.cooling_load\n",
    "\n",
    "x = df_building_efficiency[['relative_compactness', 'surface_area', 'wall_area', 'roof_area',\n",
    "       'overall_height', 'orientation', 'glazing_area',\n",
    "       'glazing_area_distribution']]\n"
   ]
  },
  {
   "cell_type": "code",
   "execution_count": 251,
   "id": "33b5c998",
   "metadata": {},
   "outputs": [
    {
     "data": {
      "text/plain": [
       "0    15.55\n",
       "1    15.55\n",
       "2    15.55\n",
       "3    15.55\n",
       "4    20.84\n",
       "Name: heating_load, dtype: float64"
      ]
     },
     "execution_count": 251,
     "metadata": {},
     "output_type": "execute_result"
    }
   ],
   "source": [
    "y_heat.head()"
   ]
  },
  {
   "cell_type": "code",
   "execution_count": 252,
   "id": "ac697f10",
   "metadata": {},
   "outputs": [
    {
     "data": {
      "text/plain": [
       "0    21.33\n",
       "1    21.33\n",
       "2    21.33\n",
       "3    21.33\n",
       "4    28.28\n",
       "Name: cooling_load, dtype: float64"
      ]
     },
     "execution_count": 252,
     "metadata": {},
     "output_type": "execute_result"
    }
   ],
   "source": [
    "y_cool.head()"
   ]
  },
  {
   "cell_type": "code",
   "execution_count": 253,
   "id": "44fdf069",
   "metadata": {
    "scrolled": true
   },
   "outputs": [
    {
     "data": {
      "text/html": [
       "<div>\n",
       "<style scoped>\n",
       "    .dataframe tbody tr th:only-of-type {\n",
       "        vertical-align: middle;\n",
       "    }\n",
       "\n",
       "    .dataframe tbody tr th {\n",
       "        vertical-align: top;\n",
       "    }\n",
       "\n",
       "    .dataframe thead th {\n",
       "        text-align: right;\n",
       "    }\n",
       "</style>\n",
       "<table border=\"1\" class=\"dataframe\">\n",
       "  <thead>\n",
       "    <tr style=\"text-align: right;\">\n",
       "      <th></th>\n",
       "      <th>relative_compactness</th>\n",
       "      <th>surface_area</th>\n",
       "      <th>wall_area</th>\n",
       "      <th>roof_area</th>\n",
       "      <th>overall_height</th>\n",
       "      <th>orientation</th>\n",
       "      <th>glazing_area</th>\n",
       "      <th>glazing_area_distribution</th>\n",
       "    </tr>\n",
       "  </thead>\n",
       "  <tbody>\n",
       "    <tr>\n",
       "      <th>0</th>\n",
       "      <td>0.98</td>\n",
       "      <td>514.5</td>\n",
       "      <td>294.0</td>\n",
       "      <td>110.25</td>\n",
       "      <td>7.0</td>\n",
       "      <td>2</td>\n",
       "      <td>0.0</td>\n",
       "      <td>0</td>\n",
       "    </tr>\n",
       "    <tr>\n",
       "      <th>1</th>\n",
       "      <td>0.98</td>\n",
       "      <td>514.5</td>\n",
       "      <td>294.0</td>\n",
       "      <td>110.25</td>\n",
       "      <td>7.0</td>\n",
       "      <td>3</td>\n",
       "      <td>0.0</td>\n",
       "      <td>0</td>\n",
       "    </tr>\n",
       "    <tr>\n",
       "      <th>2</th>\n",
       "      <td>0.98</td>\n",
       "      <td>514.5</td>\n",
       "      <td>294.0</td>\n",
       "      <td>110.25</td>\n",
       "      <td>7.0</td>\n",
       "      <td>4</td>\n",
       "      <td>0.0</td>\n",
       "      <td>0</td>\n",
       "    </tr>\n",
       "    <tr>\n",
       "      <th>3</th>\n",
       "      <td>0.98</td>\n",
       "      <td>514.5</td>\n",
       "      <td>294.0</td>\n",
       "      <td>110.25</td>\n",
       "      <td>7.0</td>\n",
       "      <td>5</td>\n",
       "      <td>0.0</td>\n",
       "      <td>0</td>\n",
       "    </tr>\n",
       "    <tr>\n",
       "      <th>4</th>\n",
       "      <td>0.90</td>\n",
       "      <td>563.5</td>\n",
       "      <td>318.5</td>\n",
       "      <td>122.50</td>\n",
       "      <td>7.0</td>\n",
       "      <td>2</td>\n",
       "      <td>0.0</td>\n",
       "      <td>0</td>\n",
       "    </tr>\n",
       "  </tbody>\n",
       "</table>\n",
       "</div>"
      ],
      "text/plain": [
       "   relative_compactness  surface_area  wall_area  roof_area  overall_height  \\\n",
       "0                  0.98         514.5      294.0     110.25             7.0   \n",
       "1                  0.98         514.5      294.0     110.25             7.0   \n",
       "2                  0.98         514.5      294.0     110.25             7.0   \n",
       "3                  0.98         514.5      294.0     110.25             7.0   \n",
       "4                  0.90         563.5      318.5     122.50             7.0   \n",
       "\n",
       "  orientation  glazing_area  glazing_area_distribution  \n",
       "0           2           0.0                          0  \n",
       "1           3           0.0                          0  \n",
       "2           4           0.0                          0  \n",
       "3           5           0.0                          0  \n",
       "4           2           0.0                          0  "
      ]
     },
     "execution_count": 253,
     "metadata": {},
     "output_type": "execute_result"
    }
   ],
   "source": [
    "x.head()"
   ]
  },
  {
   "cell_type": "code",
   "execution_count": 260,
   "id": "a6e753d6",
   "metadata": {},
   "outputs": [
    {
     "data": {
      "text/html": [
       "<div>\n",
       "<style scoped>\n",
       "    .dataframe tbody tr th:only-of-type {\n",
       "        vertical-align: middle;\n",
       "    }\n",
       "\n",
       "    .dataframe tbody tr th {\n",
       "        vertical-align: top;\n",
       "    }\n",
       "\n",
       "    .dataframe thead th {\n",
       "        text-align: right;\n",
       "    }\n",
       "</style>\n",
       "<table border=\"1\" class=\"dataframe\">\n",
       "  <thead>\n",
       "    <tr style=\"text-align: right;\">\n",
       "      <th></th>\n",
       "      <th>relative_compactness</th>\n",
       "      <th>surface_area</th>\n",
       "      <th>wall_area</th>\n",
       "      <th>roof_area</th>\n",
       "      <th>overall_height</th>\n",
       "      <th>glazing_area</th>\n",
       "      <th>glazing_area_distribution</th>\n",
       "      <th>orientation_3</th>\n",
       "      <th>orientation_4</th>\n",
       "      <th>orientation_5</th>\n",
       "    </tr>\n",
       "  </thead>\n",
       "  <tbody>\n",
       "    <tr>\n",
       "      <th>0</th>\n",
       "      <td>0.98</td>\n",
       "      <td>514.5</td>\n",
       "      <td>294.0</td>\n",
       "      <td>110.25</td>\n",
       "      <td>7.0</td>\n",
       "      <td>0.0</td>\n",
       "      <td>0</td>\n",
       "      <td>0</td>\n",
       "      <td>0</td>\n",
       "      <td>0</td>\n",
       "    </tr>\n",
       "    <tr>\n",
       "      <th>1</th>\n",
       "      <td>0.98</td>\n",
       "      <td>514.5</td>\n",
       "      <td>294.0</td>\n",
       "      <td>110.25</td>\n",
       "      <td>7.0</td>\n",
       "      <td>0.0</td>\n",
       "      <td>0</td>\n",
       "      <td>1</td>\n",
       "      <td>0</td>\n",
       "      <td>0</td>\n",
       "    </tr>\n",
       "    <tr>\n",
       "      <th>2</th>\n",
       "      <td>0.98</td>\n",
       "      <td>514.5</td>\n",
       "      <td>294.0</td>\n",
       "      <td>110.25</td>\n",
       "      <td>7.0</td>\n",
       "      <td>0.0</td>\n",
       "      <td>0</td>\n",
       "      <td>0</td>\n",
       "      <td>1</td>\n",
       "      <td>0</td>\n",
       "    </tr>\n",
       "    <tr>\n",
       "      <th>3</th>\n",
       "      <td>0.98</td>\n",
       "      <td>514.5</td>\n",
       "      <td>294.0</td>\n",
       "      <td>110.25</td>\n",
       "      <td>7.0</td>\n",
       "      <td>0.0</td>\n",
       "      <td>0</td>\n",
       "      <td>0</td>\n",
       "      <td>0</td>\n",
       "      <td>1</td>\n",
       "    </tr>\n",
       "    <tr>\n",
       "      <th>4</th>\n",
       "      <td>0.90</td>\n",
       "      <td>563.5</td>\n",
       "      <td>318.5</td>\n",
       "      <td>122.50</td>\n",
       "      <td>7.0</td>\n",
       "      <td>0.0</td>\n",
       "      <td>0</td>\n",
       "      <td>0</td>\n",
       "      <td>0</td>\n",
       "      <td>0</td>\n",
       "    </tr>\n",
       "  </tbody>\n",
       "</table>\n",
       "</div>"
      ],
      "text/plain": [
       "   relative_compactness  surface_area  wall_area  roof_area  overall_height  \\\n",
       "0                  0.98         514.5      294.0     110.25             7.0   \n",
       "1                  0.98         514.5      294.0     110.25             7.0   \n",
       "2                  0.98         514.5      294.0     110.25             7.0   \n",
       "3                  0.98         514.5      294.0     110.25             7.0   \n",
       "4                  0.90         563.5      318.5     122.50             7.0   \n",
       "\n",
       "   glazing_area  glazing_area_distribution  orientation_3  orientation_4  \\\n",
       "0           0.0                          0              0              0   \n",
       "1           0.0                          0              1              0   \n",
       "2           0.0                          0              0              1   \n",
       "3           0.0                          0              0              0   \n",
       "4           0.0                          0              0              0   \n",
       "\n",
       "   orientation_5  \n",
       "0              0  \n",
       "1              0  \n",
       "2              0  \n",
       "3              1  \n",
       "4              0  "
      ]
     },
     "execution_count": 260,
     "metadata": {},
     "output_type": "execute_result"
    }
   ],
   "source": [
    "x = pd.get_dummies(x, drop_first = True )\n",
    "x.head()"
   ]
  },
  {
   "cell_type": "markdown",
   "id": "3bdf5b86",
   "metadata": {},
   "source": [
    "#### Choosing the ElasticNet model for feature selection"
   ]
  },
  {
   "cell_type": "code",
   "execution_count": 266,
   "id": "1c78258d",
   "metadata": {},
   "outputs": [
    {
     "name": "stdout",
     "output_type": "stream",
     "text": [
      "Best Alpha: 5.057548622919119\n",
      "Model Coefficients: [-0.         -0.0553698   0.10573076 -0.06625213  0.          0.\n",
      "  0.          0.         -0.         -0.        ]\n"
     ]
    }
   ],
   "source": [
    "from sklearn.linear_model import ElasticNetCV\n",
    "\n",
    "enCV_model = ElasticNetCV(cv=5, random_state=0)\n",
    "enCV_model.fit(x, y_heat)\n",
    "\n",
    "print(\"Best Alpha:\", enCV_model.alpha_ )\n",
    "\n",
    "print(\"Model Coefficients:\", enCV_model.coef_)\n"
   ]
  },
  {
   "cell_type": "code",
   "execution_count": 262,
   "id": "8e0d28ac",
   "metadata": {},
   "outputs": [
    {
     "data": {
      "text/html": [
       "<div>\n",
       "<style scoped>\n",
       "    .dataframe tbody tr th:only-of-type {\n",
       "        vertical-align: middle;\n",
       "    }\n",
       "\n",
       "    .dataframe tbody tr th {\n",
       "        vertical-align: top;\n",
       "    }\n",
       "\n",
       "    .dataframe thead th {\n",
       "        text-align: right;\n",
       "    }\n",
       "</style>\n",
       "<table border=\"1\" class=\"dataframe\">\n",
       "  <thead>\n",
       "    <tr style=\"text-align: right;\">\n",
       "      <th></th>\n",
       "      <th>Features</th>\n",
       "      <th>Coefficients</th>\n",
       "    </tr>\n",
       "  </thead>\n",
       "  <tbody>\n",
       "    <tr>\n",
       "      <th>0</th>\n",
       "      <td>relative_compactness</td>\n",
       "      <td>-0.000000</td>\n",
       "    </tr>\n",
       "    <tr>\n",
       "      <th>1</th>\n",
       "      <td>surface_area</td>\n",
       "      <td>-0.055370</td>\n",
       "    </tr>\n",
       "    <tr>\n",
       "      <th>2</th>\n",
       "      <td>wall_area</td>\n",
       "      <td>0.105731</td>\n",
       "    </tr>\n",
       "    <tr>\n",
       "      <th>3</th>\n",
       "      <td>roof_area</td>\n",
       "      <td>-0.066252</td>\n",
       "    </tr>\n",
       "    <tr>\n",
       "      <th>4</th>\n",
       "      <td>overall_height</td>\n",
       "      <td>0.000000</td>\n",
       "    </tr>\n",
       "    <tr>\n",
       "      <th>5</th>\n",
       "      <td>glazing_area</td>\n",
       "      <td>0.000000</td>\n",
       "    </tr>\n",
       "    <tr>\n",
       "      <th>6</th>\n",
       "      <td>glazing_area_distribution</td>\n",
       "      <td>0.000000</td>\n",
       "    </tr>\n",
       "    <tr>\n",
       "      <th>7</th>\n",
       "      <td>orientation_3</td>\n",
       "      <td>0.000000</td>\n",
       "    </tr>\n",
       "    <tr>\n",
       "      <th>8</th>\n",
       "      <td>orientation_4</td>\n",
       "      <td>-0.000000</td>\n",
       "    </tr>\n",
       "    <tr>\n",
       "      <th>9</th>\n",
       "      <td>orientation_5</td>\n",
       "      <td>-0.000000</td>\n",
       "    </tr>\n",
       "  </tbody>\n",
       "</table>\n",
       "</div>"
      ],
      "text/plain": [
       "                    Features  Coefficients\n",
       "0       relative_compactness     -0.000000\n",
       "1               surface_area     -0.055370\n",
       "2                  wall_area      0.105731\n",
       "3                  roof_area     -0.066252\n",
       "4             overall_height      0.000000\n",
       "5               glazing_area      0.000000\n",
       "6  glazing_area_distribution      0.000000\n",
       "7              orientation_3      0.000000\n",
       "8              orientation_4     -0.000000\n",
       "9              orientation_5     -0.000000"
      ]
     },
     "execution_count": 262,
     "metadata": {},
     "output_type": "execute_result"
    }
   ],
   "source": [
    "#Creating a dataframe\n",
    "\n",
    "data = {'Features' : list(x.columns), \n",
    "        'Coefficients' :  enCV_model.coef_}\n",
    "\n",
    "df_encv_heat_load = pd.DataFrame(data)\n",
    "df_encv_heat_load"
   ]
  },
  {
   "cell_type": "markdown",
   "id": "eca9b875",
   "metadata": {},
   "source": [
    "#### Thus, based on Elastic Net feature selection method, the features impacting the heating load are 'Surface Area', 'Wall Area' and 'Roof Area'"
   ]
  },
  {
   "cell_type": "code",
   "execution_count": 267,
   "id": "da5e8055",
   "metadata": {},
   "outputs": [
    {
     "name": "stdout",
     "output_type": "stream",
     "text": [
      "Best Alpha: 3.2082106602059817\n",
      "Model Coefficients: [-0.         -0.05788973  0.09887792 -0.05349614  0.          0.\n",
      "  0.         -0.         -0.          0.        ]\n"
     ]
    }
   ],
   "source": [
    "enCV_model2 = ElasticNetCV(cv=5, random_state=0)\n",
    "enCV_model2.fit(x, y_cool)\n",
    "\n",
    "print(\"Best Alpha:\", enCV_model2.alpha_ )\n",
    "\n",
    "print(\"Model Coefficients:\", enCV_model2.coef_)\n"
   ]
  },
  {
   "cell_type": "code",
   "execution_count": 268,
   "id": "47436bba",
   "metadata": {},
   "outputs": [
    {
     "data": {
      "text/html": [
       "<div>\n",
       "<style scoped>\n",
       "    .dataframe tbody tr th:only-of-type {\n",
       "        vertical-align: middle;\n",
       "    }\n",
       "\n",
       "    .dataframe tbody tr th {\n",
       "        vertical-align: top;\n",
       "    }\n",
       "\n",
       "    .dataframe thead th {\n",
       "        text-align: right;\n",
       "    }\n",
       "</style>\n",
       "<table border=\"1\" class=\"dataframe\">\n",
       "  <thead>\n",
       "    <tr style=\"text-align: right;\">\n",
       "      <th></th>\n",
       "      <th>Features</th>\n",
       "      <th>Coefficients</th>\n",
       "    </tr>\n",
       "  </thead>\n",
       "  <tbody>\n",
       "    <tr>\n",
       "      <th>0</th>\n",
       "      <td>relative_compactness</td>\n",
       "      <td>-0.000000</td>\n",
       "    </tr>\n",
       "    <tr>\n",
       "      <th>1</th>\n",
       "      <td>surface_area</td>\n",
       "      <td>-0.057890</td>\n",
       "    </tr>\n",
       "    <tr>\n",
       "      <th>2</th>\n",
       "      <td>wall_area</td>\n",
       "      <td>0.098878</td>\n",
       "    </tr>\n",
       "    <tr>\n",
       "      <th>3</th>\n",
       "      <td>roof_area</td>\n",
       "      <td>-0.053496</td>\n",
       "    </tr>\n",
       "    <tr>\n",
       "      <th>4</th>\n",
       "      <td>overall_height</td>\n",
       "      <td>0.000000</td>\n",
       "    </tr>\n",
       "    <tr>\n",
       "      <th>5</th>\n",
       "      <td>glazing_area</td>\n",
       "      <td>0.000000</td>\n",
       "    </tr>\n",
       "    <tr>\n",
       "      <th>6</th>\n",
       "      <td>glazing_area_distribution</td>\n",
       "      <td>0.000000</td>\n",
       "    </tr>\n",
       "    <tr>\n",
       "      <th>7</th>\n",
       "      <td>orientation_3</td>\n",
       "      <td>-0.000000</td>\n",
       "    </tr>\n",
       "    <tr>\n",
       "      <th>8</th>\n",
       "      <td>orientation_4</td>\n",
       "      <td>-0.000000</td>\n",
       "    </tr>\n",
       "    <tr>\n",
       "      <th>9</th>\n",
       "      <td>orientation_5</td>\n",
       "      <td>0.000000</td>\n",
       "    </tr>\n",
       "  </tbody>\n",
       "</table>\n",
       "</div>"
      ],
      "text/plain": [
       "                    Features  Coefficients\n",
       "0       relative_compactness     -0.000000\n",
       "1               surface_area     -0.057890\n",
       "2                  wall_area      0.098878\n",
       "3                  roof_area     -0.053496\n",
       "4             overall_height      0.000000\n",
       "5               glazing_area      0.000000\n",
       "6  glazing_area_distribution      0.000000\n",
       "7              orientation_3     -0.000000\n",
       "8              orientation_4     -0.000000\n",
       "9              orientation_5      0.000000"
      ]
     },
     "execution_count": 268,
     "metadata": {},
     "output_type": "execute_result"
    }
   ],
   "source": [
    "#Creating a dataframe\n",
    "\n",
    "data2 = {'Features' : list(x.columns), \n",
    "        'Coefficients' :  enCV_model2.coef_}\n",
    "\n",
    "df_encv_cool_load = pd.DataFrame(data2)\n",
    "df_encv_cool_load"
   ]
  },
  {
   "cell_type": "markdown",
   "id": "8b3b5787",
   "metadata": {},
   "source": [
    "#### Thus, based on Elastic Net feature selection method, the features impacting the cooling load are the same as those impacting heating load -  'Surface Area', 'Wall Area' and 'Roof Area'"
   ]
  },
  {
   "cell_type": "code",
   "execution_count": null,
   "id": "d287004f",
   "metadata": {},
   "outputs": [],
   "source": []
  },
  {
   "cell_type": "code",
   "execution_count": null,
   "id": "d968c1c8",
   "metadata": {},
   "outputs": [],
   "source": []
  },
  {
   "cell_type": "code",
   "execution_count": null,
   "id": "b74a5c6e",
   "metadata": {},
   "outputs": [],
   "source": []
  },
  {
   "cell_type": "code",
   "execution_count": null,
   "id": "3ceab444",
   "metadata": {},
   "outputs": [],
   "source": []
  },
  {
   "cell_type": "code",
   "execution_count": null,
   "id": "4bcabfa8",
   "metadata": {},
   "outputs": [],
   "source": []
  },
  {
   "cell_type": "code",
   "execution_count": null,
   "id": "41dc1f89",
   "metadata": {},
   "outputs": [],
   "source": []
  },
  {
   "cell_type": "code",
   "execution_count": null,
   "id": "7727a3d3",
   "metadata": {},
   "outputs": [],
   "source": []
  }
 ],
 "metadata": {
  "hide_input": false,
  "kernelspec": {
   "display_name": "Python 3",
   "language": "python",
   "name": "python3"
  },
  "language_info": {
   "codemirror_mode": {
    "name": "ipython",
    "version": 3
   },
   "file_extension": ".py",
   "mimetype": "text/x-python",
   "name": "python",
   "nbconvert_exporter": "python",
   "pygments_lexer": "ipython3",
   "version": "3.8.8"
  }
 },
 "nbformat": 4,
 "nbformat_minor": 5
}
