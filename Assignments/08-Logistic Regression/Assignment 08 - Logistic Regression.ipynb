{
 "cells": [
  {
   "cell_type": "markdown",
   "id": "26e6d158",
   "metadata": {},
   "source": [
    "## Q1: Logit Model for Credit Grant Outcome use case"
   ]
  },
  {
   "cell_type": "markdown",
   "id": "28164b73",
   "metadata": {},
   "source": [
    "\n",
    "A group of 20 customers possess portfolio ranging from 0.5 to 6.5 million USD in one of the largest Financial Services majors in South America. As an analyst you are tasked to find out how the portfolio amount affect the probability of a customer getting a credit grant? Please refer to the dataset provided in GitHub - CreditGrantOutcome.csv. \n",
    "\n",
    "Portfolio Value is given in million USD = X; And Credit Grant Decision = y which is either 0 or 1, i.e. 1 for getting a grant. \n",
    "\n",
    " - a) Find out the Odds ratio for every customer data that is captured here. What is the Odds ratio when Portfolio Value X = 2 m USD? \n",
    " - b) Find out optimum values of coefficients beta_0 and beta_1?"
   ]
  },
  {
   "cell_type": "markdown",
   "id": "ed612a1e",
   "metadata": {},
   "source": [
    "import pandas as pd\n",
    "\n",
    "import statsmodels.api as sm\n",
    "from sklearn.linear_model import LogisticRegression\n",
    "\n",
    "import seaborn as sns\n",
    "import matplotlib.pyplot as plt\n",
    "\n",
    "from scipy import stats\n"
   ]
  },
  {
   "cell_type": "code",
   "execution_count": 3,
   "id": "8f5460e1",
   "metadata": {},
   "outputs": [],
   "source": [
    "import numpy as np\n",
    "import pandas as pd\n",
    "from scipy import stats\n",
    "import matplotlib.pyplot as plt\n",
    "import seaborn as sns\n",
    "\n",
    "import statsmodels.api as sm"
   ]
  },
  {
   "cell_type": "code",
   "execution_count": 6,
   "id": "ddfca202",
   "metadata": {},
   "outputs": [
    {
     "data": {
      "text/html": [
       "<div>\n",
       "<style scoped>\n",
       "    .dataframe tbody tr th:only-of-type {\n",
       "        vertical-align: middle;\n",
       "    }\n",
       "\n",
       "    .dataframe tbody tr th {\n",
       "        vertical-align: top;\n",
       "    }\n",
       "\n",
       "    .dataframe thead th {\n",
       "        text-align: right;\n",
       "    }\n",
       "</style>\n",
       "<table border=\"1\" class=\"dataframe\">\n",
       "  <thead>\n",
       "    <tr style=\"text-align: right;\">\n",
       "      <th></th>\n",
       "      <th>PortfolioValue</th>\n",
       "      <th>CreditGrantDecision</th>\n",
       "    </tr>\n",
       "  </thead>\n",
       "  <tbody>\n",
       "    <tr>\n",
       "      <th>0</th>\n",
       "      <td>0.50</td>\n",
       "      <td>0</td>\n",
       "    </tr>\n",
       "    <tr>\n",
       "      <th>1</th>\n",
       "      <td>0.75</td>\n",
       "      <td>0</td>\n",
       "    </tr>\n",
       "    <tr>\n",
       "      <th>2</th>\n",
       "      <td>1.00</td>\n",
       "      <td>0</td>\n",
       "    </tr>\n",
       "    <tr>\n",
       "      <th>3</th>\n",
       "      <td>1.25</td>\n",
       "      <td>0</td>\n",
       "    </tr>\n",
       "    <tr>\n",
       "      <th>4</th>\n",
       "      <td>1.50</td>\n",
       "      <td>0</td>\n",
       "    </tr>\n",
       "  </tbody>\n",
       "</table>\n",
       "</div>"
      ],
      "text/plain": [
       "   PortfolioValue  CreditGrantDecision\n",
       "0            0.50                    0\n",
       "1            0.75                    0\n",
       "2            1.00                    0\n",
       "3            1.25                    0\n",
       "4            1.50                    0"
      ]
     },
     "execution_count": 6,
     "metadata": {},
     "output_type": "execute_result"
    }
   ],
   "source": [
    "df_cg = pd.read_csv('CreditGrantOutcome.csv')\n",
    "df_cg.head()"
   ]
  },
  {
   "cell_type": "code",
   "execution_count": 7,
   "id": "52ef3c80",
   "metadata": {},
   "outputs": [
    {
     "name": "stdout",
     "output_type": "stream",
     "text": [
      "<class 'pandas.core.frame.DataFrame'>\n",
      "RangeIndex: 20 entries, 0 to 19\n",
      "Data columns (total 2 columns):\n",
      " #   Column                 Non-Null Count  Dtype  \n",
      "---  ------                 --------------  -----  \n",
      " 0   portfolio_value        20 non-null     float64\n",
      " 1   credit_grant_decision  20 non-null     int64  \n",
      "dtypes: float64(1), int64(1)\n",
      "memory usage: 448.0 bytes\n"
     ]
    }
   ],
   "source": [
    "df_cg.columns = ['portfolio_value','credit_grant_decision']\n",
    "df_cg.info()"
   ]
  },
  {
   "cell_type": "code",
   "execution_count": 8,
   "id": "ff7bb233",
   "metadata": {},
   "outputs": [
    {
     "data": {
      "text/plain": [
       "array([0, 1], dtype=int64)"
      ]
     },
     "execution_count": 8,
     "metadata": {},
     "output_type": "execute_result"
    }
   ],
   "source": [
    "df_cg.credit_grant_decision.unique()"
   ]
  },
  {
   "cell_type": "code",
   "execution_count": 11,
   "id": "7b259326",
   "metadata": {
    "scrolled": true
   },
   "outputs": [
    {
     "data": {
      "text/plain": [
       "<seaborn.axisgrid.FacetGrid at 0x1e9ea3c0df0>"
      ]
     },
     "execution_count": 11,
     "metadata": {},
     "output_type": "execute_result"
    },
    {
     "data": {
      "image/png": "[encoded data removed]",
      "text/plain": [
       "<Figure size 360x360 with 1 Axes>"
      ]
     },
     "metadata": {
      "needs_background": "light"
     },
     "output_type": "display_data"
    }
   ],
   "source": [
    "sns.relplot(y = 'credit_grant_decision', x = 'portfolio_value', data = df_cg )"
   ]
  },
  {
   "cell_type": "markdown",
   "id": "e1761210",
   "metadata": {},
   "source": [
    "#### We can apply Binary Logistic Regression. "
   ]
  },
  {
   "cell_type": "markdown",
   "id": "29735671",
   "metadata": {},
   "source": [
    "#### Checking the model assumptions"
   ]
  },
  {
   "cell_type": "markdown",
   "id": "9581a0af",
   "metadata": {},
   "source": [
    "#### Assumption 1. - Linear relationship between the predictor and outcome - Confirming via visualization"
   ]
  },
  {
   "cell_type": "code",
   "execution_count": 15,
   "id": "b1c4ed82",
   "metadata": {},
   "outputs": [
    {
     "data": {
      "text/plain": [
       "<AxesSubplot:xlabel='portfolio_value'>"
      ]
     },
     "execution_count": 15,
     "metadata": {},
     "output_type": "execute_result"
    },
    {
     "data": {
      "image/png": "[encoded data removed]",
      "text/plain": [
       "<Figure size 432x288 with 1 Axes>"
      ]
     },
     "metadata": {
      "needs_background": "light"
     },
     "output_type": "display_data"
    }
   ],
   "source": [
    "import  numpy as np\n",
    "Y = df_cg.credit_grant_decision\n",
    "X = df_cg.portfolio_value\n",
    "\n",
    "model_cg_lin_check = sm.GLM(Y,X, family = sm.families.Binomial()).fit()\n",
    "\n",
    "Y_Pred = model_cg_lin_check.predict(X)\n",
    "\n",
    "log_odds = np.log(Y_Pred/(1-Y_Pred))\n",
    "\n",
    "sns.scatterplot(x = X, y = log_odds )"
   ]
  },
  {
   "cell_type": "markdown",
   "id": "9dea8f03",
   "metadata": {},
   "source": [
    "#### Assumption 1. - Linear relationship between the predictor and outcome - Confirmed via visual analysis"
   ]
  },
  {
   "cell_type": "markdown",
   "id": "832142fb",
   "metadata": {},
   "source": [
    "#### Assumption 1. - Linear relationship between the predictor and outcome - Confirming via Box Tidwell test as well"
   ]
  },
  {
   "cell_type": "code",
   "execution_count": 17,
   "id": "a394c012",
   "metadata": {},
   "outputs": [
    {
     "data": {
      "text/html": [
       "<div>\n",
       "<style scoped>\n",
       "    .dataframe tbody tr th:only-of-type {\n",
       "        vertical-align: middle;\n",
       "    }\n",
       "\n",
       "    .dataframe tbody tr th {\n",
       "        vertical-align: top;\n",
       "    }\n",
       "\n",
       "    .dataframe thead th {\n",
       "        text-align: right;\n",
       "    }\n",
       "</style>\n",
       "<table border=\"1\" class=\"dataframe\">\n",
       "  <thead>\n",
       "    <tr style=\"text-align: right;\">\n",
       "      <th></th>\n",
       "      <th>portfolio_value</th>\n",
       "      <th>credit_grant_decision</th>\n",
       "      <th>x_logx_interaction</th>\n",
       "    </tr>\n",
       "  </thead>\n",
       "  <tbody>\n",
       "    <tr>\n",
       "      <th>0</th>\n",
       "      <td>0.50</td>\n",
       "      <td>0</td>\n",
       "      <td>-0.346574</td>\n",
       "    </tr>\n",
       "    <tr>\n",
       "      <th>1</th>\n",
       "      <td>0.75</td>\n",
       "      <td>0</td>\n",
       "      <td>-0.215762</td>\n",
       "    </tr>\n",
       "    <tr>\n",
       "      <th>2</th>\n",
       "      <td>1.00</td>\n",
       "      <td>0</td>\n",
       "      <td>0.000000</td>\n",
       "    </tr>\n",
       "    <tr>\n",
       "      <th>3</th>\n",
       "      <td>1.25</td>\n",
       "      <td>0</td>\n",
       "      <td>0.278929</td>\n",
       "    </tr>\n",
       "    <tr>\n",
       "      <th>4</th>\n",
       "      <td>1.50</td>\n",
       "      <td>0</td>\n",
       "      <td>0.608198</td>\n",
       "    </tr>\n",
       "  </tbody>\n",
       "</table>\n",
       "</div>"
      ],
      "text/plain": [
       "   portfolio_value  credit_grant_decision  x_logx_interaction\n",
       "0             0.50                      0           -0.346574\n",
       "1             0.75                      0           -0.215762\n",
       "2             1.00                      0            0.000000\n",
       "3             1.25                      0            0.278929\n",
       "4             1.50                      0            0.608198"
      ]
     },
     "execution_count": 17,
     "metadata": {},
     "output_type": "execute_result"
    }
   ],
   "source": [
    "df_cg_box = df_cg\n",
    "\n",
    "df_cg_box['x_logx_interaction'] = df_cg['portfolio_value'] * np.log(df_cg['portfolio_value'])\n",
    "\n",
    "df_cg_box.head()"
   ]
  },
  {
   "cell_type": "code",
   "execution_count": 18,
   "id": "7b9a9288",
   "metadata": {},
   "outputs": [
    {
     "name": "stdout",
     "output_type": "stream",
     "text": [
      "                   Generalized Linear Model Regression Results                   \n",
      "=================================================================================\n",
      "Dep. Variable:     credit_grant_decision   No. Observations:                   20\n",
      "Model:                               GLM   Df Residuals:                       17\n",
      "Model Family:                   Binomial   Df Model:                            2\n",
      "Link Function:                     Logit   Scale:                          1.0000\n",
      "Method:                             IRLS   Log-Likelihood:                -8.0270\n",
      "Date:                   Sat, 17 Sep 2022   Deviance:                       16.054\n",
      "Time:                           20:53:23   Pearson chi2:                     14.6\n",
      "No. Iterations:                        5   Pseudo R-squ. (CS):             0.4421\n",
      "Covariance Type:               nonrobust                                         \n",
      "======================================================================================\n",
      "                         coef    std err          z      P>|z|      [0.025      0.975]\n",
      "--------------------------------------------------------------------------------------\n",
      "Intercept             -4.5191      6.198     -0.729      0.466     -16.666       7.628\n",
      "portfolio_value        1.8615      4.816      0.387      0.699      -7.578      11.301\n",
      "x_logx_interaction    -0.1816      2.419     -0.075      0.940      -4.922       4.559\n",
      "======================================================================================\n"
     ]
    }
   ],
   "source": [
    "model_lin_check_box = sm.GLM.from_formula('credit_grant_decision~ portfolio_value + x_logx_interaction', \n",
    "                                          family = sm.families.Binomial(), data = df_cg_box).fit()\n",
    "\n",
    "print(model_lin_check_box.summary())"
   ]
  },
  {
   "cell_type": "markdown",
   "id": "dbf0bc15",
   "metadata": {},
   "source": [
    "#### Assumption 1. - Linear relationship between the predictor and outcome - Confirmed via Box Tidwell test as well, as the value of the interaction of the predictor and its log is not significant. Thus the assumption of Linearity is not violated"
   ]
  },
  {
   "cell_type": "code",
   "execution_count": null,
   "id": "db159902",
   "metadata": {},
   "outputs": [],
   "source": []
  },
  {
   "cell_type": "markdown",
   "id": "2f45d5e6",
   "metadata": {},
   "source": [
    "#### Assumption 2. - Independence of observations - Confirmed via the number of unique entries"
   ]
  },
  {
   "cell_type": "code",
   "execution_count": 20,
   "id": "44da944b",
   "metadata": {},
   "outputs": [
    {
     "data": {
      "text/plain": [
       "20"
      ]
     },
     "execution_count": 20,
     "metadata": {},
     "output_type": "execute_result"
    }
   ],
   "source": [
    "len(df_cg.index)"
   ]
  },
  {
   "cell_type": "code",
   "execution_count": 48,
   "id": "9e01295f",
   "metadata": {},
   "outputs": [],
   "source": [
    "df_cg.reset_index(drop=True).index.rename('ID', inplace = True)"
   ]
  },
  {
   "cell_type": "code",
   "execution_count": 49,
   "id": "155e28d5",
   "metadata": {},
   "outputs": [],
   "source": [
    "df_cg.index.rename('ID', inplace = True)"
   ]
  },
  {
   "cell_type": "code",
   "execution_count": 65,
   "id": "f067467f",
   "metadata": {},
   "outputs": [
    {
     "data": {
      "text/plain": [
       "20"
      ]
     },
     "execution_count": 65,
     "metadata": {},
     "output_type": "execute_result"
    }
   ],
   "source": [
    "df_cg.reset_index(drop=True)\n",
    "len(df_cg.ID.unique())"
   ]
  },
  {
   "cell_type": "markdown",
   "id": "99a0eac0",
   "metadata": {},
   "source": [
    "#### Assumption 3. - Dichotomous Outcomes - Confirmed"
   ]
  },
  {
   "cell_type": "code",
   "execution_count": 69,
   "id": "50c8c28a",
   "metadata": {},
   "outputs": [
    {
     "data": {
      "text/plain": [
       "array([0, 1], dtype=int64)"
      ]
     },
     "execution_count": 69,
     "metadata": {},
     "output_type": "execute_result"
    }
   ],
   "source": [
    "df_cg.credit_grant_decision.unique()"
   ]
  },
  {
   "cell_type": "markdown",
   "id": "859f0b21",
   "metadata": {},
   "source": [
    "#### Assumption 4. - Absense of strong Multi-collinearity - Since there is only one predictor variable, this assumption does not apply"
   ]
  },
  {
   "cell_type": "markdown",
   "id": "981be206",
   "metadata": {},
   "source": [
    "#### Assumption 5. - Outliers (post model training)"
   ]
  },
  {
   "cell_type": "code",
   "execution_count": 72,
   "id": "8562ecab",
   "metadata": {},
   "outputs": [
    {
     "name": "stdout",
     "output_type": "stream",
     "text": [
      "                   Generalized Linear Model Regression Results                   \n",
      "=================================================================================\n",
      "Dep. Variable:     credit_grant_decision   No. Observations:                   20\n",
      "Model:                               GLM   Df Residuals:                       18\n",
      "Model Family:                   Binomial   Df Model:                            1\n",
      "Link Function:                     Logit   Scale:                          1.0000\n",
      "Method:                             IRLS   Log-Likelihood:                -8.0299\n",
      "Date:                   Sat, 17 Sep 2022   Deviance:                       16.060\n",
      "Time:                           21:29:57   Pearson chi2:                     14.6\n",
      "No. Iterations:                        5   Pseudo R-squ. (CS):             0.4419\n",
      "Covariance Type:               nonrobust                                         \n",
      "===================================================================================\n",
      "                      coef    std err          z      P>|z|      [0.025      0.975]\n",
      "-----------------------------------------------------------------------------------\n",
      "const              -4.0777      1.761     -2.316      0.021      -7.529      -0.626\n",
      "portfolio_value     1.5046      0.629      2.393      0.017       0.272       2.737\n",
      "===================================================================================\n"
     ]
    }
   ],
   "source": [
    "X_const = sm.add_constant(df_cg.portfolio_value)\n",
    "Y = df_cg.credit_grant_decision\n",
    "\n",
    "model_glm_cg = sm.GLM(Y,X_const, family = sm.families.Binomial()).fit()\n",
    "\n",
    "print(model_glm_cg.summary())"
   ]
  },
  {
   "cell_type": "code",
   "execution_count": 75,
   "id": "f1cc34a4",
   "metadata": {},
   "outputs": [
    {
     "name": "stdout",
     "output_type": "stream",
     "text": [
      "   dfb_const  dfb_portfolio_value   cooks_d  standard_resid  hat_diag  \\\n",
      "0  -0.054914             0.049816  0.001517       -0.196905  0.072554   \n",
      "1  -0.071731             0.063771  0.002614       -0.239104  0.083793   \n",
      "2  -0.091828             0.079555  0.004370       -0.290205  0.094016   \n",
      "3  -0.114356             0.095736  0.007025       -0.351801  0.101949   \n",
      "4  -0.137192             0.109516  0.010783       -0.425650  0.106375   \n",
      "\n",
      "   dffits_internal  \n",
      "0        -0.055074  \n",
      "1        -0.072310  \n",
      "2        -0.093487  \n",
      "3        -0.118534  \n",
      "4        -0.146858  \n"
     ]
    }
   ],
   "source": [
    "influence = model_glm_cg.get_influence()\n",
    "\n",
    "print(influence.summary_frame().head())"
   ]
  },
  {
   "cell_type": "code",
   "execution_count": 82,
   "id": "96843fa0",
   "metadata": {},
   "outputs": [],
   "source": [
    "cooks_threshold = 4/len(influence.summary_frame().dfb_portfolio_value)\n"
   ]
  },
  {
   "cell_type": "code",
   "execution_count": 83,
   "id": "195c4e2e",
   "metadata": {},
   "outputs": [
    {
     "data": {
      "text/html": [
       "<div>\n",
       "<style scoped>\n",
       "    .dataframe tbody tr th:only-of-type {\n",
       "        vertical-align: middle;\n",
       "    }\n",
       "\n",
       "    .dataframe tbody tr th {\n",
       "        vertical-align: top;\n",
       "    }\n",
       "\n",
       "    .dataframe thead th {\n",
       "        text-align: right;\n",
       "    }\n",
       "</style>\n",
       "<table border=\"1\" class=\"dataframe\">\n",
       "  <thead>\n",
       "    <tr style=\"text-align: right;\">\n",
       "      <th></th>\n",
       "      <th>ID</th>\n",
       "      <th>portfolio_value</th>\n",
       "      <th>credit_grant_decision</th>\n",
       "      <th>x_logx_interaction</th>\n",
       "      <th>cooks_d</th>\n",
       "    </tr>\n",
       "  </thead>\n",
       "  <tbody>\n",
       "    <tr>\n",
       "      <th>0</th>\n",
       "      <td>0</td>\n",
       "      <td>0.50</td>\n",
       "      <td>0</td>\n",
       "      <td>-0.346574</td>\n",
       "      <td>0.001517</td>\n",
       "    </tr>\n",
       "    <tr>\n",
       "      <th>1</th>\n",
       "      <td>1</td>\n",
       "      <td>0.75</td>\n",
       "      <td>0</td>\n",
       "      <td>-0.215762</td>\n",
       "      <td>0.002614</td>\n",
       "    </tr>\n",
       "    <tr>\n",
       "      <th>2</th>\n",
       "      <td>2</td>\n",
       "      <td>1.00</td>\n",
       "      <td>0</td>\n",
       "      <td>0.000000</td>\n",
       "      <td>0.004370</td>\n",
       "    </tr>\n",
       "    <tr>\n",
       "      <th>3</th>\n",
       "      <td>3</td>\n",
       "      <td>1.25</td>\n",
       "      <td>0</td>\n",
       "      <td>0.278929</td>\n",
       "      <td>0.007025</td>\n",
       "    </tr>\n",
       "    <tr>\n",
       "      <th>4</th>\n",
       "      <td>4</td>\n",
       "      <td>1.50</td>\n",
       "      <td>0</td>\n",
       "      <td>0.608198</td>\n",
       "      <td>0.010783</td>\n",
       "    </tr>\n",
       "  </tbody>\n",
       "</table>\n",
       "</div>"
      ],
      "text/plain": [
       "   ID  portfolio_value  credit_grant_decision  x_logx_interaction   cooks_d\n",
       "0   0             0.50                      0           -0.346574  0.001517\n",
       "1   1             0.75                      0           -0.215762  0.002614\n",
       "2   2             1.00                      0            0.000000  0.004370\n",
       "3   3             1.25                      0            0.278929  0.007025\n",
       "4   4             1.50                      0            0.608198  0.010783"
      ]
     },
     "execution_count": 83,
     "metadata": {},
     "output_type": "execute_result"
    }
   ],
   "source": [
    "df_cg['cooks_d'] = influence.summary_frame().cooks_d\n",
    "\n",
    "df_cg.head()"
   ]
  },
  {
   "cell_type": "code",
   "execution_count": 85,
   "id": "fb3fb2f1",
   "metadata": {},
   "outputs": [
    {
     "data": {
      "text/html": [
       "<div>\n",
       "<style scoped>\n",
       "    .dataframe tbody tr th:only-of-type {\n",
       "        vertical-align: middle;\n",
       "    }\n",
       "\n",
       "    .dataframe tbody tr th {\n",
       "        vertical-align: top;\n",
       "    }\n",
       "\n",
       "    .dataframe thead th {\n",
       "        text-align: right;\n",
       "    }\n",
       "</style>\n",
       "<table border=\"1\" class=\"dataframe\">\n",
       "  <thead>\n",
       "    <tr style=\"text-align: right;\">\n",
       "      <th></th>\n",
       "      <th>ID</th>\n",
       "      <th>portfolio_value</th>\n",
       "      <th>credit_grant_decision</th>\n",
       "      <th>x_logx_interaction</th>\n",
       "      <th>cooks_d</th>\n",
       "    </tr>\n",
       "  </thead>\n",
       "  <tbody>\n",
       "    <tr>\n",
       "      <th>6</th>\n",
       "      <td>6</td>\n",
       "      <td>1.75</td>\n",
       "      <td>1</td>\n",
       "      <td>0.979328</td>\n",
       "      <td>0.283440</td>\n",
       "    </tr>\n",
       "    <tr>\n",
       "      <th>13</th>\n",
       "      <td>13</td>\n",
       "      <td>3.50</td>\n",
       "      <td>0</td>\n",
       "      <td>4.384670</td>\n",
       "      <td>0.269676</td>\n",
       "    </tr>\n",
       "  </tbody>\n",
       "</table>\n",
       "</div>"
      ],
      "text/plain": [
       "    ID  portfolio_value  credit_grant_decision  x_logx_interaction   cooks_d\n",
       "6    6             1.75                      1            0.979328  0.283440\n",
       "13  13             3.50                      0            4.384670  0.269676"
      ]
     },
     "execution_count": 85,
     "metadata": {},
     "output_type": "execute_result"
    }
   ],
   "source": [
    "df_cg[df_cg['cooks_d'] > cooks_threshold]"
   ]
  },
  {
   "cell_type": "markdown",
   "id": "7492cca5",
   "metadata": {},
   "source": [
    "#### Dropping the outliers and retraining the model"
   ]
  },
  {
   "cell_type": "code",
   "execution_count": 87,
   "id": "4116fd31",
   "metadata": {},
   "outputs": [
    {
     "name": "stdout",
     "output_type": "stream",
     "text": [
      "<class 'pandas.core.frame.DataFrame'>\n",
      "Int64Index: 18 entries, 0 to 19\n",
      "Data columns (total 5 columns):\n",
      " #   Column                 Non-Null Count  Dtype  \n",
      "---  ------                 --------------  -----  \n",
      " 0   ID                     18 non-null     int64  \n",
      " 1   portfolio_value        18 non-null     float64\n",
      " 2   credit_grant_decision  18 non-null     int64  \n",
      " 3   x_logx_interaction     18 non-null     float64\n",
      " 4   cooks_d                18 non-null     float64\n",
      "dtypes: float64(3), int64(2)\n",
      "memory usage: 864.0 bytes\n"
     ]
    }
   ],
   "source": [
    "df_cg_2 = df_cg[df_cg['cooks_d'] < cooks_threshold]\n",
    "df_cg_2.info()"
   ]
  },
  {
   "cell_type": "code",
   "execution_count": 91,
   "id": "78434700",
   "metadata": {},
   "outputs": [
    {
     "name": "stdout",
     "output_type": "stream",
     "text": [
      "                   Generalized Linear Model Regression Results                   \n",
      "=================================================================================\n",
      "Dep. Variable:     credit_grant_decision   No. Observations:                   18\n",
      "Model:                               GLM   Df Residuals:                       16\n",
      "Model Family:                   Binomial   Df Model:                            1\n",
      "Link Function:                     Logit   Scale:                          1.0000\n",
      "Method:                             IRLS   Log-Likelihood:                -4.2859\n",
      "Date:                   Sat, 17 Sep 2022   Deviance:                       8.5718\n",
      "Time:                           21:54:55   Pearson chi2:                     7.60\n",
      "No. Iterations:                        7   Pseudo R-squ. (CS):             0.5975\n",
      "Covariance Type:               nonrobust                                         \n",
      "===================================================================================\n",
      "                      coef    std err          z      P>|z|      [0.025      0.975]\n",
      "-----------------------------------------------------------------------------------\n",
      "const              -7.2601      3.767     -1.927      0.054     -14.644       0.124\n",
      "portfolio_value     2.7297      1.425      1.915      0.055      -0.064       5.523\n",
      "===================================================================================\n"
     ]
    }
   ],
   "source": [
    "X_const = sm.add_constant(df_cg_2.portfolio_value)\n",
    "Y = df_cg_2.credit_grant_decision\n",
    "\n",
    "model_glm_cg_2 = sm.GLM(Y,X_const, family = sm.families.Binomial()).fit()\n",
    "\n",
    "print(model_glm_cg.summary())"
   ]
  },
  {
   "cell_type": "code",
   "execution_count": 92,
   "id": "43dcd987",
   "metadata": {},
   "outputs": [
    {
     "name": "stdout",
     "output_type": "stream",
     "text": [
      "Optimization terminated successfully.\n",
      "         Current function value: 0.238105\n",
      "         Iterations 8\n",
      "                             Logit Regression Results                            \n",
      "=================================================================================\n",
      "Dep. Variable:     credit_grant_decision   No. Observations:                   18\n",
      "Model:                             Logit   Df Residuals:                       16\n",
      "Method:                              MLE   Df Model:                            1\n",
      "Date:                   Sat, 17 Sep 2022   Pseudo R-squ.:                  0.6565\n",
      "Time:                           21:54:55   Log-Likelihood:                -4.2859\n",
      "converged:                          True   LL-Null:                       -12.477\n",
      "Covariance Type:               nonrobust   LLR p-value:                 5.179e-05\n",
      "===================================================================================\n",
      "                      coef    std err          z      P>|z|      [0.025      0.975]\n",
      "-----------------------------------------------------------------------------------\n",
      "const              -7.2601      3.767     -1.927      0.054     -14.644       0.124\n",
      "portfolio_value     2.7297      1.425      1.915      0.055      -0.064       5.523\n",
      "===================================================================================\n"
     ]
    }
   ],
   "source": [
    "model_sm_cg_2 = sm.Logit(Y,X_const).fit()\n",
    "\n",
    "print(model_sm_cg.summary())"
   ]
  },
  {
   "cell_type": "markdown",
   "id": "86cb9eac",
   "metadata": {},
   "source": [
    "#### Model Diagnostics - dropping the outliers increased the p value of the predictor, hence the outliers shouldn't be dropped. Staying with the original model. Low P value of LL ratio suggests an overall model significance"
   ]
  },
  {
   "cell_type": "code",
   "execution_count": 93,
   "id": "c6b7a394",
   "metadata": {},
   "outputs": [
    {
     "name": "stdout",
     "output_type": "stream",
     "text": [
      "Optimization terminated successfully.\n",
      "         Current function value: 0.401494\n",
      "         Iterations 7\n",
      "                             Logit Regression Results                            \n",
      "=================================================================================\n",
      "Dep. Variable:     credit_grant_decision   No. Observations:                   20\n",
      "Model:                             Logit   Df Residuals:                       18\n",
      "Method:                              MLE   Df Model:                            1\n",
      "Date:                   Sat, 17 Sep 2022   Pseudo R-squ.:                  0.4208\n",
      "Time:                           21:55:59   Log-Likelihood:                -8.0299\n",
      "converged:                          True   LL-Null:                       -13.863\n",
      "Covariance Type:               nonrobust   LLR p-value:                 0.0006365\n",
      "===================================================================================\n",
      "                      coef    std err          z      P>|z|      [0.025      0.975]\n",
      "-----------------------------------------------------------------------------------\n",
      "const              -4.0777      1.761     -2.316      0.021      -7.529      -0.626\n",
      "portfolio_value     1.5046      0.629      2.393      0.017       0.272       2.737\n",
      "===================================================================================\n"
     ]
    }
   ],
   "source": [
    "X_const = sm.add_constant(df_cg.portfolio_value)\n",
    "Y = df_cg.credit_grant_decision\n",
    "\n",
    "model_sm_cg_1 = sm.Logit(Y,X_const).fit()\n",
    "\n",
    "print(model_sm_cg_1.summary())"
   ]
  },
  {
   "cell_type": "code",
   "execution_count": 106,
   "id": "222337f1",
   "metadata": {},
   "outputs": [
    {
     "name": "stdout",
     "output_type": "stream",
     "text": [
      "              precision    recall  f1-score   support\n",
      "\n",
      "           0       0.80      0.80      0.80        10\n",
      "           1       0.80      0.80      0.80        10\n",
      "\n",
      "    accuracy                           0.80        20\n",
      "   macro avg       0.80      0.80      0.80        20\n",
      "weighted avg       0.80      0.80      0.80        20\n",
      "\n"
     ]
    }
   ],
   "source": [
    "#Checking the model accuracy\n",
    "\n",
    "from sklearn.metrics import classification_report\n",
    "\n",
    "Y_Prob = model_sm_cg_1.predict(X_const)\n",
    "Y_Pred = model_sm_cg_1.predict(X_const)\n",
    "Y_Pred[Y_Pred > 0.5] = 1\n",
    "Y_Pred[Y_Pred < 0.5] = 0\n",
    "Y_Test = df_cg.credit_grant_decision  \n",
    "\n",
    "print(classification_report(Y_Test,Y_Pred))\n"
   ]
  },
  {
   "cell_type": "code",
   "execution_count": 110,
   "id": "de9e1a3e",
   "metadata": {},
   "outputs": [
    {
     "data": {
      "image/png": "[encoded data removed]",
      "text/plain": [
       "<Figure size 648x360 with 1 Axes>"
      ]
     },
     "metadata": {
      "needs_background": "light"
     },
     "output_type": "display_data"
    }
   ],
   "source": [
    "#Plotting the RoC curve:\n",
    "import matplotlib.pyplot as plt\n",
    "\n",
    "from sklearn.metrics import roc_curve\n",
    "\n",
    "fpr, tpr, thresholds = roc_curve(Y_Test,Y_Pred)\n",
    "\n",
    "plt.figure(figsize=(9,5))\n",
    "plt.plot([0,1], [0,1], 'k--', label = 'Random')\n",
    "plt.plot(fpr,tpr,color = 'skyblue', label = 'ROC')\n",
    "\n",
    "plt.xlabel('False Positive Rate')\n",
    "plt.ylabel('True Positive Rate')\n",
    "\n",
    "plt.legend(fontsize=10, loc='best')\n",
    "plt.show()"
   ]
  },
  {
   "cell_type": "markdown",
   "id": "afe2fd01",
   "metadata": {},
   "source": [
    "### With an Accuracy of 80%, and recall of 80%, we can consider this model to be a good fit. The outliers can be dropped but that would lead to violation of the first basic assumption of the predictor being non-zero. "
   ]
  },
  {
   "cell_type": "markdown",
   "id": "5484b136",
   "metadata": {},
   "source": [
    "### Ans 2.a - Customer Data odds ratio"
   ]
  },
  {
   "cell_type": "code",
   "execution_count": 112,
   "id": "5dccf387",
   "metadata": {
    "scrolled": true
   },
   "outputs": [
    {
     "name": "stdout",
     "output_type": "stream",
     "text": [
      "     Y_Prob    Y_Odds\n",
      "0  0.034710  0.035958\n",
      "1  0.049773  0.052380\n",
      "2  0.070892  0.076301\n",
      "3  0.100029  0.111146\n",
      "4  0.139344  0.161905\n"
     ]
    }
   ],
   "source": [
    "df_odds = pd.DataFrame()\n",
    "\n",
    "df_odds['Y_Prob'] = Y_Prob\n",
    "df_odds['Y_Odds'] = df_odds['Y_Prob'].apply(lambda x : x/(1-x))\n",
    "\n",
    "print(df_odds.head())"
   ]
  },
  {
   "cell_type": "markdown",
   "id": "e33d721b",
   "metadata": {},
   "source": [
    "#### Ans 1.a The odds for the customer data are mentioned below "
   ]
  },
  {
   "cell_type": "code",
   "execution_count": 124,
   "id": "3b587e4c",
   "metadata": {},
   "outputs": [
    {
     "name": "stdout",
     "output_type": "stream",
     "text": [
      "       Y_Odds\n",
      "0    0.035958\n",
      "1    0.052380\n",
      "2    0.076301\n",
      "3    0.111146\n",
      "4    0.161905\n",
      "5    0.235844\n",
      "6    0.235844\n",
      "7    0.343550\n",
      "8    0.500443\n",
      "9    0.728987\n",
      "10   1.061902\n",
      "11   1.546853\n",
      "12   2.253274\n",
      "13   3.282304\n",
      "14   6.964796\n",
      "15  10.145494\n",
      "16  14.778760\n",
      "17  21.527956\n",
      "18  31.359389\n",
      "19  66.542206\n"
     ]
    }
   ],
   "source": [
    "df_cg['Y_Odds'] = df_odds['Y_Odds'] \n",
    "\n",
    "print(df_cg[[ 'Y_Odds']])"
   ]
  },
  {
   "cell_type": "code",
   "execution_count": 131,
   "id": "c7a66cce",
   "metadata": {},
   "outputs": [
    {
     "data": {
      "text/plain": [
       "7    0.34355\n",
       "Name: Y_Odds, dtype: float64"
      ]
     },
     "execution_count": 131,
     "metadata": {},
     "output_type": "execute_result"
    }
   ],
   "source": [
    "df_cg[df_cg['portfolio_value'] == 2]['Y_Odds']"
   ]
  },
  {
   "cell_type": "markdown",
   "id": "c45cd404",
   "metadata": {},
   "source": [
    "#### Ans 2.a The odds ratio for the customer whose portfolio value is 2 M is 0.3455"
   ]
  },
  {
   "cell_type": "markdown",
   "id": "f6371e84",
   "metadata": {},
   "source": [
    "#### Ans 2.b The optimal values of the coefficients are given below :"
   ]
  },
  {
   "cell_type": "code",
   "execution_count": 133,
   "id": "f7c9d54c",
   "metadata": {},
   "outputs": [
    {
     "data": {
      "text/plain": [
       "const             -4.077713\n",
       "portfolio_value    1.504645\n",
       "dtype: float64"
      ]
     },
     "execution_count": 133,
     "metadata": {},
     "output_type": "execute_result"
    }
   ],
   "source": [
    "model_sm_cg_1.params"
   ]
  },
  {
   "cell_type": "markdown",
   "id": "c78a03ce",
   "metadata": {},
   "source": [
    "## Q2: Confusion Matrix Scenario"
   ]
  },
  {
   "attachments": {
    "Q2%20table.JPG": {
     "image/jpeg": "[encoded data removed]"
    }
   },
   "cell_type": "markdown",
   "id": "b1279895",
   "metadata": {},
   "source": [
    "You are working on a binary classification model to predict which devices are going to fail or not fail in the future. What is the accuracy of your model given the confusion matrix below? (Rounded to 1 place after decimal)\n",
    "\n",
    "![Q2%20table.JPG](attachment:Q2%20table.JPG)"
   ]
  },
  {
   "cell_type": "code",
   "execution_count": 1,
   "id": "c07771ba",
   "metadata": {},
   "outputs": [
    {
     "name": "stdout",
     "output_type": "stream",
     "text": [
      "The accuracy of the device failure classification model is 0.8\n"
     ]
    }
   ],
   "source": [
    "# We can utilize the accuracy formula for a confusion matrix\n",
    "# Considering no fail as the positive event and fail as the negative event\n",
    "tp = 371\n",
    "tn = 122\n",
    "\n",
    "fp = 65\n",
    "fn = 84\n",
    "\n",
    "accuracy = (tp + tn) / (tp + tn + fp + fn)\n",
    "\n",
    "print('The accuracy of the device failure classification model is', round(accuracy,1))"
   ]
  },
  {
   "cell_type": "code",
   "execution_count": null,
   "id": "cc4d9e26",
   "metadata": {},
   "outputs": [],
   "source": []
  },
  {
   "cell_type": "markdown",
   "id": "c0416e49",
   "metadata": {},
   "source": [
    "## Q3: Logit/GLM Model for Insurance Cross Sell use case"
   ]
  },
  {
   "cell_type": "markdown",
   "id": "9dd5b12e",
   "metadata": {},
   "source": [
    "The insurance major is interested to understand the cross-sell opportunities by analysing the information it has. As a Data Scientist, you have access to the Insurance Cross Sell data. (Please refer to GitHub -InsuranceCrossSell.csv). \n",
    "\n",
    "The description of variables are as follows (for your reference): \n",
    "- Response is the binary outcome which indicates whether customer has taken the insurance or not. 1 if insurance taken Else 0. \n",
    "\n",
    "- Other predictor variables are as follows: Gender, Age, Driving_License, Region_Code etc. \n",
    "    - Gender of customer o Age of customer o Driving_License (DL) – 1 if customer has DL, else 0 \n",
    "    - Region_Code – location code to which customer belongs \n",
    "    - Previously_Insured – 1 if customer has prior insurance\n",
    "\n",
    "    - Vehicle_Age – 3 categories: <1 year, 1-2 year, >2 years \n",
    "    - Vehicle_Damage – whether there has been damage to the vehicle owned by the customer or not. 1 if there is damage in the past. \n",
    "    - Annual_Premium – amount paid by customer \n",
    "    - Policy_Sales_Channel – code of the channel through which the policy is being sold \n",
    "    - Vintage – number of days customer is associated with the insurance\n",
    "\n",
    "\n",
    "Fit a model (using Logit or GLM) and explain significance of predictors on the \"Response\" decision."
   ]
  },
  {
   "cell_type": "code",
   "execution_count": 4,
   "id": "0099f70f",
   "metadata": {},
   "outputs": [],
   "source": [
    "df_ins = pd.read_csv('InsuranceCrossSell.csv')"
   ]
  },
  {
   "cell_type": "code",
   "execution_count": 5,
   "id": "389d6ac6",
   "metadata": {},
   "outputs": [
    {
     "data": {
      "text/html": [
       "<div>\n",
       "<style scoped>\n",
       "    .dataframe tbody tr th:only-of-type {\n",
       "        vertical-align: middle;\n",
       "    }\n",
       "\n",
       "    .dataframe tbody tr th {\n",
       "        vertical-align: top;\n",
       "    }\n",
       "\n",
       "    .dataframe thead th {\n",
       "        text-align: right;\n",
       "    }\n",
       "</style>\n",
       "<table border=\"1\" class=\"dataframe\">\n",
       "  <thead>\n",
       "    <tr style=\"text-align: right;\">\n",
       "      <th></th>\n",
       "      <th>id</th>\n",
       "      <th>Gender</th>\n",
       "      <th>Age</th>\n",
       "      <th>Driving_License</th>\n",
       "      <th>Region_Code</th>\n",
       "      <th>Previously_Insured</th>\n",
       "      <th>Vehicle_Age</th>\n",
       "      <th>Vehicle_Damage</th>\n",
       "      <th>Annual_Premium</th>\n",
       "      <th>Policy_Sales_Channel</th>\n",
       "      <th>Vintage</th>\n",
       "      <th>Response</th>\n",
       "    </tr>\n",
       "  </thead>\n",
       "  <tbody>\n",
       "    <tr>\n",
       "      <th>0</th>\n",
       "      <td>1</td>\n",
       "      <td>Male</td>\n",
       "      <td>44</td>\n",
       "      <td>1</td>\n",
       "      <td>28.0</td>\n",
       "      <td>0</td>\n",
       "      <td>&gt; 2 Years</td>\n",
       "      <td>Yes</td>\n",
       "      <td>40454.0</td>\n",
       "      <td>26.0</td>\n",
       "      <td>217</td>\n",
       "      <td>1</td>\n",
       "    </tr>\n",
       "    <tr>\n",
       "      <th>1</th>\n",
       "      <td>2</td>\n",
       "      <td>Male</td>\n",
       "      <td>76</td>\n",
       "      <td>1</td>\n",
       "      <td>3.0</td>\n",
       "      <td>0</td>\n",
       "      <td>1-2 Year</td>\n",
       "      <td>No</td>\n",
       "      <td>33536.0</td>\n",
       "      <td>26.0</td>\n",
       "      <td>183</td>\n",
       "      <td>0</td>\n",
       "    </tr>\n",
       "    <tr>\n",
       "      <th>2</th>\n",
       "      <td>3</td>\n",
       "      <td>Male</td>\n",
       "      <td>47</td>\n",
       "      <td>1</td>\n",
       "      <td>28.0</td>\n",
       "      <td>0</td>\n",
       "      <td>&gt; 2 Years</td>\n",
       "      <td>Yes</td>\n",
       "      <td>38294.0</td>\n",
       "      <td>26.0</td>\n",
       "      <td>27</td>\n",
       "      <td>1</td>\n",
       "    </tr>\n",
       "    <tr>\n",
       "      <th>3</th>\n",
       "      <td>4</td>\n",
       "      <td>Male</td>\n",
       "      <td>21</td>\n",
       "      <td>1</td>\n",
       "      <td>11.0</td>\n",
       "      <td>1</td>\n",
       "      <td>&lt; 1 Year</td>\n",
       "      <td>No</td>\n",
       "      <td>28619.0</td>\n",
       "      <td>152.0</td>\n",
       "      <td>203</td>\n",
       "      <td>0</td>\n",
       "    </tr>\n",
       "    <tr>\n",
       "      <th>4</th>\n",
       "      <td>5</td>\n",
       "      <td>Female</td>\n",
       "      <td>29</td>\n",
       "      <td>1</td>\n",
       "      <td>41.0</td>\n",
       "      <td>1</td>\n",
       "      <td>&lt; 1 Year</td>\n",
       "      <td>No</td>\n",
       "      <td>27496.0</td>\n",
       "      <td>152.0</td>\n",
       "      <td>39</td>\n",
       "      <td>0</td>\n",
       "    </tr>\n",
       "  </tbody>\n",
       "</table>\n",
       "</div>"
      ],
      "text/plain": [
       "   id  Gender  Age  Driving_License  Region_Code  Previously_Insured  \\\n",
       "0   1    Male   44                1         28.0                   0   \n",
       "1   2    Male   76                1          3.0                   0   \n",
       "2   3    Male   47                1         28.0                   0   \n",
       "3   4    Male   21                1         11.0                   1   \n",
       "4   5  Female   29                1         41.0                   1   \n",
       "\n",
       "  Vehicle_Age Vehicle_Damage  Annual_Premium  Policy_Sales_Channel  Vintage  \\\n",
       "0   > 2 Years            Yes         40454.0                  26.0      217   \n",
       "1    1-2 Year             No         33536.0                  26.0      183   \n",
       "2   > 2 Years            Yes         38294.0                  26.0       27   \n",
       "3    < 1 Year             No         28619.0                 152.0      203   \n",
       "4    < 1 Year             No         27496.0                 152.0       39   \n",
       "\n",
       "   Response  \n",
       "0         1  \n",
       "1         0  \n",
       "2         1  \n",
       "3         0  \n",
       "4         0  "
      ]
     },
     "execution_count": 5,
     "metadata": {},
     "output_type": "execute_result"
    }
   ],
   "source": [
    "df_ins.head()"
   ]
  },
  {
   "cell_type": "code",
   "execution_count": 6,
   "id": "6a2f4103",
   "metadata": {},
   "outputs": [
    {
     "name": "stdout",
     "output_type": "stream",
     "text": [
      "<class 'pandas.core.frame.DataFrame'>\n",
      "RangeIndex: 381109 entries, 0 to 381108\n",
      "Data columns (total 12 columns):\n",
      " #   Column                Non-Null Count   Dtype  \n",
      "---  ------                --------------   -----  \n",
      " 0   id                    381109 non-null  int64  \n",
      " 1   Gender                381109 non-null  object \n",
      " 2   Age                   381109 non-null  int64  \n",
      " 3   Driving_License       381109 non-null  int64  \n",
      " 4   Region_Code           381109 non-null  float64\n",
      " 5   Previously_Insured    381109 non-null  int64  \n",
      " 6   Vehicle_Age           381109 non-null  object \n",
      " 7   Vehicle_Damage        381109 non-null  object \n",
      " 8   Annual_Premium        381109 non-null  float64\n",
      " 9   Policy_Sales_Channel  381109 non-null  float64\n",
      " 10  Vintage               381109 non-null  int64  \n",
      " 11  Response              381109 non-null  int64  \n",
      "dtypes: float64(3), int64(6), object(3)\n",
      "memory usage: 34.9+ MB\n"
     ]
    }
   ],
   "source": [
    "df_ins.info()"
   ]
  },
  {
   "cell_type": "code",
   "execution_count": 10,
   "id": "514983e1",
   "metadata": {},
   "outputs": [],
   "source": [
    "col_list = list(df_ins.columns)\n",
    "\n",
    "col_list = [x.lower() for x in col_list]\n",
    "\n",
    "col_list\n",
    "\n",
    "df_ins.columns = col_list"
   ]
  },
  {
   "cell_type": "code",
   "execution_count": 16,
   "id": "43139ca9",
   "metadata": {},
   "outputs": [
    {
     "data": {
      "text/html": [
       "<div>\n",
       "<style scoped>\n",
       "    .dataframe tbody tr th:only-of-type {\n",
       "        vertical-align: middle;\n",
       "    }\n",
       "\n",
       "    .dataframe tbody tr th {\n",
       "        vertical-align: top;\n",
       "    }\n",
       "\n",
       "    .dataframe thead th {\n",
       "        text-align: right;\n",
       "    }\n",
       "</style>\n",
       "<table border=\"1\" class=\"dataframe\">\n",
       "  <thead>\n",
       "    <tr style=\"text-align: right;\">\n",
       "      <th></th>\n",
       "      <th>id</th>\n",
       "      <th>age</th>\n",
       "      <th>driving_license</th>\n",
       "      <th>region_code</th>\n",
       "      <th>previously_insured</th>\n",
       "      <th>annual_premium</th>\n",
       "      <th>policy_sales_channel</th>\n",
       "      <th>vintage</th>\n",
       "      <th>response</th>\n",
       "      <th>gender_Male</th>\n",
       "      <th>vehicle_age_&lt; 1 Year</th>\n",
       "      <th>vehicle_age_&gt; 2 Years</th>\n",
       "      <th>vehicle_damage_Yes</th>\n",
       "    </tr>\n",
       "  </thead>\n",
       "  <tbody>\n",
       "    <tr>\n",
       "      <th>354614</th>\n",
       "      <td>354615</td>\n",
       "      <td>35</td>\n",
       "      <td>1</td>\n",
       "      <td>46.0</td>\n",
       "      <td>0</td>\n",
       "      <td>2630.0</td>\n",
       "      <td>132.0</td>\n",
       "      <td>55</td>\n",
       "      <td>0</td>\n",
       "      <td>0</td>\n",
       "      <td>0</td>\n",
       "      <td>0</td>\n",
       "      <td>1</td>\n",
       "    </tr>\n",
       "    <tr>\n",
       "      <th>308871</th>\n",
       "      <td>308872</td>\n",
       "      <td>62</td>\n",
       "      <td>1</td>\n",
       "      <td>14.0</td>\n",
       "      <td>1</td>\n",
       "      <td>2630.0</td>\n",
       "      <td>26.0</td>\n",
       "      <td>123</td>\n",
       "      <td>0</td>\n",
       "      <td>1</td>\n",
       "      <td>0</td>\n",
       "      <td>0</td>\n",
       "      <td>0</td>\n",
       "    </tr>\n",
       "    <tr>\n",
       "      <th>89760</th>\n",
       "      <td>89761</td>\n",
       "      <td>26</td>\n",
       "      <td>1</td>\n",
       "      <td>30.0</td>\n",
       "      <td>1</td>\n",
       "      <td>26840.0</td>\n",
       "      <td>152.0</td>\n",
       "      <td>269</td>\n",
       "      <td>0</td>\n",
       "      <td>0</td>\n",
       "      <td>1</td>\n",
       "      <td>0</td>\n",
       "      <td>0</td>\n",
       "    </tr>\n",
       "    <tr>\n",
       "      <th>49121</th>\n",
       "      <td>49122</td>\n",
       "      <td>22</td>\n",
       "      <td>1</td>\n",
       "      <td>45.0</td>\n",
       "      <td>1</td>\n",
       "      <td>30770.0</td>\n",
       "      <td>152.0</td>\n",
       "      <td>231</td>\n",
       "      <td>0</td>\n",
       "      <td>0</td>\n",
       "      <td>1</td>\n",
       "      <td>0</td>\n",
       "      <td>0</td>\n",
       "    </tr>\n",
       "    <tr>\n",
       "      <th>78698</th>\n",
       "      <td>78699</td>\n",
       "      <td>48</td>\n",
       "      <td>1</td>\n",
       "      <td>28.0</td>\n",
       "      <td>0</td>\n",
       "      <td>39758.0</td>\n",
       "      <td>124.0</td>\n",
       "      <td>94</td>\n",
       "      <td>0</td>\n",
       "      <td>0</td>\n",
       "      <td>0</td>\n",
       "      <td>0</td>\n",
       "      <td>0</td>\n",
       "    </tr>\n",
       "  </tbody>\n",
       "</table>\n",
       "</div>"
      ],
      "text/plain": [
       "            id  age  driving_license  region_code  previously_insured  \\\n",
       "354614  354615   35                1         46.0                   0   \n",
       "308871  308872   62                1         14.0                   1   \n",
       "89760    89761   26                1         30.0                   1   \n",
       "49121    49122   22                1         45.0                   1   \n",
       "78698    78699   48                1         28.0                   0   \n",
       "\n",
       "        annual_premium  policy_sales_channel  vintage  response  gender_Male  \\\n",
       "354614          2630.0                 132.0       55         0            0   \n",
       "308871          2630.0                  26.0      123         0            1   \n",
       "89760          26840.0                 152.0      269         0            0   \n",
       "49121          30770.0                 152.0      231         0            0   \n",
       "78698          39758.0                 124.0       94         0            0   \n",
       "\n",
       "        vehicle_age_< 1 Year  vehicle_age_> 2 Years  vehicle_damage_Yes  \n",
       "354614                     0                      0                   1  \n",
       "308871                     0                      0                   0  \n",
       "89760                      1                      0                   0  \n",
       "49121                      1                      0                   0  \n",
       "78698                      0                      0                   0  "
      ]
     },
     "execution_count": 16,
     "metadata": {},
     "output_type": "execute_result"
    }
   ],
   "source": [
    "df2 = pd.get_dummies(df_ins, drop_first = True)\n",
    "\n",
    "df2.sample(5)"
   ]
  },
  {
   "cell_type": "code",
   "execution_count": 17,
   "id": "4af86537",
   "metadata": {},
   "outputs": [
    {
     "data": {
      "text/html": [
       "<div>\n",
       "<style scoped>\n",
       "    .dataframe tbody tr th:only-of-type {\n",
       "        vertical-align: middle;\n",
       "    }\n",
       "\n",
       "    .dataframe tbody tr th {\n",
       "        vertical-align: top;\n",
       "    }\n",
       "\n",
       "    .dataframe thead th {\n",
       "        text-align: right;\n",
       "    }\n",
       "</style>\n",
       "<table border=\"1\" class=\"dataframe\">\n",
       "  <thead>\n",
       "    <tr style=\"text-align: right;\">\n",
       "      <th></th>\n",
       "      <th>id</th>\n",
       "      <th>age</th>\n",
       "      <th>driving_license</th>\n",
       "      <th>region_code</th>\n",
       "      <th>previously_insured</th>\n",
       "      <th>annual_premium</th>\n",
       "      <th>policy_sales_channel</th>\n",
       "      <th>vintage</th>\n",
       "      <th>response</th>\n",
       "      <th>gender_male</th>\n",
       "      <th>vehicle_age_&lt; 1 year</th>\n",
       "      <th>vehicle_age_&gt; 2 years</th>\n",
       "      <th>vehicle_damage_yes</th>\n",
       "    </tr>\n",
       "  </thead>\n",
       "  <tbody>\n",
       "    <tr>\n",
       "      <th>0</th>\n",
       "      <td>1</td>\n",
       "      <td>44</td>\n",
       "      <td>1</td>\n",
       "      <td>28.0</td>\n",
       "      <td>0</td>\n",
       "      <td>40454.0</td>\n",
       "      <td>26.0</td>\n",
       "      <td>217</td>\n",
       "      <td>1</td>\n",
       "      <td>1</td>\n",
       "      <td>0</td>\n",
       "      <td>1</td>\n",
       "      <td>1</td>\n",
       "    </tr>\n",
       "    <tr>\n",
       "      <th>1</th>\n",
       "      <td>2</td>\n",
       "      <td>76</td>\n",
       "      <td>1</td>\n",
       "      <td>3.0</td>\n",
       "      <td>0</td>\n",
       "      <td>33536.0</td>\n",
       "      <td>26.0</td>\n",
       "      <td>183</td>\n",
       "      <td>0</td>\n",
       "      <td>1</td>\n",
       "      <td>0</td>\n",
       "      <td>0</td>\n",
       "      <td>0</td>\n",
       "    </tr>\n",
       "    <tr>\n",
       "      <th>2</th>\n",
       "      <td>3</td>\n",
       "      <td>47</td>\n",
       "      <td>1</td>\n",
       "      <td>28.0</td>\n",
       "      <td>0</td>\n",
       "      <td>38294.0</td>\n",
       "      <td>26.0</td>\n",
       "      <td>27</td>\n",
       "      <td>1</td>\n",
       "      <td>1</td>\n",
       "      <td>0</td>\n",
       "      <td>1</td>\n",
       "      <td>1</td>\n",
       "    </tr>\n",
       "    <tr>\n",
       "      <th>3</th>\n",
       "      <td>4</td>\n",
       "      <td>21</td>\n",
       "      <td>1</td>\n",
       "      <td>11.0</td>\n",
       "      <td>1</td>\n",
       "      <td>28619.0</td>\n",
       "      <td>152.0</td>\n",
       "      <td>203</td>\n",
       "      <td>0</td>\n",
       "      <td>1</td>\n",
       "      <td>1</td>\n",
       "      <td>0</td>\n",
       "      <td>0</td>\n",
       "    </tr>\n",
       "    <tr>\n",
       "      <th>4</th>\n",
       "      <td>5</td>\n",
       "      <td>29</td>\n",
       "      <td>1</td>\n",
       "      <td>41.0</td>\n",
       "      <td>1</td>\n",
       "      <td>27496.0</td>\n",
       "      <td>152.0</td>\n",
       "      <td>39</td>\n",
       "      <td>0</td>\n",
       "      <td>0</td>\n",
       "      <td>1</td>\n",
       "      <td>0</td>\n",
       "      <td>0</td>\n",
       "    </tr>\n",
       "  </tbody>\n",
       "</table>\n",
       "</div>"
      ],
      "text/plain": [
       "   id  age  driving_license  region_code  previously_insured  annual_premium  \\\n",
       "0   1   44                1         28.0                   0         40454.0   \n",
       "1   2   76                1          3.0                   0         33536.0   \n",
       "2   3   47                1         28.0                   0         38294.0   \n",
       "3   4   21                1         11.0                   1         28619.0   \n",
       "4   5   29                1         41.0                   1         27496.0   \n",
       "\n",
       "   policy_sales_channel  vintage  response  gender_male  vehicle_age_< 1 year  \\\n",
       "0                  26.0      217         1            1                     0   \n",
       "1                  26.0      183         0            1                     0   \n",
       "2                  26.0       27         1            1                     0   \n",
       "3                 152.0      203         0            1                     1   \n",
       "4                 152.0       39         0            0                     1   \n",
       "\n",
       "   vehicle_age_> 2 years  vehicle_damage_yes  \n",
       "0                      1                   1  \n",
       "1                      0                   0  \n",
       "2                      1                   1  \n",
       "3                      0                   0  \n",
       "4                      0                   0  "
      ]
     },
     "execution_count": 17,
     "metadata": {},
     "output_type": "execute_result"
    }
   ],
   "source": [
    "col_list_2 = list(df2.columns)\n",
    "\n",
    "col_list_2 = [x.lower() for x in col_list_2]\n",
    "\n",
    "col_list_2\n",
    "\n",
    "df2.columns = col_list_2\n",
    "\n",
    "df2.head()"
   ]
  },
  {
   "cell_type": "code",
   "execution_count": 18,
   "id": "b2eef183",
   "metadata": {},
   "outputs": [
    {
     "name": "stdout",
     "output_type": "stream",
     "text": [
      "Optimization terminated successfully.\n",
      "         Current function value: 0.274858\n",
      "         Iterations 11\n",
      "                           Logit Regression Results                           \n",
      "==============================================================================\n",
      "Dep. Variable:               response   No. Observations:               381109\n",
      "Model:                          Logit   Df Residuals:                   381096\n",
      "Method:                           MLE   Df Model:                           12\n",
      "Date:                Wed, 21 Sep 2022   Pseudo R-squ.:                  0.2611\n",
      "Time:                        04:51:07   Log-Likelihood:            -1.0475e+05\n",
      "converged:                       True   LL-Null:                   -1.4177e+05\n",
      "Covariance Type:            nonrobust   LLR p-value:                     0.000\n",
      "=========================================================================================\n",
      "                            coef    std err          z      P>|z|      [0.025      0.975]\n",
      "-----------------------------------------------------------------------------------------\n",
      "const                    -2.8921      0.172    -16.849      0.000      -3.228      -2.556\n",
      "id                    -2.991e-08   4.91e-08     -0.609      0.543   -1.26e-07    6.64e-08\n",
      "age                      -0.0253      0.001    -46.449      0.000      -0.026      -0.024\n",
      "driving_license           1.2112      0.163      7.411      0.000       0.891       1.531\n",
      "region_code              -0.0004      0.000     -0.844      0.399      -0.001       0.000\n",
      "previously_insured       -3.9728      0.083    -48.057      0.000      -4.135      -3.811\n",
      "annual_premium         2.572e-06   2.96e-07      8.700      0.000    1.99e-06    3.15e-06\n",
      "policy_sales_channel     -0.0024      0.000    -22.302      0.000      -0.003      -0.002\n",
      "vintage               -7.299e-06   6.46e-05     -0.113      0.910      -0.000       0.000\n",
      "gender_male               0.0907      0.011      8.152      0.000       0.069       0.113\n",
      "vehicle_age_< 1 year     -1.1721      0.019    -62.341      0.000      -1.209      -1.135\n",
      "vehicle_age_> 2 years     0.2092      0.019     10.967      0.000       0.172       0.247\n",
      "vehicle_damage_yes        2.0281      0.034     59.186      0.000       1.961       2.095\n",
      "=========================================================================================\n"
     ]
    }
   ],
   "source": [
    "X = df2.loc[:, df2.columns != 'response']\n",
    "\n",
    "Y = df2['response']\n",
    "\n",
    "X = sm.add_constant(X)\n",
    "\n",
    "logit_model_ins = sm.Logit(Y,X).fit()\n",
    "\n",
    "print(logit_model_ins.summary())"
   ]
  },
  {
   "cell_type": "markdown",
   "id": "0115ceef",
   "metadata": {},
   "source": [
    "#### The LLR p-value suggests that the model is significant overall. \n",
    "##### Wald's test - The predictors with p value less than 0.05 are id, region_code and vintage. Hence we would drop them and retrain the model"
   ]
  },
  {
   "cell_type": "code",
   "execution_count": 25,
   "id": "a2f31abe",
   "metadata": {},
   "outputs": [],
   "source": [
    "def get_significant_vars(model, alpha=0.05):\n",
    "    \n",
    "    #store the variable and p-values in a dataframe\n",
    "    p_vals = pd.DataFrame(model.pvalues)  \n",
    "    p_vals['vars'] = p_vals.index\n",
    "    p_vals.columns = ['pval', 'name']\n",
    "    \n",
    "    #return those that are significant at alpha value\n",
    "    return list(p_vals[p_vals.pval <= alpha]['name'])"
   ]
  },
  {
   "cell_type": "code",
   "execution_count": 26,
   "id": "09be52ff",
   "metadata": {},
   "outputs": [],
   "source": [
    "significant_vars_ins = get_significant_vars(logit_model_ins)"
   ]
  },
  {
   "cell_type": "code",
   "execution_count": 30,
   "id": "5b0f2f3f",
   "metadata": {},
   "outputs": [
    {
     "data": {
      "text/plain": [
       "list"
      ]
     },
     "execution_count": 30,
     "metadata": {},
     "output_type": "execute_result"
    }
   ],
   "source": [
    "type(significant_vars_ins)"
   ]
  },
  {
   "cell_type": "code",
   "execution_count": 32,
   "id": "07d23108",
   "metadata": {},
   "outputs": [
    {
     "name": "stdout",
     "output_type": "stream",
     "text": [
      "Optimization terminated successfully.\n",
      "         Current function value: 0.274859\n",
      "         Iterations 11\n",
      "                           Logit Regression Results                           \n",
      "==============================================================================\n",
      "Dep. Variable:               response   No. Observations:               381109\n",
      "Model:                          Logit   Df Residuals:                   381099\n",
      "Method:                           MLE   Df Model:                            9\n",
      "Date:                Wed, 21 Sep 2022   Pseudo R-squ.:                  0.2611\n",
      "Time:                        05:05:52   Log-Likelihood:            -1.0475e+05\n",
      "converged:                       True   LL-Null:                   -1.4177e+05\n",
      "Covariance Type:            nonrobust   LLR p-value:                     0.000\n",
      "=========================================================================================\n",
      "                            coef    std err          z      P>|z|      [0.025      0.975]\n",
      "-----------------------------------------------------------------------------------------\n",
      "const                    -2.9085      0.171    -17.038      0.000      -3.243      -2.574\n",
      "age                      -0.0254      0.001    -46.458      0.000      -0.026      -0.024\n",
      "driving_license           1.2109      0.163      7.410      0.000       0.891       1.531\n",
      "previously_insured       -3.9729      0.083    -48.057      0.000      -4.135      -3.811\n",
      "annual_premium         2.574e-06   2.96e-07      8.707      0.000    1.99e-06    3.15e-06\n",
      "policy_sales_channel     -0.0024      0.000    -22.288      0.000      -0.003      -0.002\n",
      "gender_male               0.0908      0.011      8.161      0.000       0.069       0.113\n",
      "vehicle_age_< 1 year     -1.1720      0.019    -62.337      0.000      -1.209      -1.135\n",
      "vehicle_age_> 2 years     0.2091      0.019     10.962      0.000       0.172       0.247\n",
      "vehicle_damage_yes        2.0279      0.034     59.182      0.000       1.961       2.095\n",
      "=========================================================================================\n"
     ]
    }
   ],
   "source": [
    "X_new = X[significant_vars_ins]\n",
    "Y_new = Y\n",
    "\n",
    "logit_model_ins_2 = sm.Logit(Y_new,X_new).fit()\n",
    "\n",
    "print(logit_model_ins_2.summary())"
   ]
  },
  {
   "cell_type": "code",
   "execution_count": 37,
   "id": "903b29ae",
   "metadata": {},
   "outputs": [
    {
     "data": {
      "text/plain": [
       "Index(['const', 'age', 'driving_license', 'previously_insured',\n",
       "       'annual_premium', 'policy_sales_channel', 'gender_male',\n",
       "       'vehicle_age_< 1 year', 'vehicle_age_> 2 years', 'vehicle_damage_yes'],\n",
       "      dtype='object')"
      ]
     },
     "execution_count": 37,
     "metadata": {},
     "output_type": "execute_result"
    }
   ],
   "source": [
    "logit_model_ins_2.params.index\n"
   ]
  },
  {
   "cell_type": "code",
   "execution_count": 39,
   "id": "29e73ca9",
   "metadata": {},
   "outputs": [],
   "source": [
    "sig_list = list(logit_model_ins_2.params.index)"
   ]
  },
  {
   "cell_type": "code",
   "execution_count": 46,
   "id": "3fb9dbb1",
   "metadata": {},
   "outputs": [
    {
     "name": "stdout",
     "output_type": "stream",
     "text": [
      "Thus the remaining variables can be considered significant \n",
      "\n",
      "const , age , driving_license , previously_insured , annual_premium , policy_sales_channel , gender_male , vehicle_age_< 1 year , vehicle_age_> 2 years , vehicle_damage_yes\n"
     ]
    }
   ],
   "source": [
    "print('Thus the remaining variables can be considered significant \\n')\n",
    "print(*sig_list, sep = ' , ')"
   ]
  },
  {
   "cell_type": "code",
   "execution_count": null,
   "id": "0258e06b",
   "metadata": {},
   "outputs": [],
   "source": []
  }
 ],
 "metadata": {
  "hide_input": false,
  "kernelspec": {
   "display_name": "Python 3",
   "language": "python",
   "name": "python3"
  },
  "language_info": {
   "codemirror_mode": {
    "name": "ipython",
    "version": 3
   },
   "file_extension": ".py",
   "mimetype": "text/x-python",
   "name": "python",
   "nbconvert_exporter": "python",
   "pygments_lexer": "ipython3",
   "version": "3.8.8"
  }
 },
 "nbformat": 4,
 "nbformat_minor": 5
}
