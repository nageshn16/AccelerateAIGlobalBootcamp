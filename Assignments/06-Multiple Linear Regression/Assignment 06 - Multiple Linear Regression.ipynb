{
 "cells": [
  {
   "cell_type": "markdown",
   "id": "26e6d158",
   "metadata": {},
   "source": [
    "## Q1: MLR with 2 or more variables – Machine tools company"
   ]
  },
  {
   "cell_type": "markdown",
   "id": "28164b73",
   "metadata": {},
   "source": [
    "Benedrix, a machine tool company in interested in understand the impact of machine\n",
    "hours and production run, on its overhead cost.\n",
    "The data on a monthly basis for 3 years is provided in the dataset:\n",
    "MLR_FactoryOverhead.csv\n",
    "Fit the regression equations:\n",
    "- Overhead = F (machine hours)\n",
    "- Overhead = F (production runs)\n",
    "- Overhead = F (machine hours, production runs)\n",
    "\n",
    "\n",
    "Kindly answer the below \n",
    "- a) Find the R-Squared in all 3 cases.\n",
    "- b) How would you explain the additional lift in R-squared of the combined model vs\n",
    "each of the individual model?"
   ]
  },
  {
   "cell_type": "markdown",
   "id": "8421d7df",
   "metadata": {},
   "source": [
    "### Importing libraries and creating functions"
   ]
  },
  {
   "cell_type": "markdown",
   "id": "69a49610",
   "metadata": {},
   "source": [
    "#### Importing libraries"
   ]
  },
  {
   "cell_type": "code",
   "execution_count": 4,
   "id": "a81e2894",
   "metadata": {},
   "outputs": [],
   "source": [
    "import numpy as np\n",
    "import pandas as pd \n",
    "\n",
    "import seaborn as sns\n",
    "import matplotlib.pyplot as plt\n",
    "import plotly.express as px\n",
    "\n",
    "from scipy import stats as st\n",
    "import statsmodels.api as sm"
   ]
  },
  {
   "cell_type": "markdown",
   "id": "c4a60e1b",
   "metadata": {},
   "source": [
    "#### Creating functions for OLS and Variance Inflation Factor"
   ]
  },
  {
   "cell_type": "code",
   "execution_count": 5,
   "id": "2b20b343",
   "metadata": {},
   "outputs": [],
   "source": [
    "#Creating a function for carrying out the steps related to OLS\n",
    "\n",
    "def ols_fn(y,x):\n",
    "    X = x\n",
    "    Y = y\n",
    "    X = sm.add_constant(X)\n",
    "    \n",
    "    op_model = sm.OLS(Y,X).fit()\n",
    "    print(op_model.summary())\n",
    "    return op_model\n",
    "\n",
    "#Creating a function to return variance inflation factor\n",
    "\n",
    "def vif(x):\n",
    "    from statsmodels.stats.outliers_influence import variance_inflation_factor\n",
    "    X = x\n",
    "    vif = pd.Series([variance_inflation_factor(X.values,i) \n",
    "                                   for i in range(X.shape[1])], \n",
    "                                   index=X.columns)\n",
    "    return vif\n",
    "\n",
    "\n"
   ]
  },
  {
   "cell_type": "markdown",
   "id": "66ab2dbf",
   "metadata": {},
   "source": [
    "#### Creating a function for the residual plot"
   ]
  },
  {
   "cell_type": "code",
   "execution_count": 78,
   "id": "b92a0c34",
   "metadata": {},
   "outputs": [],
   "source": [
    "#Creating a function for residual plot\n",
    "\n",
    "def resid_plot(reg_model,feature):\n",
    "    # Define figure size\n",
    "    figure1 = plt.figure(figsize=(8,8))\n",
    "\n",
    "    # Produce regression plots for logreg_model\n",
    "    fig = sm.graphics.plot_regress_exog(reg_model, feature , fig = figure1)\n",
    "\n",
    "\n"
   ]
  },
  {
   "cell_type": "code",
   "execution_count": 13,
   "id": "d58a1a2f",
   "metadata": {},
   "outputs": [
    {
     "data": {
      "text/html": [
       "<div>\n",
       "<style scoped>\n",
       "    .dataframe tbody tr th:only-of-type {\n",
       "        vertical-align: middle;\n",
       "    }\n",
       "\n",
       "    .dataframe tbody tr th {\n",
       "        vertical-align: top;\n",
       "    }\n",
       "\n",
       "    .dataframe thead th {\n",
       "        text-align: right;\n",
       "    }\n",
       "</style>\n",
       "<table border=\"1\" class=\"dataframe\">\n",
       "  <thead>\n",
       "    <tr style=\"text-align: right;\">\n",
       "      <th></th>\n",
       "      <th>Month</th>\n",
       "      <th>Machine Hours</th>\n",
       "      <th>Production Runs</th>\n",
       "      <th>Overhead Cost</th>\n",
       "    </tr>\n",
       "  </thead>\n",
       "  <tbody>\n",
       "    <tr>\n",
       "      <th>0</th>\n",
       "      <td>1</td>\n",
       "      <td>1539</td>\n",
       "      <td>31</td>\n",
       "      <td>99798</td>\n",
       "    </tr>\n",
       "    <tr>\n",
       "      <th>1</th>\n",
       "      <td>2</td>\n",
       "      <td>1284</td>\n",
       "      <td>29</td>\n",
       "      <td>87804</td>\n",
       "    </tr>\n",
       "    <tr>\n",
       "      <th>2</th>\n",
       "      <td>3</td>\n",
       "      <td>1490</td>\n",
       "      <td>27</td>\n",
       "      <td>93681</td>\n",
       "    </tr>\n",
       "    <tr>\n",
       "      <th>3</th>\n",
       "      <td>4</td>\n",
       "      <td>1355</td>\n",
       "      <td>22</td>\n",
       "      <td>82262</td>\n",
       "    </tr>\n",
       "    <tr>\n",
       "      <th>4</th>\n",
       "      <td>5</td>\n",
       "      <td>1500</td>\n",
       "      <td>35</td>\n",
       "      <td>106968</td>\n",
       "    </tr>\n",
       "  </tbody>\n",
       "</table>\n",
       "</div>"
      ],
      "text/plain": [
       "   Month  Machine Hours  Production Runs  Overhead Cost\n",
       "0      1           1539               31          99798\n",
       "1      2           1284               29          87804\n",
       "2      3           1490               27          93681\n",
       "3      4           1355               22          82262\n",
       "4      5           1500               35         106968"
      ]
     },
     "execution_count": 13,
     "metadata": {},
     "output_type": "execute_result"
    }
   ],
   "source": [
    "df_fact_oh_1 = pd.read_csv('MLR_FactoryOverhead.csv')\n",
    "df_fact_oh_1.head()"
   ]
  },
  {
   "cell_type": "code",
   "execution_count": 14,
   "id": "ed77bf86",
   "metadata": {},
   "outputs": [
    {
     "name": "stdout",
     "output_type": "stream",
     "text": [
      "<class 'pandas.core.frame.DataFrame'>\n",
      "RangeIndex: 36 entries, 0 to 35\n",
      "Data columns (total 4 columns):\n",
      " #   Column           Non-Null Count  Dtype\n",
      "---  ------           --------------  -----\n",
      " 0   Month            36 non-null     int64\n",
      " 1   Machine Hours    36 non-null     int64\n",
      " 2   Production Runs  36 non-null     int64\n",
      " 3   Overhead Cost    36 non-null     int64\n",
      "dtypes: int64(4)\n",
      "memory usage: 1.2 KB\n"
     ]
    }
   ],
   "source": [
    "#Checking data quality\n",
    "df_fact_oh_1.info()"
   ]
  },
  {
   "cell_type": "code",
   "execution_count": 15,
   "id": "a65640b3",
   "metadata": {},
   "outputs": [
    {
     "name": "stdout",
     "output_type": "stream",
     "text": [
      "<class 'pandas.core.frame.DataFrame'>\n",
      "RangeIndex: 36 entries, 0 to 35\n",
      "Data columns (total 4 columns):\n",
      " #   Column           Non-Null Count  Dtype\n",
      "---  ------           --------------  -----\n",
      " 0   month            36 non-null     int64\n",
      " 1   machine_hours    36 non-null     int64\n",
      " 2   production_runs  36 non-null     int64\n",
      " 3   overhead_cost    36 non-null     int64\n",
      "dtypes: int64(4)\n",
      "memory usage: 1.2 KB\n"
     ]
    }
   ],
   "source": [
    "#Renaming the columns to snake case\n",
    "\n",
    "df_fact_oh_1.columns = ['month','machine_hours','production_runs', 'overhead_cost']\n",
    "df_fact_oh_1.info()"
   ]
  },
  {
   "cell_type": "code",
   "execution_count": 16,
   "id": "6a063e08",
   "metadata": {},
   "outputs": [
    {
     "name": "stdout",
     "output_type": "stream",
     "text": [
      "                            OLS Regression Results                            \n",
      "==============================================================================\n",
      "Dep. Variable:          overhead_cost   R-squared:                       0.399\n",
      "Model:                            OLS   Adj. R-squared:                  0.382\n",
      "Method:                 Least Squares   F-statistic:                     22.60\n",
      "Date:                Sun, 04 Sep 2022   Prob (F-statistic):           3.57e-05\n",
      "Time:                        20:32:29   Log-Likelihood:                -376.13\n",
      "No. Observations:                  36   AIC:                             756.3\n",
      "Df Residuals:                      34   BIC:                             759.4\n",
      "Df Model:                           1                                         \n",
      "Covariance Type:            nonrobust                                         \n",
      "=================================================================================\n",
      "                    coef    std err          t      P>|t|      [0.025      0.975]\n",
      "---------------------------------------------------------------------------------\n",
      "const          4.862e+04   1.07e+04      4.533      0.000    2.68e+04    7.04e+04\n",
      "machine_hours    34.7022      7.300      4.754      0.000      19.867      49.537\n",
      "==============================================================================\n",
      "Omnibus:                        0.251   Durbin-Watson:                   2.451\n",
      "Prob(Omnibus):                  0.882   Jarque-Bera (JB):                0.140\n",
      "Skew:                           0.141   Prob(JB):                        0.933\n",
      "Kurtosis:                       2.886   Cond. No.                     1.10e+04\n",
      "==============================================================================\n",
      "\n",
      "Notes:\n",
      "[1] Standard Errors assume that the covariance matrix of the errors is correctly specified.\n",
      "[2] The condition number is large, 1.1e+04. This might indicate that there are\n",
      "strong multicollinearity or other numerical problems.\n"
     ]
    }
   ],
   "source": [
    "#Creating the reg model w.r.t. 'Machine Hours'\n",
    "X1 = df_fact_oh_1.machine_hours\n",
    "Y1 = df_fact_oh_1.overhead_cost\n",
    "\n",
    "reg_model_1 = ols_fn(Y1,X1)"
   ]
  },
  {
   "cell_type": "code",
   "execution_count": 17,
   "id": "8c7f3835",
   "metadata": {},
   "outputs": [
    {
     "name": "stdout",
     "output_type": "stream",
     "text": [
      "                            OLS Regression Results                            \n",
      "==============================================================================\n",
      "Dep. Variable:          overhead_cost   R-squared:                       0.271\n",
      "Model:                            OLS   Adj. R-squared:                  0.250\n",
      "Method:                 Least Squares   F-statistic:                     12.64\n",
      "Date:                Sun, 04 Sep 2022   Prob (F-statistic):            0.00114\n",
      "Time:                        20:33:22   Log-Likelihood:                -379.62\n",
      "No. Observations:                  36   AIC:                             763.2\n",
      "Df Residuals:                      34   BIC:                             766.4\n",
      "Df Model:                           1                                         \n",
      "Covariance Type:            nonrobust                                         \n",
      "===================================================================================\n",
      "                      coef    std err          t      P>|t|      [0.025      0.975]\n",
      "-----------------------------------------------------------------------------------\n",
      "const            7.561e+04   6808.611     11.104      0.000    6.18e+04    8.94e+04\n",
      "production_runs   655.0707    184.275      3.555      0.001     280.579    1029.562\n",
      "==============================================================================\n",
      "Omnibus:                        0.597   Durbin-Watson:                   2.090\n",
      "Prob(Omnibus):                  0.742   Jarque-Bera (JB):                0.683\n",
      "Skew:                          -0.264   Prob(JB):                        0.711\n",
      "Kurtosis:                       2.580   Cond. No.                         160.\n",
      "==============================================================================\n",
      "\n",
      "Notes:\n",
      "[1] Standard Errors assume that the covariance matrix of the errors is correctly specified.\n"
     ]
    }
   ],
   "source": [
    "#Creating the reg model w.r.t. 'Production Runs'\n",
    "X2 = df_fact_oh_1.production_runs\n",
    "Y2 = df_fact_oh_1.overhead_cost\n",
    "\n",
    "reg_model_2 = ols_fn(Y2,X2)"
   ]
  },
  {
   "cell_type": "code",
   "execution_count": 18,
   "id": "39ba4efc",
   "metadata": {},
   "outputs": [
    {
     "name": "stdout",
     "output_type": "stream",
     "text": [
      "                            OLS Regression Results                            \n",
      "==============================================================================\n",
      "Dep. Variable:          overhead_cost   R-squared:                       0.866\n",
      "Model:                            OLS   Adj. R-squared:                  0.858\n",
      "Method:                 Least Squares   F-statistic:                     107.0\n",
      "Date:                Sun, 04 Sep 2022   Prob (F-statistic):           3.75e-15\n",
      "Time:                        20:35:40   Log-Likelihood:                -349.07\n",
      "No. Observations:                  36   AIC:                             704.1\n",
      "Df Residuals:                      33   BIC:                             708.9\n",
      "Df Model:                           2                                         \n",
      "Covariance Type:            nonrobust                                         \n",
      "===================================================================================\n",
      "                      coef    std err          t      P>|t|      [0.025      0.975]\n",
      "-----------------------------------------------------------------------------------\n",
      "const            3996.6782   6603.651      0.605      0.549   -9438.551    1.74e+04\n",
      "machine_hours      43.5364      3.589     12.129      0.000      36.234      50.839\n",
      "production_runs   883.6179     82.251     10.743      0.000     716.276    1050.960\n",
      "==============================================================================\n",
      "Omnibus:                        3.142   Durbin-Watson:                   1.313\n",
      "Prob(Omnibus):                  0.208   Jarque-Bera (JB):                2.259\n",
      "Skew:                          -0.609   Prob(JB):                        0.323\n",
      "Kurtosis:                       3.155   Cond. No.                     1.42e+04\n",
      "==============================================================================\n",
      "\n",
      "Notes:\n",
      "[1] Standard Errors assume that the covariance matrix of the errors is correctly specified.\n",
      "[2] The condition number is large, 1.42e+04. This might indicate that there are\n",
      "strong multicollinearity or other numerical problems.\n"
     ]
    }
   ],
   "source": [
    "#Creating the reg model w.r.t. both 'Machine Hours' and Production Runs'\n",
    "X3 = df_fact_oh_1[['machine_hours','production_runs']]\n",
    "Y3 = df_fact_oh_1.overhead_cost\n",
    "\n",
    "reg_model_3 = ols_fn(Y3,X3)"
   ]
  },
  {
   "cell_type": "code",
   "execution_count": 22,
   "id": "1d8c6a4f",
   "metadata": {},
   "outputs": [
    {
     "name": "stdout",
     "output_type": "stream",
     "text": [
      "OLS w.r.t. Machine Hours has a fit measure of  0.39927805304353947\n",
      "OLS w.r.t. Production Runs has a fit measure of  0.2709655638064029\n",
      "OLS w.r.t. both Machine Hours and Production Runs has a fit measure of  0.8664250205523255\n"
     ]
    }
   ],
   "source": [
    "#Presenting the rsquare of all the three models\n",
    "\n",
    "print('OLS w.r.t. Machine Hours has a fit measure of ', reg_model_1.rsquared)\n",
    "print('OLS w.r.t. Production Runs has a fit measure of ', reg_model_2.rsquared)\n",
    "print('OLS w.r.t. both Machine Hours and Production Runs has a fit measure of ', reg_model_3.rsquared)"
   ]
  },
  {
   "cell_type": "markdown",
   "id": "d3cfd126",
   "metadata": {},
   "source": [
    "#### Ans 1(b) - R2 increases for the addition of every new variable as it assumes that every independent variable explains the variations in the independent variable. \n",
    "\n",
    "Ref- https://www.analyticsvidhya.com/blog/2021/05/the-game-of-increasing-r-squared-in-a-regression-model/"
   ]
  },
  {
   "cell_type": "markdown",
   "id": "89eddec6",
   "metadata": {},
   "source": [
    "## Q2. MLR with categorical variables – Courier Service"
   ]
  },
  {
   "cell_type": "markdown",
   "id": "2e94ea34",
   "metadata": {},
   "source": [
    "GoKart is a regional delivery service company providing different types of package\n",
    "delivery services. An analyst wants to estimate the cost of shipping a package as\n",
    "function of cargo type.\n",
    "Cost of 15 randomly chosen packages of approximately the same weight, shipped to\n",
    "almost similar distance, is provided in the file: MLR_CourierService.csv\n",
    "\n",
    "Kindly answer the below :\n",
    "\n",
    "- a) Estimate the appropriate multiple linear regression equation to predict the cost of\n",
    "shipping a package.\n",
    "- b) Provide interpretation for the regression coefficients.\n",
    "- c) Which cargo type is the costliest? Which one is least costly?\n",
    "- d) How well does the regression fit the sample data? How can the goodness of fitness\n",
    "be improved?\n",
    "- e) Predict the cost of shipping a package with semi-fragile cargo"
   ]
  },
  {
   "cell_type": "code",
   "execution_count": 24,
   "id": "831027d3",
   "metadata": {},
   "outputs": [
    {
     "data": {
      "text/html": [
       "<div>\n",
       "<style scoped>\n",
       "    .dataframe tbody tr th:only-of-type {\n",
       "        vertical-align: middle;\n",
       "    }\n",
       "\n",
       "    .dataframe tbody tr th {\n",
       "        vertical-align: top;\n",
       "    }\n",
       "\n",
       "    .dataframe thead th {\n",
       "        text-align: right;\n",
       "    }\n",
       "</style>\n",
       "<table border=\"1\" class=\"dataframe\">\n",
       "  <thead>\n",
       "    <tr style=\"text-align: right;\">\n",
       "      <th></th>\n",
       "      <th>Shipment</th>\n",
       "      <th>CargType</th>\n",
       "      <th>CosoShipment</th>\n",
       "    </tr>\n",
       "  </thead>\n",
       "  <tbody>\n",
       "    <tr>\n",
       "      <th>0</th>\n",
       "      <td>1</td>\n",
       "      <td>Semifragile</td>\n",
       "      <td>84.0</td>\n",
       "    </tr>\n",
       "    <tr>\n",
       "      <th>1</th>\n",
       "      <td>2</td>\n",
       "      <td>Durable</td>\n",
       "      <td>24.0</td>\n",
       "    </tr>\n",
       "    <tr>\n",
       "      <th>2</th>\n",
       "      <td>3</td>\n",
       "      <td>Fragile</td>\n",
       "      <td>165.6</td>\n",
       "    </tr>\n",
       "    <tr>\n",
       "      <th>3</th>\n",
       "      <td>4</td>\n",
       "      <td>Fragile</td>\n",
       "      <td>133.2</td>\n",
       "    </tr>\n",
       "    <tr>\n",
       "      <th>4</th>\n",
       "      <td>5</td>\n",
       "      <td>Semifragile</td>\n",
       "      <td>120.0</td>\n",
       "    </tr>\n",
       "  </tbody>\n",
       "</table>\n",
       "</div>"
      ],
      "text/plain": [
       "   Shipment     CargType  CosoShipment\n",
       "0         1  Semifragile          84.0\n",
       "1         2      Durable          24.0\n",
       "2         3      Fragile         165.6\n",
       "3         4      Fragile         133.2\n",
       "4         5  Semifragile         120.0"
      ]
     },
     "execution_count": 24,
     "metadata": {},
     "output_type": "execute_result"
    }
   ],
   "source": [
    "#Reading the file to a dataframe\n",
    "\n",
    "df_gokart = pd.read_csv('MLR_CourierService.csv')\n",
    "df_gokart.head()"
   ]
  },
  {
   "cell_type": "code",
   "execution_count": 25,
   "id": "bc41e899",
   "metadata": {},
   "outputs": [
    {
     "name": "stdout",
     "output_type": "stream",
     "text": [
      "<class 'pandas.core.frame.DataFrame'>\n",
      "RangeIndex: 15 entries, 0 to 14\n",
      "Data columns (total 3 columns):\n",
      " #   Column        Non-Null Count  Dtype  \n",
      "---  ------        --------------  -----  \n",
      " 0   Shipment      15 non-null     int64  \n",
      " 1   CargType      15 non-null     object \n",
      " 2   CosoShipment  15 non-null     float64\n",
      "dtypes: float64(1), int64(1), object(1)\n",
      "memory usage: 488.0+ bytes\n"
     ]
    }
   ],
   "source": [
    "#Checking for data quality\n",
    "\n",
    "df_gokart.info()\n"
   ]
  },
  {
   "cell_type": "code",
   "execution_count": 34,
   "id": "1076dfac",
   "metadata": {},
   "outputs": [
    {
     "name": "stdout",
     "output_type": "stream",
     "text": [
      "<class 'pandas.core.frame.DataFrame'>\n",
      "RangeIndex: 15 entries, 0 to 14\n",
      "Data columns (total 3 columns):\n",
      " #   Column         Non-Null Count  Dtype  \n",
      "---  ------         --------------  -----  \n",
      " 0   shipment_no    15 non-null     int64  \n",
      " 1   cargo_type     15 non-null     object \n",
      " 2   shipment_cost  15 non-null     float64\n",
      "dtypes: float64(1), int64(1), object(1)\n",
      "memory usage: 488.0+ bytes\n",
      "None\n"
     ]
    }
   ],
   "source": [
    "#Renaming the columns and changing to snake case\n",
    "\n",
    "df_gokart.columns = ['shipment_no', 'cargo_type', 'shipment_cost']\n",
    "print(df_gokart.info())\n"
   ]
  },
  {
   "cell_type": "code",
   "execution_count": 36,
   "id": "ea332812",
   "metadata": {},
   "outputs": [
    {
     "name": "stdout",
     "output_type": "stream",
     "text": [
      "Types of cargo and totals\n",
      "\n",
      "\n",
      "Semifragile    5\n",
      "Fragile        5\n",
      "Durable        5\n",
      "Name: cargo_type, dtype: int64\n"
     ]
    }
   ],
   "source": [
    "print('Types of cargo and totals')\n",
    "print('\\n')\n",
    "print(df_gokart.cargo_type.value_counts())"
   ]
  },
  {
   "cell_type": "code",
   "execution_count": 42,
   "id": "24f4c4f8",
   "metadata": {},
   "outputs": [
    {
     "data": {
      "text/plain": [
       "<AxesSubplot:xlabel='cargo_type', ylabel='shipment_cost'>"
      ]
     },
     "execution_count": 42,
     "metadata": {},
     "output_type": "execute_result"
    },
    {
     "data": {
      "image/png": "[encoded data removed]",
      "text/plain": [
       "<Figure size 432x288 with 1 Axes>"
      ]
     },
     "metadata": {
      "needs_background": "light"
     },
     "output_type": "display_data"
    }
   ],
   "source": [
    "#Checking for shipment cost by cargo type\n",
    "\n",
    "sns.boxplot(y=\"shipment_cost\", x=\"cargo_type\", data=df_gokart)\n"
   ]
  },
  {
   "cell_type": "code",
   "execution_count": 52,
   "id": "1ee260c4",
   "metadata": {},
   "outputs": [
    {
     "data": {
      "text/html": [
       "<div>\n",
       "<style scoped>\n",
       "    .dataframe tbody tr th:only-of-type {\n",
       "        vertical-align: middle;\n",
       "    }\n",
       "\n",
       "    .dataframe tbody tr th {\n",
       "        vertical-align: top;\n",
       "    }\n",
       "\n",
       "    .dataframe thead th {\n",
       "        text-align: right;\n",
       "    }\n",
       "</style>\n",
       "<table border=\"1\" class=\"dataframe\">\n",
       "  <thead>\n",
       "    <tr style=\"text-align: right;\">\n",
       "      <th></th>\n",
       "      <th>shipment_no</th>\n",
       "      <th>shipment_cost</th>\n",
       "      <th>cargo_type_Durable</th>\n",
       "      <th>cargo_type_Fragile</th>\n",
       "      <th>cargo_type_Semifragile</th>\n",
       "    </tr>\n",
       "  </thead>\n",
       "  <tbody>\n",
       "    <tr>\n",
       "      <th>0</th>\n",
       "      <td>1</td>\n",
       "      <td>84.0</td>\n",
       "      <td>0</td>\n",
       "      <td>0</td>\n",
       "      <td>1</td>\n",
       "    </tr>\n",
       "    <tr>\n",
       "      <th>1</th>\n",
       "      <td>2</td>\n",
       "      <td>24.0</td>\n",
       "      <td>1</td>\n",
       "      <td>0</td>\n",
       "      <td>0</td>\n",
       "    </tr>\n",
       "    <tr>\n",
       "      <th>2</th>\n",
       "      <td>3</td>\n",
       "      <td>165.6</td>\n",
       "      <td>0</td>\n",
       "      <td>1</td>\n",
       "      <td>0</td>\n",
       "    </tr>\n",
       "    <tr>\n",
       "      <th>3</th>\n",
       "      <td>4</td>\n",
       "      <td>133.2</td>\n",
       "      <td>0</td>\n",
       "      <td>1</td>\n",
       "      <td>0</td>\n",
       "    </tr>\n",
       "    <tr>\n",
       "      <th>4</th>\n",
       "      <td>5</td>\n",
       "      <td>120.0</td>\n",
       "      <td>0</td>\n",
       "      <td>0</td>\n",
       "      <td>1</td>\n",
       "    </tr>\n",
       "  </tbody>\n",
       "</table>\n",
       "</div>"
      ],
      "text/plain": [
       "   shipment_no  shipment_cost  cargo_type_Durable  cargo_type_Fragile  \\\n",
       "0            1           84.0                   0                   0   \n",
       "1            2           24.0                   1                   0   \n",
       "2            3          165.6                   0                   1   \n",
       "3            4          133.2                   0                   1   \n",
       "4            5          120.0                   0                   0   \n",
       "\n",
       "   cargo_type_Semifragile  \n",
       "0                       1  \n",
       "1                       0  \n",
       "2                       0  \n",
       "3                       0  \n",
       "4                       1  "
      ]
     },
     "execution_count": 52,
     "metadata": {},
     "output_type": "execute_result"
    }
   ],
   "source": [
    "#Encoding the data with dummy encoding\n",
    "x = df_gokart\n",
    "\n",
    "df_gokart_2 = pd.get_dummies(x,drop_first=False) # One of the categories is not dropped as the final model would required all three\n",
    "df_gokart_2.head()"
   ]
  },
  {
   "cell_type": "code",
   "execution_count": 53,
   "id": "45f0e064",
   "metadata": {},
   "outputs": [
    {
     "name": "stdout",
     "output_type": "stream",
     "text": [
      "                            OLS Regression Results                            \n",
      "==============================================================================\n",
      "Dep. Variable:          shipment_cost   R-squared:                       0.774\n",
      "Model:                            OLS   Adj. R-squared:                  0.737\n",
      "Method:                 Least Squares   F-statistic:                     20.61\n",
      "Date:                Sun, 04 Sep 2022   Prob (F-statistic):           0.000132\n",
      "Time:                        21:43:48   Log-Likelihood:                -70.043\n",
      "No. Observations:                  15   AIC:                             146.1\n",
      "Df Residuals:                      12   BIC:                             148.2\n",
      "Df Model:                           2                                         \n",
      "Covariance Type:            nonrobust                                         \n",
      "==========================================================================================\n",
      "                             coef    std err          t      P>|t|      [0.025      0.975]\n",
      "------------------------------------------------------------------------------------------\n",
      "const                     74.8800      5.587     13.402      0.000      62.706      87.054\n",
      "cargo_type_Fragile        81.1200     10.699      7.582      0.000      57.809     104.431\n",
      "cargo_type_Semifragile    29.5200     10.699      2.759      0.017       6.209      52.831\n",
      "cargo_type_Durable       -35.7600     10.699     -3.342      0.006     -59.071     -12.449\n",
      "==============================================================================\n",
      "Omnibus:                        2.879   Durbin-Watson:                   1.629\n",
      "Prob(Omnibus):                  0.237   Jarque-Bera (JB):                2.128\n",
      "Skew:                           0.879   Prob(JB):                        0.345\n",
      "Kurtosis:                       2.442   Cond. No.                     2.30e+16\n",
      "==============================================================================\n",
      "\n",
      "Notes:\n",
      "[1] Standard Errors assume that the covariance matrix of the errors is correctly specified.\n",
      "[2] The smallest eigenvalue is 3.79e-32. This might indicate that there are\n",
      "strong multicollinearity problems or that the design matrix is singular.\n"
     ]
    },
    {
     "name": "stderr",
     "output_type": "stream",
     "text": [
      "C:\\Users\\NageshN\\anaconda3\\lib\\site-packages\\scipy\\stats\\stats.py:1603: UserWarning: kurtosistest only valid for n>=20 ... continuing anyway, n=15\n",
      "  warnings.warn(\"kurtosistest only valid for n>=20 ... continuing \"\n"
     ]
    }
   ],
   "source": [
    "#Creating an OLS for the encoded data\n",
    "\n",
    "Y1 = df_gokart.shipment_cost\n",
    "X1 = df_gokart_2[['cargo_type_Fragile' , 'cargo_type_Semifragile' , 'cargo_type_Durable']]\n",
    "\n",
    "reg_model_gokart_1 = ols_fn(Y1,X1)"
   ]
  },
  {
   "cell_type": "markdown",
   "id": "eec43b54",
   "metadata": {},
   "source": [
    "#### Ans 2(a) - The regression equation is \n",
    "\n",
    "shipment_cost = 74.88 + 81.12 x cargo_type_Fragile + 29.52 x cargo_type_Semifragile - 35.76 x cargo_type_Durable  "
   ]
  },
  {
   "cell_type": "markdown",
   "id": "bdcaa9b0",
   "metadata": {},
   "source": [
    "#### Ans 2(b) - Interpretation for the regression coefficients - There are three interpretations :\n",
    "\n",
    "- if Cargo Type is Fragile, shipment cost = 74.88 + 81.12 = 156\n",
    "- if Cargo Type is Semi Fragile, shipment cost = 74.88 + 29.52 = 104.39\n",
    "- if Cargo Type is Durable, shipment cost = 74.88 - 35.76 = 39.12"
   ]
  },
  {
   "cell_type": "markdown",
   "id": "717e09c5",
   "metadata": {},
   "source": [
    "#### Ans 2(c) - Most expensive and least expensive cargo types - \n"
   ]
  },
  {
   "cell_type": "code",
   "execution_count": 58,
   "id": "b12d9140",
   "metadata": {},
   "outputs": [
    {
     "data": {
      "text/plain": [
       "<AxesSubplot:xlabel='cargo_type', ylabel='shipment_cost'>"
      ]
     },
     "execution_count": 58,
     "metadata": {},
     "output_type": "execute_result"
    },
    {
     "data": {
      "image/png": "[encoded data removed]",
      "text/plain": [
       "<Figure size 432x288 with 1 Axes>"
      ]
     },
     "metadata": {
      "needs_background": "light"
     },
     "output_type": "display_data"
    }
   ],
   "source": [
    "#Re-visualizing using the box plot\n",
    "\n",
    "sns.boxplot(y=\"shipment_cost\", x=\"cargo_type\", data=df_gokart)\n"
   ]
  },
  {
   "cell_type": "markdown",
   "id": "0a8abb36",
   "metadata": {},
   "source": [
    "#### Ans 2(c) - As per the boxplot, the most expensive category is 'Fragile' and the least expensive category is 'Durable' (ignoring the single outlier value under Durable. This is similar to the costs determined by the regression equation\n"
   ]
  },
  {
   "cell_type": "markdown",
   "id": "6a88e34c",
   "metadata": {},
   "source": [
    "#### Ans 2(d) -  The Adj R2 is 0.737, which can be considered a good fit.  To improve the model fit, we can consider checking for multi-collienarity and other Model diagnostics\n"
   ]
  },
  {
   "cell_type": "code",
   "execution_count": 76,
   "id": "24f705e3",
   "metadata": {},
   "outputs": [
    {
     "data": {
      "text/plain": [
       "cargo_type_Fragile        1.0\n",
       "cargo_type_Semifragile    1.0\n",
       "cargo_type_Durable        1.0\n",
       "dtype: float64"
      ]
     },
     "execution_count": 76,
     "metadata": {},
     "output_type": "execute_result"
    }
   ],
   "source": [
    "# Calculating the vif for the model\n",
    "\n",
    "X = df_gokart_2[['cargo_type_Fragile' , 'cargo_type_Semifragile' , 'cargo_type_Durable']]\n",
    "\n",
    "vif(X)"
   ]
  },
  {
   "cell_type": "markdown",
   "id": "d787559b",
   "metadata": {},
   "source": [
    "#### The vif is 1 which means that there is no multi-collinearity. Checking for other model diagnostics"
   ]
  },
  {
   "cell_type": "code",
   "execution_count": 77,
   "id": "cf212235",
   "metadata": {},
   "outputs": [
    {
     "data": {
      "image/png": "[encoded data removed]",
      "text/plain": [
       "<Figure size 432x288 with 1 Axes>"
      ]
     },
     "execution_count": 77,
     "metadata": {},
     "output_type": "execute_result"
    },
    {
     "data": {
      "image/png": "[encoded data removed]",
      "text/plain": [
       "<Figure size 432x288 with 1 Axes>"
      ]
     },
     "metadata": {
      "needs_background": "light"
     },
     "output_type": "display_data"
    }
   ],
   "source": [
    "#QQ Plot\n",
    "resid_go_kart_1 = reg_model_gokart_1.resid\n",
    "sm.qqplot(resid_go_kart_1, line = 'r', fit = True)"
   ]
  },
  {
   "cell_type": "markdown",
   "id": "4bfbe14a",
   "metadata": {},
   "source": [
    "#### The Q-Q plot suggests a non-normal distribution"
   ]
  },
  {
   "cell_type": "code",
   "execution_count": 80,
   "id": "67b5a51a",
   "metadata": {},
   "outputs": [
    {
     "data": {
      "image/png": "[encoded data removed]",
      "text/plain": [
       "<Figure size 576x576 with 4 Axes>"
      ]
     },
     "metadata": {
      "needs_background": "light"
     },
     "output_type": "display_data"
    }
   ],
   "source": [
    "# Residual plots for the model w.r.t. 'cargo_type_Fragile'\n",
    "\n",
    "resid_plot(reg_model_gokart_1, 'cargo_type_Fragile' ) "
   ]
  },
  {
   "cell_type": "markdown",
   "id": "23939dc3",
   "metadata": {},
   "source": [
    "#### The residual plots may not be a good indicator. Checking for outliers"
   ]
  },
  {
   "cell_type": "code",
   "execution_count": 92,
   "id": "d0a96cc4",
   "metadata": {},
   "outputs": [
    {
     "data": {
      "image/png": "[encoded data removed]",
      "text/plain": [
       "<Figure size 432x288 with 1 Axes>"
      ]
     },
     "metadata": {
      "needs_background": "light"
     },
     "output_type": "display_data"
    }
   ],
   "source": [
    "influence = reg_model_gokart_1.get_influence()\n",
    "\n",
    "cooks_dist = influence.cooks_distance\n",
    "\n",
    "plt.scatter(df_gokart.cargo_type, cooks_dist[0])\n",
    "plt.xlabel('x')\n",
    "plt.ylabel('Cooks Distance')\n",
    "plt.show()"
   ]
  },
  {
   "cell_type": "markdown",
   "id": "b007127b",
   "metadata": {},
   "source": [
    "#### Thus we can observe two outliers. We can attempt to drop them and retrain the model and observe the R2 value"
   ]
  },
  {
   "cell_type": "code",
   "execution_count": 97,
   "id": "a3148f6a",
   "metadata": {},
   "outputs": [
    {
     "data": {
      "text/html": [
       "<div>\n",
       "<style scoped>\n",
       "    .dataframe tbody tr th:only-of-type {\n",
       "        vertical-align: middle;\n",
       "    }\n",
       "\n",
       "    .dataframe tbody tr th {\n",
       "        vertical-align: top;\n",
       "    }\n",
       "\n",
       "    .dataframe thead th {\n",
       "        text-align: right;\n",
       "    }\n",
       "</style>\n",
       "<table border=\"1\" class=\"dataframe\">\n",
       "  <thead>\n",
       "    <tr style=\"text-align: right;\">\n",
       "      <th></th>\n",
       "      <th>shipment_no</th>\n",
       "      <th>cargo_type</th>\n",
       "      <th>shipment_cost</th>\n",
       "      <th>cook_dist</th>\n",
       "      <th>cooks_dist</th>\n",
       "    </tr>\n",
       "  </thead>\n",
       "  <tbody>\n",
       "    <tr>\n",
       "      <th>5</th>\n",
       "      <td>6</td>\n",
       "      <td>Fragile</td>\n",
       "      <td>206.4</td>\n",
       "      <td>0.238389</td>\n",
       "      <td>0.238389</td>\n",
       "    </tr>\n",
       "    <tr>\n",
       "      <th>12</th>\n",
       "      <td>13</td>\n",
       "      <td>Durable</td>\n",
       "      <td>90.0</td>\n",
       "      <td>0.242951</td>\n",
       "      <td>0.242951</td>\n",
       "    </tr>\n",
       "  </tbody>\n",
       "</table>\n",
       "</div>"
      ],
      "text/plain": [
       "    shipment_no cargo_type  shipment_cost  cook_dist  cooks_dist\n",
       "5             6    Fragile          206.4   0.238389    0.238389\n",
       "12           13    Durable           90.0   0.242951    0.242951"
      ]
     },
     "execution_count": 97,
     "metadata": {},
     "output_type": "execute_result"
    }
   ],
   "source": [
    "df_gokart['cooks_dist'] = cooks_dist[0]\n",
    "\n",
    "df_gokart[df_gokart['cooks_dist'] > 0.15]"
   ]
  },
  {
   "cell_type": "markdown",
   "id": "0374f127",
   "metadata": {},
   "source": [
    "#### Dropping these two outliers"
   ]
  },
  {
   "cell_type": "code",
   "execution_count": 98,
   "id": "1a39be20",
   "metadata": {},
   "outputs": [
    {
     "name": "stdout",
     "output_type": "stream",
     "text": [
      "<class 'pandas.core.frame.DataFrame'>\n",
      "Int64Index: 13 entries, 0 to 14\n",
      "Data columns (total 5 columns):\n",
      " #   Column         Non-Null Count  Dtype  \n",
      "---  ------         --------------  -----  \n",
      " 0   shipment_no    13 non-null     int64  \n",
      " 1   cargo_type     13 non-null     object \n",
      " 2   shipment_cost  13 non-null     float64\n",
      " 3   cook_dist      13 non-null     float64\n",
      " 4   cooks_dist     13 non-null     float64\n",
      "dtypes: float64(3), int64(1), object(1)\n",
      "memory usage: 624.0+ bytes\n"
     ]
    }
   ],
   "source": [
    "df2 = df_gokart.drop(df_gokart[df_gokart['cooks_dist'] > 0.15].index)\n",
    "df2.info()"
   ]
  },
  {
   "cell_type": "markdown",
   "id": "fd9e109f",
   "metadata": {},
   "source": [
    "#### Re-creating the model with the filtered data"
   ]
  },
  {
   "cell_type": "code",
   "execution_count": 99,
   "id": "bfdc2527",
   "metadata": {},
   "outputs": [
    {
     "data": {
      "text/html": [
       "<div>\n",
       "<style scoped>\n",
       "    .dataframe tbody tr th:only-of-type {\n",
       "        vertical-align: middle;\n",
       "    }\n",
       "\n",
       "    .dataframe tbody tr th {\n",
       "        vertical-align: top;\n",
       "    }\n",
       "\n",
       "    .dataframe thead th {\n",
       "        text-align: right;\n",
       "    }\n",
       "</style>\n",
       "<table border=\"1\" class=\"dataframe\">\n",
       "  <thead>\n",
       "    <tr style=\"text-align: right;\">\n",
       "      <th></th>\n",
       "      <th>shipment_no</th>\n",
       "      <th>shipment_cost</th>\n",
       "      <th>cook_dist</th>\n",
       "      <th>cooks_dist</th>\n",
       "      <th>cargo_type_Durable</th>\n",
       "      <th>cargo_type_Fragile</th>\n",
       "      <th>cargo_type_Semifragile</th>\n",
       "    </tr>\n",
       "  </thead>\n",
       "  <tbody>\n",
       "    <tr>\n",
       "      <th>0</th>\n",
       "      <td>1</td>\n",
       "      <td>84.0</td>\n",
       "      <td>0.039056</td>\n",
       "      <td>0.039056</td>\n",
       "      <td>0</td>\n",
       "      <td>0</td>\n",
       "      <td>1</td>\n",
       "    </tr>\n",
       "    <tr>\n",
       "      <th>1</th>\n",
       "      <td>2</td>\n",
       "      <td>24.0</td>\n",
       "      <td>0.021455</td>\n",
       "      <td>0.021455</td>\n",
       "      <td>1</td>\n",
       "      <td>0</td>\n",
       "      <td>0</td>\n",
       "    </tr>\n",
       "    <tr>\n",
       "      <th>2</th>\n",
       "      <td>3</td>\n",
       "      <td>165.6</td>\n",
       "      <td>0.008649</td>\n",
       "      <td>0.008649</td>\n",
       "      <td>0</td>\n",
       "      <td>1</td>\n",
       "      <td>0</td>\n",
       "    </tr>\n",
       "    <tr>\n",
       "      <th>3</th>\n",
       "      <td>4</td>\n",
       "      <td>133.2</td>\n",
       "      <td>0.048786</td>\n",
       "      <td>0.048786</td>\n",
       "      <td>0</td>\n",
       "      <td>1</td>\n",
       "      <td>0</td>\n",
       "    </tr>\n",
       "    <tr>\n",
       "      <th>4</th>\n",
       "      <td>5</td>\n",
       "      <td>120.0</td>\n",
       "      <td>0.022839</td>\n",
       "      <td>0.022839</td>\n",
       "      <td>0</td>\n",
       "      <td>0</td>\n",
       "      <td>1</td>\n",
       "    </tr>\n",
       "  </tbody>\n",
       "</table>\n",
       "</div>"
      ],
      "text/plain": [
       "   shipment_no  shipment_cost  cook_dist  cooks_dist  cargo_type_Durable  \\\n",
       "0            1           84.0   0.039056    0.039056                   0   \n",
       "1            2           24.0   0.021455    0.021455                   1   \n",
       "2            3          165.6   0.008649    0.008649                   0   \n",
       "3            4          133.2   0.048786    0.048786                   0   \n",
       "4            5          120.0   0.022839    0.022839                   0   \n",
       "\n",
       "   cargo_type_Fragile  cargo_type_Semifragile  \n",
       "0                   0                       1  \n",
       "1                   0                       0  \n",
       "2                   1                       0  \n",
       "3                   1                       0  \n",
       "4                   0                       1  "
      ]
     },
     "execution_count": 99,
     "metadata": {},
     "output_type": "execute_result"
    }
   ],
   "source": [
    "#Encoding the data with dummy encoding\n",
    "x = df2\n",
    "df_gokart_3 = pd.get_dummies(x,drop_first=False) # One of the categories is not dropped as the final model would required all three\n",
    "df_gokart_3.head()"
   ]
  },
  {
   "cell_type": "code",
   "execution_count": 101,
   "id": "fc1faf2e",
   "metadata": {},
   "outputs": [
    {
     "name": "stdout",
     "output_type": "stream",
     "text": [
      "                            OLS Regression Results                            \n",
      "==============================================================================\n",
      "Dep. Variable:          shipment_cost   R-squared:                       0.889\n",
      "Model:                            OLS   Adj. R-squared:                  0.866\n",
      "Method:                 Least Squares   F-statistic:                     39.89\n",
      "Date:                Sun, 04 Sep 2022   Prob (F-statistic):           1.71e-05\n",
      "Time:                        23:04:10   Log-Likelihood:                -54.961\n",
      "No. Observations:                  13   AIC:                             115.9\n",
      "Df Residuals:                      10   BIC:                             117.6\n",
      "Df Model:                           2                                         \n",
      "Covariance Type:            nonrobust                                         \n",
      "==========================================================================================\n",
      "                             coef    std err          t      P>|t|      [0.025      0.975]\n",
      "------------------------------------------------------------------------------------------\n",
      "const                     68.5500      3.957     17.325      0.000      59.734      77.366\n",
      "cargo_type_Fragile        74.8500      7.771      9.632      0.000      57.536      92.164\n",
      "cargo_type_Semifragile    35.8500      7.172      4.999      0.001      19.869      51.831\n",
      "cargo_type_Durable       -42.1500      7.771     -5.424      0.000     -59.464     -24.836\n",
      "==============================================================================\n",
      "Omnibus:                        0.630   Durbin-Watson:                   2.313\n",
      "Prob(Omnibus):                  0.730   Jarque-Bera (JB):                0.586\n",
      "Skew:                           0.411   Prob(JB):                        0.746\n",
      "Kurtosis:                       2.364   Cond. No.                     5.69e+15\n",
      "==============================================================================\n",
      "\n",
      "Notes:\n",
      "[1] Standard Errors assume that the covariance matrix of the errors is correctly specified.\n",
      "[2] The smallest eigenvalue is 5.38e-31. This might indicate that there are\n",
      "strong multicollinearity problems or that the design matrix is singular.\n"
     ]
    },
    {
     "name": "stderr",
     "output_type": "stream",
     "text": [
      "C:\\Users\\NageshN\\anaconda3\\lib\\site-packages\\scipy\\stats\\stats.py:1603: UserWarning: kurtosistest only valid for n>=20 ... continuing anyway, n=13\n",
      "  warnings.warn(\"kurtosistest only valid for n>=20 ... continuing \"\n"
     ]
    }
   ],
   "source": [
    "Y = df_gokart_3.shipment_cost\n",
    "X = df_gokart_3[['cargo_type_Fragile' , 'cargo_type_Semifragile' , 'cargo_type_Durable']]\n",
    "\n",
    "reg_model_gokart_2 = ols_fn(Y,X)"
   ]
  },
  {
   "cell_type": "markdown",
   "id": "3168f0b6",
   "metadata": {},
   "source": [
    "#### We can observe that Adj R2 has gone up from .737 to .866. We can observe model diagnostics"
   ]
  },
  {
   "cell_type": "code",
   "execution_count": 103,
   "id": "e35e33ef",
   "metadata": {},
   "outputs": [
    {
     "data": {
      "text/plain": [
       "cargo_type_Fragile        1.0\n",
       "cargo_type_Semifragile    1.0\n",
       "cargo_type_Durable        1.0\n",
       "dtype: float64"
      ]
     },
     "execution_count": 103,
     "metadata": {},
     "output_type": "execute_result"
    }
   ],
   "source": [
    "#Checking the vif\n",
    "\n",
    "x = df_gokart_3[['cargo_type_Fragile' , 'cargo_type_Semifragile' , 'cargo_type_Durable']]\n",
    "\n",
    "vif(x)"
   ]
  },
  {
   "cell_type": "code",
   "execution_count": 104,
   "id": "096f22b1",
   "metadata": {},
   "outputs": [
    {
     "data": {
      "image/png": "[encoded data removed]",
      "text/plain": [
       "<Figure size 432x288 with 1 Axes>"
      ]
     },
     "execution_count": 104,
     "metadata": {},
     "output_type": "execute_result"
    },
    {
     "data": {
      "image/png": "[encoded data removed]",
      "text/plain": [
       "<Figure size 432x288 with 1 Axes>"
      ]
     },
     "metadata": {
      "needs_background": "light"
     },
     "output_type": "display_data"
    }
   ],
   "source": [
    "#Checking the qq plot\n",
    "\n",
    "resid_go_kart_2 = reg_model_gokart_2.resid\n",
    "sm.qqplot(resid_go_kart_2, line = 'r', fit = True)"
   ]
  },
  {
   "cell_type": "markdown",
   "id": "0520b806",
   "metadata": {},
   "source": [
    "#### Ans 2(d) Thus, we can observe that Adj R2 has gone up from .737 to .866. The QQ plot also suggests an overall normality assumption of the model. Hence we can conclude. PFB the updated regression equation :\n",
    "\n",
    "shipment_cost = 68.55 + 74.85 x cargo_type_Fragile + 35.85 x cargo_type_Semifragile - 42.15 x cargo_type_Durable  "
   ]
  },
  {
   "cell_type": "markdown",
   "id": "37700ad2",
   "metadata": {},
   "source": [
    "#### Ans 2(e) Predict the cost of shipping a package with semi-fragile cargo = > 68.55 + 35.85 = 104.4"
   ]
  },
  {
   "cell_type": "markdown",
   "id": "1407b933",
   "metadata": {},
   "source": [
    "## Q3: MLR with multiple variables – Employee Salary"
   ]
  },
  {
   "cell_type": "markdown",
   "id": "0b63fa5a",
   "metadata": {},
   "source": [
    "An HR analyst in Unitech Pvt Ltd, wants to predict the annual salaries of given\n",
    "employees using the potential explanatory variables in the file MLR_EmpSalary.csv\n",
    "   - a) Estimate the appropriate multiple linear regression equation to predict the salary of\n",
    "    an Unitech employee using all explanatory variables.\n",
    "   - b) Do we need to exclude certain columns? Why?\n",
    "   - c) Which department employees are paid the highest? By how much?\n",
    "   - d) Do you see any discrimination in salaries earned by male and female employees?\n",
    "   - e) What would be the estimated salary of a Data Scientist (joining engineering) with 10\n",
    "        years of work experience. This woman has 18 years of total education, and will be\n",
    "        supervising 4 junior employees. \n",
    "\n",
    "All datasets are available here: https://github.com/Accelerate-AI/Data-Science-GlobalBootcamp/tree/main/ClassAssignment/Assignment06"
   ]
  },
  {
   "cell_type": "code",
   "execution_count": 114,
   "id": "6d83c9de",
   "metadata": {},
   "outputs": [
    {
     "data": {
      "text/html": [
       "<div>\n",
       "<style scoped>\n",
       "    .dataframe tbody tr th:only-of-type {\n",
       "        vertical-align: middle;\n",
       "    }\n",
       "\n",
       "    .dataframe tbody tr th {\n",
       "        vertical-align: top;\n",
       "    }\n",
       "\n",
       "    .dataframe thead th {\n",
       "        text-align: right;\n",
       "    }\n",
       "</style>\n",
       "<table border=\"1\" class=\"dataframe\">\n",
       "  <thead>\n",
       "    <tr style=\"text-align: right;\">\n",
       "      <th></th>\n",
       "      <th>Employee</th>\n",
       "      <th>Salary</th>\n",
       "      <th>PreviousExp</th>\n",
       "      <th>YearsEmployed</th>\n",
       "      <th>YearsEducation</th>\n",
       "      <th>DirectRepotees</th>\n",
       "      <th>Female</th>\n",
       "      <th>Male</th>\n",
       "      <th>Engineering</th>\n",
       "      <th>Sales</th>\n",
       "      <th>Other</th>\n",
       "    </tr>\n",
       "  </thead>\n",
       "  <tbody>\n",
       "    <tr>\n",
       "      <th>0</th>\n",
       "      <td>1</td>\n",
       "      <td>$65,487</td>\n",
       "      <td>0</td>\n",
       "      <td>27</td>\n",
       "      <td>22</td>\n",
       "      <td>44</td>\n",
       "      <td>0</td>\n",
       "      <td>1</td>\n",
       "      <td>1</td>\n",
       "      <td>0</td>\n",
       "      <td>0</td>\n",
       "    </tr>\n",
       "    <tr>\n",
       "      <th>1</th>\n",
       "      <td>2</td>\n",
       "      <td>$46,184</td>\n",
       "      <td>3</td>\n",
       "      <td>20</td>\n",
       "      <td>14</td>\n",
       "      <td>1</td>\n",
       "      <td>1</td>\n",
       "      <td>0</td>\n",
       "      <td>1</td>\n",
       "      <td>0</td>\n",
       "      <td>0</td>\n",
       "    </tr>\n",
       "    <tr>\n",
       "      <th>2</th>\n",
       "      <td>3</td>\n",
       "      <td>$32,782</td>\n",
       "      <td>1</td>\n",
       "      <td>0</td>\n",
       "      <td>17</td>\n",
       "      <td>0</td>\n",
       "      <td>1</td>\n",
       "      <td>0</td>\n",
       "      <td>0</td>\n",
       "      <td>1</td>\n",
       "      <td>0</td>\n",
       "    </tr>\n",
       "    <tr>\n",
       "      <th>3</th>\n",
       "      <td>4</td>\n",
       "      <td>$54,899</td>\n",
       "      <td>5</td>\n",
       "      <td>12</td>\n",
       "      <td>18</td>\n",
       "      <td>0</td>\n",
       "      <td>0</td>\n",
       "      <td>1</td>\n",
       "      <td>1</td>\n",
       "      <td>0</td>\n",
       "      <td>0</td>\n",
       "    </tr>\n",
       "    <tr>\n",
       "      <th>4</th>\n",
       "      <td>5</td>\n",
       "      <td>$34,869</td>\n",
       "      <td>5</td>\n",
       "      <td>7</td>\n",
       "      <td>14</td>\n",
       "      <td>1</td>\n",
       "      <td>0</td>\n",
       "      <td>1</td>\n",
       "      <td>1</td>\n",
       "      <td>0</td>\n",
       "      <td>0</td>\n",
       "    </tr>\n",
       "  </tbody>\n",
       "</table>\n",
       "</div>"
      ],
      "text/plain": [
       "   Employee   Salary  PreviousExp  YearsEmployed  YearsEducation  \\\n",
       "0         1  $65,487            0             27              22   \n",
       "1         2  $46,184            3             20              14   \n",
       "2         3  $32,782            1              0              17   \n",
       "3         4  $54,899            5             12              18   \n",
       "4         5  $34,869            5              7              14   \n",
       "\n",
       "   DirectRepotees  Female  Male  Engineering  Sales  Other  \n",
       "0              44       0     1            1      0      0  \n",
       "1               1       1     0            1      0      0  \n",
       "2               0       1     0            0      1      0  \n",
       "3               0       0     1            1      0      0  \n",
       "4               1       0     1            1      0      0  "
      ]
     },
     "execution_count": 114,
     "metadata": {},
     "output_type": "execute_result"
    }
   ],
   "source": [
    "#Reading the file\n",
    "\n",
    "df_emp_sal = pd.read_csv('MLR_EmpSalary.csv')\n",
    "df_emp_sal.head()"
   ]
  },
  {
   "cell_type": "code",
   "execution_count": 115,
   "id": "4826f92c",
   "metadata": {},
   "outputs": [
    {
     "name": "stdout",
     "output_type": "stream",
     "text": [
      "<class 'pandas.core.frame.DataFrame'>\n",
      "RangeIndex: 46 entries, 0 to 45\n",
      "Data columns (total 11 columns):\n",
      " #   Column          Non-Null Count  Dtype \n",
      "---  ------          --------------  ----- \n",
      " 0   Employee        46 non-null     int64 \n",
      " 1   Salary          46 non-null     object\n",
      " 2   PreviousExp     46 non-null     int64 \n",
      " 3   YearsEmployed   46 non-null     int64 \n",
      " 4   YearsEducation  46 non-null     int64 \n",
      " 5   DirectRepotees  46 non-null     int64 \n",
      " 6   Female          46 non-null     int64 \n",
      " 7   Male            46 non-null     int64 \n",
      " 8   Engineering     46 non-null     int64 \n",
      " 9   Sales           46 non-null     int64 \n",
      " 10  Other           46 non-null     int64 \n",
      "dtypes: int64(10), object(1)\n",
      "memory usage: 4.1+ KB\n"
     ]
    }
   ],
   "source": [
    "#Checking for data quality\n",
    "df_emp_sal.info()"
   ]
  },
  {
   "cell_type": "code",
   "execution_count": 122,
   "id": "641b24b4",
   "metadata": {},
   "outputs": [
    {
     "name": "stdout",
     "output_type": "stream",
     "text": [
      "<class 'pandas.core.frame.DataFrame'>\n",
      "RangeIndex: 46 entries, 0 to 45\n",
      "Data columns (total 11 columns):\n",
      " #   Column            Non-Null Count  Dtype \n",
      "---  ------            --------------  ----- \n",
      " 0   employee          46 non-null     int64 \n",
      " 1   salary            46 non-null     object\n",
      " 2   previous_exp      46 non-null     int64 \n",
      " 3   years_employed    46 non-null     int64 \n",
      " 4   years_education   46 non-null     int64 \n",
      " 5   direct_reportees  46 non-null     int64 \n",
      " 6   female            46 non-null     int64 \n",
      " 7   male              46 non-null     int64 \n",
      " 8   engineering       46 non-null     int64 \n",
      " 9   sales             46 non-null     int64 \n",
      " 10  other             46 non-null     int64 \n",
      "dtypes: int64(10), object(1)\n",
      "memory usage: 4.1+ KB\n"
     ]
    }
   ],
   "source": [
    "#Changing the column names to snake case and keeping them all in lower case\n",
    "\n",
    "df_emp_sal.columns = ['employee','salary','previous_exp','years_employed','years_education','direct_reportees',\n",
    "'female',\n",
    "'male',\n",
    "'engineering',\n",
    "'sales',\n",
    "'other']\n",
    "\n",
    "df_emp_sal.info()"
   ]
  },
  {
   "cell_type": "code",
   "execution_count": 129,
   "id": "909e06be",
   "metadata": {},
   "outputs": [
    {
     "name": "stderr",
     "output_type": "stream",
     "text": [
      "<ipython-input-129-25d0571053b5>:3: FutureWarning: The default value of regex will change from True to False in a future version. In addition, single character regular expressions will*not* be treated as literal strings when regex=True.\n",
      "  df_emp_sal.salary = df_emp_sal.salary.str.replace('$', \"\")\n"
     ]
    },
    {
     "data": {
      "text/plain": [
       "0    65487\n",
       "1    46184\n",
       "2    32782\n",
       "3    54899\n",
       "4    34869\n",
       "Name: salary, dtype: object"
      ]
     },
     "execution_count": 129,
     "metadata": {},
     "output_type": "execute_result"
    }
   ],
   "source": [
    "#Removing the $ sign from salary and converting it into int\n",
    "\n",
    "df_emp_sal.salary = df_emp_sal.salary.str.replace('$', \"\")\n",
    "df_emp_sal.salary = df_emp_sal.salary.str.replace(',', \"\")\n",
    "\n",
    "df_emp_sal.salary.head()"
   ]
  },
  {
   "cell_type": "code",
   "execution_count": 138,
   "id": "9a12c0a4",
   "metadata": {},
   "outputs": [],
   "source": [
    "df_emp_sal.salary = df_emp_sal.salary.astype('int64', copy = False)"
   ]
  },
  {
   "cell_type": "code",
   "execution_count": 139,
   "id": "cda9aab7",
   "metadata": {},
   "outputs": [
    {
     "name": "stdout",
     "output_type": "stream",
     "text": [
      "<class 'pandas.core.frame.DataFrame'>\n",
      "RangeIndex: 46 entries, 0 to 45\n",
      "Data columns (total 11 columns):\n",
      " #   Column            Non-Null Count  Dtype\n",
      "---  ------            --------------  -----\n",
      " 0   employee          46 non-null     int64\n",
      " 1   salary            46 non-null     int64\n",
      " 2   previous_exp      46 non-null     int64\n",
      " 3   years_employed    46 non-null     int64\n",
      " 4   years_education   46 non-null     int64\n",
      " 5   direct_reportees  46 non-null     int64\n",
      " 6   female            46 non-null     int64\n",
      " 7   male              46 non-null     int64\n",
      " 8   engineering       46 non-null     int64\n",
      " 9   sales             46 non-null     int64\n",
      " 10  other             46 non-null     int64\n",
      "dtypes: int64(11)\n",
      "memory usage: 4.1 KB\n"
     ]
    }
   ],
   "source": [
    "df_emp_sal.info()"
   ]
  },
  {
   "cell_type": "code",
   "execution_count": 141,
   "id": "c96d9d3e",
   "metadata": {},
   "outputs": [
    {
     "name": "stdout",
     "output_type": "stream",
     "text": [
      "                            OLS Regression Results                            \n",
      "==============================================================================\n",
      "Dep. Variable:                 salary   R-squared:                       0.846\n",
      "Model:                            OLS   Adj. R-squared:                  0.817\n",
      "Method:                 Least Squares   F-statistic:                     29.78\n",
      "Date:                Mon, 05 Sep 2022   Prob (F-statistic):           1.48e-13\n",
      "Time:                        17:09:54   Log-Likelihood:                -449.82\n",
      "No. Observations:                  46   AIC:                             915.6\n",
      "Df Residuals:                      38   BIC:                             930.3\n",
      "Df Model:                           7                                         \n",
      "Covariance Type:            nonrobust                                         \n",
      "====================================================================================\n",
      "                       coef    std err          t      P>|t|      [0.025      0.975]\n",
      "------------------------------------------------------------------------------------\n",
      "const             4051.4713   2505.392      1.617      0.114   -1020.430    9123.372\n",
      "previous_exp       -61.4031    200.339     -0.306      0.761    -466.967     344.161\n",
      "years_employed     664.6281    117.548      5.654      0.000     426.664     902.592\n",
      "years_education   1599.1368    339.386      4.712      0.000     912.086    2286.187\n",
      "direct_reportees   130.0708     82.554      1.576      0.123     -37.050     297.192\n",
      "female            2966.9590   1543.458      1.922      0.062    -157.608    6091.526\n",
      "male              1084.5123   1349.674      0.804      0.427   -1647.761    3816.785\n",
      "engineering       4471.0615   1245.954      3.588      0.001    1948.760    6993.363\n",
      "sales            -3613.2788   1472.652     -2.454      0.019   -6594.507    -632.050\n",
      "other             3193.6885   1285.909      2.484      0.018     590.501    5796.876\n",
      "==============================================================================\n",
      "Omnibus:                        0.067   Durbin-Watson:                   2.720\n",
      "Prob(Omnibus):                  0.967   Jarque-Bera (JB):                0.225\n",
      "Skew:                           0.073   Prob(JB):                        0.894\n",
      "Kurtosis:                       2.690   Cond. No.                     2.89e+17\n",
      "==============================================================================\n",
      "\n",
      "Notes:\n",
      "[1] Standard Errors assume that the covariance matrix of the errors is correctly specified.\n",
      "[2] The smallest eigenvalue is 2.48e-31. This might indicate that there are\n",
      "strong multicollinearity problems or that the design matrix is singular.\n"
     ]
    }
   ],
   "source": [
    "#Creating an OLS function :\n",
    "Y = df_emp_sal.salary\n",
    "X = df_emp_sal[['previous_exp','years_employed','years_education','direct_reportees','female','male','engineering','sales',\n",
    "                'other']]\n",
    "\n",
    "\n",
    "reg_model_emp_sal_1 = ols_fn(Y,X)"
   ]
  },
  {
   "cell_type": "code",
   "execution_count": 160,
   "id": "bac49cc8",
   "metadata": {},
   "outputs": [
    {
     "data": {
      "image/png": "[encoded data removed]",
      "text/plain": [
       "<Figure size 432x288 with 1 Axes>"
      ]
     },
     "execution_count": 160,
     "metadata": {},
     "output_type": "execute_result"
    },
    {
     "data": {
      "image/png": "[encoded data removed]",
      "text/plain": [
       "<Figure size 432x288 with 1 Axes>"
      ]
     },
     "metadata": {
      "needs_background": "light"
     },
     "output_type": "display_data"
    }
   ],
   "source": [
    "resid = reg_model_emp_sal_1.resid\n",
    "\n",
    "sm.qqplot(resid, line = 'r', fit = True)"
   ]
  },
  {
   "cell_type": "markdown",
   "id": "2338db9e",
   "metadata": {},
   "source": [
    "#### Ans 3.a - Creating an OLS equation as per the instructions, including all variables, without running any significance or other diagnostics \n",
    "\n",
    "salary = 4051.47 -61.40 x previous_exp + 664.62 x years_employed + 1599.13 x years_education + 130.07 x direct_reportees \n",
    "         + 2966.95 x female + 1084.51 x male + 4471.06 x engineering -3613.27 x sales + 3193.68 x other \n"
   ]
  },
  {
   "cell_type": "markdown",
   "id": "8a76080a",
   "metadata": {},
   "source": [
    "#### Ans 3.b Variables need to be dropped due to them not meeting the significance testing requirements"
   ]
  },
  {
   "cell_type": "code",
   "execution_count": 149,
   "id": "6c18f392",
   "metadata": {},
   "outputs": [
    {
     "data": {
      "text/plain": [
       "Index(['const', 'previous_exp', 'direct_reportees', 'female', 'male'], dtype='object')"
      ]
     },
     "execution_count": 149,
     "metadata": {},
     "output_type": "execute_result"
    }
   ],
   "source": [
    "#### As per the significance tests for the variables, the following factors seem to be not contributing :\n",
    "\n",
    "reg_model_emp_sal_1.pvalues[reg_model_emp_sal_1.pvalues > 0.05].index"
   ]
  },
  {
   "cell_type": "code",
   "execution_count": 148,
   "id": "c1a5e7e3",
   "metadata": {},
   "outputs": [
    {
     "data": {
      "text/plain": [
       "Index(['years_employed', 'years_education', 'engineering', 'sales', 'other'], dtype='object')"
      ]
     },
     "execution_count": 148,
     "metadata": {},
     "output_type": "execute_result"
    }
   ],
   "source": [
    "##Shortlisted factors as per the significance tests\n",
    "\n",
    "reg_model_emp_sal_1.pvalues[reg_model_emp_sal_1.pvalues < 0.05].index"
   ]
  },
  {
   "cell_type": "code",
   "execution_count": 150,
   "id": "f0aebc6c",
   "metadata": {},
   "outputs": [
    {
     "name": "stderr",
     "output_type": "stream",
     "text": [
      "C:\\Users\\NageshN\\anaconda3\\lib\\site-packages\\statsmodels\\stats\\outliers_influence.py:193: RuntimeWarning: divide by zero encountered in double_scalars\n",
      "  vif = 1. / (1. - r_squared_i)\n"
     ]
    },
    {
     "data": {
      "text/plain": [
       "previous_exp        1.135598\n",
       "years_employed      1.626557\n",
       "years_education     1.891932\n",
       "direct_reportees    1.450076\n",
       "female                   inf\n",
       "male                     inf\n",
       "engineering              inf\n",
       "sales                    inf\n",
       "other                    inf\n",
       "dtype: float64"
      ]
     },
     "execution_count": 150,
     "metadata": {},
     "output_type": "execute_result"
    }
   ],
   "source": [
    "#Checking for multi-collinearity\n",
    "X = df_emp_sal[['previous_exp','years_employed','years_education','direct_reportees','female','male','engineering','sales',\n",
    "                'other']]\n",
    "\n",
    "vif(X)"
   ]
  },
  {
   "cell_type": "markdown",
   "id": "9bf02bdf",
   "metadata": {},
   "source": [
    "#### Dummy variables are giving VIF as infinity. We would drop one of the dummy variables for each category. \n",
    "\n",
    "The main features from which these groups were derived seem to be:\n",
    "- a. Gender (which gave the dummy features 'male' and 'female')\n",
    "- b. Role Type or Department(which gave the dummy features - 'sales', 'engineering' and 'others')\n",
    "\n",
    "We will drop one of the genders and one of the roles"
   ]
  },
  {
   "cell_type": "code",
   "execution_count": 165,
   "id": "bc313cfc",
   "metadata": {},
   "outputs": [
    {
     "data": {
      "text/html": [
       "<div>\n",
       "<style scoped>\n",
       "    .dataframe tbody tr th:only-of-type {\n",
       "        vertical-align: middle;\n",
       "    }\n",
       "\n",
       "    .dataframe tbody tr th {\n",
       "        vertical-align: top;\n",
       "    }\n",
       "\n",
       "    .dataframe thead th {\n",
       "        text-align: right;\n",
       "    }\n",
       "</style>\n",
       "<table border=\"1\" class=\"dataframe\">\n",
       "  <thead>\n",
       "    <tr style=\"text-align: right;\">\n",
       "      <th></th>\n",
       "      <th>employee</th>\n",
       "      <th>salary</th>\n",
       "      <th>previous_exp</th>\n",
       "      <th>years_employed</th>\n",
       "      <th>years_education</th>\n",
       "      <th>direct_reportees</th>\n",
       "      <th>male</th>\n",
       "      <th>engineering</th>\n",
       "      <th>other</th>\n",
       "    </tr>\n",
       "  </thead>\n",
       "  <tbody>\n",
       "    <tr>\n",
       "      <th>0</th>\n",
       "      <td>1</td>\n",
       "      <td>65487</td>\n",
       "      <td>0</td>\n",
       "      <td>27</td>\n",
       "      <td>22</td>\n",
       "      <td>44</td>\n",
       "      <td>1</td>\n",
       "      <td>1</td>\n",
       "      <td>0</td>\n",
       "    </tr>\n",
       "    <tr>\n",
       "      <th>1</th>\n",
       "      <td>2</td>\n",
       "      <td>46184</td>\n",
       "      <td>3</td>\n",
       "      <td>20</td>\n",
       "      <td>14</td>\n",
       "      <td>1</td>\n",
       "      <td>0</td>\n",
       "      <td>1</td>\n",
       "      <td>0</td>\n",
       "    </tr>\n",
       "    <tr>\n",
       "      <th>2</th>\n",
       "      <td>3</td>\n",
       "      <td>32782</td>\n",
       "      <td>1</td>\n",
       "      <td>0</td>\n",
       "      <td>17</td>\n",
       "      <td>0</td>\n",
       "      <td>0</td>\n",
       "      <td>0</td>\n",
       "      <td>0</td>\n",
       "    </tr>\n",
       "    <tr>\n",
       "      <th>3</th>\n",
       "      <td>4</td>\n",
       "      <td>54899</td>\n",
       "      <td>5</td>\n",
       "      <td>12</td>\n",
       "      <td>18</td>\n",
       "      <td>0</td>\n",
       "      <td>1</td>\n",
       "      <td>1</td>\n",
       "      <td>0</td>\n",
       "    </tr>\n",
       "    <tr>\n",
       "      <th>4</th>\n",
       "      <td>5</td>\n",
       "      <td>34869</td>\n",
       "      <td>5</td>\n",
       "      <td>7</td>\n",
       "      <td>14</td>\n",
       "      <td>1</td>\n",
       "      <td>1</td>\n",
       "      <td>1</td>\n",
       "      <td>0</td>\n",
       "    </tr>\n",
       "  </tbody>\n",
       "</table>\n",
       "</div>"
      ],
      "text/plain": [
       "   employee  salary  previous_exp  years_employed  years_education  \\\n",
       "0         1   65487             0              27               22   \n",
       "1         2   46184             3              20               14   \n",
       "2         3   32782             1               0               17   \n",
       "3         4   54899             5              12               18   \n",
       "4         5   34869             5               7               14   \n",
       "\n",
       "   direct_reportees  male  engineering  other  \n",
       "0                44     1            1      0  \n",
       "1                 1     0            1      0  \n",
       "2                 0     0            0      0  \n",
       "3                 0     1            1      0  \n",
       "4                 1     1            1      0  "
      ]
     },
     "execution_count": 165,
     "metadata": {},
     "output_type": "execute_result"
    }
   ],
   "source": [
    "#Dropping the dummy features 'female' and 'sales'\n",
    "\n",
    "df_emp_sal_2 = df_emp_sal.drop(columns = ['female','sales'])\n",
    "df_emp_sal_2.head()"
   ]
  },
  {
   "cell_type": "code",
   "execution_count": 166,
   "id": "fa3a80a2",
   "metadata": {},
   "outputs": [
    {
     "name": "stdout",
     "output_type": "stream",
     "text": [
      "                            OLS Regression Results                            \n",
      "==============================================================================\n",
      "Dep. Variable:                 salary   R-squared:                       0.846\n",
      "Model:                            OLS   Adj. R-squared:                  0.817\n",
      "Method:                 Least Squares   F-statistic:                     29.78\n",
      "Date:                Mon, 05 Sep 2022   Prob (F-statistic):           1.48e-13\n",
      "Time:                        18:34:42   Log-Likelihood:                -449.82\n",
      "No. Observations:                  46   AIC:                             915.6\n",
      "Df Residuals:                      38   BIC:                             930.3\n",
      "Df Model:                           7                                         \n",
      "Covariance Type:            nonrobust                                         \n",
      "====================================================================================\n",
      "                       coef    std err          t      P>|t|      [0.025      0.975]\n",
      "------------------------------------------------------------------------------------\n",
      "const             3405.1515   4972.565      0.685      0.498   -6661.280    1.35e+04\n",
      "previous_exp       -61.4031    200.339     -0.306      0.761    -466.967     344.161\n",
      "years_employed     664.6281    117.548      5.654      0.000     426.664     902.592\n",
      "years_education   1599.1368    339.386      4.712      0.000     912.086    2286.187\n",
      "direct_reportees   130.0708     82.554      1.576      0.123     -37.050     297.192\n",
      "male             -1882.4467   1459.718     -1.290      0.205   -4837.490    1072.597\n",
      "engineering       8084.3403   1850.239      4.369      0.000    4338.728    1.18e+04\n",
      "other             6806.9673   1955.621      3.481      0.001    2848.019    1.08e+04\n",
      "==============================================================================\n",
      "Omnibus:                        0.067   Durbin-Watson:                   2.720\n",
      "Prob(Omnibus):                  0.967   Jarque-Bera (JB):                0.225\n",
      "Skew:                           0.073   Prob(JB):                        0.894\n",
      "Kurtosis:                       2.690   Cond. No.                         155.\n",
      "==============================================================================\n",
      "\n",
      "Notes:\n",
      "[1] Standard Errors assume that the covariance matrix of the errors is correctly specified.\n"
     ]
    }
   ],
   "source": [
    "# Retraining the model\n",
    "\n",
    "Y2 = df_emp_sal_2.salary\n",
    "X2 = df_emp_sal[['previous_exp','years_employed','years_education','direct_reportees','male','engineering','other',\n",
    "                ]]\n",
    "\n",
    "reg_model_emp_sal_2 = ols_fn(Y2,X2)"
   ]
  },
  {
   "cell_type": "code",
   "execution_count": 167,
   "id": "bf700b24",
   "metadata": {},
   "outputs": [
    {
     "data": {
      "text/plain": [
       "Index(['years_employed', 'years_education', 'engineering', 'other'], dtype='object')"
      ]
     },
     "execution_count": 167,
     "metadata": {},
     "output_type": "execute_result"
    }
   ],
   "source": [
    "#checking for significant features\n",
    "\n",
    "reg_model_emp_sal_2.pvalues[reg_model_emp_sal_2.pvalues < 0.05].index"
   ]
  },
  {
   "cell_type": "code",
   "execution_count": 170,
   "id": "6f3bd95d",
   "metadata": {},
   "outputs": [
    {
     "data": {
      "text/plain": [
       "previous_exp         2.675589\n",
       "years_employed       4.409484\n",
       "years_education     12.513147\n",
       "direct_reportees     1.603977\n",
       "male                 1.958297\n",
       "engineering          3.025263\n",
       "other                2.405507\n",
       "dtype: float64"
      ]
     },
     "execution_count": 170,
     "metadata": {},
     "output_type": "execute_result"
    }
   ],
   "source": [
    "X2 = df_emp_sal[['previous_exp','years_employed','years_education','direct_reportees','male','engineering','other',\n",
    "                ]]\n",
    "\n",
    "vif(X2)\n",
    "\n",
    "#We won't ignore years of education even though it has a high vif"
   ]
  },
  {
   "cell_type": "code",
   "execution_count": 171,
   "id": "f88375a0",
   "metadata": {},
   "outputs": [
    {
     "data": {
      "image/png": "[encoded data removed]",
      "text/plain": [
       "<Figure size 432x288 with 1 Axes>"
      ]
     },
     "execution_count": 171,
     "metadata": {},
     "output_type": "execute_result"
    },
    {
     "data": {
      "image/png": "[encoded data removed]",
      "text/plain": [
       "<Figure size 432x288 with 1 Axes>"
      ]
     },
     "metadata": {
      "needs_background": "light"
     },
     "output_type": "display_data"
    }
   ],
   "source": [
    "#Checking for QQ plot for residuals\n",
    "\n",
    "resid = reg_model_emp_sal_2.resid\n",
    "\n",
    "sm.qqplot(resid, line = 'r', fit = True)"
   ]
  },
  {
   "cell_type": "code",
   "execution_count": 172,
   "id": "9d85e87a",
   "metadata": {
    "scrolled": true
   },
   "outputs": [
    {
     "data": {
      "text/plain": [
       "const               3405.151480\n",
       "previous_exp         -61.403088\n",
       "years_employed       664.628054\n",
       "years_education     1599.136757\n",
       "direct_reportees     130.070841\n",
       "male               -1882.446666\n",
       "engineering         8084.340260\n",
       "other               6806.967271\n",
       "dtype: float64"
      ]
     },
     "execution_count": 172,
     "metadata": {},
     "output_type": "execute_result"
    }
   ],
   "source": [
    "reg_model_emp_sal_2.params"
   ]
  },
  {
   "cell_type": "markdown",
   "id": "eb2bf21d",
   "metadata": {},
   "source": [
    "#### Ans 3.c - The highest paid department can be found based on the coefficients - Engineering is paid the highest, and by 8084.34 dollars in comparision to the 'sales' department as it is the base case\n",
    "\n"
   ]
  },
  {
   "cell_type": "markdown",
   "id": "dd28cc57",
   "metadata": {},
   "source": [
    "#### Ans 3.d - To view any pay gap between the genders, we can run the model again but drop the gender male instead of female"
   ]
  },
  {
   "cell_type": "code",
   "execution_count": 163,
   "id": "db181b1d",
   "metadata": {},
   "outputs": [
    {
     "name": "stdout",
     "output_type": "stream",
     "text": [
      "                            OLS Regression Results                            \n",
      "==============================================================================\n",
      "Dep. Variable:                 salary   R-squared:                       0.846\n",
      "Model:                            OLS   Adj. R-squared:                  0.817\n",
      "Method:                 Least Squares   F-statistic:                     29.78\n",
      "Date:                Mon, 05 Sep 2022   Prob (F-statistic):           1.48e-13\n",
      "Time:                        18:19:51   Log-Likelihood:                -449.82\n",
      "No. Observations:                  46   AIC:                             915.6\n",
      "Df Residuals:                      38   BIC:                             930.3\n",
      "Df Model:                           7                                         \n",
      "Covariance Type:            nonrobust                                         \n",
      "====================================================================================\n",
      "                       coef    std err          t      P>|t|      [0.025      0.975]\n",
      "------------------------------------------------------------------------------------\n",
      "const             8329.6721   4592.075      1.814      0.078    -966.497    1.76e+04\n",
      "previous_exp       -61.4031    200.339     -0.306      0.761    -466.967     344.161\n",
      "years_employed     664.6281    117.548      5.654      0.000     426.664     902.592\n",
      "years_education   1599.1368    339.386      4.712      0.000     912.086    2286.187\n",
      "direct_reportees   130.0708     82.554      1.576      0.123     -37.050     297.192\n",
      "female            1882.4467   1459.718      1.290      0.205   -1072.597    4837.490\n",
      "engineering       1277.3730   1612.197      0.792      0.433   -1986.348    4541.094\n",
      "sales            -6806.9673   1955.621     -3.481      0.001   -1.08e+04   -2848.019\n",
      "==============================================================================\n",
      "Omnibus:                        0.067   Durbin-Watson:                   2.720\n",
      "Prob(Omnibus):                  0.967   Jarque-Bera (JB):                0.225\n",
      "Skew:                           0.073   Prob(JB):                        0.894\n",
      "Kurtosis:                       2.690   Cond. No.                         142.\n",
      "==============================================================================\n",
      "\n",
      "Notes:\n",
      "[1] Standard Errors assume that the covariance matrix of the errors is correctly specified.\n"
     ]
    }
   ],
   "source": [
    "# Retraining the model\n",
    "\n",
    "Y3 = df_emp_sal.salary\n",
    "X3 = df_emp_sal[['previous_exp','years_employed','years_education','direct_reportees','female','engineering','sales',\n",
    "                ]]\n",
    "\n",
    "reg_model_emp_sal_3 = ols_fn(Y3,X3)"
   ]
  },
  {
   "cell_type": "code",
   "execution_count": 164,
   "id": "7c8c3abe",
   "metadata": {},
   "outputs": [
    {
     "data": {
      "text/plain": [
       "const               8329.672086\n",
       "previous_exp         -61.403088\n",
       "years_employed       664.628054\n",
       "years_education     1599.136757\n",
       "direct_reportees     130.070841\n",
       "female              1882.446666\n",
       "engineering         1277.372989\n",
       "sales              -6806.967271\n",
       "dtype: float64"
      ]
     },
     "execution_count": 164,
     "metadata": {},
     "output_type": "execute_result"
    }
   ],
   "source": [
    "reg_model_emp_sal_3.params"
   ]
  },
  {
   "cell_type": "markdown",
   "id": "bd69f393",
   "metadata": {},
   "source": [
    "#### Ans 3.d - Thus we can see that the coefficent when we choose 'female' is +1882.44 and when we choose 'male' is -1882.44. Thus we can conclude that there is a differential of 1882.44 dollars between male and female employees. "
   ]
  },
  {
   "cell_type": "markdown",
   "id": "d343c111",
   "metadata": {},
   "source": [
    "### Ans 3.e - We can retrain model 3 to predict the salary of the new female employee, who joins engineering :\n",
    "\n",
    "\n",
    "- years of work experience = 10. \n",
    "- years of total education = 18, \n",
    "- direct reportees = 4\n",
    "- gender = female"
   ]
  },
  {
   "cell_type": "code",
   "execution_count": 185,
   "id": "82647b8c",
   "metadata": {},
   "outputs": [
    {
     "name": "stdout",
     "output_type": "stream",
     "text": [
      "                            OLS Regression Results                            \n",
      "==============================================================================\n",
      "Dep. Variable:                 salary   R-squared:                       0.836\n",
      "Model:                            OLS   Adj. R-squared:                  0.815\n",
      "Method:                 Least Squares   F-statistic:                     40.71\n",
      "Date:                Mon, 05 Sep 2022   Prob (F-statistic):           1.17e-14\n",
      "Time:                        18:57:33   Log-Likelihood:                -451.28\n",
      "No. Observations:                  46   AIC:                             914.6\n",
      "Df Residuals:                      40   BIC:                             925.5\n",
      "Df Model:                           5                                         \n",
      "Covariance Type:            nonrobust                                         \n",
      "===================================================================================\n",
      "                      coef    std err          t      P>|t|      [0.025      0.975]\n",
      "-----------------------------------------------------------------------------------\n",
      "const           -1478.2686   4341.220     -0.341      0.735   -1.03e+04    7295.663\n",
      "years_employed    677.2672    117.783      5.750      0.000     439.218     915.316\n",
      "years_education  1805.8352    314.488      5.742      0.000    1170.232    2441.439\n",
      "engineering      8536.0434   1824.001      4.680      0.000    4849.600    1.22e+04\n",
      "other            6972.5027   1943.199      3.588      0.001    3045.151    1.09e+04\n",
      "female           1794.5922   1437.476      1.248      0.219   -1110.655    4699.840\n",
      "==============================================================================\n",
      "Omnibus:                        0.002   Durbin-Watson:                   2.744\n",
      "Prob(Omnibus):                  0.999   Jarque-Bera (JB):                0.107\n",
      "Skew:                           0.011   Prob(JB):                        0.948\n",
      "Kurtosis:                       2.764   Cond. No.                         123.\n",
      "==============================================================================\n",
      "\n",
      "Notes:\n",
      "[1] Standard Errors assume that the covariance matrix of the errors is correctly specified.\n"
     ]
    }
   ],
   "source": [
    "#Retraining the model with only significant factors (Retaining gender)\n",
    "\n",
    "\n",
    "\n",
    "Y4= df_emp_sal_2.salary\n",
    "X4= df_emp_sal[['years_employed', 'years_education', 'engineering', 'other', 'female'\n",
    "                ]]\n",
    "\n",
    "reg_model_emp_sal_4= ols_fn(Y4,X4)\n"
   ]
  },
  {
   "cell_type": "code",
   "execution_count": 186,
   "id": "cb87300f",
   "metadata": {
    "scrolled": true
   },
   "outputs": [
    {
     "data": {
      "text/plain": [
       "years_employed     4.026028\n",
       "years_education    9.314639\n",
       "engineering        2.958000\n",
       "other              2.330263\n",
       "female             2.206919\n",
       "dtype: float64"
      ]
     },
     "execution_count": 186,
     "metadata": {},
     "output_type": "execute_result"
    }
   ],
   "source": [
    "#Calculating multicollinearity\n",
    "\n",
    "vif(X4)\n"
   ]
  },
  {
   "cell_type": "code",
   "execution_count": 189,
   "id": "9e70c911",
   "metadata": {},
   "outputs": [
    {
     "data": {
      "image/png": "[encoded data removed]",
      "text/plain": [
       "<Figure size 432x288 with 1 Axes>"
      ]
     },
     "execution_count": 189,
     "metadata": {},
     "output_type": "execute_result"
    },
    {
     "data": {
      "image/png": "[encoded data removed]",
      "text/plain": [
       "<Figure size 432x288 with 1 Axes>"
      ]
     },
     "metadata": {
      "needs_background": "light"
     },
     "output_type": "display_data"
    }
   ],
   "source": [
    "#Checking overall normality\n",
    "sm.qqplot(reg_model_emp_sal_4.resid, line = 'r', fit = True)"
   ]
  },
  {
   "cell_type": "code",
   "execution_count": 190,
   "id": "ea5c1673",
   "metadata": {},
   "outputs": [
    {
     "data": {
      "image/png": "[encoded data removed]",
      "text/plain": [
       "<Figure size 576x576 with 4 Axes>"
      ]
     },
     "metadata": {
      "needs_background": "light"
     },
     "output_type": "display_data"
    }
   ],
   "source": [
    "#Checking residuals plots w.r.t years employed\n",
    "\n",
    "resid_plot(reg_model_emp_sal_4, 'years_employed' )\n"
   ]
  },
  {
   "cell_type": "code",
   "execution_count": 192,
   "id": "f0b317a5",
   "metadata": {},
   "outputs": [
    {
     "data": {
      "image/png": "[encoded data removed]",
      "text/plain": [
       "<Figure size 576x576 with 4 Axes>"
      ]
     },
     "metadata": {
      "needs_background": "light"
     },
     "output_type": "display_data"
    }
   ],
   "source": [
    "#Checking residuals plots w.r.t years_education\n",
    "\n",
    "resid_plot(reg_model_emp_sal_4, 'years_education' )"
   ]
  },
  {
   "cell_type": "code",
   "execution_count": 187,
   "id": "b0d708a4",
   "metadata": {
    "scrolled": true
   },
   "outputs": [
    {
     "data": {
      "text/plain": [
       "const             -1478.268632\n",
       "years_employed      677.267202\n",
       "years_education    1805.835169\n",
       "engineering        8536.043386\n",
       "other              6972.502685\n",
       "female             1794.592185\n",
       "dtype: float64"
      ]
     },
     "execution_count": 187,
     "metadata": {},
     "output_type": "execute_result"
    }
   ],
   "source": [
    "reg_model_emp_sal_4.params"
   ]
  },
  {
   "cell_type": "code",
   "execution_count": 188,
   "id": "a9043851",
   "metadata": {},
   "outputs": [
    {
     "name": "stdout",
     "output_type": "stream",
     "text": [
      "The salary of the new joinee Data Scientist is 49142.805722 dollars\n"
     ]
    }
   ],
   "source": [
    "#Predicting salary as per Model 4 (after dropping insignificant variables)\n",
    "\n",
    "const = -1089.724278\n",
    "years_employed = 10\n",
    "years_education = 18\n",
    "direct_reportees = 4\n",
    "female = 1 # We can mark this value as 1 as it was a dummy encoding of the categorical variable - gender\n",
    "engineering = 1 # Due to dummy encoding\n",
    "other = 0\n",
    "\n",
    "salary = const + years_employed*693.93 + years_education*1839.71 + engineering*8383.86 + other* 6772.30 + female*1794.59\n",
    "\n",
    "print('The salary of the new joinee Data Scientist is' , salary, 'dollars')\n"
   ]
  },
  {
   "cell_type": "markdown",
   "id": "5c5a125a",
   "metadata": {},
   "source": [
    "#### Ans 3.e - The predicted salary is $49,142.80.\n"
   ]
  },
  {
   "cell_type": "markdown",
   "id": "9d930eaa",
   "metadata": {},
   "source": [
    "## Q4: MLR with Interaction effect – Stock Price Prediction\n",
    "\n",
    "Stock market analyst are continually looking for reliable predictors of stock price.\n",
    "Consider the problem of modelling the stock price of Utility companies. Two variable\n",
    "that are though to influence the stock price(Y) are return of average equity (ROE) and\n",
    "annual dividend rate.\n",
    "Data for 16 utility stocks are provided in the file MLR_StockPrice.csv\n",
    "- a) Estimate the MLR equation from the given dataset\n",
    "- b) Interpret the Adjusted R-Squared value and each of the coefficients\n",
    "- c) Revise the Stock Price prediction model for utility companies, to include and interaction term between ROE and Annual dividend rate. Does this new model fit the data better than was done in the first iteration\n",
    "\n",
    "\n",
    "All datasets are available here: https://github.com/Accelerate-AI/Data-Science-GlobalBootcamp/tree/main/ClassAssignment/Assignment06"
   ]
  },
  {
   "cell_type": "code",
   "execution_count": 195,
   "id": "e928fe8f",
   "metadata": {},
   "outputs": [
    {
     "data": {
      "text/html": [
       "<div>\n",
       "<style scoped>\n",
       "    .dataframe tbody tr th:only-of-type {\n",
       "        vertical-align: middle;\n",
       "    }\n",
       "\n",
       "    .dataframe tbody tr th {\n",
       "        vertical-align: top;\n",
       "    }\n",
       "\n",
       "    .dataframe thead th {\n",
       "        text-align: right;\n",
       "    }\n",
       "</style>\n",
       "<table border=\"1\" class=\"dataframe\">\n",
       "  <thead>\n",
       "    <tr style=\"text-align: right;\">\n",
       "      <th></th>\n",
       "      <th>Electric Utility</th>\n",
       "      <th>Stock Price</th>\n",
       "      <th>ROE</th>\n",
       "      <th>Dividend</th>\n",
       "    </tr>\n",
       "  </thead>\n",
       "  <tbody>\n",
       "    <tr>\n",
       "      <th>0</th>\n",
       "      <td>1</td>\n",
       "      <td>$23</td>\n",
       "      <td>13.7</td>\n",
       "      <td>2.36</td>\n",
       "    </tr>\n",
       "    <tr>\n",
       "      <th>1</th>\n",
       "      <td>2</td>\n",
       "      <td>$34</td>\n",
       "      <td>12.8</td>\n",
       "      <td>3.12</td>\n",
       "    </tr>\n",
       "    <tr>\n",
       "      <th>2</th>\n",
       "      <td>3</td>\n",
       "      <td>$20</td>\n",
       "      <td>6.9</td>\n",
       "      <td>2.48</td>\n",
       "    </tr>\n",
       "    <tr>\n",
       "      <th>3</th>\n",
       "      <td>4</td>\n",
       "      <td>$24</td>\n",
       "      <td>12.7</td>\n",
       "      <td>2.36</td>\n",
       "    </tr>\n",
       "    <tr>\n",
       "      <th>4</th>\n",
       "      <td>5</td>\n",
       "      <td>$20</td>\n",
       "      <td>15.3</td>\n",
       "      <td>1.92</td>\n",
       "    </tr>\n",
       "  </tbody>\n",
       "</table>\n",
       "</div>"
      ],
      "text/plain": [
       "   Electric Utility Stock Price   ROE  Dividend\n",
       "0                 1         $23  13.7      2.36\n",
       "1                 2         $34  12.8      3.12\n",
       "2                 3         $20   6.9      2.48\n",
       "3                 4         $24  12.7      2.36\n",
       "4                 5         $20  15.3      1.92"
      ]
     },
     "execution_count": 195,
     "metadata": {},
     "output_type": "execute_result"
    }
   ],
   "source": [
    "#Reading the data \n",
    "\n",
    "df_stocks = pd.read_csv('MLR_StockPrice.csv')\n",
    "df_stocks.head()"
   ]
  },
  {
   "cell_type": "code",
   "execution_count": 196,
   "id": "75645d22",
   "metadata": {},
   "outputs": [
    {
     "name": "stdout",
     "output_type": "stream",
     "text": [
      "<class 'pandas.core.frame.DataFrame'>\n",
      "RangeIndex: 16 entries, 0 to 15\n",
      "Data columns (total 4 columns):\n",
      " #   Column       Non-Null Count  Dtype  \n",
      "---  ------       --------------  -----  \n",
      " 0   company_no   16 non-null     int64  \n",
      " 1   stock_price  16 non-null     object \n",
      " 2   roe          16 non-null     float64\n",
      " 3   dividend     16 non-null     float64\n",
      "dtypes: float64(2), int64(1), object(1)\n",
      "memory usage: 640.0+ bytes\n"
     ]
    }
   ],
   "source": [
    "#Renaming the columns and checking for data quality\n",
    "\n",
    "df_stocks.columns = ['company_no', 'stock_price', 'roe', 'dividend']\n",
    "df_stocks.info()"
   ]
  },
  {
   "cell_type": "code",
   "execution_count": 197,
   "id": "628cf00c",
   "metadata": {},
   "outputs": [
    {
     "name": "stdout",
     "output_type": "stream",
     "text": [
      "<class 'pandas.core.frame.DataFrame'>\n",
      "RangeIndex: 16 entries, 0 to 15\n",
      "Data columns (total 4 columns):\n",
      " #   Column       Non-Null Count  Dtype  \n",
      "---  ------       --------------  -----  \n",
      " 0   company_no   16 non-null     int64  \n",
      " 1   stock_price  16 non-null     float64\n",
      " 2   roe          16 non-null     float64\n",
      " 3   dividend     16 non-null     float64\n",
      "dtypes: float64(3), int64(1)\n",
      "memory usage: 640.0 bytes\n"
     ]
    },
    {
     "name": "stderr",
     "output_type": "stream",
     "text": [
      "<ipython-input-197-a6f1bb8ce5d6>:2: FutureWarning: The default value of regex will change from True to False in a future version. In addition, single character regular expressions will*not* be treated as literal strings when regex=True.\n",
      "  df_stocks.stock_price = df_stocks.stock_price.str.replace('$','')\n"
     ]
    }
   ],
   "source": [
    "#Converting stock price to float\n",
    "df_stocks.stock_price = df_stocks.stock_price.str.replace('$','')\n",
    "df_stocks.stock_price = df_stocks.stock_price.astype('float')\n",
    "\n",
    "df_stocks.info()\n"
   ]
  },
  {
   "cell_type": "code",
   "execution_count": 198,
   "id": "5aad8b02",
   "metadata": {},
   "outputs": [
    {
     "name": "stdout",
     "output_type": "stream",
     "text": [
      "                            OLS Regression Results                            \n",
      "==============================================================================\n",
      "Dep. Variable:            stock_price   R-squared:                       0.928\n",
      "Model:                            OLS   Adj. R-squared:                  0.917\n",
      "Method:                 Least Squares   F-statistic:                     84.31\n",
      "Date:                Mon, 05 Sep 2022   Prob (F-statistic):           3.60e-08\n",
      "Time:                        19:16:18   Log-Likelihood:                -29.298\n",
      "No. Observations:                  16   AIC:                             64.60\n",
      "Df Residuals:                      13   BIC:                             66.91\n",
      "Df Model:                           2                                         \n",
      "Covariance Type:            nonrobust                                         \n",
      "==============================================================================\n",
      "                 coef    std err          t      P>|t|      [0.025      0.975]\n",
      "------------------------------------------------------------------------------\n",
      "const         -9.9537      3.405     -2.923      0.012     -17.311      -2.597\n",
      "roe            0.4762      0.186      2.556      0.024       0.074       0.879\n",
      "dividend      11.1943      0.877     12.761      0.000       9.299      13.089\n",
      "==============================================================================\n",
      "Omnibus:                        0.526   Durbin-Watson:                   2.595\n",
      "Prob(Omnibus):                  0.769   Jarque-Bera (JB):                0.571\n",
      "Skew:                           0.129   Prob(JB):                        0.752\n",
      "Kurtosis:                       2.111   Cond. No.                         118.\n",
      "==============================================================================\n",
      "\n",
      "Notes:\n",
      "[1] Standard Errors assume that the covariance matrix of the errors is correctly specified.\n"
     ]
    },
    {
     "name": "stderr",
     "output_type": "stream",
     "text": [
      "C:\\Users\\NageshN\\anaconda3\\lib\\site-packages\\scipy\\stats\\stats.py:1603: UserWarning: kurtosistest only valid for n>=20 ... continuing anyway, n=16\n",
      "  warnings.warn(\"kurtosistest only valid for n>=20 ... continuing \"\n"
     ]
    }
   ],
   "source": [
    "#Creating an OLS function\n",
    "\n",
    "Y = df_stocks.stock_price\n",
    "X = df_stocks [['roe','dividend']]\n",
    "\n",
    "reg_model_stocks_1 = ols_fn(Y,X)"
   ]
  },
  {
   "cell_type": "code",
   "execution_count": 199,
   "id": "f1ac703b",
   "metadata": {},
   "outputs": [
    {
     "data": {
      "image/png": "[encoded data removed]",
      "text/plain": [
       "<Figure size 432x288 with 1 Axes>"
      ]
     },
     "execution_count": 199,
     "metadata": {},
     "output_type": "execute_result"
    },
    {
     "data": {
      "image/png": "[encoded data removed]",
      "text/plain": [
       "<Figure size 432x288 with 1 Axes>"
      ]
     },
     "metadata": {
      "needs_background": "light"
     },
     "output_type": "display_data"
    }
   ],
   "source": [
    "#All factors are significant\n",
    "#Checking for normality using QQ plot\n",
    "\n",
    "sm.qqplot(reg_model_stocks_1.resid, line = 'r', fit = True)"
   ]
  },
  {
   "cell_type": "code",
   "execution_count": null,
   "id": "4acd6410",
   "metadata": {},
   "outputs": [],
   "source": []
  },
  {
   "cell_type": "code",
   "execution_count": 201,
   "id": "f24cff25",
   "metadata": {},
   "outputs": [
    {
     "data": {
      "image/png": "[encoded data removed]",
      "text/plain": [
       "<Figure size 576x576 with 4 Axes>"
      ]
     },
     "metadata": {
      "needs_background": "light"
     },
     "output_type": "display_data"
    }
   ],
   "source": [
    "#Residual analysis w.r.t. roe\n",
    "\n",
    "resid_plot(reg_model_stocks_1, 'roe')"
   ]
  },
  {
   "cell_type": "code",
   "execution_count": 202,
   "id": "7c2dfbe3",
   "metadata": {},
   "outputs": [
    {
     "data": {
      "image/png": "[encoded data removed]",
      "text/plain": [
       "<Figure size 576x576 with 4 Axes>"
      ]
     },
     "metadata": {
      "needs_background": "light"
     },
     "output_type": "display_data"
    }
   ],
   "source": [
    "#Residual analysis w.r.t. dividend\n",
    "\n",
    "resid_plot(reg_model_stocks_1, 'dividend')"
   ]
  },
  {
   "cell_type": "markdown",
   "id": "664049d2",
   "metadata": {},
   "source": [
    "##### There are very few data points, hence we may choose to not consider residual plots. But going by the residual plots, dividend seems to be a better indicator of the stock price than ROE. "
   ]
  },
  {
   "cell_type": "code",
   "execution_count": 205,
   "id": "d920c2c2",
   "metadata": {},
   "outputs": [
    {
     "data": {
      "text/plain": [
       "roe         16.043336\n",
       "dividend    16.043336\n",
       "dtype: float64"
      ]
     },
     "execution_count": 205,
     "metadata": {},
     "output_type": "execute_result"
    }
   ],
   "source": [
    "#Calculating VIF\n",
    "\n",
    "vif(X)"
   ]
  },
  {
   "cell_type": "markdown",
   "id": "a35b5489",
   "metadata": {},
   "source": [
    "#### A high VIF indicates high multicollinearity. Also, for two variables, the VIF would be identical. Ref below. \n",
    "\n",
    "https://stats.stackexchange.com/questions/180928/identical-vif-tolerance-scores-multiple-regression"
   ]
  },
  {
   "cell_type": "code",
   "execution_count": 204,
   "id": "8cde7e3e",
   "metadata": {},
   "outputs": [
    {
     "data": {
      "text/plain": [
       "const       -9.953671\n",
       "roe          0.476232\n",
       "dividend    11.194324\n",
       "dtype: float64"
      ]
     },
     "execution_count": 204,
     "metadata": {},
     "output_type": "execute_result"
    }
   ],
   "source": [
    "#Retrieving the coefficients :\n",
    "\n",
    "reg_model_stocks_1.params"
   ]
  },
  {
   "cell_type": "markdown",
   "id": "e5abc610",
   "metadata": {},
   "source": [
    "#### Ans 4.a - The MLR equation is given below :\n",
    "\n",
    "stock price = const + ROE x 0.47 + dividend x 11.19"
   ]
  },
  {
   "cell_type": "markdown",
   "id": "4b526c01",
   "metadata": {},
   "source": [
    "#### Ans 4.b - Interpreting adj R2 and coefficients\n",
    "\n",
    "Adjusted R2 is .917 which means that 91.7% of the variance is explained by the model. (Ref below) \n",
    "- The interpretation of the coefficients :\n",
    "    - A 1% increase in ROE would lead to 0.47 dollar increase in the stock price\n",
    "    - A 1% increase in Dividend would lead to 11.19 dollars increase in the stock price\n",
    "\n",
    "\n",
    "https://www.ibm.com/docs/en/cognos-analytics/11.1.0?topic=terms-adjusted-r-squared"
   ]
  },
  {
   "cell_type": "markdown",
   "id": "fa79561b",
   "metadata": {},
   "source": [
    "#### Ans 4.c - Solution : Building a new model with the interaction effects, by importing sklearn. (Reference articles below)\n",
    "\n",
    "\n",
    "https://towardsdatascience.com/interaction-effect-in-multiple-regression-3091a5d0fadd\n",
    "\n",
    "https://scikit-learn.org/stable/modules/generated/sklearn.preprocessing.PolynomialFeatures.html"
   ]
  },
  {
   "cell_type": "code",
   "execution_count": 215,
   "id": "5ae61722",
   "metadata": {},
   "outputs": [
    {
     "data": {
      "text/html": [
       "<div>\n",
       "<style scoped>\n",
       "    .dataframe tbody tr th:only-of-type {\n",
       "        vertical-align: middle;\n",
       "    }\n",
       "\n",
       "    .dataframe tbody tr th {\n",
       "        vertical-align: top;\n",
       "    }\n",
       "\n",
       "    .dataframe thead th {\n",
       "        text-align: right;\n",
       "    }\n",
       "</style>\n",
       "<table border=\"1\" class=\"dataframe\">\n",
       "  <thead>\n",
       "    <tr style=\"text-align: right;\">\n",
       "      <th></th>\n",
       "      <th>roe</th>\n",
       "      <th>dividend</th>\n",
       "      <th>roe_dividend_interact</th>\n",
       "    </tr>\n",
       "  </thead>\n",
       "  <tbody>\n",
       "    <tr>\n",
       "      <th>0</th>\n",
       "      <td>13.7</td>\n",
       "      <td>2.36</td>\n",
       "      <td>32.332</td>\n",
       "    </tr>\n",
       "    <tr>\n",
       "      <th>1</th>\n",
       "      <td>12.8</td>\n",
       "      <td>3.12</td>\n",
       "      <td>39.936</td>\n",
       "    </tr>\n",
       "    <tr>\n",
       "      <th>2</th>\n",
       "      <td>6.9</td>\n",
       "      <td>2.48</td>\n",
       "      <td>17.112</td>\n",
       "    </tr>\n",
       "    <tr>\n",
       "      <th>3</th>\n",
       "      <td>12.7</td>\n",
       "      <td>2.36</td>\n",
       "      <td>29.972</td>\n",
       "    </tr>\n",
       "    <tr>\n",
       "      <th>4</th>\n",
       "      <td>15.3</td>\n",
       "      <td>1.92</td>\n",
       "      <td>29.376</td>\n",
       "    </tr>\n",
       "  </tbody>\n",
       "</table>\n",
       "</div>"
      ],
      "text/plain": [
       "    roe  dividend  roe_dividend_interact\n",
       "0  13.7      2.36                 32.332\n",
       "1  12.8      3.12                 39.936\n",
       "2   6.9      2.48                 17.112\n",
       "3  12.7      2.36                 29.972\n",
       "4  15.3      1.92                 29.376"
      ]
     },
     "execution_count": 215,
     "metadata": {},
     "output_type": "execute_result"
    }
   ],
   "source": [
    "from sklearn.preprocessing import PolynomialFeatures\n",
    "\n",
    "\n",
    "X = df_stocks [['roe','dividend']]\n",
    "\n",
    "#generating interaction terms\n",
    "x_interaction = PolynomialFeatures(2, interaction_only=True, include_bias=False).fit_transform(X)\n",
    "\n",
    "#creating a new dataframe with the interaction terms included\n",
    "df_stocks_interaction = pd.DataFrame(x_interaction, columns = ['roe','dividend','roe_dividend_interact'])\n",
    "\n",
    "df_stocks_interaction.head()\n",
    "                              "
   ]
  },
  {
   "cell_type": "code",
   "execution_count": 216,
   "id": "c0d65488",
   "metadata": {},
   "outputs": [
    {
     "name": "stdout",
     "output_type": "stream",
     "text": [
      "                            OLS Regression Results                            \n",
      "==============================================================================\n",
      "Dep. Variable:            stock_price   R-squared:                       0.938\n",
      "Model:                            OLS   Adj. R-squared:                  0.923\n",
      "Method:                 Least Squares   F-statistic:                     60.85\n",
      "Date:                Mon, 05 Sep 2022   Prob (F-statistic):           1.57e-07\n",
      "Time:                        20:06:12   Log-Likelihood:                -28.107\n",
      "No. Observations:                  16   AIC:                             64.21\n",
      "Df Residuals:                      12   BIC:                             67.31\n",
      "Df Model:                           3                                         \n",
      "Covariance Type:            nonrobust                                         \n",
      "=========================================================================================\n",
      "                            coef    std err          t      P>|t|      [0.025      0.975]\n",
      "-----------------------------------------------------------------------------------------\n",
      "const                   -44.6818     25.240     -1.770      0.102     -99.674      10.311\n",
      "roe                       2.8796      1.741      1.654      0.124      -0.914       6.673\n",
      "dividend                 25.0622     10.029      2.499      0.028       3.211      46.913\n",
      "roe_dividend_interact    -0.9590      0.691     -1.388      0.190      -2.465       0.547\n",
      "==============================================================================\n",
      "Omnibus:                        1.790   Durbin-Watson:                   2.659\n",
      "Prob(Omnibus):                  0.409   Jarque-Bera (JB):                0.964\n",
      "Skew:                           0.165   Prob(JB):                        0.617\n",
      "Kurtosis:                       1.843   Cond. No.                     2.54e+03\n",
      "==============================================================================\n",
      "\n",
      "Notes:\n",
      "[1] Standard Errors assume that the covariance matrix of the errors is correctly specified.\n",
      "[2] The condition number is large, 2.54e+03. This might indicate that there are\n",
      "strong multicollinearity or other numerical problems.\n"
     ]
    },
    {
     "name": "stderr",
     "output_type": "stream",
     "text": [
      "C:\\Users\\NageshN\\anaconda3\\lib\\site-packages\\scipy\\stats\\stats.py:1603: UserWarning: kurtosistest only valid for n>=20 ... continuing anyway, n=16\n",
      "  warnings.warn(\"kurtosistest only valid for n>=20 ... continuing \"\n"
     ]
    }
   ],
   "source": [
    "#Creating a new model with the interaction term included\n",
    "\n",
    "Y = df_stocks.stock_price\n",
    "X = df_stocks_interaction[['roe','dividend','roe_dividend_interact']]\n",
    "\n",
    "reg_model_stocks_2 = ols_fn(Y,X)\n"
   ]
  },
  {
   "cell_type": "code",
   "execution_count": 217,
   "id": "aab7f0c4",
   "metadata": {},
   "outputs": [
    {
     "data": {
      "image/png": "[encoded data removed]",
      "text/plain": [
       "<Figure size 432x288 with 1 Axes>"
      ]
     },
     "execution_count": 217,
     "metadata": {},
     "output_type": "execute_result"
    },
    {
     "data": {
      "image/png": "[encoded data removed]",
      "text/plain": [
       "<Figure size 432x288 with 1 Axes>"
      ]
     },
     "metadata": {
      "needs_background": "light"
     },
     "output_type": "display_data"
    }
   ],
   "source": [
    "#QQ plot for overall normality\n",
    "\n",
    "sm.qqplot(reg_model_stocks_2.resid, line = 'r', fit = True)"
   ]
  },
  {
   "cell_type": "markdown",
   "id": "511afa08",
   "metadata": {},
   "source": [
    "#### The  new model (Model 2)  with interaction term has a greater fit (.923) but two out of the three variables don't pass the significance test. The QQ plot also suggests a less overall normality in comparision to Model 1. Hence we can consider dropping the insignificant variables and retraining the model"
   ]
  },
  {
   "cell_type": "code",
   "execution_count": 218,
   "id": "4c38bb0a",
   "metadata": {},
   "outputs": [
    {
     "name": "stdout",
     "output_type": "stream",
     "text": [
      "                            OLS Regression Results                            \n",
      "==============================================================================\n",
      "Dep. Variable:            stock_price   R-squared:                       0.892\n",
      "Model:                            OLS   Adj. R-squared:                  0.885\n",
      "Method:                 Least Squares   F-statistic:                     116.2\n",
      "Date:                Mon, 05 Sep 2022   Prob (F-statistic):           3.67e-08\n",
      "Time:                        20:11:51   Log-Likelihood:                -32.556\n",
      "No. Observations:                  16   AIC:                             69.11\n",
      "Df Residuals:                      14   BIC:                             70.66\n",
      "Df Model:                           1                                         \n",
      "Covariance Type:            nonrobust                                         \n",
      "==============================================================================\n",
      "                 coef    std err          t      P>|t|      [0.025      0.975]\n",
      "------------------------------------------------------------------------------\n",
      "const         -3.2472      2.565     -1.266      0.226      -8.748       2.253\n",
      "dividend      11.1672      1.036     10.778      0.000       8.945      13.389\n",
      "==============================================================================\n",
      "Omnibus:                        1.437   Durbin-Watson:                   2.932\n",
      "Prob(Omnibus):                  0.487   Jarque-Bera (JB):                0.843\n",
      "Skew:                          -0.553   Prob(JB):                        0.656\n",
      "Kurtosis:                       2.793   Cond. No.                         14.9\n",
      "==============================================================================\n",
      "\n",
      "Notes:\n",
      "[1] Standard Errors assume that the covariance matrix of the errors is correctly specified.\n"
     ]
    },
    {
     "name": "stderr",
     "output_type": "stream",
     "text": [
      "C:\\Users\\NageshN\\anaconda3\\lib\\site-packages\\scipy\\stats\\stats.py:1603: UserWarning: kurtosistest only valid for n>=20 ... continuing anyway, n=16\n",
      "  warnings.warn(\"kurtosistest only valid for n>=20 ... continuing \"\n"
     ]
    }
   ],
   "source": [
    "#Dropping insignificant variables and retraining\n",
    "\n",
    "Y = df_stocks.stock_price\n",
    "X = df_stocks_interaction.drop(columns = ['roe','roe_dividend_interact'])\n",
    "\n",
    "reg_model_stocks_3 = ols_fn(Y,X)\n",
    "\n"
   ]
  },
  {
   "cell_type": "code",
   "execution_count": 219,
   "id": "06253765",
   "metadata": {},
   "outputs": [
    {
     "data": {
      "image/png": "[encoded data removed]",
      "text/plain": [
       "<Figure size 432x288 with 1 Axes>"
      ]
     },
     "execution_count": 219,
     "metadata": {},
     "output_type": "execute_result"
    },
    {
     "data": {
      "image/png": "[encoded data removed]",
      "text/plain": [
       "<Figure size 432x288 with 1 Axes>"
      ]
     },
     "metadata": {
      "needs_background": "light"
     },
     "output_type": "display_data"
    }
   ],
   "source": [
    "#QQ plot for overall normality\n",
    "\n",
    "sm.qqplot(reg_model_stocks_3.resid, line = 'r', fit = True)"
   ]
  },
  {
   "cell_type": "markdown",
   "id": "77c74956",
   "metadata": {},
   "source": [
    "#### Attempting outlier diagnostics\n",
    "\n"
   ]
  },
  {
   "cell_type": "code",
   "execution_count": 224,
   "id": "89c79eff",
   "metadata": {},
   "outputs": [
    {
     "data": {
      "image/png": "[encoded data removed]",
      "text/plain": [
       "<Figure size 432x288 with 1 Axes>"
      ]
     },
     "metadata": {
      "needs_background": "light"
     },
     "output_type": "display_data"
    }
   ],
   "source": [
    "\n",
    "influence = reg_model_stocks_3.get_influence()\n",
    "\n",
    "cooks_dist = influence.cooks_distance\n",
    "\n",
    "\n",
    "plt.scatter(df_stocks_interaction.dividend, cooks_dist[0])\n",
    "plt.xlabel('x')\n",
    "plt.ylabel('Cooks Distance')\n",
    "plt.show()"
   ]
  },
  {
   "cell_type": "code",
   "execution_count": 227,
   "id": "e6364dce",
   "metadata": {},
   "outputs": [
    {
     "data": {
      "text/html": [
       "<div>\n",
       "<style scoped>\n",
       "    .dataframe tbody tr th:only-of-type {\n",
       "        vertical-align: middle;\n",
       "    }\n",
       "\n",
       "    .dataframe tbody tr th {\n",
       "        vertical-align: top;\n",
       "    }\n",
       "\n",
       "    .dataframe thead th {\n",
       "        text-align: right;\n",
       "    }\n",
       "</style>\n",
       "<table border=\"1\" class=\"dataframe\">\n",
       "  <thead>\n",
       "    <tr style=\"text-align: right;\">\n",
       "      <th></th>\n",
       "      <th>roe</th>\n",
       "      <th>dividend</th>\n",
       "      <th>roe_dividend_interact</th>\n",
       "      <th>cooks_dist</th>\n",
       "      <th>stock_price</th>\n",
       "    </tr>\n",
       "  </thead>\n",
       "  <tbody>\n",
       "    <tr>\n",
       "      <th>1</th>\n",
       "      <td>12.8</td>\n",
       "      <td>3.12</td>\n",
       "      <td>39.936</td>\n",
       "      <td>0.219786</td>\n",
       "      <td>34.0</td>\n",
       "    </tr>\n",
       "    <tr>\n",
       "      <th>2</th>\n",
       "      <td>6.9</td>\n",
       "      <td>2.48</td>\n",
       "      <td>17.112</td>\n",
       "      <td>0.181916</td>\n",
       "      <td>20.0</td>\n",
       "    </tr>\n",
       "  </tbody>\n",
       "</table>\n",
       "</div>"
      ],
      "text/plain": [
       "    roe  dividend  roe_dividend_interact  cooks_dist  stock_price\n",
       "1  12.8      3.12                 39.936    0.219786         34.0\n",
       "2   6.9      2.48                 17.112    0.181916         20.0"
      ]
     },
     "execution_count": 227,
     "metadata": {},
     "output_type": "execute_result"
    }
   ],
   "source": [
    "#We can consider dropping the outliers greater than 0.17\n",
    "\n",
    "df_stocks_interaction['cooks_dist'] = cooks_dist[0]\n",
    "df_stocks_interaction['stock_price'] = df_stocks['stock_price'] \n",
    " \n",
    "df_stocks_interaction[df_stocks_interaction['cooks_dist'] > 0.17]"
   ]
  },
  {
   "cell_type": "code",
   "execution_count": 228,
   "id": "8b2a4499",
   "metadata": {},
   "outputs": [
    {
     "name": "stdout",
     "output_type": "stream",
     "text": [
      "<class 'pandas.core.frame.DataFrame'>\n",
      "Int64Index: 14 entries, 0 to 15\n",
      "Data columns (total 5 columns):\n",
      " #   Column                 Non-Null Count  Dtype  \n",
      "---  ------                 --------------  -----  \n",
      " 0   roe                    14 non-null     float64\n",
      " 1   dividend               14 non-null     float64\n",
      " 2   roe_dividend_interact  14 non-null     float64\n",
      " 3   cooks_dist             14 non-null     float64\n",
      " 4   stock_price            14 non-null     float64\n",
      "dtypes: float64(5)\n",
      "memory usage: 672.0 bytes\n"
     ]
    }
   ],
   "source": [
    "df_stocks_interaction_cooks = df_stocks_interaction[df_stocks_interaction['cooks_dist'] < .17]\n",
    "df_stocks_interaction_cooks.info()"
   ]
  },
  {
   "cell_type": "code",
   "execution_count": 229,
   "id": "98cd2a8d",
   "metadata": {},
   "outputs": [
    {
     "name": "stdout",
     "output_type": "stream",
     "text": [
      "                            OLS Regression Results                            \n",
      "==============================================================================\n",
      "Dep. Variable:            stock_price   R-squared:                       0.927\n",
      "Model:                            OLS   Adj. R-squared:                  0.921\n",
      "Method:                 Least Squares   F-statistic:                     152.5\n",
      "Date:                Mon, 05 Sep 2022   Prob (F-statistic):           3.51e-08\n",
      "Time:                        20:20:59   Log-Likelihood:                -24.817\n",
      "No. Observations:                  14   AIC:                             53.63\n",
      "Df Residuals:                      12   BIC:                             54.91\n",
      "Df Model:                           1                                         \n",
      "Covariance Type:            nonrobust                                         \n",
      "==============================================================================\n",
      "                 coef    std err          t      P>|t|      [0.025      0.975]\n",
      "------------------------------------------------------------------------------\n",
      "const         -2.0938      2.107     -0.994      0.340      -6.685       2.497\n",
      "dividend      10.7430      0.870     12.351      0.000       8.848      12.638\n",
      "==============================================================================\n",
      "Omnibus:                        1.941   Durbin-Watson:                   2.842\n",
      "Prob(Omnibus):                  0.379   Jarque-Bera (JB):                0.971\n",
      "Skew:                           0.195   Prob(JB):                        0.615\n",
      "Kurtosis:                       1.770   Cond. No.                         14.5\n",
      "==============================================================================\n",
      "\n",
      "Notes:\n",
      "[1] Standard Errors assume that the covariance matrix of the errors is correctly specified.\n"
     ]
    },
    {
     "name": "stderr",
     "output_type": "stream",
     "text": [
      "C:\\Users\\NageshN\\anaconda3\\lib\\site-packages\\scipy\\stats\\stats.py:1603: UserWarning: kurtosistest only valid for n>=20 ... continuing anyway, n=14\n",
      "  warnings.warn(\"kurtosistest only valid for n>=20 ... continuing \"\n"
     ]
    }
   ],
   "source": [
    "#Retraining the model after dropping the outliers\n",
    "\n",
    "Y = df_stocks_interaction_cooks.stock_price\n",
    "X = df_stocks_interaction_cooks.dividend\n",
    "\n",
    "reg_model_stocks_4 = ols_fn(Y,X)\n"
   ]
  },
  {
   "cell_type": "code",
   "execution_count": 231,
   "id": "336022c5",
   "metadata": {},
   "outputs": [
    {
     "data": {
      "image/png": "[encoded data removed]",
      "text/plain": [
       "<Figure size 432x288 with 1 Axes>"
      ]
     },
     "execution_count": 231,
     "metadata": {},
     "output_type": "execute_result"
    },
    {
     "data": {
      "image/png": "[encoded data removed]",
      "text/plain": [
       "<Figure size 432x288 with 1 Axes>"
      ]
     },
     "metadata": {
      "needs_background": "light"
     },
     "output_type": "display_data"
    }
   ],
   "source": [
    "# QQ plot\n",
    "\n",
    "sm.qqplot(reg_model_stocks_4.resid, line = 'r', fit = True)"
   ]
  },
  {
   "cell_type": "markdown",
   "id": "47d705c6",
   "metadata": {},
   "source": [
    "#### Ans4.c - After dropping the outliers and retraining the model, the Adj R2 = .921, which is nearly equal to the Adj R2 of the model with interaction variables. The model with interaction term has better fit but we drop the non-significant variables and retrain. The final model has a higher fit than the first model. Summarizing below. "
   ]
  },
  {
   "cell_type": "code",
   "execution_count": 237,
   "id": "ea0f9366",
   "metadata": {},
   "outputs": [
    {
     "name": "stdout",
     "output_type": "stream",
     "text": [
      "Model 1 - Raw - Adj RSquare 0.917\n",
      "Model 2 - Including Interaction Term - Adj RSquare 0.923\n",
      "Model 3 - Dropping Non-significant factors - Adj RSquare 0.885\n",
      "Model 4 - Dropping Outliers 0.921\n"
     ]
    }
   ],
   "source": [
    "print('Model 1 - Raw - Adj RSquare', round(reg_model_stocks_1.rsquared_adj,3) )\n",
    "print('Model 2 - Including Interaction Term - Adj RSquare', round(reg_model_stocks_2.rsquared_adj,3) )\n",
    "print('Model 3 - Dropping Non-significant factors - Adj RSquare', round(reg_model_stocks_3.rsquared_adj,3) )\n",
    "print('Model 4 - Dropping Outliers', round(reg_model_stocks_4.rsquared_adj,3) )"
   ]
  },
  {
   "cell_type": "code",
   "execution_count": null,
   "id": "7da94fc3",
   "metadata": {},
   "outputs": [],
   "source": []
  }
 ],
 "metadata": {
  "hide_input": false,
  "kernelspec": {
   "display_name": "Python 3",
   "language": "python",
   "name": "python3"
  },
  "language_info": {
   "codemirror_mode": {
    "name": "ipython",
    "version": 3
   },
   "file_extension": ".py",
   "mimetype": "text/x-python",
   "name": "python",
   "nbconvert_exporter": "python",
   "pygments_lexer": "ipython3",
   "version": "3.8.8"
  }
 },
 "nbformat": 4,
 "nbformat_minor": 5
}
