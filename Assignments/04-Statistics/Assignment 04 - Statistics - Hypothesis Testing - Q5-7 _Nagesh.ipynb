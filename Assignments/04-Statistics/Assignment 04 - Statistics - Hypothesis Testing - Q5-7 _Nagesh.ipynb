{
 "cells": [
  {
   "cell_type": "markdown",
   "id": "70bbd7be",
   "metadata": {},
   "source": [
    "### Q5-7 from Assignment 04 (Q1-4 submitted via word)"
   ]
  },
  {
   "cell_type": "code",
   "execution_count": 28,
   "id": "20e9b905",
   "metadata": {},
   "outputs": [],
   "source": [
    "import pandas as pd\n",
    "import numpy as np\n",
    "import scipy.stats as st\n",
    "import math\n",
    "import matplotlib.pyplot as plt     \n",
    "import seaborn as sns "
   ]
  },
  {
   "cell_type": "code",
   "execution_count": 7,
   "id": "a337ea03",
   "metadata": {},
   "outputs": [
    {
     "data": {
      "text/plain": [
       "0.9054713451991339"
      ]
     },
     "execution_count": 7,
     "metadata": {},
     "output_type": "execute_result"
    }
   ],
   "source": [
    "#p-Value direct formula example\n",
    "st.t.cdf(x = 1.96, df = 2)"
   ]
  },
  {
   "cell_type": "code",
   "execution_count": 18,
   "id": "179e32cc",
   "metadata": {},
   "outputs": [
    {
     "data": {
      "text/plain": [
       "0.0006741402339329738"
      ]
     },
     "execution_count": 18,
     "metadata": {},
     "output_type": "execute_result"
    }
   ],
   "source": [
    "#p-Value based on cdf example\n",
    "x = st.norm.cdf(3.2055)\n",
    "1-x"
   ]
  },
  {
   "cell_type": "markdown",
   "id": "9252a4c1",
   "metadata": {},
   "source": [
    "### Q5.  "
   ]
  },
  {
   "cell_type": "markdown",
   "id": "94a048e8",
   "metadata": {},
   "source": [
    "#### Twenty people have rated a new beer on a taste scale of 0 to 100. Their ratings are in the file Q5_Beer_Taste.xlsx. Marketing has determined that the beer will be a success if the average taste rating exceeds 76. Using a 5% significance level, is there sufficient evidence to conclude that the beer will be a success? Discuss your result in terms of a pvalue. Assume ratings are at least approximately normally distributed. \n",
    "\n",
    "Link containing the assignment data files\n",
    "\n",
    "https://github.com/Accelerate-AI/Data-Science-Global-Bootcamp/tree/main/ClassAssignment/Assignment04 \n"
   ]
  },
  {
   "cell_type": "markdown",
   "id": "4e4b2e91",
   "metadata": {},
   "source": [
    "df_beer_taste = pd.read_excel('Q5_Beer_Taste.xlsx')"
   ]
  },
  {
   "cell_type": "code",
   "execution_count": 22,
   "id": "061e8f94",
   "metadata": {},
   "outputs": [
    {
     "data": {
      "text/html": [
       "<div>\n",
       "<style scoped>\n",
       "    .dataframe tbody tr th:only-of-type {\n",
       "        vertical-align: middle;\n",
       "    }\n",
       "\n",
       "    .dataframe tbody tr th {\n",
       "        vertical-align: top;\n",
       "    }\n",
       "\n",
       "    .dataframe thead th {\n",
       "        text-align: right;\n",
       "    }\n",
       "</style>\n",
       "<table border=\"1\" class=\"dataframe\">\n",
       "  <thead>\n",
       "    <tr style=\"text-align: right;\">\n",
       "      <th></th>\n",
       "      <th>Person</th>\n",
       "      <th>Rating</th>\n",
       "    </tr>\n",
       "  </thead>\n",
       "  <tbody>\n",
       "    <tr>\n",
       "      <th>0</th>\n",
       "      <td>1</td>\n",
       "      <td>100</td>\n",
       "    </tr>\n",
       "    <tr>\n",
       "      <th>1</th>\n",
       "      <td>2</td>\n",
       "      <td>57</td>\n",
       "    </tr>\n",
       "    <tr>\n",
       "      <th>2</th>\n",
       "      <td>3</td>\n",
       "      <td>70</td>\n",
       "    </tr>\n",
       "    <tr>\n",
       "      <th>3</th>\n",
       "      <td>4</td>\n",
       "      <td>92</td>\n",
       "    </tr>\n",
       "    <tr>\n",
       "      <th>4</th>\n",
       "      <td>5</td>\n",
       "      <td>94</td>\n",
       "    </tr>\n",
       "  </tbody>\n",
       "</table>\n",
       "</div>"
      ],
      "text/plain": [
       "   Person  Rating\n",
       "0       1     100\n",
       "1       2      57\n",
       "2       3      70\n",
       "3       4      92\n",
       "4       5      94"
      ]
     },
     "execution_count": 22,
     "metadata": {},
     "output_type": "execute_result"
    }
   ],
   "source": [
    "#Exploring the data\n",
    "df_beer_taste.head()"
   ]
  },
  {
   "cell_type": "code",
   "execution_count": 23,
   "id": "cc1d9fd7",
   "metadata": {},
   "outputs": [
    {
     "data": {
      "text/html": [
       "<div>\n",
       "<style scoped>\n",
       "    .dataframe tbody tr th:only-of-type {\n",
       "        vertical-align: middle;\n",
       "    }\n",
       "\n",
       "    .dataframe tbody tr th {\n",
       "        vertical-align: top;\n",
       "    }\n",
       "\n",
       "    .dataframe thead th {\n",
       "        text-align: right;\n",
       "    }\n",
       "</style>\n",
       "<table border=\"1\" class=\"dataframe\">\n",
       "  <thead>\n",
       "    <tr style=\"text-align: right;\">\n",
       "      <th></th>\n",
       "      <th>Person</th>\n",
       "      <th>Rating</th>\n",
       "    </tr>\n",
       "  </thead>\n",
       "  <tbody>\n",
       "    <tr>\n",
       "      <th>count</th>\n",
       "      <td>60.000000</td>\n",
       "      <td>60.00000</td>\n",
       "    </tr>\n",
       "    <tr>\n",
       "      <th>mean</th>\n",
       "      <td>30.500000</td>\n",
       "      <td>79.75000</td>\n",
       "    </tr>\n",
       "    <tr>\n",
       "      <th>std</th>\n",
       "      <td>17.464249</td>\n",
       "      <td>14.50263</td>\n",
       "    </tr>\n",
       "    <tr>\n",
       "      <th>min</th>\n",
       "      <td>1.000000</td>\n",
       "      <td>48.00000</td>\n",
       "    </tr>\n",
       "    <tr>\n",
       "      <th>25%</th>\n",
       "      <td>15.750000</td>\n",
       "      <td>70.00000</td>\n",
       "    </tr>\n",
       "    <tr>\n",
       "      <th>50%</th>\n",
       "      <td>30.500000</td>\n",
       "      <td>81.50000</td>\n",
       "    </tr>\n",
       "    <tr>\n",
       "      <th>75%</th>\n",
       "      <td>45.250000</td>\n",
       "      <td>91.25000</td>\n",
       "    </tr>\n",
       "    <tr>\n",
       "      <th>max</th>\n",
       "      <td>60.000000</td>\n",
       "      <td>100.00000</td>\n",
       "    </tr>\n",
       "  </tbody>\n",
       "</table>\n",
       "</div>"
      ],
      "text/plain": [
       "          Person     Rating\n",
       "count  60.000000   60.00000\n",
       "mean   30.500000   79.75000\n",
       "std    17.464249   14.50263\n",
       "min     1.000000   48.00000\n",
       "25%    15.750000   70.00000\n",
       "50%    30.500000   81.50000\n",
       "75%    45.250000   91.25000\n",
       "max    60.000000  100.00000"
      ]
     },
     "execution_count": 23,
     "metadata": {},
     "output_type": "execute_result"
    }
   ],
   "source": [
    "#Checking key stats\n",
    "df_beer_taste.describe()"
   ]
  },
  {
   "cell_type": "code",
   "execution_count": 27,
   "id": "44a06258",
   "metadata": {},
   "outputs": [
    {
     "name": "stdout",
     "output_type": "stream",
     "text": [
      "<class 'pandas.core.frame.DataFrame'>\n",
      "RangeIndex: 60 entries, 0 to 59\n",
      "Data columns (total 2 columns):\n",
      " #   Column  Non-Null Count  Dtype\n",
      "---  ------  --------------  -----\n",
      " 0   Person  60 non-null     int64\n",
      " 1   Rating  60 non-null     int64\n",
      "dtypes: int64(2)\n",
      "memory usage: 1.1 KB\n"
     ]
    }
   ],
   "source": [
    "#Checking for null values\n",
    "df_beer_taste.info()"
   ]
  },
  {
   "cell_type": "code",
   "execution_count": 32,
   "id": "6d67df74",
   "metadata": {},
   "outputs": [
    {
     "name": "stdout",
     "output_type": "stream",
     "text": [
      "N: 60\n",
      "Mean rating: 79.75  Std. dev rating: 14.502629802433788\n"
     ]
    }
   ],
   "source": [
    "##  Find the mean and variance \n",
    "print(\"N:\", df_beer_taste.shape[0])\n",
    "\n",
    "mean = df_beer_taste.Rating.mean()\n",
    "sd = df_beer_taste.Rating.std()\n",
    "N = df_beer_taste.shape[0]\n",
    "print(\"Mean rating:\", mean, \" Std. dev rating:\", sd)"
   ]
  },
  {
   "cell_type": "code",
   "execution_count": 36,
   "id": "098abaf9",
   "metadata": {},
   "outputs": [
    {
     "data": {
      "text/plain": [
       "<matplotlib.collections.LineCollection at 0x279c9cf84f0>"
      ]
     },
     "execution_count": 36,
     "metadata": {},
     "output_type": "execute_result"
    },
    {
     "data": {
      "image/png": "[encoded data removed]",
      "text/plain": [
       "<Figure size 432x288 with 1 Axes>"
      ]
     },
     "metadata": {
      "needs_background": "light"
     },
     "output_type": "display_data"
    }
   ],
   "source": [
    "# Generating a Normal distribution plot based on the assumption that the ratings are normally distributed\n",
    "mean_rating_rv = st.norm.rvs(loc= mean, scale=sd/math.sqrt(sd), size= N)\n",
    "sns.kdeplot(mean_rating_rv)\n",
    "plt.vlines(x=mean, ymin=0, ymax=0.4, colors = 'r')"
   ]
  },
  {
   "cell_type": "code",
   "execution_count": 62,
   "id": "7b0ad542",
   "metadata": {},
   "outputs": [
    {
     "name": "stdout",
     "output_type": "stream",
     "text": [
      "z: -0.9847089542893152\n"
     ]
    }
   ],
   "source": [
    "#We will go for a 2-tailed z-test as an average person may like it more or less than the determined rating\n",
    "#Calculating the required statistics\n",
    "p_alpha = .05\n",
    "xi = 76\n",
    "x_mean = mean\n",
    "sdn = sd/math.sqrt(sd)\n",
    "\n",
    "z= (xi-x_mean)/sdn\n",
    "print('z:', z)"
   ]
  },
  {
   "cell_type": "code",
   "execution_count": 63,
   "id": "58ff6f58",
   "metadata": {},
   "outputs": [
    {
     "name": "stdout",
     "output_type": "stream",
     "text": [
      "p_z: 0.3247670531160298\n"
     ]
    }
   ],
   "source": [
    "#P-value via conventional methods\n",
    "p_z = (1 - st.norm.cdf(abs(z)))*2\n",
    "\n",
    "print('p_z:', p_z)"
   ]
  },
  {
   "cell_type": "code",
   "execution_count": 70,
   "id": "7186571c",
   "metadata": {},
   "outputs": [
    {
     "name": "stdout",
     "output_type": "stream",
     "text": [
      "The p-value is 0.049788870909513824\n"
     ]
    }
   ],
   "source": [
    "#p_value via direct method for t-test\n",
    "p_val = st.ttest_1samp(a=df_beer_taste.Rating, popmean=76, alternative='two-sided')\n",
    "\n",
    "print(f'The p-value is {p_val.pvalue}')"
   ]
  },
  {
   "cell_type": "markdown",
   "id": "9b84fd79",
   "metadata": {},
   "source": [
    "### The difference between the p values cannot be explained. \n",
    "Considering the p value found via conventional methods. Since p_z (.324) is greater than .05, we cannot reject the null hypothesis that the current rating is equal to 76"
   ]
  },
  {
   "cell_type": "markdown",
   "id": "14f4f7e8",
   "metadata": {},
   "source": [
    "## Q6\n"
   ]
  },
  {
   "cell_type": "markdown",
   "id": "dd5c4324",
   "metadata": {},
   "source": [
    "#### Q6. A market research consultant hired by a leading soft drink company wants to determine the proportion of consumers who favor its low-calorie drink over the leading competitor’s low-calorie drink in a particular urban location. A random sample of 250 consumers from the market under investigation is provided in the file Q6_Lowcalorie_Drink.xlsx. \n",
    " \n",
    "a.\tFind a 95% confidence interval for the proportion of all consumers in this market who prefer this company’s drink over the competitors. What does this confidence interval tell us? \n",
    "b.\tDoes the confidence interval in part a support the claim made by one of the company’s marketing managers that more than half of the consumers in this urban location favor its drink over the competitor’s? Explain your answer. \n",
    "c.\tComment on the sample size used in this study. Specifically, is the sample unnecessarily large? Is it too small? Explain your reasoning.  \n",
    "\n",
    "Link containing the assignment data files\n",
    "\n",
    "https://github.com/Accelerate-AI/Data-Science-Global-Bootcamp/tree/main/ClassAssignment/Assignment04 \n"
   ]
  },
  {
   "cell_type": "markdown",
   "id": "7b2c90ed",
   "metadata": {},
   "source": [
    "#### Answer - We will apply normal distribution for proportions"
   ]
  },
  {
   "cell_type": "code",
   "execution_count": 74,
   "id": "126d9cda",
   "metadata": {},
   "outputs": [],
   "source": [
    "df_drink = pd.read_excel('Q6_Lowcalorie_Drink.xlsx')"
   ]
  },
  {
   "cell_type": "code",
   "execution_count": 76,
   "id": "f74ceb03",
   "metadata": {},
   "outputs": [
    {
     "data": {
      "text/html": [
       "<div>\n",
       "<style scoped>\n",
       "    .dataframe tbody tr th:only-of-type {\n",
       "        vertical-align: middle;\n",
       "    }\n",
       "\n",
       "    .dataframe tbody tr th {\n",
       "        vertical-align: top;\n",
       "    }\n",
       "\n",
       "    .dataframe thead th {\n",
       "        text-align: right;\n",
       "    }\n",
       "</style>\n",
       "<table border=\"1\" class=\"dataframe\">\n",
       "  <thead>\n",
       "    <tr style=\"text-align: right;\">\n",
       "      <th></th>\n",
       "      <th>Consumer</th>\n",
       "      <th>Gender</th>\n",
       "      <th>Age</th>\n",
       "      <th>Preference</th>\n",
       "    </tr>\n",
       "  </thead>\n",
       "  <tbody>\n",
       "    <tr>\n",
       "      <th>0</th>\n",
       "      <td>1</td>\n",
       "      <td>F</td>\n",
       "      <td>Over 60</td>\n",
       "      <td>Our brand</td>\n",
       "    </tr>\n",
       "    <tr>\n",
       "      <th>1</th>\n",
       "      <td>2</td>\n",
       "      <td>F</td>\n",
       "      <td>Between 40 and 60</td>\n",
       "      <td>Our brand</td>\n",
       "    </tr>\n",
       "    <tr>\n",
       "      <th>2</th>\n",
       "      <td>3</td>\n",
       "      <td>M</td>\n",
       "      <td>Between 40 and 60</td>\n",
       "      <td>Our brand</td>\n",
       "    </tr>\n",
       "    <tr>\n",
       "      <th>3</th>\n",
       "      <td>4</td>\n",
       "      <td>F</td>\n",
       "      <td>Over 60</td>\n",
       "      <td>Competing brand</td>\n",
       "    </tr>\n",
       "    <tr>\n",
       "      <th>4</th>\n",
       "      <td>5</td>\n",
       "      <td>M</td>\n",
       "      <td>Between 20 and 40</td>\n",
       "      <td>Our brand</td>\n",
       "    </tr>\n",
       "  </tbody>\n",
       "</table>\n",
       "</div>"
      ],
      "text/plain": [
       "   Consumer Gender                Age       Preference\n",
       "0         1      F            Over 60        Our brand\n",
       "1         2      F  Between 40 and 60        Our brand\n",
       "2         3      M  Between 40 and 60        Our brand\n",
       "3         4      F            Over 60  Competing brand\n",
       "4         5      M  Between 20 and 40        Our brand"
      ]
     },
     "execution_count": 76,
     "metadata": {},
     "output_type": "execute_result"
    }
   ],
   "source": [
    "df_drink.head()"
   ]
  },
  {
   "cell_type": "code",
   "execution_count": 75,
   "id": "0afdcc58",
   "metadata": {},
   "outputs": [
    {
     "name": "stdout",
     "output_type": "stream",
     "text": [
      "<class 'pandas.core.frame.DataFrame'>\n",
      "RangeIndex: 250 entries, 0 to 249\n",
      "Data columns (total 4 columns):\n",
      " #   Column      Non-Null Count  Dtype \n",
      "---  ------      --------------  ----- \n",
      " 0   Consumer    250 non-null    int64 \n",
      " 1   Gender      250 non-null    object\n",
      " 2   Age         250 non-null    object\n",
      " 3   Preference  250 non-null    object\n",
      "dtypes: int64(1), object(3)\n",
      "memory usage: 7.9+ KB\n"
     ]
    }
   ],
   "source": [
    "#Checking data quality\n",
    "df_drink.info()"
   ]
  },
  {
   "cell_type": "code",
   "execution_count": 80,
   "id": "35fd84f3",
   "metadata": {},
   "outputs": [
    {
     "data": {
      "text/plain": [
       "Our brand          134\n",
       "Competing brand    116\n",
       "Name: Preference, dtype: int64"
      ]
     },
     "execution_count": 80,
     "metadata": {},
     "output_type": "execute_result"
    }
   ],
   "source": [
    "df_drink['Preference'].value_counts()"
   ]
  },
  {
   "cell_type": "code",
   "execution_count": 98,
   "id": "cda64436",
   "metadata": {},
   "outputs": [
    {
     "name": "stdout",
     "output_type": "stream",
     "text": [
      "N: 250\n",
      "Mean proportion: 0.536  Std. dev prop: 0.031540703860250166\n"
     ]
    }
   ],
   "source": [
    "#Statistics \n",
    "\n",
    "n = df_drink['Preference'].shape[0]\n",
    "p = df_drink['Preference'].value_counts()['Our brand']/df_drink['Preference'].shape[0]\n",
    "sd = math.sqrt(p*(1-p)/n)\n",
    "\n",
    "\n",
    "##  Find the mean and variance \n",
    "print(\"N:\", n)\n",
    "\n",
    "mean = p\n",
    "sd = sd\n",
    "N = df_drink['Preference'].shape[0]\n",
    "print(\"Mean proportion:\", mean, \" Std. dev prop:\", sd)"
   ]
  },
  {
   "cell_type": "code",
   "execution_count": 93,
   "id": "fec61dec",
   "metadata": {},
   "outputs": [
    {
     "data": {
      "text/plain": [
       "(0.4738794209159352, 0.5981205790840648)"
      ]
     },
     "execution_count": 93,
     "metadata": {},
     "output_type": "execute_result"
    }
   ],
   "source": [
    "#Geenerating the confidence interval (Ans6.a)\n",
    "st.t.interval(alpha=0.95, df=n-1, loc=mean, scale=sd)"
   ]
  },
  {
   "cell_type": "markdown",
   "id": "7817f144",
   "metadata": {},
   "source": [
    "#### Ans 6a - Based on the confidence interval we can say that between 47% to 59% of the company's consumers prefer their brand over the competitor's."
   ]
  },
  {
   "cell_type": "markdown",
   "id": "c3ce267c",
   "metadata": {},
   "source": [
    "#### Q6b.\tDoes the confidence interval in part a support the claim made by one of the company’s marketing managers that more than half of the consumers in this urban location favor its drink over the competitor’s? Explain your answer. "
   ]
  },
  {
   "cell_type": "markdown",
   "id": "c84da4eb",
   "metadata": {},
   "source": [
    "##### Approach - We can test this by finding the overlap when the mean is assumed to be 0.5"
   ]
  },
  {
   "cell_type": "code",
   "execution_count": 97,
   "id": "348fc473",
   "metadata": {},
   "outputs": [
    {
     "data": {
      "text/plain": [
       "(0.43771777562585346, 0.5622822243741465)"
      ]
     },
     "execution_count": 97,
     "metadata": {},
     "output_type": "execute_result"
    }
   ],
   "source": [
    "#Calculating the probability that more than 50\n",
    "p2 = .5\n",
    "sd2 = math.sqrt(p2*(1-p2)/n)\n",
    "st.t.interval(alpha=0.95, df=n-1, loc=p2, scale=sd2)"
   ]
  },
  {
   "cell_type": "markdown",
   "id": "aa0b1e9a",
   "metadata": {},
   "source": [
    "#### Ans 6b - Since the ranges overlap, we can say that the confidence interval in part supports the claim made by the marketing manager that more than half of the consumers favor the company's drink over the competitors"
   ]
  },
  {
   "cell_type": "markdown",
   "id": "629b42d0",
   "metadata": {},
   "source": [
    "#### Q6c.\tComment on the sample size used in this study. Specifically, is the sample unnecessarily large? Is it too small? Explain your reasoning.  \n"
   ]
  },
  {
   "cell_type": "markdown",
   "id": "e0862f4e",
   "metadata": {},
   "source": [
    "##### Approach - We can calculate sample size using the Cochran's formula"
   ]
  },
  {
   "cell_type": "code",
   "execution_count": 101,
   "id": "6db6ce73",
   "metadata": {},
   "outputs": [
    {
     "name": "stdout",
     "output_type": "stream",
     "text": [
      "The appropriate sample size : 741.0493827160481\n"
     ]
    }
   ],
   "source": [
    "# Inputs\n",
    "\n",
    "e = p2 - mean # Calculating margin of error based on required proportion and estimated proportion\n",
    "z = 1.96\n",
    "p = 0.5\n",
    "q = 0.5\n",
    "\n",
    "n = z*z*p*q/(e*e)\n",
    " \n",
    "print('The appropriate sample size :', n)"
   ]
  },
  {
   "cell_type": "markdown",
   "id": "cb2ed8d9",
   "metadata": {},
   "source": [
    "#### Ans 6c - The appropriate sample size is 741 as per Cochran's formula. "
   ]
  },
  {
   "cell_type": "markdown",
   "id": "8c3cd5dd",
   "metadata": {},
   "source": [
    "### Q7"
   ]
  },
  {
   "cell_type": "markdown",
   "id": "d91ed628",
   "metadata": {},
   "source": [
    "#### Q7. A large buyer of household batteries wants to decide which of two equally priced brands to purchase. To do this, he takes a random sample of 100 batteries of each brand. The lifetimes, measured in hours, of the batteries are recorded in the file Q7_Battery_life.xlsx. Before testing for the difference between the mean lifetimes of these two batteries, he must first determine whether the underlying population variances are equal. \n",
    "a.\tPerform a test for equal population variances.  Report a p-value and interpret its meaning. \n",
    "b.\tBased on your conclusion in part a, which test statistic should be used in performing a test for the difference between population means?  \n",
    " \n",
    " \n",
    " \n",
    "All data files are posted at the link below: \n",
    "https://github.com/Accelerate-AI/Data-Science-GlobalBootcamp/tree/main/ClassAssignment/Assignment04 \n",
    " \n"
   ]
  },
  {
   "cell_type": "markdown",
   "id": "64856aed",
   "metadata": {},
   "source": [
    "#### Approach - Assuming normal distribution, we will use the Levine Test\n",
    "\n",
    "Ref Link\n",
    "https://docs.scipy.org/doc/scipy/reference/generated/scipy.stats.levene.html"
   ]
  },
  {
   "cell_type": "code",
   "execution_count": 107,
   "id": "6cf39374",
   "metadata": {},
   "outputs": [],
   "source": [
    "df_battery_life_brand_1 = pd.read_excel('Q7_Battery_life.xlsx', 'Brand1')\n",
    "df_battery_life_brand_2 = pd.read_excel('Q7_Battery_life.xlsx', 'Brand2')"
   ]
  },
  {
   "cell_type": "code",
   "execution_count": 109,
   "id": "36bbabcf",
   "metadata": {},
   "outputs": [
    {
     "data": {
      "text/html": [
       "<div>\n",
       "<style scoped>\n",
       "    .dataframe tbody tr th:only-of-type {\n",
       "        vertical-align: middle;\n",
       "    }\n",
       "\n",
       "    .dataframe tbody tr th {\n",
       "        vertical-align: top;\n",
       "    }\n",
       "\n",
       "    .dataframe thead th {\n",
       "        text-align: right;\n",
       "    }\n",
       "</style>\n",
       "<table border=\"1\" class=\"dataframe\">\n",
       "  <thead>\n",
       "    <tr style=\"text-align: right;\">\n",
       "      <th></th>\n",
       "      <th>Battery</th>\n",
       "      <th>Lifetime</th>\n",
       "    </tr>\n",
       "  </thead>\n",
       "  <tbody>\n",
       "    <tr>\n",
       "      <th>0</th>\n",
       "      <td>1</td>\n",
       "      <td>99.11</td>\n",
       "    </tr>\n",
       "    <tr>\n",
       "      <th>1</th>\n",
       "      <td>2</td>\n",
       "      <td>99.45</td>\n",
       "    </tr>\n",
       "    <tr>\n",
       "      <th>2</th>\n",
       "      <td>3</td>\n",
       "      <td>98.39</td>\n",
       "    </tr>\n",
       "    <tr>\n",
       "      <th>3</th>\n",
       "      <td>4</td>\n",
       "      <td>97.07</td>\n",
       "    </tr>\n",
       "    <tr>\n",
       "      <th>4</th>\n",
       "      <td>5</td>\n",
       "      <td>99.97</td>\n",
       "    </tr>\n",
       "  </tbody>\n",
       "</table>\n",
       "</div>"
      ],
      "text/plain": [
       "   Battery  Lifetime\n",
       "0        1     99.11\n",
       "1        2     99.45\n",
       "2        3     98.39\n",
       "3        4     97.07\n",
       "4        5     99.97"
      ]
     },
     "execution_count": 109,
     "metadata": {},
     "output_type": "execute_result"
    }
   ],
   "source": [
    "df_battery_life_brand_1.head()"
   ]
  },
  {
   "cell_type": "code",
   "execution_count": 110,
   "id": "97ade0c4",
   "metadata": {},
   "outputs": [
    {
     "data": {
      "text/html": [
       "<div>\n",
       "<style scoped>\n",
       "    .dataframe tbody tr th:only-of-type {\n",
       "        vertical-align: middle;\n",
       "    }\n",
       "\n",
       "    .dataframe tbody tr th {\n",
       "        vertical-align: top;\n",
       "    }\n",
       "\n",
       "    .dataframe thead th {\n",
       "        text-align: right;\n",
       "    }\n",
       "</style>\n",
       "<table border=\"1\" class=\"dataframe\">\n",
       "  <thead>\n",
       "    <tr style=\"text-align: right;\">\n",
       "      <th></th>\n",
       "      <th>Battery</th>\n",
       "      <th>Lifetime</th>\n",
       "    </tr>\n",
       "  </thead>\n",
       "  <tbody>\n",
       "    <tr>\n",
       "      <th>0</th>\n",
       "      <td>1</td>\n",
       "      <td>110.65</td>\n",
       "    </tr>\n",
       "    <tr>\n",
       "      <th>1</th>\n",
       "      <td>2</td>\n",
       "      <td>92.24</td>\n",
       "    </tr>\n",
       "    <tr>\n",
       "      <th>2</th>\n",
       "      <td>3</td>\n",
       "      <td>96.63</td>\n",
       "    </tr>\n",
       "    <tr>\n",
       "      <th>3</th>\n",
       "      <td>4</td>\n",
       "      <td>99.45</td>\n",
       "    </tr>\n",
       "    <tr>\n",
       "      <th>4</th>\n",
       "      <td>5</td>\n",
       "      <td>102.55</td>\n",
       "    </tr>\n",
       "  </tbody>\n",
       "</table>\n",
       "</div>"
      ],
      "text/plain": [
       "   Battery  Lifetime\n",
       "0        1    110.65\n",
       "1        2     92.24\n",
       "2        3     96.63\n",
       "3        4     99.45\n",
       "4        5    102.55"
      ]
     },
     "execution_count": 110,
     "metadata": {},
     "output_type": "execute_result"
    }
   ],
   "source": [
    "df_battery_life_brand_2.head()"
   ]
  },
  {
   "cell_type": "code",
   "execution_count": 111,
   "id": "f4112ba8",
   "metadata": {},
   "outputs": [
    {
     "name": "stdout",
     "output_type": "stream",
     "text": [
      "<class 'pandas.core.frame.DataFrame'>\n",
      "RangeIndex: 100 entries, 0 to 99\n",
      "Data columns (total 2 columns):\n",
      " #   Column    Non-Null Count  Dtype  \n",
      "---  ------    --------------  -----  \n",
      " 0   Battery   100 non-null    int64  \n",
      " 1   Lifetime  100 non-null    float64\n",
      "dtypes: float64(1), int64(1)\n",
      "memory usage: 1.7 KB\n"
     ]
    }
   ],
   "source": [
    "df_battery_life_brand_1.info() #Checking data quality"
   ]
  },
  {
   "cell_type": "code",
   "execution_count": 112,
   "id": "e0c8a758",
   "metadata": {},
   "outputs": [
    {
     "name": "stdout",
     "output_type": "stream",
     "text": [
      "<class 'pandas.core.frame.DataFrame'>\n",
      "RangeIndex: 100 entries, 0 to 99\n",
      "Data columns (total 2 columns):\n",
      " #   Column    Non-Null Count  Dtype  \n",
      "---  ------    --------------  -----  \n",
      " 0   Battery   100 non-null    int64  \n",
      " 1   Lifetime  100 non-null    float64\n",
      "dtypes: float64(1), int64(1)\n",
      "memory usage: 1.7 KB\n"
     ]
    }
   ],
   "source": [
    "df_battery_life_brand_2.info() #Checking data quality"
   ]
  },
  {
   "cell_type": "code",
   "execution_count": 115,
   "id": "ccd21dfb",
   "metadata": {},
   "outputs": [],
   "source": [
    "#Calculating the mean and standard  deviation for both datasets\n",
    "\n",
    "mean1 = df_battery_life_brand_1.Lifetime.mean()\n",
    "sd1 = df_battery_life_brand_1.Lifetime.std()\n",
    "N1 = df_battery_life_brand_1.Lifetime.shape[0]\n",
    "\n",
    "mean2 = df_battery_life_brand_2.Lifetime.mean()\n",
    "sd2 = df_battery_life_brand_2.Lifetime.std()\n",
    "N2 = df_battery_life_brand_2.Lifetime.shape[0]"
   ]
  },
  {
   "cell_type": "code",
   "execution_count": null,
   "id": "0a740980",
   "metadata": {},
   "outputs": [],
   "source": []
  },
  {
   "cell_type": "code",
   "execution_count": 116,
   "id": "e3814948",
   "metadata": {},
   "outputs": [
    {
     "data": {
      "text/plain": [
       "<matplotlib.collections.LineCollection at 0x279c7651580>"
      ]
     },
     "execution_count": 116,
     "metadata": {},
     "output_type": "execute_result"
    },
    {
     "data": {
      "image/png": "[encoded data removed]",
      "text/plain": [
       "<Figure size 432x288 with 1 Axes>"
      ]
     },
     "metadata": {
      "needs_background": "light"
     },
     "output_type": "display_data"
    }
   ],
   "source": [
    "# Generating a Normal distribution plot based on the assumption that the ratings are normally distributed\n",
    "mean_rating_rv1 = st.norm.rvs(loc= mean1, scale=sd1/math.sqrt(sd1), size= N1)\n",
    "sns.kdeplot(mean_rating_rv1)\n",
    "plt.vlines(x=mean1, ymin=0, ymax=0.4, colors = 'r')"
   ]
  },
  {
   "cell_type": "code",
   "execution_count": 118,
   "id": "775c9fed",
   "metadata": {},
   "outputs": [
    {
     "data": {
      "text/plain": [
       "<matplotlib.collections.LineCollection at 0x279c9c8c040>"
      ]
     },
     "execution_count": 118,
     "metadata": {},
     "output_type": "execute_result"
    },
    {
     "data": {
      "image/png": "[encoded data removed]",
      "text/plain": [
       "<Figure size 432x288 with 1 Axes>"
      ]
     },
     "metadata": {
      "needs_background": "light"
     },
     "output_type": "display_data"
    }
   ],
   "source": [
    "# Generating a Normal distribution plot based on the assumption that the ratings are normally distributed\n",
    "mean_rating_rv2 = st.norm.rvs(loc= mean2, scale=sd/math.sqrt(sd2), size= N2)\n",
    "sns.kdeplot(mean_rating_rv2)\n",
    "plt.vlines(x=mean2, ymin=0, ymax=0.4, colors = 'g')"
   ]
  },
  {
   "cell_type": "markdown",
   "id": "8e66b17a",
   "metadata": {},
   "source": [
    "### Based on the visualizations, we can assume that both the samples are normally distributed. We can also calculate skewness to test them"
   ]
  },
  {
   "cell_type": "code",
   "execution_count": 121,
   "id": "3d88e734",
   "metadata": {},
   "outputs": [
    {
     "name": "stdout",
     "output_type": "stream",
     "text": [
      "The skewness of dataset 1 is :  -0.06853348228066203\n",
      "The skewness of dataset 1 is :  -0.15066080738424414\n"
     ]
    }
   ],
   "source": [
    "#Ref - \n",
    "#https://docs.scipy.org/doc/scipy/reference/generated/scipy.stats.skew.html\n",
    "\n",
    "from scipy.stats import skew\n",
    "  \n",
    "# Creating datasets\n",
    "dataset1 = df_battery_life_brand_1.Lifetime\n",
    "dataset2 = df_battery_life_brand_2.Lifetime\n",
    "  \n",
    "# Calculate the skewness\n",
    "print('The skewness of dataset 1 is : ', skew(dataset1, axis=None, bias=True))\n",
    "print('The skewness of dataset 1 is : ', skew(dataset2, axis=None, bias=True))"
   ]
  },
  {
   "cell_type": "markdown",
   "id": "037fc8b0",
   "metadata": {},
   "source": [
    "#### Based on the below reference, the skewness can be accepted. (Acceptable range between -2 and +2)\n",
    "\n",
    "https://www.researchgate.net/post/What_is_the_acceptable_range_of_skewness_and_kurtosis_for_normal_distribution_of_data"
   ]
  },
  {
   "cell_type": "code",
   "execution_count": 124,
   "id": "815049c1",
   "metadata": {},
   "outputs": [
    {
     "name": "stdout",
     "output_type": "stream",
     "text": [
      "The p value for Population variance comparision is :  1.8999110861507269e-10\n"
     ]
    }
   ],
   "source": [
    "#Applying the levene test\n",
    "\n",
    "#Ref - https://docs.scipy.org/doc/scipy/reference/generated/scipy.stats.levene.html\n",
    "\n",
    "stat, p_levene = scipy.stats.levene(dataset1, dataset2)\n",
    "\n",
    "print('The p value for Population variance comparision is : ', p_levene)"
   ]
  },
  {
   "cell_type": "markdown",
   "id": "a193c016",
   "metadata": {},
   "source": [
    "#### Ans 7a - The test has been performed using Levene test. The p value is low (1.8999110861507269e-10), hence we can conclude that the population variances are not equal"
   ]
  },
  {
   "attachments": {},
   "cell_type": "markdown",
   "id": "d016f3c4",
   "metadata": {},
   "source": [
    "#### Ans 7b - As we have unequal variances, we use a 2-group t test (for indpendent variables), ref below. Since it is a large sample size, the pooled variance formula would be as mentioned below.\n",
    "\n",
    "\n",
    "\n",
    "https://www.isixsigma.com/tools-templates/hypothesis-testing/making-sense-two-sample-t-test/"
   ]
  },
  {
   "attachments": {
    "Pooled%20variance%20for%20large%20samples.JPG": {
     "image/jpeg": "[encoded data removed]"
    }
   },
   "cell_type": "markdown",
   "id": "e92d797e",
   "metadata": {},
   "source": [
    "![Pooled%20variance%20for%20large%20samples.JPG](attachment:Pooled%20variance%20for%20large%20samples.JPG)"
   ]
  },
  {
   "cell_type": "code",
   "execution_count": null,
   "id": "851fe632",
   "metadata": {},
   "outputs": [],
   "source": []
  }
 ],
 "metadata": {
  "hide_input": false,
  "kernelspec": {
   "display_name": "Python 3",
   "language": "python",
   "name": "python3"
  },
  "language_info": {
   "codemirror_mode": {
    "name": "ipython",
    "version": 3
   },
   "file_extension": ".py",
   "mimetype": "text/x-python",
   "name": "python",
   "nbconvert_exporter": "python",
   "pygments_lexer": "ipython3",
   "version": "3.8.8"
  }
 },
 "nbformat": 4,
 "nbformat_minor": 5
}
